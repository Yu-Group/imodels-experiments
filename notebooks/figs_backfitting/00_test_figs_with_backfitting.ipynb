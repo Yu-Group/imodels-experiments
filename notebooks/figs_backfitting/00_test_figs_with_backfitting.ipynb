{
 "cells": [
  {
   "cell_type": "code",
   "execution_count": 37,
   "metadata": {
    "collapsed": true
   },
   "outputs": [],
   "source": [
    "import numpy as np\n",
    "import pandas as pd\n",
    "import sys\n",
    "sys.path.append(\"..\")\n",
    "\n",
    "from sklearn.metrics import mean_squared_error\n",
    "from sklearn.model_selection import train_test_split, GridSearchCV, ParameterGrid\n",
    "import sklearn\n",
    "\n",
    "from figs_ensembles import FIGSExt\n",
    "from imodels.tree.figs import FIGSRegressor"
   ]
  },
  {
   "cell_type": "markdown",
   "source": [
    "## Linear model simulation"
   ],
   "metadata": {
    "collapsed": false,
    "pycharm": {
     "name": "#%% md\n"
    }
   }
  },
  {
   "cell_type": "code",
   "execution_count": 10,
   "outputs": [],
   "source": [
    "n = 200\n",
    "d = 20\n",
    "\n",
    "X = np.random.randn(n, d)\n",
    "beta = np.zeros(d)\n",
    "beta[[0,1,2,3,4]] = 1\n",
    "sigma = 0.1\n",
    "y = X @ beta + np.random.randn(n) * sigma\n",
    "\n",
    "X_train, X_test, y_train, y_test = train_test_split(X, y, test_size=0.5)"
   ],
   "metadata": {
    "collapsed": false,
    "pycharm": {
     "name": "#%%\n"
    }
   }
  },
  {
   "cell_type": "code",
   "execution_count": 41,
   "outputs": [],
   "source": [
    "k1_grid = np.arange(5) * 2\n",
    "k2_grid = np.arange(5) * 2\n",
    "max_rules_grid = np.arange(5) * 10\n",
    "\n",
    "params = {\"k1\" : k1_grid,\n",
    "          \"k2\" : k2_grid,\n",
    "          \"max_rules\" : max_rules_grid}\n",
    "\n",
    "grid_search = GridSearchCV(FIGSExt(),\n",
    "                           params,\n",
    "                           scoring=\"neg_mean_squared_error\",\n",
    "                           cv=5)"
   ],
   "metadata": {
    "collapsed": false,
    "pycharm": {
     "name": "#%%\n"
    }
   }
  },
  {
   "cell_type": "code",
   "execution_count": 42,
   "outputs": [
    {
     "data": {
      "text/plain": "GridSearchCV(cv=5, estimator=FIGSExt(),\n             param_grid={'k1': array([0, 2, 4, 6, 8]),\n                         'k2': array([0, 2, 4, 6, 8]),\n                         'max_rules': array([ 0, 10, 20, 30, 40])},\n             scoring='neg_mean_squared_error')"
     },
     "execution_count": 42,
     "metadata": {},
     "output_type": "execute_result"
    }
   ],
   "source": [
    "grid_search.fit(X, y)"
   ],
   "metadata": {
    "collapsed": false,
    "pycharm": {
     "name": "#%%\n"
    }
   }
  },
  {
   "cell_type": "code",
   "execution_count": 55,
   "outputs": [],
   "source": [
    "results = grid_search.cv_results_\n",
    "results_df = pd.DataFrame(results)"
   ],
   "metadata": {
    "collapsed": false,
    "pycharm": {
     "name": "#%%\n"
    }
   }
  },
  {
   "cell_type": "code",
   "execution_count": 63,
   "outputs": [
    {
     "data": {
      "text/plain": "    param_k1 param_k2  mean_test_score\n3          0        0        -1.252018\n8          0        2        -1.278903\n13         0        4        -1.274491\n18         0        6        -1.264378\n23         0        8        -1.245081\n28         2        0        -0.953235\n33         2        2        -0.955085\n38         2        4        -0.955243\n43         2        6        -0.955258\n48         2        8        -0.955258\n53         4        0        -0.874179\n58         4        2        -0.874352\n63         4        4        -0.874375\n68         4        6        -0.874378\n73         4        8        -0.874379\n78         6        0        -0.874352\n83         6        2        -0.874375\n88         6        4        -0.874378\n93         6        6        -0.874379\n98         6        8        -0.874379\n103        8        0        -0.874375\n108        8        2        -0.874378\n113        8        4        -0.874379\n118        8        6        -0.874379\n123        8        8        -0.874379",
      "text/html": "<div>\n<style scoped>\n    .dataframe tbody tr th:only-of-type {\n        vertical-align: middle;\n    }\n\n    .dataframe tbody tr th {\n        vertical-align: top;\n    }\n\n    .dataframe thead th {\n        text-align: right;\n    }\n</style>\n<table border=\"1\" class=\"dataframe\">\n  <thead>\n    <tr style=\"text-align: right;\">\n      <th></th>\n      <th>param_k1</th>\n      <th>param_k2</th>\n      <th>mean_test_score</th>\n    </tr>\n  </thead>\n  <tbody>\n    <tr>\n      <th>3</th>\n      <td>0</td>\n      <td>0</td>\n      <td>-1.252018</td>\n    </tr>\n    <tr>\n      <th>8</th>\n      <td>0</td>\n      <td>2</td>\n      <td>-1.278903</td>\n    </tr>\n    <tr>\n      <th>13</th>\n      <td>0</td>\n      <td>4</td>\n      <td>-1.274491</td>\n    </tr>\n    <tr>\n      <th>18</th>\n      <td>0</td>\n      <td>6</td>\n      <td>-1.264378</td>\n    </tr>\n    <tr>\n      <th>23</th>\n      <td>0</td>\n      <td>8</td>\n      <td>-1.245081</td>\n    </tr>\n    <tr>\n      <th>28</th>\n      <td>2</td>\n      <td>0</td>\n      <td>-0.953235</td>\n    </tr>\n    <tr>\n      <th>33</th>\n      <td>2</td>\n      <td>2</td>\n      <td>-0.955085</td>\n    </tr>\n    <tr>\n      <th>38</th>\n      <td>2</td>\n      <td>4</td>\n      <td>-0.955243</td>\n    </tr>\n    <tr>\n      <th>43</th>\n      <td>2</td>\n      <td>6</td>\n      <td>-0.955258</td>\n    </tr>\n    <tr>\n      <th>48</th>\n      <td>2</td>\n      <td>8</td>\n      <td>-0.955258</td>\n    </tr>\n    <tr>\n      <th>53</th>\n      <td>4</td>\n      <td>0</td>\n      <td>-0.874179</td>\n    </tr>\n    <tr>\n      <th>58</th>\n      <td>4</td>\n      <td>2</td>\n      <td>-0.874352</td>\n    </tr>\n    <tr>\n      <th>63</th>\n      <td>4</td>\n      <td>4</td>\n      <td>-0.874375</td>\n    </tr>\n    <tr>\n      <th>68</th>\n      <td>4</td>\n      <td>6</td>\n      <td>-0.874378</td>\n    </tr>\n    <tr>\n      <th>73</th>\n      <td>4</td>\n      <td>8</td>\n      <td>-0.874379</td>\n    </tr>\n    <tr>\n      <th>78</th>\n      <td>6</td>\n      <td>0</td>\n      <td>-0.874352</td>\n    </tr>\n    <tr>\n      <th>83</th>\n      <td>6</td>\n      <td>2</td>\n      <td>-0.874375</td>\n    </tr>\n    <tr>\n      <th>88</th>\n      <td>6</td>\n      <td>4</td>\n      <td>-0.874378</td>\n    </tr>\n    <tr>\n      <th>93</th>\n      <td>6</td>\n      <td>6</td>\n      <td>-0.874379</td>\n    </tr>\n    <tr>\n      <th>98</th>\n      <td>6</td>\n      <td>8</td>\n      <td>-0.874379</td>\n    </tr>\n    <tr>\n      <th>103</th>\n      <td>8</td>\n      <td>0</td>\n      <td>-0.874375</td>\n    </tr>\n    <tr>\n      <th>108</th>\n      <td>8</td>\n      <td>2</td>\n      <td>-0.874378</td>\n    </tr>\n    <tr>\n      <th>113</th>\n      <td>8</td>\n      <td>4</td>\n      <td>-0.874379</td>\n    </tr>\n    <tr>\n      <th>118</th>\n      <td>8</td>\n      <td>6</td>\n      <td>-0.874379</td>\n    </tr>\n    <tr>\n      <th>123</th>\n      <td>8</td>\n      <td>8</td>\n      <td>-0.874379</td>\n    </tr>\n  </tbody>\n</table>\n</div>"
     },
     "execution_count": 63,
     "metadata": {},
     "output_type": "execute_result"
    }
   ],
   "source": [
    "results_df[results_df[\"param_max_rules\"]==30][[\"param_k1\", \"param_k2\", \"mean_test_score\"]]"
   ],
   "metadata": {
    "collapsed": false,
    "pycharm": {
     "name": "#%%\n"
    }
   }
  },
  {
   "cell_type": "markdown",
   "source": [
    "## LSS sim"
   ],
   "metadata": {
    "collapsed": false,
    "pycharm": {
     "name": "#%% md\n"
    }
   }
  }
 ],
 "metadata": {
  "kernelspec": {
   "display_name": "Python 3",
   "language": "python",
   "name": "python3"
  },
  "language_info": {
   "codemirror_mode": {
    "name": "ipython",
    "version": 2
   },
   "file_extension": ".py",
   "mimetype": "text/x-python",
   "name": "python",
   "nbconvert_exporter": "python",
   "pygments_lexer": "ipython2",
   "version": "2.7.6"
  }
 },
 "nbformat": 4,
 "nbformat_minor": 0
}