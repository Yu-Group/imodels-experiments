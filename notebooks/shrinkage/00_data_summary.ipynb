{
 "cells": [
  {
   "cell_type": "code",
   "execution_count": 1,
   "metadata": {},
   "outputs": [],
   "source": [
    "%load_ext autoreload\n",
    "%autoreload 2\n",
    "import os\n",
    "\n",
    "import matplotlib as mpl\n",
    "import numpy as np\n",
    "import pandas as pd\n",
    "from util import DATASET_PATH\n",
    "\n",
    "mpl.rcParams['figure.dpi'] = 250\n",
    "\n",
    "# change working directory to project root\n",
    "if os.getcwd().split('/')[-1] == 'notebooks':\n",
    "    os.chdir('../..')\n",
    "from imodels.util.data_util import get_clean_dataset\n",
    "from config.shrinkage.datasets import DATASETS_CLASSIFICATION, DATASETS_REGRESSION\n",
    "\n",
    "pd.options.display.max_rows = 100"
   ]
  },
  {
   "cell_type": "code",
   "execution_count": 2,
   "metadata": {},
   "outputs": [],
   "source": [
    "def add_citations(m_print):\n",
    "    citations = {'ionosphere': 'sigillito1989classification',\n",
    "             'diabetes': 'smith1988using', \n",
    "#              'german-credit': '',\n",
    "             'juvenile': 'osofsky1997effects',\n",
    "             'credit': 'yeh2009comparisons',\n",
    "#              'recidivism',\n",
    "#              'readmission': '',\n",
    "                 \n",
    "                 # regression\n",
    "                 'friedman1': 'friedman1991multivariate',\n",
    "                 'friedman2': 'friedman1991multivariate',\n",
    "                 'friedman3': 'friedman1991multivariate',\n",
    "                 'abalone': 'nash1994population',\n",
    "                 'diabetes-regr': 'efron2004least',\n",
    "                 'california-housing': 'pace1997sparse',\n",
    "                 'satellite-image': 'romano2020pmlb',\n",
    "                 'echo-months': 'romano2020pmlb',\n",
    "                 'breast-tumor': 'romano2020pmlb',\n",
    "            }\n",
    "    \n",
    "    for i in m_print.index.values:\n",
    "        name = m_print.at[i, 'Name'].lower()\n",
    "        if name in citations:\n",
    "            m_print.at[i, 'Name'] = name.capitalize().replace('-', ' ') + ' \\cite{' + citations[name] + '}'\n",
    "        else:\n",
    "            m_print.at[i, 'Name'] = name.capitalize().replace('-', ' ')\n",
    "    return m_print"
   ]
  },
  {
   "cell_type": "markdown",
   "metadata": {},
   "source": [
    "# classification dataset stats"
   ]
  },
  {
   "cell_type": "code",
   "execution_count": 3,
   "metadata": {},
   "outputs": [
    {
     "name": "stdout",
     "output_type": "stream",
     "text": [
      "\\begin{tabular}{lrrrrr}\n",
      "\\toprule\n",
      "                                         Name &  Samples &  Features &  Class 0 &  Class 1 &  Majority class \\% \\\\\n",
      "\\midrule\n",
      "Ionosphere \\cite{sigillito1989classification} &      351 &        34 &      126 &      225 &              64.1 \\\\\n",
      "               Diabetes \\cite{smith1988using} &      768 &         8 &      500 &      268 &              65.1 \\\\\n",
      "                                German credit &     1000 &        20 &      300 &      700 &              70.0 \\\\\n",
      "           Juvenile \\cite{osofsky1997effects} &     3640 &       286 &     3153 &      487 &              86.6 \\\\\n",
      "                                   Recidivism &     6172 &        20 &     3182 &     2990 &              51.6 \\\\\n",
      "             Credit \\cite{yeh2009comparisons} &    30000 &        33 &    23364 &     6636 &              77.9 \\\\\n",
      "                                  Readmission &   101763 &       150 &    54861 &    46902 &              53.9 \\\\\n",
      "\\bottomrule\n",
      "\\end{tabular}\n",
      "\n"
     ]
    }
   ],
   "source": [
    "metadata = []\n",
    "columns = ['Name', 'Samples', 'Features', 'Class 0', 'Class 1', 'Majority class %']\n",
    "for dset_name, dset_file, data_source in DATASETS_CLASSIFICATION:\n",
    "    X, y, feat_names = get_clean_dataset(dset_file, data_source, DATASET_PATH)\n",
    "    #     X = np.nan_to_num(X, 0)\n",
    "    shape = X.shape\n",
    "    class_counts = np.unique(y, return_counts=True)[1]\n",
    "    metadata.append([dset_name.capitalize(), shape[0], shape[1], class_counts[0], class_counts[1],\n",
    "                     np.round(100 * np.max(class_counts) / np.sum(class_counts), decimals=1)])\n",
    "\n",
    "metadata = pd.DataFrame(metadata, columns=columns).sort_values(by=['Samples'])  #.set_index('Name')\n",
    "# m_print = metadata[['Name', 'Samples', 'Features']]\n",
    "m_print = metadata\n",
    "m_print = m_print[m_print.Samples > 306]\n",
    "m_print = add_citations(m_print)\n",
    "print(m_print.to_latex(index=False, escape=False).replace('%', '\\%'))\n",
    "# m_print\n",
    "# metadata"
   ]
  },
  {
   "cell_type": "markdown",
   "metadata": {},
   "source": [
    "# regression dataset names\n"
   ]
  },
  {
   "cell_type": "code",
   "execution_count": 4,
   "metadata": {},
   "outputs": [
    {
     "name": "stdout",
     "output_type": "stream",
     "text": [
      "\\begin{tabular}{lrrrrrr}\n",
      "\\toprule\n",
      "                                     Name &  Samples &  Features &  Mean &   Std &  Min &    Max \\\\\n",
      "\\midrule\n",
      "       Breast tumor \\cite{romano2020pmlb} &   116640 &         9 &  24.7 &  10.3 & -8.5 &   62.0 \\\\\n",
      " California housing \\cite{pace1997sparse} &    20640 &         8 &   2.1 &   1.2 &  0.1 &    5.0 \\\\\n",
      "        Echo months \\cite{romano2020pmlb} &    17496 &         9 &  22.0 &  15.8 & -4.4 &   74.6 \\\\\n",
      "    Satellite image \\cite{romano2020pmlb} &     6435 &        36 &   3.7 &   2.2 &  1.0 &    7.0 \\\\\n",
      "        Abalone \\cite{nash1994population} &     4177 &         8 &   9.9 &   3.2 &  1.0 &   29.0 \\\\\n",
      "      Diabetes  \\cite{efron2004least} &      442 &        10 & 152.1 &  77.0 & 25.0 &  346.0 \\\\\n",
      "Friedman1 \\cite{friedman1991multivariate} &      200 &        10 &  14.6 &   4.6 &  4.6 &   26.8 \\\\\n",
      "Friedman2 \\cite{friedman1991multivariate} &      200 &         4 & 532.4 & 422.7 & 24.0 & 1686.3 \\\\\n",
      "Friedman3 \\cite{friedman1991multivariate} &      200 &         4 &   1.3 &   0.4 &  0.0 &    1.6 \\\\\n",
      "\\bottomrule\n",
      "\\end{tabular}\n",
      "\n"
     ]
    },
    {
     "data": {
      "text/plain": "                                        Name  Samples  Features   Mean    Std  \\\n8         Breast tumor \\cite{romano2020pmlb}   116640         9   24.7   10.3   \n5   California housing \\cite{pace1997sparse}    20640         8    2.1    1.2   \n7          Echo months \\cite{romano2020pmlb}    17496         9   22.0   15.8   \n6      Satellite image \\cite{romano2020pmlb}     6435        36    3.7    2.2   \n3          Abalone \\cite{nash1994population}     4177         8    9.9    3.2   \n4        Diabetes regr \\cite{efron2004least}      442        10  152.1   77.0   \n0  Friedman1 \\cite{friedman1991multivariate}      200        10   14.6    4.6   \n1  Friedman2 \\cite{friedman1991multivariate}      200         4  532.4  422.7   \n2  Friedman3 \\cite{friedman1991multivariate}      200         4    1.3    0.4   \n\n    Min     Max  \n8  -8.5    62.0  \n5   0.1     5.0  \n7  -4.4    74.6  \n6   1.0     7.0  \n3   1.0    29.0  \n4  25.0   346.0  \n0   4.6    26.8  \n1  24.0  1686.3  \n2   0.0     1.6  ",
      "text/html": "<div>\n<style scoped>\n    .dataframe tbody tr th:only-of-type {\n        vertical-align: middle;\n    }\n\n    .dataframe tbody tr th {\n        vertical-align: top;\n    }\n\n    .dataframe thead th {\n        text-align: right;\n    }\n</style>\n<table border=\"1\" class=\"dataframe\">\n  <thead>\n    <tr style=\"text-align: right;\">\n      <th></th>\n      <th>Name</th>\n      <th>Samples</th>\n      <th>Features</th>\n      <th>Mean</th>\n      <th>Std</th>\n      <th>Min</th>\n      <th>Max</th>\n    </tr>\n  </thead>\n  <tbody>\n    <tr>\n      <th>8</th>\n      <td>Breast tumor \\cite{romano2020pmlb}</td>\n      <td>116640</td>\n      <td>9</td>\n      <td>24.7</td>\n      <td>10.3</td>\n      <td>-8.5</td>\n      <td>62.0</td>\n    </tr>\n    <tr>\n      <th>5</th>\n      <td>California housing \\cite{pace1997sparse}</td>\n      <td>20640</td>\n      <td>8</td>\n      <td>2.1</td>\n      <td>1.2</td>\n      <td>0.1</td>\n      <td>5.0</td>\n    </tr>\n    <tr>\n      <th>7</th>\n      <td>Echo months \\cite{romano2020pmlb}</td>\n      <td>17496</td>\n      <td>9</td>\n      <td>22.0</td>\n      <td>15.8</td>\n      <td>-4.4</td>\n      <td>74.6</td>\n    </tr>\n    <tr>\n      <th>6</th>\n      <td>Satellite image \\cite{romano2020pmlb}</td>\n      <td>6435</td>\n      <td>36</td>\n      <td>3.7</td>\n      <td>2.2</td>\n      <td>1.0</td>\n      <td>7.0</td>\n    </tr>\n    <tr>\n      <th>3</th>\n      <td>Abalone \\cite{nash1994population}</td>\n      <td>4177</td>\n      <td>8</td>\n      <td>9.9</td>\n      <td>3.2</td>\n      <td>1.0</td>\n      <td>29.0</td>\n    </tr>\n    <tr>\n      <th>4</th>\n      <td>Diabetes regr \\cite{efron2004least}</td>\n      <td>442</td>\n      <td>10</td>\n      <td>152.1</td>\n      <td>77.0</td>\n      <td>25.0</td>\n      <td>346.0</td>\n    </tr>\n    <tr>\n      <th>0</th>\n      <td>Friedman1 \\cite{friedman1991multivariate}</td>\n      <td>200</td>\n      <td>10</td>\n      <td>14.6</td>\n      <td>4.6</td>\n      <td>4.6</td>\n      <td>26.8</td>\n    </tr>\n    <tr>\n      <th>1</th>\n      <td>Friedman2 \\cite{friedman1991multivariate}</td>\n      <td>200</td>\n      <td>4</td>\n      <td>532.4</td>\n      <td>422.7</td>\n      <td>24.0</td>\n      <td>1686.3</td>\n    </tr>\n    <tr>\n      <th>2</th>\n      <td>Friedman3 \\cite{friedman1991multivariate}</td>\n      <td>200</td>\n      <td>4</td>\n      <td>1.3</td>\n      <td>0.4</td>\n      <td>0.0</td>\n      <td>1.6</td>\n    </tr>\n  </tbody>\n</table>\n</div>"
     },
     "execution_count": 4,
     "metadata": {},
     "output_type": "execute_result"
    }
   ],
   "source": [
    "metadata = []\n",
    "columns = ['Name', 'Samples', 'Features', 'Mean', 'Std', 'Min', \"Max\"]\n",
    "for dset_name, dset_file, data_source in DATASETS_REGRESSION:\n",
    "    #     print(dset_name, dset_file, data_source)\n",
    "    X, y, feat_names = get_clean_dataset(dset_file, data_source)\n",
    "    #     X = np.nan_to_num(X, 0)\n",
    "    #     print(y.dtype)\n",
    "    #     print(np.unique(y))\n",
    "    shape = X.shape\n",
    "    metadata.append([dset_name.capitalize(), shape[0], shape[1], np.mean(y), np.std(y), np.min(y), np.max(y)])\n",
    "\n",
    "    \n",
    "    \n",
    "metadata = pd.DataFrame(metadata, columns=columns).round(1).sort_values(by=['Samples'], ascending=False)\n",
    "#.set_index('Name')\n",
    "# print(add_citations(metadata[['Name', 'Samples', 'Features']]).to_latex(index=False, escape=False).replace('regr', ''))\n",
    "print(add_citations(metadata).to_latex(index=False, escape=False).replace('regr', ''))\n",
    "metadata"
   ]
  },
  {
   "cell_type": "code",
   "execution_count": 63,
   "metadata": {
    "tags": []
   },
   "outputs": [
    {
     "data": {
      "text/plain": [
       "array([0.0000e+00, 5.0000e-04, 1.0000e-03, ..., 2.6570e+00, 2.7795e+00,\n",
       "       2.8255e+00])"
      ]
     },
     "execution_count": 63,
     "metadata": {},
     "output_type": "execute_result"
    }
   ],
   "source": [
    "X, y, feature_names = get_clean_dataset('183', data_source='openml')\n",
    "np.unique(X[:, 1:])"
   ]
  },
  {
   "cell_type": "code",
   "execution_count": 50,
   "metadata": {},
   "outputs": [],
   "source": [
    "classes, y = np.unique(X[:, 0], return_inverse=True)  # deals with str inputs"
   ]
  },
  {
   "cell_type": "code",
   "execution_count": 56,
   "metadata": {},
   "outputs": [],
   "source": [
    "classes, d2 = np.unique(d, return_inverse=True)  # deals with str inputs"
   ]
  },
  {
   "cell_type": "code",
   "execution_count": 61,
   "metadata": {},
   "outputs": [],
   "source": []
  },
  {
   "cell_type": "code",
   "execution_count": 62,
   "metadata": {},
   "outputs": [
    {
     "data": {
      "text/plain": [
       "array([[2, 0.455, 0.365, ..., 0.2245, 0.101, 0.15],\n",
       "       [2, 0.35, 0.265, ..., 0.0995, 0.0485, 0.07],\n",
       "       [0, 0.53, 0.42, ..., 0.2565, 0.1415, 0.21],\n",
       "       ...,\n",
       "       [2, 0.6, 0.475, ..., 0.5255, 0.2875, 0.308],\n",
       "       [0, 0.625, 0.485, ..., 0.531, 0.261, 0.296],\n",
       "       [2, 0.71, 0.555, ..., 0.9455, 0.3765, 0.495]], dtype=object)"
      ]
     },
     "execution_count": 62,
     "metadata": {},
     "output_type": "execute_result"
    }
   ],
   "source": [
    "X"
   ]
  },
  {
   "cell_type": "code",
   "execution_count": 58,
   "metadata": {},
   "outputs": [
    {
     "data": {
      "text/plain": [
       "array([0.455, 0.35, 0.53, ..., 0.6, 0.625, 0.71], dtype=object)"
      ]
     },
     "execution_count": 58,
     "metadata": {},
     "output_type": "execute_result"
    }
   ],
   "source": [
    "d"
   ]
  },
  {
   "cell_type": "code",
   "execution_count": 43,
   "metadata": {},
   "outputs": [],
   "source": [
    "import matplotlib.pyplot as plt"
   ]
  },
  {
   "cell_type": "code",
   "execution_count": null,
   "metadata": {},
   "outputs": [],
   "source": [
    "plt.hist(X.flatten())"
   ]
  },
  {
   "cell_type": "code",
   "execution_count": 10,
   "metadata": {},
   "outputs": [
    {
     "name": "stdout",
     "output_type": "stream",
     "text": [
      "shapes (768, 8) (768,) [0 1]\n"
     ]
    }
   ],
   "source": [
    "X, y, feature_names = get_clean_dataset('diabetes', data_source='pmlb')\n",
    "print('shapes', X.shape, y.shape, np.unique(y))"
   ]
  },
  {
   "cell_type": "code",
   "execution_count": 8,
   "metadata": {},
   "outputs": [
    {
     "data": {
      "text/plain": [
       "(768, 8)"
      ]
     },
     "execution_count": 8,
     "metadata": {},
     "output_type": "execute_result"
    }
   ],
   "source": [
    "from imodels import C45TreeClassifier\n",
    "\n",
    "m = C45TreeClassifier(max_rules=100)\n",
    "m.fit(X, y)\n",
    "print('mse', np.mean(np.square(m.predict(X) - y)))\n",
    "print(m)"
   ]
  }
 ],
 "metadata": {
  "jupytext": {
   "formats": "ipynb,../../tests/notebooks//py:percent"
  },
  "kernelspec": {
   "display_name": "Python 3 (ipykernel)",
   "language": "python",
   "name": "python3"
  },
  "language_info": {
   "codemirror_mode": {
    "name": "ipython",
    "version": 3
   },
   "file_extension": ".py",
   "mimetype": "text/x-python",
   "name": "python",
   "nbconvert_exporter": "python",
   "pygments_lexer": "ipython3",
   "version": "3.7.0"
  }
 },
 "nbformat": 4,
 "nbformat_minor": 4
}