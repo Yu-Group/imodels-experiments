{
 "cells": [
  {
   "cell_type": "code",
   "execution_count": 4,
   "metadata": {},
   "outputs": [
    {
     "name": "stdout",
     "output_type": "stream",
     "text": [
      "The autoreload extension is already loaded. To reload it, use:\n",
      "  %reload_ext autoreload\n",
      "num_datasets 11 9\n"
     ]
    }
   ],
   "source": [
    "% load_ext autoreload\n",
    "% autoreload 2\n",
    "import os\n",
    "import sys\n",
    "\n",
    "import matplotlib as mpl\n",
    "from sklearn.model_selection import train_test_split\n",
    "from sklearn.tree import export_text, DecisionTreeClassifier\n",
    "\n",
    "import imodels\n",
    "from imodels.util.data_util import get_clean_dataset\n",
    "\n",
    "sys.path.append('..')\n",
    "\n",
    "mpl.rcParams['figure.dpi'] = 250\n",
    "mpl.rcParams['axes.spines.top'] = False\n",
    "mpl.rcParams['axes.spines.right'] = False\n",
    "\n",
    "# change working directory to project root\n",
    "if os.getcwd().split('/')[-1] == 'notebooks':\n",
    "    os.chdir('../..')\n",
    "from config.saps.datasets import DATASETS_CLASSIFICATION, DATASETS_REGRESSION\n",
    "from viz import *\n",
    "import viz\n",
    "from util import DATASET_PATH\n",
    "\n",
    "print('num_datasets', len(DATASETS_CLASSIFICATION), len(DATASETS_REGRESSION))\n",
    "\n",
    "prop_cycle = plt.rcParams['axes.prop_cycle']\n",
    "colors = prop_cycle.by_key()['color']"
   ]
  },
  {
   "cell_type": "markdown",
   "metadata": {},
   "source": [
    "# overarching plots"
   ]
  },
  {
   "cell_type": "code",
   "execution_count": 2,
   "metadata": {},
   "outputs": [
    {
     "name": "stderr",
     "output_type": "stream",
     "text": [
      "100%|██████████| 6/6 [00:00<00:00,  7.29it/s]\n"
     ]
    },
    {
     "data": {
      "text/plain": [
       "<Figure size 648x360 with 0 Axes>"
      ]
     },
     "metadata": {},
     "output_type": "display_data"
    },
    {
     "data": {
      "image/png": "[encoded data removed]",
      "text/plain": [
       "<Figure size 360x252 with 1 Axes>"
      ]
     },
     "metadata": {
      "needs_background": "light"
     },
     "output_type": "display_data"
    }
   ],
   "source": [
    "num_dsets = 6\n",
    "datasets = DATASETS_CLASSIFICATION[::-1][:6]  #+ DATASETS_REGRESSION[::-1]\n",
    "\n",
    "R, C = ceil(num_dsets / 3), 3\n",
    "plt.figure(figsize=(3 * C, 2.5 * R), facecolor='w')\n",
    "\n",
    "COLORS = [cb, cg, cr, 'gray', cp, 'green']\n",
    "COLORS = COLORS + COLORS + COLORS\n",
    "plt.figure(figsize=(5, 3.5))\n",
    "for i, dset in enumerate(tqdm(datasets)):\n",
    "    dset_name = dset[0]\n",
    "\n",
    "    pkl_file = oj('../results', 'reg_data', dset_name, 'train-test/combined.pkl')\n",
    "    data = pkl.load(open(pkl_file, 'rb'))  #['df']\n",
    "\n",
    "    rules = data['rule_df']\n",
    "    rules['model'] = rules.index\n",
    "    rules.index = np.arange(rules.shape[0])\n",
    "\n",
    "    df = data['df']\n",
    "    df['model'] = df.index\n",
    "    df.index = np.arange(df.shape[0])\n",
    "\n",
    "    cols_to_use = df.columns.difference(rules.columns)\n",
    "    d = rules.join(df[cols_to_use])\n",
    "\n",
    "    g = d[d.model == 'SAPS']\n",
    "    name = 'SAPS'\n",
    "    est_params = g[dset_name]\n",
    "    trees = [x[0] for x in est_params]\n",
    "    n_trees = np.array([len(t) for t in trees])\n",
    "\n",
    "    x = g[f'{dset_name}_complexity'].values\n",
    "\n",
    "    plt.plot(x, n_trees, 'o-',\n",
    "             alpha=0.5,\n",
    "             label=dset_name.capitalize().replace('-', ' '), color=COLORS[i], lw=7)\n",
    "    plt.ylabel('Number of trees')\n",
    "    plt.xlabel('Number of rules')\n",
    "\n",
    "dvu.line_legend(adjust_text_labels=True)\n",
    "plt.grid(axis='y')\n",
    "viz.savefig('num_trees')"
   ]
  },
  {
   "cell_type": "markdown",
   "metadata": {},
   "source": [
    "# look at some specific models"
   ]
  },
  {
   "cell_type": "code",
   "execution_count": 56,
   "metadata": {},
   "outputs": [],
   "source": [
    "# dset = (\"diabetes\", \"diabetes\", \"pmlb\")\n",
    "dset = (\"credit\", oj(DATASET_PATH, \"credit_card/credit_card_clean.csv\"), 'local')\n",
    "\n",
    "dset_name = dset[0]\n",
    "\n",
    "pkl_file = oj('../results', 'reg_data', dset_name, 'train-test/combined.pkl')\n",
    "data = pkl.load(open(pkl_file, 'rb'))  #['df']\n",
    "\n",
    "rules = data['rule_df']\n",
    "rules['model'] = rules.index\n",
    "rules.index = np.arange(rules.shape[0])\n",
    "\n",
    "df = data['df']\n",
    "df['model'] = df.index\n",
    "df.index = np.arange(df.shape[0])\n",
    "\n",
    "cols_to_use = df.columns.difference(rules.columns)\n",
    "d = rules.join(df[cols_to_use])\n",
    "\n",
    "g_saps = d[d.model == 'SAPS']\n",
    "g_cart = d[d.model == 'CART']"
   ]
  },
  {
   "cell_type": "code",
   "execution_count": 70,
   "metadata": {},
   "outputs": [
    {
     "name": "stdout",
     "output_type": "stream",
     "text": [
      "['limit_bal', 'age', 'pay_0', 'pay_2', 'pay_3', 'pay_4', 'pay_5', 'pay_6', 'bill_amt1', 'bill_amt2', 'bill_amt3', 'bill_amt4', 'bill_amt5', 'bill_amt6', 'pay_amt1', 'pay_amt2', 'pay_amt3', 'pay_amt4', 'pay_amt5', 'pay_amt6', 'sex:1', 'sex:2', 'education:0', 'education:1', 'education:2', 'education:3', 'education:4', 'education:5', 'education:6', 'marriage:0', 'marriage:1', 'marriage:2', 'marriage:3']\n"
     ]
    }
   ],
   "source": [
    "X, y, feature_names = get_clean_dataset(dset[1], data_source=dset[2])\n",
    "print(feature_names)"
   ]
  },
  {
   "cell_type": "markdown",
   "metadata": {},
   "source": [
    "compare SAPS and CART for this data"
   ]
  },
  {
   "cell_type": "code",
   "execution_count": 86,
   "metadata": {},
   "outputs": [
    {
     "data": {
      "text/html": [
       "<div>\n",
       "<style scoped>\n",
       "    .dataframe tbody tr th:only-of-type {\n",
       "        vertical-align: middle;\n",
       "    }\n",
       "\n",
       "    .dataframe tbody tr th {\n",
       "        vertical-align: top;\n",
       "    }\n",
       "\n",
       "    .dataframe thead th {\n",
       "        text-align: right;\n",
       "    }\n",
       "</style>\n",
       "<table border=\"1\" class=\"dataframe\">\n",
       "  <thead>\n",
       "    <tr style=\"text-align: right;\">\n",
       "      <th></th>\n",
       "      <th>credit_complexity</th>\n",
       "      <th>credit_rocauc_test</th>\n",
       "      <th>credit_accuracy_test</th>\n",
       "    </tr>\n",
       "  </thead>\n",
       "  <tbody>\n",
       "    <tr>\n",
       "      <th>0</th>\n",
       "      <td>1</td>\n",
       "      <td>0.651416</td>\n",
       "      <td>0.829500</td>\n",
       "    </tr>\n",
       "    <tr>\n",
       "      <th>1</th>\n",
       "      <td>4</td>\n",
       "      <td>0.744080</td>\n",
       "      <td>0.827333</td>\n",
       "    </tr>\n",
       "    <tr>\n",
       "      <th>2</th>\n",
       "      <td>7</td>\n",
       "      <td>0.766156</td>\n",
       "      <td>0.827333</td>\n",
       "    </tr>\n",
       "    <tr>\n",
       "      <th>3</th>\n",
       "      <td>10</td>\n",
       "      <td>0.771283</td>\n",
       "      <td>0.826667</td>\n",
       "    </tr>\n",
       "    <tr>\n",
       "      <th>4</th>\n",
       "      <td>13</td>\n",
       "      <td>0.775311</td>\n",
       "      <td>0.827833</td>\n",
       "    </tr>\n",
       "    <tr>\n",
       "      <th>5</th>\n",
       "      <td>16</td>\n",
       "      <td>0.774751</td>\n",
       "      <td>0.826667</td>\n",
       "    </tr>\n",
       "    <tr>\n",
       "      <th>6</th>\n",
       "      <td>25</td>\n",
       "      <td>0.778638</td>\n",
       "      <td>0.828000</td>\n",
       "    </tr>\n",
       "    <tr>\n",
       "      <th>7</th>\n",
       "      <td>30</td>\n",
       "      <td>0.779150</td>\n",
       "      <td>0.826667</td>\n",
       "    </tr>\n",
       "  </tbody>\n",
       "</table>\n",
       "</div>"
      ],
      "text/plain": [
       "   credit_complexity  credit_rocauc_test  credit_accuracy_test\n",
       "0                  1            0.651416              0.829500\n",
       "1                  4            0.744080              0.827333\n",
       "2                  7            0.766156              0.827333\n",
       "3                 10            0.771283              0.826667\n",
       "4                 13            0.775311              0.827833\n",
       "5                 16            0.774751              0.826667\n",
       "6                 25            0.778638              0.828000\n",
       "7                 30            0.779150              0.826667"
      ]
     },
     "execution_count": 86,
     "metadata": {},
     "output_type": "execute_result"
    }
   ],
   "source": [
    "g_saps[[f'{dset_name}_complexity', f'{dset_name}_rocauc_test', f'{dset_name}_accuracy_test']]"
   ]
  },
  {
   "cell_type": "code",
   "execution_count": 85,
   "metadata": {},
   "outputs": [
    {
     "data": {
      "text/html": [
       "<div>\n",
       "<style scoped>\n",
       "    .dataframe tbody tr th:only-of-type {\n",
       "        vertical-align: middle;\n",
       "    }\n",
       "\n",
       "    .dataframe tbody tr th {\n",
       "        vertical-align: top;\n",
       "    }\n",
       "\n",
       "    .dataframe thead th {\n",
       "        text-align: right;\n",
       "    }\n",
       "</style>\n",
       "<table border=\"1\" class=\"dataframe\">\n",
       "  <thead>\n",
       "    <tr style=\"text-align: right;\">\n",
       "      <th></th>\n",
       "      <th>credit_complexity</th>\n",
       "      <th>credit_rocauc_test</th>\n",
       "      <th>credit_accuracy_test</th>\n",
       "    </tr>\n",
       "  </thead>\n",
       "  <tbody>\n",
       "    <tr>\n",
       "      <th>16</th>\n",
       "      <td>1</td>\n",
       "      <td>0.651416</td>\n",
       "      <td>0.829500</td>\n",
       "    </tr>\n",
       "    <tr>\n",
       "      <th>17</th>\n",
       "      <td>3</td>\n",
       "      <td>0.695146</td>\n",
       "      <td>0.829500</td>\n",
       "    </tr>\n",
       "    <tr>\n",
       "      <th>18</th>\n",
       "      <td>7</td>\n",
       "      <td>0.733311</td>\n",
       "      <td>0.826333</td>\n",
       "    </tr>\n",
       "    <tr>\n",
       "      <th>19</th>\n",
       "      <td>15</td>\n",
       "      <td>0.750436</td>\n",
       "      <td>0.825667</td>\n",
       "    </tr>\n",
       "    <tr>\n",
       "      <th>20</th>\n",
       "      <td>31</td>\n",
       "      <td>0.760595</td>\n",
       "      <td>0.826167</td>\n",
       "    </tr>\n",
       "  </tbody>\n",
       "</table>\n",
       "</div>"
      ],
      "text/plain": [
       "    credit_complexity  credit_rocauc_test  credit_accuracy_test\n",
       "16                  1            0.651416              0.829500\n",
       "17                  3            0.695146              0.829500\n",
       "18                  7            0.733311              0.826333\n",
       "19                 15            0.750436              0.825667\n",
       "20                 31            0.760595              0.826167"
      ]
     },
     "execution_count": 85,
     "metadata": {},
     "output_type": "execute_result"
    }
   ],
   "source": [
    "g_cart[[f'{dset_name}_complexity', f'{dset_name}_rocauc_test', f'{dset_name}_accuracy_test']]"
   ]
  },
  {
   "cell_type": "code",
   "execution_count": 73,
   "metadata": {},
   "outputs": [],
   "source": [
    "model_num = 1\n",
    "m = imodels.SaplingSumRegressor()\n",
    "m.trees_ = g_saps[dset_name].iloc[model_num][0]"
   ]
  },
  {
   "cell_type": "code",
   "execution_count": 77,
   "metadata": {},
   "outputs": [
    {
     "name": "stdout",
     "output_type": "stream",
     "text": [
      "------------\n",
      "pay_0 <= 1.500 (Tree #0 root)\n",
      "\tpay_2 <= 1.500 (split)\n",
      "\t\tage5 <= 1500.500 (split)\n",
      "\t\t\tVal: 0.203 (leaf)\n",
      "\t\t\tVal: 0.109 (leaf)\n",
      "\t\tVal: 0.425 (leaf)\n",
      "\tVal: 0.688 (leaf)\n",
      "\n",
      "\t+\n",
      "pay_5 <= 1.000 (Tree #1 root)\n",
      "\tVal: -0.012 (leaf)\n",
      "\tVal: 0.109 (leaf)\n",
      "\n"
     ]
    }
   ],
   "source": [
    "name_remapping = {\n",
    "    'X_' + str(i): feature_names[i]\n",
    "    for i in range(len(feature_names))\n",
    "}\n",
    "s = str(m)\n",
    "for x in name_remapping.keys():\n",
    "    s = s.replace(x, name_remapping[x])\n",
    "print(s)"
   ]
  },
  {
   "cell_type": "code",
   "execution_count": 80,
   "metadata": {},
   "outputs": [],
   "source": [
    "model_num_cart = 2\n",
    "t = DecisionTreeClassifier()\n",
    "t.classes_ = ['0', '1']\n",
    "t.tree_ = g_cart.iloc[model_num_cart][dset_name]"
   ]
  },
  {
   "cell_type": "code",
   "execution_count": 82,
   "metadata": {},
   "outputs": [
    {
     "name": "stdout",
     "output_type": "stream",
     "text": [
      "|--- pay_0 <= 1.50\n",
      "|   |--- pay_2 <= 1.50\n",
      "|   |   |--- pay_amt2 <= 1500.50\n",
      "|   |   |   |--- class: 0\n",
      "|   |   |--- pay_amt2 >  1500.50\n",
      "|   |   |   |--- class: 0\n",
      "|   |--- pay_2 >  1.50\n",
      "|   |   |--- pay_6 <= 1.00\n",
      "|   |   |   |--- class: 0\n",
      "|   |   |--- pay_6 >  1.00\n",
      "|   |   |   |--- class: 1\n",
      "|--- pay_0 >  1.50\n",
      "|   |--- pay_6 <= 1.00\n",
      "|   |   |--- bill_amt1 <= 2207.50\n",
      "|   |   |   |--- class: 0\n",
      "|   |   |--- bill_amt1 >  2207.50\n",
      "|   |   |   |--- class: 1\n",
      "|   |--- pay_6 >  1.00\n",
      "|   |   |--- bill_amt6 <= 984.00\n",
      "|   |   |   |--- class: 0\n",
      "|   |   |--- bill_amt6 >  984.00\n",
      "|   |   |   |--- class: 1\n",
      "\n"
     ]
    }
   ],
   "source": [
    "print(export_text(t, feature_names=feature_names))\n",
    "# plot_tree(t, feature_names=feature_names)\n",
    "# plt.show()"
   ]
  },
  {
   "cell_type": "markdown",
   "metadata": {},
   "source": [
    "# look at model example"
   ]
  },
  {
   "cell_type": "code",
   "execution_count": 5,
   "metadata": {},
   "outputs": [],
   "source": [
    "t = DecisionTreeClassifier()\n"
   ]
  },
  {
   "cell_type": "code",
   "execution_count": 9,
   "metadata": {},
   "outputs": [],
   "source": [
    "X, y, feature_names = get_clean_dataset('iai_pecarn', 'imodels', DATASET_PATH)\n",
    "X_train, X_test, y_train, y_test = train_test_split(X, y, test_size=0.3)"
   ]
  },
  {
   "cell_type": "code",
   "execution_count": 13,
   "metadata": {},
   "outputs": [
    {
     "data": {
      "text/plain": [
       "DecisionTreeClassifier()"
      ]
     },
     "execution_count": 13,
     "metadata": {},
     "output_type": "execute_result"
    }
   ],
   "source": [
    "t.fit(X_train, y_train)"
   ]
  },
  {
   "cell_type": "code",
   "execution_count": 14,
   "metadata": {},
   "outputs": [
    {
     "data": {
      "text/plain": [
       "{'criterion': 'gini',\n",
       " 'splitter': 'best',\n",
       " 'max_depth': None,\n",
       " 'min_samples_split': 2,\n",
       " 'min_samples_leaf': 1,\n",
       " 'min_weight_fraction_leaf': 0.0,\n",
       " 'max_features': None,\n",
       " 'max_leaf_nodes': None,\n",
       " 'random_state': None,\n",
       " 'min_impurity_decrease': 0.0,\n",
       " 'class_weight': None,\n",
       " 'ccp_alpha': 0.0,\n",
       " 'n_features_in_': 58,\n",
       " 'n_outputs_': 1,\n",
       " 'classes_': array([0, 1]),\n",
       " 'n_classes_': 2,\n",
       " 'max_features_': 58,\n",
       " 'tree_': <sklearn.tree._tree.Tree at 0x12e7676b0>}"
      ]
     },
     "execution_count": 14,
     "metadata": {},
     "output_type": "execute_result"
    }
   ],
   "source": [
    "vars(t)"
   ]
  },
  {
   "cell_type": "code",
   "execution_count": null,
   "metadata": {},
   "outputs": [],
   "source": [
    "k\n"
   ]
  }
 ],
 "metadata": {
  "jupytext": {
   "formats": "ipynb,../../tests/notebooks//py:percent"
  },
  "kernelspec": {
   "display_name": "Python 3 (ipykernel)",
   "language": "python",
   "name": "python3"
  },
  "language_info": {
   "codemirror_mode": {
    "name": "ipython",
    "version": 3
   },
   "file_extension": ".py",
   "mimetype": "text/x-python",
   "name": "python",
   "nbconvert_exporter": "python",
   "pygments_lexer": "ipython3",
   "version": "3.7.0"
  }
 },
 "nbformat": 4,
 "nbformat_minor": 4
}
