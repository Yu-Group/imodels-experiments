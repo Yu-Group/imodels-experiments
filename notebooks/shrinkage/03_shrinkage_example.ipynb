{
 "cells": [
  {
   "cell_type": "code",
   "execution_count": 1,
   "metadata": {},
   "outputs": [],
   "source": [
    "%load_ext autoreload\n",
    "%autoreload 2\n",
    "%matplotlib inline\n",
    "import os\n",
    "import sys\n",
    "sys.path.append('../..')\n",
    "import dvu\n",
    "import matplotlib as mpl\n",
    "import matplotlib.pyplot as plt\n",
    "import numpy as np\n",
    "from sklearn.tree import export_text, DecisionTreeClassifier, DecisionTreeRegressor, plot_tree\n",
    "from copy import deepcopy\n",
    "import imodels\n",
    "from viz import *\n",
    "import plotly.graph_objects as go\n",
    "from tqdm import tqdm\n",
    "\n",
    "mpl.rcParams['figure.dpi'] = 250\n",
    "mpl.rcParams['axes.spines.top'] = False\n",
    "mpl.rcParams['axes.spines.right'] = False"
   ]
  },
  {
   "cell_type": "markdown",
   "metadata": {},
   "source": [
    "# look at model example"
   ]
  },
  {
   "cell_type": "code",
   "execution_count": 2,
   "metadata": {
    "scrolled": false
   },
   "outputs": [],
   "source": [
    "def plot_sim(n=50, std=1, reg_param=0, show=True, linear_data=False, return_curves=False):\n",
    "    np.random.seed(13)\n",
    "    \n",
    "    if linear_data:\n",
    "        def gt_func(X):\n",
    "            return X\n",
    "    else:\n",
    "        def gt_func(X):\n",
    "            return +1 * (X < 2) * (X < 1) + \\\n",
    "                   -0 * (X < 2) * (X > 1) + \\\n",
    "                   +1 * (X >= 2) * (X < 3) + \\\n",
    "                   +0 * (X >= 2) * (X > 3)\n",
    "    \n",
    "\n",
    "    # data to fit\n",
    "    X = np.random.uniform(0, 4, n)\n",
    "    X = np.sort(X)\n",
    "    y = gt_func(X) + np.random.normal(0, 1, n) * std\n",
    "    plt.plot(X, y, 'o', color='black', ms=4, alpha=0.5, markeredgewidth=0)\n",
    "\n",
    "\n",
    "    # data to plot\n",
    "    X_tile = np.linspace(0, 4, 500)\n",
    "    y_tile = gt_func(X_tile)\n",
    "    plt.plot(X_tile, y_tile, label='Groundtruth', color='black', lw=3)\n",
    "\n",
    "\n",
    "    m1 = DecisionTreeRegressor(random_state=1) #, max_leaf_nodes=15)\n",
    "    m1.fit(X.reshape(-1, 1), y)\n",
    "    y_pred_dt = m1.predict(X_tile.reshape(-1, 1))\n",
    "    plt.plot(X_tile, y_pred_dt, '-', label='CART', color=cb, alpha=0.5, lw=4)\n",
    "\n",
    "    mshrunk = imodels.ShrunkTreeRegressor(deepcopy(m1), reg_param=reg_param)\n",
    "    y_pred_shrunk = mshrunk.predict(X_tile.reshape(-1, 1))\n",
    "    plt.plot(X_tile, y_pred_shrunk, label='Shrunk', color='#ff4b33', alpha=0.5, lw=4)\n",
    "\n",
    "\n",
    "    plt.xlabel('X')\n",
    "    plt.ylabel('Y')\n",
    "    dvu.line_legend(adjust_text_labels=False)\n",
    "    if show:\n",
    "        plt.show()\n",
    "    elif show=='save':\n",
    "        plt.savefig(f'gif/{reg_param}.svg')\n",
    "    else:\n",
    "        plt.close()\n",
    "        \n",
    "    if return_curves:\n",
    "        return X, y, X_tile, y_tile, y_pred_dt, y_pred_shrunk\n",
    "\n",
    "#     print('dt', export_text(m1, feature_names=['X']))\n",
    "#     print('dt', export_text(mshrunk.estimator_, feature_names=['X']))\n",
    "\n",
    "# plot_sim(n=100)\n",
    "\n"
   ]
  },
  {
   "cell_type": "code",
   "execution_count": null,
   "metadata": {},
   "outputs": [],
   "source": [
    "from ipywidgets import interactive\n",
    "from ipywidgets.widgets import *\n",
    "interactive_plot = interactive(plot_sim,\n",
    "                               n=IntSlider(value=50, min=20, max=300, step=10),\n",
    "                               std=FloatSlider(value=0.5, min=0.01, max=3),\n",
    "                               reg_param=(0, 150))\n",
    "output = interactive_plot.children[-1]\n",
    "output.layout.height = '800px'\n",
    "interactive_plot # note this can't be exported to static"
   ]
  },
  {
   "cell_type": "code",
   "execution_count": null,
   "metadata": {},
   "outputs": [],
   "source": [
    "plot_sim(n=400, std=1, reg_param=100)\n",
    "plt.savefig('intro_indicators.pdf')"
   ]
  },
  {
   "cell_type": "code",
   "execution_count": null,
   "metadata": {},
   "outputs": [],
   "source": [
    "plot_sim(n=400, std=1, reg_param=50, linear_data=True)\n",
    "plt.savefig('intro_linear.pdf')"
   ]
  },
  {
   "cell_type": "markdown",
   "metadata": {},
   "source": [
    "# try exporting to webpage\n",
    "- ipywidgets doesn't support this properly\n",
    "- bokeh requires writing JS code\n",
    "- soln: save a bunch of svgs and then reopen them with a slider\n",
    "    - ex: https://github.com/JanSellner/ImageSequenceAnimation\n",
    "    - ```# save all images\n",
    "for reg_param in [0, 1, 5, 10, 181]:\n",
    "    plot_sim(reg_param=reg_param, show='save')\n",
    "    plt.close()```\n",
    "- soln: plotly can just store all the curves and then export"
   ]
  },
  {
   "cell_type": "markdown",
   "metadata": {},
   "source": [
    "# plotly soln"
   ]
  },
  {
   "cell_type": "code",
   "execution_count": 4,
   "metadata": {},
   "outputs": [
    {
     "name": "stdout",
     "output_type": "stream",
     "text": [
      "Collecting plotly\n",
      "  Using cached plotly-5.4.0-py2.py3-none-any.whl (25.3 MB)\n",
      "Requirement already satisfied: six in /Users/chandan/venvs/imodels/lib/python3.7/site-packages (from plotly) (1.16.0)\n",
      "Collecting tenacity>=6.2.0\n",
      "  Using cached tenacity-8.0.1-py3-none-any.whl (24 kB)\n",
      "Installing collected packages: tenacity, plotly\n",
      "Successfully installed plotly-5.4.0 tenacity-8.0.1\n"
     ]
    }
   ],
   "source": [
    "!pip install plotly"
   ]
  },
  {
   "cell_type": "code",
   "execution_count": 3,
   "metadata": {
    "scrolled": true
   },
   "outputs": [],
   "source": [
    "X, y, X_tile, y_tile, y_pred_dt, y_pred_shrunk = plot_sim(n=50, std=1, reg_param=0,\n",
    "                                                          show=False, linear_data=False, return_curves=True)"
   ]
  },
  {
   "cell_type": "code",
   "execution_count": 35,
   "metadata": {
    "scrolled": false
   },
   "outputs": [
    {
     "ename": "SyntaxError",
     "evalue": "invalid syntax (166774797.py, line 21)",
     "output_type": "error",
     "traceback": [
      "\u001b[0;36m  File \u001b[0;32m\"/var/folders/01/fl5q4n5547v1g4z0hw_v_mrc0000gn/T/ipykernel_75682/166774797.py\"\u001b[0;36m, line \u001b[0;32m21\u001b[0m\n\u001b[0;31m    x=X_tile,\u001b[0m\n\u001b[0m    ^\u001b[0m\n\u001b[0;31mSyntaxError\u001b[0m\u001b[0;31m:\u001b[0m invalid syntax\n"
     ]
    }
   ],
   "source": [
    "# Create figure\n",
    "fig = go.Figure()\n",
    "fig.layout.template = 'plotly_white'\n",
    "\n",
    "\n",
    "# add permanent curves\n",
    "kwargs = dict(visible=True, line=None)\n",
    "fig.add_trace(\n",
    "    go.Scatter(\n",
    "        **kwargs,\n",
    "        mode='markers',\n",
    "        name=\"Raw data points\",\n",
    "        x=X,\n",
    "        y=y,\n",
    "    ))    \n",
    "fig.add_trace(\n",
    "    go.Scatter(\n",
    "        **kwargs,\n",
    "        name=\"Groundtruth data\",\n",
    "        line=dict('color'='black')\n",
    "        x=X_tile,\n",
    "        y=y_tile,\n",
    "    ))    \n",
    "fig.add_trace(\n",
    "    go.Scatter(\n",
    "        **kwargs,\n",
    "        name=\"CART predictions\",\n",
    "        x=X_tile,\n",
    "        y=y_pred_dt,\n",
    "    ))   \n",
    "OFFSET = 3\n",
    "ACTIVE = 1\n",
    "\n",
    "# Add traces, one for each slider step\n",
    "VALS = [0, 1, 5, 10, 25, 50, 100]\n",
    "for reg_param in tqdm(VALS):\n",
    "    X, y, X_tile, y_tile, y_pred_dt, y_pred_shrunk = plot_sim(n=50, std=1, reg_param=reg_param,\n",
    "                                                          show=False, linear_data=False, return_curves=True)\n",
    "    fig.add_trace(\n",
    "        go.Scatter(\n",
    "            visible=False,\n",
    "            line=None, #dict(color=\"#00CED1\", width=6),\n",
    "            marker=dict(),\n",
    "            name=f\"Shrunk predictions\",\n",
    "            x=X_tile,\n",
    "            y=y_pred_shrunk,\n",
    "        ))\n",
    "\n",
    "\n",
    "\n",
    "\n",
    "# Create and add slider\n",
    "steps = []\n",
    "for i in range(len(fig.data) - OFFSET): # remember offset\n",
    "    step = dict(\n",
    "        method=\"update\",\n",
    "        args=[{\"visible\": [False] * len(fig.data)},\n",
    "              {\"title\": \"Reg-param: \" + str(VALS[i])}],  # layout attribute\n",
    "    )\n",
    "    step[\"args\"][0][\"visible\"][i + OFFSET] = True  # Toggle i'th trace to \"visible\"\n",
    "    step[\"args\"][0][\"visible\"][0] = True  # final\n",
    "    step[\"args\"][0][\"visible\"][1] = True  # final    \n",
    "    step[\"args\"][0][\"visible\"][2] = True  # final    \n",
    "    steps.append(step)\n",
    "\n",
    "    \n",
    "# Make ACTIVE trace visible\n",
    "fig.data[ACTIVE + OFFSET].visible = True    \n",
    "sliders = [dict(\n",
    "    active=ACTIVE,\n",
    "    currentvalue={\"prefix\": \"Frequency: \"},\n",
    "    pad={\"t\": 50},\n",
    "    steps=steps\n",
    ")]\n",
    "\n",
    "fig.update_layout(\n",
    "    sliders=sliders\n",
    ")\n",
    "\n",
    "\n",
    "    \n",
    "fig.write_html(\"export.html\")\n",
    "fig.show()\n",
    "\n"
   ]
  },
  {
   "cell_type": "code",
   "execution_count": null,
   "metadata": {},
   "outputs": [],
   "source": []
  }
 ],
 "metadata": {
  "jupytext": {
   "formats": "ipynb,../../tests/notebooks//py:percent"
  },
  "kernelspec": {
   "display_name": "Python 3 (ipykernel)",
   "language": "python",
   "name": "python3"
  },
  "language_info": {
   "codemirror_mode": {
    "name": "ipython",
    "version": 3
   },
   "file_extension": ".py",
   "mimetype": "text/x-python",
   "name": "python",
   "nbconvert_exporter": "python",
   "pygments_lexer": "ipython3",
   "version": "3.7.0"
  }
 },
 "nbformat": 4,
 "nbformat_minor": 4
}
