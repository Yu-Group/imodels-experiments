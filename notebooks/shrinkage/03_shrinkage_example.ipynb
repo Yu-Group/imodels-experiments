{
 "cells": [
  {
   "cell_type": "code",
   "execution_count": 2,
   "metadata": {},
   "outputs": [
    {
     "name": "stdout",
     "output_type": "stream",
     "text": [
      "The autoreload extension is already loaded. To reload it, use:\n",
      "  %reload_ext autoreload\n"
     ]
    }
   ],
   "source": [
    "%load_ext autoreload\n",
    "%autoreload 2\n",
    "%matplotlib inline\n",
    "import os\n",
    "import sys\n",
    "sys.path.append('../..')\n",
    "import dvu\n",
    "import matplotlib as mpl\n",
    "import matplotlib.pyplot as plt\n",
    "import numpy as np\n",
    "from sklearn.tree import export_text, DecisionTreeClassifier, DecisionTreeRegressor, plot_tree\n",
    "from copy import deepcopy\n",
    "import imodels\n",
    "from viz import *\n",
    "from ipywidgets import interactive\n",
    "from ipywidgets.widgets import *\n",
    "\n",
    "\n",
    "mpl.rcParams['figure.dpi'] = 250\n",
    "mpl.rcParams['axes.spines.top'] = False\n",
    "mpl.rcParams['axes.spines.right'] = False"
   ]
  },
  {
   "cell_type": "markdown",
   "metadata": {},
   "source": [
    "# look at model example"
   ]
  },
  {
   "cell_type": "code",
   "execution_count": 69,
   "metadata": {
    "scrolled": false
   },
   "outputs": [],
   "source": [
    "def plot_sim(n=50, std=1, reg_param=0, show=True, linear_data=False):\n",
    "    np.random.seed(13)\n",
    "    \n",
    "    if linear_data:\n",
    "        def gt_func(X):\n",
    "            return X\n",
    "    else:\n",
    "        def gt_func(X):\n",
    "            return +1 * (X < 2) * (X < 1) + \\\n",
    "                   -0 * (X < 2) * (X > 1) + \\\n",
    "                   +1 * (X >= 2) * (X < 3) + \\\n",
    "                   +0 * (X >= 2) * (X > 3)\n",
    "    \n",
    "    \n",
    "\n",
    "\n",
    "    # data to fit\n",
    "    X = np.random.uniform(0, 4, n)\n",
    "    y = gt_func(X) + np.random.normal(0, 1, n) * std\n",
    "    plt.plot(X, y, 'o', color='black', ms=4, alpha=0.5, markeredgewidth=0)\n",
    "\n",
    "\n",
    "    # data to plot\n",
    "    X_tile = np.linspace(0, 4, 500)\n",
    "    y_tile = gt_func(X_tile)\n",
    "    plt.plot(X_tile, y_tile, label='Groundtruth', color='black', lw=3)\n",
    "\n",
    "\n",
    "    m1 = DecisionTreeRegressor(random_state=1) #, max_leaf_nodes=15)\n",
    "    m1.fit(X.reshape(-1, 1), y)\n",
    "    y_pred_dt = m1.predict(X_tile.reshape(-1, 1))\n",
    "    plt.plot(X_tile, y_pred_dt, '-', label='CART', color=cb, alpha=0.5, lw=4)\n",
    "\n",
    "    mshrunk = imodels.ShrunkTreeRegressor(deepcopy(m1), reg_param=reg_param)\n",
    "    y_pred_shrunk = mshrunk.predict(X_tile.reshape(-1, 1))\n",
    "    plt.plot(X_tile, y_pred_shrunk, label='Shrunk', color='#ff4b33', alpha=0.5, lw=4)\n",
    "\n",
    "\n",
    "    plt.xlabel('X')\n",
    "    plt.ylabel('Y')\n",
    "    dvu.line_legend(adjust_text_labels=False)\n",
    "    if show:\n",
    "        plt.show()\n",
    "    elif show=='save':\n",
    "        plt.savefig(f'gif/{reg_param}.svg')\n",
    "\n",
    "#     print('dt', export_text(m1, feature_names=['X']))\n",
    "#     print('dt', export_text(mshrunk.estimator_, feature_names=['X']))\n",
    "\n",
    "# plot_sim(n=100)\n",
    "\n"
   ]
  },
  {
   "cell_type": "code",
   "execution_count": null,
   "metadata": {},
   "outputs": [],
   "source": [
    "interactive_plot = interactive(plot_sim,\n",
    "                               n=IntSlider(value=50, min=20, max=300, step=10),\n",
    "                               std=FloatSlider(value=0.5, min=0.01, max=3),\n",
    "                               reg_param=(0, 150))\n",
    "output = interactive_plot.children[-1]\n",
    "output.layout.height = '800px'\n",
    "interactive_plot # note this can't be exported to static"
   ]
  },
  {
   "cell_type": "code",
   "execution_count": null,
   "metadata": {},
   "outputs": [],
   "source": [
    "plot_sim(n=400, std=1, reg_param=100)\n",
    "plt.savefig('intro_indicators.pdf')"
   ]
  },
  {
   "cell_type": "code",
   "execution_count": null,
   "metadata": {},
   "outputs": [],
   "source": [
    "plot_sim(n=400, std=1, reg_param=50, linear_data=True)\n",
    "plt.savefig('intro_linear.pdf')"
   ]
  },
  {
   "cell_type": "markdown",
   "metadata": {},
   "source": [
    "# try exporting to webpage\n",
    "- ipywidgets doesn't support this properly\n",
    "- bokeh requires writing JS code\n",
    "- soln: save a bunch of svgs and then reopen them with a slider\n",
    "    - ex: https://github.com/JanSellner/ImageSequenceAnimation"
   ]
  },
  {
   "cell_type": "code",
   "execution_count": 44,
   "metadata": {},
   "outputs": [],
   "source": [
    "# save all images\n",
    "for reg_param in [0, 1, 5, 10, 181]:\n",
    "    plot_sim(reg_param=reg_param, show='save')\n",
    "    plt.close()"
   ]
  }
 ],
 "metadata": {
  "jupytext": {
   "formats": "ipynb,../../tests/notebooks//py:percent"
  },
  "kernelspec": {
   "display_name": "Python 3 (ipykernel)",
   "language": "python",
   "name": "python3"
  },
  "language_info": {
   "codemirror_mode": {
    "name": "ipython",
    "version": 3
   },
   "file_extension": ".py",
   "mimetype": "text/x-python",
   "name": "python",
   "nbconvert_exporter": "python",
   "pygments_lexer": "ipython3",
   "version": "3.7.0"
  }
 },
 "nbformat": 4,
 "nbformat_minor": 4
}
