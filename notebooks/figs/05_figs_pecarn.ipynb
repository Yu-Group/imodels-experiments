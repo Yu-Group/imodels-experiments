{
 "cells": [
  {
   "cell_type": "code",
   "execution_count": 1,
   "metadata": {},
   "outputs": [],
   "source": [
    "%load_ext autoreload\n",
    "%autoreload 2\n",
    "import os\n",
    "import sys\n",
    "import warnings\n",
    "sys.path.append(\"../\")\n",
    "\n",
    "import matplotlib as mpl\n",
    "import sklearn.metrics as metrics\n",
    "from sklearn.model_selection import train_test_split\n",
    "import numpy as np\n",
    "\n",
    "import imodels\n",
    "from imodels.util.data_util import get_clean_dataset\n",
    "from imodels.experimental import FIGSExtClassifier\n",
    "\n",
    "mpl.rcParams['figure.dpi'] = 250\n",
    "mpl.rcParams['axes.spines.top'] = False\n",
    "mpl.rcParams['axes.spines.right'] = False\n",
    "\n",
    "# change working directory to project root\n",
    "while os.getcwd().split('/')[-1] != 'imodels-experiments':\n",
    "    os.chdir('..')\n",
    "\n",
    "# from config.saps.datasets import DATASETS_CLASSIFICATION, DATASETS_REGRESSION\n",
    "from viz import *\n",
    "\n",
    "# print('num_datasets', len(DATASETS_CLASSIFICATION), len(DATASETS_REGRESSION))\n",
    "\n",
    "prop_cycle = plt.rcParams['axes.prop_cycle']\n",
    "colors = prop_cycle.by_key()['color']"
   ]
  },
  {
   "cell_type": "code",
   "execution_count": 2,
   "outputs": [],
   "source": [
    "def all_stats_curve(y_test, preds_proba, plot=False, thresholds=None):\n",
    "    '''preds_proba should be 1d\n",
    "    '''\n",
    "    if thresholds is None:\n",
    "        thresholds = sorted(np.unique(preds_proba))\n",
    "    all_stats = {\n",
    "        s: [] for s in ['sens', 'spec', 'ppv', 'npv', 'lr+', 'lr-', 'f1']\n",
    "    }\n",
    "    for threshold in tqdm(thresholds):\n",
    "        preds = preds_proba > threshold\n",
    "        #         stats = sklearn.metrics.classification_report(y_test, preds,\n",
    "        #                                                       output_dict=True,\n",
    "        #                                                       zero_division=0)\n",
    "\n",
    "        #         all_stats['sensitivity'].append(stats['1']['recall'])\n",
    "        #         all_stats['specificity'].append(stats['0']['recall'])\n",
    "        tn, fp, fn, tp = metrics.confusion_matrix(y_test, preds).ravel()\n",
    "        with warnings.catch_warnings():\n",
    "            warnings.simplefilter(\"ignore\")\n",
    "            sens = tp / (tp + fn)\n",
    "            spec = tn / (tn + fp)\n",
    "            all_stats['sens'].append(sens)\n",
    "            all_stats['spec'].append(spec)\n",
    "            all_stats['ppv'].append(tp / (tp + fp))\n",
    "            all_stats['npv'].append(tn / (tn + fn))\n",
    "            all_stats['lr+'].append(sens / (1 - spec))\n",
    "            all_stats['lr-'].append((1 - sens) / spec)\n",
    "            all_stats['f1'].append(tp / (tp + 0.5 * (fp + fn)))\n",
    "\n",
    "    if plot:\n",
    "        plt.plot(all_stats['sens'], all_stats['spec'], '.-')\n",
    "        plt.xlabel('sensitivity')\n",
    "        plt.ylabel('specificity')\n",
    "        plt.grid()\n",
    "    return all_stats, thresholds\n",
    "\n",
    "# print(sklearn.metrics.classification_report(y_test, preds))"
   ],
   "metadata": {
    "collapsed": false,
    "pycharm": {
     "name": "#%%\n"
    }
   }
  },
  {
   "cell_type": "markdown",
   "source": [
    "# 1. IAI model"
   ],
   "metadata": {
    "collapsed": false,
    "pycharm": {
     "name": "#%% md\n"
    }
   }
  },
  {
   "cell_type": "code",
   "execution_count": 3,
   "metadata": {
    "pycharm": {
     "name": "#%%\n"
    }
   },
   "outputs": [],
   "source": [
    "X, y, feature_names = get_clean_dataset('iai_pecarn_pred.csv', 'imodels')\n",
    "X_train, X_test, y_train, y_test = train_test_split(X, y, test_size=0.3)"
   ]
  },
  {
   "cell_type": "code",
   "execution_count": 4,
   "metadata": {
    "collapsed": false,
    "pycharm": {
     "name": "#%%\n"
    }
   },
   "outputs": [],
   "source": [
    "max_rules = 15\n",
    "figs_base = imodels.FIGSClassifier(max_rules=max_rules)\n",
    "figs_ext = FIGSExtClassifier(max_rules=max_rules, k1=10)"
   ]
  },
  {
   "cell_type": "code",
   "execution_count": 5,
   "metadata": {
    "collapsed": false,
    "pycharm": {
     "name": "#%%\n"
    }
   },
   "outputs": [
    {
     "data": {
      "text/plain": "FIGSExtClassifier(k1=10, max_rules=15)"
     },
     "execution_count": 5,
     "metadata": {},
     "output_type": "execute_result"
    }
   ],
   "source": [
    "sample_weight = np.ones_like(y_train)\n",
    "sample_weight[y_train == 1] = 100\n",
    "figs_base.fit(X_train, y_train, feature_names=feature_names, sample_weight=sample_weight)\n",
    "figs_ext.fit(X_train, y_train, feature_names=feature_names, sample_weight=sample_weight)"
   ]
  },
  {
   "cell_type": "code",
   "execution_count": null,
   "outputs": [],
   "source": [
    "print"
   ],
   "metadata": {
    "collapsed": false,
    "pycharm": {
     "name": "#%%\n"
    }
   }
  },
  {
   "cell_type": "code",
   "execution_count": 7,
   "metadata": {
    "collapsed": false,
    "pycharm": {
     "name": "#%%\n"
    }
   },
   "outputs": [
    {
     "name": "stdout",
     "output_type": "stream",
     "text": [
      "------------\n",
      "AbdomenPain_no <= 0.500 (Tree #0 root)\n",
      "\tVal: 0.760 (leaf)\n",
      "\tSeatBeltSign_yes <= 0.500 (split)\n",
      "\t\tGCSScore_Full_yes <= 0.500 (split)\n",
      "\t\t\tVal: 0.595 (leaf)\n",
      "\t\t\tVomitWretch_unknown <= 0.500 (split)\n",
      "\t\t\t\tMOI_Fall down stairs <= 0.500 (split)\n",
      "\t\t\t\t\tAge <= 15.500 (split)\n",
      "\t\t\t\t\t\tAge <= 3.500 (split)\n",
      "\t\t\t\t\t\t\tThoracicTrauma_yes <= 0.500 (split)\n",
      "\t\t\t\t\t\t\t\tVal: -0.028 (leaf)\n",
      "\t\t\t\t\t\t\t\tVal: 0.577 (leaf)\n",
      "\t\t\t\t\t\t\tVal: -0.026 (leaf)\n",
      "\t\t\t\t\t\tMOI_Motorcycle/ATV/Scooter collision <= 0.500 (split)\n",
      "\t\t\t\t\t\t\tThoracicTender_yes <= 0.500 (split)\n",
      "\t\t\t\t\t\t\t\tVal: -0.026 (leaf)\n",
      "\t\t\t\t\t\t\t\tVal: 0.382 (leaf)\n",
      "\t\t\t\t\t\t\tVal: 0.604 (leaf)\n",
      "\t\t\t\t\tVomitWretch_yes <= 0.500 (split)\n",
      "\t\t\t\t\t\tVal: -0.031 (leaf)\n",
      "\t\t\t\t\t\tVal: 0.914 (leaf)\n",
      "\t\t\t\tVal: 0.738 (leaf)\n",
      "\t\tVal: 0.817 (leaf)\n",
      "\n",
      "\t+\n",
      "AbdTenderDegree_Mild <= 0.500 (Tree #1 root)\n",
      "\tVal: 0.031 (leaf)\n",
      "\tAbdDistention_no <= 0.500 (split)\n",
      "\t\tVal: 0.084 (leaf)\n",
      "\t\tAbdDistention_or_AbdomenPain_no <= 0.500 (split)\n",
      "\t\t\tVal: -0.062 (leaf)\n",
      "\t\t\tAbdomenPain_no <= 0.500 (split)\n",
      "\t\t\t\tVal: -0.760 (leaf)\n",
      "\t\t\t\tVal: -0.112 (leaf)\n",
      "\n"
     ]
    }
   ],
   "source": [
    "print(figs_base)"
   ]
  },
  {
   "cell_type": "code",
   "execution_count": 12,
   "outputs": [
    {
     "data": {
      "text/plain": "X_15 <= 0.500 (Tree #0 root)"
     },
     "execution_count": 12,
     "metadata": {},
     "output_type": "execute_result"
    }
   ],
   "source": [
    "figs_base.trees_[0]"
   ],
   "metadata": {
    "collapsed": false,
    "pycharm": {
     "name": "#%%\n"
    }
   }
  },
  {
   "cell_type": "code",
   "execution_count": 9,
   "outputs": [
    {
     "data": {
      "text/plain": "0.6597064655260523"
     },
     "execution_count": 9,
     "metadata": {},
     "output_type": "execute_result"
    }
   ],
   "source": [
    "metrics.roc_auc_score(y_test, figs_base.predict_proba(X_test)[:,1])"
   ],
   "metadata": {
    "collapsed": false,
    "pycharm": {
     "name": "#%%\n"
    }
   }
  },
  {
   "cell_type": "code",
   "execution_count": 10,
   "outputs": [
    {
     "data": {
      "text/plain": "0.6749187465505612"
     },
     "execution_count": 10,
     "metadata": {},
     "output_type": "execute_result"
    }
   ],
   "source": [
    "metrics.roc_auc_score(y_test, figs_ext.predict_proba(X_test)[:,1])"
   ],
   "metadata": {
    "collapsed": false,
    "pycharm": {
     "name": "#%%\n"
    }
   }
  },
  {
   "cell_type": "code",
   "execution_count": 13,
   "metadata": {
    "collapsed": false,
    "pycharm": {
     "name": "#%%\n"
    }
   },
   "outputs": [
    {
     "name": "stderr",
     "output_type": "stream",
     "text": [
      "100%|██████████| 6/6 [00:00<00:00, 591.25it/s]\n"
     ]
    },
    {
     "data": {
      "text/plain": "({'sens': [0.9242424242424242,\n   0.9242424242424242,\n   0.8787878787878788,\n   0.8787878787878788,\n   0.015151515151515152,\n   0.0],\n  'spec': [0.4746335963923337,\n   0.49408117249154454,\n   0.5338218714768884,\n   0.5453776775648252,\n   0.9937993235625705,\n   1.0],\n  'ppv': [0.03168831168831169,\n   0.03286637931034483,\n   0.03387850467289719,\n   0.034709754637941355,\n   0.043478260869565216,\n   nan],\n  'npv': [0.9970396684428656,\n   0.997155858930603,\n   0.9957939011566772,\n   0.9958826556870818,\n   0.9818991924255082,\n   0.981737686773658],\n  'lr+': [1.7592339706073612,\n   1.8268591204524354,\n   1.8850903228170461,\n   1.9330064438557928,\n   2.443526170798914,\n   nan],\n  'lr-': [0.1596127546246312,\n   0.15333022178430059,\n   0.22706473392851428,\n   0.22225354318377574,\n   0.9909933137386342,\n   1.0],\n  'f1': [0.06127574083375188,\n   0.06347554630593132,\n   0.06524184476940383,\n   0.0667818077144502,\n   0.02247191011235955,\n   0.0]},\n [0.13262599469496023,\n  0.546448087431694,\n  0.6641366223908919,\n  0.6896551724137931,\n  0.7609957435831292,\n  0.7905138339920948])"
     },
     "execution_count": 13,
     "metadata": {},
     "output_type": "execute_result"
    },
    {
     "data": {
      "text/plain": "<Figure size 1500x1000 with 1 Axes>",
      "image/png": "[encoded data removed]"
     },
     "metadata": {
      "needs_background": "light"
     },
     "output_type": "display_data"
    }
   ],
   "source": [
    "preds = m.predict_proba(X_test)[:, 1]\n",
    "all_stats_curve(y_test, preds, plot=True)"
   ]
  },
  {
   "cell_type": "markdown",
   "source": [
    "# 2. CSI model"
   ],
   "metadata": {
    "collapsed": false
   }
  },
  {
   "cell_type": "code",
   "execution_count": 13,
   "outputs": [],
   "source": [
    "X, y, feature_names = get_clean_dataset('csi_pecarn_pred.csv', 'imodels')\n",
    "X_train, X_test, y_train, y_test = train_test_split(X, y, test_size=0.3)"
   ],
   "metadata": {
    "collapsed": false,
    "pycharm": {
     "name": "#%%\n"
    }
   }
  },
  {
   "cell_type": "code",
   "execution_count": 29,
   "outputs": [],
   "source": [
    "m = imodels.FIGSClassifier(max_rules=15)"
   ],
   "metadata": {
    "collapsed": false,
    "pycharm": {
     "name": "#%%\n"
    }
   }
  },
  {
   "cell_type": "code",
   "execution_count": 30,
   "outputs": [
    {
     "data": {
      "text/plain": "FIGSClassifier(max_rules=15)"
     },
     "execution_count": 30,
     "metadata": {},
     "output_type": "execute_result"
    }
   ],
   "source": [
    "sample_weight = np.ones_like(y_train)\n",
    "sample_weight[y_train == 1] = 5\n",
    "m.fit(X_train, y_train, feature_names=feature_names, sample_weight=sample_weight)"
   ],
   "metadata": {
    "collapsed": false,
    "pycharm": {
     "name": "#%%\n"
    }
   }
  },
  {
   "cell_type": "code",
   "execution_count": 18,
   "outputs": [
    {
     "data": {
      "text/plain": "0.16299426501660128"
     },
     "execution_count": 18,
     "metadata": {},
     "output_type": "execute_result"
    }
   ],
   "source": [
    "y.mean()"
   ],
   "metadata": {
    "collapsed": false,
    "pycharm": {
     "name": "#%%\n"
    }
   }
  },
  {
   "cell_type": "code",
   "execution_count": 31,
   "outputs": [
    {
     "name": "stdout",
     "output_type": "stream",
     "text": [
      "------------\n",
      "FocalNeuroFindings2 <= 0.500 (Tree #0 root)\n",
      "\tPainNeck2 <= 0.500 (split)\n",
      "\t\tAlteredMentalStatus2 <= 0.500 (split)\n",
      "\t\t\tTorticollis2 <= 0.500 (split)\n",
      "\t\t\t\tAgeInYears <= 4.515 (split)\n",
      "\t\t\t\t\tVal: 0.053 (leaf)\n",
      "\t\t\t\t\tVal: 0.213 (leaf)\n",
      "\t\t\t\tVal: 0.592 (leaf)\n",
      "\t\t\tSITE <= 2.500 (split)\n",
      "\t\t\t\tVal: 0.037 (leaf)\n",
      "\t\t\t\tVal: 0.465 (leaf)\n",
      "\t\tVal: 0.520 (leaf)\n",
      "\tVal: 0.784 (leaf)\n",
      "\n",
      "\t+\n",
      "PtCompPainHead2 <= 0.500 (Tree #1 root)\n",
      "\tPtCompPainExt2 <= 0.500 (split)\n",
      "\t\tHighriskHitByCar <= 0.500 (split)\n",
      "\t\t\tVal: 0.040 (leaf)\n",
      "\t\t\tVal: 0.195 (leaf)\n",
      "\t\tPainNeck2 <= 0.500 (split)\n",
      "\t\t\tVal: -0.168 (leaf)\n",
      "\t\t\tVal: 0.031 (leaf)\n",
      "\tVal: -0.128 (leaf)\n",
      "\n",
      "\t+\n",
      "is_ems <= 0.500 (Tree #2 root)\n",
      "\tVal: 0.107 (leaf)\n",
      "\tsubinj_TorsoTrunk2 <= 0.500 (split)\n",
      "\t\tHighriskMVC <= 0.500 (split)\n",
      "\t\t\taxialloadtop <= 0.500 (split)\n",
      "\t\t\t\tVal: -0.098 (leaf)\n",
      "\t\t\t\tVal: 0.217 (leaf)\n",
      "\t\t\tPosition_S <= 0.500 (split)\n",
      "\t\t\t\tVal: 0.129 (leaf)\n",
      "\t\t\t\tVal: -0.349 (leaf)\n",
      "\t\tVal: 0.125 (leaf)\n",
      "\n"
     ]
    }
   ],
   "source": [
    "print(m)"
   ],
   "metadata": {
    "collapsed": false,
    "pycharm": {
     "name": "#%%\n"
    }
   }
  },
  {
   "cell_type": "markdown",
   "source": [
    "# 3. TBI model"
   ],
   "metadata": {
    "collapsed": false
   }
  },
  {
   "cell_type": "code",
   "execution_count": 32,
   "outputs": [],
   "source": [
    "X, y, feature_names = get_clean_dataset('tbi_pecarn_pred.csv', 'imodels')\n",
    "X_train, X_test, y_train, y_test = train_test_split(X, y, test_size=0.3)"
   ],
   "metadata": {
    "collapsed": false,
    "pycharm": {
     "name": "#%%\n"
    }
   }
  },
  {
   "cell_type": "code",
   "execution_count": 33,
   "outputs": [],
   "source": [
    "m = imodels.FIGSClassifier(max_rules=15)"
   ],
   "metadata": {
    "collapsed": false,
    "pycharm": {
     "name": "#%%\n"
    }
   }
  },
  {
   "cell_type": "code",
   "execution_count": 34,
   "outputs": [
    {
     "data": {
      "text/plain": "FIGSClassifier(max_rules=15)"
     },
     "execution_count": 34,
     "metadata": {},
     "output_type": "execute_result"
    }
   ],
   "source": [
    "sample_weight = np.ones_like(y_train)\n",
    "sample_weight[y_train == 1] = 5\n",
    "m.fit(X_train, y_train, feature_names=feature_names, sample_weight=sample_weight)"
   ],
   "metadata": {
    "collapsed": false,
    "pycharm": {
     "name": "#%%\n"
    }
   }
  },
  {
   "cell_type": "code",
   "execution_count": 18,
   "outputs": [
    {
     "data": {
      "text/plain": "0.16299426501660128"
     },
     "execution_count": 18,
     "metadata": {},
     "output_type": "execute_result"
    }
   ],
   "source": [
    "y.mean()"
   ],
   "metadata": {
    "collapsed": false,
    "pycharm": {
     "name": "#%%\n"
    }
   }
  },
  {
   "cell_type": "code",
   "execution_count": 31,
   "outputs": [
    {
     "name": "stdout",
     "output_type": "stream",
     "text": [
      "------------\n",
      "FocalNeuroFindings2 <= 0.500 (Tree #0 root)\n",
      "\tPainNeck2 <= 0.500 (split)\n",
      "\t\tAlteredMentalStatus2 <= 0.500 (split)\n",
      "\t\t\tTorticollis2 <= 0.500 (split)\n",
      "\t\t\t\tAgeInYears <= 4.515 (split)\n",
      "\t\t\t\t\tVal: 0.053 (leaf)\n",
      "\t\t\t\t\tVal: 0.213 (leaf)\n",
      "\t\t\t\tVal: 0.592 (leaf)\n",
      "\t\t\tSITE <= 2.500 (split)\n",
      "\t\t\t\tVal: 0.037 (leaf)\n",
      "\t\t\t\tVal: 0.465 (leaf)\n",
      "\t\tVal: 0.520 (leaf)\n",
      "\tVal: 0.784 (leaf)\n",
      "\n",
      "\t+\n",
      "PtCompPainHead2 <= 0.500 (Tree #1 root)\n",
      "\tPtCompPainExt2 <= 0.500 (split)\n",
      "\t\tHighriskHitByCar <= 0.500 (split)\n",
      "\t\t\tVal: 0.040 (leaf)\n",
      "\t\t\tVal: 0.195 (leaf)\n",
      "\t\tPainNeck2 <= 0.500 (split)\n",
      "\t\t\tVal: -0.168 (leaf)\n",
      "\t\t\tVal: 0.031 (leaf)\n",
      "\tVal: -0.128 (leaf)\n",
      "\n",
      "\t+\n",
      "is_ems <= 0.500 (Tree #2 root)\n",
      "\tVal: 0.107 (leaf)\n",
      "\tsubinj_TorsoTrunk2 <= 0.500 (split)\n",
      "\t\tHighriskMVC <= 0.500 (split)\n",
      "\t\t\taxialloadtop <= 0.500 (split)\n",
      "\t\t\t\tVal: -0.098 (leaf)\n",
      "\t\t\t\tVal: 0.217 (leaf)\n",
      "\t\t\tPosition_S <= 0.500 (split)\n",
      "\t\t\t\tVal: 0.129 (leaf)\n",
      "\t\t\t\tVal: -0.349 (leaf)\n",
      "\t\tVal: 0.125 (leaf)\n",
      "\n"
     ]
    }
   ],
   "source": [
    "print(m)"
   ],
   "metadata": {
    "collapsed": false,
    "pycharm": {
     "name": "#%%\n"
    }
   }
  }
 ],
 "metadata": {
  "jupytext": {
   "formats": "ipynb,../../tests/notebooks//py:percent"
  },
  "kernelspec": {
   "display_name": "Python 3 (ipykernel)",
   "language": "python",
   "name": "python3"
  },
  "language_info": {
   "codemirror_mode": {
    "name": "ipython",
    "version": 3
   },
   "file_extension": ".py",
   "mimetype": "text/x-python",
   "name": "python",
   "nbconvert_exporter": "python",
   "pygments_lexer": "ipython3",
   "version": "3.10.0"
  }
 },
 "nbformat": 4,
 "nbformat_minor": 4
}