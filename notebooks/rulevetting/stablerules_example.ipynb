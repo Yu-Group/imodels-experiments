{
 "cells": [
  {
   "cell_type": "code",
   "execution_count": 1,
   "metadata": {},
   "outputs": [],
   "source": [
    "%load_ext autoreload\n",
    "%autoreload 2\n",
    "import os\n",
    "import pickle as pkl\n",
    "from functools import partial\n",
    "from os.path import join as oj\n",
    "\n",
    "import numpy as np\n",
    "import pandas as pd\n",
    "\n",
    "pd.set_option('display.max_rows', 500)\n",
    "pd.set_option('display.max_columns', 50)\n",
    "import sklearn as sk\n",
    "\n",
    "import imodels\n",
    "from imodels.util import data_util\n",
    "from imodels.discretization import discretizer, simple\n",
    "\n",
    "import matplotlib as mpl\n",
    "import matplotlib.pyplot as plt\n",
    "\n",
    "mpl.rcParams['figure.dpi'] = 250\n",
    "\n",
    "# change working directory to project root\n",
    "while os.getcwd().split('/')[-1] != 'imodels-experiments':\n",
    "    os.chdir('..')\n",
    "\n",
    "import viz\n",
    "from local_models.stable import StableLinearClassifier as stbl_local\n",
    "# from experiments.util import get_comparison_result\n",
    "\n",
    "np.random.seed(0)"
   ]
  },
  {
   "cell_type": "code",
   "execution_count": 4,
   "metadata": {},
   "outputs": [],
   "source": [
    "X, y, feature_names = data_util.get_clean_dataset('csi_all.csv', data_source='imodels')\n",
    "X_train, X_test, y_train, y_test = sk.model_selection.train_test_split(\n",
    "        X, y, test_size=744, random_state=0, shuffle=False)"
   ]
  },
  {
   "cell_type": "code",
   "execution_count": 5,
   "metadata": {},
   "outputs": [],
   "source": [
    "submodel_dfs = [\n",
    "    pkl.load(open(oj('results/rulevetting/csi/cv', f'{submodel}_comparisons.pkl'), 'rb'))['df']\n",
    "    for submodel in ['rulefit', 'skope_rules', 'brs']]"
   ]
  },
  {
   "cell_type": "code",
   "execution_count": 7,
   "metadata": {},
   "outputs": [
    {
     "data": {
      "text/plain": [
       "StableLinearClassifier(cv=False, max_complexity=40, max_rules=13,\n",
       "                       metric='best_spec_0.96_sens', penalty='l2',\n",
       "                       random_state=0)"
      ]
     },
     "execution_count": 7,
     "metadata": {},
     "output_type": "execute_result"
    }
   ],
   "source": [
    "stbl = stbl_local(\n",
    "    max_rules=13, \n",
    "    max_complexity=40, \n",
    "    min_mult=2, \n",
    "    penalty='l2', \n",
    "    metric='best_spec_0.96_sens', \n",
    "    cv=False, random_state=0)\n",
    "stbl.set_rules(submodel_dfs, '_train')\n",
    "stbl.fit(X_train, y_train, feature_names=feature_names)"
   ]
  },
  {
   "cell_type": "code",
   "execution_count": 8,
   "metadata": {},
   "outputs": [
    {
     "name": "stdout",
     "output_type": "stream",
     "text": [
      "0.8080224183678995\n",
      "0.4955251878326584\n"
     ]
    }
   ],
   "source": [
    "print(sk.metrics.roc_auc_score(y_test, stbl.predict_proba(X_test)[:, 1]))\n",
    "print(sk.metrics.average_precision_score(y_test, stbl.predict_proba(X_test)[:, 1]))"
   ]
  },
  {
   "cell_type": "code",
   "execution_count": 9,
   "metadata": {},
   "outputs": [
    {
     "data": {
      "text/html": [
       "<div>\n",
       "<style scoped>\n",
       "    .dataframe tbody tr th:only-of-type {\n",
       "        vertical-align: middle;\n",
       "    }\n",
       "\n",
       "    .dataframe tbody tr th {\n",
       "        vertical-align: top;\n",
       "    }\n",
       "\n",
       "    .dataframe thead th {\n",
       "        text-align: right;\n",
       "    }\n",
       "</style>\n",
       "<table border=\"1\" class=\"dataframe\">\n",
       "  <thead>\n",
       "    <tr style=\"text-align: right;\">\n",
       "      <th></th>\n",
       "      <th>rule</th>\n",
       "      <th>coef</th>\n",
       "    </tr>\n",
       "  </thead>\n",
       "  <tbody>\n",
       "    <tr>\n",
       "      <th>9</th>\n",
       "      <td>HighriskDiving &lt;= 0.5</td>\n",
       "      <td>-2.25</td>\n",
       "    </tr>\n",
       "    <tr>\n",
       "      <th>8</th>\n",
       "      <td>Torticollis2 &lt;= 0.5</td>\n",
       "      <td>-0.35</td>\n",
       "    </tr>\n",
       "    <tr>\n",
       "      <th>4</th>\n",
       "      <td>HighriskMVC &lt;= 0.5</td>\n",
       "      <td>-0.80</td>\n",
       "    </tr>\n",
       "    <tr>\n",
       "      <th>11</th>\n",
       "      <td>MedsRecd2 &lt;= 0.5</td>\n",
       "      <td>0.07</td>\n",
       "    </tr>\n",
       "    <tr>\n",
       "      <th>12</th>\n",
       "      <td>Position_L &lt;= 0.5</td>\n",
       "      <td>0.10</td>\n",
       "    </tr>\n",
       "    <tr>\n",
       "      <th>1</th>\n",
       "      <td>FocalNeuroFindings2 &lt;= 0.5 and MedsRecd2 &lt;= 0.5</td>\n",
       "      <td>0.20</td>\n",
       "    </tr>\n",
       "    <tr>\n",
       "      <th>6</th>\n",
       "      <td>AlteredMentalStatus2 &lt;= 0.5 and FocalNeuroFindings2 &lt;= 0.5 and Torticollis2 &lt;= 0.5</td>\n",
       "      <td>-1.04</td>\n",
       "    </tr>\n",
       "    <tr>\n",
       "      <th>2</th>\n",
       "      <td>PainNeck2 &gt; 0.5</td>\n",
       "      <td>0.92</td>\n",
       "    </tr>\n",
       "    <tr>\n",
       "      <th>3</th>\n",
       "      <td>is_ems &lt;= 0.5</td>\n",
       "      <td>0.53</td>\n",
       "    </tr>\n",
       "    <tr>\n",
       "      <th>0</th>\n",
       "      <td>AlteredMentalStatus2 &gt; 0.5</td>\n",
       "      <td>0.40</td>\n",
       "    </tr>\n",
       "    <tr>\n",
       "      <th>5</th>\n",
       "      <td>MedsRecd2 &gt; 0.5</td>\n",
       "      <td>1.10</td>\n",
       "    </tr>\n",
       "    <tr>\n",
       "      <th>7</th>\n",
       "      <td>FocalNeuroFindings2 &gt; 0.5</td>\n",
       "      <td>1.67</td>\n",
       "    </tr>\n",
       "    <tr>\n",
       "      <th>10</th>\n",
       "      <td>FocalNeuroFindings2 &gt; 0.5 and MedsRecd2 &lt;= 0.5</td>\n",
       "      <td>-0.43</td>\n",
       "    </tr>\n",
       "  </tbody>\n",
       "</table>\n",
       "</div>"
      ],
      "text/plain": [
       "                                                                                  rule  \\\n",
       "9                                                                HighriskDiving <= 0.5   \n",
       "8                                                                  Torticollis2 <= 0.5   \n",
       "4                                                                   HighriskMVC <= 0.5   \n",
       "11                                                                    MedsRecd2 <= 0.5   \n",
       "12                                                                   Position_L <= 0.5   \n",
       "1                                      FocalNeuroFindings2 <= 0.5 and MedsRecd2 <= 0.5   \n",
       "6   AlteredMentalStatus2 <= 0.5 and FocalNeuroFindings2 <= 0.5 and Torticollis2 <= 0.5   \n",
       "2                                                                      PainNeck2 > 0.5   \n",
       "3                                                                        is_ems <= 0.5   \n",
       "0                                                           AlteredMentalStatus2 > 0.5   \n",
       "5                                                                      MedsRecd2 > 0.5   \n",
       "7                                                            FocalNeuroFindings2 > 0.5   \n",
       "10                                      FocalNeuroFindings2 > 0.5 and MedsRecd2 <= 0.5   \n",
       "\n",
       "    coef  \n",
       "9  -2.25  \n",
       "8  -0.35  \n",
       "4  -0.80  \n",
       "11  0.07  \n",
       "12  0.10  \n",
       "1   0.20  \n",
       "6  -1.04  \n",
       "2   0.92  \n",
       "3   0.53  \n",
       "0   0.40  \n",
       "5   1.10  \n",
       "7   1.67  \n",
       "10 -0.43  "
      ]
     },
     "execution_count": 9,
     "metadata": {},
     "output_type": "execute_result"
    }
   ],
   "source": [
    "stbl.visualize()"
   ]
  },
  {
   "cell_type": "code",
   "execution_count": null,
   "metadata": {},
   "outputs": [],
   "source": []
  }
 ],
 "metadata": {
  "interpreter": {
   "hash": "16c9288173fff65747f4392d5d22e70cab2a0aff34127c5dd8664986d6ffa22f"
  },
  "kernelspec": {
   "display_name": "Python 3.10.0 64-bit ('imodels-experiments-3.10': conda)",
   "language": "python",
   "name": "python3"
  },
  "language_info": {
   "codemirror_mode": {
    "name": "ipython",
    "version": 3
   },
   "file_extension": ".py",
   "mimetype": "text/x-python",
   "name": "python",
   "nbconvert_exporter": "python",
   "pygments_lexer": "ipython3",
   "version": "3.10.0"
  },
  "orig_nbformat": 4
 },
 "nbformat": 4,
 "nbformat_minor": 2
}
