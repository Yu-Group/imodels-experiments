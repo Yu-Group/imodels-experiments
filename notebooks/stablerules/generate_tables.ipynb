{
 "cells": [
  {
   "cell_type": "code",
   "execution_count": 1,
   "id": "b30657b1",
   "metadata": {},
   "outputs": [],
   "source": [
    "%load_ext autoreload\n",
    "%autoreload 2\n",
    "import os\n",
    "import pickle as pkl\n",
    "from collections import defaultdict\n",
    "from os.path import join as oj\n",
    "\n",
    "import numpy as np\n",
    "import pandas as pd\n",
    "\n",
    "pd.set_option('display.max_rows', 500)\n",
    "pd.set_option('display.max_columns', 50)\n",
    "import sklearn as sk\n",
    "\n",
    "import matplotlib as mpl\n",
    "import matplotlib.pyplot as plt\n",
    "\n",
    "mpl.rcParams['figure.dpi'] = 250\n",
    "\n",
    "# change working directory to project root\n",
    "while os.getcwd().split('/')[-1] != 'imodels-experiments':\n",
    "    os.chdir('..')\n",
    "\n",
    "import viz\n",
    "\n",
    "np.random.seed(0)"
   ]
  },
  {
   "cell_type": "code",
   "execution_count": 2,
   "id": "11faafe7",
   "metadata": {},
   "outputs": [],
   "source": [
    "models = ['cart', 'random_forest', 'gradient_boosting', 'grl', 'brs', 'skope_rules', 'rulefit']#, 'stbl_l1', 'stbl_l2']"
   ]
  },
  {
   "cell_type": "code",
   "execution_count": 3,
   "id": "05db2f2a",
   "metadata": {},
   "outputs": [],
   "source": [
    "def get_all_results(dataset: str):\n",
    "    return [\n",
    "        pkl.load(open(f'results/stablerules/{dataset}/cv/{model}_comparisons.pkl', 'rb'))\n",
    "        for model in models]"
   ]
  },
  {
   "cell_type": "code",
   "execution_count": 4,
   "id": "0be06c0d",
   "metadata": {},
   "outputs": [],
   "source": [
    "def generate_table(result_list, compl_limit: int):\n",
    "    met_dict = defaultdict(lambda: [])\n",
    "    \n",
    "    for res in result_list:\n",
    "        df = res['df']\n",
    "        df_under_c = df[df['complexity_train'] <= compl_limit]\n",
    "        \n",
    "        for metric in ['rocauc', 'avg_precision', 'best_spec_0.95_sens', 'best_accuracy']:\n",
    "            best_metric = df_under_c[metric + '_test'].max()\n",
    "            met_dict[metric].append(best_metric)\n",
    "        \n",
    "    return pd.DataFrame(met_dict, index=models)"
   ]
  },
  {
   "cell_type": "code",
   "execution_count": 5,
   "id": "706cce21",
   "metadata": {},
   "outputs": [],
   "source": [
    "recidivism_results = get_all_results('recidivism')\n",
    "credit_results = get_all_results('credit')"
   ]
  },
  {
   "cell_type": "markdown",
   "id": "ba1e6159",
   "metadata": {},
   "source": [
    "## recidivism"
   ]
  },
  {
   "cell_type": "code",
   "execution_count": 6,
   "id": "4b473a10",
   "metadata": {
    "scrolled": true
   },
   "outputs": [
    {
     "data": {
      "text/html": [
       "<style type=\"text/css\">\n",
       "#T_58db4_row1_col3, #T_58db4_row6_col0, #T_58db4_row6_col1, #T_58db4_row6_col2, #T_58db4_row6_col3 {\n",
       "  background-color: yellow;\n",
       "}\n",
       "</style>\n",
       "<table id=\"T_58db4_\">\n",
       "  <thead>\n",
       "    <tr>\n",
       "      <th class=\"blank level0\" >&nbsp;</th>\n",
       "      <th class=\"col_heading level0 col0\" >rocauc</th>\n",
       "      <th class=\"col_heading level0 col1\" >avg_precision</th>\n",
       "      <th class=\"col_heading level0 col2\" >best_spec_0.95_sens</th>\n",
       "      <th class=\"col_heading level0 col3\" >best_accuracy</th>\n",
       "    </tr>\n",
       "  </thead>\n",
       "  <tbody>\n",
       "    <tr>\n",
       "      <th id=\"T_58db4_level0_row0\" class=\"row_heading level0 row0\" >cart</th>\n",
       "      <td id=\"T_58db4_row0_col0\" class=\"data row0 col0\" >0.705205</td>\n",
       "      <td id=\"T_58db4_row0_col1\" class=\"data row0 col1\" >0.668491</td>\n",
       "      <td id=\"T_58db4_row0_col2\" class=\"data row0 col2\" >0.139752</td>\n",
       "      <td id=\"T_58db4_row0_col3\" class=\"data row0 col3\" >0.660729</td>\n",
       "    </tr>\n",
       "    <tr>\n",
       "      <th id=\"T_58db4_level0_row1\" class=\"row_heading level0 row1\" >random_forest</th>\n",
       "      <td id=\"T_58db4_row1_col0\" class=\"data row1 col0\" >0.693729</td>\n",
       "      <td id=\"T_58db4_row1_col1\" class=\"data row1 col1\" >0.650100</td>\n",
       "      <td id=\"T_58db4_row1_col2\" class=\"data row1 col2\" >0.136646</td>\n",
       "      <td id=\"T_58db4_row1_col3\" class=\"data row1 col3\" >0.669636</td>\n",
       "    </tr>\n",
       "    <tr>\n",
       "      <th id=\"T_58db4_level0_row2\" class=\"row_heading level0 row2\" >gradient_boosting</th>\n",
       "      <td id=\"T_58db4_row2_col0\" class=\"data row2 col0\" >0.694487</td>\n",
       "      <td id=\"T_58db4_row2_col1\" class=\"data row2 col1\" >0.654027</td>\n",
       "      <td id=\"T_58db4_row2_col2\" class=\"data row2 col2\" >0.000000</td>\n",
       "      <td id=\"T_58db4_row2_col3\" class=\"data row2 col3\" >0.657490</td>\n",
       "    </tr>\n",
       "    <tr>\n",
       "      <th id=\"T_58db4_level0_row3\" class=\"row_heading level0 row3\" >grl</th>\n",
       "      <td id=\"T_58db4_row3_col0\" class=\"data row3 col0\" >0.680412</td>\n",
       "      <td id=\"T_58db4_row3_col1\" class=\"data row3 col1\" >0.616251</td>\n",
       "      <td id=\"T_58db4_row3_col2\" class=\"data row3 col2\" >0.024845</td>\n",
       "      <td id=\"T_58db4_row3_col3\" class=\"data row3 col3\" >0.645344</td>\n",
       "    </tr>\n",
       "    <tr>\n",
       "      <th id=\"T_58db4_level0_row4\" class=\"row_heading level0 row4\" >brs</th>\n",
       "      <td id=\"T_58db4_row4_col0\" class=\"data row4 col0\" >0.701961</td>\n",
       "      <td id=\"T_58db4_row4_col1\" class=\"data row4 col1\" >0.672474</td>\n",
       "      <td id=\"T_58db4_row4_col2\" class=\"data row4 col2\" >0.108696</td>\n",
       "      <td id=\"T_58db4_row4_col3\" class=\"data row4 col3\" >0.659919</td>\n",
       "    </tr>\n",
       "    <tr>\n",
       "      <th id=\"T_58db4_level0_row5\" class=\"row_heading level0 row5\" >skope_rules</th>\n",
       "      <td id=\"T_58db4_row5_col0\" class=\"data row5 col0\" >0.693319</td>\n",
       "      <td id=\"T_58db4_row5_col1\" class=\"data row5 col1\" >0.642211</td>\n",
       "      <td id=\"T_58db4_row5_col2\" class=\"data row5 col2\" >0.155280</td>\n",
       "      <td id=\"T_58db4_row5_col3\" class=\"data row5 col3\" >0.664777</td>\n",
       "    </tr>\n",
       "    <tr>\n",
       "      <th id=\"T_58db4_level0_row6\" class=\"row_heading level0 row6\" >rulefit</th>\n",
       "      <td id=\"T_58db4_row6_col0\" class=\"data row6 col0\" >0.707372</td>\n",
       "      <td id=\"T_58db4_row6_col1\" class=\"data row6 col1\" >0.687766</td>\n",
       "      <td id=\"T_58db4_row6_col2\" class=\"data row6 col2\" >0.158385</td>\n",
       "      <td id=\"T_58db4_row6_col3\" class=\"data row6 col3\" >0.669636</td>\n",
       "    </tr>\n",
       "  </tbody>\n",
       "</table>\n"
      ],
      "text/plain": [
       "<pandas.io.formats.style.Styler at 0x7f7de0d3a860>"
      ]
     },
     "execution_count": 6,
     "metadata": {},
     "output_type": "execute_result"
    }
   ],
   "source": [
    "generate_table(recidivism_results, 25).style.highlight_max()"
   ]
  },
  {
   "cell_type": "markdown",
   "id": "dec6d857",
   "metadata": {},
   "source": [
    "## credit"
   ]
  },
  {
   "cell_type": "code",
   "execution_count": 7,
   "id": "34f1b75c",
   "metadata": {
    "scrolled": true
   },
   "outputs": [
    {
     "data": {
      "text/html": [
       "<style type=\"text/css\">\n",
       "#T_b584a_row0_col0, #T_b584a_row0_col1, #T_b584a_row0_col2, #T_b584a_row2_col3 {\n",
       "  background-color: yellow;\n",
       "}\n",
       "</style>\n",
       "<table id=\"T_b584a_\">\n",
       "  <thead>\n",
       "    <tr>\n",
       "      <th class=\"blank level0\" >&nbsp;</th>\n",
       "      <th class=\"col_heading level0 col0\" >rocauc</th>\n",
       "      <th class=\"col_heading level0 col1\" >avg_precision</th>\n",
       "      <th class=\"col_heading level0 col2\" >best_spec_0.95_sens</th>\n",
       "      <th class=\"col_heading level0 col3\" >best_accuracy</th>\n",
       "    </tr>\n",
       "  </thead>\n",
       "  <tbody>\n",
       "    <tr>\n",
       "      <th id=\"T_b584a_level0_row0\" class=\"row_heading level0 row0\" >cart</th>\n",
       "      <td id=\"T_b584a_row0_col0\" class=\"data row0 col0\" >0.762668</td>\n",
       "      <td id=\"T_b584a_row0_col1\" class=\"data row0 col1\" >0.527735</td>\n",
       "      <td id=\"T_b584a_row0_col2\" class=\"data row0 col2\" >0.216032</td>\n",
       "      <td id=\"T_b584a_row0_col3\" class=\"data row0 col3\" >0.831167</td>\n",
       "    </tr>\n",
       "    <tr>\n",
       "      <th id=\"T_b584a_level0_row1\" class=\"row_heading level0 row1\" >random_forest</th>\n",
       "      <td id=\"T_b584a_row1_col0\" class=\"data row1 col0\" >0.753159</td>\n",
       "      <td id=\"T_b584a_row1_col1\" class=\"data row1 col1\" >0.515887</td>\n",
       "      <td id=\"T_b584a_row1_col2\" class=\"data row1 col2\" >0.192643</td>\n",
       "      <td id=\"T_b584a_row1_col3\" class=\"data row1 col3\" >0.828500</td>\n",
       "    </tr>\n",
       "    <tr>\n",
       "      <th id=\"T_b584a_level0_row2\" class=\"row_heading level0 row2\" >gradient_boosting</th>\n",
       "      <td id=\"T_b584a_row2_col0\" class=\"data row2 col0\" >0.720744</td>\n",
       "      <td id=\"T_b584a_row2_col1\" class=\"data row2 col1\" >0.479364</td>\n",
       "      <td id=\"T_b584a_row2_col2\" class=\"data row2 col2\" >0.000000</td>\n",
       "      <td id=\"T_b584a_row2_col3\" class=\"data row2 col3\" >0.832167</td>\n",
       "    </tr>\n",
       "    <tr>\n",
       "      <th id=\"T_b584a_level0_row3\" class=\"row_heading level0 row3\" >grl</th>\n",
       "      <td id=\"T_b584a_row3_col0\" class=\"data row3 col0\" >0.757382</td>\n",
       "      <td id=\"T_b584a_row3_col1\" class=\"data row3 col1\" >0.487679</td>\n",
       "      <td id=\"T_b584a_row3_col2\" class=\"data row3 col2\" >0.143100</td>\n",
       "      <td id=\"T_b584a_row3_col3\" class=\"data row3 col3\" >0.823833</td>\n",
       "    </tr>\n",
       "    <tr>\n",
       "      <th id=\"T_b584a_level0_row4\" class=\"row_heading level0 row4\" >brs</th>\n",
       "      <td id=\"T_b584a_row4_col0\" class=\"data row4 col0\" >0.749875</td>\n",
       "      <td id=\"T_b584a_row4_col1\" class=\"data row4 col1\" >0.503434</td>\n",
       "      <td id=\"T_b584a_row4_col2\" class=\"data row4 col2\" >0.000000</td>\n",
       "      <td id=\"T_b584a_row4_col3\" class=\"data row4 col3\" >0.828667</td>\n",
       "    </tr>\n",
       "    <tr>\n",
       "      <th id=\"T_b584a_level0_row5\" class=\"row_heading level0 row5\" >skope_rules</th>\n",
       "      <td id=\"T_b584a_row5_col0\" class=\"data row5 col0\" >0.722239</td>\n",
       "      <td id=\"T_b584a_row5_col1\" class=\"data row5 col1\" >0.467881</td>\n",
       "      <td id=\"T_b584a_row5_col2\" class=\"data row5 col2\" >0.032745</td>\n",
       "      <td id=\"T_b584a_row5_col3\" class=\"data row5 col3\" >0.827167</td>\n",
       "    </tr>\n",
       "    <tr>\n",
       "      <th id=\"T_b584a_level0_row6\" class=\"row_heading level0 row6\" >rulefit</th>\n",
       "      <td id=\"T_b584a_row6_col0\" class=\"data row6 col0\" >0.759479</td>\n",
       "      <td id=\"T_b584a_row6_col1\" class=\"data row6 col1\" >0.517691</td>\n",
       "      <td id=\"T_b584a_row6_col2\" class=\"data row6 col2\" >0.210504</td>\n",
       "      <td id=\"T_b584a_row6_col3\" class=\"data row6 col3\" >0.828500</td>\n",
       "    </tr>\n",
       "  </tbody>\n",
       "</table>\n"
      ],
      "text/plain": [
       "<pandas.io.formats.style.Styler at 0x7f7dd98206a0>"
      ]
     },
     "execution_count": 7,
     "metadata": {},
     "output_type": "execute_result"
    }
   ],
   "source": [
    "generate_table(credit_results, 25).style.highlight_max()"
   ]
  },
  {
   "cell_type": "code",
   "execution_count": null,
   "id": "fccad091",
   "metadata": {},
   "outputs": [],
   "source": []
  }
 ],
 "metadata": {
  "kernelspec": {
   "display_name": "Python 3 (ipykernel)",
   "language": "python",
   "name": "python3"
  },
  "language_info": {
   "codemirror_mode": {
    "name": "ipython",
    "version": 3
   },
   "file_extension": ".py",
   "mimetype": "text/x-python",
   "name": "python",
   "nbconvert_exporter": "python",
   "pygments_lexer": "ipython3",
   "version": "3.10.0"
  }
 },
 "nbformat": 4,
 "nbformat_minor": 5
}
