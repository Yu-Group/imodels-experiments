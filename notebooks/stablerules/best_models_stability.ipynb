{
 "cells": [
  {
   "cell_type": "code",
   "execution_count": null,
   "id": "78be95a2",
   "metadata": {},
   "outputs": [],
   "source": [
    "%load_ext autoreload\n",
    "%autoreload 2\n",
    "import os\n",
    "import pickle as pkl\n",
    "from functools import partial\n",
    "from os.path import join as oj\n",
    "\n",
    "import numpy as np\n",
    "import pandas as pd\n",
    "\n",
    "pd.set_option('display.max_rows', 500)\n",
    "pd.set_option('display.max_columns', 50)\n",
    "import sklearn as sk\n",
    "\n",
    "import imodels\n",
    "from imodels.util import data_util\n",
    "from imodels.discretization import discretizer, simple\n",
    "\n",
    "import matplotlib as mpl\n",
    "import matplotlib.pyplot as plt\n",
    "\n",
    "mpl.rcParams['figure.dpi'] = 250\n",
    "\n",
    "# change working directory to project root\n",
    "while os.getcwd().split('/')[-1] != 'imodels-experiments':\n",
    "    os.chdir('..')\n",
    "\n",
    "import viz\n",
    "from local_models.stable import StableLinearClassifier as stbl_local\n",
    "# from experiments.util import get_comparison_result\n",
    "\n",
    "np.random.seed(0)"
   ]
  },
  {
   "cell_type": "code",
   "execution_count": null,
   "id": "6484f902",
   "metadata": {},
   "outputs": [],
   "source": [
    "def print_best_params_for_model(model_name: str):\n",
    "    fname = oj('results', 'rulevetting', 'csi', f'cv/{model_name}_comparisons.pkl')\n",
    "    df = pkl.load(open(fname, 'rb'))['df']\n",
    "    best_idx = df[df['complexity_train'] < 25]['best_spec_0.96_sens_cv_mean'].argmax()\n",
    "    print(df.columns[0], df.iloc[best_idx, 0])\n",
    "    if 'other_kwargs' in df.columns:\n",
    "        print(df.iloc[best_idx]['other_kwargs'])\n",
    "    # return df.iloc[best_idx]['vars_train']"
   ]
  }
 ],
 "metadata": {
  "kernelspec": {
   "display_name": "Python 3 (ipykernel)",
   "language": "python",
   "name": "python3"
  },
  "language_info": {
   "codemirror_mode": {
    "name": "ipython",
    "version": 3
   },
   "file_extension": ".py",
   "mimetype": "text/x-python",
   "name": "python",
   "nbconvert_exporter": "python",
   "pygments_lexer": "ipython3",
   "version": "3.10.0"
  }
 },
 "nbformat": 4,
 "nbformat_minor": 5
}
