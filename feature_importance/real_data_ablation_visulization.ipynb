{
 "cells": [
  {
   "cell_type": "code",
   "execution_count": 1,
   "metadata": {},
   "outputs": [],
   "source": [
    "import pandas as pd\n",
    "import matplotlib.pyplot as plt\n",
    "import numpy as np"
   ]
  },
  {
   "cell_type": "code",
   "execution_count": null,
   "metadata": {},
   "outputs": [],
   "source": [
    "# df = pd.read_csv(\"./results/mdi_local.real_data_regression/diabetes_regression/varying_sample_row_n/seed331/results.csv\")\n",
    "# df = pd.read_csv(\"./results/mdi_local.real_data_classification/diabetes_classification/varying_sample_row_n/seed331/results.csv\")\n",
    "# df = pd.read_csv(\"./results/mdi_local.real_data_classification/fico/varying_sample_row_n/seed331/results.csv\")\n",
    "# df = pd.read_csv(\"./results/mdi_local.real_data_regression/satellite_image/varying_sample_row_n/seed331/results.csv\")\n",
    "# df = pd.read_csv(\"./results/mdi_local.real_data_classification/juvenile/varying_sample_row_n/seed331/results.csv\")\n",
    "# df = pd.read_csv(\"./results/mdi_local.real_data_regression/ca_housing/varying_sample_row_n/seed331/results.csv\")"
   ]
  },
  {
   "cell_type": "code",
   "execution_count": null,
   "metadata": {},
   "outputs": [],
   "source": [
    "#################### Change the following according to the dataset ####################\n",
    "task = \"classification\" #\"regression\" \"classification\"\n",
    "########################################################################################\n",
    "methods = [\"LFI_with_raw\",\"LFI_without_raw\",\"TreeSHAP\", \"LIME\"]\n",
    "nreps = df[\"rep\"].max()\n",
    "n_testsize = df[['train_size', 'test_size']].drop_duplicates()\n",
    "num_features = df['num_features'].drop_duplicates()[0]\n",
    "metrics = {\"regression\": \"MSE\", \"classification\": \"AUC\"}\n",
    "results = {}\n",
    "\n",
    "for m in methods:\n",
    "    results[m] = {}\n",
    "    for r in range(nreps+1):\n",
    "        results[m][r] = []"
   ]
  },
  {
   "cell_type": "code",
   "execution_count": null,
   "metadata": {},
   "outputs": [],
   "source": [
    "for m in methods:\n",
    "    for r in range(nreps+1):\n",
    "        df_sub = df[(df[\"fi\"] == m) & (df[\"rep\"] == r)]\n",
    "        assert len(df_sub[metrics[task]+\"_before_ablation\"].unique()) == 1\n",
    "        results[m][r].append(df_sub[metrics[task]+\"_before_ablation\"].unique()[0])\n",
    "        for i in range(num_features):\n",
    "            assert len(df_sub[metrics[task]+f\"_after_ablation_{i+1}\"].unique()) == 1\n",
    "            results[m][r].append(df_sub[metrics[task]+f\"_after_ablation_{i+1}\"].unique()[0])"
   ]
  },
  {
   "cell_type": "code",
   "execution_count": null,
   "metadata": {},
   "outputs": [],
   "source": [
    "agg_results = {} \n",
    "for m in methods:\n",
    "    agg_results[m] = None"
   ]
  },
  {
   "cell_type": "code",
   "execution_count": null,
   "metadata": {},
   "outputs": [],
   "source": [
    "for m in methods:\n",
    "    result = []\n",
    "    for f in range(num_features+1):\n",
    "        result.append(np.mean([results[m][r][f] for r in range(nreps+1)]))          \n",
    "    agg_results[m] = result"
   ]
  },
  {
   "cell_type": "code",
   "execution_count": null,
   "metadata": {},
   "outputs": [],
   "source": [
    "# Plotting\n",
    "fig, ax = plt.subplots()\n",
    "for m in methods:\n",
    "    if m in [\"TreeSHAP\", \"LIME\"]:\n",
    "        ax.plot(range(num_features+1), agg_results[m], label=m, linestyle='dashed')\n",
    "    else:\n",
    "        ax.plot(range(num_features+1), agg_results[m], label=m)\n",
    "ax.set(xlabel='Number of features ablated', ylabel=metrics[task],\n",
    "        title=f'Train size = {n_testsize[\"train_size\"].values[0]}, Test size = {n_testsize[\"test_size\"].values[0]}')\n",
    "ax.legend()\n",
    "plt.savefig(f\"ablation_fico.png\")\n",
    "plt.show()"
   ]
  }
 ],
 "metadata": {
  "kernelspec": {
   "display_name": "base",
   "language": "python",
   "name": "python3"
  },
  "language_info": {
   "codemirror_mode": {
    "name": "ipython",
    "version": 3
   },
   "file_extension": ".py",
   "mimetype": "text/x-python",
   "name": "python",
   "nbconvert_exporter": "python",
   "pygments_lexer": "ipython3",
   "version": "3.11.4"
  },
  "orig_nbformat": 4
 },
 "nbformat": 4,
 "nbformat_minor": 2
}
