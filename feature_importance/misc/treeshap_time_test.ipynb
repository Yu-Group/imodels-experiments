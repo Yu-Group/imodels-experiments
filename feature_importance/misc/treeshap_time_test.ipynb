{
 "cells": [
  {
   "cell_type": "code",
   "execution_count": 6,
   "metadata": {},
   "outputs": [],
   "source": [
    "import shap\n",
    "import numpy as np\n",
    "import pandas as pd\n",
    "from sklearn.ensemble import RandomForestRegressor\n",
    "import time"
   ]
  },
  {
   "cell_type": "code",
   "execution_count": 7,
   "metadata": {},
   "outputs": [
    {
     "name": "stdout",
     "output_type": "stream",
     "text": [
      "Time to create explainer:  0.008701086044311523\n",
      "Time to explain:  5.225969314575195\n"
     ]
    }
   ],
   "source": [
    "# generate normally distributed data with n_samples and n_features\n",
    "X = np.random.normal(size=(5000, 100))\n",
    "# make y the sum of half of the features plus noise\n",
    "y = np.sum(X[:, :100//2], axis=1) + np.random.normal(size=5000)\n",
    "\n",
    "# initialize RF model\n",
    "rf = RandomForestRegressor(n_estimators = 100, max_depth = 5, min_samples_leaf = 5, max_features = 0.33, random_state = 42)\n",
    "\n",
    "# fit rf\n",
    "rf.fit(X, y)\n",
    "\n",
    "start_create_explainer = time.time()\n",
    "\n",
    "# explain the model's predictions using SHAP\n",
    "explainer = shap.TreeExplainer(rf)\n",
    "\n",
    "end_create_explainer = time.time()\n",
    "\n",
    "print(\"Time to create explainer: \", end_create_explainer - start_create_explainer)\n",
    "\n",
    "start_explanation = time.time()\n",
    "\n",
    "shap_values = explainer.shap_values(X)\n",
    "\n",
    "end_explanation = time.time()\n",
    "\n",
    "print(\"Time to explain: \", end_explanation - start_explanation)"
   ]
  }
 ],
 "metadata": {
  "kernelspec": {
   "display_name": "mdi",
   "language": "python",
   "name": "python3"
  },
  "language_info": {
   "codemirror_mode": {
    "name": "ipython",
    "version": 3
   },
   "file_extension": ".py",
   "mimetype": "text/x-python",
   "name": "python",
   "nbconvert_exporter": "python",
   "pygments_lexer": "ipython3",
   "version": "3.10.14"
  }
 },
 "nbformat": 4,
 "nbformat_minor": 2
}
