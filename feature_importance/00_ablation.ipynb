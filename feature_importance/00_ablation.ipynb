{
 "cells": [
  {
   "cell_type": "code",
   "execution_count": null,
   "id": "d14a6520",
   "metadata": {},
   "outputs": [
    {
     "name": "stderr",
     "output_type": "stream",
     "text": [
      "/accounts/projects/binyu/zhongyuan_liang/.local/lib/python3.10/site-packages/tqdm/auto.py:21: TqdmWarning: IProgress not found. Please update jupyter and ipywidgets. See https://ipywidgets.readthedocs.io/en/stable/user_install.html\n",
      "  from .autonotebook import tqdm as notebook_tqdm\n"
     ]
    }
   ],
   "source": [
    "import pandas as pd\n",
    "import matplotlib.pyplot as plt\n",
    "import numpy as np\n",
    "import os\n",
    "import pickle\n",
    "import seaborn as sns\n",
    "pd.set_option('display.max_columns', None)\n",
    "import sys\n",
    "sys.path.append('..')\n",
    "sys.path.append('../..')\n",
    "sys.path.append('.')\n",
    "sys.path.append('./scripts')\n",
    "from competing_methods_local import *\n",
    "from simulations_util import *\n",
    "from util import apply_splitting_strategy\n",
    "from sklearn.preprocessing import StandardScaler"
   ]
  },
  {
   "cell_type": "code",
   "execution_count": null,
   "id": "af3cd88f",
   "metadata": {},
   "outputs": [],
   "source": [
    "def load_selection_results(task=\"regression\"):\n",
    "    if task == \"regression\":\n",
    "        datasets = ['openml_361242', 'openml_361243', 'openml_361253', 'openml_361254', 'openml_361259', 'openml_361260']\n",
    "        result_cols = [\"RF_Regressor_R2_keep_0.1\", \"RF_Regressor_R2_keep_0.2\", \"RF_Regressor_R2_keep_0.3\", \"RF_Regressor_R2_keep_0.4\"]\n",
    "    elif task == \"classification\":\n",
    "        datasets = ['openml_361062', 'openml_361063', 'openml_361069', 'openml_361071', 'openml_43', 'openml_9978']\n",
    "        result_cols = [\"RF_Classifier_AUROC_keep_0.1\", \"RF_Classifier_AUROC_keep_0.2\", \"RF_Classifier_AUROC_keep_0.3\", \"RF_Classifier_AUROC_keep_0.4\"]\n",
    "    combined_df = pd.DataFrame()\n",
    "    split_seeds = [1,2,3,4]\n",
    "    sample_seeds = [1,2,3,4,5]\n",
    "    for data in datasets:\n",
    "        ablation_directory =f\"/accounts/projects/binyu/zhongyuan_liang/local_MDI+/imodels-experiments/feature_importance/results/mdi_local.real_data_{task}_{data}/{data}_selection/varying_sample_row_n\"\n",
    "        for split_seed in split_seeds:\n",
    "            for sample_seed in sample_seeds:\n",
    "                df = pd.read_csv(os.path.join(ablation_directory, f\"seed_{split_seed}_{sample_seed}/results.csv\"))\n",
    "                df[\"data\"] = data\n",
    "                combined_df = pd.concat([combined_df, df], ignore_index=True)\n",
    "    combined_df = combined_df.groupby(['fi', 'data'])[result_cols].mean().reset_index()\n",
    "    return combined_df\n",
    "\n",
    "def load_stability_results(task=\"regression\"):\n",
    "    if task == \"regression\":\n",
    "        datasets = ['openml_361242', 'openml_361243', 'openml_361253', 'openml_361254', 'openml_361259', 'openml_361260']\n",
    "    elif task == \"classification\":\n",
    "        datasets = ['openml_361062', 'openml_361063', 'openml_361069', 'openml_361071', 'openml_43', 'openml_9978']\n",
    "    result_cols = [\"avg_10_features\", \"avg_20_features\", \"avg_30_features\", \"avg_40_features\"]\n",
    "    combined_df = pd.DataFrame()\n",
    "    split_seeds = [1,2,3]\n",
    "    sample_seeds = [1,2,3,4,5]\n",
    "    for data in datasets:\n",
    "        ablation_directory =f\"/accounts/projects/binyu/zhongyuan_liang/local_MDI+/imodels-experiments/feature_importance/results/mdi_local.real_data_{task}_{data}_stability/{data}_stability/varying_sample_row_n\"\n",
    "        for split_seed in split_seeds:\n",
    "            for sample_seed in sample_seeds:\n",
    "                df = pd.read_csv(os.path.join(ablation_directory, f\"seed_{split_seed}_{sample_seed}/results.csv\"))\n",
    "                df[\"data\"] = data\n",
    "                combined_df = pd.concat([combined_df, df], ignore_index=True)\n",
    "    combined_df = combined_df.groupby(['fi', 'data'])[result_cols].mean().reset_index()\n",
    "    return combined_df"
   ]
  },
  {
   "cell_type": "code",
   "execution_count": null,
   "id": "1bdcd077",
   "metadata": {},
   "outputs": [],
   "source": [
    "def compute_selection_ablation_rank_results(regression_results_df, classification_results_df, method=\"Local_MDI+_MDI_elasticnet_fit_on_all_ranking_RFPlus\", baselines=['LIME_RF', 'TreeSHAP_RF']):\n",
    "    baselines.append(method)\n",
    "    \n",
    "    regression_results_df = regression_results_df[regression_results_df[\"fi\"].isin(baselines)]\n",
    "    datasets = ['openml_361242', 'openml_361243', 'openml_361253', 'openml_361254', 'openml_361259', 'openml_361260']\n",
    "    result_cols = [\"RF_Regressor_R2_keep_0.1\", \"RF_Regressor_R2_keep_0.2\", \"RF_Regressor_R2_keep_0.3\", \"RF_Regressor_R2_keep_0.4\"]\n",
    "    rank_results_regression = pd.DataFrame()\n",
    "    for data in datasets:\n",
    "        df_data = regression_results_df[regression_results_df[\"data\"] == data]\n",
    "        ranked_df = df_data.copy()\n",
    "        for col in result_cols:\n",
    "            ranked_df[col] = df_data[col].rank(ascending=False, method='min')\n",
    "        rank_results_regression = pd.concat([rank_results_regression, ranked_df], ignore_index=True)\n",
    "    rank_results_regression.columns = ['fi', 'data', 'top_0.1', 'top_0.2', 'top_0.3', 'top_0.4']\n",
    "\n",
    "    classification_results_df = classification_results_df[classification_results_df[\"fi\"].isin(baselines)]\n",
    "    datasets = ['openml_361062', 'openml_361063', 'openml_361069', 'openml_361071', 'openml_43', 'openml_9978']\n",
    "    result_cols = [\"RF_Classifier_AUROC_keep_0.1\", \"RF_Classifier_AUROC_keep_0.2\", \"RF_Classifier_AUROC_keep_0.3\", \"RF_Classifier_AUROC_keep_0.4\"]\n",
    "    rank_results_classification = pd.DataFrame()\n",
    "    for data in datasets:\n",
    "        df_data = classification_results_df[classification_results_df[\"data\"] == data]\n",
    "        ranked_df = df_data.copy()\n",
    "        for col in result_cols:\n",
    "            ranked_df[col] = df_data[col].rank(ascending=False, method='min')\n",
    "        rank_results_classification = pd.concat([rank_results_classification, ranked_df], ignore_index=True)\n",
    "    rank_results_classification.columns = ['fi', 'data', 'top_0.1', 'top_0.2', 'top_0.3', 'top_0.4']\n",
    "    \n",
    "    rank_results = pd.concat([rank_results_regression, rank_results_classification], ignore_index=True)\n",
    "    rank_results_avg = rank_results.groupby('fi')[['top_0.1', 'top_0.2', 'top_0.3', 'top_0.4']].mean().sort_values(by='top_0.1').reset_index()\n",
    "    # print(rank_results_avg)\n",
    "    rank_results_avg = rank_results_avg[rank_results_avg[\"fi\"] == method]\n",
    "    return rank_results_avg\n",
    "\n",
    "def compute_stability_ablation_rank_results(regression_results_df, classification_results_df, method=\"Local_MDI+_MDI_elasticnet_fit_on_all_ranking_RFPlus\", baselines=['LIME_RF', 'TreeSHAP_RF']):\n",
    "    baselines.append(method)\n",
    "    \n",
    "    regression_results_df = regression_results_df[regression_results_df[\"fi\"].isin(baselines)]\n",
    "    datasets = ['openml_361242', 'openml_361243', 'openml_361253', 'openml_361254', 'openml_361259', 'openml_361260']\n",
    "    result_cols = [\"avg_10_features\", \"avg_20_features\", \"avg_30_features\", \"avg_40_features\"]\n",
    "    rank_results_regression = pd.DataFrame()\n",
    "    for data in datasets:\n",
    "        df_data = regression_results_df[regression_results_df[\"data\"] == data]\n",
    "        ranked_df = df_data.copy()\n",
    "        for col in result_cols:\n",
    "            ranked_df[col] = df_data[col].rank(ascending=True, method='min')\n",
    "        rank_results_regression = pd.concat([rank_results_regression, ranked_df], ignore_index=True)\n",
    "    rank_results_regression.columns = ['fi', 'data', 'top_0.1', 'top_0.2', 'top_0.3', 'top_0.4']\n",
    "\n",
    "    classification_results_df = classification_results_df[classification_results_df[\"fi\"].isin(baselines)]\n",
    "    datasets = ['openml_361062', 'openml_361063', 'openml_361069', 'openml_361071', 'openml_43', 'openml_9978']\n",
    "    result_cols = [\"avg_10_features\", \"avg_20_features\", \"avg_30_features\", \"avg_40_features\"]\n",
    "    rank_results_classification = pd.DataFrame()\n",
    "    for data in datasets:\n",
    "        df_data = classification_results_df[classification_results_df[\"data\"] == data]\n",
    "        ranked_df = df_data.copy()\n",
    "        for col in result_cols:\n",
    "            ranked_df[col] = df_data[col].rank(ascending=True, method='min')\n",
    "        rank_results_classification = pd.concat([rank_results_classification, ranked_df], ignore_index=True)\n",
    "    rank_results_classification.columns = ['fi', 'data', 'top_0.1', 'top_0.2', 'top_0.3', 'top_0.4']\n",
    "    \n",
    "    rank_results = pd.concat([rank_results_regression, rank_results_classification], ignore_index=True)\n",
    "    rank_results_avg = rank_results.groupby('fi')[['top_0.1', 'top_0.2', 'top_0.3', 'top_0.4']].mean().sort_values(by='top_0.1').reset_index()\n",
    "    rank_results_avg = rank_results_avg[rank_results_avg[\"fi\"] == method]\n",
    "    return rank_results_avg"
   ]
  },
  {
   "cell_type": "code",
   "execution_count": null,
   "id": "8b8e639a",
   "metadata": {},
   "outputs": [
    {
     "data": {
      "text/html": [
       "<div>\n",
       "<style scoped>\n",
       "    .dataframe tbody tr th:only-of-type {\n",
       "        vertical-align: middle;\n",
       "    }\n",
       "\n",
       "    .dataframe tbody tr th {\n",
       "        vertical-align: top;\n",
       "    }\n",
       "\n",
       "    .dataframe thead th {\n",
       "        text-align: right;\n",
       "    }\n",
       "</style>\n",
       "<table border=\"1\" class=\"dataframe\">\n",
       "  <thead>\n",
       "    <tr style=\"text-align: right;\">\n",
       "      <th></th>\n",
       "      <th>fi</th>\n",
       "      <th>top_0.1</th>\n",
       "      <th>top_0.2</th>\n",
       "      <th>top_0.3</th>\n",
       "      <th>top_0.4</th>\n",
       "    </tr>\n",
       "  </thead>\n",
       "  <tbody>\n",
       "    <tr>\n",
       "      <th>2</th>\n",
       "      <td>MDI</td>\n",
       "      <td>2.333333</td>\n",
       "      <td>1.916667</td>\n",
       "      <td>1.916667</td>\n",
       "      <td>1.916667</td>\n",
       "    </tr>\n",
       "  </tbody>\n",
       "</table>\n",
       "</div>"
      ],
      "text/plain": [
       "    fi   top_0.1   top_0.2   top_0.3   top_0.4\n",
       "2  MDI  2.333333  1.916667  1.916667  1.916667"
      ]
     },
     "execution_count": 39,
     "metadata": {},
     "output_type": "execute_result"
    }
   ],
   "source": [
    "regression_results_df = load_selection_results(task=\"regression\")\n",
    "classification_results_df = load_selection_results(task=\"classification\")\n",
    "compute_selection_ablation_rank_results(regression_results_df, classification_results_df, method=\"MDI\", baselines=['LIME_RF', 'TreeSHAP_RF'])"
   ]
  },
  {
   "cell_type": "code",
   "execution_count": null,
   "id": "b9f9af20",
   "metadata": {},
   "outputs": [],
   "source": [
    "compute_selection_ablation_rank_results(regression_results_df, classification_results_df, method=\"Ablation_model_ranking\", baselines=['LIME_RF', 'TreeSHAP_RF'])"
   ]
  },
  {
   "cell_type": "code",
   "execution_count": 32,
   "id": "f6877a17",
   "metadata": {},
   "outputs": [
    {
     "data": {
      "text/html": [
       "<div>\n",
       "<style scoped>\n",
       "    .dataframe tbody tr th:only-of-type {\n",
       "        vertical-align: middle;\n",
       "    }\n",
       "\n",
       "    .dataframe tbody tr th {\n",
       "        vertical-align: top;\n",
       "    }\n",
       "\n",
       "    .dataframe thead th {\n",
       "        text-align: right;\n",
       "    }\n",
       "</style>\n",
       "<table border=\"1\" class=\"dataframe\">\n",
       "  <thead>\n",
       "    <tr style=\"text-align: right;\">\n",
       "      <th></th>\n",
       "      <th>fi</th>\n",
       "      <th>top_0.1</th>\n",
       "      <th>top_0.2</th>\n",
       "      <th>top_0.3</th>\n",
       "      <th>top_0.4</th>\n",
       "    </tr>\n",
       "  </thead>\n",
       "  <tbody>\n",
       "    <tr>\n",
       "      <th>0</th>\n",
       "      <td>Ablation_model0</td>\n",
       "      <td>1.666667</td>\n",
       "      <td>1.75</td>\n",
       "      <td>1.416667</td>\n",
       "      <td>1.666667</td>\n",
       "    </tr>\n",
       "  </tbody>\n",
       "</table>\n",
       "</div>"
      ],
      "text/plain": [
       "                fi   top_0.1  top_0.2   top_0.3   top_0.4\n",
       "0  Ablation_model0  1.666667     1.75  1.416667  1.666667"
      ]
     },
     "execution_count": 32,
     "metadata": {},
     "output_type": "execute_result"
    }
   ],
   "source": [
    "compute_selection_ablation_rank_results(regression_results_df, classification_results_df, method=\"Ablation_model0\", baselines=['LIME_RF', 'TreeSHAP_RF'])"
   ]
  },
  {
   "cell_type": "code",
   "execution_count": null,
   "id": "1ceb8528",
   "metadata": {},
   "outputs": [
    {
     "data": {
      "text/html": [
       "<div>\n",
       "<style scoped>\n",
       "    .dataframe tbody tr th:only-of-type {\n",
       "        vertical-align: middle;\n",
       "    }\n",
       "\n",
       "    .dataframe tbody tr th {\n",
       "        vertical-align: top;\n",
       "    }\n",
       "\n",
       "    .dataframe thead th {\n",
       "        text-align: right;\n",
       "    }\n",
       "</style>\n",
       "<table border=\"1\" class=\"dataframe\">\n",
       "  <thead>\n",
       "    <tr style=\"text-align: right;\">\n",
       "      <th></th>\n",
       "      <th>fi</th>\n",
       "      <th>top_0.1</th>\n",
       "      <th>top_0.2</th>\n",
       "      <th>top_0.3</th>\n",
       "      <th>top_0.4</th>\n",
       "    </tr>\n",
       "  </thead>\n",
       "  <tbody>\n",
       "    <tr>\n",
       "      <th>0</th>\n",
       "      <td>Ablation_model2</td>\n",
       "      <td>1.666667</td>\n",
       "      <td>1.166667</td>\n",
       "      <td>1.083333</td>\n",
       "      <td>1.0</td>\n",
       "    </tr>\n",
       "  </tbody>\n",
       "</table>\n",
       "</div>"
      ],
      "text/plain": [
       "                fi   top_0.1   top_0.2   top_0.3  top_0.4\n",
       "0  Ablation_model2  1.666667  1.166667  1.083333      1.0"
      ]
     },
     "execution_count": 33,
     "metadata": {},
     "output_type": "execute_result"
    }
   ],
   "source": [
    "compute_selection_ablation_rank_results(regression_results_df, classification_results_df, method=\"Ablation_model1\", baselines=['LIME_RF', 'TreeSHAP_RF'])"
   ]
  },
  {
   "cell_type": "code",
   "execution_count": 34,
   "id": "d9fb85f3",
   "metadata": {},
   "outputs": [
    {
     "data": {
      "text/html": [
       "<div>\n",
       "<style scoped>\n",
       "    .dataframe tbody tr th:only-of-type {\n",
       "        vertical-align: middle;\n",
       "    }\n",
       "\n",
       "    .dataframe tbody tr th {\n",
       "        vertical-align: top;\n",
       "    }\n",
       "\n",
       "    .dataframe thead th {\n",
       "        text-align: right;\n",
       "    }\n",
       "</style>\n",
       "<table border=\"1\" class=\"dataframe\">\n",
       "  <thead>\n",
       "    <tr style=\"text-align: right;\">\n",
       "      <th></th>\n",
       "      <th>fi</th>\n",
       "      <th>top_0.1</th>\n",
       "      <th>top_0.2</th>\n",
       "      <th>top_0.3</th>\n",
       "      <th>top_0.4</th>\n",
       "    </tr>\n",
       "  </thead>\n",
       "  <tbody>\n",
       "    <tr>\n",
       "      <th>0</th>\n",
       "      <td>Local_MDI+_MDI_elasticnet_fit_on_all_ranking_R...</td>\n",
       "      <td>1.25</td>\n",
       "      <td>1.166667</td>\n",
       "      <td>1.0</td>\n",
       "      <td>1.083333</td>\n",
       "    </tr>\n",
       "  </tbody>\n",
       "</table>\n",
       "</div>"
      ],
      "text/plain": [
       "                                                  fi  top_0.1   top_0.2  \\\n",
       "0  Local_MDI+_MDI_elasticnet_fit_on_all_ranking_R...     1.25  1.166667   \n",
       "\n",
       "   top_0.3   top_0.4  \n",
       "0      1.0  1.083333  "
      ]
     },
     "execution_count": 34,
     "metadata": {},
     "output_type": "execute_result"
    }
   ],
   "source": [
    "compute_selection_ablation_rank_results(regression_results_df, classification_results_df, method=\"Local_MDI+_MDI_elasticnet_fit_on_all_ranking_RFPlus\", baselines=['LIME_RF', 'TreeSHAP_RF'])"
   ]
  },
  {
   "cell_type": "code",
   "execution_count": null,
   "id": "c8a332d4",
   "metadata": {},
   "outputs": [],
   "source": []
  },
  {
   "cell_type": "code",
   "execution_count": null,
   "id": "b25bf615",
   "metadata": {},
   "outputs": [],
   "source": []
  },
  {
   "cell_type": "code",
   "execution_count": 35,
   "id": "9771e9d8",
   "metadata": {},
   "outputs": [
    {
     "data": {
      "text/html": [
       "<div>\n",
       "<style scoped>\n",
       "    .dataframe tbody tr th:only-of-type {\n",
       "        vertical-align: middle;\n",
       "    }\n",
       "\n",
       "    .dataframe tbody tr th {\n",
       "        vertical-align: top;\n",
       "    }\n",
       "\n",
       "    .dataframe thead th {\n",
       "        text-align: right;\n",
       "    }\n",
       "</style>\n",
       "<table border=\"1\" class=\"dataframe\">\n",
       "  <thead>\n",
       "    <tr style=\"text-align: right;\">\n",
       "      <th></th>\n",
       "      <th>fi</th>\n",
       "      <th>top_0.1</th>\n",
       "      <th>top_0.2</th>\n",
       "      <th>top_0.3</th>\n",
       "      <th>top_0.4</th>\n",
       "    </tr>\n",
       "  </thead>\n",
       "  <tbody>\n",
       "    <tr>\n",
       "      <th>2</th>\n",
       "      <td>MDI</td>\n",
       "      <td>2.75</td>\n",
       "      <td>2.666667</td>\n",
       "      <td>2.666667</td>\n",
       "      <td>2.416667</td>\n",
       "    </tr>\n",
       "  </tbody>\n",
       "</table>\n",
       "</div>"
      ],
      "text/plain": [
       "    fi  top_0.1   top_0.2   top_0.3   top_0.4\n",
       "2  MDI     2.75  2.666667  2.666667  2.416667"
      ]
     },
     "execution_count": 35,
     "metadata": {},
     "output_type": "execute_result"
    }
   ],
   "source": [
    "regression_results_df = load_stability_results(task=\"regression\")\n",
    "classification_results_df = load_stability_results(task=\"classification\")\n",
    "compute_stability_ablation_rank_results(regression_results_df, classification_results_df, method=\"MDI\", baselines=['LIME_RF', 'TreeSHAP_RF'])"
   ]
  },
  {
   "cell_type": "code",
   "execution_count": 36,
   "id": "6ca28024",
   "metadata": {},
   "outputs": [
    {
     "data": {
      "text/html": [
       "<div>\n",
       "<style scoped>\n",
       "    .dataframe tbody tr th:only-of-type {\n",
       "        vertical-align: middle;\n",
       "    }\n",
       "\n",
       "    .dataframe tbody tr th {\n",
       "        vertical-align: top;\n",
       "    }\n",
       "\n",
       "    .dataframe thead th {\n",
       "        text-align: right;\n",
       "    }\n",
       "</style>\n",
       "<table border=\"1\" class=\"dataframe\">\n",
       "  <thead>\n",
       "    <tr style=\"text-align: right;\">\n",
       "      <th></th>\n",
       "      <th>fi</th>\n",
       "      <th>top_0.1</th>\n",
       "      <th>top_0.2</th>\n",
       "      <th>top_0.3</th>\n",
       "      <th>top_0.4</th>\n",
       "    </tr>\n",
       "  </thead>\n",
       "  <tbody>\n",
       "    <tr>\n",
       "      <th>2</th>\n",
       "      <td>Ablation_model0</td>\n",
       "      <td>2.363636</td>\n",
       "      <td>2.272727</td>\n",
       "      <td>2.181818</td>\n",
       "      <td>1.727273</td>\n",
       "    </tr>\n",
       "  </tbody>\n",
       "</table>\n",
       "</div>"
      ],
      "text/plain": [
       "                fi   top_0.1   top_0.2   top_0.3   top_0.4\n",
       "2  Ablation_model0  2.363636  2.272727  2.181818  1.727273"
      ]
     },
     "execution_count": 36,
     "metadata": {},
     "output_type": "execute_result"
    }
   ],
   "source": [
    "compute_stability_ablation_rank_results(regression_results_df, classification_results_df, method=\"Ablation_model0\", baselines=['LIME_RF', 'TreeSHAP_RF'])"
   ]
  },
  {
   "cell_type": "code",
   "execution_count": 37,
   "id": "6e2a1ed1",
   "metadata": {},
   "outputs": [
    {
     "data": {
      "text/html": [
       "<div>\n",
       "<style scoped>\n",
       "    .dataframe tbody tr th:only-of-type {\n",
       "        vertical-align: middle;\n",
       "    }\n",
       "\n",
       "    .dataframe tbody tr th {\n",
       "        vertical-align: top;\n",
       "    }\n",
       "\n",
       "    .dataframe thead th {\n",
       "        text-align: right;\n",
       "    }\n",
       "</style>\n",
       "<table border=\"1\" class=\"dataframe\">\n",
       "  <thead>\n",
       "    <tr style=\"text-align: right;\">\n",
       "      <th></th>\n",
       "      <th>fi</th>\n",
       "      <th>top_0.1</th>\n",
       "      <th>top_0.2</th>\n",
       "      <th>top_0.3</th>\n",
       "      <th>top_0.4</th>\n",
       "    </tr>\n",
       "  </thead>\n",
       "  <tbody>\n",
       "    <tr>\n",
       "      <th>0</th>\n",
       "      <td>Ablation_model2</td>\n",
       "      <td>1.25</td>\n",
       "      <td>1.166667</td>\n",
       "      <td>1.166667</td>\n",
       "      <td>1.083333</td>\n",
       "    </tr>\n",
       "  </tbody>\n",
       "</table>\n",
       "</div>"
      ],
      "text/plain": [
       "                fi  top_0.1   top_0.2   top_0.3   top_0.4\n",
       "0  Ablation_model2     1.25  1.166667  1.166667  1.083333"
      ]
     },
     "execution_count": 37,
     "metadata": {},
     "output_type": "execute_result"
    }
   ],
   "source": [
    "compute_stability_ablation_rank_results(regression_results_df, classification_results_df, method=\"Ablation_model2\", baselines=['LIME_RF', 'TreeSHAP_RF'])"
   ]
  },
  {
   "cell_type": "code",
   "execution_count": 38,
   "id": "c6b6aa35",
   "metadata": {},
   "outputs": [
    {
     "data": {
      "text/html": [
       "<div>\n",
       "<style scoped>\n",
       "    .dataframe tbody tr th:only-of-type {\n",
       "        vertical-align: middle;\n",
       "    }\n",
       "\n",
       "    .dataframe tbody tr th {\n",
       "        vertical-align: top;\n",
       "    }\n",
       "\n",
       "    .dataframe thead th {\n",
       "        text-align: right;\n",
       "    }\n",
       "</style>\n",
       "<table border=\"1\" class=\"dataframe\">\n",
       "  <thead>\n",
       "    <tr style=\"text-align: right;\">\n",
       "      <th></th>\n",
       "      <th>fi</th>\n",
       "      <th>top_0.1</th>\n",
       "      <th>top_0.2</th>\n",
       "      <th>top_0.3</th>\n",
       "      <th>top_0.4</th>\n",
       "    </tr>\n",
       "  </thead>\n",
       "  <tbody>\n",
       "    <tr>\n",
       "      <th>0</th>\n",
       "      <td>Local_MDI+_MDI_elasticnet_fit_on_all_ranking_R...</td>\n",
       "      <td>1.166667</td>\n",
       "      <td>1.0</td>\n",
       "      <td>1.0</td>\n",
       "      <td>1.0</td>\n",
       "    </tr>\n",
       "  </tbody>\n",
       "</table>\n",
       "</div>"
      ],
      "text/plain": [
       "                                                  fi   top_0.1  top_0.2  \\\n",
       "0  Local_MDI+_MDI_elasticnet_fit_on_all_ranking_R...  1.166667      1.0   \n",
       "\n",
       "   top_0.3  top_0.4  \n",
       "0      1.0      1.0  "
      ]
     },
     "execution_count": 38,
     "metadata": {},
     "output_type": "execute_result"
    }
   ],
   "source": [
    "compute_stability_ablation_rank_results(regression_results_df, classification_results_df, method=\"Local_MDI+_MDI_elasticnet_fit_on_all_ranking_RFPlus\", baselines=['LIME_RF', 'TreeSHAP_RF'])"
   ]
  }
 ],
 "metadata": {
  "kernelspec": {
   "display_name": "mdi",
   "language": "python",
   "name": "python3"
  },
  "language_info": {
   "codemirror_mode": {
    "name": "ipython",
    "version": 3
   },
   "file_extension": ".py",
   "mimetype": "text/x-python",
   "name": "python",
   "nbconvert_exporter": "python",
   "pygments_lexer": "ipython3",
   "version": "3.10.14"
  }
 },
 "nbformat": 4,
 "nbformat_minor": 5
}
