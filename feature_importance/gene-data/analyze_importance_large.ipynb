{
 "cells": [
  {
   "cell_type": "code",
   "execution_count": 31,
   "metadata": {},
   "outputs": [],
   "source": [
    "import numpy as np\n",
    "import pandas as pd\n",
    "import matplotlib.pyplot as plt\n",
    "from sklearn.model_selection import train_test_split"
   ]
  },
  {
   "cell_type": "code",
   "execution_count": 32,
   "metadata": {},
   "outputs": [],
   "source": [
    "# read in data\n",
    "embedding_genotype = pd.read_csv(\"/scratch/users/omer_ronen/mutemb_esm/X_k_5_ilvm_esm_prod_pppl_full_ptv.csv\")\n",
    "phenotype = pd.read_csv(\"/scratch/users/omer_ronen/mutemb_esm/y_ilvm_oh.csv\")\n",
    "# save column names\n",
    "colnames = embedding_genotype.columns\n",
    "# make genotype a numpy array\n",
    "embedding_genotype = embedding_genotype.to_numpy()\n",
    "# make phenotype a 1D numpy array\n",
    "phenotype = phenotype.to_numpy().reshape(-1)"
   ]
  },
  {
   "cell_type": "code",
   "execution_count": 33,
   "metadata": {},
   "outputs": [],
   "source": [
    "# obtain same train-test split as the experiment, so that gender/age are aligned\n",
    "embedding_genotype_train, embedding_genotype_test, phenotype_train, phenotype_test = \\\n",
    "        train_test_split(embedding_genotype, phenotype, test_size = 0.3,\n",
    "                         random_state = 1)"
   ]
  },
  {
   "cell_type": "code",
   "execution_count": 34,
   "metadata": {},
   "outputs": [
    {
     "data": {
      "image/png": "[encoded data removed]",
      "text/plain": [
       "<Figure size 640x480 with 1 Axes>"
      ]
     },
     "metadata": {},
     "output_type": "display_data"
    }
   ],
   "source": [
    "# plot histogram of genotype column -11\n",
    "plt.hist(embedding_genotype_train[:, -11], bins = 10)\n",
    "plt.show()"
   ]
  },
  {
   "cell_type": "code",
   "execution_count": 35,
   "metadata": {},
   "outputs": [
    {
     "data": {
      "text/plain": [
       "array([1.99648074e-04, 0.00000000e+00, 1.14263550e-04, ...,\n",
       "       4.84040126e-04, 1.48835961e-05, 0.00000000e+00])"
      ]
     },
     "execution_count": 35,
     "metadata": {},
     "output_type": "execute_result"
    }
   ],
   "source": [
    "# read in results\n",
    "lmdi_importances = pd.read_csv('lmdi_plus_importance_scores_subset_embedding_data.csv',\n",
    "                               header=None)\n",
    "mdi_importances = pd.read_csv('mdi_importance_scores_subset_embedding_data.csv', header = None)\n",
    "mdi_importances = mdi_importances.to_numpy().reshape(-1)\n",
    "mdi_importances"
   ]
  },
  {
   "cell_type": "code",
   "execution_count": 36,
   "metadata": {},
   "outputs": [],
   "source": [
    "# subset the genotype data to only include the top 1000 features\n",
    "top_1000_features = np.argsort(mdi_importances)[::-1][:1000]\n",
    "top_1000_colnames = colnames[top_1000_features]\n",
    "embedding_genotype_train_subset = embedding_genotype_train[:, top_1000_features]\n",
    "embedding_genotype_test_subset = embedding_genotype_test[:, top_1000_features]\n",
    "embedding_genotype_train_subset = pd.DataFrame(embedding_genotype_train_subset,\n",
    "                                               columns = top_1000_colnames)\n",
    "embedding_genotype_test_subset = pd.DataFrame(embedding_genotype_test_subset,\n",
    "                                              columns=top_1000_colnames)\n",
    "lmdi_importances.columns = top_1000_colnames"
   ]
  },
  {
   "cell_type": "code",
   "execution_count": 37,
   "metadata": {},
   "outputs": [
    {
     "name": "stderr",
     "output_type": "stream",
     "text": [
      "/tmp/ipykernel_517434/925260568.py:5: FutureWarning: DataFrame.groupby with axis=1 is deprecated. Do `frame.T.groupby(...)` without axis instead.\n",
      "  lmdi_importances = np.abs(lmdi_importances).groupby(feature_names, axis=1).max()\n"
     ]
    }
   ],
   "source": [
    "# Extract the feature name (part before the first underscore)\n",
    "feature_names = lmdi_importances.columns.str.split('_').str[0]\n",
    "\n",
    "# Group by feature name and sum the columns\n",
    "lmdi_importances = np.abs(lmdi_importances).groupby(feature_names, axis=1).max()\n",
    "\n",
    "# get new column names\n",
    "new_colnames = lmdi_importances.columns"
   ]
  },
  {
   "cell_type": "code",
   "execution_count": 38,
   "metadata": {},
   "outputs": [],
   "source": [
    "# get importances for men and women\n",
    "lmdi_importances_men = lmdi_importances[embedding_genotype_train[:,-12]==1]\n",
    "lmdi_importances_women = lmdi_importances[embedding_genotype_train[:,-12]==0]"
   ]
  },
  {
   "cell_type": "code",
   "execution_count": 39,
   "metadata": {},
   "outputs": [],
   "source": [
    "# get importances for \"old\" and \"young\" (above/below 0 on standardardized age)\n",
    "lmdi_importances_old = lmdi_importances[embedding_genotype_train[:,-11] > 0]\n",
    "lmdi_importances_young = lmdi_importances[embedding_genotype_train[:,-11] <= 0]"
   ]
  },
  {
   "cell_type": "code",
   "execution_count": 40,
   "metadata": {},
   "outputs": [],
   "source": [
    "# get importances for gender and age\n",
    "lmdi_importances_old_men = lmdi_importances[(embedding_genotype_train[:,-12]==1) & (embedding_genotype_train[:,-11] > 0)]\n",
    "lmdi_importances_old_women = lmdi_importances[(embedding_genotype_train[:,-12]==0) & (embedding_genotype_train[:,-11] > 0)]\n",
    "lmdi_importances_young_men = lmdi_importances[(embedding_genotype_train[:,-12]==1) & (embedding_genotype_train[:,-11] <= 0)]\n",
    "lmdi_importances_young_women = lmdi_importances[(embedding_genotype_train[:,-12]==0) & (embedding_genotype_train[:,-11] <= 0)]"
   ]
  },
  {
   "cell_type": "code",
   "execution_count": 41,
   "metadata": {},
   "outputs": [],
   "source": [
    "# get rankings\n",
    "lmdi_rankings = lmdi_importances.shape[1]-np.argsort(np.abs(lmdi_importances), axis = 1)\n",
    "\n",
    "# rankings for gender\n",
    "lmdi_rankings_men = lmdi_importances_men.shape[1]-np.argsort(np.abs(lmdi_importances_men), axis = 1)\n",
    "lmdi_rankings_women = lmdi_importances_women.shape[1]-np.argsort(np.abs(lmdi_importances_women), axis = 1)\n",
    "\n",
    "# rankings for age\n",
    "lmdi_rankings_old = lmdi_importances_old.shape[1]-np.argsort(np.abs(lmdi_importances_old), axis = 1)\n",
    "lmdi_rankings_young = lmdi_importances_young.shape[1]-np.argsort(np.abs(lmdi_importances_young), axis = 1)\n",
    "\n",
    "# rankings for age & gender\n",
    "lmdi_rankings_old_men = lmdi_importances_old_men.shape[1]-np.argsort(np.abs(lmdi_importances_old_men), axis = 1)\n",
    "lmdi_rankings_old_women = lmdi_importances_old_women.shape[1]-np.argsort(np.abs(lmdi_importances_old_women), axis = 1)\n",
    "lmdi_rankings_young_men = lmdi_importances_young_men.shape[1]-np.argsort(np.abs(lmdi_importances_young_men), axis = 1)\n",
    "lmdi_rankings_young_women = lmdi_importances_young_women.shape[1]-np.argsort(np.abs(lmdi_importances_young_women), axis = 1)\n",
    "\n",
    "# make them dataframes with the same column names\n",
    "lmdi_rankings = pd.DataFrame(lmdi_rankings, columns = new_colnames)\n",
    "lmdi_rankings_men = pd.DataFrame(lmdi_rankings_men, columns = new_colnames)\n",
    "lmdi_rankings_women = pd.DataFrame(lmdi_rankings_women, columns = new_colnames)\n",
    "lmdi_rankings_old = pd.DataFrame(lmdi_rankings_old, columns = new_colnames)\n",
    "lmdi_rankings_young = pd.DataFrame(lmdi_rankings_young, columns = new_colnames)\n",
    "lmdi_rankings_old_men = pd.DataFrame(lmdi_rankings_old_men, columns = new_colnames)\n",
    "lmdi_rankings_old_women = pd.DataFrame(lmdi_rankings_old_women, columns = new_colnames)\n",
    "lmdi_rankings_young_men = pd.DataFrame(lmdi_rankings_young_men, columns = new_colnames)\n",
    "lmdi_rankings_young_women = pd.DataFrame(lmdi_rankings_young_women, columns = new_colnames)"
   ]
  },
  {
   "cell_type": "code",
   "execution_count": 42,
   "metadata": {},
   "outputs": [
    {
     "name": "stdout",
     "output_type": "stream",
     "text": [
      "Most Important Genes (Overall): Average LMDI+ Score\n",
      "0                  0.955753\n",
      "1                  0.015032\n",
      "ENSG00000155657    0.004813\n",
      "4                  0.003532\n",
      "3                  0.002636\n",
      "5                  0.000115\n",
      "ENSG00000185294    0.000102\n",
      "9                  0.000058\n",
      "6                  0.000036\n",
      "7                  0.000011\n",
      "10                 0.000007\n",
      "ENSG00000136319    0.000003\n",
      "dtype: float64\n"
     ]
    }
   ],
   "source": [
    "# get the most important genes\n",
    "print(\"Most Important Genes (Overall): Average LMDI+ Score\")\n",
    "print(np.abs(lmdi_importances).mean(axis=0).sort_values(ascending=False))\n",
    "top_genes_overall = np.abs(lmdi_importances).mean(axis=0).sort_values(ascending=False).index"
   ]
  },
  {
   "cell_type": "code",
   "execution_count": 43,
   "metadata": {},
   "outputs": [
    {
     "name": "stdout",
     "output_type": "stream",
     "text": [
      "Most Important Genes (Men): Average LMDI+ Score\n",
      "0                  0.934312\n",
      "1                  0.031034\n",
      "4                  0.005957\n",
      "ENSG00000155657    0.005181\n",
      "3                  0.004467\n",
      "5                  0.000116\n",
      "9                  0.000090\n",
      "6                  0.000070\n",
      "ENSG00000185294    0.000014\n",
      "7                  0.000007\n",
      "10                 0.000005\n",
      "ENSG00000136319    0.000003\n",
      "dtype: float64\n",
      "Most Important Genes (Women): Average LMDI+ Score\n",
      "0                  0.975004\n",
      "ENSG00000155657    0.004482\n",
      "4                  0.001354\n",
      "3                  0.000992\n",
      "1                  0.000665\n",
      "ENSG00000185294    0.000180\n",
      "5                  0.000114\n",
      "9                  0.000029\n",
      "7                  0.000014\n",
      "10                 0.000009\n",
      "6                  0.000005\n",
      "ENSG00000136319    0.000002\n",
      "dtype: float64\n"
     ]
    }
   ],
   "source": [
    "# get the most important genes\n",
    "print(\"Most Important Genes (Men): Average LMDI+ Score\")\n",
    "print(np.abs(lmdi_importances_men).mean(axis=0).sort_values(ascending=False))\n",
    "top_genes_men = np.abs(lmdi_importances_men).mean(axis=0).sort_values(ascending=False).index\n",
    "print(\"Most Important Genes (Women): Average LMDI+ Score\")\n",
    "print(np.abs(lmdi_importances_women).mean(axis=0).sort_values(ascending=False))\n",
    "top_genes_women = np.abs(lmdi_importances_women).mean(axis=0).sort_values(ascending=False).index"
   ]
  },
  {
   "cell_type": "code",
   "execution_count": 44,
   "metadata": {},
   "outputs": [
    {
     "name": "stdout",
     "output_type": "stream",
     "text": [
      "Most Important Genes (Old): Average LMDI+ Score\n",
      "0                  0.962496\n",
      "1                  0.013763\n",
      "ENSG00000155657    0.004509\n",
      "4                  0.002401\n",
      "3                  0.001739\n",
      "5                  0.000120\n",
      "ENSG00000185294    0.000076\n",
      "6                  0.000058\n",
      "9                  0.000036\n",
      "10                 0.000007\n",
      "7                  0.000004\n",
      "ENSG00000136319    0.000002\n",
      "dtype: float64\n",
      "Most Important Genes (Young): Average LMDI+ Score\n",
      "0                  0.949814\n",
      "1                  0.016150\n",
      "ENSG00000155657    0.005080\n",
      "4                  0.004527\n",
      "3                  0.003426\n",
      "ENSG00000185294    0.000124\n",
      "5                  0.000110\n",
      "9                  0.000078\n",
      "7                  0.000017\n",
      "6                  0.000017\n",
      "10                 0.000006\n",
      "ENSG00000136319    0.000003\n",
      "dtype: float64\n"
     ]
    }
   ],
   "source": [
    "# get the most important genes\n",
    "print(\"Most Important Genes (Old): Average LMDI+ Score\")\n",
    "print(np.abs(lmdi_importances_old).mean(axis=0).sort_values(ascending=False))\n",
    "print(\"Most Important Genes (Young): Average LMDI+ Score\")\n",
    "print(np.abs(lmdi_importances_young).mean(axis=0).sort_values(ascending=False))\n",
    "top_genes_old = np.abs(lmdi_importances_old).mean(axis=0).sort_values(ascending=False).index\n",
    "top_genes_young = np.abs(lmdi_importances_young).mean(axis=0).sort_values(ascending=False).index"
   ]
  },
  {
   "cell_type": "code",
   "execution_count": 45,
   "metadata": {},
   "outputs": [
    {
     "name": "stdout",
     "output_type": "stream",
     "text": [
      "Most Important Genes (Old Men): Average LMDI+ Score\n",
      "0                  0.949527\n",
      "1                  0.025887\n",
      "ENSG00000155657    0.004783\n",
      "4                  0.003643\n",
      "3                  0.002769\n",
      "5                  0.000124\n",
      "6                  0.000107\n",
      "9                  0.000045\n",
      "ENSG00000185294    0.000008\n",
      "10                 0.000005\n",
      "ENSG00000136319    0.000004\n",
      "7                  0.000001\n",
      "dtype: float64\n",
      "Most Important Genes (Old Women): Average LMDI+ Score\n",
      "0                  9.765353e-01\n",
      "ENSG00000155657    4.212876e-03\n",
      "4                  1.055802e-03\n",
      "1                  6.382022e-04\n",
      "3                  6.236623e-04\n",
      "ENSG00000185294    1.504904e-04\n",
      "5                  1.157747e-04\n",
      "9                  2.526012e-05\n",
      "10                 9.122975e-06\n",
      "7                  6.016167e-06\n",
      "6                  4.670115e-06\n",
      "ENSG00000136319    1.985748e-07\n",
      "dtype: float64\n",
      "Most Important Genes (Young Men): Average LMDI+ Score\n",
      "0                  0.918186\n",
      "1                  0.036488\n",
      "4                  0.008410\n",
      "3                  0.006266\n",
      "ENSG00000155657    0.005603\n",
      "9                  0.000138\n",
      "5                  0.000108\n",
      "6                  0.000032\n",
      "ENSG00000185294    0.000021\n",
      "7                  0.000014\n",
      "10                 0.000004\n",
      "ENSG00000136319    0.000002\n",
      "dtype: float64\n",
      "Most Important Genes (Young Women): Average LMDI+ Score\n",
      "0                  0.973864\n",
      "ENSG00000155657    0.004682\n",
      "4                  0.001575\n",
      "3                  0.001267\n",
      "1                  0.000685\n",
      "ENSG00000185294    0.000203\n",
      "5                  0.000112\n",
      "9                  0.000032\n",
      "7                  0.000019\n",
      "10                 0.000008\n",
      "6                  0.000005\n",
      "ENSG00000136319    0.000004\n",
      "dtype: float64\n"
     ]
    }
   ],
   "source": [
    "# get the most important genes\n",
    "print(\"Most Important Genes (Old Men): Average LMDI+ Score\")\n",
    "print(np.abs(lmdi_importances_old_men).mean(axis=0).sort_values(ascending=False))\n",
    "print(\"Most Important Genes (Old Women): Average LMDI+ Score\")\n",
    "print(np.abs(lmdi_importances_old_women).mean(axis=0).sort_values(ascending=False))\n",
    "print(\"Most Important Genes (Young Men): Average LMDI+ Score\")\n",
    "print(np.abs(lmdi_importances_young_men).mean(axis=0).sort_values(ascending=False))\n",
    "print(\"Most Important Genes (Young Women): Average LMDI+ Score\")\n",
    "print(np.abs(lmdi_importances_young_women).mean(axis=0).sort_values(ascending=False))\n",
    "top_genes_old_men = np.abs(lmdi_importances_old_men).mean(axis=0).sort_values(ascending=False).index\n",
    "top_genes_old_women = np.abs(lmdi_importances_old_women).mean(axis=0).sort_values(ascending=False).index\n",
    "top_genes_young_men = np.abs(lmdi_importances_young_men).mean(axis=0).sort_values(ascending=False).index\n",
    "top_genes_young_women = np.abs(lmdi_importances_young_women).mean(axis=0).sort_values(ascending=False).index"
   ]
  },
  {
   "cell_type": "code",
   "execution_count": 46,
   "metadata": {},
   "outputs": [
    {
     "name": "stdout",
     "output_type": "stream",
     "text": [
      "There is a 120.00% Overlap of Top Genes (Men and Women). The intersection is \n",
      "['0' '1' '10' '3' '4' '5' '6' '7' '9' 'ENSG00000136319' 'ENSG00000155657'\n",
      " 'ENSG00000185294'].\n",
      "There is a 120.00% Overlap of Top Genes (Old and Young). The intersection is \n",
      "['0' '1' '10' '3' '4' '5' '6' '7' '9' 'ENSG00000136319' 'ENSG00000155657'\n",
      " 'ENSG00000185294'].\n",
      "There is a 120.00% Overlap of Top Genes (Age x Gender). The intersection is \n",
      "['0' '1' '10' '3' '4' '5' '6' '7' '9' 'ENSG00000136319' 'ENSG00000155657'\n",
      " 'ENSG00000185294'].\n"
     ]
    }
   ],
   "source": [
    "# check the rankings overlap for top genes\n",
    "overlap_gender = np.intersect1d(top_genes_men, top_genes_women)\n",
    "overlap_age = np.intersect1d(top_genes_old, top_genes_young)\n",
    "overlap_age_gender = np.intersect1d(np.intersect1d(top_genes_old_men,\n",
    "                                                   top_genes_old_women),\n",
    "                                    np.intersect1d(top_genes_young_men,\n",
    "                                                   top_genes_young_women))\n",
    "print(f\"There is a {overlap_gender.shape[0]/10.0*100:.2f}% \" +\n",
    "      \"Overlap of Top Genes (Men and Women). \" +\n",
    "      f\"The intersection is \\n{overlap_gender}.\")\n",
    "print(f\"There is a {overlap_age.shape[0]/10.0*100:.2f}% \" + \n",
    "      \"Overlap of Top Genes (Old and Young). \" +\n",
    "      f\"The intersection is \\n{overlap_age}.\")\n",
    "print(f\"There is a {overlap_age_gender.shape[0]/10.0*100:.2f}% \" +\n",
    "      \"Overlap of Top Genes (Age x Gender). \" +\n",
    "      f\"The intersection is \\n{overlap_age_gender}.\")"
   ]
  },
  {
   "cell_type": "code",
   "execution_count": 47,
   "metadata": {},
   "outputs": [
    {
     "data": {
      "image/png": "[encoded data removed]",
      "text/plain": [
       "<Figure size 640x480 with 1 Axes>"
      ]
     },
     "metadata": {},
     "output_type": "display_data"
    }
   ],
   "source": [
    "# plot histogram of total average importance scores for genes\n",
    "plt.hist(np.abs(lmdi_importances.iloc[:,:-12]).mean(axis=0), bins = 50)\n",
    "plt.show()"
   ]
  }
 ],
 "metadata": {
  "kernelspec": {
   "display_name": "mdi",
   "language": "python",
   "name": "python3"
  },
  "language_info": {
   "codemirror_mode": {
    "name": "ipython",
    "version": 3
   },
   "file_extension": ".py",
   "mimetype": "text/x-python",
   "name": "python",
   "nbconvert_exporter": "python",
   "pygments_lexer": "ipython3",
   "version": "3.10.14"
  }
 },
 "nbformat": 4,
 "nbformat_minor": 2
}
