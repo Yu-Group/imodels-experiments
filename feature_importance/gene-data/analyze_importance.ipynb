{
 "cells": [
  {
   "cell_type": "code",
   "execution_count": 1,
   "metadata": {},
   "outputs": [],
   "source": [
    "import numpy as np\n",
    "import pandas as pd\n",
    "import matplotlib.pyplot as plt\n",
    "from sklearn.model_selection import train_test_split"
   ]
  },
  {
   "cell_type": "code",
   "execution_count": 2,
   "metadata": {},
   "outputs": [],
   "source": [
    "# read in data\n",
    "raw_genotype = pd.read_csv(\"/scratch/users/omer_ronen/mutemb_esm/X_k_5_ilvm_oh.csv\")\n",
    "phenotype = pd.read_csv(\"/scratch/users/omer_ronen/mutemb_esm/y_ilvm_oh.csv\")\n",
    "# save column names\n",
    "colnames = raw_genotype.columns\n",
    "# make genotype a numpy array\n",
    "raw_genotype = raw_genotype.to_numpy()\n",
    "# make phenotype a 1D numpy array\n",
    "phenotype = phenotype.to_numpy().reshape(-1)"
   ]
  },
  {
   "cell_type": "code",
   "execution_count": 3,
   "metadata": {},
   "outputs": [],
   "source": [
    "# obtain same train-test split as the experiment, so that gender/age are aligned\n",
    "raw_genotype_train, raw_genotype_test, phenotype_train, phenotype_test = \\\n",
    "        train_test_split(raw_genotype, phenotype, test_size = 0.3,\n",
    "                         random_state = 1)"
   ]
  },
  {
   "cell_type": "code",
   "execution_count": 4,
   "metadata": {},
   "outputs": [
    {
     "data": {
      "text/html": [
       "<div>\n",
       "<style scoped>\n",
       "    .dataframe tbody tr th:only-of-type {\n",
       "        vertical-align: middle;\n",
       "    }\n",
       "\n",
       "    .dataframe tbody tr th {\n",
       "        vertical-align: top;\n",
       "    }\n",
       "\n",
       "    .dataframe thead th {\n",
       "        text-align: right;\n",
       "    }\n",
       "</style>\n",
       "<table border=\"1\" class=\"dataframe\">\n",
       "  <thead>\n",
       "    <tr style=\"text-align: right;\">\n",
       "      <th></th>\n",
       "      <th>ENSG00000244694_oh_0</th>\n",
       "      <th>ENSG00000244694_oh_1</th>\n",
       "      <th>ENSG00000244694_oh_2</th>\n",
       "      <th>ENSG00000244694_oh_3</th>\n",
       "      <th>ENSG00000244694_oh_4</th>\n",
       "      <th>ENSG00000244694_oh_5</th>\n",
       "      <th>ENSG00000244694_oh_6</th>\n",
       "      <th>ENSG00000244694_oh_7</th>\n",
       "      <th>ENSG00000244694_oh_8</th>\n",
       "      <th>ENSG00000244694_oh_9</th>\n",
       "      <th>...</th>\n",
       "      <th>2</th>\n",
       "      <th>3</th>\n",
       "      <th>4</th>\n",
       "      <th>5</th>\n",
       "      <th>6</th>\n",
       "      <th>7</th>\n",
       "      <th>8</th>\n",
       "      <th>9</th>\n",
       "      <th>10</th>\n",
       "      <th>11</th>\n",
       "    </tr>\n",
       "  </thead>\n",
       "  <tbody>\n",
       "    <tr>\n",
       "      <th>0</th>\n",
       "      <td>0.0</td>\n",
       "      <td>0.0</td>\n",
       "      <td>0.0</td>\n",
       "      <td>0.0</td>\n",
       "      <td>0.0</td>\n",
       "      <td>0.0</td>\n",
       "      <td>0.0</td>\n",
       "      <td>0.0</td>\n",
       "      <td>0.0</td>\n",
       "      <td>0.0</td>\n",
       "      <td>...</td>\n",
       "      <td>-0.000040</td>\n",
       "      <td>0.000057</td>\n",
       "      <td>0.002594</td>\n",
       "      <td>-0.000890</td>\n",
       "      <td>-0.000092</td>\n",
       "      <td>-0.004819</td>\n",
       "      <td>-0.000178</td>\n",
       "      <td>-0.000137</td>\n",
       "      <td>-0.000077</td>\n",
       "      <td>0.000739</td>\n",
       "    </tr>\n",
       "    <tr>\n",
       "      <th>1</th>\n",
       "      <td>0.0</td>\n",
       "      <td>0.0</td>\n",
       "      <td>0.0</td>\n",
       "      <td>0.0</td>\n",
       "      <td>0.0</td>\n",
       "      <td>0.0</td>\n",
       "      <td>0.0</td>\n",
       "      <td>0.0</td>\n",
       "      <td>0.0</td>\n",
       "      <td>0.0</td>\n",
       "      <td>...</td>\n",
       "      <td>-0.000026</td>\n",
       "      <td>0.000343</td>\n",
       "      <td>-0.001268</td>\n",
       "      <td>-0.000928</td>\n",
       "      <td>0.000241</td>\n",
       "      <td>0.000056</td>\n",
       "      <td>0.000603</td>\n",
       "      <td>-0.000069</td>\n",
       "      <td>-0.003910</td>\n",
       "      <td>0.000304</td>\n",
       "    </tr>\n",
       "    <tr>\n",
       "      <th>2</th>\n",
       "      <td>0.0</td>\n",
       "      <td>0.0</td>\n",
       "      <td>0.0</td>\n",
       "      <td>0.0</td>\n",
       "      <td>0.0</td>\n",
       "      <td>0.0</td>\n",
       "      <td>0.0</td>\n",
       "      <td>0.0</td>\n",
       "      <td>0.0</td>\n",
       "      <td>0.0</td>\n",
       "      <td>...</td>\n",
       "      <td>-0.004128</td>\n",
       "      <td>0.000373</td>\n",
       "      <td>0.000262</td>\n",
       "      <td>-0.005328</td>\n",
       "      <td>0.001936</td>\n",
       "      <td>-0.000400</td>\n",
       "      <td>-0.000330</td>\n",
       "      <td>-0.000009</td>\n",
       "      <td>-0.000209</td>\n",
       "      <td>0.000085</td>\n",
       "    </tr>\n",
       "    <tr>\n",
       "      <th>3</th>\n",
       "      <td>0.0</td>\n",
       "      <td>0.0</td>\n",
       "      <td>0.0</td>\n",
       "      <td>0.0</td>\n",
       "      <td>0.0</td>\n",
       "      <td>0.0</td>\n",
       "      <td>0.0</td>\n",
       "      <td>0.0</td>\n",
       "      <td>0.0</td>\n",
       "      <td>0.0</td>\n",
       "      <td>...</td>\n",
       "      <td>-0.000034</td>\n",
       "      <td>0.000389</td>\n",
       "      <td>-0.001131</td>\n",
       "      <td>-0.000060</td>\n",
       "      <td>-0.000006</td>\n",
       "      <td>0.000059</td>\n",
       "      <td>-0.024317</td>\n",
       "      <td>0.000258</td>\n",
       "      <td>0.000047</td>\n",
       "      <td>0.000037</td>\n",
       "    </tr>\n",
       "    <tr>\n",
       "      <th>4</th>\n",
       "      <td>0.0</td>\n",
       "      <td>0.0</td>\n",
       "      <td>0.0</td>\n",
       "      <td>0.0</td>\n",
       "      <td>0.0</td>\n",
       "      <td>0.0</td>\n",
       "      <td>0.0</td>\n",
       "      <td>0.0</td>\n",
       "      <td>0.0</td>\n",
       "      <td>0.0</td>\n",
       "      <td>...</td>\n",
       "      <td>-0.000064</td>\n",
       "      <td>0.001318</td>\n",
       "      <td>-0.000448</td>\n",
       "      <td>-0.000055</td>\n",
       "      <td>-0.000014</td>\n",
       "      <td>-0.000034</td>\n",
       "      <td>0.000769</td>\n",
       "      <td>-0.000161</td>\n",
       "      <td>0.000006</td>\n",
       "      <td>0.000061</td>\n",
       "    </tr>\n",
       "  </tbody>\n",
       "</table>\n",
       "<p>5 rows × 365 columns</p>\n",
       "</div>"
      ],
      "text/plain": [
       "   ENSG00000244694_oh_0  ENSG00000244694_oh_1  ENSG00000244694_oh_2  \\\n",
       "0                   0.0                   0.0                   0.0   \n",
       "1                   0.0                   0.0                   0.0   \n",
       "2                   0.0                   0.0                   0.0   \n",
       "3                   0.0                   0.0                   0.0   \n",
       "4                   0.0                   0.0                   0.0   \n",
       "\n",
       "   ENSG00000244694_oh_3  ENSG00000244694_oh_4  ENSG00000244694_oh_5  \\\n",
       "0                   0.0                   0.0                   0.0   \n",
       "1                   0.0                   0.0                   0.0   \n",
       "2                   0.0                   0.0                   0.0   \n",
       "3                   0.0                   0.0                   0.0   \n",
       "4                   0.0                   0.0                   0.0   \n",
       "\n",
       "   ENSG00000244694_oh_6  ENSG00000244694_oh_7  ENSG00000244694_oh_8  \\\n",
       "0                   0.0                   0.0                   0.0   \n",
       "1                   0.0                   0.0                   0.0   \n",
       "2                   0.0                   0.0                   0.0   \n",
       "3                   0.0                   0.0                   0.0   \n",
       "4                   0.0                   0.0                   0.0   \n",
       "\n",
       "   ENSG00000244694_oh_9  ...         2         3         4         5  \\\n",
       "0                   0.0  ... -0.000040  0.000057  0.002594 -0.000890   \n",
       "1                   0.0  ... -0.000026  0.000343 -0.001268 -0.000928   \n",
       "2                   0.0  ... -0.004128  0.000373  0.000262 -0.005328   \n",
       "3                   0.0  ... -0.000034  0.000389 -0.001131 -0.000060   \n",
       "4                   0.0  ... -0.000064  0.001318 -0.000448 -0.000055   \n",
       "\n",
       "          6         7         8         9        10        11  \n",
       "0 -0.000092 -0.004819 -0.000178 -0.000137 -0.000077  0.000739  \n",
       "1  0.000241  0.000056  0.000603 -0.000069 -0.003910  0.000304  \n",
       "2  0.001936 -0.000400 -0.000330 -0.000009 -0.000209  0.000085  \n",
       "3 -0.000006  0.000059 -0.024317  0.000258  0.000047  0.000037  \n",
       "4 -0.000014 -0.000034  0.000769 -0.000161  0.000006  0.000061  \n",
       "\n",
       "[5 rows x 365 columns]"
      ]
     },
     "execution_count": 4,
     "metadata": {},
     "output_type": "execute_result"
    }
   ],
   "source": [
    "# read in results\n",
    "lmdi_importances = pd.read_csv('lmdi_plus_importance_scores_raw_data.csv',\n",
    "                               header=None)\n",
    "lmdi_importances.columns = colnames\n",
    "lmdi_importances.head()"
   ]
  },
  {
   "cell_type": "code",
   "execution_count": 5,
   "metadata": {},
   "outputs": [
    {
     "name": "stderr",
     "output_type": "stream",
     "text": [
      "/tmp/ipykernel_537572/1923303418.py:5: FutureWarning: DataFrame.groupby with axis=1 is deprecated. Do `frame.T.groupby(...)` without axis instead.\n",
      "  lmdi_importances = np.abs(lmdi_importances.iloc[:,:-12]).groupby(feature_names, axis=1).max()\n"
     ]
    }
   ],
   "source": [
    "# Extract the feature name (part before the first underscore)\n",
    "feature_names = lmdi_importances.iloc[:,:-12].columns.str.split('_').str[0]\n",
    "\n",
    "# Group by feature name and sum the columns\n",
    "lmdi_importances = np.abs(lmdi_importances.iloc[:,:-12]).groupby(feature_names, axis=1).max()\n",
    "\n",
    "# get new column names\n",
    "new_colnames = lmdi_importances.columns"
   ]
  },
  {
   "cell_type": "code",
   "execution_count": 6,
   "metadata": {},
   "outputs": [],
   "source": [
    "# get importances for men and women\n",
    "lmdi_importances_men = lmdi_importances[raw_genotype_train[:,-12]==1]\n",
    "lmdi_importances_women = lmdi_importances[raw_genotype_train[:,-12]==0]"
   ]
  },
  {
   "cell_type": "code",
   "execution_count": 7,
   "metadata": {},
   "outputs": [],
   "source": [
    "# get importances for \"old\" and \"young\" (above/below 0 on standardardized age)\n",
    "lmdi_importances_old = lmdi_importances[raw_genotype_train[:,-11] > 0]\n",
    "lmdi_importances_young = lmdi_importances[raw_genotype_train[:,-11] <= 0]"
   ]
  },
  {
   "cell_type": "code",
   "execution_count": 8,
   "metadata": {},
   "outputs": [],
   "source": [
    "# get importances for gender and age\n",
    "lmdi_importances_old_men = lmdi_importances[(raw_genotype_train[:,-12]==1) & (raw_genotype_train[:,-11] > 0)]\n",
    "lmdi_importances_old_women = lmdi_importances[(raw_genotype_train[:,-12]==0) & (raw_genotype_train[:,-11] > 0)]\n",
    "lmdi_importances_young_men = lmdi_importances[(raw_genotype_train[:,-12]==1) & (raw_genotype_train[:,-11] <= 0)]\n",
    "lmdi_importances_young_women = lmdi_importances[(raw_genotype_train[:,-12]==0) & (raw_genotype_train[:,-11] <= 0)]"
   ]
  },
  {
   "cell_type": "code",
   "execution_count": 9,
   "metadata": {},
   "outputs": [],
   "source": [
    "# get rankings\n",
    "lmdi_rankings = lmdi_importances.shape[1]-np.argsort(np.abs(lmdi_importances), axis = 1)\n",
    "\n",
    "# rankings for gender\n",
    "lmdi_rankings_men = lmdi_importances_men.shape[1]-np.argsort(np.abs(lmdi_importances_men), axis = 1)\n",
    "lmdi_rankings_women = lmdi_importances_women.shape[1]-np.argsort(np.abs(lmdi_importances_women), axis = 1)\n",
    "\n",
    "# rankings for age\n",
    "lmdi_rankings_old = lmdi_importances_old.shape[1]-np.argsort(np.abs(lmdi_importances_old), axis = 1)\n",
    "lmdi_rankings_young = lmdi_importances_young.shape[1]-np.argsort(np.abs(lmdi_importances_young), axis = 1)\n",
    "\n",
    "# rankings for age & gender\n",
    "lmdi_rankings_old_men = lmdi_importances_old_men.shape[1]-np.argsort(np.abs(lmdi_importances_old_men), axis = 1)\n",
    "lmdi_rankings_old_women = lmdi_importances_old_women.shape[1]-np.argsort(np.abs(lmdi_importances_old_women), axis = 1)\n",
    "lmdi_rankings_young_men = lmdi_importances_young_men.shape[1]-np.argsort(np.abs(lmdi_importances_young_men), axis = 1)\n",
    "lmdi_rankings_young_women = lmdi_importances_young_women.shape[1]-np.argsort(np.abs(lmdi_importances_young_women), axis = 1)\n",
    "\n",
    "# make them dataframes with the same column names\n",
    "lmdi_rankings = pd.DataFrame(lmdi_rankings, columns = new_colnames)\n",
    "lmdi_rankings_men = pd.DataFrame(lmdi_rankings_men, columns = new_colnames)\n",
    "lmdi_rankings_women = pd.DataFrame(lmdi_rankings_women, columns = new_colnames)\n",
    "lmdi_rankings_old = pd.DataFrame(lmdi_rankings_old, columns = new_colnames)\n",
    "lmdi_rankings_young = pd.DataFrame(lmdi_rankings_young, columns = new_colnames)\n",
    "lmdi_rankings_old_men = pd.DataFrame(lmdi_rankings_old_men, columns = new_colnames)\n",
    "lmdi_rankings_old_women = pd.DataFrame(lmdi_rankings_old_women, columns = new_colnames)\n",
    "lmdi_rankings_young_men = pd.DataFrame(lmdi_rankings_young_men, columns = new_colnames)\n",
    "lmdi_rankings_young_women = pd.DataFrame(lmdi_rankings_young_women, columns = new_colnames)"
   ]
  },
  {
   "cell_type": "code",
   "execution_count": 10,
   "metadata": {},
   "outputs": [
    {
     "name": "stdout",
     "output_type": "stream",
     "text": [
      "Most Important Genes (Overall): Average LMDI+ Score\n",
      "ENSG00000113594    1.873875e-04\n",
      "ENSG00000130159    1.523576e-05\n",
      "ENSG00000100934    2.936840e-06\n",
      "ENSG00000244694    2.784408e-07\n",
      "ENSG00000134551    4.023462e-08\n",
      "dtype: float64\n"
     ]
    }
   ],
   "source": [
    "# get the most important genes\n",
    "print(\"Most Important Genes (Overall): Average LMDI+ Score\")\n",
    "print(np.abs(lmdi_importances).mean(axis=0).sort_values(ascending=False))\n",
    "top_genes_overall = np.abs(lmdi_importances).mean(axis=0).sort_values(ascending=False).index"
   ]
  },
  {
   "cell_type": "code",
   "execution_count": 11,
   "metadata": {},
   "outputs": [
    {
     "name": "stdout",
     "output_type": "stream",
     "text": [
      "Most Important Genes (Men): Average LMDI+ Score\n",
      "ENSG00000113594    1.370554e-04\n",
      "ENSG00000130159    2.251469e-05\n",
      "ENSG00000244694    5.239777e-07\n",
      "ENSG00000100934    2.701864e-07\n",
      "ENSG00000134551    7.464378e-08\n",
      "dtype: float64\n",
      "Most Important Genes (Women): Average LMDI+ Score\n",
      "ENSG00000113594    2.325798e-04\n",
      "ENSG00000130159    8.700128e-06\n",
      "ENSG00000100934    5.331184e-06\n",
      "ENSG00000244694    5.797731e-08\n",
      "ENSG00000134551    9.339212e-09\n",
      "dtype: float64\n"
     ]
    }
   ],
   "source": [
    "# get the most important genes\n",
    "print(\"Most Important Genes (Men): Average LMDI+ Score\")\n",
    "print(np.abs(lmdi_importances_men).mean(axis=0).sort_values(ascending=False))\n",
    "top_genes_men = np.abs(lmdi_importances_men).mean(axis=0).sort_values(ascending=False).index\n",
    "print(\"Most Important Genes (Women): Average LMDI+ Score\")\n",
    "print(np.abs(lmdi_importances_women).mean(axis=0).sort_values(ascending=False))\n",
    "top_genes_women = np.abs(lmdi_importances_women).mean(axis=0).sort_values(ascending=False).index"
   ]
  },
  {
   "cell_type": "code",
   "execution_count": 12,
   "metadata": {},
   "outputs": [
    {
     "name": "stdout",
     "output_type": "stream",
     "text": [
      "Most Important Genes (Old): Average LMDI+ Score\n",
      "ENSG00000113594    1.959623e-04\n",
      "ENSG00000130159    1.909861e-05\n",
      "ENSG00000100934    2.530044e-06\n",
      "ENSG00000244694    4.256678e-07\n",
      "ENSG00000134551    7.643922e-08\n",
      "dtype: float64\n",
      "Most Important Genes (Young): Average LMDI+ Score\n",
      "ENSG00000113594    1.798357e-04\n",
      "ENSG00000130159    1.183378e-05\n",
      "ENSG00000100934    3.295102e-06\n",
      "ENSG00000244694    1.487792e-07\n",
      "ENSG00000134551    8.349538e-09\n",
      "dtype: float64\n"
     ]
    }
   ],
   "source": [
    "# get the most important genes\n",
    "print(\"Most Important Genes (Old): Average LMDI+ Score\")\n",
    "print(np.abs(lmdi_importances_old).mean(axis=0).sort_values(ascending=False))\n",
    "print(\"Most Important Genes (Young): Average LMDI+ Score\")\n",
    "print(np.abs(lmdi_importances_young).mean(axis=0).sort_values(ascending=False))\n",
    "top_genes_old = np.abs(lmdi_importances_old).mean(axis=0).sort_values(ascending=False).index\n",
    "top_genes_young = np.abs(lmdi_importances_young).mean(axis=0).sort_values(ascending=False).index"
   ]
  },
  {
   "cell_type": "code",
   "execution_count": 13,
   "metadata": {},
   "outputs": [
    {
     "name": "stdout",
     "output_type": "stream",
     "text": [
      "Most Important Genes (Old Men): Average LMDI+ Score\n",
      "ENSG00000113594    1.265393e-04\n",
      "ENSG00000130159    3.102749e-05\n",
      "ENSG00000244694    7.651274e-07\n",
      "ENSG00000134551    1.383567e-07\n",
      "ENSG00000100934    6.396098e-08\n",
      "dtype: float64\n",
      "Most Important Genes (Old Women): Average LMDI+ Score\n",
      "ENSG00000113594    2.711184e-04\n",
      "ENSG00000130159    6.184622e-06\n",
      "ENSG00000100934    5.199781e-06\n",
      "ENSG00000244694    5.817504e-08\n",
      "ENSG00000134551    9.408447e-09\n",
      "dtype: float64\n",
      "Most Important Genes (Young Men): Average LMDI+ Score\n",
      "ENSG00000113594    1.482011e-04\n",
      "ENSG00000130159    1.349215e-05\n",
      "ENSG00000100934    4.887603e-07\n",
      "ENSG00000244694    2.683884e-07\n",
      "ENSG00000134551    7.115780e-09\n",
      "dtype: float64\n",
      "Most Important Genes (Young Women): Average LMDI+ Score\n",
      "ENSG00000113594    2.038902e-04\n",
      "ENSG00000130159    1.057277e-05\n",
      "ENSG00000100934    5.429005e-06\n",
      "ENSG00000244694    5.783012e-08\n",
      "ENSG00000134551    9.287670e-09\n",
      "dtype: float64\n"
     ]
    }
   ],
   "source": [
    "# get the most important genes\n",
    "print(\"Most Important Genes (Old Men): Average LMDI+ Score\")\n",
    "print(np.abs(lmdi_importances_old_men).mean(axis=0).sort_values(ascending=False))\n",
    "print(\"Most Important Genes (Old Women): Average LMDI+ Score\")\n",
    "print(np.abs(lmdi_importances_old_women).mean(axis=0).sort_values(ascending=False))\n",
    "print(\"Most Important Genes (Young Men): Average LMDI+ Score\")\n",
    "print(np.abs(lmdi_importances_young_men).mean(axis=0).sort_values(ascending=False))\n",
    "print(\"Most Important Genes (Young Women): Average LMDI+ Score\")\n",
    "print(np.abs(lmdi_importances_young_women).mean(axis=0).sort_values(ascending=False))\n",
    "top_genes_old_men = np.abs(lmdi_importances_old_men).mean(axis=0).sort_values(ascending=False).index\n",
    "top_genes_old_women = np.abs(lmdi_importances_old_women).mean(axis=0).sort_values(ascending=False).index\n",
    "top_genes_young_men = np.abs(lmdi_importances_young_men).mean(axis=0).sort_values(ascending=False).index\n",
    "top_genes_young_women = np.abs(lmdi_importances_young_women).mean(axis=0).sort_values(ascending=False).index"
   ]
  },
  {
   "cell_type": "code",
   "execution_count": 14,
   "metadata": {},
   "outputs": [
    {
     "name": "stdout",
     "output_type": "stream",
     "text": [
      "There is a 50.00% Overlap of Top Genes (Men and Women). The intersection is \n",
      "['ENSG00000100934' 'ENSG00000113594' 'ENSG00000130159' 'ENSG00000134551'\n",
      " 'ENSG00000244694'].\n",
      "There is a 50.00% Overlap of Top Genes (Old and Young). The intersection is \n",
      "['ENSG00000100934' 'ENSG00000113594' 'ENSG00000130159' 'ENSG00000134551'\n",
      " 'ENSG00000244694'].\n",
      "There is a 50.00% Overlap of Top Genes (Age x Gender). The intersection is \n",
      "['ENSG00000100934' 'ENSG00000113594' 'ENSG00000130159' 'ENSG00000134551'\n",
      " 'ENSG00000244694'].\n"
     ]
    }
   ],
   "source": [
    "# check the rankings overlap for top genes\n",
    "overlap_gender = np.intersect1d(top_genes_men, top_genes_women)\n",
    "overlap_age = np.intersect1d(top_genes_old, top_genes_young)\n",
    "overlap_age_gender = np.intersect1d(np.intersect1d(top_genes_old_men,\n",
    "                                                   top_genes_old_women),\n",
    "                                    np.intersect1d(top_genes_young_men,\n",
    "                                                   top_genes_young_women))\n",
    "print(f\"There is a {overlap_gender.shape[0]/10.0*100:.2f}% \" +\n",
    "      \"Overlap of Top Genes (Men and Women). \" +\n",
    "      f\"The intersection is \\n{overlap_gender}.\")\n",
    "print(f\"There is a {overlap_age.shape[0]/10.0*100:.2f}% \" + \n",
    "      \"Overlap of Top Genes (Old and Young). \" +\n",
    "      f\"The intersection is \\n{overlap_age}.\")\n",
    "print(f\"There is a {overlap_age_gender.shape[0]/10.0*100:.2f}% \" +\n",
    "      \"Overlap of Top Genes (Age x Gender). \" +\n",
    "      f\"The intersection is \\n{overlap_age_gender}.\")"
   ]
  },
  {
   "cell_type": "code",
   "execution_count": null,
   "metadata": {},
   "outputs": [
    {
     "data": {
      "image/png": "[encoded data removed]",
      "text/plain": [
       "<Figure size 640x480 with 1 Axes>"
      ]
     },
     "metadata": {},
     "output_type": "display_data"
    }
   ],
   "source": [
    "# plot histogram of total average importance scores for genes\n",
    "plt.hist(np.abs(lmdi_importances.iloc[:,:-12]).mean(axis=0), bins = 50)\n",
    "plt.show()"
   ]
  }
 ],
 "metadata": {
  "kernelspec": {
   "display_name": "mdi",
   "language": "python",
   "name": "python3"
  },
  "language_info": {
   "codemirror_mode": {
    "name": "ipython",
    "version": 3
   },
   "file_extension": ".py",
   "mimetype": "text/x-python",
   "name": "python",
   "nbconvert_exporter": "python",
   "pygments_lexer": "ipython3",
   "version": "3.10.14"
  }
 },
 "nbformat": 4,
 "nbformat_minor": 2
}
