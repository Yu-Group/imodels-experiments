{
 "cells": [
  {
   "cell_type": "code",
   "execution_count": 1,
   "metadata": {},
   "outputs": [
    {
     "name": "stderr",
     "output_type": "stream",
     "text": [
      "/accounts/projects/binyu/zhongyuan_liang/.local/lib/python3.10/site-packages/tqdm/auto.py:21: TqdmWarning: IProgress not found. Please update jupyter and ipywidgets. See https://ipywidgets.readthedocs.io/en/stable/user_install.html\n",
      "  from .autonotebook import tqdm as notebook_tqdm\n"
     ]
    }
   ],
   "source": [
    "import imodels\n",
    "import pandas as pd\n",
    "import numpy as np\n",
    "from sklearn.model_selection import train_test_split\n",
    "from sklearn.ensemble import RandomForestRegressor\n",
    "from imodels.tree.rf_plus.rf_plus.rf_plus_models import RandomForestPlusRegressor\n",
    "from sklearn.linear_model import LinearRegression\n",
    "from sklearn.metrics import roc_auc_score, f1_score, recall_score, precision_score, mean_squared_error, r2_score\n",
    "from imodels.tree.rf_plus.feature_importance.rfplus_explainer import *\n",
    "from sklearn.preprocessing import StandardScaler\n",
    "import copy\n",
    "import matplotlib.pyplot as plt\n",
    "import openml\n",
    "import sys\n",
    "sys.path.append('..')\n",
    "sys.path.append('../..')\n",
    "sys.path.append('.')\n",
    "sys.path.append('./scripts')\n",
    "from competing_methods_local import *\n",
    "from simulations_util import *"
   ]
  },
  {
   "cell_type": "code",
   "execution_count": 2,
   "metadata": {},
   "outputs": [],
   "source": [
    "X = sample_real_data_X(source=\"csv\",file_path= \"/accounts/projects/binyu/zhongyuan_liang/local_MDI+/imodels-experiments/feature_importance/data/CCLE/X_ccle_rnaseq_Topotecan_top500.csv\",sample_row_n= None)"
   ]
  },
  {
   "cell_type": "code",
   "execution_count": 3,
   "metadata": {},
   "outputs": [],
   "source": [
    "y = sample_real_data_y(source=\"csv\", file_path=\"/accounts/projects/binyu/zhongyuan_liang/local_MDI+/imodels-experiments/feature_importance/data/CCLE/y_ccle_rnaseq_Topotecan.csv\")[0]"
   ]
  },
  {
   "cell_type": "code",
   "execution_count": 4,
   "metadata": {},
   "outputs": [],
   "source": [
    "# split the data\n",
    "X_train, X_test, y_train, y_test = train_test_split(X, y, test_size=0.2, random_state=42)"
   ]
  },
  {
   "cell_type": "code",
   "execution_count": 5,
   "metadata": {},
   "outputs": [],
   "source": [
    "X_train = X_train[:,:5]"
   ]
  },
  {
   "cell_type": "code",
   "execution_count": 6,
   "metadata": {},
   "outputs": [
    {
     "name": "stderr",
     "output_type": "stream",
     "text": [
      "[Parallel(n_jobs=-1)]: Using backend LokyBackend with 16 concurrent workers.\n",
      "[Parallel(n_jobs=-1)]: Done  18 tasks      | elapsed:    4.8s\n",
      "[Parallel(n_jobs=-1)]: Done 100 out of 100 | elapsed:    7.7s finished\n"
     ]
    }
   ],
   "source": [
    "est = RandomForestRegressor(n_estimators=100, min_samples_leaf=5, max_features=0.33, random_state=42)\n",
    "est.fit(X_train, y_train)\n",
    "rf_plus_base = RandomForestPlusRegressor(rf_model=est)\n",
    "rf_plus_base.fit(X_train, y_train)"
   ]
  },
  {
   "cell_type": "code",
   "execution_count": 7,
   "metadata": {},
   "outputs": [],
   "source": [
    "if X_train.shape[0] > 100:\n",
    "    indices_train = np.random.choice(X_train.shape[0], 100, replace=False)\n",
    "    X_train_subset = X_train[indices_train]\n",
    "    y_train_subset = y_train[indices_train]\n",
    "else:\n",
    "    indices_train = np.arange(X_train.shape[0])\n",
    "    X_train_subset = X_train\n",
    "    y_train_subset = y_train\n",
    "\n",
    "if X_test.shape[0] > 100:\n",
    "    indices_test = np.random.choice(X_test.shape[0], 100, replace=False)\n",
    "    X_test_subset = X_test[indices_test]\n",
    "    y_test_subset = y_test[indices_test]\n",
    "else:\n",
    "    indices_test = np.arange(X_test.shape[0])\n",
    "    X_test_subset = X_test\n",
    "    y_test_subset = y_test"
   ]
  },
  {
   "cell_type": "code",
   "execution_count": 8,
   "metadata": {},
   "outputs": [],
   "source": [
    "rf_plus_mdi = AloRFPlusMDI(rf_plus_base, evaluate_on=\"oob\")"
   ]
  },
  {
   "cell_type": "code",
   "execution_count": 9,
   "metadata": {},
   "outputs": [
    {
     "data": {
      "text/plain": [
       "(array([[-0.93740875, -1.09132836, -1.35028366, -1.15388852, -1.25685594],\n",
       "        [-1.04895378, -1.34183556, -1.15525384, -1.32002817, -1.36718094],\n",
       "        [-0.67151686, -0.2809473 , -0.63317469, -0.341039  , -0.36653009],\n",
       "        ...,\n",
       "        [-1.13306773, -1.41037856, -1.23963396, -1.42238344, -1.39783221],\n",
       "        [-1.71587687, -1.58479507, -1.81213149, -1.73044741, -1.69754925],\n",
       "        [-0.43752179, -0.4671859 , -0.49108445, -0.47976167, -0.46289299]]),\n",
       " array([[3.27029125, 3.11637164, 2.85741634, 3.05381148, 2.95084406],\n",
       "        [2.64835378, 2.94123556, 2.75465384, 2.91942817, 2.96658094],\n",
       "        [3.30621686, 2.89714089, 3.26787469, 2.97383506, 3.00123009],\n",
       "        ...,\n",
       "        [2.70416773, 2.98147856, 2.81073396, 2.99348344, 2.96893221],\n",
       "        [2.97227687, 2.84119507, 3.06853149, 2.98684741, 2.95394925],\n",
       "        [2.93105958, 2.9635859 , 2.98748445, 2.97616167, 2.95547056]]))"
      ]
     },
     "execution_count": 9,
     "metadata": {},
     "output_type": "execute_result"
    }
   ],
   "source": [
    "rf_plus_mdi.explain(X=X_train, y=y_train)"
   ]
  },
  {
   "cell_type": "code",
   "execution_count": 19,
   "metadata": {},
   "outputs": [],
   "source": [
    "temp = rf_plus_mdi.explain(X=X_train, y=y_train)[0][:5]"
   ]
  },
  {
   "cell_type": "code",
   "execution_count": 24,
   "metadata": {},
   "outputs": [
    {
     "data": {
      "text/plain": [
       "array([[0.93740875, 1.09132836, 1.35028366, 1.15388852, 1.25685594],\n",
       "       [1.04895378, 1.34183556, 1.15525384, 1.32002817, 1.36718094],\n",
       "       [0.67151686, 0.2809473 , 0.63317469, 0.341039  , 0.36653009],\n",
       "       [0.67514285, 0.64116806, 0.33789905, 0.58319897, 0.51105166],\n",
       "       [0.48467372, 0.26272469, 0.30583033, 0.36102418, 0.39570995]])"
      ]
     },
     "execution_count": 24,
     "metadata": {},
     "output_type": "execute_result"
    }
   ],
   "source": [
    "temp = np.abs(temp)\n",
    "temp"
   ]
  },
  {
   "cell_type": "code",
   "execution_count": 25,
   "metadata": {},
   "outputs": [
    {
     "data": {
      "text/plain": [
       "array([[2, 4, 3, 1, 0],\n",
       "       [4, 1, 3, 2, 0],\n",
       "       [0, 2, 4, 3, 1],\n",
       "       [0, 1, 3, 4, 2],\n",
       "       [0, 4, 3, 2, 1]])"
      ]
     },
     "execution_count": 25,
     "metadata": {},
     "output_type": "execute_result"
    }
   ],
   "source": [
    "np.argsort(-1*temp)"
   ]
  },
  {
   "cell_type": "code",
   "execution_count": 26,
   "metadata": {},
   "outputs": [
    {
     "data": {
      "text/plain": [
       "array([1.2, 2.4, 3.2, 2.4, 0.8])"
      ]
     },
     "execution_count": 26,
     "metadata": {},
     "output_type": "execute_result"
    }
   ],
   "source": [
    "np.mean(np.argsort(-1*temp), axis=0)"
   ]
  },
  {
   "cell_type": "code",
   "execution_count": 13,
   "metadata": {},
   "outputs": [
    {
     "data": {
      "text/plain": [
       "array([3.27029125, 3.11637164, 2.85741634, 3.05381148, 2.95084406])"
      ]
     },
     "execution_count": 13,
     "metadata": {},
     "output_type": "execute_result"
    }
   ],
   "source": [
    "rf_plus_mdi.explain(X=X_train, y=y_train)[1][0]"
   ]
  },
  {
   "cell_type": "code",
   "execution_count": 17,
   "metadata": {},
   "outputs": [
    {
     "ename": "AttributeError",
     "evalue": "'list' object has no attribute 'estimators_'",
     "output_type": "error",
     "traceback": [
      "\u001b[0;31m---------------------------------------------------------------------------\u001b[0m",
      "\u001b[0;31mAttributeError\u001b[0m                            Traceback (most recent call last)",
      "Cell \u001b[0;32mIn[17], line 1\u001b[0m\n\u001b[0;32m----> 1\u001b[0m rf_plus_base\u001b[39m.\u001b[39;49mestimators_\u001b[39m.\u001b[39;49mestimators_\n",
      "\u001b[0;31mAttributeError\u001b[0m: 'list' object has no attribute 'estimators_'"
     ]
    }
   ],
   "source": [
    "rf_plus_base.estimators_"
   ]
  },
  {
   "cell_type": "code",
   "execution_count": 15,
   "metadata": {},
   "outputs": [
    {
     "data": {
      "text/plain": [
       "4.2077"
      ]
     },
     "execution_count": 15,
     "metadata": {},
     "output_type": "execute_result"
    }
   ],
   "source": [
    "y_train[0]"
   ]
  },
  {
   "cell_type": "code",
   "execution_count": null,
   "metadata": {},
   "outputs": [],
   "source": [
    "treeshap_fi, _, _, _ = tree_shap_evaluation_RF(X_train, y_train, X_train_subset, y_train_subset, X_test, y_test, X_test_subset, y_test_subset, fit=est, mode=\"absolute\", train_only=True)"
   ]
  },
  {
   "cell_type": "code",
   "execution_count": null,
   "metadata": {},
   "outputs": [],
   "source": [
    "lmdi_fi, _, _, _ = LFI_evaluation_RFPlus_oob_l2_norm_sign(X_train, y_train, X_train_subset, y_train_subset, X_test, y_test, X_test_subset, y_test_subset,  fit=rf_plus_base, mode=\"absolute\", train_only=True)"
   ]
  },
  {
   "cell_type": "code",
   "execution_count": null,
   "metadata": {},
   "outputs": [],
   "source": [
    "def select_top_features(array, sorted_indices, percentage):\n",
    "    array = copy.deepcopy(array)\n",
    "    num_features = array.shape[1]\n",
    "    num_selected = int(np.ceil(num_features * percentage))\n",
    "    selected_indices = sorted_indices[:num_selected]\n",
    "    selected_array = array[:, selected_indices]\n",
    "    return num_selected, selected_array"
   ]
  },
  {
   "cell_type": "code",
   "execution_count": null,
   "metadata": {},
   "outputs": [],
   "source": [
    "mask_ratio = [0.05, 0.1, 0.25, 0.5, 0.9]\n",
    "metric_results_shap_mse = []\n",
    "metric_results_shap_r2 = []\n",
    "train_fi_mean = np.mean(treeshap_fi, axis=0)\n",
    "sorted_feature = np.argsort(-train_fi_mean)\n",
    "for mask in mask_ratio:\n",
    "    print(X_train.shape)\n",
    "    num_features_masked, X_train_masked = select_top_features(X_train, sorted_feature, mask)\n",
    "    print(X_train_masked.shape)\n",
    "    num_features_masked, X_test_masked = select_top_features(X_test, sorted_feature, mask)\n",
    "    print(X_test_masked.shape)\n",
    "    ablation_models = {\"RF_Regressor\": RandomForestRegressor(n_estimators=100,min_samples_leaf=5,max_features=0.33,random_state=42)}\n",
    "                    #\"Linear\": LinearRegression(),\n",
    "                    #\"XGB_Regressor\": xgb.XGBRegressor(random_state=42),\n",
    "                    # 'Kernel_Ridge': KernelRidge(),\n",
    "                    #\"RF_Plus_Regressor\": RandomForestPlusRegressor(rf_model=RandomForestRegressor(n_estimators=100,min_samples_leaf=5,max_features=0.33,random_state=42))}\n",
    "    # for a_model in ablation_models:\n",
    "    #     ablation_models[a_model].fit(X_train_masked, y_train)\n",
    "    rf = LinearRegression()# RandomForestRegressor(n_estimators=100,min_samples_leaf=5,max_features=0.33,random_state=42)\n",
    "    rf.fit(X_train_masked, y_train)\n",
    "    y_pred = rf.predict(X_test_masked)\n",
    "    metric_results_shap_mse.append(mean_squared_error(y_test, y_pred))\n",
    "    metric_results_shap_r2.append(r2_score(y_test, y_pred))"
   ]
  },
  {
   "cell_type": "code",
   "execution_count": null,
   "metadata": {},
   "outputs": [],
   "source": [
    "select_top_features(X_train, sorted_feature, 0.01)[1][0]"
   ]
  },
  {
   "cell_type": "code",
   "execution_count": null,
   "metadata": {},
   "outputs": [],
   "source": [
    "select_top_features(X_test, sorted_feature, 0.01)[1][0]"
   ]
  },
  {
   "cell_type": "code",
   "execution_count": null,
   "metadata": {},
   "outputs": [],
   "source": [
    "indices = np.nonzero(np.isin(X_train[0], select_top_features(X_train, sorted_feature, 0.01)[1][0]))[0]\n",
    "\n",
    "print(indices)"
   ]
  },
  {
   "cell_type": "code",
   "execution_count": null,
   "metadata": {},
   "outputs": [],
   "source": [
    "indices = np.nonzero(np.isin(X_test[0], select_top_features(X_test, sorted_feature, 0.01)[1][0]))[0]\n",
    "\n",
    "print(indices)"
   ]
  },
  {
   "cell_type": "code",
   "execution_count": null,
   "metadata": {},
   "outputs": [],
   "source": [
    "X_train[0]"
   ]
  },
  {
   "cell_type": "code",
   "execution_count": null,
   "metadata": {},
   "outputs": [],
   "source": []
  },
  {
   "cell_type": "code",
   "execution_count": null,
   "metadata": {},
   "outputs": [],
   "source": [
    "metric_results_shap_mse"
   ]
  },
  {
   "cell_type": "code",
   "execution_count": null,
   "metadata": {},
   "outputs": [],
   "source": [
    "# plot metric_results_shap_r2\n",
    "metric_results_shap_r2 = np.array(metric_results_shap_r2).reshape(len(mask_ratio), -1)\n",
    "plt.figure()\n",
    "plt.plot(mask_ratio, metric_results_shap_r2[:, 0], label=\"RF_Regressor\")\n",
    "plt.xlabel(\"Feature Ratio\")\n",
    "plt.ylabel(\"R2\")\n",
    "plt.legend()\n",
    "plt.show()"
   ]
  },
  {
   "cell_type": "code",
   "execution_count": null,
   "metadata": {},
   "outputs": [],
   "source": [
    "mask_ratio = [0.05, 0.1, 0.25, 0.5, 0.9]\n",
    "metric_results_lmdi_mse = []\n",
    "metric_results_lmdi_r2 = []\n",
    "train_fi_mean = np.mean(local_fi_score_train, axis=0)\n",
    "sorted_feature = np.argsort(-train_fi_mean)\n",
    "for mask in mask_ratio:\n",
    "    print(X_train.shape)\n",
    "    num_features_masked, X_train_masked = select_top_features(X_train, sorted_feature, mask)\n",
    "    print(X_train_masked.shape)\n",
    "    num_features_masked, X_test_masked = select_top_features(X_test, sorted_feature, mask)\n",
    "    print(X_test_masked.shape)\n",
    "    ablation_models = {\"RF_Regressor\": RandomForestRegressor(n_estimators=100,min_samples_leaf=5,max_features=0.33,random_state=42),\n",
    "                    \"Linear\": LinearRegression(),\n",
    "                    \"XGB_Regressor\": xgb.XGBRegressor(random_state=42),\n",
    "                    # 'Kernel_Ridge': KernelRidge(),\n",
    "                    \"RF_Plus_Regressor\": RandomForestPlusRegressor(rf_model=RandomForestRegressor(n_estimators=100,min_samples_leaf=5,max_features=0.33,random_state=42))}\n",
    "    for a_model in ablation_models:\n",
    "        ablation_models[a_model].fit(X_train_masked, y_train)\n",
    "        y_pred = ablation_models[a_model].predict(X_test_masked)\n",
    "        metric_results_lmdi_mse.append(mean_squared_error(y_test, y_pred))\n",
    "        metric_results_lmdi_r2.append(r2_score(y_test, y_pred))"
   ]
  }
 ],
 "metadata": {
  "kernelspec": {
   "display_name": "mdi",
   "language": "python",
   "name": "python3"
  },
  "language_info": {
   "codemirror_mode": {
    "name": "ipython",
    "version": 3
   },
   "file_extension": ".py",
   "mimetype": "text/x-python",
   "name": "python",
   "nbconvert_exporter": "python",
   "pygments_lexer": "ipython3",
   "version": "3.10.14"
  },
  "orig_nbformat": 4
 },
 "nbformat": 4,
 "nbformat_minor": 2
}
