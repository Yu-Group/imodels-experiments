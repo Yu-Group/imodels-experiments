{
 "cells": [
  {
   "cell_type": "code",
   "execution_count": 1,
   "metadata": {},
   "outputs": [
    {
     "name": "stderr",
     "output_type": "stream",
     "text": [
      "/accounts/projects/binyu/zhongyuan_liang/.local/lib/python3.10/site-packages/tqdm/auto.py:21: TqdmWarning: IProgress not found. Please update jupyter and ipywidgets. See https://ipywidgets.readthedocs.io/en/stable/user_install.html\n",
      "  from .autonotebook import tqdm as notebook_tqdm\n"
     ]
    }
   ],
   "source": [
    "import imodels\n",
    "import pandas as pd\n",
    "import numpy as np\n",
    "from sklearn.model_selection import train_test_split\n",
    "from sklearn.ensemble import RandomForestRegressor\n",
    "from imodels.tree.rf_plus.rf_plus.rf_plus_models import RandomForestPlusRegressor\n",
    "from sklearn.linear_model import LinearRegression\n",
    "from sklearn.metrics import roc_auc_score, f1_score, recall_score, precision_score, mean_squared_error, r2_score\n",
    "from imodels.tree.rf_plus.feature_importance.rfplus_explainer import *\n",
    "from sklearn.preprocessing import StandardScaler\n",
    "import copy\n",
    "import matplotlib.pyplot as plt\n",
    "import openml\n",
    "import sys\n",
    "sys.path.append('..')\n",
    "sys.path.append('../..')\n",
    "sys.path.append('.')\n",
    "sys.path.append('./scripts')\n",
    "from competing_methods_local import *\n",
    "from simulations_util import *\n",
    "from collections import Counter\n",
    "from ucimlrepo import fetch_ucirepo"
   ]
  },
  {
   "cell_type": "code",
   "execution_count": 2,
   "metadata": {},
   "outputs": [
    {
     "name": "stderr",
     "output_type": "stream",
     "text": [
      "/scratch/users/zhongyuan_liang/conda/envs/mdi/lib/python3.10/site-packages/IPython/core/interactiveshell.py:3577: FutureWarning: Starting from Version 0.15.0 `download_splits` will default to ``False`` instead of ``True`` and be independent from `download_data`. To disable this message until version 0.15 explicitly set `download_splits` to a bool.\n",
      "  exec(code_obj, self.user_global_ns, self.user_ns)\n",
      "/scratch/users/zhongyuan_liang/conda/envs/mdi/lib/python3.10/site-packages/openml/tasks/functions.py:442: FutureWarning: Starting from Version 0.15 `download_data`, `download_qualities`, and `download_features_meta_data` will all be ``False`` instead of ``True`` by default to enable lazy loading. To disable this message until version 0.15 explicitly set `download_data`, `download_qualities`, and `download_features_meta_data` to a bool while calling `get_dataset`.\n",
      "  dataset = get_dataset(task.dataset_id, *dataset_args, **get_dataset_kwargs)\n",
      "/scratch/users/zhongyuan_liang/conda/envs/mdi/lib/python3.10/site-packages/openml/tasks/task.py:150: FutureWarning: Starting from Version 0.15 `download_data`, `download_qualities`, and `download_features_meta_data` will all be ``False`` instead of ``True`` by default to enable lazy loading. To disable this message until version 0.15 explicitly set `download_data`, `download_qualities`, and `download_features_meta_data` to a bool while calling `get_dataset`.\n",
      "  return datasets.get_dataset(self.dataset_id)\n",
      "/scratch/users/zhongyuan_liang/conda/envs/mdi/lib/python3.10/site-packages/IPython/core/interactiveshell.py:3577: FutureWarning: Starting from Version 0.15.0 `download_splits` will default to ``False`` instead of ``True`` and be independent from `download_data`. To disable this message until version 0.15 explicitly set `download_splits` to a bool.\n",
      "  exec(code_obj, self.user_global_ns, self.user_ns)\n",
      "/scratch/users/zhongyuan_liang/conda/envs/mdi/lib/python3.10/site-packages/openml/tasks/functions.py:442: FutureWarning: Starting from Version 0.15 `download_data`, `download_qualities`, and `download_features_meta_data` will all be ``False`` instead of ``True`` by default to enable lazy loading. To disable this message until version 0.15 explicitly set `download_data`, `download_qualities`, and `download_features_meta_data` to a bool while calling `get_dataset`.\n",
      "  dataset = get_dataset(task.dataset_id, *dataset_args, **get_dataset_kwargs)\n",
      "/scratch/users/zhongyuan_liang/conda/envs/mdi/lib/python3.10/site-packages/openml/tasks/task.py:150: FutureWarning: Starting from Version 0.15 `download_data`, `download_qualities`, and `download_features_meta_data` will all be ``False`` instead of ``True`` by default to enable lazy loading. To disable this message until version 0.15 explicitly set `download_data`, `download_qualities`, and `download_features_meta_data` to a bool while calling `get_dataset`.\n",
      "  return datasets.get_dataset(self.dataset_id)\n",
      "/scratch/users/zhongyuan_liang/conda/envs/mdi/lib/python3.10/site-packages/IPython/core/interactiveshell.py:3577: FutureWarning: Starting from Version 0.15.0 `download_splits` will default to ``False`` instead of ``True`` and be independent from `download_data`. To disable this message until version 0.15 explicitly set `download_splits` to a bool.\n",
      "  exec(code_obj, self.user_global_ns, self.user_ns)\n",
      "/scratch/users/zhongyuan_liang/conda/envs/mdi/lib/python3.10/site-packages/openml/tasks/functions.py:442: FutureWarning: Starting from Version 0.15 `download_data`, `download_qualities`, and `download_features_meta_data` will all be ``False`` instead of ``True`` by default to enable lazy loading. To disable this message until version 0.15 explicitly set `download_data`, `download_qualities`, and `download_features_meta_data` to a bool while calling `get_dataset`.\n",
      "  dataset = get_dataset(task.dataset_id, *dataset_args, **get_dataset_kwargs)\n",
      "/scratch/users/zhongyuan_liang/conda/envs/mdi/lib/python3.10/site-packages/openml/tasks/task.py:150: FutureWarning: Starting from Version 0.15 `download_data`, `download_qualities`, and `download_features_meta_data` will all be ``False`` instead of ``True`` by default to enable lazy loading. To disable this message until version 0.15 explicitly set `download_data`, `download_qualities`, and `download_features_meta_data` to a bool while calling `get_dataset`.\n",
      "  return datasets.get_dataset(self.dataset_id)\n",
      "/scratch/users/zhongyuan_liang/conda/envs/mdi/lib/python3.10/site-packages/IPython/core/interactiveshell.py:3577: FutureWarning: Starting from Version 0.15.0 `download_splits` will default to ``False`` instead of ``True`` and be independent from `download_data`. To disable this message until version 0.15 explicitly set `download_splits` to a bool.\n",
      "  exec(code_obj, self.user_global_ns, self.user_ns)\n",
      "/scratch/users/zhongyuan_liang/conda/envs/mdi/lib/python3.10/site-packages/openml/tasks/functions.py:442: FutureWarning: Starting from Version 0.15 `download_data`, `download_qualities`, and `download_features_meta_data` will all be ``False`` instead of ``True`` by default to enable lazy loading. To disable this message until version 0.15 explicitly set `download_data`, `download_qualities`, and `download_features_meta_data` to a bool while calling `get_dataset`.\n",
      "  dataset = get_dataset(task.dataset_id, *dataset_args, **get_dataset_kwargs)\n",
      "/scratch/users/zhongyuan_liang/conda/envs/mdi/lib/python3.10/site-packages/openml/tasks/task.py:150: FutureWarning: Starting from Version 0.15 `download_data`, `download_qualities`, and `download_features_meta_data` will all be ``False`` instead of ``True`` by default to enable lazy loading. To disable this message until version 0.15 explicitly set `download_data`, `download_qualities`, and `download_features_meta_data` to a bool while calling `get_dataset`.\n",
      "  return datasets.get_dataset(self.dataset_id)\n",
      "/scratch/users/zhongyuan_liang/conda/envs/mdi/lib/python3.10/site-packages/IPython/core/interactiveshell.py:3577: FutureWarning: Starting from Version 0.15.0 `download_splits` will default to ``False`` instead of ``True`` and be independent from `download_data`. To disable this message until version 0.15 explicitly set `download_splits` to a bool.\n",
      "  exec(code_obj, self.user_global_ns, self.user_ns)\n",
      "/scratch/users/zhongyuan_liang/conda/envs/mdi/lib/python3.10/site-packages/openml/tasks/functions.py:442: FutureWarning: Starting from Version 0.15 `download_data`, `download_qualities`, and `download_features_meta_data` will all be ``False`` instead of ``True`` by default to enable lazy loading. To disable this message until version 0.15 explicitly set `download_data`, `download_qualities`, and `download_features_meta_data` to a bool while calling `get_dataset`.\n",
      "  dataset = get_dataset(task.dataset_id, *dataset_args, **get_dataset_kwargs)\n",
      "/scratch/users/zhongyuan_liang/conda/envs/mdi/lib/python3.10/site-packages/openml/tasks/task.py:150: FutureWarning: Starting from Version 0.15 `download_data`, `download_qualities`, and `download_features_meta_data` will all be ``False`` instead of ``True`` by default to enable lazy loading. To disable this message until version 0.15 explicitly set `download_data`, `download_qualities`, and `download_features_meta_data` to a bool while calling `get_dataset`.\n",
      "  return datasets.get_dataset(self.dataset_id)\n",
      "/scratch/users/zhongyuan_liang/conda/envs/mdi/lib/python3.10/site-packages/IPython/core/interactiveshell.py:3577: FutureWarning: Starting from Version 0.15.0 `download_splits` will default to ``False`` instead of ``True`` and be independent from `download_data`. To disable this message until version 0.15 explicitly set `download_splits` to a bool.\n",
      "  exec(code_obj, self.user_global_ns, self.user_ns)\n",
      "/scratch/users/zhongyuan_liang/conda/envs/mdi/lib/python3.10/site-packages/openml/tasks/functions.py:442: FutureWarning: Starting from Version 0.15 `download_data`, `download_qualities`, and `download_features_meta_data` will all be ``False`` instead of ``True`` by default to enable lazy loading. To disable this message until version 0.15 explicitly set `download_data`, `download_qualities`, and `download_features_meta_data` to a bool while calling `get_dataset`.\n",
      "  dataset = get_dataset(task.dataset_id, *dataset_args, **get_dataset_kwargs)\n",
      "/scratch/users/zhongyuan_liang/conda/envs/mdi/lib/python3.10/site-packages/openml/tasks/task.py:150: FutureWarning: Starting from Version 0.15 `download_data`, `download_qualities`, and `download_features_meta_data` will all be ``False`` instead of ``True`` by default to enable lazy loading. To disable this message until version 0.15 explicitly set `download_data`, `download_qualities`, and `download_features_meta_data` to a bool while calling `get_dataset`.\n",
      "  return datasets.get_dataset(self.dataset_id)\n",
      "/scratch/users/zhongyuan_liang/conda/envs/mdi/lib/python3.10/site-packages/IPython/core/interactiveshell.py:3577: FutureWarning: Starting from Version 0.15.0 `download_splits` will default to ``False`` instead of ``True`` and be independent from `download_data`. To disable this message until version 0.15 explicitly set `download_splits` to a bool.\n",
      "  exec(code_obj, self.user_global_ns, self.user_ns)\n",
      "/scratch/users/zhongyuan_liang/conda/envs/mdi/lib/python3.10/site-packages/openml/tasks/functions.py:442: FutureWarning: Starting from Version 0.15 `download_data`, `download_qualities`, and `download_features_meta_data` will all be ``False`` instead of ``True`` by default to enable lazy loading. To disable this message until version 0.15 explicitly set `download_data`, `download_qualities`, and `download_features_meta_data` to a bool while calling `get_dataset`.\n",
      "  dataset = get_dataset(task.dataset_id, *dataset_args, **get_dataset_kwargs)\n",
      "/scratch/users/zhongyuan_liang/conda/envs/mdi/lib/python3.10/site-packages/openml/tasks/task.py:150: FutureWarning: Starting from Version 0.15 `download_data`, `download_qualities`, and `download_features_meta_data` will all be ``False`` instead of ``True`` by default to enable lazy loading. To disable this message until version 0.15 explicitly set `download_data`, `download_qualities`, and `download_features_meta_data` to a bool while calling `get_dataset`.\n",
      "  return datasets.get_dataset(self.dataset_id)\n",
      "/scratch/users/zhongyuan_liang/conda/envs/mdi/lib/python3.10/site-packages/IPython/core/interactiveshell.py:3577: FutureWarning: Starting from Version 0.15.0 `download_splits` will default to ``False`` instead of ``True`` and be independent from `download_data`. To disable this message until version 0.15 explicitly set `download_splits` to a bool.\n",
      "  exec(code_obj, self.user_global_ns, self.user_ns)\n",
      "/scratch/users/zhongyuan_liang/conda/envs/mdi/lib/python3.10/site-packages/openml/tasks/functions.py:442: FutureWarning: Starting from Version 0.15 `download_data`, `download_qualities`, and `download_features_meta_data` will all be ``False`` instead of ``True`` by default to enable lazy loading. To disable this message until version 0.15 explicitly set `download_data`, `download_qualities`, and `download_features_meta_data` to a bool while calling `get_dataset`.\n",
      "  dataset = get_dataset(task.dataset_id, *dataset_args, **get_dataset_kwargs)\n",
      "/scratch/users/zhongyuan_liang/conda/envs/mdi/lib/python3.10/site-packages/openml/tasks/task.py:150: FutureWarning: Starting from Version 0.15 `download_data`, `download_qualities`, and `download_features_meta_data` will all be ``False`` instead of ``True`` by default to enable lazy loading. To disable this message until version 0.15 explicitly set `download_data`, `download_qualities`, and `download_features_meta_data` to a bool while calling `get_dataset`.\n",
      "  return datasets.get_dataset(self.dataset_id)\n",
      "/scratch/users/zhongyuan_liang/conda/envs/mdi/lib/python3.10/site-packages/IPython/core/interactiveshell.py:3577: FutureWarning: Starting from Version 0.15.0 `download_splits` will default to ``False`` instead of ``True`` and be independent from `download_data`. To disable this message until version 0.15 explicitly set `download_splits` to a bool.\n",
      "  exec(code_obj, self.user_global_ns, self.user_ns)\n",
      "/scratch/users/zhongyuan_liang/conda/envs/mdi/lib/python3.10/site-packages/openml/tasks/functions.py:442: FutureWarning: Starting from Version 0.15 `download_data`, `download_qualities`, and `download_features_meta_data` will all be ``False`` instead of ``True`` by default to enable lazy loading. To disable this message until version 0.15 explicitly set `download_data`, `download_qualities`, and `download_features_meta_data` to a bool while calling `get_dataset`.\n",
      "  dataset = get_dataset(task.dataset_id, *dataset_args, **get_dataset_kwargs)\n",
      "/scratch/users/zhongyuan_liang/conda/envs/mdi/lib/python3.10/site-packages/openml/tasks/task.py:150: FutureWarning: Starting from Version 0.15 `download_data`, `download_qualities`, and `download_features_meta_data` will all be ``False`` instead of ``True`` by default to enable lazy loading. To disable this message until version 0.15 explicitly set `download_data`, `download_qualities`, and `download_features_meta_data` to a bool while calling `get_dataset`.\n",
      "  return datasets.get_dataset(self.dataset_id)\n",
      "/scratch/users/zhongyuan_liang/conda/envs/mdi/lib/python3.10/site-packages/IPython/core/interactiveshell.py:3577: FutureWarning: Starting from Version 0.15.0 `download_splits` will default to ``False`` instead of ``True`` and be independent from `download_data`. To disable this message until version 0.15 explicitly set `download_splits` to a bool.\n",
      "  exec(code_obj, self.user_global_ns, self.user_ns)\n",
      "/scratch/users/zhongyuan_liang/conda/envs/mdi/lib/python3.10/site-packages/openml/tasks/functions.py:442: FutureWarning: Starting from Version 0.15 `download_data`, `download_qualities`, and `download_features_meta_data` will all be ``False`` instead of ``True`` by default to enable lazy loading. To disable this message until version 0.15 explicitly set `download_data`, `download_qualities`, and `download_features_meta_data` to a bool while calling `get_dataset`.\n",
      "  dataset = get_dataset(task.dataset_id, *dataset_args, **get_dataset_kwargs)\n",
      "/scratch/users/zhongyuan_liang/conda/envs/mdi/lib/python3.10/site-packages/openml/tasks/task.py:150: FutureWarning: Starting from Version 0.15 `download_data`, `download_qualities`, and `download_features_meta_data` will all be ``False`` instead of ``True`` by default to enable lazy loading. To disable this message until version 0.15 explicitly set `download_data`, `download_qualities`, and `download_features_meta_data` to a bool while calling `get_dataset`.\n",
      "  return datasets.get_dataset(self.dataset_id)\n",
      "/scratch/users/zhongyuan_liang/conda/envs/mdi/lib/python3.10/site-packages/IPython/core/interactiveshell.py:3577: FutureWarning: Starting from Version 0.15.0 `download_splits` will default to ``False`` instead of ``True`` and be independent from `download_data`. To disable this message until version 0.15 explicitly set `download_splits` to a bool.\n",
      "  exec(code_obj, self.user_global_ns, self.user_ns)\n",
      "/scratch/users/zhongyuan_liang/conda/envs/mdi/lib/python3.10/site-packages/openml/tasks/functions.py:442: FutureWarning: Starting from Version 0.15 `download_data`, `download_qualities`, and `download_features_meta_data` will all be ``False`` instead of ``True`` by default to enable lazy loading. To disable this message until version 0.15 explicitly set `download_data`, `download_qualities`, and `download_features_meta_data` to a bool while calling `get_dataset`.\n",
      "  dataset = get_dataset(task.dataset_id, *dataset_args, **get_dataset_kwargs)\n",
      "/scratch/users/zhongyuan_liang/conda/envs/mdi/lib/python3.10/site-packages/openml/tasks/task.py:150: FutureWarning: Starting from Version 0.15 `download_data`, `download_qualities`, and `download_features_meta_data` will all be ``False`` instead of ``True`` by default to enable lazy loading. To disable this message until version 0.15 explicitly set `download_data`, `download_qualities`, and `download_features_meta_data` to a bool while calling `get_dataset`.\n",
      "  return datasets.get_dataset(self.dataset_id)\n",
      "/scratch/users/zhongyuan_liang/conda/envs/mdi/lib/python3.10/site-packages/IPython/core/interactiveshell.py:3577: FutureWarning: Starting from Version 0.15.0 `download_splits` will default to ``False`` instead of ``True`` and be independent from `download_data`. To disable this message until version 0.15 explicitly set `download_splits` to a bool.\n",
      "  exec(code_obj, self.user_global_ns, self.user_ns)\n",
      "/scratch/users/zhongyuan_liang/conda/envs/mdi/lib/python3.10/site-packages/openml/tasks/functions.py:442: FutureWarning: Starting from Version 0.15 `download_data`, `download_qualities`, and `download_features_meta_data` will all be ``False`` instead of ``True`` by default to enable lazy loading. To disable this message until version 0.15 explicitly set `download_data`, `download_qualities`, and `download_features_meta_data` to a bool while calling `get_dataset`.\n",
      "  dataset = get_dataset(task.dataset_id, *dataset_args, **get_dataset_kwargs)\n",
      "/scratch/users/zhongyuan_liang/conda/envs/mdi/lib/python3.10/site-packages/openml/tasks/task.py:150: FutureWarning: Starting from Version 0.15 `download_data`, `download_qualities`, and `download_features_meta_data` will all be ``False`` instead of ``True`` by default to enable lazy loading. To disable this message until version 0.15 explicitly set `download_data`, `download_qualities`, and `download_features_meta_data` to a bool while calling `get_dataset`.\n",
      "  return datasets.get_dataset(self.dataset_id)\n",
      "/scratch/users/zhongyuan_liang/conda/envs/mdi/lib/python3.10/site-packages/IPython/core/interactiveshell.py:3577: FutureWarning: Starting from Version 0.15.0 `download_splits` will default to ``False`` instead of ``True`` and be independent from `download_data`. To disable this message until version 0.15 explicitly set `download_splits` to a bool.\n",
      "  exec(code_obj, self.user_global_ns, self.user_ns)\n",
      "/scratch/users/zhongyuan_liang/conda/envs/mdi/lib/python3.10/site-packages/openml/tasks/functions.py:442: FutureWarning: Starting from Version 0.15 `download_data`, `download_qualities`, and `download_features_meta_data` will all be ``False`` instead of ``True`` by default to enable lazy loading. To disable this message until version 0.15 explicitly set `download_data`, `download_qualities`, and `download_features_meta_data` to a bool while calling `get_dataset`.\n",
      "  dataset = get_dataset(task.dataset_id, *dataset_args, **get_dataset_kwargs)\n",
      "/scratch/users/zhongyuan_liang/conda/envs/mdi/lib/python3.10/site-packages/openml/tasks/task.py:150: FutureWarning: Starting from Version 0.15 `download_data`, `download_qualities`, and `download_features_meta_data` will all be ``False`` instead of ``True`` by default to enable lazy loading. To disable this message until version 0.15 explicitly set `download_data`, `download_qualities`, and `download_features_meta_data` to a bool while calling `get_dataset`.\n",
      "  return datasets.get_dataset(self.dataset_id)\n",
      "/scratch/users/zhongyuan_liang/conda/envs/mdi/lib/python3.10/site-packages/IPython/core/interactiveshell.py:3577: FutureWarning: Starting from Version 0.15.0 `download_splits` will default to ``False`` instead of ``True`` and be independent from `download_data`. To disable this message until version 0.15 explicitly set `download_splits` to a bool.\n",
      "  exec(code_obj, self.user_global_ns, self.user_ns)\n",
      "/scratch/users/zhongyuan_liang/conda/envs/mdi/lib/python3.10/site-packages/openml/tasks/functions.py:442: FutureWarning: Starting from Version 0.15 `download_data`, `download_qualities`, and `download_features_meta_data` will all be ``False`` instead of ``True`` by default to enable lazy loading. To disable this message until version 0.15 explicitly set `download_data`, `download_qualities`, and `download_features_meta_data` to a bool while calling `get_dataset`.\n",
      "  dataset = get_dataset(task.dataset_id, *dataset_args, **get_dataset_kwargs)\n",
      "/scratch/users/zhongyuan_liang/conda/envs/mdi/lib/python3.10/site-packages/openml/tasks/task.py:150: FutureWarning: Starting from Version 0.15 `download_data`, `download_qualities`, and `download_features_meta_data` will all be ``False`` instead of ``True`` by default to enable lazy loading. To disable this message until version 0.15 explicitly set `download_data`, `download_qualities`, and `download_features_meta_data` to a bool while calling `get_dataset`.\n",
      "  return datasets.get_dataset(self.dataset_id)\n",
      "/scratch/users/zhongyuan_liang/conda/envs/mdi/lib/python3.10/site-packages/IPython/core/interactiveshell.py:3577: FutureWarning: Starting from Version 0.15.0 `download_splits` will default to ``False`` instead of ``True`` and be independent from `download_data`. To disable this message until version 0.15 explicitly set `download_splits` to a bool.\n",
      "  exec(code_obj, self.user_global_ns, self.user_ns)\n",
      "/scratch/users/zhongyuan_liang/conda/envs/mdi/lib/python3.10/site-packages/openml/tasks/functions.py:442: FutureWarning: Starting from Version 0.15 `download_data`, `download_qualities`, and `download_features_meta_data` will all be ``False`` instead of ``True`` by default to enable lazy loading. To disable this message until version 0.15 explicitly set `download_data`, `download_qualities`, and `download_features_meta_data` to a bool while calling `get_dataset`.\n",
      "  dataset = get_dataset(task.dataset_id, *dataset_args, **get_dataset_kwargs)\n",
      "/scratch/users/zhongyuan_liang/conda/envs/mdi/lib/python3.10/site-packages/openml/tasks/task.py:150: FutureWarning: Starting from Version 0.15 `download_data`, `download_qualities`, and `download_features_meta_data` will all be ``False`` instead of ``True`` by default to enable lazy loading. To disable this message until version 0.15 explicitly set `download_data`, `download_qualities`, and `download_features_meta_data` to a bool while calling `get_dataset`.\n",
      "  return datasets.get_dataset(self.dataset_id)\n",
      "/scratch/users/zhongyuan_liang/conda/envs/mdi/lib/python3.10/site-packages/IPython/core/interactiveshell.py:3577: FutureWarning: Starting from Version 0.15.0 `download_splits` will default to ``False`` instead of ``True`` and be independent from `download_data`. To disable this message until version 0.15 explicitly set `download_splits` to a bool.\n",
      "  exec(code_obj, self.user_global_ns, self.user_ns)\n",
      "/scratch/users/zhongyuan_liang/conda/envs/mdi/lib/python3.10/site-packages/openml/tasks/functions.py:442: FutureWarning: Starting from Version 0.15 `download_data`, `download_qualities`, and `download_features_meta_data` will all be ``False`` instead of ``True`` by default to enable lazy loading. To disable this message until version 0.15 explicitly set `download_data`, `download_qualities`, and `download_features_meta_data` to a bool while calling `get_dataset`.\n",
      "  dataset = get_dataset(task.dataset_id, *dataset_args, **get_dataset_kwargs)\n",
      "/scratch/users/zhongyuan_liang/conda/envs/mdi/lib/python3.10/site-packages/openml/tasks/task.py:150: FutureWarning: Starting from Version 0.15 `download_data`, `download_qualities`, and `download_features_meta_data` will all be ``False`` instead of ``True`` by default to enable lazy loading. To disable this message until version 0.15 explicitly set `download_data`, `download_qualities`, and `download_features_meta_data` to a bool while calling `get_dataset`.\n",
      "  return datasets.get_dataset(self.dataset_id)\n",
      "/scratch/users/zhongyuan_liang/conda/envs/mdi/lib/python3.10/site-packages/IPython/core/interactiveshell.py:3577: FutureWarning: Starting from Version 0.15.0 `download_splits` will default to ``False`` instead of ``True`` and be independent from `download_data`. To disable this message until version 0.15 explicitly set `download_splits` to a bool.\n",
      "  exec(code_obj, self.user_global_ns, self.user_ns)\n",
      "/scratch/users/zhongyuan_liang/conda/envs/mdi/lib/python3.10/site-packages/openml/tasks/functions.py:442: FutureWarning: Starting from Version 0.15 `download_data`, `download_qualities`, and `download_features_meta_data` will all be ``False`` instead of ``True`` by default to enable lazy loading. To disable this message until version 0.15 explicitly set `download_data`, `download_qualities`, and `download_features_meta_data` to a bool while calling `get_dataset`.\n",
      "  dataset = get_dataset(task.dataset_id, *dataset_args, **get_dataset_kwargs)\n",
      "/scratch/users/zhongyuan_liang/conda/envs/mdi/lib/python3.10/site-packages/openml/tasks/task.py:150: FutureWarning: Starting from Version 0.15 `download_data`, `download_qualities`, and `download_features_meta_data` will all be ``False`` instead of ``True`` by default to enable lazy loading. To disable this message until version 0.15 explicitly set `download_data`, `download_qualities`, and `download_features_meta_data` to a bool while calling `get_dataset`.\n",
      "  return datasets.get_dataset(self.dataset_id)\n",
      "/scratch/users/zhongyuan_liang/conda/envs/mdi/lib/python3.10/site-packages/IPython/core/interactiveshell.py:3577: FutureWarning: Starting from Version 0.15.0 `download_splits` will default to ``False`` instead of ``True`` and be independent from `download_data`. To disable this message until version 0.15 explicitly set `download_splits` to a bool.\n",
      "  exec(code_obj, self.user_global_ns, self.user_ns)\n",
      "/scratch/users/zhongyuan_liang/conda/envs/mdi/lib/python3.10/site-packages/openml/tasks/functions.py:442: FutureWarning: Starting from Version 0.15 `download_data`, `download_qualities`, and `download_features_meta_data` will all be ``False`` instead of ``True`` by default to enable lazy loading. To disable this message until version 0.15 explicitly set `download_data`, `download_qualities`, and `download_features_meta_data` to a bool while calling `get_dataset`.\n",
      "  dataset = get_dataset(task.dataset_id, *dataset_args, **get_dataset_kwargs)\n",
      "/scratch/users/zhongyuan_liang/conda/envs/mdi/lib/python3.10/site-packages/openml/tasks/task.py:150: FutureWarning: Starting from Version 0.15 `download_data`, `download_qualities`, and `download_features_meta_data` will all be ``False`` instead of ``True`` by default to enable lazy loading. To disable this message until version 0.15 explicitly set `download_data`, `download_qualities`, and `download_features_meta_data` to a bool while calling `get_dataset`.\n",
      "  return datasets.get_dataset(self.dataset_id)\n",
      "/scratch/users/zhongyuan_liang/conda/envs/mdi/lib/python3.10/site-packages/IPython/core/interactiveshell.py:3577: FutureWarning: Starting from Version 0.15.0 `download_splits` will default to ``False`` instead of ``True`` and be independent from `download_data`. To disable this message until version 0.15 explicitly set `download_splits` to a bool.\n",
      "  exec(code_obj, self.user_global_ns, self.user_ns)\n",
      "/scratch/users/zhongyuan_liang/conda/envs/mdi/lib/python3.10/site-packages/openml/tasks/functions.py:442: FutureWarning: Starting from Version 0.15 `download_data`, `download_qualities`, and `download_features_meta_data` will all be ``False`` instead of ``True`` by default to enable lazy loading. To disable this message until version 0.15 explicitly set `download_data`, `download_qualities`, and `download_features_meta_data` to a bool while calling `get_dataset`.\n",
      "  dataset = get_dataset(task.dataset_id, *dataset_args, **get_dataset_kwargs)\n",
      "/scratch/users/zhongyuan_liang/conda/envs/mdi/lib/python3.10/site-packages/openml/tasks/task.py:150: FutureWarning: Starting from Version 0.15 `download_data`, `download_qualities`, and `download_features_meta_data` will all be ``False`` instead of ``True`` by default to enable lazy loading. To disable this message until version 0.15 explicitly set `download_data`, `download_qualities`, and `download_features_meta_data` to a bool while calling `get_dataset`.\n",
      "  return datasets.get_dataset(self.dataset_id)\n",
      "/scratch/users/zhongyuan_liang/conda/envs/mdi/lib/python3.10/site-packages/IPython/core/interactiveshell.py:3577: FutureWarning: Starting from Version 0.15.0 `download_splits` will default to ``False`` instead of ``True`` and be independent from `download_data`. To disable this message until version 0.15 explicitly set `download_splits` to a bool.\n",
      "  exec(code_obj, self.user_global_ns, self.user_ns)\n",
      "/scratch/users/zhongyuan_liang/conda/envs/mdi/lib/python3.10/site-packages/openml/tasks/functions.py:442: FutureWarning: Starting from Version 0.15 `download_data`, `download_qualities`, and `download_features_meta_data` will all be ``False`` instead of ``True`` by default to enable lazy loading. To disable this message until version 0.15 explicitly set `download_data`, `download_qualities`, and `download_features_meta_data` to a bool while calling `get_dataset`.\n",
      "  dataset = get_dataset(task.dataset_id, *dataset_args, **get_dataset_kwargs)\n",
      "/scratch/users/zhongyuan_liang/conda/envs/mdi/lib/python3.10/site-packages/openml/tasks/task.py:150: FutureWarning: Starting from Version 0.15 `download_data`, `download_qualities`, and `download_features_meta_data` will all be ``False`` instead of ``True`` by default to enable lazy loading. To disable this message until version 0.15 explicitly set `download_data`, `download_qualities`, and `download_features_meta_data` to a bool while calling `get_dataset`.\n",
      "  return datasets.get_dataset(self.dataset_id)\n",
      "/scratch/users/zhongyuan_liang/conda/envs/mdi/lib/python3.10/site-packages/IPython/core/interactiveshell.py:3577: FutureWarning: Starting from Version 0.15.0 `download_splits` will default to ``False`` instead of ``True`` and be independent from `download_data`. To disable this message until version 0.15 explicitly set `download_splits` to a bool.\n",
      "  exec(code_obj, self.user_global_ns, self.user_ns)\n",
      "/scratch/users/zhongyuan_liang/conda/envs/mdi/lib/python3.10/site-packages/openml/tasks/functions.py:442: FutureWarning: Starting from Version 0.15 `download_data`, `download_qualities`, and `download_features_meta_data` will all be ``False`` instead of ``True`` by default to enable lazy loading. To disable this message until version 0.15 explicitly set `download_data`, `download_qualities`, and `download_features_meta_data` to a bool while calling `get_dataset`.\n",
      "  dataset = get_dataset(task.dataset_id, *dataset_args, **get_dataset_kwargs)\n",
      "/scratch/users/zhongyuan_liang/conda/envs/mdi/lib/python3.10/site-packages/openml/tasks/task.py:150: FutureWarning: Starting from Version 0.15 `download_data`, `download_qualities`, and `download_features_meta_data` will all be ``False`` instead of ``True`` by default to enable lazy loading. To disable this message until version 0.15 explicitly set `download_data`, `download_qualities`, and `download_features_meta_data` to a bool while calling `get_dataset`.\n",
      "  return datasets.get_dataset(self.dataset_id)\n",
      "/scratch/users/zhongyuan_liang/conda/envs/mdi/lib/python3.10/site-packages/IPython/core/interactiveshell.py:3577: FutureWarning: Starting from Version 0.15.0 `download_splits` will default to ``False`` instead of ``True`` and be independent from `download_data`. To disable this message until version 0.15 explicitly set `download_splits` to a bool.\n",
      "  exec(code_obj, self.user_global_ns, self.user_ns)\n",
      "/scratch/users/zhongyuan_liang/conda/envs/mdi/lib/python3.10/site-packages/openml/tasks/functions.py:442: FutureWarning: Starting from Version 0.15 `download_data`, `download_qualities`, and `download_features_meta_data` will all be ``False`` instead of ``True`` by default to enable lazy loading. To disable this message until version 0.15 explicitly set `download_data`, `download_qualities`, and `download_features_meta_data` to a bool while calling `get_dataset`.\n",
      "  dataset = get_dataset(task.dataset_id, *dataset_args, **get_dataset_kwargs)\n",
      "/scratch/users/zhongyuan_liang/conda/envs/mdi/lib/python3.10/site-packages/openml/tasks/task.py:150: FutureWarning: Starting from Version 0.15 `download_data`, `download_qualities`, and `download_features_meta_data` will all be ``False`` instead of ``True`` by default to enable lazy loading. To disable this message until version 0.15 explicitly set `download_data`, `download_qualities`, and `download_features_meta_data` to a bool while calling `get_dataset`.\n",
      "  return datasets.get_dataset(self.dataset_id)\n",
      "/scratch/users/zhongyuan_liang/conda/envs/mdi/lib/python3.10/site-packages/IPython/core/interactiveshell.py:3577: FutureWarning: Starting from Version 0.15.0 `download_splits` will default to ``False`` instead of ``True`` and be independent from `download_data`. To disable this message until version 0.15 explicitly set `download_splits` to a bool.\n",
      "  exec(code_obj, self.user_global_ns, self.user_ns)\n",
      "/scratch/users/zhongyuan_liang/conda/envs/mdi/lib/python3.10/site-packages/openml/tasks/functions.py:442: FutureWarning: Starting from Version 0.15 `download_data`, `download_qualities`, and `download_features_meta_data` will all be ``False`` instead of ``True`` by default to enable lazy loading. To disable this message until version 0.15 explicitly set `download_data`, `download_qualities`, and `download_features_meta_data` to a bool while calling `get_dataset`.\n",
      "  dataset = get_dataset(task.dataset_id, *dataset_args, **get_dataset_kwargs)\n",
      "/scratch/users/zhongyuan_liang/conda/envs/mdi/lib/python3.10/site-packages/openml/tasks/task.py:150: FutureWarning: Starting from Version 0.15 `download_data`, `download_qualities`, and `download_features_meta_data` will all be ``False`` instead of ``True`` by default to enable lazy loading. To disable this message until version 0.15 explicitly set `download_data`, `download_qualities`, and `download_features_meta_data` to a bool while calling `get_dataset`.\n",
      "  return datasets.get_dataset(self.dataset_id)\n",
      "/scratch/users/zhongyuan_liang/conda/envs/mdi/lib/python3.10/site-packages/IPython/core/interactiveshell.py:3577: FutureWarning: Starting from Version 0.15.0 `download_splits` will default to ``False`` instead of ``True`` and be independent from `download_data`. To disable this message until version 0.15 explicitly set `download_splits` to a bool.\n",
      "  exec(code_obj, self.user_global_ns, self.user_ns)\n",
      "/scratch/users/zhongyuan_liang/conda/envs/mdi/lib/python3.10/site-packages/openml/tasks/functions.py:442: FutureWarning: Starting from Version 0.15 `download_data`, `download_qualities`, and `download_features_meta_data` will all be ``False`` instead of ``True`` by default to enable lazy loading. To disable this message until version 0.15 explicitly set `download_data`, `download_qualities`, and `download_features_meta_data` to a bool while calling `get_dataset`.\n",
      "  dataset = get_dataset(task.dataset_id, *dataset_args, **get_dataset_kwargs)\n",
      "/scratch/users/zhongyuan_liang/conda/envs/mdi/lib/python3.10/site-packages/openml/tasks/task.py:150: FutureWarning: Starting from Version 0.15 `download_data`, `download_qualities`, and `download_features_meta_data` will all be ``False`` instead of ``True`` by default to enable lazy loading. To disable this message until version 0.15 explicitly set `download_data`, `download_qualities`, and `download_features_meta_data` to a bool while calling `get_dataset`.\n",
      "  return datasets.get_dataset(self.dataset_id)\n",
      "/scratch/users/zhongyuan_liang/conda/envs/mdi/lib/python3.10/site-packages/IPython/core/interactiveshell.py:3577: FutureWarning: Starting from Version 0.15.0 `download_splits` will default to ``False`` instead of ``True`` and be independent from `download_data`. To disable this message until version 0.15 explicitly set `download_splits` to a bool.\n",
      "  exec(code_obj, self.user_global_ns, self.user_ns)\n",
      "/scratch/users/zhongyuan_liang/conda/envs/mdi/lib/python3.10/site-packages/openml/tasks/functions.py:442: FutureWarning: Starting from Version 0.15 `download_data`, `download_qualities`, and `download_features_meta_data` will all be ``False`` instead of ``True`` by default to enable lazy loading. To disable this message until version 0.15 explicitly set `download_data`, `download_qualities`, and `download_features_meta_data` to a bool while calling `get_dataset`.\n",
      "  dataset = get_dataset(task.dataset_id, *dataset_args, **get_dataset_kwargs)\n",
      "/scratch/users/zhongyuan_liang/conda/envs/mdi/lib/python3.10/site-packages/openml/tasks/task.py:150: FutureWarning: Starting from Version 0.15 `download_data`, `download_qualities`, and `download_features_meta_data` will all be ``False`` instead of ``True`` by default to enable lazy loading. To disable this message until version 0.15 explicitly set `download_data`, `download_qualities`, and `download_features_meta_data` to a bool while calling `get_dataset`.\n",
      "  return datasets.get_dataset(self.dataset_id)\n",
      "/scratch/users/zhongyuan_liang/conda/envs/mdi/lib/python3.10/site-packages/IPython/core/interactiveshell.py:3577: FutureWarning: Starting from Version 0.15.0 `download_splits` will default to ``False`` instead of ``True`` and be independent from `download_data`. To disable this message until version 0.15 explicitly set `download_splits` to a bool.\n",
      "  exec(code_obj, self.user_global_ns, self.user_ns)\n",
      "/scratch/users/zhongyuan_liang/conda/envs/mdi/lib/python3.10/site-packages/openml/tasks/functions.py:442: FutureWarning: Starting from Version 0.15 `download_data`, `download_qualities`, and `download_features_meta_data` will all be ``False`` instead of ``True`` by default to enable lazy loading. To disable this message until version 0.15 explicitly set `download_data`, `download_qualities`, and `download_features_meta_data` to a bool while calling `get_dataset`.\n",
      "  dataset = get_dataset(task.dataset_id, *dataset_args, **get_dataset_kwargs)\n",
      "/scratch/users/zhongyuan_liang/conda/envs/mdi/lib/python3.10/site-packages/openml/tasks/task.py:150: FutureWarning: Starting from Version 0.15 `download_data`, `download_qualities`, and `download_features_meta_data` will all be ``False`` instead of ``True`` by default to enable lazy loading. To disable this message until version 0.15 explicitly set `download_data`, `download_qualities`, and `download_features_meta_data` to a bool while calling `get_dataset`.\n",
      "  return datasets.get_dataset(self.dataset_id)\n",
      "/scratch/users/zhongyuan_liang/conda/envs/mdi/lib/python3.10/site-packages/IPython/core/interactiveshell.py:3577: FutureWarning: Starting from Version 0.15.0 `download_splits` will default to ``False`` instead of ``True`` and be independent from `download_data`. To disable this message until version 0.15 explicitly set `download_splits` to a bool.\n",
      "  exec(code_obj, self.user_global_ns, self.user_ns)\n",
      "/scratch/users/zhongyuan_liang/conda/envs/mdi/lib/python3.10/site-packages/openml/tasks/functions.py:442: FutureWarning: Starting from Version 0.15 `download_data`, `download_qualities`, and `download_features_meta_data` will all be ``False`` instead of ``True`` by default to enable lazy loading. To disable this message until version 0.15 explicitly set `download_data`, `download_qualities`, and `download_features_meta_data` to a bool while calling `get_dataset`.\n",
      "  dataset = get_dataset(task.dataset_id, *dataset_args, **get_dataset_kwargs)\n",
      "/scratch/users/zhongyuan_liang/conda/envs/mdi/lib/python3.10/site-packages/openml/tasks/task.py:150: FutureWarning: Starting from Version 0.15 `download_data`, `download_qualities`, and `download_features_meta_data` will all be ``False`` instead of ``True`` by default to enable lazy loading. To disable this message until version 0.15 explicitly set `download_data`, `download_qualities`, and `download_features_meta_data` to a bool while calling `get_dataset`.\n",
      "  return datasets.get_dataset(self.dataset_id)\n",
      "/scratch/users/zhongyuan_liang/conda/envs/mdi/lib/python3.10/site-packages/IPython/core/interactiveshell.py:3577: FutureWarning: Starting from Version 0.15.0 `download_splits` will default to ``False`` instead of ``True`` and be independent from `download_data`. To disable this message until version 0.15 explicitly set `download_splits` to a bool.\n",
      "  exec(code_obj, self.user_global_ns, self.user_ns)\n",
      "/scratch/users/zhongyuan_liang/conda/envs/mdi/lib/python3.10/site-packages/openml/tasks/functions.py:442: FutureWarning: Starting from Version 0.15 `download_data`, `download_qualities`, and `download_features_meta_data` will all be ``False`` instead of ``True`` by default to enable lazy loading. To disable this message until version 0.15 explicitly set `download_data`, `download_qualities`, and `download_features_meta_data` to a bool while calling `get_dataset`.\n",
      "  dataset = get_dataset(task.dataset_id, *dataset_args, **get_dataset_kwargs)\n",
      "/scratch/users/zhongyuan_liang/conda/envs/mdi/lib/python3.10/site-packages/openml/tasks/task.py:150: FutureWarning: Starting from Version 0.15 `download_data`, `download_qualities`, and `download_features_meta_data` will all be ``False`` instead of ``True`` by default to enable lazy loading. To disable this message until version 0.15 explicitly set `download_data`, `download_qualities`, and `download_features_meta_data` to a bool while calling `get_dataset`.\n",
      "  return datasets.get_dataset(self.dataset_id)\n",
      "/scratch/users/zhongyuan_liang/conda/envs/mdi/lib/python3.10/site-packages/IPython/core/interactiveshell.py:3577: FutureWarning: Starting from Version 0.15.0 `download_splits` will default to ``False`` instead of ``True`` and be independent from `download_data`. To disable this message until version 0.15 explicitly set `download_splits` to a bool.\n",
      "  exec(code_obj, self.user_global_ns, self.user_ns)\n",
      "/scratch/users/zhongyuan_liang/conda/envs/mdi/lib/python3.10/site-packages/openml/tasks/functions.py:442: FutureWarning: Starting from Version 0.15 `download_data`, `download_qualities`, and `download_features_meta_data` will all be ``False`` instead of ``True`` by default to enable lazy loading. To disable this message until version 0.15 explicitly set `download_data`, `download_qualities`, and `download_features_meta_data` to a bool while calling `get_dataset`.\n",
      "  dataset = get_dataset(task.dataset_id, *dataset_args, **get_dataset_kwargs)\n",
      "/scratch/users/zhongyuan_liang/conda/envs/mdi/lib/python3.10/site-packages/openml/tasks/task.py:150: FutureWarning: Starting from Version 0.15 `download_data`, `download_qualities`, and `download_features_meta_data` will all be ``False`` instead of ``True`` by default to enable lazy loading. To disable this message until version 0.15 explicitly set `download_data`, `download_qualities`, and `download_features_meta_data` to a bool while calling `get_dataset`.\n",
      "  return datasets.get_dataset(self.dataset_id)\n",
      "/scratch/users/zhongyuan_liang/conda/envs/mdi/lib/python3.10/site-packages/IPython/core/interactiveshell.py:3577: FutureWarning: Starting from Version 0.15.0 `download_splits` will default to ``False`` instead of ``True`` and be independent from `download_data`. To disable this message until version 0.15 explicitly set `download_splits` to a bool.\n",
      "  exec(code_obj, self.user_global_ns, self.user_ns)\n",
      "/scratch/users/zhongyuan_liang/conda/envs/mdi/lib/python3.10/site-packages/openml/tasks/functions.py:442: FutureWarning: Starting from Version 0.15 `download_data`, `download_qualities`, and `download_features_meta_data` will all be ``False`` instead of ``True`` by default to enable lazy loading. To disable this message until version 0.15 explicitly set `download_data`, `download_qualities`, and `download_features_meta_data` to a bool while calling `get_dataset`.\n",
      "  dataset = get_dataset(task.dataset_id, *dataset_args, **get_dataset_kwargs)\n",
      "/scratch/users/zhongyuan_liang/conda/envs/mdi/lib/python3.10/site-packages/openml/tasks/task.py:150: FutureWarning: Starting from Version 0.15 `download_data`, `download_qualities`, and `download_features_meta_data` will all be ``False`` instead of ``True`` by default to enable lazy loading. To disable this message until version 0.15 explicitly set `download_data`, `download_qualities`, and `download_features_meta_data` to a bool while calling `get_dataset`.\n",
      "  return datasets.get_dataset(self.dataset_id)\n",
      "/scratch/users/zhongyuan_liang/conda/envs/mdi/lib/python3.10/site-packages/IPython/core/interactiveshell.py:3577: FutureWarning: Starting from Version 0.15.0 `download_splits` will default to ``False`` instead of ``True`` and be independent from `download_data`. To disable this message until version 0.15 explicitly set `download_splits` to a bool.\n",
      "  exec(code_obj, self.user_global_ns, self.user_ns)\n",
      "/scratch/users/zhongyuan_liang/conda/envs/mdi/lib/python3.10/site-packages/openml/tasks/functions.py:442: FutureWarning: Starting from Version 0.15 `download_data`, `download_qualities`, and `download_features_meta_data` will all be ``False`` instead of ``True`` by default to enable lazy loading. To disable this message until version 0.15 explicitly set `download_data`, `download_qualities`, and `download_features_meta_data` to a bool while calling `get_dataset`.\n",
      "  dataset = get_dataset(task.dataset_id, *dataset_args, **get_dataset_kwargs)\n",
      "/scratch/users/zhongyuan_liang/conda/envs/mdi/lib/python3.10/site-packages/openml/tasks/task.py:150: FutureWarning: Starting from Version 0.15 `download_data`, `download_qualities`, and `download_features_meta_data` will all be ``False`` instead of ``True`` by default to enable lazy loading. To disable this message until version 0.15 explicitly set `download_data`, `download_qualities`, and `download_features_meta_data` to a bool while calling `get_dataset`.\n",
      "  return datasets.get_dataset(self.dataset_id)\n",
      "/scratch/users/zhongyuan_liang/conda/envs/mdi/lib/python3.10/site-packages/IPython/core/interactiveshell.py:3577: FutureWarning: Starting from Version 0.15.0 `download_splits` will default to ``False`` instead of ``True`` and be independent from `download_data`. To disable this message until version 0.15 explicitly set `download_splits` to a bool.\n",
      "  exec(code_obj, self.user_global_ns, self.user_ns)\n",
      "/scratch/users/zhongyuan_liang/conda/envs/mdi/lib/python3.10/site-packages/openml/tasks/functions.py:442: FutureWarning: Starting from Version 0.15 `download_data`, `download_qualities`, and `download_features_meta_data` will all be ``False`` instead of ``True`` by default to enable lazy loading. To disable this message until version 0.15 explicitly set `download_data`, `download_qualities`, and `download_features_meta_data` to a bool while calling `get_dataset`.\n",
      "  dataset = get_dataset(task.dataset_id, *dataset_args, **get_dataset_kwargs)\n",
      "/scratch/users/zhongyuan_liang/conda/envs/mdi/lib/python3.10/site-packages/openml/tasks/task.py:150: FutureWarning: Starting from Version 0.15 `download_data`, `download_qualities`, and `download_features_meta_data` will all be ``False`` instead of ``True`` by default to enable lazy loading. To disable this message until version 0.15 explicitly set `download_data`, `download_qualities`, and `download_features_meta_data` to a bool while calling `get_dataset`.\n",
      "  return datasets.get_dataset(self.dataset_id)\n",
      "/scratch/users/zhongyuan_liang/conda/envs/mdi/lib/python3.10/site-packages/IPython/core/interactiveshell.py:3577: FutureWarning: Starting from Version 0.15.0 `download_splits` will default to ``False`` instead of ``True`` and be independent from `download_data`. To disable this message until version 0.15 explicitly set `download_splits` to a bool.\n",
      "  exec(code_obj, self.user_global_ns, self.user_ns)\n",
      "/scratch/users/zhongyuan_liang/conda/envs/mdi/lib/python3.10/site-packages/openml/tasks/functions.py:442: FutureWarning: Starting from Version 0.15 `download_data`, `download_qualities`, and `download_features_meta_data` will all be ``False`` instead of ``True`` by default to enable lazy loading. To disable this message until version 0.15 explicitly set `download_data`, `download_qualities`, and `download_features_meta_data` to a bool while calling `get_dataset`.\n",
      "  dataset = get_dataset(task.dataset_id, *dataset_args, **get_dataset_kwargs)\n",
      "/scratch/users/zhongyuan_liang/conda/envs/mdi/lib/python3.10/site-packages/openml/tasks/task.py:150: FutureWarning: Starting from Version 0.15 `download_data`, `download_qualities`, and `download_features_meta_data` will all be ``False`` instead of ``True`` by default to enable lazy loading. To disable this message until version 0.15 explicitly set `download_data`, `download_qualities`, and `download_features_meta_data` to a bool while calling `get_dataset`.\n",
      "  return datasets.get_dataset(self.dataset_id)\n",
      "/scratch/users/zhongyuan_liang/conda/envs/mdi/lib/python3.10/site-packages/IPython/core/interactiveshell.py:3577: FutureWarning: Starting from Version 0.15.0 `download_splits` will default to ``False`` instead of ``True`` and be independent from `download_data`. To disable this message until version 0.15 explicitly set `download_splits` to a bool.\n",
      "  exec(code_obj, self.user_global_ns, self.user_ns)\n",
      "/scratch/users/zhongyuan_liang/conda/envs/mdi/lib/python3.10/site-packages/openml/tasks/functions.py:442: FutureWarning: Starting from Version 0.15 `download_data`, `download_qualities`, and `download_features_meta_data` will all be ``False`` instead of ``True`` by default to enable lazy loading. To disable this message until version 0.15 explicitly set `download_data`, `download_qualities`, and `download_features_meta_data` to a bool while calling `get_dataset`.\n",
      "  dataset = get_dataset(task.dataset_id, *dataset_args, **get_dataset_kwargs)\n",
      "/scratch/users/zhongyuan_liang/conda/envs/mdi/lib/python3.10/site-packages/openml/tasks/task.py:150: FutureWarning: Starting from Version 0.15 `download_data`, `download_qualities`, and `download_features_meta_data` will all be ``False`` instead of ``True`` by default to enable lazy loading. To disable this message until version 0.15 explicitly set `download_data`, `download_qualities`, and `download_features_meta_data` to a bool while calling `get_dataset`.\n",
      "  return datasets.get_dataset(self.dataset_id)\n",
      "/scratch/users/zhongyuan_liang/conda/envs/mdi/lib/python3.10/site-packages/IPython/core/interactiveshell.py:3577: FutureWarning: Starting from Version 0.15.0 `download_splits` will default to ``False`` instead of ``True`` and be independent from `download_data`. To disable this message until version 0.15 explicitly set `download_splits` to a bool.\n",
      "  exec(code_obj, self.user_global_ns, self.user_ns)\n",
      "/scratch/users/zhongyuan_liang/conda/envs/mdi/lib/python3.10/site-packages/openml/tasks/functions.py:442: FutureWarning: Starting from Version 0.15 `download_data`, `download_qualities`, and `download_features_meta_data` will all be ``False`` instead of ``True`` by default to enable lazy loading. To disable this message until version 0.15 explicitly set `download_data`, `download_qualities`, and `download_features_meta_data` to a bool while calling `get_dataset`.\n",
      "  dataset = get_dataset(task.dataset_id, *dataset_args, **get_dataset_kwargs)\n",
      "/scratch/users/zhongyuan_liang/conda/envs/mdi/lib/python3.10/site-packages/openml/tasks/task.py:150: FutureWarning: Starting from Version 0.15 `download_data`, `download_qualities`, and `download_features_meta_data` will all be ``False`` instead of ``True`` by default to enable lazy loading. To disable this message until version 0.15 explicitly set `download_data`, `download_qualities`, and `download_features_meta_data` to a bool while calling `get_dataset`.\n",
      "  return datasets.get_dataset(self.dataset_id)\n",
      "/scratch/users/zhongyuan_liang/conda/envs/mdi/lib/python3.10/site-packages/IPython/core/interactiveshell.py:3577: FutureWarning: Starting from Version 0.15.0 `download_splits` will default to ``False`` instead of ``True`` and be independent from `download_data`. To disable this message until version 0.15 explicitly set `download_splits` to a bool.\n",
      "  exec(code_obj, self.user_global_ns, self.user_ns)\n",
      "/scratch/users/zhongyuan_liang/conda/envs/mdi/lib/python3.10/site-packages/openml/tasks/functions.py:442: FutureWarning: Starting from Version 0.15 `download_data`, `download_qualities`, and `download_features_meta_data` will all be ``False`` instead of ``True`` by default to enable lazy loading. To disable this message until version 0.15 explicitly set `download_data`, `download_qualities`, and `download_features_meta_data` to a bool while calling `get_dataset`.\n",
      "  dataset = get_dataset(task.dataset_id, *dataset_args, **get_dataset_kwargs)\n",
      "/scratch/users/zhongyuan_liang/conda/envs/mdi/lib/python3.10/site-packages/openml/tasks/task.py:150: FutureWarning: Starting from Version 0.15 `download_data`, `download_qualities`, and `download_features_meta_data` will all be ``False`` instead of ``True`` by default to enable lazy loading. To disable this message until version 0.15 explicitly set `download_data`, `download_qualities`, and `download_features_meta_data` to a bool while calling `get_dataset`.\n",
      "  return datasets.get_dataset(self.dataset_id)\n",
      "/scratch/users/zhongyuan_liang/conda/envs/mdi/lib/python3.10/site-packages/IPython/core/interactiveshell.py:3577: FutureWarning: Starting from Version 0.15.0 `download_splits` will default to ``False`` instead of ``True`` and be independent from `download_data`. To disable this message until version 0.15 explicitly set `download_splits` to a bool.\n",
      "  exec(code_obj, self.user_global_ns, self.user_ns)\n",
      "/scratch/users/zhongyuan_liang/conda/envs/mdi/lib/python3.10/site-packages/openml/tasks/functions.py:442: FutureWarning: Starting from Version 0.15 `download_data`, `download_qualities`, and `download_features_meta_data` will all be ``False`` instead of ``True`` by default to enable lazy loading. To disable this message until version 0.15 explicitly set `download_data`, `download_qualities`, and `download_features_meta_data` to a bool while calling `get_dataset`.\n",
      "  dataset = get_dataset(task.dataset_id, *dataset_args, **get_dataset_kwargs)\n",
      "/scratch/users/zhongyuan_liang/conda/envs/mdi/lib/python3.10/site-packages/openml/tasks/task.py:150: FutureWarning: Starting from Version 0.15 `download_data`, `download_qualities`, and `download_features_meta_data` will all be ``False`` instead of ``True`` by default to enable lazy loading. To disable this message until version 0.15 explicitly set `download_data`, `download_qualities`, and `download_features_meta_data` to a bool while calling `get_dataset`.\n",
      "  return datasets.get_dataset(self.dataset_id)\n",
      "/scratch/users/zhongyuan_liang/conda/envs/mdi/lib/python3.10/site-packages/IPython/core/interactiveshell.py:3577: FutureWarning: Starting from Version 0.15.0 `download_splits` will default to ``False`` instead of ``True`` and be independent from `download_data`. To disable this message until version 0.15 explicitly set `download_splits` to a bool.\n",
      "  exec(code_obj, self.user_global_ns, self.user_ns)\n",
      "/scratch/users/zhongyuan_liang/conda/envs/mdi/lib/python3.10/site-packages/openml/tasks/functions.py:442: FutureWarning: Starting from Version 0.15 `download_data`, `download_qualities`, and `download_features_meta_data` will all be ``False`` instead of ``True`` by default to enable lazy loading. To disable this message until version 0.15 explicitly set `download_data`, `download_qualities`, and `download_features_meta_data` to a bool while calling `get_dataset`.\n",
      "  dataset = get_dataset(task.dataset_id, *dataset_args, **get_dataset_kwargs)\n",
      "/scratch/users/zhongyuan_liang/conda/envs/mdi/lib/python3.10/site-packages/openml/tasks/task.py:150: FutureWarning: Starting from Version 0.15 `download_data`, `download_qualities`, and `download_features_meta_data` will all be ``False`` instead of ``True`` by default to enable lazy loading. To disable this message until version 0.15 explicitly set `download_data`, `download_qualities`, and `download_features_meta_data` to a bool while calling `get_dataset`.\n",
      "  return datasets.get_dataset(self.dataset_id)\n",
      "/scratch/users/zhongyuan_liang/conda/envs/mdi/lib/python3.10/site-packages/IPython/core/interactiveshell.py:3577: FutureWarning: Starting from Version 0.15.0 `download_splits` will default to ``False`` instead of ``True`` and be independent from `download_data`. To disable this message until version 0.15 explicitly set `download_splits` to a bool.\n",
      "  exec(code_obj, self.user_global_ns, self.user_ns)\n",
      "/scratch/users/zhongyuan_liang/conda/envs/mdi/lib/python3.10/site-packages/openml/tasks/functions.py:442: FutureWarning: Starting from Version 0.15 `download_data`, `download_qualities`, and `download_features_meta_data` will all be ``False`` instead of ``True`` by default to enable lazy loading. To disable this message until version 0.15 explicitly set `download_data`, `download_qualities`, and `download_features_meta_data` to a bool while calling `get_dataset`.\n",
      "  dataset = get_dataset(task.dataset_id, *dataset_args, **get_dataset_kwargs)\n",
      "/scratch/users/zhongyuan_liang/conda/envs/mdi/lib/python3.10/site-packages/openml/tasks/task.py:150: FutureWarning: Starting from Version 0.15 `download_data`, `download_qualities`, and `download_features_meta_data` will all be ``False`` instead of ``True`` by default to enable lazy loading. To disable this message until version 0.15 explicitly set `download_data`, `download_qualities`, and `download_features_meta_data` to a bool while calling `get_dataset`.\n",
      "  return datasets.get_dataset(self.dataset_id)\n",
      "/scratch/users/zhongyuan_liang/conda/envs/mdi/lib/python3.10/site-packages/IPython/core/interactiveshell.py:3577: FutureWarning: Starting from Version 0.15.0 `download_splits` will default to ``False`` instead of ``True`` and be independent from `download_data`. To disable this message until version 0.15 explicitly set `download_splits` to a bool.\n",
      "  exec(code_obj, self.user_global_ns, self.user_ns)\n",
      "/scratch/users/zhongyuan_liang/conda/envs/mdi/lib/python3.10/site-packages/openml/tasks/functions.py:442: FutureWarning: Starting from Version 0.15 `download_data`, `download_qualities`, and `download_features_meta_data` will all be ``False`` instead of ``True`` by default to enable lazy loading. To disable this message until version 0.15 explicitly set `download_data`, `download_qualities`, and `download_features_meta_data` to a bool while calling `get_dataset`.\n",
      "  dataset = get_dataset(task.dataset_id, *dataset_args, **get_dataset_kwargs)\n",
      "/scratch/users/zhongyuan_liang/conda/envs/mdi/lib/python3.10/site-packages/openml/tasks/task.py:150: FutureWarning: Starting from Version 0.15 `download_data`, `download_qualities`, and `download_features_meta_data` will all be ``False`` instead of ``True`` by default to enable lazy loading. To disable this message until version 0.15 explicitly set `download_data`, `download_qualities`, and `download_features_meta_data` to a bool while calling `get_dataset`.\n",
      "  return datasets.get_dataset(self.dataset_id)\n",
      "/scratch/users/zhongyuan_liang/conda/envs/mdi/lib/python3.10/site-packages/IPython/core/interactiveshell.py:3577: FutureWarning: Starting from Version 0.15.0 `download_splits` will default to ``False`` instead of ``True`` and be independent from `download_data`. To disable this message until version 0.15 explicitly set `download_splits` to a bool.\n",
      "  exec(code_obj, self.user_global_ns, self.user_ns)\n",
      "/scratch/users/zhongyuan_liang/conda/envs/mdi/lib/python3.10/site-packages/openml/tasks/functions.py:442: FutureWarning: Starting from Version 0.15 `download_data`, `download_qualities`, and `download_features_meta_data` will all be ``False`` instead of ``True`` by default to enable lazy loading. To disable this message until version 0.15 explicitly set `download_data`, `download_qualities`, and `download_features_meta_data` to a bool while calling `get_dataset`.\n",
      "  dataset = get_dataset(task.dataset_id, *dataset_args, **get_dataset_kwargs)\n",
      "/scratch/users/zhongyuan_liang/conda/envs/mdi/lib/python3.10/site-packages/openml/tasks/task.py:150: FutureWarning: Starting from Version 0.15 `download_data`, `download_qualities`, and `download_features_meta_data` will all be ``False`` instead of ``True`` by default to enable lazy loading. To disable this message until version 0.15 explicitly set `download_data`, `download_qualities`, and `download_features_meta_data` to a bool while calling `get_dataset`.\n",
      "  return datasets.get_dataset(self.dataset_id)\n",
      "/scratch/users/zhongyuan_liang/conda/envs/mdi/lib/python3.10/site-packages/IPython/core/interactiveshell.py:3577: FutureWarning: Starting from Version 0.15.0 `download_splits` will default to ``False`` instead of ``True`` and be independent from `download_data`. To disable this message until version 0.15 explicitly set `download_splits` to a bool.\n",
      "  exec(code_obj, self.user_global_ns, self.user_ns)\n",
      "/scratch/users/zhongyuan_liang/conda/envs/mdi/lib/python3.10/site-packages/openml/tasks/functions.py:442: FutureWarning: Starting from Version 0.15 `download_data`, `download_qualities`, and `download_features_meta_data` will all be ``False`` instead of ``True`` by default to enable lazy loading. To disable this message until version 0.15 explicitly set `download_data`, `download_qualities`, and `download_features_meta_data` to a bool while calling `get_dataset`.\n",
      "  dataset = get_dataset(task.dataset_id, *dataset_args, **get_dataset_kwargs)\n",
      "/scratch/users/zhongyuan_liang/conda/envs/mdi/lib/python3.10/site-packages/openml/tasks/task.py:150: FutureWarning: Starting from Version 0.15 `download_data`, `download_qualities`, and `download_features_meta_data` will all be ``False`` instead of ``True`` by default to enable lazy loading. To disable this message until version 0.15 explicitly set `download_data`, `download_qualities`, and `download_features_meta_data` to a bool while calling `get_dataset`.\n",
      "  return datasets.get_dataset(self.dataset_id)\n",
      "/scratch/users/zhongyuan_liang/conda/envs/mdi/lib/python3.10/site-packages/IPython/core/interactiveshell.py:3577: FutureWarning: Starting from Version 0.15.0 `download_splits` will default to ``False`` instead of ``True`` and be independent from `download_data`. To disable this message until version 0.15 explicitly set `download_splits` to a bool.\n",
      "  exec(code_obj, self.user_global_ns, self.user_ns)\n",
      "/scratch/users/zhongyuan_liang/conda/envs/mdi/lib/python3.10/site-packages/openml/tasks/functions.py:442: FutureWarning: Starting from Version 0.15 `download_data`, `download_qualities`, and `download_features_meta_data` will all be ``False`` instead of ``True`` by default to enable lazy loading. To disable this message until version 0.15 explicitly set `download_data`, `download_qualities`, and `download_features_meta_data` to a bool while calling `get_dataset`.\n",
      "  dataset = get_dataset(task.dataset_id, *dataset_args, **get_dataset_kwargs)\n",
      "/scratch/users/zhongyuan_liang/conda/envs/mdi/lib/python3.10/site-packages/openml/tasks/task.py:150: FutureWarning: Starting from Version 0.15 `download_data`, `download_qualities`, and `download_features_meta_data` will all be ``False`` instead of ``True`` by default to enable lazy loading. To disable this message until version 0.15 explicitly set `download_data`, `download_qualities`, and `download_features_meta_data` to a bool while calling `get_dataset`.\n",
      "  return datasets.get_dataset(self.dataset_id)\n",
      "/scratch/users/zhongyuan_liang/conda/envs/mdi/lib/python3.10/site-packages/IPython/core/interactiveshell.py:3577: FutureWarning: Starting from Version 0.15.0 `download_splits` will default to ``False`` instead of ``True`` and be independent from `download_data`. To disable this message until version 0.15 explicitly set `download_splits` to a bool.\n",
      "  exec(code_obj, self.user_global_ns, self.user_ns)\n",
      "/scratch/users/zhongyuan_liang/conda/envs/mdi/lib/python3.10/site-packages/openml/tasks/functions.py:442: FutureWarning: Starting from Version 0.15 `download_data`, `download_qualities`, and `download_features_meta_data` will all be ``False`` instead of ``True`` by default to enable lazy loading. To disable this message until version 0.15 explicitly set `download_data`, `download_qualities`, and `download_features_meta_data` to a bool while calling `get_dataset`.\n",
      "  dataset = get_dataset(task.dataset_id, *dataset_args, **get_dataset_kwargs)\n",
      "/scratch/users/zhongyuan_liang/conda/envs/mdi/lib/python3.10/site-packages/openml/tasks/task.py:150: FutureWarning: Starting from Version 0.15 `download_data`, `download_qualities`, and `download_features_meta_data` will all be ``False`` instead of ``True`` by default to enable lazy loading. To disable this message until version 0.15 explicitly set `download_data`, `download_qualities`, and `download_features_meta_data` to a bool while calling `get_dataset`.\n",
      "  return datasets.get_dataset(self.dataset_id)\n",
      "/scratch/users/zhongyuan_liang/conda/envs/mdi/lib/python3.10/site-packages/IPython/core/interactiveshell.py:3577: FutureWarning: Starting from Version 0.15.0 `download_splits` will default to ``False`` instead of ``True`` and be independent from `download_data`. To disable this message until version 0.15 explicitly set `download_splits` to a bool.\n",
      "  exec(code_obj, self.user_global_ns, self.user_ns)\n",
      "/scratch/users/zhongyuan_liang/conda/envs/mdi/lib/python3.10/site-packages/openml/tasks/functions.py:442: FutureWarning: Starting from Version 0.15 `download_data`, `download_qualities`, and `download_features_meta_data` will all be ``False`` instead of ``True`` by default to enable lazy loading. To disable this message until version 0.15 explicitly set `download_data`, `download_qualities`, and `download_features_meta_data` to a bool while calling `get_dataset`.\n",
      "  dataset = get_dataset(task.dataset_id, *dataset_args, **get_dataset_kwargs)\n",
      "/scratch/users/zhongyuan_liang/conda/envs/mdi/lib/python3.10/site-packages/openml/tasks/task.py:150: FutureWarning: Starting from Version 0.15 `download_data`, `download_qualities`, and `download_features_meta_data` will all be ``False`` instead of ``True`` by default to enable lazy loading. To disable this message until version 0.15 explicitly set `download_data`, `download_qualities`, and `download_features_meta_data` to a bool while calling `get_dataset`.\n",
      "  return datasets.get_dataset(self.dataset_id)\n",
      "/scratch/users/zhongyuan_liang/conda/envs/mdi/lib/python3.10/site-packages/IPython/core/interactiveshell.py:3577: FutureWarning: Starting from Version 0.15.0 `download_splits` will default to ``False`` instead of ``True`` and be independent from `download_data`. To disable this message until version 0.15 explicitly set `download_splits` to a bool.\n",
      "  exec(code_obj, self.user_global_ns, self.user_ns)\n",
      "/scratch/users/zhongyuan_liang/conda/envs/mdi/lib/python3.10/site-packages/openml/tasks/functions.py:442: FutureWarning: Starting from Version 0.15 `download_data`, `download_qualities`, and `download_features_meta_data` will all be ``False`` instead of ``True`` by default to enable lazy loading. To disable this message until version 0.15 explicitly set `download_data`, `download_qualities`, and `download_features_meta_data` to a bool while calling `get_dataset`.\n",
      "  dataset = get_dataset(task.dataset_id, *dataset_args, **get_dataset_kwargs)\n",
      "/scratch/users/zhongyuan_liang/conda/envs/mdi/lib/python3.10/site-packages/openml/tasks/task.py:150: FutureWarning: Starting from Version 0.15 `download_data`, `download_qualities`, and `download_features_meta_data` will all be ``False`` instead of ``True`` by default to enable lazy loading. To disable this message until version 0.15 explicitly set `download_data`, `download_qualities`, and `download_features_meta_data` to a bool while calling `get_dataset`.\n",
      "  return datasets.get_dataset(self.dataset_id)\n",
      "/scratch/users/zhongyuan_liang/conda/envs/mdi/lib/python3.10/site-packages/IPython/core/interactiveshell.py:3577: FutureWarning: Starting from Version 0.15.0 `download_splits` will default to ``False`` instead of ``True`` and be independent from `download_data`. To disable this message until version 0.15 explicitly set `download_splits` to a bool.\n",
      "  exec(code_obj, self.user_global_ns, self.user_ns)\n",
      "/scratch/users/zhongyuan_liang/conda/envs/mdi/lib/python3.10/site-packages/openml/tasks/functions.py:442: FutureWarning: Starting from Version 0.15 `download_data`, `download_qualities`, and `download_features_meta_data` will all be ``False`` instead of ``True`` by default to enable lazy loading. To disable this message until version 0.15 explicitly set `download_data`, `download_qualities`, and `download_features_meta_data` to a bool while calling `get_dataset`.\n",
      "  dataset = get_dataset(task.dataset_id, *dataset_args, **get_dataset_kwargs)\n",
      "/scratch/users/zhongyuan_liang/conda/envs/mdi/lib/python3.10/site-packages/openml/tasks/task.py:150: FutureWarning: Starting from Version 0.15 `download_data`, `download_qualities`, and `download_features_meta_data` will all be ``False`` instead of ``True`` by default to enable lazy loading. To disable this message until version 0.15 explicitly set `download_data`, `download_qualities`, and `download_features_meta_data` to a bool while calling `get_dataset`.\n",
      "  return datasets.get_dataset(self.dataset_id)\n",
      "/scratch/users/zhongyuan_liang/conda/envs/mdi/lib/python3.10/site-packages/IPython/core/interactiveshell.py:3577: FutureWarning: Starting from Version 0.15.0 `download_splits` will default to ``False`` instead of ``True`` and be independent from `download_data`. To disable this message until version 0.15 explicitly set `download_splits` to a bool.\n",
      "  exec(code_obj, self.user_global_ns, self.user_ns)\n",
      "/scratch/users/zhongyuan_liang/conda/envs/mdi/lib/python3.10/site-packages/openml/tasks/functions.py:442: FutureWarning: Starting from Version 0.15 `download_data`, `download_qualities`, and `download_features_meta_data` will all be ``False`` instead of ``True`` by default to enable lazy loading. To disable this message until version 0.15 explicitly set `download_data`, `download_qualities`, and `download_features_meta_data` to a bool while calling `get_dataset`.\n",
      "  dataset = get_dataset(task.dataset_id, *dataset_args, **get_dataset_kwargs)\n",
      "/scratch/users/zhongyuan_liang/conda/envs/mdi/lib/python3.10/site-packages/openml/tasks/task.py:150: FutureWarning: Starting from Version 0.15 `download_data`, `download_qualities`, and `download_features_meta_data` will all be ``False`` instead of ``True`` by default to enable lazy loading. To disable this message until version 0.15 explicitly set `download_data`, `download_qualities`, and `download_features_meta_data` to a bool while calling `get_dataset`.\n",
      "  return datasets.get_dataset(self.dataset_id)\n",
      "/scratch/users/zhongyuan_liang/conda/envs/mdi/lib/python3.10/site-packages/IPython/core/interactiveshell.py:3577: FutureWarning: Starting from Version 0.15.0 `download_splits` will default to ``False`` instead of ``True`` and be independent from `download_data`. To disable this message until version 0.15 explicitly set `download_splits` to a bool.\n",
      "  exec(code_obj, self.user_global_ns, self.user_ns)\n",
      "/scratch/users/zhongyuan_liang/conda/envs/mdi/lib/python3.10/site-packages/openml/tasks/functions.py:442: FutureWarning: Starting from Version 0.15 `download_data`, `download_qualities`, and `download_features_meta_data` will all be ``False`` instead of ``True`` by default to enable lazy loading. To disable this message until version 0.15 explicitly set `download_data`, `download_qualities`, and `download_features_meta_data` to a bool while calling `get_dataset`.\n",
      "  dataset = get_dataset(task.dataset_id, *dataset_args, **get_dataset_kwargs)\n",
      "/scratch/users/zhongyuan_liang/conda/envs/mdi/lib/python3.10/site-packages/openml/tasks/task.py:150: FutureWarning: Starting from Version 0.15 `download_data`, `download_qualities`, and `download_features_meta_data` will all be ``False`` instead of ``True`` by default to enable lazy loading. To disable this message until version 0.15 explicitly set `download_data`, `download_qualities`, and `download_features_meta_data` to a bool while calling `get_dataset`.\n",
      "  return datasets.get_dataset(self.dataset_id)\n",
      "/scratch/users/zhongyuan_liang/conda/envs/mdi/lib/python3.10/site-packages/IPython/core/interactiveshell.py:3577: FutureWarning: Starting from Version 0.15.0 `download_splits` will default to ``False`` instead of ``True`` and be independent from `download_data`. To disable this message until version 0.15 explicitly set `download_splits` to a bool.\n",
      "  exec(code_obj, self.user_global_ns, self.user_ns)\n",
      "/scratch/users/zhongyuan_liang/conda/envs/mdi/lib/python3.10/site-packages/openml/tasks/functions.py:442: FutureWarning: Starting from Version 0.15 `download_data`, `download_qualities`, and `download_features_meta_data` will all be ``False`` instead of ``True`` by default to enable lazy loading. To disable this message until version 0.15 explicitly set `download_data`, `download_qualities`, and `download_features_meta_data` to a bool while calling `get_dataset`.\n",
      "  dataset = get_dataset(task.dataset_id, *dataset_args, **get_dataset_kwargs)\n",
      "/scratch/users/zhongyuan_liang/conda/envs/mdi/lib/python3.10/site-packages/openml/tasks/task.py:150: FutureWarning: Starting from Version 0.15 `download_data`, `download_qualities`, and `download_features_meta_data` will all be ``False`` instead of ``True`` by default to enable lazy loading. To disable this message until version 0.15 explicitly set `download_data`, `download_qualities`, and `download_features_meta_data` to a bool while calling `get_dataset`.\n",
      "  return datasets.get_dataset(self.dataset_id)\n",
      "/scratch/users/zhongyuan_liang/conda/envs/mdi/lib/python3.10/site-packages/IPython/core/interactiveshell.py:3577: FutureWarning: Starting from Version 0.15.0 `download_splits` will default to ``False`` instead of ``True`` and be independent from `download_data`. To disable this message until version 0.15 explicitly set `download_splits` to a bool.\n",
      "  exec(code_obj, self.user_global_ns, self.user_ns)\n",
      "/scratch/users/zhongyuan_liang/conda/envs/mdi/lib/python3.10/site-packages/openml/tasks/functions.py:442: FutureWarning: Starting from Version 0.15 `download_data`, `download_qualities`, and `download_features_meta_data` will all be ``False`` instead of ``True`` by default to enable lazy loading. To disable this message until version 0.15 explicitly set `download_data`, `download_qualities`, and `download_features_meta_data` to a bool while calling `get_dataset`.\n",
      "  dataset = get_dataset(task.dataset_id, *dataset_args, **get_dataset_kwargs)\n",
      "/scratch/users/zhongyuan_liang/conda/envs/mdi/lib/python3.10/site-packages/openml/tasks/task.py:150: FutureWarning: Starting from Version 0.15 `download_data`, `download_qualities`, and `download_features_meta_data` will all be ``False`` instead of ``True`` by default to enable lazy loading. To disable this message until version 0.15 explicitly set `download_data`, `download_qualities`, and `download_features_meta_data` to a bool while calling `get_dataset`.\n",
      "  return datasets.get_dataset(self.dataset_id)\n",
      "/scratch/users/zhongyuan_liang/conda/envs/mdi/lib/python3.10/site-packages/IPython/core/interactiveshell.py:3577: FutureWarning: Starting from Version 0.15.0 `download_splits` will default to ``False`` instead of ``True`` and be independent from `download_data`. To disable this message until version 0.15 explicitly set `download_splits` to a bool.\n",
      "  exec(code_obj, self.user_global_ns, self.user_ns)\n",
      "/scratch/users/zhongyuan_liang/conda/envs/mdi/lib/python3.10/site-packages/openml/tasks/functions.py:442: FutureWarning: Starting from Version 0.15 `download_data`, `download_qualities`, and `download_features_meta_data` will all be ``False`` instead of ``True`` by default to enable lazy loading. To disable this message until version 0.15 explicitly set `download_data`, `download_qualities`, and `download_features_meta_data` to a bool while calling `get_dataset`.\n",
      "  dataset = get_dataset(task.dataset_id, *dataset_args, **get_dataset_kwargs)\n",
      "/scratch/users/zhongyuan_liang/conda/envs/mdi/lib/python3.10/site-packages/openml/tasks/task.py:150: FutureWarning: Starting from Version 0.15 `download_data`, `download_qualities`, and `download_features_meta_data` will all be ``False`` instead of ``True`` by default to enable lazy loading. To disable this message until version 0.15 explicitly set `download_data`, `download_qualities`, and `download_features_meta_data` to a bool while calling `get_dataset`.\n",
      "  return datasets.get_dataset(self.dataset_id)\n",
      "/scratch/users/zhongyuan_liang/conda/envs/mdi/lib/python3.10/site-packages/IPython/core/interactiveshell.py:3577: FutureWarning: Starting from Version 0.15.0 `download_splits` will default to ``False`` instead of ``True`` and be independent from `download_data`. To disable this message until version 0.15 explicitly set `download_splits` to a bool.\n",
      "  exec(code_obj, self.user_global_ns, self.user_ns)\n",
      "/scratch/users/zhongyuan_liang/conda/envs/mdi/lib/python3.10/site-packages/openml/tasks/functions.py:442: FutureWarning: Starting from Version 0.15 `download_data`, `download_qualities`, and `download_features_meta_data` will all be ``False`` instead of ``True`` by default to enable lazy loading. To disable this message until version 0.15 explicitly set `download_data`, `download_qualities`, and `download_features_meta_data` to a bool while calling `get_dataset`.\n",
      "  dataset = get_dataset(task.dataset_id, *dataset_args, **get_dataset_kwargs)\n",
      "/scratch/users/zhongyuan_liang/conda/envs/mdi/lib/python3.10/site-packages/openml/tasks/task.py:150: FutureWarning: Starting from Version 0.15 `download_data`, `download_qualities`, and `download_features_meta_data` will all be ``False`` instead of ``True`` by default to enable lazy loading. To disable this message until version 0.15 explicitly set `download_data`, `download_qualities`, and `download_features_meta_data` to a bool while calling `get_dataset`.\n",
      "  return datasets.get_dataset(self.dataset_id)\n",
      "/scratch/users/zhongyuan_liang/conda/envs/mdi/lib/python3.10/site-packages/IPython/core/interactiveshell.py:3577: FutureWarning: Starting from Version 0.15.0 `download_splits` will default to ``False`` instead of ``True`` and be independent from `download_data`. To disable this message until version 0.15 explicitly set `download_splits` to a bool.\n",
      "  exec(code_obj, self.user_global_ns, self.user_ns)\n",
      "/scratch/users/zhongyuan_liang/conda/envs/mdi/lib/python3.10/site-packages/openml/tasks/functions.py:442: FutureWarning: Starting from Version 0.15 `download_data`, `download_qualities`, and `download_features_meta_data` will all be ``False`` instead of ``True`` by default to enable lazy loading. To disable this message until version 0.15 explicitly set `download_data`, `download_qualities`, and `download_features_meta_data` to a bool while calling `get_dataset`.\n",
      "  dataset = get_dataset(task.dataset_id, *dataset_args, **get_dataset_kwargs)\n",
      "/scratch/users/zhongyuan_liang/conda/envs/mdi/lib/python3.10/site-packages/openml/tasks/task.py:150: FutureWarning: Starting from Version 0.15 `download_data`, `download_qualities`, and `download_features_meta_data` will all be ``False`` instead of ``True`` by default to enable lazy loading. To disable this message until version 0.15 explicitly set `download_data`, `download_qualities`, and `download_features_meta_data` to a bool while calling `get_dataset`.\n",
      "  return datasets.get_dataset(self.dataset_id)\n",
      "/scratch/users/zhongyuan_liang/conda/envs/mdi/lib/python3.10/site-packages/IPython/core/interactiveshell.py:3577: FutureWarning: Starting from Version 0.15.0 `download_splits` will default to ``False`` instead of ``True`` and be independent from `download_data`. To disable this message until version 0.15 explicitly set `download_splits` to a bool.\n",
      "  exec(code_obj, self.user_global_ns, self.user_ns)\n",
      "/scratch/users/zhongyuan_liang/conda/envs/mdi/lib/python3.10/site-packages/openml/tasks/functions.py:442: FutureWarning: Starting from Version 0.15 `download_data`, `download_qualities`, and `download_features_meta_data` will all be ``False`` instead of ``True`` by default to enable lazy loading. To disable this message until version 0.15 explicitly set `download_data`, `download_qualities`, and `download_features_meta_data` to a bool while calling `get_dataset`.\n",
      "  dataset = get_dataset(task.dataset_id, *dataset_args, **get_dataset_kwargs)\n",
      "/scratch/users/zhongyuan_liang/conda/envs/mdi/lib/python3.10/site-packages/openml/tasks/task.py:150: FutureWarning: Starting from Version 0.15 `download_data`, `download_qualities`, and `download_features_meta_data` will all be ``False`` instead of ``True`` by default to enable lazy loading. To disable this message until version 0.15 explicitly set `download_data`, `download_qualities`, and `download_features_meta_data` to a bool while calling `get_dataset`.\n",
      "  return datasets.get_dataset(self.dataset_id)\n",
      "/scratch/users/zhongyuan_liang/conda/envs/mdi/lib/python3.10/site-packages/IPython/core/interactiveshell.py:3577: FutureWarning: Starting from Version 0.15.0 `download_splits` will default to ``False`` instead of ``True`` and be independent from `download_data`. To disable this message until version 0.15 explicitly set `download_splits` to a bool.\n",
      "  exec(code_obj, self.user_global_ns, self.user_ns)\n",
      "/scratch/users/zhongyuan_liang/conda/envs/mdi/lib/python3.10/site-packages/openml/tasks/functions.py:442: FutureWarning: Starting from Version 0.15 `download_data`, `download_qualities`, and `download_features_meta_data` will all be ``False`` instead of ``True`` by default to enable lazy loading. To disable this message until version 0.15 explicitly set `download_data`, `download_qualities`, and `download_features_meta_data` to a bool while calling `get_dataset`.\n",
      "  dataset = get_dataset(task.dataset_id, *dataset_args, **get_dataset_kwargs)\n",
      "/scratch/users/zhongyuan_liang/conda/envs/mdi/lib/python3.10/site-packages/openml/tasks/task.py:150: FutureWarning: Starting from Version 0.15 `download_data`, `download_qualities`, and `download_features_meta_data` will all be ``False`` instead of ``True`` by default to enable lazy loading. To disable this message until version 0.15 explicitly set `download_data`, `download_qualities`, and `download_features_meta_data` to a bool while calling `get_dataset`.\n",
      "  return datasets.get_dataset(self.dataset_id)\n",
      "/scratch/users/zhongyuan_liang/conda/envs/mdi/lib/python3.10/site-packages/IPython/core/interactiveshell.py:3577: FutureWarning: Starting from Version 0.15.0 `download_splits` will default to ``False`` instead of ``True`` and be independent from `download_data`. To disable this message until version 0.15 explicitly set `download_splits` to a bool.\n",
      "  exec(code_obj, self.user_global_ns, self.user_ns)\n",
      "/scratch/users/zhongyuan_liang/conda/envs/mdi/lib/python3.10/site-packages/openml/tasks/functions.py:442: FutureWarning: Starting from Version 0.15 `download_data`, `download_qualities`, and `download_features_meta_data` will all be ``False`` instead of ``True`` by default to enable lazy loading. To disable this message until version 0.15 explicitly set `download_data`, `download_qualities`, and `download_features_meta_data` to a bool while calling `get_dataset`.\n",
      "  dataset = get_dataset(task.dataset_id, *dataset_args, **get_dataset_kwargs)\n",
      "/scratch/users/zhongyuan_liang/conda/envs/mdi/lib/python3.10/site-packages/openml/tasks/task.py:150: FutureWarning: Starting from Version 0.15 `download_data`, `download_qualities`, and `download_features_meta_data` will all be ``False`` instead of ``True`` by default to enable lazy loading. To disable this message until version 0.15 explicitly set `download_data`, `download_qualities`, and `download_features_meta_data` to a bool while calling `get_dataset`.\n",
      "  return datasets.get_dataset(self.dataset_id)\n",
      "/scratch/users/zhongyuan_liang/conda/envs/mdi/lib/python3.10/site-packages/IPython/core/interactiveshell.py:3577: FutureWarning: Starting from Version 0.15.0 `download_splits` will default to ``False`` instead of ``True`` and be independent from `download_data`. To disable this message until version 0.15 explicitly set `download_splits` to a bool.\n",
      "  exec(code_obj, self.user_global_ns, self.user_ns)\n",
      "/scratch/users/zhongyuan_liang/conda/envs/mdi/lib/python3.10/site-packages/openml/tasks/functions.py:442: FutureWarning: Starting from Version 0.15 `download_data`, `download_qualities`, and `download_features_meta_data` will all be ``False`` instead of ``True`` by default to enable lazy loading. To disable this message until version 0.15 explicitly set `download_data`, `download_qualities`, and `download_features_meta_data` to a bool while calling `get_dataset`.\n",
      "  dataset = get_dataset(task.dataset_id, *dataset_args, **get_dataset_kwargs)\n",
      "/scratch/users/zhongyuan_liang/conda/envs/mdi/lib/python3.10/site-packages/openml/tasks/task.py:150: FutureWarning: Starting from Version 0.15 `download_data`, `download_qualities`, and `download_features_meta_data` will all be ``False`` instead of ``True`` by default to enable lazy loading. To disable this message until version 0.15 explicitly set `download_data`, `download_qualities`, and `download_features_meta_data` to a bool while calling `get_dataset`.\n",
      "  return datasets.get_dataset(self.dataset_id)\n",
      "/scratch/users/zhongyuan_liang/conda/envs/mdi/lib/python3.10/site-packages/IPython/core/interactiveshell.py:3577: FutureWarning: Starting from Version 0.15.0 `download_splits` will default to ``False`` instead of ``True`` and be independent from `download_data`. To disable this message until version 0.15 explicitly set `download_splits` to a bool.\n",
      "  exec(code_obj, self.user_global_ns, self.user_ns)\n",
      "/scratch/users/zhongyuan_liang/conda/envs/mdi/lib/python3.10/site-packages/openml/tasks/functions.py:442: FutureWarning: Starting from Version 0.15 `download_data`, `download_qualities`, and `download_features_meta_data` will all be ``False`` instead of ``True`` by default to enable lazy loading. To disable this message until version 0.15 explicitly set `download_data`, `download_qualities`, and `download_features_meta_data` to a bool while calling `get_dataset`.\n",
      "  dataset = get_dataset(task.dataset_id, *dataset_args, **get_dataset_kwargs)\n",
      "/scratch/users/zhongyuan_liang/conda/envs/mdi/lib/python3.10/site-packages/openml/tasks/task.py:150: FutureWarning: Starting from Version 0.15 `download_data`, `download_qualities`, and `download_features_meta_data` will all be ``False`` instead of ``True`` by default to enable lazy loading. To disable this message until version 0.15 explicitly set `download_data`, `download_qualities`, and `download_features_meta_data` to a bool while calling `get_dataset`.\n",
      "  return datasets.get_dataset(self.dataset_id)\n",
      "/scratch/users/zhongyuan_liang/conda/envs/mdi/lib/python3.10/site-packages/IPython/core/interactiveshell.py:3577: FutureWarning: Starting from Version 0.15.0 `download_splits` will default to ``False`` instead of ``True`` and be independent from `download_data`. To disable this message until version 0.15 explicitly set `download_splits` to a bool.\n",
      "  exec(code_obj, self.user_global_ns, self.user_ns)\n",
      "/scratch/users/zhongyuan_liang/conda/envs/mdi/lib/python3.10/site-packages/openml/tasks/functions.py:442: FutureWarning: Starting from Version 0.15 `download_data`, `download_qualities`, and `download_features_meta_data` will all be ``False`` instead of ``True`` by default to enable lazy loading. To disable this message until version 0.15 explicitly set `download_data`, `download_qualities`, and `download_features_meta_data` to a bool while calling `get_dataset`.\n",
      "  dataset = get_dataset(task.dataset_id, *dataset_args, **get_dataset_kwargs)\n",
      "/scratch/users/zhongyuan_liang/conda/envs/mdi/lib/python3.10/site-packages/openml/tasks/task.py:150: FutureWarning: Starting from Version 0.15 `download_data`, `download_qualities`, and `download_features_meta_data` will all be ``False`` instead of ``True`` by default to enable lazy loading. To disable this message until version 0.15 explicitly set `download_data`, `download_qualities`, and `download_features_meta_data` to a bool while calling `get_dataset`.\n",
      "  return datasets.get_dataset(self.dataset_id)\n",
      "/scratch/users/zhongyuan_liang/conda/envs/mdi/lib/python3.10/site-packages/IPython/core/interactiveshell.py:3577: FutureWarning: Starting from Version 0.15.0 `download_splits` will default to ``False`` instead of ``True`` and be independent from `download_data`. To disable this message until version 0.15 explicitly set `download_splits` to a bool.\n",
      "  exec(code_obj, self.user_global_ns, self.user_ns)\n",
      "/scratch/users/zhongyuan_liang/conda/envs/mdi/lib/python3.10/site-packages/openml/tasks/functions.py:442: FutureWarning: Starting from Version 0.15 `download_data`, `download_qualities`, and `download_features_meta_data` will all be ``False`` instead of ``True`` by default to enable lazy loading. To disable this message until version 0.15 explicitly set `download_data`, `download_qualities`, and `download_features_meta_data` to a bool while calling `get_dataset`.\n",
      "  dataset = get_dataset(task.dataset_id, *dataset_args, **get_dataset_kwargs)\n",
      "/scratch/users/zhongyuan_liang/conda/envs/mdi/lib/python3.10/site-packages/openml/tasks/task.py:150: FutureWarning: Starting from Version 0.15 `download_data`, `download_qualities`, and `download_features_meta_data` will all be ``False`` instead of ``True`` by default to enable lazy loading. To disable this message until version 0.15 explicitly set `download_data`, `download_qualities`, and `download_features_meta_data` to a bool while calling `get_dataset`.\n",
      "  return datasets.get_dataset(self.dataset_id)\n",
      "/scratch/users/zhongyuan_liang/conda/envs/mdi/lib/python3.10/site-packages/IPython/core/interactiveshell.py:3577: FutureWarning: Starting from Version 0.15.0 `download_splits` will default to ``False`` instead of ``True`` and be independent from `download_data`. To disable this message until version 0.15 explicitly set `download_splits` to a bool.\n",
      "  exec(code_obj, self.user_global_ns, self.user_ns)\n",
      "/scratch/users/zhongyuan_liang/conda/envs/mdi/lib/python3.10/site-packages/openml/tasks/functions.py:442: FutureWarning: Starting from Version 0.15 `download_data`, `download_qualities`, and `download_features_meta_data` will all be ``False`` instead of ``True`` by default to enable lazy loading. To disable this message until version 0.15 explicitly set `download_data`, `download_qualities`, and `download_features_meta_data` to a bool while calling `get_dataset`.\n",
      "  dataset = get_dataset(task.dataset_id, *dataset_args, **get_dataset_kwargs)\n",
      "/scratch/users/zhongyuan_liang/conda/envs/mdi/lib/python3.10/site-packages/openml/tasks/task.py:150: FutureWarning: Starting from Version 0.15 `download_data`, `download_qualities`, and `download_features_meta_data` will all be ``False`` instead of ``True`` by default to enable lazy loading. To disable this message until version 0.15 explicitly set `download_data`, `download_qualities`, and `download_features_meta_data` to a bool while calling `get_dataset`.\n",
      "  return datasets.get_dataset(self.dataset_id)\n",
      "/scratch/users/zhongyuan_liang/conda/envs/mdi/lib/python3.10/site-packages/IPython/core/interactiveshell.py:3577: FutureWarning: Starting from Version 0.15.0 `download_splits` will default to ``False`` instead of ``True`` and be independent from `download_data`. To disable this message until version 0.15 explicitly set `download_splits` to a bool.\n",
      "  exec(code_obj, self.user_global_ns, self.user_ns)\n",
      "/scratch/users/zhongyuan_liang/conda/envs/mdi/lib/python3.10/site-packages/openml/tasks/functions.py:442: FutureWarning: Starting from Version 0.15 `download_data`, `download_qualities`, and `download_features_meta_data` will all be ``False`` instead of ``True`` by default to enable lazy loading. To disable this message until version 0.15 explicitly set `download_data`, `download_qualities`, and `download_features_meta_data` to a bool while calling `get_dataset`.\n",
      "  dataset = get_dataset(task.dataset_id, *dataset_args, **get_dataset_kwargs)\n",
      "/scratch/users/zhongyuan_liang/conda/envs/mdi/lib/python3.10/site-packages/openml/tasks/task.py:150: FutureWarning: Starting from Version 0.15 `download_data`, `download_qualities`, and `download_features_meta_data` will all be ``False`` instead of ``True`` by default to enable lazy loading. To disable this message until version 0.15 explicitly set `download_data`, `download_qualities`, and `download_features_meta_data` to a bool while calling `get_dataset`.\n",
      "  return datasets.get_dataset(self.dataset_id)\n",
      "/scratch/users/zhongyuan_liang/conda/envs/mdi/lib/python3.10/site-packages/IPython/core/interactiveshell.py:3577: FutureWarning: Starting from Version 0.15.0 `download_splits` will default to ``False`` instead of ``True`` and be independent from `download_data`. To disable this message until version 0.15 explicitly set `download_splits` to a bool.\n",
      "  exec(code_obj, self.user_global_ns, self.user_ns)\n",
      "/scratch/users/zhongyuan_liang/conda/envs/mdi/lib/python3.10/site-packages/openml/tasks/functions.py:442: FutureWarning: Starting from Version 0.15 `download_data`, `download_qualities`, and `download_features_meta_data` will all be ``False`` instead of ``True`` by default to enable lazy loading. To disable this message until version 0.15 explicitly set `download_data`, `download_qualities`, and `download_features_meta_data` to a bool while calling `get_dataset`.\n",
      "  dataset = get_dataset(task.dataset_id, *dataset_args, **get_dataset_kwargs)\n",
      "/scratch/users/zhongyuan_liang/conda/envs/mdi/lib/python3.10/site-packages/openml/tasks/task.py:150: FutureWarning: Starting from Version 0.15 `download_data`, `download_qualities`, and `download_features_meta_data` will all be ``False`` instead of ``True`` by default to enable lazy loading. To disable this message until version 0.15 explicitly set `download_data`, `download_qualities`, and `download_features_meta_data` to a bool while calling `get_dataset`.\n",
      "  return datasets.get_dataset(self.dataset_id)\n",
      "/scratch/users/zhongyuan_liang/conda/envs/mdi/lib/python3.10/site-packages/IPython/core/interactiveshell.py:3577: FutureWarning: Starting from Version 0.15.0 `download_splits` will default to ``False`` instead of ``True`` and be independent from `download_data`. To disable this message until version 0.15 explicitly set `download_splits` to a bool.\n",
      "  exec(code_obj, self.user_global_ns, self.user_ns)\n",
      "/scratch/users/zhongyuan_liang/conda/envs/mdi/lib/python3.10/site-packages/openml/tasks/functions.py:442: FutureWarning: Starting from Version 0.15 `download_data`, `download_qualities`, and `download_features_meta_data` will all be ``False`` instead of ``True`` by default to enable lazy loading. To disable this message until version 0.15 explicitly set `download_data`, `download_qualities`, and `download_features_meta_data` to a bool while calling `get_dataset`.\n",
      "  dataset = get_dataset(task.dataset_id, *dataset_args, **get_dataset_kwargs)\n",
      "/scratch/users/zhongyuan_liang/conda/envs/mdi/lib/python3.10/site-packages/openml/tasks/task.py:150: FutureWarning: Starting from Version 0.15 `download_data`, `download_qualities`, and `download_features_meta_data` will all be ``False`` instead of ``True`` by default to enable lazy loading. To disable this message until version 0.15 explicitly set `download_data`, `download_qualities`, and `download_features_meta_data` to a bool while calling `get_dataset`.\n",
      "  return datasets.get_dataset(self.dataset_id)\n",
      "/scratch/users/zhongyuan_liang/conda/envs/mdi/lib/python3.10/site-packages/IPython/core/interactiveshell.py:3577: FutureWarning: Starting from Version 0.15.0 `download_splits` will default to ``False`` instead of ``True`` and be independent from `download_data`. To disable this message until version 0.15 explicitly set `download_splits` to a bool.\n",
      "  exec(code_obj, self.user_global_ns, self.user_ns)\n",
      "/scratch/users/zhongyuan_liang/conda/envs/mdi/lib/python3.10/site-packages/openml/tasks/functions.py:442: FutureWarning: Starting from Version 0.15 `download_data`, `download_qualities`, and `download_features_meta_data` will all be ``False`` instead of ``True`` by default to enable lazy loading. To disable this message until version 0.15 explicitly set `download_data`, `download_qualities`, and `download_features_meta_data` to a bool while calling `get_dataset`.\n",
      "  dataset = get_dataset(task.dataset_id, *dataset_args, **get_dataset_kwargs)\n",
      "/scratch/users/zhongyuan_liang/conda/envs/mdi/lib/python3.10/site-packages/openml/tasks/task.py:150: FutureWarning: Starting from Version 0.15 `download_data`, `download_qualities`, and `download_features_meta_data` will all be ``False`` instead of ``True`` by default to enable lazy loading. To disable this message until version 0.15 explicitly set `download_data`, `download_qualities`, and `download_features_meta_data` to a bool while calling `get_dataset`.\n",
      "  return datasets.get_dataset(self.dataset_id)\n",
      "/scratch/users/zhongyuan_liang/conda/envs/mdi/lib/python3.10/site-packages/IPython/core/interactiveshell.py:3577: FutureWarning: Starting from Version 0.15.0 `download_splits` will default to ``False`` instead of ``True`` and be independent from `download_data`. To disable this message until version 0.15 explicitly set `download_splits` to a bool.\n",
      "  exec(code_obj, self.user_global_ns, self.user_ns)\n",
      "/scratch/users/zhongyuan_liang/conda/envs/mdi/lib/python3.10/site-packages/openml/tasks/functions.py:442: FutureWarning: Starting from Version 0.15 `download_data`, `download_qualities`, and `download_features_meta_data` will all be ``False`` instead of ``True`` by default to enable lazy loading. To disable this message until version 0.15 explicitly set `download_data`, `download_qualities`, and `download_features_meta_data` to a bool while calling `get_dataset`.\n",
      "  dataset = get_dataset(task.dataset_id, *dataset_args, **get_dataset_kwargs)\n",
      "/scratch/users/zhongyuan_liang/conda/envs/mdi/lib/python3.10/site-packages/openml/tasks/task.py:150: FutureWarning: Starting from Version 0.15 `download_data`, `download_qualities`, and `download_features_meta_data` will all be ``False`` instead of ``True`` by default to enable lazy loading. To disable this message until version 0.15 explicitly set `download_data`, `download_qualities`, and `download_features_meta_data` to a bool while calling `get_dataset`.\n",
      "  return datasets.get_dataset(self.dataset_id)\n",
      "/scratch/users/zhongyuan_liang/conda/envs/mdi/lib/python3.10/site-packages/IPython/core/interactiveshell.py:3577: FutureWarning: Starting from Version 0.15.0 `download_splits` will default to ``False`` instead of ``True`` and be independent from `download_data`. To disable this message until version 0.15 explicitly set `download_splits` to a bool.\n",
      "  exec(code_obj, self.user_global_ns, self.user_ns)\n",
      "/scratch/users/zhongyuan_liang/conda/envs/mdi/lib/python3.10/site-packages/openml/tasks/functions.py:442: FutureWarning: Starting from Version 0.15 `download_data`, `download_qualities`, and `download_features_meta_data` will all be ``False`` instead of ``True`` by default to enable lazy loading. To disable this message until version 0.15 explicitly set `download_data`, `download_qualities`, and `download_features_meta_data` to a bool while calling `get_dataset`.\n",
      "  dataset = get_dataset(task.dataset_id, *dataset_args, **get_dataset_kwargs)\n",
      "/scratch/users/zhongyuan_liang/conda/envs/mdi/lib/python3.10/site-packages/openml/tasks/task.py:150: FutureWarning: Starting from Version 0.15 `download_data`, `download_qualities`, and `download_features_meta_data` will all be ``False`` instead of ``True`` by default to enable lazy loading. To disable this message until version 0.15 explicitly set `download_data`, `download_qualities`, and `download_features_meta_data` to a bool while calling `get_dataset`.\n",
      "  return datasets.get_dataset(self.dataset_id)\n",
      "/scratch/users/zhongyuan_liang/conda/envs/mdi/lib/python3.10/site-packages/IPython/core/interactiveshell.py:3577: FutureWarning: Starting from Version 0.15.0 `download_splits` will default to ``False`` instead of ``True`` and be independent from `download_data`. To disable this message until version 0.15 explicitly set `download_splits` to a bool.\n",
      "  exec(code_obj, self.user_global_ns, self.user_ns)\n",
      "/scratch/users/zhongyuan_liang/conda/envs/mdi/lib/python3.10/site-packages/openml/tasks/functions.py:442: FutureWarning: Starting from Version 0.15 `download_data`, `download_qualities`, and `download_features_meta_data` will all be ``False`` instead of ``True`` by default to enable lazy loading. To disable this message until version 0.15 explicitly set `download_data`, `download_qualities`, and `download_features_meta_data` to a bool while calling `get_dataset`.\n",
      "  dataset = get_dataset(task.dataset_id, *dataset_args, **get_dataset_kwargs)\n",
      "/scratch/users/zhongyuan_liang/conda/envs/mdi/lib/python3.10/site-packages/openml/tasks/task.py:150: FutureWarning: Starting from Version 0.15 `download_data`, `download_qualities`, and `download_features_meta_data` will all be ``False`` instead of ``True`` by default to enable lazy loading. To disable this message until version 0.15 explicitly set `download_data`, `download_qualities`, and `download_features_meta_data` to a bool while calling `get_dataset`.\n",
      "  return datasets.get_dataset(self.dataset_id)\n",
      "/scratch/users/zhongyuan_liang/conda/envs/mdi/lib/python3.10/site-packages/IPython/core/interactiveshell.py:3577: FutureWarning: Starting from Version 0.15.0 `download_splits` will default to ``False`` instead of ``True`` and be independent from `download_data`. To disable this message until version 0.15 explicitly set `download_splits` to a bool.\n",
      "  exec(code_obj, self.user_global_ns, self.user_ns)\n",
      "/scratch/users/zhongyuan_liang/conda/envs/mdi/lib/python3.10/site-packages/openml/tasks/functions.py:442: FutureWarning: Starting from Version 0.15 `download_data`, `download_qualities`, and `download_features_meta_data` will all be ``False`` instead of ``True`` by default to enable lazy loading. To disable this message until version 0.15 explicitly set `download_data`, `download_qualities`, and `download_features_meta_data` to a bool while calling `get_dataset`.\n",
      "  dataset = get_dataset(task.dataset_id, *dataset_args, **get_dataset_kwargs)\n",
      "/scratch/users/zhongyuan_liang/conda/envs/mdi/lib/python3.10/site-packages/openml/tasks/task.py:150: FutureWarning: Starting from Version 0.15 `download_data`, `download_qualities`, and `download_features_meta_data` will all be ``False`` instead of ``True`` by default to enable lazy loading. To disable this message until version 0.15 explicitly set `download_data`, `download_qualities`, and `download_features_meta_data` to a bool while calling `get_dataset`.\n",
      "  return datasets.get_dataset(self.dataset_id)\n",
      "/scratch/users/zhongyuan_liang/conda/envs/mdi/lib/python3.10/site-packages/IPython/core/interactiveshell.py:3577: FutureWarning: Starting from Version 0.15.0 `download_splits` will default to ``False`` instead of ``True`` and be independent from `download_data`. To disable this message until version 0.15 explicitly set `download_splits` to a bool.\n",
      "  exec(code_obj, self.user_global_ns, self.user_ns)\n",
      "/scratch/users/zhongyuan_liang/conda/envs/mdi/lib/python3.10/site-packages/openml/tasks/functions.py:442: FutureWarning: Starting from Version 0.15 `download_data`, `download_qualities`, and `download_features_meta_data` will all be ``False`` instead of ``True`` by default to enable lazy loading. To disable this message until version 0.15 explicitly set `download_data`, `download_qualities`, and `download_features_meta_data` to a bool while calling `get_dataset`.\n",
      "  dataset = get_dataset(task.dataset_id, *dataset_args, **get_dataset_kwargs)\n",
      "/scratch/users/zhongyuan_liang/conda/envs/mdi/lib/python3.10/site-packages/openml/tasks/task.py:150: FutureWarning: Starting from Version 0.15 `download_data`, `download_qualities`, and `download_features_meta_data` will all be ``False`` instead of ``True`` by default to enable lazy loading. To disable this message until version 0.15 explicitly set `download_data`, `download_qualities`, and `download_features_meta_data` to a bool while calling `get_dataset`.\n",
      "  return datasets.get_dataset(self.dataset_id)\n",
      "/scratch/users/zhongyuan_liang/conda/envs/mdi/lib/python3.10/site-packages/IPython/core/interactiveshell.py:3577: FutureWarning: Starting from Version 0.15.0 `download_splits` will default to ``False`` instead of ``True`` and be independent from `download_data`. To disable this message until version 0.15 explicitly set `download_splits` to a bool.\n",
      "  exec(code_obj, self.user_global_ns, self.user_ns)\n",
      "/scratch/users/zhongyuan_liang/conda/envs/mdi/lib/python3.10/site-packages/openml/tasks/functions.py:442: FutureWarning: Starting from Version 0.15 `download_data`, `download_qualities`, and `download_features_meta_data` will all be ``False`` instead of ``True`` by default to enable lazy loading. To disable this message until version 0.15 explicitly set `download_data`, `download_qualities`, and `download_features_meta_data` to a bool while calling `get_dataset`.\n",
      "  dataset = get_dataset(task.dataset_id, *dataset_args, **get_dataset_kwargs)\n",
      "/scratch/users/zhongyuan_liang/conda/envs/mdi/lib/python3.10/site-packages/openml/tasks/task.py:150: FutureWarning: Starting from Version 0.15 `download_data`, `download_qualities`, and `download_features_meta_data` will all be ``False`` instead of ``True`` by default to enable lazy loading. To disable this message until version 0.15 explicitly set `download_data`, `download_qualities`, and `download_features_meta_data` to a bool while calling `get_dataset`.\n",
      "  return datasets.get_dataset(self.dataset_id)\n"
     ]
    }
   ],
   "source": [
    "selected_id = []\n",
    "for task_id in [31, 10101, 3913, 3, 3917, 9957, 9946, 3918, 3903, 37, 9971, 9952, 3902,\n",
    "                49, 43, 9978, 10093, 219, 9976, 14965, 6, 9977, 53, 11, 15, 16, 14,\n",
    "                32, 3549, 12, 9981, 18, 28, 2074, 29, 45, 125922, 9960, 9964, 22, 2079,\n",
    "                14969, 3560, 14952, 125920, 23, 3904, 3022, 9985, 9910, 14970, 3021, \n",
    "                3481, 7592, 3573, 146824, 146820, 146822, 146195, 146800, 146817, 146819,\n",
    "                146821, 167119, 14954, 167141, 167140, 167120, 167125, 146825, 167124, 167121]:\n",
    "    task = openml.tasks.get_task(task_id)\n",
    "    dataset = task.get_dataset()\n",
    "    X, y, _, attribute_names = dataset.get_data(target=dataset.default_target_attribute)\n",
    "    X = pd.DataFrame(X, columns=attribute_names[:-1])\n",
    "    if X.shape[1] > 10 and y.nunique() == 2:\n",
    "        selected_id.append(task_id)"
   ]
  },
  {
   "cell_type": "code",
   "execution_count": 11,
   "metadata": {},
   "outputs": [],
   "source": [
    "# [31,\n",
    "#  3913,\n",
    "#  3,\n",
    "#  3917,\n",
    "#  9957,\n",
    "#  9946,\n",
    "#  3918,\n",
    "#  3903,\n",
    "#  3902,\n",
    "#  43,\n",
    "#  9978,\n",
    "#  9976,\n",
    "#  14965,\n",
    "#  9977,\n",
    "#  29,\n",
    "#  14952,\n",
    "#  125920,\n",
    "#  3904,\n",
    "#  9910,\n",
    "#  3021,\n",
    "#  7592,\n",
    "#  146819,\n",
    "#  14954,\n",
    "#  167141,\n",
    "#  167120,\n",
    "#  167125]"
   ]
  },
  {
   "cell_type": "code",
   "execution_count": 4,
   "metadata": {},
   "outputs": [
    {
     "name": "stderr",
     "output_type": "stream",
     "text": [
      "/scratch/users/zhongyuan_liang/conda/envs/mdi/lib/python3.10/site-packages/IPython/core/interactiveshell.py:3577: FutureWarning: Starting from Version 0.15.0 `download_splits` will default to ``False`` instead of ``True`` and be independent from `download_data`. To disable this message until version 0.15 explicitly set `download_splits` to a bool.\n",
      "  exec(code_obj, self.user_global_ns, self.user_ns)\n",
      "/scratch/users/zhongyuan_liang/conda/envs/mdi/lib/python3.10/site-packages/openml/tasks/functions.py:442: FutureWarning: Starting from Version 0.15 `download_data`, `download_qualities`, and `download_features_meta_data` will all be ``False`` instead of ``True`` by default to enable lazy loading. To disable this message until version 0.15 explicitly set `download_data`, `download_qualities`, and `download_features_meta_data` to a bool while calling `get_dataset`.\n",
      "  dataset = get_dataset(task.dataset_id, *dataset_args, **get_dataset_kwargs)\n",
      "/scratch/users/zhongyuan_liang/conda/envs/mdi/lib/python3.10/site-packages/openml/tasks/task.py:150: FutureWarning: Starting from Version 0.15 `download_data`, `download_qualities`, and `download_features_meta_data` will all be ``False`` instead of ``True`` by default to enable lazy loading. To disable this message until version 0.15 explicitly set `download_data`, `download_qualities`, and `download_features_meta_data` to a bool while calling `get_dataset`.\n",
      "  return datasets.get_dataset(self.dataset_id)\n",
      "/scratch/users/zhongyuan_liang/conda/envs/mdi/lib/python3.10/site-packages/IPython/core/interactiveshell.py:3577: FutureWarning: Starting from Version 0.15.0 `download_splits` will default to ``False`` instead of ``True`` and be independent from `download_data`. To disable this message until version 0.15 explicitly set `download_splits` to a bool.\n",
      "  exec(code_obj, self.user_global_ns, self.user_ns)\n",
      "/scratch/users/zhongyuan_liang/conda/envs/mdi/lib/python3.10/site-packages/openml/tasks/functions.py:442: FutureWarning: Starting from Version 0.15 `download_data`, `download_qualities`, and `download_features_meta_data` will all be ``False`` instead of ``True`` by default to enable lazy loading. To disable this message until version 0.15 explicitly set `download_data`, `download_qualities`, and `download_features_meta_data` to a bool while calling `get_dataset`.\n",
      "  dataset = get_dataset(task.dataset_id, *dataset_args, **get_dataset_kwargs)\n",
      "/scratch/users/zhongyuan_liang/conda/envs/mdi/lib/python3.10/site-packages/openml/tasks/task.py:150: FutureWarning: Starting from Version 0.15 `download_data`, `download_qualities`, and `download_features_meta_data` will all be ``False`` instead of ``True`` by default to enable lazy loading. To disable this message until version 0.15 explicitly set `download_data`, `download_qualities`, and `download_features_meta_data` to a bool while calling `get_dataset`.\n",
      "  return datasets.get_dataset(self.dataset_id)\n",
      "/scratch/users/zhongyuan_liang/conda/envs/mdi/lib/python3.10/site-packages/IPython/core/interactiveshell.py:3577: FutureWarning: Starting from Version 0.15.0 `download_splits` will default to ``False`` instead of ``True`` and be independent from `download_data`. To disable this message until version 0.15 explicitly set `download_splits` to a bool.\n",
      "  exec(code_obj, self.user_global_ns, self.user_ns)\n",
      "/scratch/users/zhongyuan_liang/conda/envs/mdi/lib/python3.10/site-packages/openml/tasks/functions.py:442: FutureWarning: Starting from Version 0.15 `download_data`, `download_qualities`, and `download_features_meta_data` will all be ``False`` instead of ``True`` by default to enable lazy loading. To disable this message until version 0.15 explicitly set `download_data`, `download_qualities`, and `download_features_meta_data` to a bool while calling `get_dataset`.\n",
      "  dataset = get_dataset(task.dataset_id, *dataset_args, **get_dataset_kwargs)\n",
      "/scratch/users/zhongyuan_liang/conda/envs/mdi/lib/python3.10/site-packages/openml/tasks/task.py:150: FutureWarning: Starting from Version 0.15 `download_data`, `download_qualities`, and `download_features_meta_data` will all be ``False`` instead of ``True`` by default to enable lazy loading. To disable this message until version 0.15 explicitly set `download_data`, `download_qualities`, and `download_features_meta_data` to a bool while calling `get_dataset`.\n",
      "  return datasets.get_dataset(self.dataset_id)\n",
      "/scratch/users/zhongyuan_liang/conda/envs/mdi/lib/python3.10/site-packages/IPython/core/interactiveshell.py:3577: FutureWarning: Starting from Version 0.15.0 `download_splits` will default to ``False`` instead of ``True`` and be independent from `download_data`. To disable this message until version 0.15 explicitly set `download_splits` to a bool.\n",
      "  exec(code_obj, self.user_global_ns, self.user_ns)\n",
      "/scratch/users/zhongyuan_liang/conda/envs/mdi/lib/python3.10/site-packages/openml/tasks/functions.py:442: FutureWarning: Starting from Version 0.15 `download_data`, `download_qualities`, and `download_features_meta_data` will all be ``False`` instead of ``True`` by default to enable lazy loading. To disable this message until version 0.15 explicitly set `download_data`, `download_qualities`, and `download_features_meta_data` to a bool while calling `get_dataset`.\n",
      "  dataset = get_dataset(task.dataset_id, *dataset_args, **get_dataset_kwargs)\n",
      "/scratch/users/zhongyuan_liang/conda/envs/mdi/lib/python3.10/site-packages/openml/tasks/task.py:150: FutureWarning: Starting from Version 0.15 `download_data`, `download_qualities`, and `download_features_meta_data` will all be ``False`` instead of ``True`` by default to enable lazy loading. To disable this message until version 0.15 explicitly set `download_data`, `download_qualities`, and `download_features_meta_data` to a bool while calling `get_dataset`.\n",
      "  return datasets.get_dataset(self.dataset_id)\n",
      "/scratch/users/zhongyuan_liang/conda/envs/mdi/lib/python3.10/site-packages/IPython/core/interactiveshell.py:3577: FutureWarning: Starting from Version 0.15.0 `download_splits` will default to ``False`` instead of ``True`` and be independent from `download_data`. To disable this message until version 0.15 explicitly set `download_splits` to a bool.\n",
      "  exec(code_obj, self.user_global_ns, self.user_ns)\n",
      "/scratch/users/zhongyuan_liang/conda/envs/mdi/lib/python3.10/site-packages/openml/tasks/functions.py:442: FutureWarning: Starting from Version 0.15 `download_data`, `download_qualities`, and `download_features_meta_data` will all be ``False`` instead of ``True`` by default to enable lazy loading. To disable this message until version 0.15 explicitly set `download_data`, `download_qualities`, and `download_features_meta_data` to a bool while calling `get_dataset`.\n",
      "  dataset = get_dataset(task.dataset_id, *dataset_args, **get_dataset_kwargs)\n",
      "/scratch/users/zhongyuan_liang/conda/envs/mdi/lib/python3.10/site-packages/openml/tasks/task.py:150: FutureWarning: Starting from Version 0.15 `download_data`, `download_qualities`, and `download_features_meta_data` will all be ``False`` instead of ``True`` by default to enable lazy loading. To disable this message until version 0.15 explicitly set `download_data`, `download_qualities`, and `download_features_meta_data` to a bool while calling `get_dataset`.\n",
      "  return datasets.get_dataset(self.dataset_id)\n",
      "/scratch/users/zhongyuan_liang/conda/envs/mdi/lib/python3.10/site-packages/IPython/core/interactiveshell.py:3577: FutureWarning: Starting from Version 0.15.0 `download_splits` will default to ``False`` instead of ``True`` and be independent from `download_data`. To disable this message until version 0.15 explicitly set `download_splits` to a bool.\n",
      "  exec(code_obj, self.user_global_ns, self.user_ns)\n",
      "/scratch/users/zhongyuan_liang/conda/envs/mdi/lib/python3.10/site-packages/openml/tasks/functions.py:442: FutureWarning: Starting from Version 0.15 `download_data`, `download_qualities`, and `download_features_meta_data` will all be ``False`` instead of ``True`` by default to enable lazy loading. To disable this message until version 0.15 explicitly set `download_data`, `download_qualities`, and `download_features_meta_data` to a bool while calling `get_dataset`.\n",
      "  dataset = get_dataset(task.dataset_id, *dataset_args, **get_dataset_kwargs)\n",
      "/scratch/users/zhongyuan_liang/conda/envs/mdi/lib/python3.10/site-packages/openml/tasks/task.py:150: FutureWarning: Starting from Version 0.15 `download_data`, `download_qualities`, and `download_features_meta_data` will all be ``False`` instead of ``True`` by default to enable lazy loading. To disable this message until version 0.15 explicitly set `download_data`, `download_qualities`, and `download_features_meta_data` to a bool while calling `get_dataset`.\n",
      "  return datasets.get_dataset(self.dataset_id)\n",
      "/scratch/users/zhongyuan_liang/conda/envs/mdi/lib/python3.10/site-packages/IPython/core/interactiveshell.py:3577: FutureWarning: Starting from Version 0.15.0 `download_splits` will default to ``False`` instead of ``True`` and be independent from `download_data`. To disable this message until version 0.15 explicitly set `download_splits` to a bool.\n",
      "  exec(code_obj, self.user_global_ns, self.user_ns)\n",
      "/scratch/users/zhongyuan_liang/conda/envs/mdi/lib/python3.10/site-packages/openml/tasks/functions.py:442: FutureWarning: Starting from Version 0.15 `download_data`, `download_qualities`, and `download_features_meta_data` will all be ``False`` instead of ``True`` by default to enable lazy loading. To disable this message until version 0.15 explicitly set `download_data`, `download_qualities`, and `download_features_meta_data` to a bool while calling `get_dataset`.\n",
      "  dataset = get_dataset(task.dataset_id, *dataset_args, **get_dataset_kwargs)\n",
      "/scratch/users/zhongyuan_liang/conda/envs/mdi/lib/python3.10/site-packages/openml/tasks/task.py:150: FutureWarning: Starting from Version 0.15 `download_data`, `download_qualities`, and `download_features_meta_data` will all be ``False`` instead of ``True`` by default to enable lazy loading. To disable this message until version 0.15 explicitly set `download_data`, `download_qualities`, and `download_features_meta_data` to a bool while calling `get_dataset`.\n",
      "  return datasets.get_dataset(self.dataset_id)\n",
      "/scratch/users/zhongyuan_liang/conda/envs/mdi/lib/python3.10/site-packages/IPython/core/interactiveshell.py:3577: FutureWarning: Starting from Version 0.15.0 `download_splits` will default to ``False`` instead of ``True`` and be independent from `download_data`. To disable this message until version 0.15 explicitly set `download_splits` to a bool.\n",
      "  exec(code_obj, self.user_global_ns, self.user_ns)\n",
      "/scratch/users/zhongyuan_liang/conda/envs/mdi/lib/python3.10/site-packages/openml/tasks/functions.py:442: FutureWarning: Starting from Version 0.15 `download_data`, `download_qualities`, and `download_features_meta_data` will all be ``False`` instead of ``True`` by default to enable lazy loading. To disable this message until version 0.15 explicitly set `download_data`, `download_qualities`, and `download_features_meta_data` to a bool while calling `get_dataset`.\n",
      "  dataset = get_dataset(task.dataset_id, *dataset_args, **get_dataset_kwargs)\n",
      "/scratch/users/zhongyuan_liang/conda/envs/mdi/lib/python3.10/site-packages/openml/tasks/task.py:150: FutureWarning: Starting from Version 0.15 `download_data`, `download_qualities`, and `download_features_meta_data` will all be ``False`` instead of ``True`` by default to enable lazy loading. To disable this message until version 0.15 explicitly set `download_data`, `download_qualities`, and `download_features_meta_data` to a bool while calling `get_dataset`.\n",
      "  return datasets.get_dataset(self.dataset_id)\n",
      "/scratch/users/zhongyuan_liang/conda/envs/mdi/lib/python3.10/site-packages/IPython/core/interactiveshell.py:3577: FutureWarning: Starting from Version 0.15.0 `download_splits` will default to ``False`` instead of ``True`` and be independent from `download_data`. To disable this message until version 0.15 explicitly set `download_splits` to a bool.\n",
      "  exec(code_obj, self.user_global_ns, self.user_ns)\n",
      "/scratch/users/zhongyuan_liang/conda/envs/mdi/lib/python3.10/site-packages/openml/tasks/functions.py:442: FutureWarning: Starting from Version 0.15 `download_data`, `download_qualities`, and `download_features_meta_data` will all be ``False`` instead of ``True`` by default to enable lazy loading. To disable this message until version 0.15 explicitly set `download_data`, `download_qualities`, and `download_features_meta_data` to a bool while calling `get_dataset`.\n",
      "  dataset = get_dataset(task.dataset_id, *dataset_args, **get_dataset_kwargs)\n",
      "/scratch/users/zhongyuan_liang/conda/envs/mdi/lib/python3.10/site-packages/openml/tasks/task.py:150: FutureWarning: Starting from Version 0.15 `download_data`, `download_qualities`, and `download_features_meta_data` will all be ``False`` instead of ``True`` by default to enable lazy loading. To disable this message until version 0.15 explicitly set `download_data`, `download_qualities`, and `download_features_meta_data` to a bool while calling `get_dataset`.\n",
      "  return datasets.get_dataset(self.dataset_id)\n",
      "/scratch/users/zhongyuan_liang/conda/envs/mdi/lib/python3.10/site-packages/IPython/core/interactiveshell.py:3577: FutureWarning: Starting from Version 0.15.0 `download_splits` will default to ``False`` instead of ``True`` and be independent from `download_data`. To disable this message until version 0.15 explicitly set `download_splits` to a bool.\n",
      "  exec(code_obj, self.user_global_ns, self.user_ns)\n",
      "/scratch/users/zhongyuan_liang/conda/envs/mdi/lib/python3.10/site-packages/openml/tasks/functions.py:442: FutureWarning: Starting from Version 0.15 `download_data`, `download_qualities`, and `download_features_meta_data` will all be ``False`` instead of ``True`` by default to enable lazy loading. To disable this message until version 0.15 explicitly set `download_data`, `download_qualities`, and `download_features_meta_data` to a bool while calling `get_dataset`.\n",
      "  dataset = get_dataset(task.dataset_id, *dataset_args, **get_dataset_kwargs)\n",
      "/scratch/users/zhongyuan_liang/conda/envs/mdi/lib/python3.10/site-packages/openml/tasks/task.py:150: FutureWarning: Starting from Version 0.15 `download_data`, `download_qualities`, and `download_features_meta_data` will all be ``False`` instead of ``True`` by default to enable lazy loading. To disable this message until version 0.15 explicitly set `download_data`, `download_qualities`, and `download_features_meta_data` to a bool while calling `get_dataset`.\n",
      "  return datasets.get_dataset(self.dataset_id)\n",
      "/scratch/users/zhongyuan_liang/conda/envs/mdi/lib/python3.10/site-packages/IPython/core/interactiveshell.py:3577: FutureWarning: Starting from Version 0.15.0 `download_splits` will default to ``False`` instead of ``True`` and be independent from `download_data`. To disable this message until version 0.15 explicitly set `download_splits` to a bool.\n",
      "  exec(code_obj, self.user_global_ns, self.user_ns)\n",
      "/scratch/users/zhongyuan_liang/conda/envs/mdi/lib/python3.10/site-packages/openml/tasks/functions.py:442: FutureWarning: Starting from Version 0.15 `download_data`, `download_qualities`, and `download_features_meta_data` will all be ``False`` instead of ``True`` by default to enable lazy loading. To disable this message until version 0.15 explicitly set `download_data`, `download_qualities`, and `download_features_meta_data` to a bool while calling `get_dataset`.\n",
      "  dataset = get_dataset(task.dataset_id, *dataset_args, **get_dataset_kwargs)\n",
      "/scratch/users/zhongyuan_liang/conda/envs/mdi/lib/python3.10/site-packages/openml/tasks/task.py:150: FutureWarning: Starting from Version 0.15 `download_data`, `download_qualities`, and `download_features_meta_data` will all be ``False`` instead of ``True`` by default to enable lazy loading. To disable this message until version 0.15 explicitly set `download_data`, `download_qualities`, and `download_features_meta_data` to a bool while calling `get_dataset`.\n",
      "  return datasets.get_dataset(self.dataset_id)\n",
      "/scratch/users/zhongyuan_liang/conda/envs/mdi/lib/python3.10/site-packages/IPython/core/interactiveshell.py:3577: FutureWarning: Starting from Version 0.15.0 `download_splits` will default to ``False`` instead of ``True`` and be independent from `download_data`. To disable this message until version 0.15 explicitly set `download_splits` to a bool.\n",
      "  exec(code_obj, self.user_global_ns, self.user_ns)\n",
      "/scratch/users/zhongyuan_liang/conda/envs/mdi/lib/python3.10/site-packages/openml/tasks/functions.py:442: FutureWarning: Starting from Version 0.15 `download_data`, `download_qualities`, and `download_features_meta_data` will all be ``False`` instead of ``True`` by default to enable lazy loading. To disable this message until version 0.15 explicitly set `download_data`, `download_qualities`, and `download_features_meta_data` to a bool while calling `get_dataset`.\n",
      "  dataset = get_dataset(task.dataset_id, *dataset_args, **get_dataset_kwargs)\n",
      "/scratch/users/zhongyuan_liang/conda/envs/mdi/lib/python3.10/site-packages/openml/tasks/task.py:150: FutureWarning: Starting from Version 0.15 `download_data`, `download_qualities`, and `download_features_meta_data` will all be ``False`` instead of ``True`` by default to enable lazy loading. To disable this message until version 0.15 explicitly set `download_data`, `download_qualities`, and `download_features_meta_data` to a bool while calling `get_dataset`.\n",
      "  return datasets.get_dataset(self.dataset_id)\n"
     ]
    },
    {
     "name": "stdout",
     "output_type": "stream",
     "text": [
      "31\n",
      "{'checking_status': 4, 'credit_history': 5, 'savings_status': 5, 'employment': 5, 'installment_commitment': 4, 'personal_status': 4, 'other_parties': 3, 'residence_since': 4, 'property_magnitude': 4, 'other_payment_plans': 3, 'housing': 3, 'existing_credits': 4, 'job': 4, 'num_dependents': 2, 'own_telephone': 2}\n",
      "3913\n",
      "{'lOCodeAndComment': 8}\n",
      "3\n",
      "{'bkblk': 2, 'bknwy': 2, 'bkon8': 2, 'bkona': 2, 'bkspr': 2, 'bkxbq': 2, 'bkxcr': 2, 'bkxwp': 2, 'blxwp': 2, 'bxqsq': 2, 'cntxt': 2, 'dsopp': 2, 'dwipd': 2, 'hdchk': 2, 'katri': 3, 'mulch': 2, 'qxmsq': 2, 'r2ar8': 2, 'reskd': 2, 'reskr': 2, 'rimmx': 2, 'rkxwp': 2, 'rxmsq': 2, 'simpl': 2, 'skach': 2, 'skewr': 2, 'skrxp': 2, 'spcop': 2, 'stlmt': 2, 'thrsk': 2, 'wkcti': 2, 'wkna8': 2, 'wknck': 2, 'wkovl': 2, 'wkpos': 2}\n",
      "3917\n",
      "{}\n",
      "9957\n",
      "{'V4': 4, 'V19': 3, 'V20': 4, 'V21': 4, 'V24': 2, 'V25': 2, 'V26': 4, 'V29': 2, 'V32': 8, 'V35': 8, 'V38': 8, 'V40': 5}\n",
      "9946\n",
      "{}\n",
      "3918\n",
      "{}\n",
      "3903\n",
      "{'PARAMETER_COUNT': 8}\n",
      "3902\n",
      "{'DECISION_DENSITY': 5, 'ESSENTIAL_DENSITY': 2, 'PARAMETER_COUNT': 8}\n",
      "43\n",
      "{}\n",
      "9978\n",
      "{}\n",
      "9976\n",
      "{'V91': 5, 'V169': 9, 'V174': 9, 'V229': 7, 'V277': 5, 'V333': 8, 'V405': 6, 'V424': 5}\n",
      "14965\n",
      "{'V3': 3, 'V4': 4, 'V5': 2, 'V7': 2, 'V8': 2, 'V9': 3}\n",
      "9977\n"
     ]
    },
    {
     "name": "stderr",
     "output_type": "stream",
     "text": [
      "/scratch/users/zhongyuan_liang/conda/envs/mdi/lib/python3.10/site-packages/IPython/core/interactiveshell.py:3577: FutureWarning: Starting from Version 0.15.0 `download_splits` will default to ``False`` instead of ``True`` and be independent from `download_data`. To disable this message until version 0.15 explicitly set `download_splits` to a bool.\n",
      "  exec(code_obj, self.user_global_ns, self.user_ns)\n",
      "/scratch/users/zhongyuan_liang/conda/envs/mdi/lib/python3.10/site-packages/openml/tasks/functions.py:442: FutureWarning: Starting from Version 0.15 `download_data`, `download_qualities`, and `download_features_meta_data` will all be ``False`` instead of ``True`` by default to enable lazy loading. To disable this message until version 0.15 explicitly set `download_data`, `download_qualities`, and `download_features_meta_data` to a bool while calling `get_dataset`.\n",
      "  dataset = get_dataset(task.dataset_id, *dataset_args, **get_dataset_kwargs)\n",
      "/scratch/users/zhongyuan_liang/conda/envs/mdi/lib/python3.10/site-packages/openml/tasks/task.py:150: FutureWarning: Starting from Version 0.15 `download_data`, `download_qualities`, and `download_features_meta_data` will all be ``False`` instead of ``True`` by default to enable lazy loading. To disable this message until version 0.15 explicitly set `download_data`, `download_qualities`, and `download_features_meta_data` to a bool while calling `get_dataset`.\n",
      "  return datasets.get_dataset(self.dataset_id)\n",
      "/scratch/users/zhongyuan_liang/conda/envs/mdi/lib/python3.10/site-packages/IPython/core/interactiveshell.py:3577: FutureWarning: Starting from Version 0.15.0 `download_splits` will default to ``False`` instead of ``True`` and be independent from `download_data`. To disable this message until version 0.15 explicitly set `download_splits` to a bool.\n",
      "  exec(code_obj, self.user_global_ns, self.user_ns)\n",
      "/scratch/users/zhongyuan_liang/conda/envs/mdi/lib/python3.10/site-packages/openml/tasks/functions.py:442: FutureWarning: Starting from Version 0.15 `download_data`, `download_qualities`, and `download_features_meta_data` will all be ``False`` instead of ``True`` by default to enable lazy loading. To disable this message until version 0.15 explicitly set `download_data`, `download_qualities`, and `download_features_meta_data` to a bool while calling `get_dataset`.\n",
      "  dataset = get_dataset(task.dataset_id, *dataset_args, **get_dataset_kwargs)\n",
      "/scratch/users/zhongyuan_liang/conda/envs/mdi/lib/python3.10/site-packages/openml/tasks/task.py:150: FutureWarning: Starting from Version 0.15 `download_data`, `download_qualities`, and `download_features_meta_data` will all be ``False`` instead of ``True`` by default to enable lazy loading. To disable this message until version 0.15 explicitly set `download_data`, `download_qualities`, and `download_features_meta_data` to a bool while calling `get_dataset`.\n",
      "  return datasets.get_dataset(self.dataset_id)\n"
     ]
    },
    {
     "name": "stdout",
     "output_type": "stream",
     "text": [
      "{'V7': 2, 'V8': 2, 'V9': 8, 'V15': 3, 'V16': 3, 'V17': 4, 'V18': 4, 'V23': 3, 'V24': 3, 'V31': 3, 'V32': 3, 'V39': 3, 'V40': 3, 'V41': 3, 'V42': 3, 'V47': 3, 'V48': 3, 'V49': 7, 'V50': 7, 'V55': 3, 'V56': 3, 'V63': 3, 'V64': 3, 'V71': 3, 'V72': 3, 'V73': 4, 'V74': 4, 'V79': 3, 'V80': 3, 'V81': 3, 'V82': 3, 'V83': 3, 'V84': 3, 'V85': 3, 'V86': 3, 'V87': 3, 'V88': 3, 'V92': 3, 'V96': 3, 'V100': 3, 'V104': 3, 'V108': 3, 'V112': 3, 'V116': 3}\n",
      "29\n",
      "{'A1': 2, 'A4': 3, 'A5': 3, 'A7': 9, 'A9': 2, 'A10': 2, 'A12': 2, 'A13': 3}\n",
      "14952\n",
      "{'having_IP_Address': 2, 'URL_Length': 3, 'Shortining_Service': 2, 'having_At_Symbol': 2, 'double_slash_redirecting': 2, 'Prefix_Suffix': 2, 'having_Sub_Domain': 3, 'SSLfinal_State': 3, 'Domain_registeration_length': 2, 'Favicon': 2, 'port': 2, 'HTTPS_token': 2, 'Request_URL': 2, 'URL_of_Anchor': 3, 'Links_in_tags': 3, 'SFH': 3, 'Submitting_to_email': 2, 'Abnormal_URL': 2, 'Redirect': 2, 'on_mouseover': 2, 'RightClick': 2, 'popUpWidnow': 2, 'Iframe': 2, 'age_of_domain': 2, 'DNSRecord': 2, 'web_traffic': 3, 'Page_Rank': 2, 'Google_Index': 2, 'Links_pointing_to_page': 3}\n",
      "125920\n",
      "{'V3': 7, 'V5': 7, 'V6': 8, 'V9': 4}\n",
      "3904\n",
      "{}\n"
     ]
    },
    {
     "name": "stderr",
     "output_type": "stream",
     "text": [
      "/scratch/users/zhongyuan_liang/conda/envs/mdi/lib/python3.10/site-packages/IPython/core/interactiveshell.py:3577: FutureWarning: Starting from Version 0.15.0 `download_splits` will default to ``False`` instead of ``True`` and be independent from `download_data`. To disable this message until version 0.15 explicitly set `download_splits` to a bool.\n",
      "  exec(code_obj, self.user_global_ns, self.user_ns)\n",
      "/scratch/users/zhongyuan_liang/conda/envs/mdi/lib/python3.10/site-packages/openml/tasks/functions.py:442: FutureWarning: Starting from Version 0.15 `download_data`, `download_qualities`, and `download_features_meta_data` will all be ``False`` instead of ``True`` by default to enable lazy loading. To disable this message until version 0.15 explicitly set `download_data`, `download_qualities`, and `download_features_meta_data` to a bool while calling `get_dataset`.\n",
      "  dataset = get_dataset(task.dataset_id, *dataset_args, **get_dataset_kwargs)\n",
      "/scratch/users/zhongyuan_liang/conda/envs/mdi/lib/python3.10/site-packages/openml/tasks/task.py:150: FutureWarning: Starting from Version 0.15 `download_data`, `download_qualities`, and `download_features_meta_data` will all be ``False`` instead of ``True`` by default to enable lazy loading. To disable this message until version 0.15 explicitly set `download_data`, `download_qualities`, and `download_features_meta_data` to a bool while calling `get_dataset`.\n",
      "  return datasets.get_dataset(self.dataset_id)\n",
      "/scratch/users/zhongyuan_liang/conda/envs/mdi/lib/python3.10/site-packages/IPython/core/interactiveshell.py:3577: FutureWarning: Starting from Version 0.15.0 `download_splits` will default to ``False`` instead of ``True`` and be independent from `download_data`. To disable this message until version 0.15 explicitly set `download_splits` to a bool.\n",
      "  exec(code_obj, self.user_global_ns, self.user_ns)\n",
      "/scratch/users/zhongyuan_liang/conda/envs/mdi/lib/python3.10/site-packages/openml/tasks/functions.py:442: FutureWarning: Starting from Version 0.15 `download_data`, `download_qualities`, and `download_features_meta_data` will all be ``False`` instead of ``True`` by default to enable lazy loading. To disable this message until version 0.15 explicitly set `download_data`, `download_qualities`, and `download_features_meta_data` to a bool while calling `get_dataset`.\n",
      "  dataset = get_dataset(task.dataset_id, *dataset_args, **get_dataset_kwargs)\n",
      "/scratch/users/zhongyuan_liang/conda/envs/mdi/lib/python3.10/site-packages/openml/tasks/task.py:150: FutureWarning: Starting from Version 0.15 `download_data`, `download_qualities`, and `download_features_meta_data` will all be ``False`` instead of ``True`` by default to enable lazy loading. To disable this message until version 0.15 explicitly set `download_data`, `download_qualities`, and `download_features_meta_data` to a bool while calling `get_dataset`.\n",
      "  return datasets.get_dataset(self.dataset_id)\n",
      "/scratch/users/zhongyuan_liang/conda/envs/mdi/lib/python3.10/site-packages/IPython/core/interactiveshell.py:3577: FutureWarning: Starting from Version 0.15.0 `download_splits` will default to ``False`` instead of ``True`` and be independent from `download_data`. To disable this message until version 0.15 explicitly set `download_splits` to a bool.\n",
      "  exec(code_obj, self.user_global_ns, self.user_ns)\n",
      "/scratch/users/zhongyuan_liang/conda/envs/mdi/lib/python3.10/site-packages/openml/tasks/functions.py:442: FutureWarning: Starting from Version 0.15 `download_data`, `download_qualities`, and `download_features_meta_data` will all be ``False`` instead of ``True`` by default to enable lazy loading. To disable this message until version 0.15 explicitly set `download_data`, `download_qualities`, and `download_features_meta_data` to a bool while calling `get_dataset`.\n",
      "  dataset = get_dataset(task.dataset_id, *dataset_args, **get_dataset_kwargs)\n",
      "/scratch/users/zhongyuan_liang/conda/envs/mdi/lib/python3.10/site-packages/openml/tasks/task.py:150: FutureWarning: Starting from Version 0.15 `download_data`, `download_qualities`, and `download_features_meta_data` will all be ``False`` instead of ``True`` by default to enable lazy loading. To disable this message until version 0.15 explicitly set `download_data`, `download_qualities`, and `download_features_meta_data` to a bool while calling `get_dataset`.\n",
      "  return datasets.get_dataset(self.dataset_id)\n",
      "/scratch/users/zhongyuan_liang/conda/envs/mdi/lib/python3.10/site-packages/IPython/core/interactiveshell.py:3577: FutureWarning: Starting from Version 0.15.0 `download_splits` will default to ``False`` instead of ``True`` and be independent from `download_data`. To disable this message until version 0.15 explicitly set `download_splits` to a bool.\n",
      "  exec(code_obj, self.user_global_ns, self.user_ns)\n",
      "/scratch/users/zhongyuan_liang/conda/envs/mdi/lib/python3.10/site-packages/openml/tasks/functions.py:442: FutureWarning: Starting from Version 0.15 `download_data`, `download_qualities`, and `download_features_meta_data` will all be ``False`` instead of ``True`` by default to enable lazy loading. To disable this message until version 0.15 explicitly set `download_data`, `download_qualities`, and `download_features_meta_data` to a bool while calling `get_dataset`.\n",
      "  dataset = get_dataset(task.dataset_id, *dataset_args, **get_dataset_kwargs)\n",
      "/scratch/users/zhongyuan_liang/conda/envs/mdi/lib/python3.10/site-packages/openml/tasks/task.py:150: FutureWarning: Starting from Version 0.15 `download_data`, `download_qualities`, and `download_features_meta_data` will all be ``False`` instead of ``True`` by default to enable lazy loading. To disable this message until version 0.15 explicitly set `download_data`, `download_qualities`, and `download_features_meta_data` to a bool while calling `get_dataset`.\n",
      "  return datasets.get_dataset(self.dataset_id)\n",
      "/scratch/users/zhongyuan_liang/conda/envs/mdi/lib/python3.10/site-packages/IPython/core/interactiveshell.py:3577: FutureWarning: Starting from Version 0.15.0 `download_splits` will default to ``False`` instead of ``True`` and be independent from `download_data`. To disable this message until version 0.15 explicitly set `download_splits` to a bool.\n",
      "  exec(code_obj, self.user_global_ns, self.user_ns)\n",
      "/scratch/users/zhongyuan_liang/conda/envs/mdi/lib/python3.10/site-packages/openml/tasks/functions.py:442: FutureWarning: Starting from Version 0.15 `download_data`, `download_qualities`, and `download_features_meta_data` will all be ``False`` instead of ``True`` by default to enable lazy loading. To disable this message until version 0.15 explicitly set `download_data`, `download_qualities`, and `download_features_meta_data` to a bool while calling `get_dataset`.\n",
      "  dataset = get_dataset(task.dataset_id, *dataset_args, **get_dataset_kwargs)\n",
      "/scratch/users/zhongyuan_liang/conda/envs/mdi/lib/python3.10/site-packages/openml/tasks/task.py:150: FutureWarning: Starting from Version 0.15 `download_data`, `download_qualities`, and `download_features_meta_data` will all be ``False`` instead of ``True`` by default to enable lazy loading. To disable this message until version 0.15 explicitly set `download_data`, `download_qualities`, and `download_features_meta_data` to a bool while calling `get_dataset`.\n",
      "  return datasets.get_dataset(self.dataset_id)\n"
     ]
    },
    {
     "name": "stdout",
     "output_type": "stream",
     "text": [
      "9910\n",
      "{'D4': 5, 'D23': 2, 'D24': 5, 'D27': 2, 'D28': 2, 'D29': 7, 'D51': 2, 'D72': 2, 'D77': 7, 'D79': 6, 'D81': 4, 'D82': 5, 'D94': 2, 'D98': 5, 'D108': 7, 'D109': 6, 'D110': 7, 'D111': 7, 'D112': 5, 'D113': 6, 'D114': 6, 'D115': 6, 'D116': 5, 'D127': 7, 'D134': 7, 'D136': 8, 'D148': 8, 'D156': 6, 'D163': 9, 'D164': 7, 'D165': 7, 'D166': 6, 'D169': 3, 'D170': 2, 'D225': 3, 'D226': 6, 'D227': 8, 'D228': 5, 'D229': 5, 'D230': 3, 'D231': 3, 'D234': 6, 'D238': 5, 'D240': 5, 'D242': 3, 'D251': 3, 'D252': 3, 'D253': 3, 'D254': 4, 'D255': 5, 'D256': 4, 'D257': 8, 'D258': 4, 'D259': 4, 'D260': 9, 'D262': 8, 'D263': 5, 'D264': 5, 'D265': 8, 'D266': 4, 'D267': 4, 'D268': 8, 'D269': 4, 'D270': 5, 'D271': 3, 'D272': 5, 'D273': 4, 'D274': 3, 'D275': 3, 'D276': 5, 'D277': 5, 'D278': 3, 'D279': 3, 'D280': 5, 'D281': 5, 'D282': 6, 'D283': 5, 'D284': 3, 'D285': 3, 'D286': 3, 'D287': 3, 'D288': 6, 'D289': 6, 'D290': 4, 'D291': 5, 'D292': 3, 'D293': 4, 'D294': 5, 'D295': 4, 'D296': 9, 'D297': 4, 'D298': 6, 'D299': 7, 'D300': 6, 'D301': 5, 'D302': 3, 'D303': 3, 'D304': 5, 'D305': 4, 'D306': 5, 'D307': 4, 'D308': 5, 'D309': 5, 'D310': 8, 'D313': 9, 'D316': 8, 'D317': 3, 'D318': 6, 'D319': 7, 'D320': 6, 'D321': 4, 'D322': 4, 'D323': 6, 'D324': 4, 'D325': 5, 'D326': 5, 'D327': 3, 'D328': 4, 'D329': 5, 'D330': 4, 'D331': 4, 'D332': 4, 'D333': 6, 'D334': 7, 'D336': 9, 'D341': 9, 'D342': 8, 'D343': 8, 'D344': 7, 'D345': 9, 'D346': 4, 'D347': 5, 'D348': 8, 'D349': 9, 'D352': 9, 'D353': 8, 'D354': 7, 'D355': 7, 'D356': 6, 'D357': 6, 'D358': 5, 'D359': 5, 'D360': 7, 'D361': 8, 'D362': 5, 'D363': 6, 'D364': 5, 'D365': 5, 'D366': 4, 'D367': 5, 'D368': 4, 'D369': 4, 'D370': 5, 'D371': 3, 'D372': 7, 'D373': 9, 'D376': 7, 'D377': 9, 'D378': 9, 'D379': 8, 'D380': 7, 'D381': 6, 'D382': 8, 'D383': 6, 'D384': 6, 'D385': 6, 'D386': 3, 'D387': 4, 'D388': 6, 'D389': 5, 'D390': 6, 'D391': 9, 'D392': 7, 'D393': 7, 'D394': 7, 'D395': 5, 'D396': 6, 'D397': 6, 'D398': 5, 'D400': 4, 'D401': 5, 'D402': 6, 'D403': 5, 'D404': 4, 'D405': 5, 'D406': 3, 'D407': 3, 'D408': 4, 'D409': 4, 'D410': 4, 'D411': 3, 'D412': 4, 'D413': 4, 'D414': 3, 'D425': 4, 'D426': 7, 'D427': 5, 'D428': 7, 'D429': 6, 'D430': 6, 'D431': 7, 'D432': 8, 'D433': 8, 'D434': 5, 'D435': 6, 'D436': 5, 'D437': 5, 'D438': 6, 'D439': 7, 'D440': 5, 'D450': 4, 'D462': 9, 'D463': 7, 'D465': 9, 'D466': 8, 'D467': 6, 'D468': 9, 'D480': 4, 'D481': 7, 'D482': 9, 'D483': 6, 'D484': 3, 'D485': 5, 'D487': 7, 'D488': 3, 'D489': 5, 'D490': 7, 'D491': 6, 'D492': 8, 'D493': 9, 'D495': 7, 'D497': 7, 'D498': 8, 'D499': 7, 'D500': 8, 'D501': 5, 'D502': 4, 'D503': 6, 'D506': 3, 'D507': 4, 'D508': 5, 'D509': 4, 'D510': 4, 'D511': 3, 'D523': 3, 'D524': 8, 'D525': 9, 'D529': 9, 'D530': 8, 'D532': 9, 'D534': 7, 'D535': 7, 'D536': 9, 'D537': 6, 'D538': 7, 'D539': 8, 'D540': 6, 'D541': 7, 'D542': 9, 'D543': 4, 'D544': 8, 'D552': 8, 'D568': 2, 'D569': 8, 'D570': 4, 'D571': 3, 'D572': 6, 'D573': 6, 'D574': 7, 'D575': 6, 'D576': 6, 'D577': 6, 'D578': 6, 'D579': 5, 'D580': 6, 'D581': 5, 'D584': 7, 'D594': 6, 'D595': 9, 'D596': 7, 'D597': 5, 'D598': 5, 'D599': 4, 'D600': 3, 'D601': 4, 'D602': 3, 'D603': 4, 'D604': 3, 'D605': 4, 'D606': 6, 'D609': 6, 'D610': 7, 'D611': 6, 'D612': 7, 'D613': 7, 'D614': 5, 'D615': 5, 'D616': 3, 'D617': 5, 'D618': 5, 'D619': 5, 'D620': 6, 'D623': 9, 'D624': 8, 'D626': 8, 'D627': 9, 'D628': 6, 'D629': 7, 'D630': 5, 'D631': 4, 'D632': 4, 'D633': 4, 'D634': 9, 'D635': 4, 'D636': 6, 'D637': 6, 'D638': 5, 'D639': 7, 'D640': 5, 'D641': 4, 'D642': 5, 'D643': 4, 'D644': 4, 'D645': 4, 'D646': 4, 'D647': 5, 'D648': 6, 'D650': 5, 'D651': 6, 'D652': 5, 'D653': 9, 'D654': 3, 'D655': 4, 'D656': 3, 'D657': 5, 'D658': 4, 'D669': 8, 'D670': 3, 'D671': 5, 'D673': 7, 'D674': 9, 'D675': 8, 'D676': 8, 'D677': 5, 'D678': 7, 'D679': 7, 'D680': 7, 'D681': 5, 'D682': 5, 'D683': 7, 'D684': 5, 'D685': 5, 'D686': 9, 'D687': 7, 'D688': 8, 'D689': 8, 'D690': 8, 'D691': 8, 'D692': 6, 'D693': 7, 'D694': 7, 'D695': 6, 'D696': 8, 'D699': 9, 'D706': 8, 'D707': 9, 'D708': 8, 'D709': 3, 'D710': 6, 'D711': 6, 'D712': 6, 'D713': 7, 'D714': 6, 'D715': 5, 'D716': 3, 'D717': 5, 'D718': 5, 'D719': 5, 'D720': 3, 'D721': 4, 'D722': 4, 'D723': 6, 'D724': 5, 'D725': 5, 'D726': 4, 'D727': 5, 'D728': 6, 'D729': 6, 'D730': 5, 'D731': 5, 'D732': 5, 'D733': 5, 'D734': 4, 'D735': 3, 'D736': 4, 'D737': 3, 'D738': 4, 'D744': 4, 'D745': 3, 'D746': 3, 'D747': 8, 'D750': 9, 'D757': 9, 'D758': 8, 'D759': 8, 'D760': 9, 'D761': 3, 'D762': 8, 'D775': 6, 'D776': 5, 'D777': 7, 'D778': 7, 'D779': 6, 'D781': 4, 'D782': 6, 'D783': 4, 'D784': 4, 'D785': 4, 'D786': 7, 'D787': 5, 'D788': 5, 'D789': 5, 'D790': 3, 'D791': 7, 'D792': 9, 'D793': 9, 'D794': 6, 'D795': 9, 'D796': 4, 'D797': 6, 'D798': 6, 'D799': 4, 'D800': 4, 'D801': 3, 'D804': 3, 'D805': 4, 'D807': 8, 'D808': 9, 'D818': 8, 'D820': 5, 'D821': 4, 'D822': 3, 'D823': 2, 'D824': 3, 'D825': 3, 'D826': 3, 'D827': 5, 'D828': 3, 'D829': 4, 'D830': 5, 'D831': 5, 'D832': 5, 'D833': 6, 'D834': 5, 'D835': 5, 'D836': 5, 'D837': 4, 'D838': 5, 'D839': 5, 'D840': 4, 'D841': 7, 'D844': 8, 'D845': 6, 'D846': 7, 'D847': 4, 'D849': 8, 'D850': 9, 'D851': 7, 'D852': 7, 'D853': 7, 'D854': 5, 'D855': 7, 'D857': 7, 'D858': 2, 'D859': 6, 'D860': 5, 'D861': 4, 'D862': 3, 'D866': 9, 'D868': 9, 'D869': 8, 'D870': 6, 'D871': 5, 'D872': 4, 'D874': 5, 'D875': 4, 'D876': 5, 'D877': 5, 'D878': 6, 'D879': 4, 'D880': 6, 'D884': 7, 'D885': 7, 'D886': 8, 'D887': 4, 'D888': 3, 'D898': 7, 'D900': 7, 'D901': 8, 'D902': 6, 'D903': 7, 'D904': 7, 'D905': 6, 'D906': 5, 'D907': 7, 'D908': 5, 'D909': 5, 'D910': 4, 'D914': 6, 'D915': 9, 'D916': 8, 'D917': 8, 'D918': 7, 'D919': 7, 'D920': 8, 'D921': 5, 'D922': 5, 'D923': 4, 'D924': 6, 'D930': 4, 'D931': 4, 'D932': 5, 'D934': 7, 'D936': 8, 'D939': 9, 'D940': 8, 'D941': 8, 'D942': 6, 'D943': 7, 'D944': 8, 'D945': 6, 'D949': 8, 'D952': 2, 'D953': 2, 'D954': 2, 'D955': 2, 'D956': 2, 'D957': 2, 'D958': 2, 'D959': 2, 'D960': 2, 'D961': 2, 'D962': 2, 'D963': 2, 'D964': 2, 'D965': 2, 'D966': 2, 'D967': 2, 'D968': 2, 'D969': 2, 'D970': 2, 'D971': 2, 'D972': 2, 'D973': 2, 'D974': 2, 'D975': 2, 'D976': 2, 'D977': 2, 'D978': 2, 'D979': 2, 'D980': 2, 'D981': 2, 'D982': 2, 'D983': 2, 'D984': 2, 'D985': 2, 'D986': 2, 'D987': 2, 'D988': 2, 'D989': 2, 'D990': 2, 'D991': 2, 'D992': 2, 'D993': 2, 'D994': 2, 'D995': 2, 'D996': 2, 'D997': 2, 'D998': 2, 'D999': 2, 'D1000': 2, 'D1001': 2, 'D1002': 2, 'D1003': 2, 'D1004': 2, 'D1005': 2, 'D1006': 2, 'D1007': 2, 'D1008': 2, 'D1009': 2, 'D1010': 2, 'D1011': 2, 'D1012': 2, 'D1013': 2, 'D1014': 2, 'D1015': 2, 'D1016': 2, 'D1017': 2, 'D1018': 2, 'D1019': 2, 'D1020': 2, 'D1021': 2, 'D1022': 2, 'D1023': 2, 'D1024': 2, 'D1025': 2, 'D1026': 2, 'D1027': 2, 'D1028': 2, 'D1029': 2, 'D1030': 2, 'D1031': 2, 'D1032': 2, 'D1033': 2, 'D1034': 2, 'D1035': 2, 'D1036': 2, 'D1037': 2, 'D1038': 2, 'D1039': 2, 'D1040': 2, 'D1041': 2, 'D1042': 2, 'D1043': 2, 'D1044': 2, 'D1045': 2, 'D1046': 2, 'D1047': 2, 'D1048': 2, 'D1049': 2, 'D1050': 2, 'D1051': 2, 'D1052': 2, 'D1053': 2, 'D1054': 2, 'D1055': 2, 'D1056': 2, 'D1057': 2, 'D1058': 2, 'D1059': 2, 'D1060': 2, 'D1061': 2, 'D1062': 2, 'D1063': 2, 'D1064': 2, 'D1065': 2, 'D1066': 2, 'D1067': 2, 'D1068': 2, 'D1069': 2, 'D1070': 2, 'D1071': 2, 'D1072': 2, 'D1073': 2, 'D1074': 2, 'D1075': 2, 'D1076': 2, 'D1077': 2, 'D1078': 2, 'D1079': 2, 'D1080': 2, 'D1081': 2, 'D1082': 2, 'D1083': 2, 'D1084': 2, 'D1085': 2, 'D1086': 2, 'D1087': 2, 'D1088': 2, 'D1089': 2, 'D1090': 2, 'D1091': 2, 'D1092': 2, 'D1093': 2, 'D1094': 2, 'D1095': 2, 'D1096': 2, 'D1097': 2, 'D1098': 2, 'D1099': 2, 'D1100': 2, 'D1101': 2, 'D1102': 2, 'D1103': 2, 'D1104': 2, 'D1105': 2, 'D1106': 2, 'D1107': 2, 'D1108': 2, 'D1109': 2, 'D1110': 2, 'D1111': 2, 'D1112': 2, 'D1113': 2, 'D1114': 2, 'D1115': 2, 'D1116': 2, 'D1117': 2, 'D1118': 2, 'D1119': 2, 'D1120': 2, 'D1121': 2, 'D1122': 2, 'D1123': 2, 'D1124': 2, 'D1125': 2, 'D1126': 2, 'D1127': 2, 'D1128': 2, 'D1129': 2, 'D1130': 2, 'D1131': 2, 'D1132': 2, 'D1133': 2, 'D1134': 2, 'D1135': 2, 'D1136': 2, 'D1137': 2, 'D1138': 2, 'D1139': 2, 'D1140': 2, 'D1141': 2, 'D1142': 2, 'D1143': 2, 'D1144': 2, 'D1145': 2, 'D1146': 2, 'D1147': 2, 'D1148': 2, 'D1149': 2, 'D1150': 2, 'D1151': 2, 'D1152': 2, 'D1153': 2, 'D1154': 2, 'D1155': 2, 'D1156': 2, 'D1157': 2, 'D1158': 2, 'D1159': 2, 'D1160': 2, 'D1161': 2, 'D1162': 2, 'D1163': 2, 'D1164': 2, 'D1165': 2, 'D1166': 2, 'D1167': 2, 'D1168': 2, 'D1169': 2, 'D1170': 2, 'D1171': 2, 'D1172': 2, 'D1173': 2, 'D1174': 2, 'D1175': 2, 'D1176': 2, 'D1177': 2, 'D1178': 2, 'D1179': 2, 'D1180': 2, 'D1181': 2, 'D1182': 2, 'D1183': 2, 'D1184': 2, 'D1185': 2, 'D1186': 2, 'D1187': 2, 'D1188': 2, 'D1189': 2, 'D1190': 2, 'D1191': 2, 'D1192': 2, 'D1193': 2, 'D1194': 2, 'D1195': 2, 'D1196': 2, 'D1197': 2, 'D1198': 2, 'D1199': 2, 'D1200': 2, 'D1201': 2, 'D1202': 2, 'D1203': 2, 'D1204': 2, 'D1205': 2, 'D1206': 2, 'D1207': 2, 'D1208': 2, 'D1209': 2, 'D1210': 2, 'D1211': 2, 'D1212': 2, 'D1213': 2, 'D1214': 2, 'D1215': 2, 'D1216': 2, 'D1217': 2, 'D1218': 2, 'D1219': 2, 'D1220': 2, 'D1221': 2, 'D1222': 2, 'D1223': 2, 'D1224': 2, 'D1225': 2, 'D1226': 2, 'D1227': 2, 'D1228': 2, 'D1229': 2, 'D1230': 2, 'D1231': 2, 'D1232': 2, 'D1233': 2, 'D1234': 2, 'D1235': 2, 'D1236': 2, 'D1237': 2, 'D1238': 2, 'D1239': 2, 'D1240': 2, 'D1241': 2, 'D1242': 2, 'D1243': 2, 'D1244': 2, 'D1245': 2, 'D1246': 2, 'D1247': 2, 'D1248': 2, 'D1249': 2, 'D1250': 2, 'D1251': 2, 'D1252': 2, 'D1253': 2, 'D1254': 2, 'D1255': 2, 'D1256': 2, 'D1257': 2, 'D1258': 2, 'D1259': 2, 'D1260': 2, 'D1261': 2, 'D1262': 2, 'D1263': 2, 'D1264': 2, 'D1265': 2, 'D1266': 2, 'D1267': 2, 'D1268': 2, 'D1269': 2, 'D1270': 2, 'D1271': 2, 'D1272': 2, 'D1273': 2, 'D1274': 2, 'D1275': 2, 'D1276': 2, 'D1277': 2, 'D1278': 2, 'D1279': 2, 'D1280': 2, 'D1281': 2, 'D1282': 2, 'D1283': 2, 'D1284': 2, 'D1285': 2, 'D1286': 2, 'D1287': 2, 'D1288': 2, 'D1289': 2, 'D1290': 2, 'D1291': 2, 'D1292': 2, 'D1293': 2, 'D1294': 2, 'D1295': 2, 'D1296': 2, 'D1297': 2, 'D1298': 2, 'D1299': 2, 'D1300': 2, 'D1301': 2, 'D1302': 2, 'D1303': 2, 'D1304': 2, 'D1305': 2, 'D1306': 2, 'D1307': 2, 'D1308': 2, 'D1309': 2, 'D1310': 2, 'D1311': 2, 'D1312': 2, 'D1313': 2, 'D1314': 2, 'D1315': 2, 'D1316': 2, 'D1317': 2, 'D1318': 2, 'D1319': 2, 'D1320': 2, 'D1321': 2, 'D1322': 2, 'D1323': 2, 'D1324': 2, 'D1325': 2, 'D1326': 2, 'D1327': 2, 'D1328': 2, 'D1329': 2, 'D1330': 2, 'D1331': 2, 'D1332': 2, 'D1333': 2, 'D1334': 2, 'D1335': 2, 'D1336': 2, 'D1337': 2, 'D1338': 2, 'D1339': 2, 'D1340': 2, 'D1341': 2, 'D1342': 2, 'D1343': 2, 'D1344': 2, 'D1345': 2, 'D1346': 2, 'D1347': 2, 'D1348': 2, 'D1349': 2, 'D1350': 2, 'D1351': 2, 'D1352': 2, 'D1353': 2, 'D1354': 2, 'D1355': 2, 'D1356': 2, 'D1357': 2, 'D1358': 2, 'D1359': 2, 'D1360': 2, 'D1361': 2, 'D1362': 2, 'D1363': 2, 'D1364': 2, 'D1365': 2, 'D1366': 2, 'D1367': 2, 'D1368': 2, 'D1369': 2, 'D1370': 2, 'D1371': 2, 'D1372': 2, 'D1373': 2, 'D1374': 2, 'D1375': 2, 'D1376': 2, 'D1377': 2, 'D1378': 2, 'D1379': 2, 'D1380': 2, 'D1381': 2, 'D1382': 2, 'D1383': 2, 'D1384': 2, 'D1385': 2, 'D1386': 2, 'D1387': 2, 'D1388': 2, 'D1389': 2, 'D1390': 2, 'D1391': 2, 'D1392': 2, 'D1393': 2, 'D1394': 2, 'D1395': 2, 'D1396': 2, 'D1397': 2, 'D1398': 2, 'D1399': 2, 'D1400': 2, 'D1401': 2, 'D1402': 2, 'D1403': 2, 'D1404': 2, 'D1405': 2, 'D1406': 2, 'D1407': 2, 'D1408': 2, 'D1409': 2, 'D1410': 2, 'D1411': 2, 'D1412': 2, 'D1413': 2, 'D1414': 2, 'D1415': 2, 'D1416': 2, 'D1417': 2, 'D1418': 2, 'D1419': 2, 'D1420': 2, 'D1421': 2, 'D1422': 2, 'D1423': 2, 'D1424': 2, 'D1425': 2, 'D1426': 2, 'D1427': 2, 'D1428': 2, 'D1429': 2, 'D1430': 2, 'D1431': 2, 'D1432': 2, 'D1433': 2, 'D1434': 2, 'D1435': 2, 'D1436': 2, 'D1437': 2, 'D1438': 2, 'D1439': 2, 'D1440': 2, 'D1441': 2, 'D1442': 2, 'D1443': 2, 'D1444': 2, 'D1445': 2, 'D1446': 2, 'D1447': 2, 'D1448': 2, 'D1449': 2, 'D1450': 2, 'D1451': 2, 'D1452': 2, 'D1453': 2, 'D1454': 2, 'D1455': 2, 'D1456': 2, 'D1457': 2, 'D1458': 2, 'D1459': 2, 'D1460': 2, 'D1461': 2, 'D1462': 2, 'D1463': 2, 'D1464': 2, 'D1465': 2, 'D1466': 2, 'D1467': 2, 'D1468': 2, 'D1469': 2, 'D1470': 2, 'D1471': 2, 'D1472': 2, 'D1473': 2, 'D1474': 2, 'D1475': 2, 'D1476': 2, 'D1477': 2, 'D1478': 2, 'D1479': 2, 'D1480': 2, 'D1481': 2, 'D1482': 2, 'D1483': 2, 'D1484': 2, 'D1485': 2, 'D1486': 2, 'D1487': 2, 'D1488': 2, 'D1489': 2, 'D1490': 2, 'D1491': 2, 'D1492': 2, 'D1493': 2, 'D1494': 2, 'D1495': 2, 'D1496': 2, 'D1497': 2, 'D1498': 2, 'D1499': 2, 'D1500': 2, 'D1501': 2, 'D1502': 2, 'D1503': 2, 'D1504': 2, 'D1505': 2, 'D1506': 2, 'D1507': 2, 'D1508': 2, 'D1509': 2, 'D1510': 2, 'D1511': 2, 'D1512': 2, 'D1513': 2, 'D1514': 2, 'D1515': 2, 'D1516': 2, 'D1517': 2, 'D1518': 2, 'D1519': 2, 'D1520': 2, 'D1521': 2, 'D1522': 2, 'D1523': 2, 'D1524': 2, 'D1525': 2, 'D1526': 2, 'D1527': 2, 'D1528': 2, 'D1529': 2, 'D1530': 2, 'D1531': 2, 'D1532': 2, 'D1533': 2, 'D1534': 2, 'D1535': 2, 'D1536': 2, 'D1537': 2, 'D1538': 2, 'D1539': 2, 'D1540': 2, 'D1541': 2, 'D1542': 2, 'D1543': 2, 'D1544': 2, 'D1545': 2, 'D1546': 2, 'D1547': 2, 'D1548': 2, 'D1549': 2, 'D1550': 2, 'D1551': 2, 'D1552': 2, 'D1553': 2, 'D1554': 2, 'D1555': 2, 'D1556': 2, 'D1557': 2, 'D1558': 2, 'D1559': 2, 'D1560': 2, 'D1561': 2, 'D1562': 2, 'D1563': 2, 'D1564': 2, 'D1565': 2, 'D1566': 2, 'D1567': 2, 'D1568': 2, 'D1569': 2, 'D1570': 2, 'D1571': 2, 'D1572': 2, 'D1573': 2, 'D1574': 2, 'D1575': 2, 'D1576': 2, 'D1577': 2, 'D1578': 2, 'D1579': 2, 'D1580': 2, 'D1581': 2, 'D1582': 2, 'D1583': 2, 'D1584': 2, 'D1585': 2, 'D1586': 2, 'D1587': 2, 'D1588': 2, 'D1589': 2, 'D1590': 2, 'D1591': 2, 'D1592': 2, 'D1593': 2, 'D1594': 2, 'D1595': 2, 'D1596': 2, 'D1597': 2, 'D1598': 2, 'D1599': 2, 'D1600': 2, 'D1601': 2, 'D1602': 2, 'D1603': 2, 'D1604': 2, 'D1605': 2, 'D1606': 2, 'D1607': 2, 'D1608': 2, 'D1609': 2, 'D1610': 2, 'D1611': 2, 'D1612': 2, 'D1613': 2, 'D1614': 2, 'D1615': 2, 'D1616': 2, 'D1617': 2, 'D1618': 2, 'D1619': 2, 'D1620': 2, 'D1621': 2, 'D1622': 2, 'D1623': 2, 'D1624': 2, 'D1625': 2, 'D1626': 2, 'D1627': 2, 'D1628': 2, 'D1629': 2, 'D1630': 2, 'D1631': 2, 'D1632': 2, 'D1633': 2, 'D1634': 2, 'D1635': 2, 'D1636': 2, 'D1637': 2, 'D1638': 2, 'D1639': 2, 'D1640': 2, 'D1641': 2, 'D1642': 2, 'D1643': 2, 'D1644': 2, 'D1645': 2, 'D1646': 2, 'D1647': 2, 'D1648': 2, 'D1649': 2, 'D1650': 2, 'D1651': 2, 'D1652': 2, 'D1653': 2, 'D1654': 2, 'D1655': 2, 'D1656': 2, 'D1657': 2, 'D1658': 2, 'D1659': 2, 'D1660': 2, 'D1661': 2, 'D1662': 2, 'D1663': 2, 'D1664': 2, 'D1665': 2, 'D1666': 2, 'D1667': 2, 'D1668': 2, 'D1669': 2, 'D1670': 2, 'D1671': 2, 'D1672': 2, 'D1673': 2, 'D1674': 2, 'D1675': 2, 'D1676': 2, 'D1677': 2, 'D1678': 2, 'D1679': 2, 'D1680': 2, 'D1681': 2, 'D1682': 2, 'D1683': 2, 'D1684': 2, 'D1685': 2, 'D1686': 2, 'D1687': 2, 'D1688': 2, 'D1689': 2, 'D1690': 2, 'D1691': 2, 'D1692': 2, 'D1693': 2, 'D1694': 2, 'D1695': 2, 'D1696': 2, 'D1697': 2, 'D1698': 2, 'D1699': 2, 'D1700': 2, 'D1701': 2, 'D1702': 2, 'D1703': 2, 'D1704': 2, 'D1705': 2, 'D1706': 2, 'D1707': 2, 'D1708': 2, 'D1709': 2, 'D1710': 2, 'D1711': 2, 'D1712': 2, 'D1713': 2, 'D1714': 2, 'D1715': 2, 'D1716': 2, 'D1717': 2, 'D1718': 2, 'D1719': 2, 'D1720': 2, 'D1721': 2, 'D1722': 2, 'D1723': 2, 'D1724': 2, 'D1725': 2, 'D1726': 2, 'D1727': 2, 'D1728': 2, 'D1729': 2, 'D1730': 2, 'D1731': 2, 'D1732': 2, 'D1733': 2, 'D1734': 2, 'D1735': 2, 'D1736': 2, 'D1737': 2, 'D1738': 2, 'D1739': 2, 'D1740': 2, 'D1741': 2, 'D1742': 2, 'D1743': 2, 'D1744': 2, 'D1745': 2, 'D1746': 2, 'D1747': 2, 'D1748': 2, 'D1749': 2, 'D1750': 2, 'D1751': 2, 'D1752': 2, 'D1753': 2, 'D1754': 2, 'D1755': 2, 'D1756': 2, 'D1757': 2, 'D1758': 2, 'D1759': 2, 'D1760': 2, 'D1761': 2, 'D1762': 2, 'D1763': 2, 'D1764': 2, 'D1765': 2, 'D1766': 2, 'D1767': 2, 'D1768': 2, 'D1769': 2, 'D1770': 2, 'D1771': 2, 'D1772': 2, 'D1773': 2, 'D1774': 2, 'D1775': 2}\n",
      "3021\n",
      "{'sex': 2, 'on_thyroxine': 2, 'query_on_thyroxine': 2, 'on_antithyroid_medication': 2, 'sick': 2, 'pregnant': 2, 'thyroid_surgery': 2, 'I131_treatment': 2, 'query_hypothyroid': 2, 'query_hyperthyroid': 2, 'lithium': 2, 'goitre': 2, 'tumor': 2, 'hypopituitary': 2, 'psych': 2, 'TSH_measured': 2, 'T3_measured': 2, 'TT4_measured': 2, 'T4U_measured': 2, 'FTI_measured': 2, 'TBG_measured': 1, 'TBG': 0}\n",
      "7592\n",
      "{'workclass': 8, 'marital-status': 7, 'relationship': 6, 'race': 5, 'sex': 2}\n",
      "146819\n"
     ]
    },
    {
     "name": "stderr",
     "output_type": "stream",
     "text": [
      "/scratch/users/zhongyuan_liang/conda/envs/mdi/lib/python3.10/site-packages/IPython/core/interactiveshell.py:3577: FutureWarning: Starting from Version 0.15.0 `download_splits` will default to ``False`` instead of ``True`` and be independent from `download_data`. To disable this message until version 0.15 explicitly set `download_splits` to a bool.\n",
      "  exec(code_obj, self.user_global_ns, self.user_ns)\n",
      "/scratch/users/zhongyuan_liang/conda/envs/mdi/lib/python3.10/site-packages/openml/tasks/functions.py:442: FutureWarning: Starting from Version 0.15 `download_data`, `download_qualities`, and `download_features_meta_data` will all be ``False`` instead of ``True`` by default to enable lazy loading. To disable this message until version 0.15 explicitly set `download_data`, `download_qualities`, and `download_features_meta_data` to a bool while calling `get_dataset`.\n",
      "  dataset = get_dataset(task.dataset_id, *dataset_args, **get_dataset_kwargs)\n",
      "/scratch/users/zhongyuan_liang/conda/envs/mdi/lib/python3.10/site-packages/openml/tasks/task.py:150: FutureWarning: Starting from Version 0.15 `download_data`, `download_qualities`, and `download_features_meta_data` will all be ``False`` instead of ``True`` by default to enable lazy loading. To disable this message until version 0.15 explicitly set `download_data`, `download_qualities`, and `download_features_meta_data` to a bool while calling `get_dataset`.\n",
      "  return datasets.get_dataset(self.dataset_id)\n",
      "/scratch/users/zhongyuan_liang/conda/envs/mdi/lib/python3.10/site-packages/IPython/core/interactiveshell.py:3577: FutureWarning: Starting from Version 0.15.0 `download_splits` will default to ``False`` instead of ``True`` and be independent from `download_data`. To disable this message until version 0.15 explicitly set `download_splits` to a bool.\n",
      "  exec(code_obj, self.user_global_ns, self.user_ns)\n",
      "/scratch/users/zhongyuan_liang/conda/envs/mdi/lib/python3.10/site-packages/openml/tasks/functions.py:442: FutureWarning: Starting from Version 0.15 `download_data`, `download_qualities`, and `download_features_meta_data` will all be ``False`` instead of ``True`` by default to enable lazy loading. To disable this message until version 0.15 explicitly set `download_data`, `download_qualities`, and `download_features_meta_data` to a bool while calling `get_dataset`.\n",
      "  dataset = get_dataset(task.dataset_id, *dataset_args, **get_dataset_kwargs)\n",
      "/scratch/users/zhongyuan_liang/conda/envs/mdi/lib/python3.10/site-packages/openml/tasks/task.py:150: FutureWarning: Starting from Version 0.15 `download_data`, `download_qualities`, and `download_features_meta_data` will all be ``False`` instead of ``True`` by default to enable lazy loading. To disable this message until version 0.15 explicitly set `download_data`, `download_qualities`, and `download_features_meta_data` to a bool while calling `get_dataset`.\n",
      "  return datasets.get_dataset(self.dataset_id)\n",
      "/scratch/users/zhongyuan_liang/conda/envs/mdi/lib/python3.10/site-packages/IPython/core/interactiveshell.py:3577: FutureWarning: Starting from Version 0.15.0 `download_splits` will default to ``False`` instead of ``True`` and be independent from `download_data`. To disable this message until version 0.15 explicitly set `download_splits` to a bool.\n",
      "  exec(code_obj, self.user_global_ns, self.user_ns)\n",
      "/scratch/users/zhongyuan_liang/conda/envs/mdi/lib/python3.10/site-packages/openml/tasks/functions.py:442: FutureWarning: Starting from Version 0.15 `download_data`, `download_qualities`, and `download_features_meta_data` will all be ``False`` instead of ``True`` by default to enable lazy loading. To disable this message until version 0.15 explicitly set `download_data`, `download_qualities`, and `download_features_meta_data` to a bool while calling `get_dataset`.\n",
      "  dataset = get_dataset(task.dataset_id, *dataset_args, **get_dataset_kwargs)\n",
      "/scratch/users/zhongyuan_liang/conda/envs/mdi/lib/python3.10/site-packages/openml/tasks/task.py:150: FutureWarning: Starting from Version 0.15 `download_data`, `download_qualities`, and `download_features_meta_data` will all be ``False`` instead of ``True`` by default to enable lazy loading. To disable this message until version 0.15 explicitly set `download_data`, `download_qualities`, and `download_features_meta_data` to a bool while calling `get_dataset`.\n",
      "  return datasets.get_dataset(self.dataset_id)\n",
      "/scratch/users/zhongyuan_liang/conda/envs/mdi/lib/python3.10/site-packages/IPython/core/interactiveshell.py:3577: FutureWarning: Starting from Version 0.15.0 `download_splits` will default to ``False`` instead of ``True`` and be independent from `download_data`. To disable this message until version 0.15 explicitly set `download_splits` to a bool.\n",
      "  exec(code_obj, self.user_global_ns, self.user_ns)\n",
      "/scratch/users/zhongyuan_liang/conda/envs/mdi/lib/python3.10/site-packages/openml/tasks/functions.py:442: FutureWarning: Starting from Version 0.15 `download_data`, `download_qualities`, and `download_features_meta_data` will all be ``False`` instead of ``True`` by default to enable lazy loading. To disable this message until version 0.15 explicitly set `download_data`, `download_qualities`, and `download_features_meta_data` to a bool while calling `get_dataset`.\n",
      "  dataset = get_dataset(task.dataset_id, *dataset_args, **get_dataset_kwargs)\n",
      "/scratch/users/zhongyuan_liang/conda/envs/mdi/lib/python3.10/site-packages/openml/tasks/task.py:150: FutureWarning: Starting from Version 0.15 `download_data`, `download_qualities`, and `download_features_meta_data` will all be ``False`` instead of ``True`` by default to enable lazy loading. To disable this message until version 0.15 explicitly set `download_data`, `download_qualities`, and `download_features_meta_data` to a bool while calling `get_dataset`.\n",
      "  return datasets.get_dataset(self.dataset_id)\n",
      "/scratch/users/zhongyuan_liang/conda/envs/mdi/lib/python3.10/site-packages/IPython/core/interactiveshell.py:3577: FutureWarning: Starting from Version 0.15.0 `download_splits` will default to ``False`` instead of ``True`` and be independent from `download_data`. To disable this message until version 0.15 explicitly set `download_splits` to a bool.\n",
      "  exec(code_obj, self.user_global_ns, self.user_ns)\n",
      "/scratch/users/zhongyuan_liang/conda/envs/mdi/lib/python3.10/site-packages/openml/tasks/functions.py:442: FutureWarning: Starting from Version 0.15 `download_data`, `download_qualities`, and `download_features_meta_data` will all be ``False`` instead of ``True`` by default to enable lazy loading. To disable this message until version 0.15 explicitly set `download_data`, `download_qualities`, and `download_features_meta_data` to a bool while calling `get_dataset`.\n",
      "  dataset = get_dataset(task.dataset_id, *dataset_args, **get_dataset_kwargs)\n",
      "/scratch/users/zhongyuan_liang/conda/envs/mdi/lib/python3.10/site-packages/openml/tasks/task.py:150: FutureWarning: Starting from Version 0.15 `download_data`, `download_qualities`, and `download_features_meta_data` will all be ``False`` instead of ``True`` by default to enable lazy loading. To disable this message until version 0.15 explicitly set `download_data`, `download_qualities`, and `download_features_meta_data` to a bool while calling `get_dataset`.\n",
      "  return datasets.get_dataset(self.dataset_id)\n",
      "/scratch/users/zhongyuan_liang/conda/envs/mdi/lib/python3.10/site-packages/IPython/core/interactiveshell.py:3577: FutureWarning: Starting from Version 0.15.0 `download_splits` will default to ``False`` instead of ``True`` and be independent from `download_data`. To disable this message until version 0.15 explicitly set `download_splits` to a bool.\n",
      "  exec(code_obj, self.user_global_ns, self.user_ns)\n",
      "/scratch/users/zhongyuan_liang/conda/envs/mdi/lib/python3.10/site-packages/openml/tasks/functions.py:442: FutureWarning: Starting from Version 0.15 `download_data`, `download_qualities`, and `download_features_meta_data` will all be ``False`` instead of ``True`` by default to enable lazy loading. To disable this message until version 0.15 explicitly set `download_data`, `download_qualities`, and `download_features_meta_data` to a bool while calling `get_dataset`.\n",
      "  dataset = get_dataset(task.dataset_id, *dataset_args, **get_dataset_kwargs)\n",
      "/scratch/users/zhongyuan_liang/conda/envs/mdi/lib/python3.10/site-packages/openml/tasks/task.py:150: FutureWarning: Starting from Version 0.15 `download_data`, `download_qualities`, and `download_features_meta_data` will all be ``False`` instead of ``True`` by default to enable lazy loading. To disable this message until version 0.15 explicitly set `download_data`, `download_qualities`, and `download_features_meta_data` to a bool while calling `get_dataset`.\n",
      "  return datasets.get_dataset(self.dataset_id)\n",
      "/scratch/users/zhongyuan_liang/conda/envs/mdi/lib/python3.10/site-packages/IPython/core/interactiveshell.py:3577: FutureWarning: Starting from Version 0.15.0 `download_splits` will default to ``False`` instead of ``True`` and be independent from `download_data`. To disable this message until version 0.15 explicitly set `download_splits` to a bool.\n",
      "  exec(code_obj, self.user_global_ns, self.user_ns)\n",
      "/scratch/users/zhongyuan_liang/conda/envs/mdi/lib/python3.10/site-packages/openml/tasks/functions.py:442: FutureWarning: Starting from Version 0.15 `download_data`, `download_qualities`, and `download_features_meta_data` will all be ``False`` instead of ``True`` by default to enable lazy loading. To disable this message until version 0.15 explicitly set `download_data`, `download_qualities`, and `download_features_meta_data` to a bool while calling `get_dataset`.\n",
      "  dataset = get_dataset(task.dataset_id, *dataset_args, **get_dataset_kwargs)\n",
      "/scratch/users/zhongyuan_liang/conda/envs/mdi/lib/python3.10/site-packages/openml/tasks/task.py:150: FutureWarning: Starting from Version 0.15 `download_data`, `download_qualities`, and `download_features_meta_data` will all be ``False`` instead of ``True`` by default to enable lazy loading. To disable this message until version 0.15 explicitly set `download_data`, `download_qualities`, and `download_features_meta_data` to a bool while calling `get_dataset`.\n",
      "  return datasets.get_dataset(self.dataset_id)\n"
     ]
    },
    {
     "name": "stdout",
     "output_type": "stream",
     "text": [
      "{}\n",
      "14954\n",
      "{'grain_screened': 2, 'ink_color': 1, 'proof_on_ctd_ink': 2, 'blade_mfg': 2, 'cylinder_division': 1, 'paper_type': 3, 'ink_type': 3, 'direct_steam': 2, 'solvent_type': 3, 'type_on_cylinder': 2, 'press_type': 4, 'press': 8, 'unit_number': 7, 'cylinder_size': 3, 'paper_mill_location': 5, 'plating_tank': 2, 'ESA_Amperage': 4, 'current_density': 7}\n",
      "167141\n",
      "{'area_code': 3, 'international_plan': 2, 'voice_mail_plan': 2}\n",
      "167120\n",
      "{}\n",
      "167125\n",
      "{'local': 2, 'url.images.buttons': 2, 'url.likesbooks.com': 2, 'url.www.slake.com': 2, 'url.hydrogeologist': 2, 'url.oso': 2, 'url.media': 2, 'url.peace.images': 2, 'url.blipverts': 2, 'url.tkaine.kats': 2, 'url.labyrinth': 2, 'url.advertising.blipverts': 2, 'url.images.oso': 2, 'url.area51.corridor': 2, 'url.ran.gifs': 2, 'url.express.scripts.com': 2, 'url.off': 2, 'url.cnet': 2, 'url.time.1998': 2, 'url.josefina3': 2, 'url.truluck.com': 2, 'url.clawnext.gif': 2, 'url.autopen.com': 2, 'url.tvgen.com': 2, 'url.pixs': 2, 'url.heartland.5309': 2, 'url.meadows.9196': 2, 'url.blue': 2, 'url.ad.gif': 2, 'url.area51': 2, 'url.www.internauts.ca': 2, 'url.afn.org': 2, 'url.ran.org': 2, 'url.shareware.com': 2, 'url.baons.images': 2, 'url.area51.labyrinth': 2, 'url.pics': 2, 'url.image.navigate': 2, 'url.pool.images': 2, 'url.carousel.org': 2, 'url.members.accessus.net': 2, 'url.cmp.flowsoft010': 2, 'url.smallb.gif': 2, 'url.www.FlowSoft.com': 2, 'url.kandinsky': 2, 'url.csuhayward.edu': 2, 'url.www.yahoo.co.uk': 2, 'url.ibitexas.com': 2, 'url.www.haestad.com': 2, 'url.antiwar.com': 2, 'url.www.monmouth.com': 2, 'url.infoserver.etl.vt.edu': 2, 'url.geoguideii.tour': 2, 'url.heartland.pointe': 2, 'url.romancebooks.pix': 2, 'url.468x60': 2, 'url.ads.switchboard.com': 2, 'url.keith.dumble': 2, 'url.cqi.com': 2, 'url.images.ixfolder': 2, 'url.chat.b': 2, 'url.images.geoguideii': 2, 'url.preferences.com': 2, 'url.icsi.com': 2, 'url.pacific.net.sg': 2, 'url.monmouth.com': 2, 'url.wired.com': 2, 'url.go2net': 2, 'url.smiley.gif': 2, 'url.navigate.b': 2, 'url.sunsite.unc.edu': 2, 'url.www.pacific.net.sg': 2, 'url.home.gif': 2, 'url.library': 2, 'url.puc.edu': 2, 'url.internauts.ca': 2, 'url.www.worlddrugstore.com': 2, 'url.www.ibitexas.com': 2, 'url.ucsd.edu': 2, 'url.pitcairn.smallb': 2, 'url.kats': 2, 'url.cjackson.kandinsky': 2, 'url.tkaine.rings': 2, 'url.any.time': 2, 'url.FlowSoft.com': 2, 'url.geoguideii.nh': 2, 'url.charlie': 2, 'url.heartland.meadows': 2, 'url.home.netscape.com': 2, 'url.9439.butt2': 2, 'url.catringn.gif': 2, 'url.martnet': 2, 'url.doubleclick.net': 2, 'url.lycos.de': 2, 'url.catringn': 2, 'url.catring1': 2, 'url.fools.pixs': 2, 'url.logos': 2, 'url.private': 2, 'url.ng.spacedesc': 2, 'url.larx.com': 2, 'url.site': 2, 'url.pointe.1154': 2, 'url.banners': 2, 'url.pixs.smiley': 2, 'url.www.123greetings.com': 2, 'url.www.inwap.com': 2, 'url.cjackson': 2, 'url.labyrinth.9439': 2, 'url.generated.images': 2, 'url.image.ng': 2, 'url.lolnad.private': 2, 'url.library.pitcairn': 2, 'url.www.mei.co.jp': 2, 'url.april': 2, 'url.derived': 2, 'url.smiley': 2, 'url.home': 2, 'url.jsd': 2, 'url.sonic.net': 2, 'url.send.b': 2, 'url.website.ora.com': 2, 'url.pawbutton.gif': 2, 'url.victoria.pharmacy': 2, 'url.keith': 2, 'url.pages': 2, 'url.worlddrugstore.com': 2, 'url.geoguideii.email': 2, 'url.www.icgnet.com': 2, 'url.forum': 2, 'url.www.afn.org': 2, 'url.time': 2, 'url.www.ran.org': 2, 'url.main': 2, 'url.members.keith': 2, 'url.geoguideii.pages': 2, 'url.banner': 2, 'url.stinky.gra': 2, 'url.tkaine.buttons': 2, 'url.victoria': 2, 'url.kbell': 2, 'url.www.truluck.com': 2, 'url.img': 2, 'url.pics.cats': 2, 'url.alley': 2, 'url.claw1': 2, 'url.pharmacy.gif': 2, 'url.www.autopen.com': 2, 'url.images.img': 2, 'url.fbox.vt.edu': 2, 'url.unc.edu': 2, 'url.ics': 2, 'url.times': 2, 'url.forums': 2, 'url.chat': 2, 'url.images.go2net.com': 2, 'url.users.aol.com': 2, 'url.malek': 2, 'url.jsd.how': 2, 'url.www.cqi.com': 2, 'url.advertising.graphics': 2, 'url.pawbutton': 2, 'url.pictures': 2, 'url.grouper.com': 2, 'url.ads.media': 2, 'url.www.martnet.com': 2, 'url.set.butt': 2, 'url.how': 2, 'url.www.wednet.com': 2, 'url.www.globec.com.au': 2, 'url.athens': 2, 'url.info': 2, 'url.www.ireland.today.ie': 2, 'url.grn.bull': 2, 'url.sjsu.edu': 2, 'url.www.antiwar.com': 2, 'url.www.puc.edu': 2, 'url.sponsor': 2, 'url.www.news.com': 2, 'url.flowsoft010': 2, 'url.memberbanners': 2, 'url.red.ball': 2, 'url.ads.msn.com': 2, 'url.icons': 2, 'url.images': 2, 'url.access.ch': 2, 'url.irish.times': 2, 'url.media.images': 2, 'url.www.adamspharmacy.com': 2, 'url.geocities.com': 2, 'url.www.uk.lycos.de': 2, 'url.copymat.com': 2, 'url.hem1.passagen.se': 2, 'url.meadows': 2, 'url.grn': 2, 'url.gra': 2, 'url.vt.edu': 2, 'url.www.express.scripts.com': 2, 'url.imgs': 2, 'url.personal': 2, 'url.mindlink.net': 2, 'url.send': 2, 'url.pages.b': 2, 'url.accessus.net': 2, 'url.www.finest.tm.fr': 2, 'url.geoguideii.search': 2, 'url.polypkem': 2, 'url.fools': 2, 'url.www.larx.com': 2, 'url.marketplace': 2, 'url.wco.com': 2, 'url.off.gif': 2, 'url.tkaine.bars': 2, 'url.icgnet.com': 2, 'url.www.autotown.com': 2, 'url.generated': 2, 'url.9196.pawbutton': 2, 'url.geoguideii.chat': 2, 'url.www.vrn.de': 2, 'url.claw1.gif': 2, 'url.theinternetadvantage.com': 2, 'url.runofsite': 2, 'url.romancebooks': 2, 'url.foxy.net': 2, 'url.francois': 2, 'url.links': 2, 'url.athens.forum': 2, 'url.autotown.com': 2, 'url.logo': 2, 'url.members': 2, 'url.auto': 2, 'url.afn47757': 2, 'url.gifs': 2, 'url.esi': 2, 'url.hollywood': 2, 'url.forum.8078': 2, 'url.dept': 2, 'url.adamspharmacy.com': 2, 'url.valley': 2, 'url.www.pacificrim.net': 2, 'url.about': 2, 'url.www.likesbooks.com': 2, 'url.bossintl.com': 2, 'url.images.home': 2, 'url.wednet.com': 2, 'url.news.com': 2, 'url.arvann.images': 2, 'url.users': 2, 'url.netscape.com': 2, 'url.athens.8774': 2, 'url.pictures.gc': 2, 'url.butt': 2, 'url.e.gif': 2, 'url.sunsetstrip.alley': 2, 'url.geoguideii.send': 2, 'url.catring1.gif': 2, 'url.ball.gif': 2, 'url.bull': 2, 'url.paul.spu.edu': 2, 'url.rank': 2, 'url.2meta.com': 2, 'url.w.gif': 2, 'url.aol.com': 2, 'url.lg.gif': 2, 'url.irish.times.com': 2, 'url.irish': 2, 'url.ad.doubleclick.net': 2, 'url.ad.preferences.com': 2, 'url.bars': 2, 'url.forums.b': 2, 'url.gc.icon': 2, 'url.www.geocities.com': 2, 'url.www.carousel.org': 2, 'url.ball': 2, 'url.spu.edu': 2, 'url.com': 2, 'url.cnm': 2, 'url.htm.images': 2, 'url.htm.cmp': 2, 'url.cmp': 2, 'url.link.pics': 2, 'url.mindspring.com': 2, 'url.geoguideii.logo': 2, 'url.psu.edu': 2, 'url.go2net.ads': 2, 'url.www.grouper.com': 2, 'url.butt2': 2, 'url.cat': 2, 'url.www.dreamn.com': 2, 'url.vbtn.gif': 2, 'url.switchboard.com': 2, 'url.logo.b': 2, 'url.assets.images': 2, 'url.martnet.com': 2, 'url.buttons': 2, 'url.thejeep.com': 2, 'url.auto.generated': 2, 'url.search.b': 2, 'url.search': 2, 'url.pharmacy': 2, 'url.assets.auto': 2, 'url.static.wired.com': 2, 'url.cats': 2, 'url.bull.gif': 2, 'url.memberbanners.live': 2, 'url.pitcairn': 2, 'url.www.access.ch': 2, 'url.adv.images': 2, 'url.navigate': 2, 'url.runofsite.any': 2, 'url.dejay': 2, 'url.bishop': 2, 'url.email.b': 2, 'url.www.mcs.csuhayward.edu': 2, 'url.bin': 2, 'url.paris': 2, 'url.1154.graypaw': 2, 'url.stinky': 2, 'url.img.ads': 2, 'url.bds': 2, 'url.www.wco.com': 2, 'url.esi.image': 2, 'url.vrn.de': 2, 'url.www.toyotaofroswell.com': 2, 'url.www.copymat.com': 2, 'url.www.psnw.com': 2, 'url.go2net.com': 2, 'url.advertising': 2, 'url.slake.com': 2, 'url.www.theinternetadvantage.com': 2, 'url.baons': 2, 'url.geoguideii.rank': 2, 'url.butt2.gif': 2, 'url.tkaine': 2, 'url.art': 2, 'url.lovisa1': 2, 'url.pool': 2, 'url.valley.2647': 2, 'url.any': 2, 'url.corridor': 2, 'url.top': 2, 'url.rank.b': 2, 'url.pacificrim.net': 2, 'url.image': 2, 'url.heartland.valley': 2, 'url.tii': 2, 'url.123greetings.com': 2, 'url.adv': 2, 'url.ads': 2, 'url.hydrogeologist.imgs': 2, 'url.smallb': 2, 'url.members.tripod.com': 2, 'url.www.shareware.com': 2, 'url.images.ads': 2, 'url.banner.gif': 2, 'url.vbtn': 2, 'url.globec.com.au': 2, 'url.www.news.observer.com': 2, 'url.pointe': 2, 'url.mandypaul': 2, 'url.bds.s': 2, 'url.www.ems.psu.edu': 2, 'url.valley.2539': 2, 'url.members.aol.com': 2, 'url.yahoo.co.uk': 2, 'url.malek.small': 2, 'url.button': 2, 'url.msn.com': 2, 'url.graypaw.gif': 2, 'url.live': 2, 'url.haestad.com': 2, 'url.sanjosesabercats.com': 2, 'url.icon.gif': 2, 'url.april.fools': 2, 'url.assets': 2, 'url.set': 2, 'url.link': 2, 'url.wc': 2, 'url.uk': 2, 'url.sj': 2, 'url.images.set': 2, 'url.www.bossintl.com': 2, 'url.nh': 2, 'url.ng': 2, 'url.counter': 2, 'url.lg': 2, 'url.spacedesc': 2, 'url.bishop.red': 2, 'url.it': 2, 'url.ie': 2, 'url.rings': 2, 'url.gc': 2, 'url.peace': 2, 'url.dreamn.com': 2, 'url.ar': 2, 'url.ad': 2, 'url.thumb': 2, 'url.clawnext': 2, 'url.dumble': 2, 'url.kandinsky.t': 2, 'url.email': 2, 'url.martnet.images': 2, 'url.uk.gif': 2, 'url.red': 2, 'url.geoguideii.forums': 2, 'url.www.2meta.com': 2, 'url.ran': 2, 'url.ukonline.co.uk': 2, 'url.passagen.se': 2, 'url.psnw.com': 2, 'url.how.htm': 2, 'url.tm.fr': 2, 'url.sunsetstrip': 2, 'url.ora.com': 2, 'url.logo.gif': 2, 'url.marketing': 2, 'url.toyotaofroswell.com': 2, 'url.heartland': 2, 'url.ixfolder.gif': 2, 'url.mcet.edu': 2, 'url.enchantedforest': 2, 'url.alley.6750': 2, 'url.news.observer.com': 2, 'url.ireland.today.ie': 2, 'url.times.graphics': 2, 'url.madamecleo': 2, 'url.b.gif': 2, 'url.www.irish.times.com': 2, 'url.tripod.com': 2, 'url.ad.icons': 2, 'url.button.gif': 2, 'url.graypaw': 2, 'url.excite.com': 2, 'url.web.ukonline.co.uk': 2, 'url.polypkem.grn': 2, 'url.gort.ucsd.edu': 2, 'url.lolnad': 2, 'url.graphics.ad': 2, 'url.icon': 2, 'url.falcon.sonic.net': 2, 'url.picts': 2, 'url.phoenix.mcet.edu': 2, 'url.pix.b': 2, 'url.www.icsi.com': 2, 'url.ixfolder': 2, 'url.inwap.com': 2, 'url.www.cob.sjsu.edu': 2, 'url.pix': 2, 'url.www.thejeep.com': 2, 'url.tour': 2, 'url.www.sanjosesabercats.com': 2, 'url.mei.co.jp': 2, 'url.geoguideii': 2, 'url.small': 2, 'url.graphics': 2, 'url.kbell.charlie': 2, 'url.zueri.ch': 2, 'url.arvann': 2, 'origurl.labyrinth': 2, 'origurl.puc.edu': 2, 'origurl.charlie.charlie': 2, 'origurl.hevern.psychref': 2, 'origurl.and': 2, 'origurl.pterry.htm': 2, 'origurl.bishop': 2, 'origurl.ora.com': 2, 'origurl.www.nyx.net': 2, 'origurl.www.yahoo.co.uk': 2, 'origurl.www.truluck.com': 2, 'origurl.target..ion': 2, 'origurl.tkaine.sydkat': 2, 'origurl.meadows.9196': 2, 'origurl.top': 2, 'origurl.members.xoom.com': 2, 'origurl.0.rpp': 2, 'origurl.www.thriveonline.com': 2, 'origurl.adamspharmacy.com': 2, 'origurl.icsi.com': 2, 'origurl.tkaine.stvkat': 2, 'origurl.shareware.com': 2, 'origurl.e.html': 2, 'origurl.www.123greetings.com': 2, 'origurl.lofts.7119': 2, 'origurl.likesbooks.com': 2, 'origurl.gort.ucsd.edu': 2, 'origurl.users.aol.com': 2, 'origurl.www.innotts.co.uk': 2, 'origurl.roll.com': 2, 'origurl.web.ukonline.co.uk': 2, 'origurl.events': 2, 'origurl.www.2meta.com': 2, 'origurl.chuck.html': 2, 'origurl.paris': 2, 'origurl.chapel': 2, 'origurl.tii': 2, 'origurl.how.title': 2, 'origurl.www.news.observer.com': 2, 'origurl.alley': 2, 'origurl.april.fools': 2, 'origurl.carousel': 2, 'origurl.www.haestad.com': 2, 'origurl.title.html': 2, 'origurl.lemoyne.edu': 2, 'origurl.plains.5257': 2, 'origurl.psychref': 2, 'origurl.jun': 2, 'origurl.www.interchg.ubc.ca': 2, 'origurl.ukonline.co.uk': 2, 'origurl.www.lycos.co.uk': 2, 'origurl.lolnad.private': 2, 'origurl.ibitexas.com': 2, 'origurl.wco.com': 2, 'origurl.jsd': 2, 'origurl.www.rock.n.roll.com': 2, 'origurl.antiwar.com': 2, 'origurl.target': 2, 'origurl.phoenix.mcet.edu': 2, 'origurl.index': 2, 'origurl.1154.index': 2, 'origurl.pharmacy': 2, 'origurl.coltrane': 2, 'origurl.website.ora.com': 2, 'origurl.index.htm': 2, 'origurl.dept': 2, 'origurl.area51.labyrinth': 2, 'origurl.irish.times.com': 2, 'origurl.mandypaul': 2, 'origurl.pointe': 2, 'origurl.plato.htm': 2, 'origurl.arvann': 2, 'origurl..ion.0': 2, 'origurl.chapel.safehaven': 2, 'origurl.worldvillage.com': 2, 'origurl.nf.htm': 2, 'origurl.www.martnet.com': 2, 'origurl.hem1.passagen.se': 2, 'origurl.worlddrugstore.com': 2, 'origurl.www.globec.com.au': 2, 'origurl.athens.8774': 2, 'origurl.times.paper': 2, 'origurl.actup': 2, 'origurl.inwap': 2, 'origurl.main': 2, 'origurl.www.larx.com': 2, 'origurl.dumble.contents': 2, 'origurl.geocities.com': 2, 'origurl.4301.misfits2': 2, 'origurl.kattsida': 2, 'origurl.members.aol.com': 2, 'origurl.spu.edu': 2, 'origurl.sunsite.unc.edu': 2, 'origurl.valley.2647': 2, 'origurl.josefina3': 2, 'origurl.tkaine': 2, 'origurl.bonchin.cat': 2, 'origurl.chopin.htm': 2, 'origurl.punkie': 2, 'origurl.ubc.ca': 2, 'origurl.links.nf': 2, 'origurl.misfits2': 2, 'origurl.area51.vault': 2, 'origurl.kitty': 2, 'origurl.plato': 2, 'origurl.hollywood.7735': 2, 'origurl.link': 2, 'origurl.www.monmouth.com': 2, 'origurl.hist': 2, 'origurl.members.tripod.com': 2, 'origurl.www.ibitexas.com': 2, 'origurl.cgidir.dll': 2, 'origurl.heartland': 2, 'origurl.pages.catscats': 2, 'origurl.tkaine.linda': 2, 'origurl.crawler': 2, 'origurl.paul.spu.edu': 2, 'origurl.bishop.pterry': 2, 'origurl.carousel.org': 2, 'origurl.romance': 2, 'origurl.nyx.net': 2, 'origurl.hollywood': 2, 'origurl.simonc': 2, 'origurl.sox': 2, 'origurl.www.cob.sjsu.edu': 2, 'origurl.timeout.5': 2, 'origurl.leonora': 2, 'origurl.fh.rpl.de': 2, 'origurl.vt.edu': 2, 'origurl.ucsd.edu': 2, 'origurl.www.carousel.org': 2, 'origurl.www.antiwar.com': 2, 'origurl.FlowSoft.com': 2, 'origurl.kbell.charlie': 2, 'origurl.www.likesbooks.com': 2, 'origurl.labyrinth.9439': 2, 'origurl.www.icsi.com': 2, 'origurl.events.aprilfoolsday': 2, 'origurl.tii.tii': 2, 'origurl.athens.forum': 2, 'origurl.library': 2, 'origurl.valley': 2, 'origurl.ics.ikenobo': 2, 'origurl.unc.edu': 2, 'origurl.kandin': 2, 'origurl.bordeaux': 2, 'origurl.charlie': 2, 'origurl.6750.paws': 2, 'origurl.cccats': 2, 'origurl.linda.htm': 2, 'origurl.2647.coltrane': 2, 'origurl.vault.3440': 2, 'origurl.victoria.pharmacy': 2, 'origurl.wv': 2, 'origurl.kandin.html': 2, 'origurl.soho.lofts': 2, 'origurl.sunsetstrip.alley': 2, 'origurl.slake.com': 2, 'origurl.autotown.com': 2, 'origurl.www.sanjosesabercats.com': 2, 'origurl.infoserver.etl.vt.edu': 2, 'origurl.kushmerick': 2, 'origurl.www.toyotaofroswell.com': 2, 'origurl.turbo': 2, 'origurl.sw': 2, 'origurl.hills': 2, 'origurl.st': 2, 'origurl.mogwhi': 2, 'origurl.sj': 2, 'origurl.pointe.1154': 2, 'origurl.monmouth.com': 2, 'origurl.mei.co.jp': 2, 'origurl.sonic.net': 2, 'origurl.safehaven.index': 2, 'origurl.simonc.cybermog': 2, 'origurl.messier': 2, 'origurl.cybercats': 2, 'origurl.search': 2, 'origurl.heartland.5309': 2, 'origurl.psnw.com': 2, 'origurl.keith.dumble': 2, 'origurl.links': 2, 'origurl.nav': 2, 'origurl.nf': 2, 'origurl.sunsetstrip': 2, 'origurl.kandinsky': 2, 'origurl.meadows.3727': 2, 'origurl.www.afn.org': 2, 'origurl.southbeach': 2, 'origurl.pacific.net.sg': 2, 'origurl.heartland.pointe': 2, 'origurl.valley.2539': 2, 'origurl.catscats.html': 2, 'origurl.horn.html': 2, 'origurl.area51': 2, 'origurl.pages': 2, 'origurl.chopin': 2, 'origurl.it': 2, 'origurl.bonchin': 2, 'origurl.www.worldvillage.com': 2, 'origurl.00.html': 2, 'origurl.vrn.de': 2, 'origurl.home.netscape.com': 2, 'origurl.simstory.html': 2, 'origurl.biopic.htm': 2, 'origurl.dll': 2, 'origurl.cmeese.malibu': 2, 'origurl.ics': 2, 'origurl.linda': 2, 'origurl.fr': 2, 'origurl.private.biopic': 2, 'origurl.corridor.4590': 2, 'origurl.leonora.html': 2, 'origurl.dejay': 2, 'origurl.aprilfoolsday': 2, 'origurl.fools': 2, 'origurl.biopic': 2, 'origurl.lofts': 2, 'origurl.heartland.plains': 2, 'origurl.passagen.se': 2, 'origurl.djang': 2, 'origurl.5257.timstory': 2, 'origurl.5.hpe': 2, 'origurl.cybermog.htm': 2, 'origurl.area51.corridor': 2, 'origurl.yosemite.4301': 2, 'origurl.wosc.html': 2, 'origurl.rpp': 2, 'origurl.personal': 2, 'origurl.express.scripts.com': 2, 'origurl.madamecleo': 2, 'origurl.malibu': 2, 'origurl.sjsu.edu': 2, 'origurl.news': 2, 'origurl.www.ems.psu.edu': 2, 'origurl.7735.mcp': 2, 'origurl.sox.htm': 2, 'origurl.mcet.edu': 2, 'origurl.punkie.htm': 2, 'origurl.midnite': 2, 'origurl.foxy.net': 2, 'origurl.maple.lemoyne.edu': 2, 'origurl.times': 2, 'origurl.news.com': 2, 'origurl.4010.index': 2, 'origurl.www.slake.com': 2, 'origurl.larx.com': 2, 'origurl.www.FlowSoft.com': 2, 'origurl.paper': 2, 'origurl.members.keith': 2, 'origurl.paper.1998': 2, 'origurl.inwap.com': 2, 'origurl.www.tkz.fh.rpl.de': 2, 'origurl.members.accessus.net': 2, 'origurl.kattsida.html': 2, 'origurl.cjackson.kandinsky': 2, 'origurl.main.htm': 2, 'origurl.www.mei.co.jp': 2, 'origurl.www.adamspharmacy.com': 2, 'origurl.20.timeout': 2, 'origurl.corridor.5139': 2, 'origurl.falcon.sonic.net': 2, 'origurl.lycos.co.uk': 2, 'origurl.ran': 2, 'origurl.afn47757.midnite': 2, 'origurl.www.vrn.de': 2, 'origurl.5309.index': 2, 'origurl.stvkat.htm': 2, 'origurl.hpe': 2, 'origurl.wv.square': 2, 'origurl.keith': 2, 'origurl.www.pacificrim.net': 2, 'origurl.how': 2, 'origurl.www.metacrawler.com': 2, 'origurl.pacificrim.net': 2, 'origurl.5257.simstory': 2, 'origurl.cmeese': 2, 'origurl.metacrawler.com': 2, 'origurl.catscats': 2, 'origurl.wosc': 2, 'origurl.xoom.com': 2, 'origurl.innotts.co.uk': 2, 'origurl.paris.3963': 2, 'origurl.general.kushmerick': 2, 'origurl.mindlink.net': 2, 'origurl.cybermog': 2, 'origurl.kerouac.htm': 2, 'origurl.internauts.ca': 2, 'origurl.mcp': 2, 'origurl.martnet.com': 2, 'origurl.toyotaofroswell.com': 2, 'origurl.msheryl': 2, 'origurl.vault': 2, 'origurl.malibu.html': 2, 'origurl.jsd.how': 2, 'origurl.polypkem.index': 2, 'origurl.corridor': 2, 'origurl.zoe.html': 2, 'origurl.afn.org': 2, 'origurl.theinternetadvantage.com': 2, 'origurl.coltrane.htm': 2, 'origurl.timeout': 2, 'origurl.8078.home': 2, 'origurl.turbo.html': 2, 'origurl.heartland.meadows': 2, 'origurl.news.observer.com': 2, 'origurl.www.psnw.com': 2, 'origurl.contents.html': 2, 'origurl.tkaine.mogwhi': 2, 'origurl.stanford.edu': 2, 'origurl.www.bossintl.com': 2, 'origurl.general': 2, 'origurl.switchboard.com': 2, 'origurl.cgidir': 2, 'origurl.access.ch': 2, 'origurl.sydkat.htm': 2, 'origurl.hotsprings': 2, 'origurl.baons': 2, 'origurl.peace': 2, 'origurl.2647.chopin': 2, 'origurl.www.worlddrugstore.com': 2, 'origurl.actup.index': 2, 'origurl.bin.cgidir': 2, 'origurl.www.internauts.ca': 2, 'origurl.library.pitcairn': 2, 'origurl.inwap.cats': 2, 'origurl.lolnad': 2, 'origurl.pterry': 2, 'origurl.lovisa1': 2, 'origurl.www.dreamn.com': 2, 'origurl.polypkem': 2, 'origurl.tm.fr': 2, 'origurl.athens': 2, 'origurl.copymat.com': 2, 'origurl.soho': 2, 'origurl.victoria': 2, 'origurl.bossintl.com': 2, 'origurl.westhollywood': 2, 'origurl.private': 2, 'origurl.cat': 2, 'origurl.cats.htm': 2, 'origurl.malek.kandin': 2, 'origurl.yosemite': 2, 'origurl.www.inwap.com': 2, 'origurl.afn47757.plato': 2, 'origurl.timstory': 2, 'origurl.excite.com': 2, 'origurl.forum.8078': 2, 'origurl.cats': 2, 'origurl.kitty.and': 2, 'origurl.dreamn.com': 2, 'origurl.irish.times': 2, 'origurl.crawler.general': 2, 'origurl.bordeaux.actup': 2, 'origurl.hotsprings.4527': 2, 'origurl.kbell': 2, 'origurl.stinky.cats': 2, 'origurl.plains': 2, 'origurl.netscape.com': 2, 'origurl.csuhayward.edu': 2, 'origurl.safehaven': 2, 'origurl.tripod.com': 2, 'origurl.alley.6750': 2, 'origurl.sanjosesabercats.com': 2, 'origurl.www.news.com': 2, 'origurl.mogwhi.htm': 2, 'origurl.www.theinternetadvantage.com': 2, 'origurl.thejeep.com': 2, 'origurl.3963.leonora': 2, 'origurl.www.wednet.com': 2, 'origurl.autopen.com': 2, 'origurl.charlie.html': 2, 'origurl.forum': 2, 'origurl.kaitlin': 2, 'origurl.april': 2, 'origurl.grouper.com': 2, 'origurl.www.ran.org': 2, 'origurl.sydkat': 2, 'origurl.heartland.6712': 2, 'origurl.rpp.20': 2, 'origurl.2647.kaitlin': 2, 'origurl.psychref.html': 2, 'origurl.josefina3.horn': 2, 'origurl.malek': 2, 'origurl.stvkat': 2, 'origurl.timstory.html': 2, 'origurl.corp': 2, 'origurl.story': 2, 'origurl.thriveonline.com': 2, 'origurl.bds.punkie': 2, 'origurl.zoe': 2, 'origurl.kerouac': 2, 'origurl.123greetings.com': 2, 'origurl.2647.kerouac': 2, 'origurl.www.access.ch': 2, 'origurl.www.express.scripts.com': 2, 'origurl.paws': 2, 'origurl.wednet.com': 2, 'origurl.francois': 2, 'origurl.zdnet.com': 2, 'origurl.simstory': 2, 'origurl.www.puc.edu': 2, 'origurl.www.irish.times.com': 2, 'origurl.www.copymat.com': 2, 'origurl.cjackson': 2, 'origurl.kaitlin.htm': 2, 'origurl.tori.html': 2, 'origurl.southbeach.7597': 2, 'origurl.home.html': 2, 'origurl.hpe.10': 2, 'origurl.pad.htm': 2, 'origurl.psu.edu': 2, 'origurl.www.shareware.com': 2, 'origurl.bin': 2, 'origurl.arvann.pages': 2, 'origurl.tori': 2, 'origurl.dumble': 2, 'origurl.www.icgnet.com': 2, 'origurl.romancebooks': 2, 'origurl.3727.turbo': 2, 'origurl.football': 2, 'origurl.msheryl.djang': 2, 'origurl.zueri.ch': 2, 'origurl.aol.com': 2, 'origurl.bds': 2, 'origurl.cat.html': 2, 'origurl.and.tori': 2, 'origurl.hollywood.9662': 2, 'origurl.djang.html': 2, 'origurl.yahoo.co.uk': 2, 'origurl.truluck.com': 2, 'origurl.shtml': 2, 'origurl.link.chuck': 2, 'origurl.members': 2, 'origurl.www.thejeep.com': 2, 'origurl.2meta.com': 2, 'origurl.cats.html': 2, 'origurl.www.autopen.com': 2, 'origurl.hevern': 2, 'origurl.ikenobo': 2, 'origurl.accessus.net': 2, 'origurl.www.wco.com': 2, 'origurl.contents': 2, 'origurl.pitcairn': 2, 'origurl.westhollywood.4010': 2, 'origurl.messier.html': 2, 'origurl.icgnet.com': 2, 'origurl.mandypaul.main': 2, 'origurl.links.carousel': 2, 'origurl.square.chapel': 2, 'origurl.www.grouper.com': 2, 'origurl.6712.cats': 2, 'origurl.www.MeissnerChevrolet.autotown.com': 2, 'origurl.globec.com.au': 2, 'origurl.meadows': 2, 'origurl.afn47757': 2, 'origurl.www.geocities.com': 2, 'origurl.haestad.com': 2, 'origurl.midnite.htm': 2, 'origurl.tkaine.sox': 2, 'origurl.lovisa1.kattsida': 2, 'origurl.fr.bordeaux': 2, 'origurl.mindspring.com': 2, 'origurl.7597.kitty': 2, 'origurl.wired.com': 2, 'origurl.paws.pad': 2, 'origurl.irish': 2, 'origurl.square': 2, 'origurl.pad': 2, 'origurl.method': 2, 'origurl.www.mcs.csuhayward.edu': 2, 'origurl.www.pacific.net.sg': 2, 'origurl.chuck': 2, 'origurl.ran.org': 2, 'origurl.misfits2.htm': 2, 'origurl.stinky': 2, 'origurl.horn': 2, 'origurl.heartland.valley': 2, 'origurl.heartland.hills': 2, 'origurl.www.finest.tm.fr': 2, 'origurl.carousel.links': 2, 'origurl.kushmerick.method': 2, 'origurl.txt': 2, 'origurl.method.0': 2, 'origurl.title': 2, 'origurl.fbox.vt.edu': 2, 'origurl.index.html': 2, 'origurl.asp': 2, 'origurl.mcp.htm': 2, 'origurl.home': 2, 'origurl.netcenter': 2, 'origurl.hydrogeologist': 2, 'origurl.2539.index': 2, 'origurl.teams': 2, 'origurl..ion': 2, 'ancurl.search.direct': 2, 'ancurl.likesbooks.com': 2, 'ancurl.mirror': 2, 'ancurl.www.slake.com': 2, 'ancurl.cnet.cat': 2, 'ancurl.hydrogeologist': 2, 'ancurl.geoguide': 2, 'ancurl.2fcrawler': 2, 'ancurl.clawring.htm': 2, 'ancurl.tkaine.kats': 2, 'ancurl.labyrinth': 2, 'ancurl.clickthru.clickid': 2, 'ancurl.redirect': 2, 'ancurl.com.ads': 2, 'ancurl.area51.corridor': 2, 'ancurl.express.scripts.com': 2, 'ancurl.cnet': 2, 'ancurl.time.1998': 2, 'ancurl.josefina3': 2, 'ancurl.truluck.com': 2, 'ancurl.cgiadman': 2, 'ancurl.linkpg.htm': 2, 'ancurl.geoguide.rank': 2, 'ancurl.area51': 2, 'ancurl.www.internauts.ca': 2, 'ancurl.afn.org': 2, 'ancurl.www.microsoft.com': 2, 'ancurl.nph': 2, 'ancurl.ran.org': 2, 'ancurl.comprod.mirror': 2, 'ancurl.shareware.com': 2, 'ancurl.jump': 2, 'ancurl.area51.labyrinth': 2, 'ancurl.pics': 2, 'ancurl.nsads.hotwired.com': 2, 'ancurl.new': 2, 'ancurl.net': 2, 'ancurl.relocate.ad': 2, 'ancurl.sendform': 2, 'ancurl.carousel.org': 2, 'ancurl.members.accessus.net': 2, 'ancurl.home.htm': 2, 'ancurl.index.html': 2, 'ancurl.www.FlowSoft.com': 2, 'ancurl.kandinsky': 2, 'ancurl.csuhayward.edu': 2, 'ancurl.www.yahoo.co.uk': 2, 'ancurl.ibitexas.com': 2, 'ancurl.www.monmouth.com': 2, 'ancurl.infoserver.etl.vt.edu': 2, 'ancurl.heartland.pointe': 2, 'ancurl.msn': 2, 'ancurl.468x60': 2, 'ancurl.bin.click': 2, 'ancurl.general': 2, 'ancurl.keith.dumble': 2, 'ancurl.cqi.com': 2, 'ancurl.heartland.plains': 2, 'ancurl.redir': 2, 'ancurl.webring.org': 2, 'ancurl.uk.sv': 2, 'ancurl.mem': 2, 'ancurl.next': 2, 'ancurl.pacific.net.sg': 2, 'ancurl.monmouth.com': 2, 'ancurl.news': 2, 'ancurl.adclick': 2, 'ancurl.default': 2, 'ancurl.exe.cid': 2, 'ancurl.claw': 2, 'ancurl.bin.webring': 2, 'ancurl.emailbox': 2, 'ancurl.sunsite.unc.edu': 2, 'ancurl.exec.obidos': 2, 'ancurl.obidos': 2, 'ancurl.www.pacific.net.sg': 2, 'ancurl.library': 2, 'ancurl.puc.edu': 2, 'ancurl.internauts.ca': 2, 'ancurl.n.a': 2, 'ancurl.www.ibitexas.com': 2, 'ancurl.ucsd.edu': 2, 'ancurl.kats': 2, 'ancurl.cjackson.kandinsky': 2, 'ancurl.clickid': 2, 'ancurl.any.time': 2, 'ancurl.1.cid': 2, 'ancurl.ring': 2, 'ancurl.FlowSoft.com': 2, 'ancurl.nph.adclick': 2, 'ancurl.adclick.exe': 2, 'ancurl.event': 2, 'ancurl.general.site': 2, 'ancurl.2fclick': 2, 'ancurl.home.netscape.com': 2, 'ancurl.bin.homestead': 2, 'ancurl.click.runid': 2, 'ancurl.martnet': 2, 'ancurl.doubleclick.net': 2, 'ancurl.st.uk': 2, 'ancurl.catring.html': 2, 'ancurl.ng.spacedesc': 2, 'ancurl.familyid': 2, 'ancurl.yahoo': 2, 'ancurl.site': 2, 'ancurl.redirect.dll': 2, 'ancurl.pointe.1154': 2, 'ancurl.home.html': 2, 'ancurl.www.123greetings.com': 2, 'ancurl.cat.general': 2, 'ancurl.www.inwap.com': 2, 'ancurl.cjackson': 2, 'ancurl.labyrinth.9439': 2, 'ancurl.library.pitcairn': 2, 'ancurl.www.mei.co.jp': 2, 'ancurl.april': 2, 'ancurl.comprod': 2, 'ancurl.ukie': 2, 'ancurl.home': 2, 'ancurl.www.lycos.co.uk': 2, 'ancurl.jsd': 2, 'ancurl.ans.entry': 2, 'ancurl.keith': 2, 'ancurl.www.icgnet.com': 2, 'ancurl.forum': 2, 'ancurl.redirect.cgi': 2, 'ancurl.www.afn.org': 2, 'ancurl.geoguide.emailme': 2, 'ancurl.time': 2, 'ancurl.www.ran.org': 2, 'ancurl.main': 2, 'ancurl.members.keith': 2, 'ancurl.http.ad': 2, 'ancurl.2f.2fwww': 2, 'ancurl.ad.bin': 2, 'ancurl.www.amazon.com': 2, 'ancurl.4.mem': 2, 'ancurl.www.truluck.com': 2, 'ancurl.bridalinfo': 2, 'ancurl.pics.cats': 2, 'ancurl.direct': 2, 'ancurl.image.http': 2, 'ancurl.fbox.vt.edu': 2, 'ancurl.unc.edu': 2, 'ancurl.d.ukie': 2, 'ancurl.forums': 2, 'ancurl.co.uk': 2, 'ancurl.e.html': 2, 'ancurl.inwap.cats': 2, 'ancurl.malek': 2, 'ancurl.jsd.how': 2, 'ancurl.www.cqi.com': 2, 'ancurl.redirect.http': 2, 'ancurl.name': 2, 'ancurl.1.d': 2, 'ancurl.kat001': 2, 'ancurl.magic.adclick': 2, 'ancurl.grouper.com': 2, 'ancurl.readersndex.com': 2, 'ancurl.excite.468x60': 2, 'ancurl.click.ng': 2, 'ancurl.www.martnet.com': 2, 'ancurl.http.2f': 2, 'ancurl.direct.topic': 2, 'ancurl.how': 2, 'ancurl.www.wednet.com': 2, 'ancurl.www.globec.com.au': 2, 'ancurl.athens': 2, 'ancurl.info': 2, 'ancurl.schwab': 2, 'ancurl.sjsu.edu': 2, 'ancurl.www.puc.edu': 2, 'ancurl.a.uk': 2, 'ancurl.www.news.com': 2, 'ancurl.2fclick.ng': 2, 'ancurl.ads.msn.com': 2, 'ancurl.images': 2, 'ancurl.access.ch': 2, 'ancurl.home.ring': 2, 'ancurl.plug.go2net.com': 2, 'ancurl.geocities.com': 2, 'ancurl.geoguide.tour': 2, 'ancurl.copymat.com': 2, 'ancurl.www.webring.org': 2, 'ancurl.groupid.1': 2, 'ancurl.gif.pk': 2, 'ancurl.dll.cid': 2, 'ancurl.adid': 2, 'ancurl.vt.edu': 2, 'ancurl.worlddrug.com': 2, 'ancurl.edition': 2, 'ancurl.www.express.scripts.com': 2, 'ancurl.personal': 2, 'ancurl.gid': 2, 'ancurl.bin.geoguide': 2, 'ancurl.mindlink.net': 2, 'ancurl.accessus.net': 2, 'ancurl.type': 2, 'ancurl.ng.type': 2, 'ancurl.polypkem': 2, 'ancurl.fools': 2, 'ancurl.bin.cgiadman': 2, 'ancurl.marketplace': 2, 'ancurl.wco.com': 2, 'ancurl.links.html': 2, 'ancurl.tkaine.bars': 2, 'ancurl.icgnet.com': 2, 'ancurl.www.autotown.com': 2, 'ancurl.adcount.plx': 2, 'ancurl.1.familyid': 2, 'ancurl.yahoo.com': 2, 'ancurl.page': 2, 'ancurl.theinternetadvantage.com': 2, 'ancurl.runofsite': 2, 'ancurl.romancebooks': 2, 'ancurl.francois': 2, 'ancurl.links': 2, 'ancurl.athens.forum': 2, 'ancurl.site.sw': 2, 'ancurl.autotown.com': 2, 'ancurl.amazon.com': 2, 'ancurl.site.ne': 2, 'ancurl.qual': 2, 'ancurl.members': 2, 'ancurl.exe': 2, 'ancurl.pratchett': 2, 'ancurl.afn47757': 2, 'ancurl.esi': 2, 'ancurl.1154.linkpg': 2, 'ancurl.desc': 2, 'ancurl.forum.8078': 2, 'ancurl.topic': 2, 'ancurl.bin.acc': 2, 'ancurl.valley': 2, 'ancurl.delv': 2, 'ancurl.family': 2, 'ancurl.lspace.org': 2, 'ancurl.www.pacificrim.net': 2, 'ancurl.about': 2, 'ancurl.webring.ring': 2, 'ancurl.www.likesbooks.com': 2, 'ancurl.bossintl.com': 2, 'ancurl.runid': 2, 'ancurl.wednet.com': 2, 'ancurl.news.com': 2, 'ancurl.lycos.co.uk': 2, 'ancurl.arvann.images': 2, 'ancurl.526.redirect': 2, 'ancurl.ads.msn': 2, 'ancurl.netscape.com': 2, 'ancurl.athens.8774': 2, 'ancurl.click.profileid': 2, 'ancurl.qual.mc': 2, 'ancurl.homestead.ans': 2, 'ancurl.paul.spu.edu': 2, 'ancurl.dll': 2, 'ancurl.readersndex': 2, 'ancurl.dir': 2, 'ancurl.rank': 2, 'ancurl.2meta.com': 2, 'ancurl.Lpage.com': 2, 'ancurl.emailme': 2, 'ancurl.event.ng': 2, 'ancurl.3a.2fcrawler': 2, 'ancurl.cgiadman.dll': 2, 'ancurl.aol.com': 2, 'ancurl.lg.gif': 2, 'ancurl.magic': 2, 'ancurl.bin.ad': 2, 'ancurl.www.worlddrug.com': 2, 'ancurl.ring.midnight': 2, 'ancurl.irish.times.com': 2, 'ancurl.download': 2, 'ancurl.http.www': 2, 'ancurl.homepage': 2, 'ancurl.midnight.id': 2, 'ancurl.ad.doubleclick.net': 2, 'ancurl.exec': 2, 'ancurl.mem.1': 2, 'ancurl.msn.com': 2, 'ancurl.preferences': 2, 'ancurl.contact': 2, 'ancurl.bars': 2, 'ancurl.products': 2, 'ancurl.www.geocities.com': 2, 'ancurl.www.carousel.org': 2, 'ancurl.spu.edu': 2, 'ancurl.com': 2, 'ancurl.cnm': 2, 'ancurl.webring.home': 2, 'ancurl.link.pics': 2, 'ancurl.cid': 2, 'ancurl.psu.edu': 2, 'ancurl.ads.redirect': 2, 'ancurl.cfm': 2, 'ancurl.www.grouper.com': 2, 'ancurl.member': 2, 'ancurl.index': 2, 'ancurl.cat': 2, 'ancurl.www.dreamn.com': 2, 'ancurl.afn47757.clawring': 2, 'ancurl.switchboard.com': 2, 'ancurl.ad.preferences': 2, 'ancurl.inwap': 2, 'ancurl.adcount': 2, 'ancurl.martnet.com': 2, 'ancurl.thejeep.com': 2, 'ancurl.search': 2, 'ancurl.shtml': 2, 'ancurl.www.yahoo': 2, 'ancurl.desc.4': 2, 'ancurl.cats': 2, 'ancurl.pitcairn': 2, 'ancurl.www.access.ch': 2, 'ancurl.runofsite.any': 2, 'ancurl.url': 2, 'ancurl.dejay': 2, 'ancurl.gallery': 2, 'ancurl.bishop': 2, 'ancurl.features.forums': 2, 'ancurl.area': 2, 'ancurl.www.mcs.csuhayward.edu': 2, 'ancurl.bin': 2, 'ancurl.bds': 2, 'ancurl.www.wco.com': 2, 'ancurl.www.toyotaofroswell.com': 2, 'ancurl.www.copymat.com': 2, 'ancurl.go2net.com': 2, 'ancurl.delv.dir': 2, 'ancurl.slake.com': 2, 'ancurl.www.readersndex': 2, 'ancurl.www.theinternetadvantage.com': 2, 'ancurl.edition.cnet': 2, 'ancurl.tkaine': 2, 'ancurl.catring': 2, 'ancurl.asp': 2, 'ancurl.art': 2, 'ancurl.relocate': 2, 'ancurl.468x60.runofsite': 2, 'ancurl.valley.2647': 2, 'ancurl.any': 2, 'ancurl.ans': 2, 'ancurl.corridor': 2, 'ancurl.amp': 2, 'ancurl.top': 2, 'ancurl.pacificrim.net': 2, 'ancurl.image': 2, 'ancurl.heartland.valley': 2, 'ancurl.tii': 2, 'ancurl.123greetings.com': 2, 'ancurl.ads': 2, 'ancurl.www.yahoo.com': 2, 'ancurl.cuteftp': 2, 'ancurl.acc': 2, 'ancurl.bin.search': 2, 'ancurl.www.shareware.com': 2, 'ancurl.dir.qual': 2, 'ancurl.globec.com.au': 2, 'ancurl.www.news.observer.com': 2, 'ancurl.index.htm': 2, 'ancurl.xmission.com': 2, 'ancurl.ukie.s': 2, 'ancurl.629.redirect': 2, 'ancurl.pointe': 2, 'ancurl.www.ems.psu.edu': 2, 'ancurl.http.ads': 2, 'ancurl.members.aol.com': 2, 'ancurl.www.xmission.com': 2, 'ancurl.yahoo.co.uk': 2, 'ancurl.ring.kat001': 2, 'ancurl.msn.com.1': 2, 'ancurl.groupid': 2, 'ancurl.geoguide.geoguide': 2, 'ancurl.sanjosesabercats.com': 2, 'ancurl.excite': 2, 'ancurl.april.fools': 2, 'ancurl.slagen': 2, 'ancurl.link': 2, 'ancurl.tour.member': 2, 'ancurl.uk': 2, 'ancurl.people': 2, 'ancurl.sw': 2, 'ancurl.sv': 2, 'ancurl.st': 2, 'ancurl.sj': 2, 'ancurl.pl': 2, 'ancurl.pk': 2, 'ancurl.www.bossintl.com': 2, 'ancurl.ng': 2, 'ancurl.ne': 2, 'ancurl.mc': 2, 'ancurl.lg': 2, 'ancurl.spacedesc': 2, 'ancurl.it': 2, 'ancurl.ie': 2, 'ancurl.id': 2, 'ancurl.go': 2, 'ancurl.gg': 2, 'ancurl.homestead': 2, 'ancurl.bin.nph': 2, 'ancurl.peace': 2, 'ancurl.t.s': 2, 'ancurl.de': 2, 'ancurl.co': 2, 'ancurl.dreamn.com': 2, 'ancurl.plx.http': 2, 'ancurl.ad': 2, 'ancurl.rnd': 2, 'ancurl.dumble': 2, 'ancurl.kandinsky.p': 2, 'ancurl.linkpg': 2, 'ancurl.webring': 2, 'ancurl.ref': 2, 'ancurl.www.2meta.com': 2, 'ancurl.ran': 2, 'ancurl.ukonline.co.uk': 2, 'ancurl.www.Lpage.com': 2, 'ancurl.2fwww': 2, 'ancurl.ring.claw': 2, 'ancurl.midnight': 2, 'ancurl.hotwired.com': 2, 'ancurl.how.htm': 2, 'ancurl.tm.fr': 2, 'ancurl.ora.com': 2, 'ancurl.marketing': 2, 'ancurl.toyotaofroswell.com': 2, 'ancurl.heartland': 2, 'ancurl.s.b': 2, 'ancurl.mcet.edu': 2, 'ancurl.clickthru': 2, 'ancurl.enchantedforest': 2, 'ancurl.clawring': 2, 'ancurl.news.observer.com': 2, 'ancurl.plains': 2, 'ancurl.entry': 2, 'ancurl.acc.clickthru': 2, 'ancurl.3a': 2, 'ancurl.www.irish.times.com': 2, 'ancurl.2f': 2, 'ancurl.dll.type': 2, 'ancurl.soho': 2, 'ancurl.features': 2, 'ancurl.adclick.id': 2, 'ancurl.click': 2, 'ancurl.preferences.com': 2, 'ancurl.claw.id': 2, 'ancurl.url.http': 2, 'ancurl.microsoft.com': 2, 'ancurl.excite.com': 2, 'ancurl.web.ukonline.co.uk': 2, 'ancurl.gort.ucsd.edu': 2, 'ancurl.com.home': 2, 'ancurl.2fcgi': 2, 'ancurl.pub': 2, 'ancurl.bin.adcount': 2, 'ancurl.mc.3a': 2, 'ancurl.phoenix.mcet.edu': 2, 'ancurl.plx': 2, 'ancurl.inwap.com': 2, 'ancurl.www.cob.sjsu.edu': 2, 'ancurl.www.thejeep.com': 2, 'ancurl.tour': 2, 'ancurl.www.sanjosesabercats.com': 2, 'ancurl.mei.co.jp': 2, 'ancurl.geoguide.sendform': 2, 'ancurl.services': 2, 'ancurl.type.click': 2, 'ancurl.tagvalues': 2, 'ancurl.profileid': 2, 'ancurl.zueri.ch': 2, 'ancurl.arvann': 2, 'ancurl.tagvalues.13': 2, 'alt.your': 2, 'alt.and': 2, 'alt.top': 2, 'alt.all': 2, 'alt.email': 2, 'alt.out': 2, 'alt.our': 2, 'alt.here': 2, 'alt.the': 2, 'alt.download': 2, 'alt.netscape': 2, 'alt.what': 2, 'alt.explorer': 2, 'alt.more': 2, 'alt.for.a': 2, 'alt.take.a': 2, 'alt.kitty': 2, 'alt.visit.our': 2, 'alt.link': 2, 'alt.wacky': 2, 'alt.like': 2, 'alt.heartland': 2, 'alt.visit.the': 2, 'alt.romance': 2, 'alt.online': 2, 'alt.products': 2, 'alt.now': 2, 'alt.click.here': 2, 'alt.pages.like': 2, 'alt.rank': 2, 'alt.information': 2, 'alt.us': 2, 'alt.send.this': 2, 'alt.up': 2, 'alt.to': 2, 'alt.chat': 2, 'alt.new': 2, 'alt.net': 2, 'alt.my.site': 2, 'alt.search': 2, 'alt.this': 2, 'alt.on': 2, 'alt.of': 2, 'alt.links': 2, 'alt.bytes': 2, 'alt.my': 2, 'alt.me': 2, 'alt.picture': 2, 'alt.club': 2, 'alt.pages': 2, 'alt.this.page': 2, 'alt.in': 2, 'alt.on.the': 2, 'alt.guestbook': 2, 'alt.by': 2, 'alt.click': 2, 'alt.at': 2, 'alt.ad': 2, 'alt.mine': 2, 'alt.amazon.com': 2, 'alt.web': 2, 'alt.next': 2, 'alt.news': 2, 'alt.info': 2, 'alt.join': 2, 'alt.of.the': 2, 'alt.book': 2, 'alt.amazon': 2, 'alt.forums': 2, 'alt.back': 2, 'alt.next.site': 2, 'alt.a.tour': 2, 'alt.com': 2, 'alt.microsoft': 2, 'alt.geocities': 2, 'alt.ring': 2, 'alt.cat': 2, 'alt.send': 2, 'alt.internet.explorer': 2, 'alt.banner': 2, 'alt.home.page': 2, 'alt.internet': 2, 'alt.find': 2, 'alt.cool': 2, 'alt.my.guestbook': 2, 'alt.here.for': 2, 'alt.with': 2, 'alt.get': 2, 'alt.take': 2, 'alt.tour': 2, 'alt.site': 2, 'alt.to.visit': 2, 'alt.rank.my': 2, 'alt.from': 2, 'alt.page': 2, 'alt.graphic': 2, 'alt.like.mine': 2, 'alt.email.me': 2, 'alt.visit': 2, 'alt.free': 2, 'alt.the.kat': 2, 'alt.award': 2, 'alt.services': 2, 'alt.about': 2, 'alt.for': 2, 'alt.here.to': 2, 'alt.network': 2, 'alt.you': 2, 'alt.logo': 2, 'alt.home': 2, 'alt.kat': 2, 'caption.and': 2, 'caption.home.page': 2, 'caption.click.here': 2, 'caption.the': 2, 'caption.pratchett': 2, 'caption.here.for': 2, 'caption.site': 2, 'caption.page': 2, 'caption.to': 2, 'caption.of': 2, 'caption.home': 2, 'caption.my': 2, 'caption.your': 2, 'caption.in': 2, 'caption.bytes': 2, 'caption.here': 2, 'caption.click': 2, 'caption.for': 2}\n"
     ]
    }
   ],
   "source": [
    "def check_columns_with_few_distinct_values(df):\n",
    "    \"\"\"\n",
    "    Check if any column in the DataFrame has fewer than 10 distinct values.\n",
    "\n",
    "    Parameters:\n",
    "    df (pd.DataFrame): The input DataFrame.\n",
    "\n",
    "    Returns:\n",
    "    dict: A dictionary with column names as keys and the count of distinct values as values for columns with fewer than 10 distinct values.\n",
    "    \"\"\"\n",
    "    result = {col: df[col].nunique() for col in df.columns if df[col].nunique() < 10}\n",
    "    return result\n",
    "\n",
    "for t_id in selected_id:\n",
    "    task = openml.tasks.get_task(t_id)\n",
    "    dataset = task.get_dataset()\n",
    "    X, y, _, attribute_names = dataset.get_data(target=dataset.default_target_attribute)\n",
    "    X = pd.DataFrame(X, columns=attribute_names[:-1])\n",
    "    print(t_id)\n",
    "    print(check_columns_with_few_distinct_values(X))"
   ]
  },
  {
   "cell_type": "code",
   "execution_count": 73,
   "metadata": {},
   "outputs": [
    {
     "name": "stderr",
     "output_type": "stream",
     "text": [
      "/scratch/users/zhongyuan_liang/conda/envs/mdi/lib/python3.10/site-packages/IPython/core/interactiveshell.py:3577: FutureWarning: Starting from Version 0.15.0 `download_splits` will default to ``False`` instead of ``True`` and be independent from `download_data`. To disable this message until version 0.15 explicitly set `download_splits` to a bool.\n",
      "  exec(code_obj, self.user_global_ns, self.user_ns)\n",
      "/scratch/users/zhongyuan_liang/conda/envs/mdi/lib/python3.10/site-packages/openml/tasks/functions.py:442: FutureWarning: Starting from Version 0.15 `download_data`, `download_qualities`, and `download_features_meta_data` will all be ``False`` instead of ``True`` by default to enable lazy loading. To disable this message until version 0.15 explicitly set `download_data`, `download_qualities`, and `download_features_meta_data` to a bool while calling `get_dataset`.\n",
      "  dataset = get_dataset(task.dataset_id, *dataset_args, **get_dataset_kwargs)\n",
      "/scratch/users/zhongyuan_liang/conda/envs/mdi/lib/python3.10/site-packages/openml/tasks/task.py:150: FutureWarning: Starting from Version 0.15 `download_data`, `download_qualities`, and `download_features_meta_data` will all be ``False`` instead of ``True`` by default to enable lazy loading. To disable this message until version 0.15 explicitly set `download_data`, `download_qualities`, and `download_features_meta_data` to a bool while calling `get_dataset`.\n",
      "  return datasets.get_dataset(self.dataset_id)\n"
     ]
    },
    {
     "data": {
      "text/html": [
       "<div>\n",
       "<style scoped>\n",
       "    .dataframe tbody tr th:only-of-type {\n",
       "        vertical-align: middle;\n",
       "    }\n",
       "\n",
       "    .dataframe tbody tr th {\n",
       "        vertical-align: top;\n",
       "    }\n",
       "\n",
       "    .dataframe thead th {\n",
       "        text-align: right;\n",
       "    }\n",
       "</style>\n",
       "<table border=\"1\" class=\"dataframe\">\n",
       "  <thead>\n",
       "    <tr style=\"text-align: right;\">\n",
       "      <th></th>\n",
       "      <th>V1</th>\n",
       "      <th>V2</th>\n",
       "      <th>V3</th>\n",
       "      <th>V4</th>\n",
       "      <th>V5</th>\n",
       "      <th>V6</th>\n",
       "      <th>V7</th>\n",
       "      <th>V8</th>\n",
       "      <th>V9</th>\n",
       "      <th>V10</th>\n",
       "      <th>...</th>\n",
       "      <th>V391</th>\n",
       "      <th>V392</th>\n",
       "      <th>V393</th>\n",
       "      <th>V394</th>\n",
       "      <th>V395</th>\n",
       "      <th>V396</th>\n",
       "      <th>V397</th>\n",
       "      <th>V398</th>\n",
       "      <th>V399</th>\n",
       "      <th>V400</th>\n",
       "    </tr>\n",
       "  </thead>\n",
       "  <tbody>\n",
       "    <tr>\n",
       "      <th>0</th>\n",
       "      <td>-0.35069</td>\n",
       "      <td>0.52721</td>\n",
       "      <td>-1.62470</td>\n",
       "      <td>-1.334000</td>\n",
       "      <td>-1.03020</td>\n",
       "      <td>1.247500</td>\n",
       "      <td>-0.98067</td>\n",
       "      <td>-1.558700</td>\n",
       "      <td>-0.061233</td>\n",
       "      <td>1.048200</td>\n",
       "      <td>...</td>\n",
       "      <td>0.437720</td>\n",
       "      <td>0.570960</td>\n",
       "      <td>-1.19840</td>\n",
       "      <td>2.168600</td>\n",
       "      <td>-0.30353</td>\n",
       "      <td>1.21620</td>\n",
       "      <td>-0.607070</td>\n",
       "      <td>0.503820</td>\n",
       "      <td>-0.45571</td>\n",
       "      <td>0.86283</td>\n",
       "    </tr>\n",
       "    <tr>\n",
       "      <th>1</th>\n",
       "      <td>-0.42537</td>\n",
       "      <td>-0.08818</td>\n",
       "      <td>0.84575</td>\n",
       "      <td>0.881570</td>\n",
       "      <td>1.35690</td>\n",
       "      <td>0.748940</td>\n",
       "      <td>-1.68620</td>\n",
       "      <td>0.461510</td>\n",
       "      <td>0.585700</td>\n",
       "      <td>0.775950</td>\n",
       "      <td>...</td>\n",
       "      <td>-0.016239</td>\n",
       "      <td>-0.582980</td>\n",
       "      <td>-0.35666</td>\n",
       "      <td>-0.638000</td>\n",
       "      <td>0.64106</td>\n",
       "      <td>-0.94488</td>\n",
       "      <td>-1.069700</td>\n",
       "      <td>-0.024029</td>\n",
       "      <td>0.28696</td>\n",
       "      <td>-0.12374</td>\n",
       "    </tr>\n",
       "    <tr>\n",
       "      <th>2</th>\n",
       "      <td>-1.22100</td>\n",
       "      <td>0.43960</td>\n",
       "      <td>-0.06303</td>\n",
       "      <td>0.709530</td>\n",
       "      <td>0.95079</td>\n",
       "      <td>-0.218740</td>\n",
       "      <td>-1.24850</td>\n",
       "      <td>-1.628600</td>\n",
       "      <td>-1.339700</td>\n",
       "      <td>-1.858500</td>\n",
       "      <td>...</td>\n",
       "      <td>1.985500</td>\n",
       "      <td>-0.042742</td>\n",
       "      <td>2.77110</td>\n",
       "      <td>1.549400</td>\n",
       "      <td>-1.75680</td>\n",
       "      <td>-0.91595</td>\n",
       "      <td>-0.078469</td>\n",
       "      <td>0.097137</td>\n",
       "      <td>-0.55111</td>\n",
       "      <td>0.69951</td>\n",
       "    </tr>\n",
       "    <tr>\n",
       "      <th>3</th>\n",
       "      <td>-0.30132</td>\n",
       "      <td>0.55221</td>\n",
       "      <td>0.13769</td>\n",
       "      <td>0.715290</td>\n",
       "      <td>0.99311</td>\n",
       "      <td>-0.169590</td>\n",
       "      <td>-0.93405</td>\n",
       "      <td>-0.948250</td>\n",
       "      <td>-0.750880</td>\n",
       "      <td>0.003107</td>\n",
       "      <td>...</td>\n",
       "      <td>1.172300</td>\n",
       "      <td>-0.103520</td>\n",
       "      <td>2.53710</td>\n",
       "      <td>2.096000</td>\n",
       "      <td>-1.43680</td>\n",
       "      <td>-1.05230</td>\n",
       "      <td>-0.070276</td>\n",
       "      <td>-0.539810</td>\n",
       "      <td>-1.10380</td>\n",
       "      <td>0.70562</td>\n",
       "    </tr>\n",
       "    <tr>\n",
       "      <th>4</th>\n",
       "      <td>0.31292</td>\n",
       "      <td>0.42762</td>\n",
       "      <td>0.50348</td>\n",
       "      <td>0.005489</td>\n",
       "      <td>-0.94274</td>\n",
       "      <td>-0.176190</td>\n",
       "      <td>-0.50775</td>\n",
       "      <td>-0.464450</td>\n",
       "      <td>0.694750</td>\n",
       "      <td>0.376040</td>\n",
       "      <td>...</td>\n",
       "      <td>-1.317400</td>\n",
       "      <td>1.060700</td>\n",
       "      <td>1.39660</td>\n",
       "      <td>0.096776</td>\n",
       "      <td>-1.18360</td>\n",
       "      <td>-0.37802</td>\n",
       "      <td>0.357150</td>\n",
       "      <td>1.278600</td>\n",
       "      <td>-0.40139</td>\n",
       "      <td>0.11640</td>\n",
       "    </tr>\n",
       "    <tr>\n",
       "      <th>...</th>\n",
       "      <td>...</td>\n",
       "      <td>...</td>\n",
       "      <td>...</td>\n",
       "      <td>...</td>\n",
       "      <td>...</td>\n",
       "      <td>...</td>\n",
       "      <td>...</td>\n",
       "      <td>...</td>\n",
       "      <td>...</td>\n",
       "      <td>...</td>\n",
       "      <td>...</td>\n",
       "      <td>...</td>\n",
       "      <td>...</td>\n",
       "      <td>...</td>\n",
       "      <td>...</td>\n",
       "      <td>...</td>\n",
       "      <td>...</td>\n",
       "      <td>...</td>\n",
       "      <td>...</td>\n",
       "      <td>...</td>\n",
       "      <td>...</td>\n",
       "    </tr>\n",
       "    <tr>\n",
       "      <th>3681</th>\n",
       "      <td>-0.73029</td>\n",
       "      <td>0.41857</td>\n",
       "      <td>-0.41746</td>\n",
       "      <td>-0.454210</td>\n",
       "      <td>0.71168</td>\n",
       "      <td>-0.052522</td>\n",
       "      <td>-1.86610</td>\n",
       "      <td>0.220370</td>\n",
       "      <td>0.488910</td>\n",
       "      <td>-2.072700</td>\n",
       "      <td>...</td>\n",
       "      <td>-0.229240</td>\n",
       "      <td>-0.586100</td>\n",
       "      <td>1.47180</td>\n",
       "      <td>0.263640</td>\n",
       "      <td>-0.68870</td>\n",
       "      <td>-1.10260</td>\n",
       "      <td>0.467970</td>\n",
       "      <td>0.481060</td>\n",
       "      <td>-0.29457</td>\n",
       "      <td>0.55751</td>\n",
       "    </tr>\n",
       "    <tr>\n",
       "      <th>3682</th>\n",
       "      <td>-0.29375</td>\n",
       "      <td>1.46840</td>\n",
       "      <td>-0.28178</td>\n",
       "      <td>-1.411000</td>\n",
       "      <td>-0.91399</td>\n",
       "      <td>1.427700</td>\n",
       "      <td>0.68553</td>\n",
       "      <td>-0.549750</td>\n",
       "      <td>0.025032</td>\n",
       "      <td>0.857950</td>\n",
       "      <td>...</td>\n",
       "      <td>1.569100</td>\n",
       "      <td>0.575650</td>\n",
       "      <td>0.58935</td>\n",
       "      <td>2.316300</td>\n",
       "      <td>1.00600</td>\n",
       "      <td>-0.15520</td>\n",
       "      <td>-0.343240</td>\n",
       "      <td>-0.023543</td>\n",
       "      <td>-1.57520</td>\n",
       "      <td>-0.37716</td>\n",
       "    </tr>\n",
       "    <tr>\n",
       "      <th>3683</th>\n",
       "      <td>0.94843</td>\n",
       "      <td>0.35538</td>\n",
       "      <td>-1.04010</td>\n",
       "      <td>0.292630</td>\n",
       "      <td>0.17207</td>\n",
       "      <td>-0.549300</td>\n",
       "      <td>-2.22700</td>\n",
       "      <td>0.111300</td>\n",
       "      <td>0.403860</td>\n",
       "      <td>0.000354</td>\n",
       "      <td>...</td>\n",
       "      <td>-2.006600</td>\n",
       "      <td>0.544540</td>\n",
       "      <td>2.01170</td>\n",
       "      <td>0.584910</td>\n",
       "      <td>-0.43648</td>\n",
       "      <td>-0.11118</td>\n",
       "      <td>0.197870</td>\n",
       "      <td>0.189580</td>\n",
       "      <td>1.04610</td>\n",
       "      <td>-0.30757</td>\n",
       "    </tr>\n",
       "    <tr>\n",
       "      <th>3684</th>\n",
       "      <td>1.49800</td>\n",
       "      <td>-0.66785</td>\n",
       "      <td>1.04800</td>\n",
       "      <td>-1.569300</td>\n",
       "      <td>-0.65241</td>\n",
       "      <td>1.957500</td>\n",
       "      <td>0.45265</td>\n",
       "      <td>0.807050</td>\n",
       "      <td>0.601570</td>\n",
       "      <td>0.813750</td>\n",
       "      <td>...</td>\n",
       "      <td>-0.648440</td>\n",
       "      <td>-0.453780</td>\n",
       "      <td>-0.29842</td>\n",
       "      <td>-0.641800</td>\n",
       "      <td>0.49518</td>\n",
       "      <td>-2.56460</td>\n",
       "      <td>-0.708690</td>\n",
       "      <td>0.369670</td>\n",
       "      <td>-0.49249</td>\n",
       "      <td>-0.40257</td>\n",
       "    </tr>\n",
       "    <tr>\n",
       "      <th>3685</th>\n",
       "      <td>-0.85682</td>\n",
       "      <td>-1.45620</td>\n",
       "      <td>-0.19547</td>\n",
       "      <td>-0.110290</td>\n",
       "      <td>0.70799</td>\n",
       "      <td>-0.112270</td>\n",
       "      <td>-0.72447</td>\n",
       "      <td>-0.045491</td>\n",
       "      <td>-1.027000</td>\n",
       "      <td>0.685080</td>\n",
       "      <td>...</td>\n",
       "      <td>0.774860</td>\n",
       "      <td>-1.103400</td>\n",
       "      <td>1.19320</td>\n",
       "      <td>1.955600</td>\n",
       "      <td>0.43227</td>\n",
       "      <td>0.50992</td>\n",
       "      <td>1.190900</td>\n",
       "      <td>0.487540</td>\n",
       "      <td>-0.14660</td>\n",
       "      <td>-0.76304</td>\n",
       "    </tr>\n",
       "  </tbody>\n",
       "</table>\n",
       "<p>3686 rows × 400 columns</p>\n",
       "</div>"
      ],
      "text/plain": [
       "           V1       V2       V3        V4       V5        V6       V7  \\\n",
       "0    -0.35069  0.52721 -1.62470 -1.334000 -1.03020  1.247500 -0.98067   \n",
       "1    -0.42537 -0.08818  0.84575  0.881570  1.35690  0.748940 -1.68620   \n",
       "2    -1.22100  0.43960 -0.06303  0.709530  0.95079 -0.218740 -1.24850   \n",
       "3    -0.30132  0.55221  0.13769  0.715290  0.99311 -0.169590 -0.93405   \n",
       "4     0.31292  0.42762  0.50348  0.005489 -0.94274 -0.176190 -0.50775   \n",
       "...       ...      ...      ...       ...      ...       ...      ...   \n",
       "3681 -0.73029  0.41857 -0.41746 -0.454210  0.71168 -0.052522 -1.86610   \n",
       "3682 -0.29375  1.46840 -0.28178 -1.411000 -0.91399  1.427700  0.68553   \n",
       "3683  0.94843  0.35538 -1.04010  0.292630  0.17207 -0.549300 -2.22700   \n",
       "3684  1.49800 -0.66785  1.04800 -1.569300 -0.65241  1.957500  0.45265   \n",
       "3685 -0.85682 -1.45620 -0.19547 -0.110290  0.70799 -0.112270 -0.72447   \n",
       "\n",
       "            V8        V9       V10  ...      V391      V392     V393  \\\n",
       "0    -1.558700 -0.061233  1.048200  ...  0.437720  0.570960 -1.19840   \n",
       "1     0.461510  0.585700  0.775950  ... -0.016239 -0.582980 -0.35666   \n",
       "2    -1.628600 -1.339700 -1.858500  ...  1.985500 -0.042742  2.77110   \n",
       "3    -0.948250 -0.750880  0.003107  ...  1.172300 -0.103520  2.53710   \n",
       "4    -0.464450  0.694750  0.376040  ... -1.317400  1.060700  1.39660   \n",
       "...        ...       ...       ...  ...       ...       ...      ...   \n",
       "3681  0.220370  0.488910 -2.072700  ... -0.229240 -0.586100  1.47180   \n",
       "3682 -0.549750  0.025032  0.857950  ...  1.569100  0.575650  0.58935   \n",
       "3683  0.111300  0.403860  0.000354  ... -2.006600  0.544540  2.01170   \n",
       "3684  0.807050  0.601570  0.813750  ... -0.648440 -0.453780 -0.29842   \n",
       "3685 -0.045491 -1.027000  0.685080  ...  0.774860 -1.103400  1.19320   \n",
       "\n",
       "          V394     V395     V396      V397      V398     V399     V400  \n",
       "0     2.168600 -0.30353  1.21620 -0.607070  0.503820 -0.45571  0.86283  \n",
       "1    -0.638000  0.64106 -0.94488 -1.069700 -0.024029  0.28696 -0.12374  \n",
       "2     1.549400 -1.75680 -0.91595 -0.078469  0.097137 -0.55111  0.69951  \n",
       "3     2.096000 -1.43680 -1.05230 -0.070276 -0.539810 -1.10380  0.70562  \n",
       "4     0.096776 -1.18360 -0.37802  0.357150  1.278600 -0.40139  0.11640  \n",
       "...        ...      ...      ...       ...       ...      ...      ...  \n",
       "3681  0.263640 -0.68870 -1.10260  0.467970  0.481060 -0.29457  0.55751  \n",
       "3682  2.316300  1.00600 -0.15520 -0.343240 -0.023543 -1.57520 -0.37716  \n",
       "3683  0.584910 -0.43648 -0.11118  0.197870  0.189580  1.04610 -0.30757  \n",
       "3684 -0.641800  0.49518 -2.56460 -0.708690  0.369670 -0.49249 -0.40257  \n",
       "3685  1.955600  0.43227  0.50992  1.190900  0.487540 -0.14660 -0.76304  \n",
       "\n",
       "[3686 rows x 400 columns]"
      ]
     },
     "execution_count": 73,
     "metadata": {},
     "output_type": "execute_result"
    }
   ],
   "source": [
    "task = openml.tasks.get_task(167132) #24 21\n",
    "dataset = task.get_dataset()\n",
    "X, y, _, attribute_names = dataset.get_data(target=dataset.default_target_attribute)\n",
    "X"
   ]
  },
  {
   "cell_type": "code",
   "execution_count": 74,
   "metadata": {},
   "outputs": [
    {
     "data": {
      "text/html": [
       "<div>\n",
       "<style scoped>\n",
       "    .dataframe tbody tr th:only-of-type {\n",
       "        vertical-align: middle;\n",
       "    }\n",
       "\n",
       "    .dataframe tbody tr th {\n",
       "        vertical-align: top;\n",
       "    }\n",
       "\n",
       "    .dataframe thead th {\n",
       "        text-align: right;\n",
       "    }\n",
       "</style>\n",
       "<table border=\"1\" class=\"dataframe\">\n",
       "  <thead>\n",
       "    <tr style=\"text-align: right;\">\n",
       "      <th></th>\n",
       "      <th>V1</th>\n",
       "      <th>V2</th>\n",
       "      <th>V3</th>\n",
       "      <th>V4</th>\n",
       "      <th>V5</th>\n",
       "      <th>V6</th>\n",
       "      <th>V7</th>\n",
       "      <th>V8</th>\n",
       "      <th>V9</th>\n",
       "      <th>V10</th>\n",
       "      <th>...</th>\n",
       "      <th>V391</th>\n",
       "      <th>V392</th>\n",
       "      <th>V393</th>\n",
       "      <th>V394</th>\n",
       "      <th>V395</th>\n",
       "      <th>V396</th>\n",
       "      <th>V397</th>\n",
       "      <th>V398</th>\n",
       "      <th>V399</th>\n",
       "      <th>V400</th>\n",
       "    </tr>\n",
       "  </thead>\n",
       "  <tbody>\n",
       "    <tr>\n",
       "      <th>V1</th>\n",
       "      <td>1.000000</td>\n",
       "      <td>-0.025484</td>\n",
       "      <td>0.007321</td>\n",
       "      <td>-0.024754</td>\n",
       "      <td>0.019995</td>\n",
       "      <td>-0.033776</td>\n",
       "      <td>0.002130</td>\n",
       "      <td>0.026861</td>\n",
       "      <td>0.031530</td>\n",
       "      <td>-0.011264</td>\n",
       "      <td>...</td>\n",
       "      <td>-0.078765</td>\n",
       "      <td>-0.015606</td>\n",
       "      <td>-0.018076</td>\n",
       "      <td>-0.012064</td>\n",
       "      <td>-0.013935</td>\n",
       "      <td>0.027390</td>\n",
       "      <td>-0.053923</td>\n",
       "      <td>0.006831</td>\n",
       "      <td>0.012746</td>\n",
       "      <td>0.023348</td>\n",
       "    </tr>\n",
       "    <tr>\n",
       "      <th>V2</th>\n",
       "      <td>-0.025484</td>\n",
       "      <td>1.000000</td>\n",
       "      <td>-0.011090</td>\n",
       "      <td>-0.008517</td>\n",
       "      <td>0.011441</td>\n",
       "      <td>0.013951</td>\n",
       "      <td>-0.016316</td>\n",
       "      <td>-0.048533</td>\n",
       "      <td>0.054263</td>\n",
       "      <td>0.049980</td>\n",
       "      <td>...</td>\n",
       "      <td>0.018304</td>\n",
       "      <td>-0.000833</td>\n",
       "      <td>-0.074950</td>\n",
       "      <td>0.010569</td>\n",
       "      <td>0.031855</td>\n",
       "      <td>0.071843</td>\n",
       "      <td>0.035666</td>\n",
       "      <td>-0.014386</td>\n",
       "      <td>-0.021948</td>\n",
       "      <td>-0.025867</td>\n",
       "    </tr>\n",
       "    <tr>\n",
       "      <th>V3</th>\n",
       "      <td>0.007321</td>\n",
       "      <td>-0.011090</td>\n",
       "      <td>1.000000</td>\n",
       "      <td>0.040902</td>\n",
       "      <td>-0.026231</td>\n",
       "      <td>0.054115</td>\n",
       "      <td>-0.016726</td>\n",
       "      <td>0.054642</td>\n",
       "      <td>-0.009365</td>\n",
       "      <td>0.049920</td>\n",
       "      <td>...</td>\n",
       "      <td>-0.007808</td>\n",
       "      <td>-0.018980</td>\n",
       "      <td>-0.014035</td>\n",
       "      <td>-0.027265</td>\n",
       "      <td>-0.011710</td>\n",
       "      <td>0.016509</td>\n",
       "      <td>0.027035</td>\n",
       "      <td>0.040052</td>\n",
       "      <td>0.007197</td>\n",
       "      <td>-0.022531</td>\n",
       "    </tr>\n",
       "    <tr>\n",
       "      <th>V4</th>\n",
       "      <td>-0.024754</td>\n",
       "      <td>-0.008517</td>\n",
       "      <td>0.040902</td>\n",
       "      <td>1.000000</td>\n",
       "      <td>0.024803</td>\n",
       "      <td>0.052348</td>\n",
       "      <td>-0.020100</td>\n",
       "      <td>0.026886</td>\n",
       "      <td>-0.036326</td>\n",
       "      <td>-0.057389</td>\n",
       "      <td>...</td>\n",
       "      <td>0.048215</td>\n",
       "      <td>-0.019176</td>\n",
       "      <td>0.029862</td>\n",
       "      <td>0.003135</td>\n",
       "      <td>0.040274</td>\n",
       "      <td>-0.063876</td>\n",
       "      <td>0.032652</td>\n",
       "      <td>-0.003589</td>\n",
       "      <td>0.085359</td>\n",
       "      <td>0.039180</td>\n",
       "    </tr>\n",
       "    <tr>\n",
       "      <th>V5</th>\n",
       "      <td>0.019995</td>\n",
       "      <td>0.011441</td>\n",
       "      <td>-0.026231</td>\n",
       "      <td>0.024803</td>\n",
       "      <td>1.000000</td>\n",
       "      <td>0.059901</td>\n",
       "      <td>0.023468</td>\n",
       "      <td>0.023703</td>\n",
       "      <td>-0.009613</td>\n",
       "      <td>0.000563</td>\n",
       "      <td>...</td>\n",
       "      <td>0.026136</td>\n",
       "      <td>0.004351</td>\n",
       "      <td>0.004750</td>\n",
       "      <td>0.017301</td>\n",
       "      <td>0.014859</td>\n",
       "      <td>-0.027062</td>\n",
       "      <td>-0.005016</td>\n",
       "      <td>-0.013738</td>\n",
       "      <td>-0.026433</td>\n",
       "      <td>0.061233</td>\n",
       "    </tr>\n",
       "    <tr>\n",
       "      <th>...</th>\n",
       "      <td>...</td>\n",
       "      <td>...</td>\n",
       "      <td>...</td>\n",
       "      <td>...</td>\n",
       "      <td>...</td>\n",
       "      <td>...</td>\n",
       "      <td>...</td>\n",
       "      <td>...</td>\n",
       "      <td>...</td>\n",
       "      <td>...</td>\n",
       "      <td>...</td>\n",
       "      <td>...</td>\n",
       "      <td>...</td>\n",
       "      <td>...</td>\n",
       "      <td>...</td>\n",
       "      <td>...</td>\n",
       "      <td>...</td>\n",
       "      <td>...</td>\n",
       "      <td>...</td>\n",
       "      <td>...</td>\n",
       "      <td>...</td>\n",
       "    </tr>\n",
       "    <tr>\n",
       "      <th>V396</th>\n",
       "      <td>0.027390</td>\n",
       "      <td>0.071843</td>\n",
       "      <td>0.016509</td>\n",
       "      <td>-0.063876</td>\n",
       "      <td>-0.027062</td>\n",
       "      <td>-0.048760</td>\n",
       "      <td>-0.015260</td>\n",
       "      <td>-0.054308</td>\n",
       "      <td>-0.012781</td>\n",
       "      <td>0.012183</td>\n",
       "      <td>...</td>\n",
       "      <td>-0.088906</td>\n",
       "      <td>0.049948</td>\n",
       "      <td>-0.033490</td>\n",
       "      <td>-0.024500</td>\n",
       "      <td>-0.030513</td>\n",
       "      <td>1.000000</td>\n",
       "      <td>0.021794</td>\n",
       "      <td>0.017062</td>\n",
       "      <td>-0.042919</td>\n",
       "      <td>0.036200</td>\n",
       "    </tr>\n",
       "    <tr>\n",
       "      <th>V397</th>\n",
       "      <td>-0.053923</td>\n",
       "      <td>0.035666</td>\n",
       "      <td>0.027035</td>\n",
       "      <td>0.032652</td>\n",
       "      <td>-0.005016</td>\n",
       "      <td>0.025024</td>\n",
       "      <td>0.003494</td>\n",
       "      <td>-0.077680</td>\n",
       "      <td>-0.084940</td>\n",
       "      <td>0.013504</td>\n",
       "      <td>...</td>\n",
       "      <td>0.006726</td>\n",
       "      <td>-0.018770</td>\n",
       "      <td>0.049422</td>\n",
       "      <td>0.023129</td>\n",
       "      <td>0.059621</td>\n",
       "      <td>0.021794</td>\n",
       "      <td>1.000000</td>\n",
       "      <td>0.008375</td>\n",
       "      <td>-0.036323</td>\n",
       "      <td>-0.019340</td>\n",
       "    </tr>\n",
       "    <tr>\n",
       "      <th>V398</th>\n",
       "      <td>0.006831</td>\n",
       "      <td>-0.014386</td>\n",
       "      <td>0.040052</td>\n",
       "      <td>-0.003589</td>\n",
       "      <td>-0.013738</td>\n",
       "      <td>-0.053146</td>\n",
       "      <td>0.070723</td>\n",
       "      <td>0.008167</td>\n",
       "      <td>0.030048</td>\n",
       "      <td>-0.026903</td>\n",
       "      <td>...</td>\n",
       "      <td>0.019821</td>\n",
       "      <td>-0.017177</td>\n",
       "      <td>0.011847</td>\n",
       "      <td>0.029269</td>\n",
       "      <td>0.037992</td>\n",
       "      <td>0.017062</td>\n",
       "      <td>0.008375</td>\n",
       "      <td>1.000000</td>\n",
       "      <td>0.000471</td>\n",
       "      <td>0.020597</td>\n",
       "    </tr>\n",
       "    <tr>\n",
       "      <th>V399</th>\n",
       "      <td>0.012746</td>\n",
       "      <td>-0.021948</td>\n",
       "      <td>0.007197</td>\n",
       "      <td>0.085359</td>\n",
       "      <td>-0.026433</td>\n",
       "      <td>0.014360</td>\n",
       "      <td>-0.012202</td>\n",
       "      <td>0.081244</td>\n",
       "      <td>0.065330</td>\n",
       "      <td>0.041501</td>\n",
       "      <td>...</td>\n",
       "      <td>0.014511</td>\n",
       "      <td>-0.014519</td>\n",
       "      <td>-0.005678</td>\n",
       "      <td>0.010663</td>\n",
       "      <td>0.052851</td>\n",
       "      <td>-0.042919</td>\n",
       "      <td>-0.036323</td>\n",
       "      <td>0.000471</td>\n",
       "      <td>1.000000</td>\n",
       "      <td>-0.004082</td>\n",
       "    </tr>\n",
       "    <tr>\n",
       "      <th>V400</th>\n",
       "      <td>0.023348</td>\n",
       "      <td>-0.025867</td>\n",
       "      <td>-0.022531</td>\n",
       "      <td>0.039180</td>\n",
       "      <td>0.061233</td>\n",
       "      <td>-0.042822</td>\n",
       "      <td>0.024270</td>\n",
       "      <td>-0.012183</td>\n",
       "      <td>-0.027720</td>\n",
       "      <td>-0.055354</td>\n",
       "      <td>...</td>\n",
       "      <td>0.015928</td>\n",
       "      <td>-0.012987</td>\n",
       "      <td>0.005272</td>\n",
       "      <td>0.055634</td>\n",
       "      <td>-0.059915</td>\n",
       "      <td>0.036200</td>\n",
       "      <td>-0.019340</td>\n",
       "      <td>0.020597</td>\n",
       "      <td>-0.004082</td>\n",
       "      <td>1.000000</td>\n",
       "    </tr>\n",
       "  </tbody>\n",
       "</table>\n",
       "<p>400 rows × 400 columns</p>\n",
       "</div>"
      ],
      "text/plain": [
       "            V1        V2        V3        V4        V5        V6        V7  \\\n",
       "V1    1.000000 -0.025484  0.007321 -0.024754  0.019995 -0.033776  0.002130   \n",
       "V2   -0.025484  1.000000 -0.011090 -0.008517  0.011441  0.013951 -0.016316   \n",
       "V3    0.007321 -0.011090  1.000000  0.040902 -0.026231  0.054115 -0.016726   \n",
       "V4   -0.024754 -0.008517  0.040902  1.000000  0.024803  0.052348 -0.020100   \n",
       "V5    0.019995  0.011441 -0.026231  0.024803  1.000000  0.059901  0.023468   \n",
       "...        ...       ...       ...       ...       ...       ...       ...   \n",
       "V396  0.027390  0.071843  0.016509 -0.063876 -0.027062 -0.048760 -0.015260   \n",
       "V397 -0.053923  0.035666  0.027035  0.032652 -0.005016  0.025024  0.003494   \n",
       "V398  0.006831 -0.014386  0.040052 -0.003589 -0.013738 -0.053146  0.070723   \n",
       "V399  0.012746 -0.021948  0.007197  0.085359 -0.026433  0.014360 -0.012202   \n",
       "V400  0.023348 -0.025867 -0.022531  0.039180  0.061233 -0.042822  0.024270   \n",
       "\n",
       "            V8        V9       V10  ...      V391      V392      V393  \\\n",
       "V1    0.026861  0.031530 -0.011264  ... -0.078765 -0.015606 -0.018076   \n",
       "V2   -0.048533  0.054263  0.049980  ...  0.018304 -0.000833 -0.074950   \n",
       "V3    0.054642 -0.009365  0.049920  ... -0.007808 -0.018980 -0.014035   \n",
       "V4    0.026886 -0.036326 -0.057389  ...  0.048215 -0.019176  0.029862   \n",
       "V5    0.023703 -0.009613  0.000563  ...  0.026136  0.004351  0.004750   \n",
       "...        ...       ...       ...  ...       ...       ...       ...   \n",
       "V396 -0.054308 -0.012781  0.012183  ... -0.088906  0.049948 -0.033490   \n",
       "V397 -0.077680 -0.084940  0.013504  ...  0.006726 -0.018770  0.049422   \n",
       "V398  0.008167  0.030048 -0.026903  ...  0.019821 -0.017177  0.011847   \n",
       "V399  0.081244  0.065330  0.041501  ...  0.014511 -0.014519 -0.005678   \n",
       "V400 -0.012183 -0.027720 -0.055354  ...  0.015928 -0.012987  0.005272   \n",
       "\n",
       "          V394      V395      V396      V397      V398      V399      V400  \n",
       "V1   -0.012064 -0.013935  0.027390 -0.053923  0.006831  0.012746  0.023348  \n",
       "V2    0.010569  0.031855  0.071843  0.035666 -0.014386 -0.021948 -0.025867  \n",
       "V3   -0.027265 -0.011710  0.016509  0.027035  0.040052  0.007197 -0.022531  \n",
       "V4    0.003135  0.040274 -0.063876  0.032652 -0.003589  0.085359  0.039180  \n",
       "V5    0.017301  0.014859 -0.027062 -0.005016 -0.013738 -0.026433  0.061233  \n",
       "...        ...       ...       ...       ...       ...       ...       ...  \n",
       "V396 -0.024500 -0.030513  1.000000  0.021794  0.017062 -0.042919  0.036200  \n",
       "V397  0.023129  0.059621  0.021794  1.000000  0.008375 -0.036323 -0.019340  \n",
       "V398  0.029269  0.037992  0.017062  0.008375  1.000000  0.000471  0.020597  \n",
       "V399  0.010663  0.052851 -0.042919 -0.036323  0.000471  1.000000 -0.004082  \n",
       "V400  0.055634 -0.059915  0.036200 -0.019340  0.020597 -0.004082  1.000000  \n",
       "\n",
       "[400 rows x 400 columns]"
      ]
     },
     "execution_count": 74,
     "metadata": {},
     "output_type": "execute_result"
    }
   ],
   "source": [
    "X.corr()"
   ]
  },
  {
   "cell_type": "code",
   "execution_count": 75,
   "metadata": {},
   "outputs": [
    {
     "data": {
      "text/plain": [
       "V1      0\n",
       "V2      0\n",
       "V3      0\n",
       "V4      0\n",
       "V5      0\n",
       "       ..\n",
       "V396    0\n",
       "V397    0\n",
       "V398    0\n",
       "V399    0\n",
       "V400    0\n",
       "Length: 400, dtype: int64"
      ]
     },
     "execution_count": 75,
     "metadata": {},
     "output_type": "execute_result"
    }
   ],
   "source": [
    "# check if there are NA in X\n",
    "X.isna().sum()"
   ]
  },
  {
   "cell_type": "code",
   "execution_count": 76,
   "metadata": {},
   "outputs": [
    {
     "data": {
      "text/plain": [
       "0       Anomaly\n",
       "1       Anomaly\n",
       "2       Anomaly\n",
       "3       Anomaly\n",
       "4       Anomaly\n",
       "         ...   \n",
       "3681     Normal\n",
       "3682     Normal\n",
       "3683     Normal\n",
       "3684     Normal\n",
       "3685     Normal\n",
       "Name: Target, Length: 3686, dtype: category\n",
       "Categories (2, object): ['Normal' < 'Anomaly']"
      ]
     },
     "execution_count": 76,
     "metadata": {},
     "output_type": "execute_result"
    }
   ],
   "source": [
    "y"
   ]
  },
  {
   "cell_type": "code",
   "execution_count": 9,
   "metadata": {},
   "outputs": [
    {
     "data": {
      "text/plain": [
       "0       False\n",
       "1        True\n",
       "2        True\n",
       "3        True\n",
       "4        True\n",
       "        ...  \n",
       "2104    False\n",
       "2105    False\n",
       "2106    False\n",
       "2107    False\n",
       "2108    False\n",
       "Name: defects, Length: 2109, dtype: bool"
      ]
     },
     "execution_count": 9,
     "metadata": {},
     "output_type": "execute_result"
    }
   ],
   "source": [
    "y"
   ]
  },
  {
   "cell_type": "code",
   "execution_count": 14,
   "metadata": {},
   "outputs": [],
   "source": [
    "#Final selected ids\n",
    "# task_ids = [3917, 9946, 43, 9978, 146819, 167120]\n",
    "\n",
    "#3904 has missing"
   ]
  },
  {
   "cell_type": "code",
   "execution_count": 23,
   "metadata": {},
   "outputs": [
    {
     "name": "stderr",
     "output_type": "stream",
     "text": [
      "/tmp/ipykernel_2365353/965025377.py:1: FutureWarning: Starting from Version 0.15.0 `download_splits` will default to ``False`` instead of ``True`` and be independent from `download_data`. To disable this message until version 0.15 explicitly set `download_splits` to a bool.\n",
      "  X = sample_real_data_X(source=\"openml\", task_id = 9946, normalize=True) #361243\n",
      "/scratch/users/zhongyuan_liang/conda/envs/mdi/lib/python3.10/site-packages/openml/tasks/functions.py:442: FutureWarning: Starting from Version 0.15 `download_data`, `download_qualities`, and `download_features_meta_data` will all be ``False`` instead of ``True`` by default to enable lazy loading. To disable this message until version 0.15 explicitly set `download_data`, `download_qualities`, and `download_features_meta_data` to a bool while calling `get_dataset`.\n",
      "  dataset = get_dataset(task.dataset_id, *dataset_args, **get_dataset_kwargs)\n",
      "/scratch/users/zhongyuan_liang/conda/envs/mdi/lib/python3.10/site-packages/openml/tasks/task.py:150: FutureWarning: Starting from Version 0.15 `download_data`, `download_qualities`, and `download_features_meta_data` will all be ``False`` instead of ``True`` by default to enable lazy loading. To disable this message until version 0.15 explicitly set `download_data`, `download_qualities`, and `download_features_meta_data` to a bool while calling `get_dataset`.\n",
      "  return datasets.get_dataset(self.dataset_id)\n",
      "/accounts/projects/binyu/zhongyuan_liang/local_MDI+/imodels-experiments/feature_importance/./scripts/simulations_util.py:62: FutureWarning: Support for `dataset_format='array'` will be removed in 0.15,start using `dataset_format='dataframe' to ensure your code will continue to work. You can use the dataframe's `to_numpy` function to continue using numpy arrays.\n",
      "  X, _, _, _ = dataset.get_data(target=dataset.default_target_attribute,dataset_format=\"array\")\n",
      "/tmp/ipykernel_2365353/965025377.py:2: FutureWarning: Starting from Version 0.15.0 `download_splits` will default to ``False`` instead of ``True`` and be independent from `download_data`. To disable this message until version 0.15 explicitly set `download_splits` to a bool.\n",
      "  y = sample_real_data_y(source=\"openml\", task_id = 9946)[0] #361243\n",
      "/scratch/users/zhongyuan_liang/conda/envs/mdi/lib/python3.10/site-packages/openml/tasks/functions.py:442: FutureWarning: Starting from Version 0.15 `download_data`, `download_qualities`, and `download_features_meta_data` will all be ``False`` instead of ``True`` by default to enable lazy loading. To disable this message until version 0.15 explicitly set `download_data`, `download_qualities`, and `download_features_meta_data` to a bool while calling `get_dataset`.\n",
      "  dataset = get_dataset(task.dataset_id, *dataset_args, **get_dataset_kwargs)\n",
      "/scratch/users/zhongyuan_liang/conda/envs/mdi/lib/python3.10/site-packages/openml/tasks/task.py:150: FutureWarning: Starting from Version 0.15 `download_data`, `download_qualities`, and `download_features_meta_data` will all be ``False`` instead of ``True`` by default to enable lazy loading. To disable this message until version 0.15 explicitly set `download_data`, `download_qualities`, and `download_features_meta_data` to a bool while calling `get_dataset`.\n",
      "  return datasets.get_dataset(self.dataset_id)\n",
      "/accounts/projects/binyu/zhongyuan_liang/local_MDI+/imodels-experiments/feature_importance/./scripts/simulations_util.py:88: FutureWarning: Support for `dataset_format='array'` will be removed in 0.15,start using `dataset_format='dataframe' to ensure your code will continue to work. You can use the dataframe's `to_numpy` function to continue using numpy arrays.\n",
      "  _, y, _, _ = dataset.get_data(target=dataset.default_target_attribute,dataset_format=\"array\")\n"
     ]
    }
   ],
   "source": [
    "X = sample_real_data_X(source=\"openml\", task_id = 9946, normalize=True) #361243\n",
    "y = sample_real_data_y(source=\"openml\", task_id = 9946)[0] #361243\n",
    "\n",
    "\n",
    "# partial_linear_lss_model_random_feature(X, beta=1, heritability=0.4, sigma=None, s=5, error_seed=1, feature_seed=1, return_support=True)"
   ]
  },
  {
   "cell_type": "code",
   "execution_count": 25,
   "metadata": {},
   "outputs": [],
   "source": [
    "# split X and y into training and testing sets\n",
    "X_train, X_test, y_train, y_test = train_test_split(X, y, test_size=0.2, random_state=1)"
   ]
  },
  {
   "cell_type": "code",
   "execution_count": 19,
   "metadata": {},
   "outputs": [
    {
     "data": {
      "text/html": [
       "<style>#sk-container-id-1 {\n",
       "  /* Definition of color scheme common for light and dark mode */\n",
       "  --sklearn-color-text: black;\n",
       "  --sklearn-color-line: gray;\n",
       "  /* Definition of color scheme for unfitted estimators */\n",
       "  --sklearn-color-unfitted-level-0: #fff5e6;\n",
       "  --sklearn-color-unfitted-level-1: #f6e4d2;\n",
       "  --sklearn-color-unfitted-level-2: #ffe0b3;\n",
       "  --sklearn-color-unfitted-level-3: chocolate;\n",
       "  /* Definition of color scheme for fitted estimators */\n",
       "  --sklearn-color-fitted-level-0: #f0f8ff;\n",
       "  --sklearn-color-fitted-level-1: #d4ebff;\n",
       "  --sklearn-color-fitted-level-2: #b3dbfd;\n",
       "  --sklearn-color-fitted-level-3: cornflowerblue;\n",
       "\n",
       "  /* Specific color for light theme */\n",
       "  --sklearn-color-text-on-default-background: var(--sg-text-color, var(--theme-code-foreground, var(--jp-content-font-color1, black)));\n",
       "  --sklearn-color-background: var(--sg-background-color, var(--theme-background, var(--jp-layout-color0, white)));\n",
       "  --sklearn-color-border-box: var(--sg-text-color, var(--theme-code-foreground, var(--jp-content-font-color1, black)));\n",
       "  --sklearn-color-icon: #696969;\n",
       "\n",
       "  @media (prefers-color-scheme: dark) {\n",
       "    /* Redefinition of color scheme for dark theme */\n",
       "    --sklearn-color-text-on-default-background: var(--sg-text-color, var(--theme-code-foreground, var(--jp-content-font-color1, white)));\n",
       "    --sklearn-color-background: var(--sg-background-color, var(--theme-background, var(--jp-layout-color0, #111)));\n",
       "    --sklearn-color-border-box: var(--sg-text-color, var(--theme-code-foreground, var(--jp-content-font-color1, white)));\n",
       "    --sklearn-color-icon: #878787;\n",
       "  }\n",
       "}\n",
       "\n",
       "#sk-container-id-1 {\n",
       "  color: var(--sklearn-color-text);\n",
       "}\n",
       "\n",
       "#sk-container-id-1 pre {\n",
       "  padding: 0;\n",
       "}\n",
       "\n",
       "#sk-container-id-1 input.sk-hidden--visually {\n",
       "  border: 0;\n",
       "  clip: rect(1px 1px 1px 1px);\n",
       "  clip: rect(1px, 1px, 1px, 1px);\n",
       "  height: 1px;\n",
       "  margin: -1px;\n",
       "  overflow: hidden;\n",
       "  padding: 0;\n",
       "  position: absolute;\n",
       "  width: 1px;\n",
       "}\n",
       "\n",
       "#sk-container-id-1 div.sk-dashed-wrapped {\n",
       "  border: 1px dashed var(--sklearn-color-line);\n",
       "  margin: 0 0.4em 0.5em 0.4em;\n",
       "  box-sizing: border-box;\n",
       "  padding-bottom: 0.4em;\n",
       "  background-color: var(--sklearn-color-background);\n",
       "}\n",
       "\n",
       "#sk-container-id-1 div.sk-container {\n",
       "  /* jupyter's `normalize.less` sets `[hidden] { display: none; }`\n",
       "     but bootstrap.min.css set `[hidden] { display: none !important; }`\n",
       "     so we also need the `!important` here to be able to override the\n",
       "     default hidden behavior on the sphinx rendered scikit-learn.org.\n",
       "     See: https://github.com/scikit-learn/scikit-learn/issues/21755 */\n",
       "  display: inline-block !important;\n",
       "  position: relative;\n",
       "}\n",
       "\n",
       "#sk-container-id-1 div.sk-text-repr-fallback {\n",
       "  display: none;\n",
       "}\n",
       "\n",
       "div.sk-parallel-item,\n",
       "div.sk-serial,\n",
       "div.sk-item {\n",
       "  /* draw centered vertical line to link estimators */\n",
       "  background-image: linear-gradient(var(--sklearn-color-text-on-default-background), var(--sklearn-color-text-on-default-background));\n",
       "  background-size: 2px 100%;\n",
       "  background-repeat: no-repeat;\n",
       "  background-position: center center;\n",
       "}\n",
       "\n",
       "/* Parallel-specific style estimator block */\n",
       "\n",
       "#sk-container-id-1 div.sk-parallel-item::after {\n",
       "  content: \"\";\n",
       "  width: 100%;\n",
       "  border-bottom: 2px solid var(--sklearn-color-text-on-default-background);\n",
       "  flex-grow: 1;\n",
       "}\n",
       "\n",
       "#sk-container-id-1 div.sk-parallel {\n",
       "  display: flex;\n",
       "  align-items: stretch;\n",
       "  justify-content: center;\n",
       "  background-color: var(--sklearn-color-background);\n",
       "  position: relative;\n",
       "}\n",
       "\n",
       "#sk-container-id-1 div.sk-parallel-item {\n",
       "  display: flex;\n",
       "  flex-direction: column;\n",
       "}\n",
       "\n",
       "#sk-container-id-1 div.sk-parallel-item:first-child::after {\n",
       "  align-self: flex-end;\n",
       "  width: 50%;\n",
       "}\n",
       "\n",
       "#sk-container-id-1 div.sk-parallel-item:last-child::after {\n",
       "  align-self: flex-start;\n",
       "  width: 50%;\n",
       "}\n",
       "\n",
       "#sk-container-id-1 div.sk-parallel-item:only-child::after {\n",
       "  width: 0;\n",
       "}\n",
       "\n",
       "/* Serial-specific style estimator block */\n",
       "\n",
       "#sk-container-id-1 div.sk-serial {\n",
       "  display: flex;\n",
       "  flex-direction: column;\n",
       "  align-items: center;\n",
       "  background-color: var(--sklearn-color-background);\n",
       "  padding-right: 1em;\n",
       "  padding-left: 1em;\n",
       "}\n",
       "\n",
       "\n",
       "/* Toggleable style: style used for estimator/Pipeline/ColumnTransformer box that is\n",
       "clickable and can be expanded/collapsed.\n",
       "- Pipeline and ColumnTransformer use this feature and define the default style\n",
       "- Estimators will overwrite some part of the style using the `sk-estimator` class\n",
       "*/\n",
       "\n",
       "/* Pipeline and ColumnTransformer style (default) */\n",
       "\n",
       "#sk-container-id-1 div.sk-toggleable {\n",
       "  /* Default theme specific background. It is overwritten whether we have a\n",
       "  specific estimator or a Pipeline/ColumnTransformer */\n",
       "  background-color: var(--sklearn-color-background);\n",
       "}\n",
       "\n",
       "/* Toggleable label */\n",
       "#sk-container-id-1 label.sk-toggleable__label {\n",
       "  cursor: pointer;\n",
       "  display: block;\n",
       "  width: 100%;\n",
       "  margin-bottom: 0;\n",
       "  padding: 0.5em;\n",
       "  box-sizing: border-box;\n",
       "  text-align: center;\n",
       "}\n",
       "\n",
       "#sk-container-id-1 label.sk-toggleable__label-arrow:before {\n",
       "  /* Arrow on the left of the label */\n",
       "  content: \"▸\";\n",
       "  float: left;\n",
       "  margin-right: 0.25em;\n",
       "  color: var(--sklearn-color-icon);\n",
       "}\n",
       "\n",
       "#sk-container-id-1 label.sk-toggleable__label-arrow:hover:before {\n",
       "  color: var(--sklearn-color-text);\n",
       "}\n",
       "\n",
       "/* Toggleable content - dropdown */\n",
       "\n",
       "#sk-container-id-1 div.sk-toggleable__content {\n",
       "  max-height: 0;\n",
       "  max-width: 0;\n",
       "  overflow: hidden;\n",
       "  text-align: left;\n",
       "  /* unfitted */\n",
       "  background-color: var(--sklearn-color-unfitted-level-0);\n",
       "}\n",
       "\n",
       "#sk-container-id-1 div.sk-toggleable__content.fitted {\n",
       "  /* fitted */\n",
       "  background-color: var(--sklearn-color-fitted-level-0);\n",
       "}\n",
       "\n",
       "#sk-container-id-1 div.sk-toggleable__content pre {\n",
       "  margin: 0.2em;\n",
       "  border-radius: 0.25em;\n",
       "  color: var(--sklearn-color-text);\n",
       "  /* unfitted */\n",
       "  background-color: var(--sklearn-color-unfitted-level-0);\n",
       "}\n",
       "\n",
       "#sk-container-id-1 div.sk-toggleable__content.fitted pre {\n",
       "  /* unfitted */\n",
       "  background-color: var(--sklearn-color-fitted-level-0);\n",
       "}\n",
       "\n",
       "#sk-container-id-1 input.sk-toggleable__control:checked~div.sk-toggleable__content {\n",
       "  /* Expand drop-down */\n",
       "  max-height: 200px;\n",
       "  max-width: 100%;\n",
       "  overflow: auto;\n",
       "}\n",
       "\n",
       "#sk-container-id-1 input.sk-toggleable__control:checked~label.sk-toggleable__label-arrow:before {\n",
       "  content: \"▾\";\n",
       "}\n",
       "\n",
       "/* Pipeline/ColumnTransformer-specific style */\n",
       "\n",
       "#sk-container-id-1 div.sk-label input.sk-toggleable__control:checked~label.sk-toggleable__label {\n",
       "  color: var(--sklearn-color-text);\n",
       "  background-color: var(--sklearn-color-unfitted-level-2);\n",
       "}\n",
       "\n",
       "#sk-container-id-1 div.sk-label.fitted input.sk-toggleable__control:checked~label.sk-toggleable__label {\n",
       "  background-color: var(--sklearn-color-fitted-level-2);\n",
       "}\n",
       "\n",
       "/* Estimator-specific style */\n",
       "\n",
       "/* Colorize estimator box */\n",
       "#sk-container-id-1 div.sk-estimator input.sk-toggleable__control:checked~label.sk-toggleable__label {\n",
       "  /* unfitted */\n",
       "  background-color: var(--sklearn-color-unfitted-level-2);\n",
       "}\n",
       "\n",
       "#sk-container-id-1 div.sk-estimator.fitted input.sk-toggleable__control:checked~label.sk-toggleable__label {\n",
       "  /* fitted */\n",
       "  background-color: var(--sklearn-color-fitted-level-2);\n",
       "}\n",
       "\n",
       "#sk-container-id-1 div.sk-label label.sk-toggleable__label,\n",
       "#sk-container-id-1 div.sk-label label {\n",
       "  /* The background is the default theme color */\n",
       "  color: var(--sklearn-color-text-on-default-background);\n",
       "}\n",
       "\n",
       "/* On hover, darken the color of the background */\n",
       "#sk-container-id-1 div.sk-label:hover label.sk-toggleable__label {\n",
       "  color: var(--sklearn-color-text);\n",
       "  background-color: var(--sklearn-color-unfitted-level-2);\n",
       "}\n",
       "\n",
       "/* Label box, darken color on hover, fitted */\n",
       "#sk-container-id-1 div.sk-label.fitted:hover label.sk-toggleable__label.fitted {\n",
       "  color: var(--sklearn-color-text);\n",
       "  background-color: var(--sklearn-color-fitted-level-2);\n",
       "}\n",
       "\n",
       "/* Estimator label */\n",
       "\n",
       "#sk-container-id-1 div.sk-label label {\n",
       "  font-family: monospace;\n",
       "  font-weight: bold;\n",
       "  display: inline-block;\n",
       "  line-height: 1.2em;\n",
       "}\n",
       "\n",
       "#sk-container-id-1 div.sk-label-container {\n",
       "  text-align: center;\n",
       "}\n",
       "\n",
       "/* Estimator-specific */\n",
       "#sk-container-id-1 div.sk-estimator {\n",
       "  font-family: monospace;\n",
       "  border: 1px dotted var(--sklearn-color-border-box);\n",
       "  border-radius: 0.25em;\n",
       "  box-sizing: border-box;\n",
       "  margin-bottom: 0.5em;\n",
       "  /* unfitted */\n",
       "  background-color: var(--sklearn-color-unfitted-level-0);\n",
       "}\n",
       "\n",
       "#sk-container-id-1 div.sk-estimator.fitted {\n",
       "  /* fitted */\n",
       "  background-color: var(--sklearn-color-fitted-level-0);\n",
       "}\n",
       "\n",
       "/* on hover */\n",
       "#sk-container-id-1 div.sk-estimator:hover {\n",
       "  /* unfitted */\n",
       "  background-color: var(--sklearn-color-unfitted-level-2);\n",
       "}\n",
       "\n",
       "#sk-container-id-1 div.sk-estimator.fitted:hover {\n",
       "  /* fitted */\n",
       "  background-color: var(--sklearn-color-fitted-level-2);\n",
       "}\n",
       "\n",
       "/* Specification for estimator info (e.g. \"i\" and \"?\") */\n",
       "\n",
       "/* Common style for \"i\" and \"?\" */\n",
       "\n",
       ".sk-estimator-doc-link,\n",
       "a:link.sk-estimator-doc-link,\n",
       "a:visited.sk-estimator-doc-link {\n",
       "  float: right;\n",
       "  font-size: smaller;\n",
       "  line-height: 1em;\n",
       "  font-family: monospace;\n",
       "  background-color: var(--sklearn-color-background);\n",
       "  border-radius: 1em;\n",
       "  height: 1em;\n",
       "  width: 1em;\n",
       "  text-decoration: none !important;\n",
       "  margin-left: 1ex;\n",
       "  /* unfitted */\n",
       "  border: var(--sklearn-color-unfitted-level-1) 1pt solid;\n",
       "  color: var(--sklearn-color-unfitted-level-1);\n",
       "}\n",
       "\n",
       ".sk-estimator-doc-link.fitted,\n",
       "a:link.sk-estimator-doc-link.fitted,\n",
       "a:visited.sk-estimator-doc-link.fitted {\n",
       "  /* fitted */\n",
       "  border: var(--sklearn-color-fitted-level-1) 1pt solid;\n",
       "  color: var(--sklearn-color-fitted-level-1);\n",
       "}\n",
       "\n",
       "/* On hover */\n",
       "div.sk-estimator:hover .sk-estimator-doc-link:hover,\n",
       ".sk-estimator-doc-link:hover,\n",
       "div.sk-label-container:hover .sk-estimator-doc-link:hover,\n",
       ".sk-estimator-doc-link:hover {\n",
       "  /* unfitted */\n",
       "  background-color: var(--sklearn-color-unfitted-level-3);\n",
       "  color: var(--sklearn-color-background);\n",
       "  text-decoration: none;\n",
       "}\n",
       "\n",
       "div.sk-estimator.fitted:hover .sk-estimator-doc-link.fitted:hover,\n",
       ".sk-estimator-doc-link.fitted:hover,\n",
       "div.sk-label-container:hover .sk-estimator-doc-link.fitted:hover,\n",
       ".sk-estimator-doc-link.fitted:hover {\n",
       "  /* fitted */\n",
       "  background-color: var(--sklearn-color-fitted-level-3);\n",
       "  color: var(--sklearn-color-background);\n",
       "  text-decoration: none;\n",
       "}\n",
       "\n",
       "/* Span, style for the box shown on hovering the info icon */\n",
       ".sk-estimator-doc-link span {\n",
       "  display: none;\n",
       "  z-index: 9999;\n",
       "  position: relative;\n",
       "  font-weight: normal;\n",
       "  right: .2ex;\n",
       "  padding: .5ex;\n",
       "  margin: .5ex;\n",
       "  width: min-content;\n",
       "  min-width: 20ex;\n",
       "  max-width: 50ex;\n",
       "  color: var(--sklearn-color-text);\n",
       "  box-shadow: 2pt 2pt 4pt #999;\n",
       "  /* unfitted */\n",
       "  background: var(--sklearn-color-unfitted-level-0);\n",
       "  border: .5pt solid var(--sklearn-color-unfitted-level-3);\n",
       "}\n",
       "\n",
       ".sk-estimator-doc-link.fitted span {\n",
       "  /* fitted */\n",
       "  background: var(--sklearn-color-fitted-level-0);\n",
       "  border: var(--sklearn-color-fitted-level-3);\n",
       "}\n",
       "\n",
       ".sk-estimator-doc-link:hover span {\n",
       "  display: block;\n",
       "}\n",
       "\n",
       "/* \"?\"-specific style due to the `<a>` HTML tag */\n",
       "\n",
       "#sk-container-id-1 a.estimator_doc_link {\n",
       "  float: right;\n",
       "  font-size: 1rem;\n",
       "  line-height: 1em;\n",
       "  font-family: monospace;\n",
       "  background-color: var(--sklearn-color-background);\n",
       "  border-radius: 1rem;\n",
       "  height: 1rem;\n",
       "  width: 1rem;\n",
       "  text-decoration: none;\n",
       "  /* unfitted */\n",
       "  color: var(--sklearn-color-unfitted-level-1);\n",
       "  border: var(--sklearn-color-unfitted-level-1) 1pt solid;\n",
       "}\n",
       "\n",
       "#sk-container-id-1 a.estimator_doc_link.fitted {\n",
       "  /* fitted */\n",
       "  border: var(--sklearn-color-fitted-level-1) 1pt solid;\n",
       "  color: var(--sklearn-color-fitted-level-1);\n",
       "}\n",
       "\n",
       "/* On hover */\n",
       "#sk-container-id-1 a.estimator_doc_link:hover {\n",
       "  /* unfitted */\n",
       "  background-color: var(--sklearn-color-unfitted-level-3);\n",
       "  color: var(--sklearn-color-background);\n",
       "  text-decoration: none;\n",
       "}\n",
       "\n",
       "#sk-container-id-1 a.estimator_doc_link.fitted:hover {\n",
       "  /* fitted */\n",
       "  background-color: var(--sklearn-color-fitted-level-3);\n",
       "}\n",
       "</style><div id=\"sk-container-id-1\" class=\"sk-top-container\"><div class=\"sk-text-repr-fallback\"><pre>ElasticNetCV(cv=5)</pre><b>In a Jupyter environment, please rerun this cell to show the HTML representation or trust the notebook. <br />On GitHub, the HTML representation is unable to render, please try loading this page with nbviewer.org.</b></div><div class=\"sk-container\" hidden><div class=\"sk-item\"><div class=\"sk-estimator fitted sk-toggleable\"><input class=\"sk-toggleable__control sk-hidden--visually\" id=\"sk-estimator-id-1\" type=\"checkbox\" checked><label for=\"sk-estimator-id-1\" class=\"sk-toggleable__label fitted sk-toggleable__label-arrow fitted\">&nbsp;&nbsp;ElasticNetCV<a class=\"sk-estimator-doc-link fitted\" rel=\"noreferrer\" target=\"_blank\" href=\"https://scikit-learn.org/1.4/modules/generated/sklearn.linear_model.ElasticNetCV.html\">?<span>Documentation for ElasticNetCV</span></a><span class=\"sk-estimator-doc-link fitted\">i<span>Fitted</span></span></label><div class=\"sk-toggleable__content fitted\"><pre>ElasticNetCV(cv=5)</pre></div> </div></div></div></div>"
      ],
      "text/plain": [
       "ElasticNetCV(cv=5)"
      ]
     },
     "execution_count": 19,
     "metadata": {},
     "output_type": "execute_result"
    }
   ],
   "source": [
    "from sklearn.linear_model import LassoCV, RidgeCV, ElasticNetCV\n",
    "prediction_model_ridge=RidgeCV(cv=5)\n",
    "prediction_model_lasso=LassoCV(cv=5)\n",
    "prediction_model_en=ElasticNetCV(cv=5)\n",
    "prediction_model_ridge.fit(X_train, y_train)\n",
    "prediction_model_lasso.fit(X_train, y_train)\n",
    "prediction_model_en.fit(X_train, y_train)"
   ]
  },
  {
   "cell_type": "code",
   "execution_count": null,
   "metadata": {},
   "outputs": [],
   "source": []
  },
  {
   "cell_type": "code",
   "execution_count": null,
   "metadata": {},
   "outputs": [],
   "source": []
  },
  {
   "cell_type": "code",
   "execution_count": null,
   "metadata": {},
   "outputs": [],
   "source": []
  },
  {
   "cell_type": "code",
   "execution_count": 116,
   "metadata": {},
   "outputs": [
    {
     "name": "stdout",
     "output_type": "stream",
     "text": [
      "Cross-validation errors: {'Ridge': 0.010654942277324744, 'Lasso': 0.051026930270252416, 'ElasticNet': 0.051026930270252416}\n",
      "Best model: Ridge\n"
     ]
    }
   ],
   "source": [
    "import numpy as np\n",
    "from sklearn.linear_model import RidgeCV, ElasticNetCV, LassoCV\n",
    "from sklearn.model_selection import train_test_split\n",
    "from sklearn.metrics import mean_squared_error\n",
    "\n",
    "# Generate synthetic data for demonstration\n",
    "from sklearn.datasets import make_regression\n",
    "X, y = make_regression(n_samples=1000, n_features=10, noise=0.1, random_state=0)\n",
    "X_train, X_test, y_train, y_test = train_test_split(X, y, test_size=0.2, random_state=42)\n",
    "\n",
    "\n",
    "# Fit RidgeCV\n",
    "ridge = RidgeCV(cv=5, scoring='neg_mean_squared_error')\n",
    "ridge.fit(X_train, y_train)\n",
    "ridge_cv_error = -1*ridge.best_score_\n",
    "\n",
    "# Fit LassoCV\n",
    "lasso = LassoCV(cv=5, random_state=42)\n",
    "lasso.fit(X_train, y_train)\n",
    "lasso_cv_error = np.mean(lasso.mse_path_, axis=1).min()\n",
    "\n",
    "# Fit ElasticNetCV\n",
    "elasticnet = ElasticNetCV(cv=5,l1_ratio=[0.1,0.5,0.7,0.9,0.95,0.99,1], random_state=0) #1.0 mean Lasso\n",
    "elasticnet.fit(X_train, y_train)\n",
    "elasticnet_cv_error = np.mean(elasticnet.mse_path_, axis=-1).min()\n",
    "\n",
    "# Select the best model\n",
    "errors = {\n",
    "    'Ridge': ridge_cv_error,\n",
    "    'Lasso': lasso_cv_error,\n",
    "    'ElasticNet': elasticnet_cv_error\n",
    "}\n",
    "best_model_name = min(errors, key=errors.get)\n",
    "best_model = {'Ridge': ridge, 'Lasso': lasso, 'ElasticNet': elasticnet}[best_model_name]\n",
    "\n",
    "# Output results\n",
    "print(f\"Cross-validation errors: {errors}\")\n",
    "print(f\"Best model: {best_model_name}\")\n"
   ]
  },
  {
   "cell_type": "code",
   "execution_count": 112,
   "metadata": {},
   "outputs": [
    {
     "name": "stdout",
     "output_type": "stream",
     "text": [
      "Ridge MSE on training: 0.010030112843297695\n"
     ]
    }
   ],
   "source": [
    "# compute ridge mse on training\n",
    "y_pred_ridge = ridge.predict(X_train)\n",
    "ridge_mse = mean_squared_error(y_train, y_pred_ridge)\n",
    "print(f\"Ridge MSE on training: {ridge_mse}\")"
   ]
  },
  {
   "cell_type": "code",
   "execution_count": 103,
   "metadata": {},
   "outputs": [
    {
     "data": {
      "text/plain": [
       "0.1"
      ]
     },
     "execution_count": 103,
     "metadata": {},
     "output_type": "execute_result"
    }
   ],
   "source": [
    "ridge.alpha_"
   ]
  },
  {
   "cell_type": "code",
   "execution_count": 96,
   "metadata": {},
   "outputs": [
    {
     "name": "stdout",
     "output_type": "stream",
     "text": [
      "Test MSE of the best model (Ridge): 0.011753256598425667\n"
     ]
    }
   ],
   "source": [
    "y_pred = ridge.predict(X_test)\n",
    "test_mse = mean_squared_error(y_test, y_pred)\n",
    "print(f\"Test MSE of the best model ({best_model_name}): {test_mse}\")\n"
   ]
  },
  {
   "cell_type": "code",
   "execution_count": 97,
   "metadata": {},
   "outputs": [
    {
     "name": "stdout",
     "output_type": "stream",
     "text": [
      "Test MSE of the best model (Ridge): 0.04924854632962474\n"
     ]
    }
   ],
   "source": [
    "y_pred = lasso.predict(X_test)\n",
    "test_mse = mean_squared_error(y_test, y_pred)\n",
    "print(f\"Test MSE of the best model ({best_model_name}): {test_mse}\")"
   ]
  },
  {
   "cell_type": "code",
   "execution_count": 98,
   "metadata": {},
   "outputs": [
    {
     "name": "stdout",
     "output_type": "stream",
     "text": [
      "Test MSE of the best model (Ridge): 0.04924854632962474\n"
     ]
    }
   ],
   "source": [
    "y_pred = elasticnet.predict(X_test)\n",
    "test_mse = mean_squared_error(y_test, y_pred)\n",
    "print(f\"Test MSE of the best model ({best_model_name}): {test_mse}\")\n"
   ]
  },
  {
   "cell_type": "code",
   "execution_count": null,
   "metadata": {},
   "outputs": [],
   "source": []
  },
  {
   "cell_type": "code",
   "execution_count": 59,
   "metadata": {},
   "outputs": [
    {
     "data": {
      "text/plain": [
       "array([[27659.92820947, 55476.76399669, 19610.87993246, 18128.58587661,\n",
       "        34250.42098335],\n",
       "       [27649.45447736, 55476.76399669, 19600.60305206, 18122.65835464,\n",
       "        34238.77341336],\n",
       "       [27638.25352671, 55476.76399669, 19589.61434195, 18116.325546  ,\n",
       "        34226.31452032],\n",
       "       [27626.2771315 , 55476.76399669, 19572.21877633, 18109.56151447,\n",
       "        34212.99010942],\n",
       "       [27608.78457058, 55476.11423712, 19551.97931941, 18102.33892804,\n",
       "        34189.48562027],\n",
       "       [27577.560285  , 55462.62941741, 19530.34377017, 18077.28936643,\n",
       "        34163.0913197 ],\n",
       "       [27542.24668077, 55448.21074146, 19507.22088418, 18045.81482274,\n",
       "        34133.04929463],\n",
       "       [27500.76777154, 55417.95457116, 19481.30314451, 18012.88527788,\n",
       "        34091.4185811 ],\n",
       "       [27456.44847862, 55365.94172476, 19445.30213641, 17977.70787523,\n",
       "        34046.92442804],\n",
       "       [27409.10612396, 55310.3219057 , 19403.87300231, 17940.13913054,\n",
       "        33999.3808548 ],\n",
       "       [27356.65765012, 55239.73638945, 19359.6324071 , 17900.02785376,\n",
       "        33937.00344226],\n",
       "       [27293.87118053, 55162.42725486, 19312.40325302, 17857.41169318,\n",
       "        33868.63573786],\n",
       "       [27226.83856111, 55076.19599895, 19261.21606562, 17812.09215484,\n",
       "        33795.03135363],\n",
       "       [27155.29440463, 54962.06128101, 19205.78952684, 17763.77688209,\n",
       "        33708.96597369],\n",
       "       [27076.64328245, 54824.61048699, 19146.69261415, 17712.28870912,\n",
       "        33607.1428697 ],\n",
       "       [26990.07815718, 54675.21311144, 19083.70712041, 17653.88253493,\n",
       "        33497.35465918],\n",
       "       [26897.77885039, 54511.90488576, 19016.6054227 , 17589.16296959,\n",
       "        33380.28828349],\n",
       "       [26800.93438498, 54337.62616309, 18938.59486523, 17520.22453443,\n",
       "        33255.50979973],\n",
       "       [26698.70470413, 54151.70217518, 18853.49143968, 17446.82587235,\n",
       "        33122.56632911],\n",
       "       [26589.87735372, 53953.42563537, 18762.91863195, 17368.76445311,\n",
       "        32980.98625853],\n",
       "       [26474.08373008, 53742.05651012, 18668.04178121, 17285.81374471,\n",
       "        32830.27963215],\n",
       "       [26350.9426263 , 53516.82202583, 18570.32236054, 17197.67715564,\n",
       "        32669.93876077],\n",
       "       [26220.06097676, 53280.00437998, 18466.51714866, 17104.08800514,\n",
       "        32499.1994528 ],\n",
       "       [26081.03481522, 53029.94646261, 18356.31617829, 17004.77380091,\n",
       "        32315.28781938],\n",
       "       [25933.4504706 , 52763.85870652, 18239.40312334, 16899.45728903,\n",
       "        32120.04008521],\n",
       "       [25776.88602451, 52480.86244125, 18115.45658064, 16787.85769776,\n",
       "        31912.89584566],\n",
       "       [25610.91305483, 52180.05184308, 17984.15157184, 16669.69218963,\n",
       "        31693.28594078],\n",
       "       [25435.09868868, 51860.4962646 , 17845.16129023, 16544.67753523,\n",
       "        31460.63519374],\n",
       "       [25247.89542732, 51521.24314986, 17698.15910787, 16412.53202031,\n",
       "        31214.36559853],\n",
       "       [25034.16254478, 51161.32159735, 17542.82085634, 16272.97759538,\n",
       "        30953.89998657],\n",
       "       [24808.40622416, 50779.7466351 , 17378.82739203, 16125.74227361,\n",
       "        30678.66619796],\n",
       "       [24570.15013197, 50375.52427219, 17205.86745292, 15970.5627793 ,\n",
       "        30388.10177826],\n",
       "       [24318.74750483, 49947.65738912, 17023.64081001, 15807.18744389,\n",
       "        30081.65921514],\n",
       "       [24053.19755777, 49495.152526  , 16831.7722081 , 15635.37934093,\n",
       "        29758.81172135],\n",
       "       [23772.97978297, 49017.02762195, 16628.79863082, 15454.91964494,\n",
       "        29419.05956033],\n",
       "       [23478.67565497, 48512.32075034, 16415.72570612, 15265.26910838,\n",
       "        29061.93689915],\n",
       "       [23169.96922775, 47980.09988351, 16192.33928367, 15065.02229097,\n",
       "        28687.01915983],\n",
       "       [22846.58709523, 47419.47370574, 15958.45702937, 14855.57274494,\n",
       "        28293.93082438],\n",
       "       [22508.30491205, 46829.60347487, 15713.93310337, 14636.81641556,\n",
       "        27882.35363201],\n",
       "       [22154.95408919, 46207.13629082, 15458.66295502, 14408.68704557,\n",
       "        27452.03508789],\n",
       "       [21786.42857392, 45553.16652874, 15192.58816296, 14171.16008127,\n",
       "        27002.7971835 ],\n",
       "       [21402.69160923, 44867.82533904, 14915.70124503, 13924.25644618,\n",
       "        26534.54520772],\n",
       "       [21003.78235336, 44150.63566107, 14628.05035307, 13668.04609853,\n",
       "        26047.27650789],\n",
       "       [20589.82782644, 43401.248105  , 14329.74375816, 13402.65128357,\n",
       "        25541.0890399 ],\n",
       "       [20161.02767045, 42619.45759219, 14020.9540251 , 13128.24938819,\n",
       "        25016.18952846],\n",
       "       [19717.689654  , 41805.22015863, 13701.92176838, 12844.7311201 ,\n",
       "        24472.9010431 ],\n",
       "       [19260.2151693 , 40958.66963112, 13372.95887914, 12550.23802144,\n",
       "        23911.66978278],\n",
       "       [18789.10755593, 40080.13384123, 13034.45111132, 12247.58420981,\n",
       "        23333.07085493],\n",
       "       [18304.97481558, 39170.14999927, 12686.85991761, 11937.19434856,\n",
       "        22737.81283177],\n",
       "       [17808.531143  , 38229.47881288, 12330.7329564 , 11619.55409529,\n",
       "        22125.72658176],\n",
       "       [17300.59714127, 37259.11690334, 11966.66887759, 11295.20886678,\n",
       "        21496.63759536],\n",
       "       [16782.09860895, 36260.30705167, 11595.36564543, 10964.76161233,\n",
       "        20853.87116746],\n",
       "       [16254.06381096, 35234.54579715, 11217.58758626, 10628.88056708,\n",
       "        20198.69873231],\n",
       "       [15717.61917354, 34183.58791655, 10834.16941853, 10288.25418658,\n",
       "        19532.15364117],\n",
       "       [15173.9833765 , 33109.44733523, 10446.01183639,  9943.64483722,\n",
       "        18852.37644254],\n",
       "       [14624.45985132, 32014.39406316, 10054.07591851,  9595.84608336,\n",
       "        18164.71366616],\n",
       "       [14070.42773061, 30900.93042257,  9659.37638636,  9245.68534546,\n",
       "        17470.92273529],\n",
       "       [13513.3313328 , 29771.84076933,  9262.97376374,  8894.01713247,\n",
       "        16772.85304149],\n",
       "       [12954.66830267, 28630.08728027,  8865.96551743,  8541.71584953,\n",
       "        16072.43060231],\n",
       "       [12395.97656417, 27478.84386121,  8469.4762866 ,  8189.6683151 ,\n",
       "        15371.64089588],\n",
       "       [11838.82027478, 26321.45679555,  8074.64733602,  7838.76612557,\n",
       "        14672.51012431],\n",
       "       [11284.77499931, 25161.41415232,  7682.62539333,  7489.89800385,\n",
       "        13977.08520625],\n",
       "       [10735.41234571, 24002.31116188,  7294.55105361,  7143.94226172,\n",
       "        13287.41284448],\n",
       "       [10192.28432451, 22847.81211012,  6911.54695385,  6801.75949411,\n",
       "        12605.51805259],\n",
       "       [ 9656.9077067 , 21701.60944522,  6534.70593562,  6464.18560922,\n",
       "        11933.38255216],\n",
       "       [ 9130.74866214, 20567.38091904,  6165.0794236 ,  6132.02528079,\n",
       "        11272.92346866],\n",
       "       [ 8615.20796079, 19448.74564459,  5803.66625253,  5806.0458915 ,\n",
       "        10625.97275825],\n",
       "       [ 8111.60701312, 18357.81478625,  5451.40217223,  5486.97201858,\n",
       "         9994.25778883],\n",
       "       [ 7621.17501233, 17289.2181788 ,  5109.15025108,  5175.48049727,\n",
       "         9379.38347694],\n",
       "       [ 7145.0374211 , 16245.50784228,  4777.69238146,  4872.19608416,\n",
       "         8782.81634734],\n",
       "       [ 6684.20812613, 15229.57097005,  4457.72206696,  4577.68773247,\n",
       "         8205.87083617],\n",
       "       [ 6239.56958163, 14244.049008  ,  4149.83864022,  4292.46548435,\n",
       "         7649.6981015 ],\n",
       "       [ 5811.88788118, 13291.30994149,  3854.6009451 ,  4016.97798099,\n",
       "         7115.27754043],\n",
       "       [ 5401.79207297, 12373.42548662,  3572.3000575 ,  3751.61059026,\n",
       "         6603.40780629],\n",
       "       [ 5009.77636159, 11492.15382931,  3303.28482048,  3496.68415109,\n",
       "         6114.71704487],\n",
       "       [ 4636.19983961, 10648.92821005,  3049.76077627,  3252.45433482,\n",
       "         5651.86496645],\n",
       "       [ 4281.28820469,  9844.85146951,  2813.01268316,  3019.16857396,\n",
       "         5213.64615468],\n",
       "       [ 3945.13736492,  9080.69648682,  2588.18651916,  2796.84509637,\n",
       "         4797.25094171],\n",
       "       [ 3627.71879084,  8356.9122672 ,  2372.57843536,  2592.23680345,\n",
       "         4403.70131798],\n",
       "       [ 3328.88643324,  7673.63527633,  2170.31010098,  2401.78326089,\n",
       "         4033.80716584],\n",
       "       [ 3048.3849938 ,  7030.70548196,  1981.12999639,  2211.42408258,\n",
       "         3687.20811818],\n",
       "       [ 2785.8593112 ,  6427.68645415,  1804.72264458,  2031.97269541,\n",
       "         3363.4136957 ],\n",
       "       [ 2540.86461   ,  5863.76280844,  1640.7108296 ,  1863.31457008,\n",
       "         3061.81799121],\n",
       "       [ 2312.87735316,  5338.26269989,  1488.6643352 ,  1705.23639183,\n",
       "         2781.71461084],\n",
       "       [ 2101.3064413 ,  4849.95286964,  1348.10880333,  1557.47944687,\n",
       "         2522.3119741 ],\n",
       "       [ 1905.50451238,  4397.54739509,  1218.53451569,  1419.74439903,\n",
       "         2282.74863326],\n",
       "       [ 1724.7791128 ,  3979.61893277,  1099.40492232,  1291.69632883,\n",
       "         2062.10830156],\n",
       "       [ 1582.12167958,  3594.62733651,   990.16476534,  1172.9699451 ,\n",
       "         1859.43431576],\n",
       "       [ 1432.00294166,  3240.94731861,   890.2476727 ,  1063.1748738 ,\n",
       "         1673.74330042],\n",
       "       [ 1289.75093099,  2916.89464117,   799.08312463,   961.90092956,\n",
       "         1504.03784556],\n",
       "       [ 1159.71291338,  2620.7504426 ,   716.10272339,   868.72327861,\n",
       "         1349.31805525],\n",
       "       [ 1041.12187738,  2350.78340309,   640.74572333,   783.20740883,\n",
       "         1208.5918691 ],\n",
       "       [  933.2157539 ,  2105.26954866,   572.46380264,   704.91383215,\n",
       "         1080.8841014 ],\n",
       "       [  835.24757865,  1882.50958291,   510.72507999,   633.40245571,\n",
       "          965.24418072],\n",
       "       [  746.49091187,  1680.8437154 ,   455.01739757,   568.23657118,\n",
       "          860.75260722],\n",
       "       [  666.24432796,  1498.66402514,   404.85090716,   508.98642501,\n",
       "          766.52617336],\n",
       "       [  593.8350194 ,  1334.42445501,   359.76000733,   455.23234605,\n",
       "          681.72201696],\n",
       "       [  528.62156821,  1186.64857799,   319.30468845,   406.56741983,\n",
       "          605.54059328],\n",
       "       [  469.99594938,  1053.93530997,   283.07134711,   362.59971071,\n",
       "          537.22766513],\n",
       "       [  417.38483834,   934.96276622,   250.6110982 ,   322.95404379,\n",
       "          476.07541775]])"
      ]
     },
     "execution_count": 59,
     "metadata": {},
     "output_type": "execute_result"
    }
   ],
   "source": [
    "elasticnet.mse_path_"
   ]
  },
  {
   "cell_type": "code",
   "execution_count": 56,
   "metadata": {},
   "outputs": [
    {
     "data": {
      "text/html": [
       "<style>#sk-container-id-2 {\n",
       "  /* Definition of color scheme common for light and dark mode */\n",
       "  --sklearn-color-text: black;\n",
       "  --sklearn-color-line: gray;\n",
       "  /* Definition of color scheme for unfitted estimators */\n",
       "  --sklearn-color-unfitted-level-0: #fff5e6;\n",
       "  --sklearn-color-unfitted-level-1: #f6e4d2;\n",
       "  --sklearn-color-unfitted-level-2: #ffe0b3;\n",
       "  --sklearn-color-unfitted-level-3: chocolate;\n",
       "  /* Definition of color scheme for fitted estimators */\n",
       "  --sklearn-color-fitted-level-0: #f0f8ff;\n",
       "  --sklearn-color-fitted-level-1: #d4ebff;\n",
       "  --sklearn-color-fitted-level-2: #b3dbfd;\n",
       "  --sklearn-color-fitted-level-3: cornflowerblue;\n",
       "\n",
       "  /* Specific color for light theme */\n",
       "  --sklearn-color-text-on-default-background: var(--sg-text-color, var(--theme-code-foreground, var(--jp-content-font-color1, black)));\n",
       "  --sklearn-color-background: var(--sg-background-color, var(--theme-background, var(--jp-layout-color0, white)));\n",
       "  --sklearn-color-border-box: var(--sg-text-color, var(--theme-code-foreground, var(--jp-content-font-color1, black)));\n",
       "  --sklearn-color-icon: #696969;\n",
       "\n",
       "  @media (prefers-color-scheme: dark) {\n",
       "    /* Redefinition of color scheme for dark theme */\n",
       "    --sklearn-color-text-on-default-background: var(--sg-text-color, var(--theme-code-foreground, var(--jp-content-font-color1, white)));\n",
       "    --sklearn-color-background: var(--sg-background-color, var(--theme-background, var(--jp-layout-color0, #111)));\n",
       "    --sklearn-color-border-box: var(--sg-text-color, var(--theme-code-foreground, var(--jp-content-font-color1, white)));\n",
       "    --sklearn-color-icon: #878787;\n",
       "  }\n",
       "}\n",
       "\n",
       "#sk-container-id-2 {\n",
       "  color: var(--sklearn-color-text);\n",
       "}\n",
       "\n",
       "#sk-container-id-2 pre {\n",
       "  padding: 0;\n",
       "}\n",
       "\n",
       "#sk-container-id-2 input.sk-hidden--visually {\n",
       "  border: 0;\n",
       "  clip: rect(1px 1px 1px 1px);\n",
       "  clip: rect(1px, 1px, 1px, 1px);\n",
       "  height: 1px;\n",
       "  margin: -1px;\n",
       "  overflow: hidden;\n",
       "  padding: 0;\n",
       "  position: absolute;\n",
       "  width: 1px;\n",
       "}\n",
       "\n",
       "#sk-container-id-2 div.sk-dashed-wrapped {\n",
       "  border: 1px dashed var(--sklearn-color-line);\n",
       "  margin: 0 0.4em 0.5em 0.4em;\n",
       "  box-sizing: border-box;\n",
       "  padding-bottom: 0.4em;\n",
       "  background-color: var(--sklearn-color-background);\n",
       "}\n",
       "\n",
       "#sk-container-id-2 div.sk-container {\n",
       "  /* jupyter's `normalize.less` sets `[hidden] { display: none; }`\n",
       "     but bootstrap.min.css set `[hidden] { display: none !important; }`\n",
       "     so we also need the `!important` here to be able to override the\n",
       "     default hidden behavior on the sphinx rendered scikit-learn.org.\n",
       "     See: https://github.com/scikit-learn/scikit-learn/issues/21755 */\n",
       "  display: inline-block !important;\n",
       "  position: relative;\n",
       "}\n",
       "\n",
       "#sk-container-id-2 div.sk-text-repr-fallback {\n",
       "  display: none;\n",
       "}\n",
       "\n",
       "div.sk-parallel-item,\n",
       "div.sk-serial,\n",
       "div.sk-item {\n",
       "  /* draw centered vertical line to link estimators */\n",
       "  background-image: linear-gradient(var(--sklearn-color-text-on-default-background), var(--sklearn-color-text-on-default-background));\n",
       "  background-size: 2px 100%;\n",
       "  background-repeat: no-repeat;\n",
       "  background-position: center center;\n",
       "}\n",
       "\n",
       "/* Parallel-specific style estimator block */\n",
       "\n",
       "#sk-container-id-2 div.sk-parallel-item::after {\n",
       "  content: \"\";\n",
       "  width: 100%;\n",
       "  border-bottom: 2px solid var(--sklearn-color-text-on-default-background);\n",
       "  flex-grow: 1;\n",
       "}\n",
       "\n",
       "#sk-container-id-2 div.sk-parallel {\n",
       "  display: flex;\n",
       "  align-items: stretch;\n",
       "  justify-content: center;\n",
       "  background-color: var(--sklearn-color-background);\n",
       "  position: relative;\n",
       "}\n",
       "\n",
       "#sk-container-id-2 div.sk-parallel-item {\n",
       "  display: flex;\n",
       "  flex-direction: column;\n",
       "}\n",
       "\n",
       "#sk-container-id-2 div.sk-parallel-item:first-child::after {\n",
       "  align-self: flex-end;\n",
       "  width: 50%;\n",
       "}\n",
       "\n",
       "#sk-container-id-2 div.sk-parallel-item:last-child::after {\n",
       "  align-self: flex-start;\n",
       "  width: 50%;\n",
       "}\n",
       "\n",
       "#sk-container-id-2 div.sk-parallel-item:only-child::after {\n",
       "  width: 0;\n",
       "}\n",
       "\n",
       "/* Serial-specific style estimator block */\n",
       "\n",
       "#sk-container-id-2 div.sk-serial {\n",
       "  display: flex;\n",
       "  flex-direction: column;\n",
       "  align-items: center;\n",
       "  background-color: var(--sklearn-color-background);\n",
       "  padding-right: 1em;\n",
       "  padding-left: 1em;\n",
       "}\n",
       "\n",
       "\n",
       "/* Toggleable style: style used for estimator/Pipeline/ColumnTransformer box that is\n",
       "clickable and can be expanded/collapsed.\n",
       "- Pipeline and ColumnTransformer use this feature and define the default style\n",
       "- Estimators will overwrite some part of the style using the `sk-estimator` class\n",
       "*/\n",
       "\n",
       "/* Pipeline and ColumnTransformer style (default) */\n",
       "\n",
       "#sk-container-id-2 div.sk-toggleable {\n",
       "  /* Default theme specific background. It is overwritten whether we have a\n",
       "  specific estimator or a Pipeline/ColumnTransformer */\n",
       "  background-color: var(--sklearn-color-background);\n",
       "}\n",
       "\n",
       "/* Toggleable label */\n",
       "#sk-container-id-2 label.sk-toggleable__label {\n",
       "  cursor: pointer;\n",
       "  display: block;\n",
       "  width: 100%;\n",
       "  margin-bottom: 0;\n",
       "  padding: 0.5em;\n",
       "  box-sizing: border-box;\n",
       "  text-align: center;\n",
       "}\n",
       "\n",
       "#sk-container-id-2 label.sk-toggleable__label-arrow:before {\n",
       "  /* Arrow on the left of the label */\n",
       "  content: \"▸\";\n",
       "  float: left;\n",
       "  margin-right: 0.25em;\n",
       "  color: var(--sklearn-color-icon);\n",
       "}\n",
       "\n",
       "#sk-container-id-2 label.sk-toggleable__label-arrow:hover:before {\n",
       "  color: var(--sklearn-color-text);\n",
       "}\n",
       "\n",
       "/* Toggleable content - dropdown */\n",
       "\n",
       "#sk-container-id-2 div.sk-toggleable__content {\n",
       "  max-height: 0;\n",
       "  max-width: 0;\n",
       "  overflow: hidden;\n",
       "  text-align: left;\n",
       "  /* unfitted */\n",
       "  background-color: var(--sklearn-color-unfitted-level-0);\n",
       "}\n",
       "\n",
       "#sk-container-id-2 div.sk-toggleable__content.fitted {\n",
       "  /* fitted */\n",
       "  background-color: var(--sklearn-color-fitted-level-0);\n",
       "}\n",
       "\n",
       "#sk-container-id-2 div.sk-toggleable__content pre {\n",
       "  margin: 0.2em;\n",
       "  border-radius: 0.25em;\n",
       "  color: var(--sklearn-color-text);\n",
       "  /* unfitted */\n",
       "  background-color: var(--sklearn-color-unfitted-level-0);\n",
       "}\n",
       "\n",
       "#sk-container-id-2 div.sk-toggleable__content.fitted pre {\n",
       "  /* unfitted */\n",
       "  background-color: var(--sklearn-color-fitted-level-0);\n",
       "}\n",
       "\n",
       "#sk-container-id-2 input.sk-toggleable__control:checked~div.sk-toggleable__content {\n",
       "  /* Expand drop-down */\n",
       "  max-height: 200px;\n",
       "  max-width: 100%;\n",
       "  overflow: auto;\n",
       "}\n",
       "\n",
       "#sk-container-id-2 input.sk-toggleable__control:checked~label.sk-toggleable__label-arrow:before {\n",
       "  content: \"▾\";\n",
       "}\n",
       "\n",
       "/* Pipeline/ColumnTransformer-specific style */\n",
       "\n",
       "#sk-container-id-2 div.sk-label input.sk-toggleable__control:checked~label.sk-toggleable__label {\n",
       "  color: var(--sklearn-color-text);\n",
       "  background-color: var(--sklearn-color-unfitted-level-2);\n",
       "}\n",
       "\n",
       "#sk-container-id-2 div.sk-label.fitted input.sk-toggleable__control:checked~label.sk-toggleable__label {\n",
       "  background-color: var(--sklearn-color-fitted-level-2);\n",
       "}\n",
       "\n",
       "/* Estimator-specific style */\n",
       "\n",
       "/* Colorize estimator box */\n",
       "#sk-container-id-2 div.sk-estimator input.sk-toggleable__control:checked~label.sk-toggleable__label {\n",
       "  /* unfitted */\n",
       "  background-color: var(--sklearn-color-unfitted-level-2);\n",
       "}\n",
       "\n",
       "#sk-container-id-2 div.sk-estimator.fitted input.sk-toggleable__control:checked~label.sk-toggleable__label {\n",
       "  /* fitted */\n",
       "  background-color: var(--sklearn-color-fitted-level-2);\n",
       "}\n",
       "\n",
       "#sk-container-id-2 div.sk-label label.sk-toggleable__label,\n",
       "#sk-container-id-2 div.sk-label label {\n",
       "  /* The background is the default theme color */\n",
       "  color: var(--sklearn-color-text-on-default-background);\n",
       "}\n",
       "\n",
       "/* On hover, darken the color of the background */\n",
       "#sk-container-id-2 div.sk-label:hover label.sk-toggleable__label {\n",
       "  color: var(--sklearn-color-text);\n",
       "  background-color: var(--sklearn-color-unfitted-level-2);\n",
       "}\n",
       "\n",
       "/* Label box, darken color on hover, fitted */\n",
       "#sk-container-id-2 div.sk-label.fitted:hover label.sk-toggleable__label.fitted {\n",
       "  color: var(--sklearn-color-text);\n",
       "  background-color: var(--sklearn-color-fitted-level-2);\n",
       "}\n",
       "\n",
       "/* Estimator label */\n",
       "\n",
       "#sk-container-id-2 div.sk-label label {\n",
       "  font-family: monospace;\n",
       "  font-weight: bold;\n",
       "  display: inline-block;\n",
       "  line-height: 1.2em;\n",
       "}\n",
       "\n",
       "#sk-container-id-2 div.sk-label-container {\n",
       "  text-align: center;\n",
       "}\n",
       "\n",
       "/* Estimator-specific */\n",
       "#sk-container-id-2 div.sk-estimator {\n",
       "  font-family: monospace;\n",
       "  border: 1px dotted var(--sklearn-color-border-box);\n",
       "  border-radius: 0.25em;\n",
       "  box-sizing: border-box;\n",
       "  margin-bottom: 0.5em;\n",
       "  /* unfitted */\n",
       "  background-color: var(--sklearn-color-unfitted-level-0);\n",
       "}\n",
       "\n",
       "#sk-container-id-2 div.sk-estimator.fitted {\n",
       "  /* fitted */\n",
       "  background-color: var(--sklearn-color-fitted-level-0);\n",
       "}\n",
       "\n",
       "/* on hover */\n",
       "#sk-container-id-2 div.sk-estimator:hover {\n",
       "  /* unfitted */\n",
       "  background-color: var(--sklearn-color-unfitted-level-2);\n",
       "}\n",
       "\n",
       "#sk-container-id-2 div.sk-estimator.fitted:hover {\n",
       "  /* fitted */\n",
       "  background-color: var(--sklearn-color-fitted-level-2);\n",
       "}\n",
       "\n",
       "/* Specification for estimator info (e.g. \"i\" and \"?\") */\n",
       "\n",
       "/* Common style for \"i\" and \"?\" */\n",
       "\n",
       ".sk-estimator-doc-link,\n",
       "a:link.sk-estimator-doc-link,\n",
       "a:visited.sk-estimator-doc-link {\n",
       "  float: right;\n",
       "  font-size: smaller;\n",
       "  line-height: 1em;\n",
       "  font-family: monospace;\n",
       "  background-color: var(--sklearn-color-background);\n",
       "  border-radius: 1em;\n",
       "  height: 1em;\n",
       "  width: 1em;\n",
       "  text-decoration: none !important;\n",
       "  margin-left: 1ex;\n",
       "  /* unfitted */\n",
       "  border: var(--sklearn-color-unfitted-level-1) 1pt solid;\n",
       "  color: var(--sklearn-color-unfitted-level-1);\n",
       "}\n",
       "\n",
       ".sk-estimator-doc-link.fitted,\n",
       "a:link.sk-estimator-doc-link.fitted,\n",
       "a:visited.sk-estimator-doc-link.fitted {\n",
       "  /* fitted */\n",
       "  border: var(--sklearn-color-fitted-level-1) 1pt solid;\n",
       "  color: var(--sklearn-color-fitted-level-1);\n",
       "}\n",
       "\n",
       "/* On hover */\n",
       "div.sk-estimator:hover .sk-estimator-doc-link:hover,\n",
       ".sk-estimator-doc-link:hover,\n",
       "div.sk-label-container:hover .sk-estimator-doc-link:hover,\n",
       ".sk-estimator-doc-link:hover {\n",
       "  /* unfitted */\n",
       "  background-color: var(--sklearn-color-unfitted-level-3);\n",
       "  color: var(--sklearn-color-background);\n",
       "  text-decoration: none;\n",
       "}\n",
       "\n",
       "div.sk-estimator.fitted:hover .sk-estimator-doc-link.fitted:hover,\n",
       ".sk-estimator-doc-link.fitted:hover,\n",
       "div.sk-label-container:hover .sk-estimator-doc-link.fitted:hover,\n",
       ".sk-estimator-doc-link.fitted:hover {\n",
       "  /* fitted */\n",
       "  background-color: var(--sklearn-color-fitted-level-3);\n",
       "  color: var(--sklearn-color-background);\n",
       "  text-decoration: none;\n",
       "}\n",
       "\n",
       "/* Span, style for the box shown on hovering the info icon */\n",
       ".sk-estimator-doc-link span {\n",
       "  display: none;\n",
       "  z-index: 9999;\n",
       "  position: relative;\n",
       "  font-weight: normal;\n",
       "  right: .2ex;\n",
       "  padding: .5ex;\n",
       "  margin: .5ex;\n",
       "  width: min-content;\n",
       "  min-width: 20ex;\n",
       "  max-width: 50ex;\n",
       "  color: var(--sklearn-color-text);\n",
       "  box-shadow: 2pt 2pt 4pt #999;\n",
       "  /* unfitted */\n",
       "  background: var(--sklearn-color-unfitted-level-0);\n",
       "  border: .5pt solid var(--sklearn-color-unfitted-level-3);\n",
       "}\n",
       "\n",
       ".sk-estimator-doc-link.fitted span {\n",
       "  /* fitted */\n",
       "  background: var(--sklearn-color-fitted-level-0);\n",
       "  border: var(--sklearn-color-fitted-level-3);\n",
       "}\n",
       "\n",
       ".sk-estimator-doc-link:hover span {\n",
       "  display: block;\n",
       "}\n",
       "\n",
       "/* \"?\"-specific style due to the `<a>` HTML tag */\n",
       "\n",
       "#sk-container-id-2 a.estimator_doc_link {\n",
       "  float: right;\n",
       "  font-size: 1rem;\n",
       "  line-height: 1em;\n",
       "  font-family: monospace;\n",
       "  background-color: var(--sklearn-color-background);\n",
       "  border-radius: 1rem;\n",
       "  height: 1rem;\n",
       "  width: 1rem;\n",
       "  text-decoration: none;\n",
       "  /* unfitted */\n",
       "  color: var(--sklearn-color-unfitted-level-1);\n",
       "  border: var(--sklearn-color-unfitted-level-1) 1pt solid;\n",
       "}\n",
       "\n",
       "#sk-container-id-2 a.estimator_doc_link.fitted {\n",
       "  /* fitted */\n",
       "  border: var(--sklearn-color-fitted-level-1) 1pt solid;\n",
       "  color: var(--sklearn-color-fitted-level-1);\n",
       "}\n",
       "\n",
       "/* On hover */\n",
       "#sk-container-id-2 a.estimator_doc_link:hover {\n",
       "  /* unfitted */\n",
       "  background-color: var(--sklearn-color-unfitted-level-3);\n",
       "  color: var(--sklearn-color-background);\n",
       "  text-decoration: none;\n",
       "}\n",
       "\n",
       "#sk-container-id-2 a.estimator_doc_link.fitted:hover {\n",
       "  /* fitted */\n",
       "  background-color: var(--sklearn-color-fitted-level-3);\n",
       "}\n",
       "</style><div id=\"sk-container-id-2\" class=\"sk-top-container\"><div class=\"sk-text-repr-fallback\"><pre>RidgeCV(alphas=array([1.00000000e-03, 1.32571137e-03, 1.75751062e-03, 2.32995181e-03,\n",
       "       3.08884360e-03, 4.09491506e-03, 5.42867544e-03, 7.19685673e-03,\n",
       "       9.54095476e-03, 1.26485522e-02, 1.67683294e-02, 2.22299648e-02,\n",
       "       2.94705170e-02, 3.90693994e-02, 5.17947468e-02, 6.86648845e-02,\n",
       "       9.10298178e-02, 1.20679264e-01, 1.59985872e-01, 2.12095089e-01,\n",
       "       2.81176870e-01, 3.72759372e-0...\n",
       "       8.68511374e-01, 1.15139540e+00, 1.52641797e+00, 2.02358965e+00,\n",
       "       2.68269580e+00, 3.55648031e+00, 4.71486636e+00, 6.25055193e+00,\n",
       "       8.28642773e+00, 1.09854114e+01, 1.45634848e+01, 1.93069773e+01,\n",
       "       2.55954792e+01, 3.39322177e+01, 4.49843267e+01, 5.96362332e+01,\n",
       "       7.90604321e+01, 1.04811313e+02, 1.38949549e+02, 1.84206997e+02,\n",
       "       2.44205309e+02, 3.23745754e+02, 4.29193426e+02, 5.68986603e+02,\n",
       "       7.54312006e+02, 1.00000000e+03]),\n",
       "        cv=5)</pre><b>In a Jupyter environment, please rerun this cell to show the HTML representation or trust the notebook. <br />On GitHub, the HTML representation is unable to render, please try loading this page with nbviewer.org.</b></div><div class=\"sk-container\" hidden><div class=\"sk-item\"><div class=\"sk-estimator fitted sk-toggleable\"><input class=\"sk-toggleable__control sk-hidden--visually\" id=\"sk-estimator-id-2\" type=\"checkbox\" checked><label for=\"sk-estimator-id-2\" class=\"sk-toggleable__label fitted sk-toggleable__label-arrow fitted\">&nbsp;&nbsp;RidgeCV<a class=\"sk-estimator-doc-link fitted\" rel=\"noreferrer\" target=\"_blank\" href=\"https://scikit-learn.org/1.4/modules/generated/sklearn.linear_model.RidgeCV.html\">?<span>Documentation for RidgeCV</span></a><span class=\"sk-estimator-doc-link fitted\">i<span>Fitted</span></span></label><div class=\"sk-toggleable__content fitted\"><pre>RidgeCV(alphas=array([1.00000000e-03, 1.32571137e-03, 1.75751062e-03, 2.32995181e-03,\n",
       "       3.08884360e-03, 4.09491506e-03, 5.42867544e-03, 7.19685673e-03,\n",
       "       9.54095476e-03, 1.26485522e-02, 1.67683294e-02, 2.22299648e-02,\n",
       "       2.94705170e-02, 3.90693994e-02, 5.17947468e-02, 6.86648845e-02,\n",
       "       9.10298178e-02, 1.20679264e-01, 1.59985872e-01, 2.12095089e-01,\n",
       "       2.81176870e-01, 3.72759372e-0...\n",
       "       8.68511374e-01, 1.15139540e+00, 1.52641797e+00, 2.02358965e+00,\n",
       "       2.68269580e+00, 3.55648031e+00, 4.71486636e+00, 6.25055193e+00,\n",
       "       8.28642773e+00, 1.09854114e+01, 1.45634848e+01, 1.93069773e+01,\n",
       "       2.55954792e+01, 3.39322177e+01, 4.49843267e+01, 5.96362332e+01,\n",
       "       7.90604321e+01, 1.04811313e+02, 1.38949549e+02, 1.84206997e+02,\n",
       "       2.44205309e+02, 3.23745754e+02, 4.29193426e+02, 5.68986603e+02,\n",
       "       7.54312006e+02, 1.00000000e+03]),\n",
       "        cv=5)</pre></div> </div></div></div></div>"
      ],
      "text/plain": [
       "RidgeCV(alphas=array([1.00000000e-03, 1.32571137e-03, 1.75751062e-03, 2.32995181e-03,\n",
       "       3.08884360e-03, 4.09491506e-03, 5.42867544e-03, 7.19685673e-03,\n",
       "       9.54095476e-03, 1.26485522e-02, 1.67683294e-02, 2.22299648e-02,\n",
       "       2.94705170e-02, 3.90693994e-02, 5.17947468e-02, 6.86648845e-02,\n",
       "       9.10298178e-02, 1.20679264e-01, 1.59985872e-01, 2.12095089e-01,\n",
       "       2.81176870e-01, 3.72759372e-0...\n",
       "       8.68511374e-01, 1.15139540e+00, 1.52641797e+00, 2.02358965e+00,\n",
       "       2.68269580e+00, 3.55648031e+00, 4.71486636e+00, 6.25055193e+00,\n",
       "       8.28642773e+00, 1.09854114e+01, 1.45634848e+01, 1.93069773e+01,\n",
       "       2.55954792e+01, 3.39322177e+01, 4.49843267e+01, 5.96362332e+01,\n",
       "       7.90604321e+01, 1.04811313e+02, 1.38949549e+02, 1.84206997e+02,\n",
       "       2.44205309e+02, 3.23745754e+02, 4.29193426e+02, 5.68986603e+02,\n",
       "       7.54312006e+02, 1.00000000e+03]),\n",
       "        cv=5)"
      ]
     },
     "execution_count": 56,
     "metadata": {},
     "output_type": "execute_result"
    }
   ],
   "source": [
    "ridge"
   ]
  },
  {
   "cell_type": "code",
   "execution_count": 37,
   "metadata": {},
   "outputs": [
    {
     "data": {
      "text/plain": [
       "(50, 5)"
      ]
     },
     "execution_count": 37,
     "metadata": {},
     "output_type": "execute_result"
    }
   ],
   "source": [
    "elasticnet.mse_path_.shape"
   ]
  },
  {
   "cell_type": "code",
   "execution_count": 40,
   "metadata": {},
   "outputs": [
    {
     "data": {
      "text/plain": [
       "array([-3.10333666e+04, -3.10333666e+04, -3.10333666e+04, -3.10333666e+04,\n",
       "       -3.10333666e+04, -3.10333666e+04, -3.10180564e+04, -3.09624488e+04,\n",
       "       -3.08111232e+04, -3.05533421e+04, -3.01579596e+04, -2.96391496e+04,\n",
       "       -2.89794054e+04, -2.81382460e+04, -2.70748168e+04, -2.57626316e+04,\n",
       "       -2.41777229e+04, -2.23125076e+04, -2.01792954e+04, -1.78217808e+04,\n",
       "       -1.53156291e+04, -1.27671919e+04, -1.02949589e+04, -8.01976058e+03,\n",
       "       -6.02582118e+03, -4.37056910e+03, -3.06011553e+03, -2.07160753e+03,\n",
       "       -1.36524652e+03, -8.73354547e+02, -5.45990427e+02, -3.34790877e+02,\n",
       "       -2.02039879e+02, -1.20376935e+02, -7.09810175e+01, -4.15219904e+01,\n",
       "       -2.41399926e+01, -1.39673575e+01, -8.05579856e+00, -4.63658290e+00,\n",
       "       -2.66602450e+00, -1.53352287e+00, -8.83550198e-01, -5.11890751e-01,\n",
       "       -2.98865021e-01, -1.76986637e-01, -1.07245665e-01, -6.74702087e-02,\n",
       "       -4.46181271e-02, -3.14488829e-02])"
      ]
     },
     "execution_count": 40,
     "metadata": {},
     "output_type": "execute_result"
    }
   ],
   "source": [
    "np.mean(-elasticnet.mse_path_, axis=1)"
   ]
  },
  {
   "cell_type": "code",
   "execution_count": 21,
   "metadata": {},
   "outputs": [
    {
     "ename": "AttributeError",
     "evalue": "'RidgeCV' object has no attribute 'mse_path_'",
     "output_type": "error",
     "traceback": [
      "\u001b[0;31m---------------------------------------------------------------------------\u001b[0m",
      "\u001b[0;31mAttributeError\u001b[0m                            Traceback (most recent call last)",
      "Cell \u001b[0;32mIn[21], line 1\u001b[0m\n\u001b[0;32m----> 1\u001b[0m prediction_model_ridge\u001b[39m.\u001b[39;49mmse_path_\n",
      "\u001b[0;31mAttributeError\u001b[0m: 'RidgeCV' object has no attribute 'mse_path_'"
     ]
    }
   ],
   "source": [
    "prediction_model_ridge.mse_path_"
   ]
  },
  {
   "cell_type": "code",
   "execution_count": 20,
   "metadata": {},
   "outputs": [
    {
     "data": {
      "text/plain": [
       "0.1345599900143149"
      ]
     },
     "execution_count": 20,
     "metadata": {},
     "output_type": "execute_result"
    }
   ],
   "source": [
    "prediction_model_ridge.best_score_"
   ]
  },
  {
   "cell_type": "code",
   "execution_count": 104,
   "metadata": {},
   "outputs": [
    {
     "name": "stdout",
     "output_type": "stream",
     "text": [
      "Mean CV Error for the Best Alpha: 259.1724995334133\n"
     ]
    }
   ],
   "source": [
    "from sklearn.linear_model import LassoCV\n",
    "model = LassoCV(cv=5, max_iter=10000)\n",
    "model.fit(X_train, y_train)\n",
    "\n",
    "best_alpha_idx = np.where(model.alphas_ == model.alpha_)[0][0]\n",
    "\n",
    "cv_errors = model.mse_path_\n",
    "# Get the cross-validation errors for the best alpha\n",
    "errors_for_best_alpha = cv_errors[best_alpha_idx, :]\n",
    "\n",
    "# Compute the mean cross-validation error for the best alpha\n",
    "mean_error_for_best_alpha = errors_for_best_alpha.mean()\n",
    "\n",
    "print(\"Mean CV Error for the Best Alpha:\", mean_error_for_best_alpha)\n",
    "print(np.mean(model.mse_path_, axis=1).min())"
   ]
  },
  {
   "cell_type": "code",
   "execution_count": 118,
   "metadata": {},
   "outputs": [
    {
     "data": {
      "text/html": [
       "<style>#sk-container-id-8 {\n",
       "  /* Definition of color scheme common for light and dark mode */\n",
       "  --sklearn-color-text: black;\n",
       "  --sklearn-color-line: gray;\n",
       "  /* Definition of color scheme for unfitted estimators */\n",
       "  --sklearn-color-unfitted-level-0: #fff5e6;\n",
       "  --sklearn-color-unfitted-level-1: #f6e4d2;\n",
       "  --sklearn-color-unfitted-level-2: #ffe0b3;\n",
       "  --sklearn-color-unfitted-level-3: chocolate;\n",
       "  /* Definition of color scheme for fitted estimators */\n",
       "  --sklearn-color-fitted-level-0: #f0f8ff;\n",
       "  --sklearn-color-fitted-level-1: #d4ebff;\n",
       "  --sklearn-color-fitted-level-2: #b3dbfd;\n",
       "  --sklearn-color-fitted-level-3: cornflowerblue;\n",
       "\n",
       "  /* Specific color for light theme */\n",
       "  --sklearn-color-text-on-default-background: var(--sg-text-color, var(--theme-code-foreground, var(--jp-content-font-color1, black)));\n",
       "  --sklearn-color-background: var(--sg-background-color, var(--theme-background, var(--jp-layout-color0, white)));\n",
       "  --sklearn-color-border-box: var(--sg-text-color, var(--theme-code-foreground, var(--jp-content-font-color1, black)));\n",
       "  --sklearn-color-icon: #696969;\n",
       "\n",
       "  @media (prefers-color-scheme: dark) {\n",
       "    /* Redefinition of color scheme for dark theme */\n",
       "    --sklearn-color-text-on-default-background: var(--sg-text-color, var(--theme-code-foreground, var(--jp-content-font-color1, white)));\n",
       "    --sklearn-color-background: var(--sg-background-color, var(--theme-background, var(--jp-layout-color0, #111)));\n",
       "    --sklearn-color-border-box: var(--sg-text-color, var(--theme-code-foreground, var(--jp-content-font-color1, white)));\n",
       "    --sklearn-color-icon: #878787;\n",
       "  }\n",
       "}\n",
       "\n",
       "#sk-container-id-8 {\n",
       "  color: var(--sklearn-color-text);\n",
       "}\n",
       "\n",
       "#sk-container-id-8 pre {\n",
       "  padding: 0;\n",
       "}\n",
       "\n",
       "#sk-container-id-8 input.sk-hidden--visually {\n",
       "  border: 0;\n",
       "  clip: rect(1px 1px 1px 1px);\n",
       "  clip: rect(1px, 1px, 1px, 1px);\n",
       "  height: 1px;\n",
       "  margin: -1px;\n",
       "  overflow: hidden;\n",
       "  padding: 0;\n",
       "  position: absolute;\n",
       "  width: 1px;\n",
       "}\n",
       "\n",
       "#sk-container-id-8 div.sk-dashed-wrapped {\n",
       "  border: 1px dashed var(--sklearn-color-line);\n",
       "  margin: 0 0.4em 0.5em 0.4em;\n",
       "  box-sizing: border-box;\n",
       "  padding-bottom: 0.4em;\n",
       "  background-color: var(--sklearn-color-background);\n",
       "}\n",
       "\n",
       "#sk-container-id-8 div.sk-container {\n",
       "  /* jupyter's `normalize.less` sets `[hidden] { display: none; }`\n",
       "     but bootstrap.min.css set `[hidden] { display: none !important; }`\n",
       "     so we also need the `!important` here to be able to override the\n",
       "     default hidden behavior on the sphinx rendered scikit-learn.org.\n",
       "     See: https://github.com/scikit-learn/scikit-learn/issues/21755 */\n",
       "  display: inline-block !important;\n",
       "  position: relative;\n",
       "}\n",
       "\n",
       "#sk-container-id-8 div.sk-text-repr-fallback {\n",
       "  display: none;\n",
       "}\n",
       "\n",
       "div.sk-parallel-item,\n",
       "div.sk-serial,\n",
       "div.sk-item {\n",
       "  /* draw centered vertical line to link estimators */\n",
       "  background-image: linear-gradient(var(--sklearn-color-text-on-default-background), var(--sklearn-color-text-on-default-background));\n",
       "  background-size: 2px 100%;\n",
       "  background-repeat: no-repeat;\n",
       "  background-position: center center;\n",
       "}\n",
       "\n",
       "/* Parallel-specific style estimator block */\n",
       "\n",
       "#sk-container-id-8 div.sk-parallel-item::after {\n",
       "  content: \"\";\n",
       "  width: 100%;\n",
       "  border-bottom: 2px solid var(--sklearn-color-text-on-default-background);\n",
       "  flex-grow: 1;\n",
       "}\n",
       "\n",
       "#sk-container-id-8 div.sk-parallel {\n",
       "  display: flex;\n",
       "  align-items: stretch;\n",
       "  justify-content: center;\n",
       "  background-color: var(--sklearn-color-background);\n",
       "  position: relative;\n",
       "}\n",
       "\n",
       "#sk-container-id-8 div.sk-parallel-item {\n",
       "  display: flex;\n",
       "  flex-direction: column;\n",
       "}\n",
       "\n",
       "#sk-container-id-8 div.sk-parallel-item:first-child::after {\n",
       "  align-self: flex-end;\n",
       "  width: 50%;\n",
       "}\n",
       "\n",
       "#sk-container-id-8 div.sk-parallel-item:last-child::after {\n",
       "  align-self: flex-start;\n",
       "  width: 50%;\n",
       "}\n",
       "\n",
       "#sk-container-id-8 div.sk-parallel-item:only-child::after {\n",
       "  width: 0;\n",
       "}\n",
       "\n",
       "/* Serial-specific style estimator block */\n",
       "\n",
       "#sk-container-id-8 div.sk-serial {\n",
       "  display: flex;\n",
       "  flex-direction: column;\n",
       "  align-items: center;\n",
       "  background-color: var(--sklearn-color-background);\n",
       "  padding-right: 1em;\n",
       "  padding-left: 1em;\n",
       "}\n",
       "\n",
       "\n",
       "/* Toggleable style: style used for estimator/Pipeline/ColumnTransformer box that is\n",
       "clickable and can be expanded/collapsed.\n",
       "- Pipeline and ColumnTransformer use this feature and define the default style\n",
       "- Estimators will overwrite some part of the style using the `sk-estimator` class\n",
       "*/\n",
       "\n",
       "/* Pipeline and ColumnTransformer style (default) */\n",
       "\n",
       "#sk-container-id-8 div.sk-toggleable {\n",
       "  /* Default theme specific background. It is overwritten whether we have a\n",
       "  specific estimator or a Pipeline/ColumnTransformer */\n",
       "  background-color: var(--sklearn-color-background);\n",
       "}\n",
       "\n",
       "/* Toggleable label */\n",
       "#sk-container-id-8 label.sk-toggleable__label {\n",
       "  cursor: pointer;\n",
       "  display: block;\n",
       "  width: 100%;\n",
       "  margin-bottom: 0;\n",
       "  padding: 0.5em;\n",
       "  box-sizing: border-box;\n",
       "  text-align: center;\n",
       "}\n",
       "\n",
       "#sk-container-id-8 label.sk-toggleable__label-arrow:before {\n",
       "  /* Arrow on the left of the label */\n",
       "  content: \"▸\";\n",
       "  float: left;\n",
       "  margin-right: 0.25em;\n",
       "  color: var(--sklearn-color-icon);\n",
       "}\n",
       "\n",
       "#sk-container-id-8 label.sk-toggleable__label-arrow:hover:before {\n",
       "  color: var(--sklearn-color-text);\n",
       "}\n",
       "\n",
       "/* Toggleable content - dropdown */\n",
       "\n",
       "#sk-container-id-8 div.sk-toggleable__content {\n",
       "  max-height: 0;\n",
       "  max-width: 0;\n",
       "  overflow: hidden;\n",
       "  text-align: left;\n",
       "  /* unfitted */\n",
       "  background-color: var(--sklearn-color-unfitted-level-0);\n",
       "}\n",
       "\n",
       "#sk-container-id-8 div.sk-toggleable__content.fitted {\n",
       "  /* fitted */\n",
       "  background-color: var(--sklearn-color-fitted-level-0);\n",
       "}\n",
       "\n",
       "#sk-container-id-8 div.sk-toggleable__content pre {\n",
       "  margin: 0.2em;\n",
       "  border-radius: 0.25em;\n",
       "  color: var(--sklearn-color-text);\n",
       "  /* unfitted */\n",
       "  background-color: var(--sklearn-color-unfitted-level-0);\n",
       "}\n",
       "\n",
       "#sk-container-id-8 div.sk-toggleable__content.fitted pre {\n",
       "  /* unfitted */\n",
       "  background-color: var(--sklearn-color-fitted-level-0);\n",
       "}\n",
       "\n",
       "#sk-container-id-8 input.sk-toggleable__control:checked~div.sk-toggleable__content {\n",
       "  /* Expand drop-down */\n",
       "  max-height: 200px;\n",
       "  max-width: 100%;\n",
       "  overflow: auto;\n",
       "}\n",
       "\n",
       "#sk-container-id-8 input.sk-toggleable__control:checked~label.sk-toggleable__label-arrow:before {\n",
       "  content: \"▾\";\n",
       "}\n",
       "\n",
       "/* Pipeline/ColumnTransformer-specific style */\n",
       "\n",
       "#sk-container-id-8 div.sk-label input.sk-toggleable__control:checked~label.sk-toggleable__label {\n",
       "  color: var(--sklearn-color-text);\n",
       "  background-color: var(--sklearn-color-unfitted-level-2);\n",
       "}\n",
       "\n",
       "#sk-container-id-8 div.sk-label.fitted input.sk-toggleable__control:checked~label.sk-toggleable__label {\n",
       "  background-color: var(--sklearn-color-fitted-level-2);\n",
       "}\n",
       "\n",
       "/* Estimator-specific style */\n",
       "\n",
       "/* Colorize estimator box */\n",
       "#sk-container-id-8 div.sk-estimator input.sk-toggleable__control:checked~label.sk-toggleable__label {\n",
       "  /* unfitted */\n",
       "  background-color: var(--sklearn-color-unfitted-level-2);\n",
       "}\n",
       "\n",
       "#sk-container-id-8 div.sk-estimator.fitted input.sk-toggleable__control:checked~label.sk-toggleable__label {\n",
       "  /* fitted */\n",
       "  background-color: var(--sklearn-color-fitted-level-2);\n",
       "}\n",
       "\n",
       "#sk-container-id-8 div.sk-label label.sk-toggleable__label,\n",
       "#sk-container-id-8 div.sk-label label {\n",
       "  /* The background is the default theme color */\n",
       "  color: var(--sklearn-color-text-on-default-background);\n",
       "}\n",
       "\n",
       "/* On hover, darken the color of the background */\n",
       "#sk-container-id-8 div.sk-label:hover label.sk-toggleable__label {\n",
       "  color: var(--sklearn-color-text);\n",
       "  background-color: var(--sklearn-color-unfitted-level-2);\n",
       "}\n",
       "\n",
       "/* Label box, darken color on hover, fitted */\n",
       "#sk-container-id-8 div.sk-label.fitted:hover label.sk-toggleable__label.fitted {\n",
       "  color: var(--sklearn-color-text);\n",
       "  background-color: var(--sklearn-color-fitted-level-2);\n",
       "}\n",
       "\n",
       "/* Estimator label */\n",
       "\n",
       "#sk-container-id-8 div.sk-label label {\n",
       "  font-family: monospace;\n",
       "  font-weight: bold;\n",
       "  display: inline-block;\n",
       "  line-height: 1.2em;\n",
       "}\n",
       "\n",
       "#sk-container-id-8 div.sk-label-container {\n",
       "  text-align: center;\n",
       "}\n",
       "\n",
       "/* Estimator-specific */\n",
       "#sk-container-id-8 div.sk-estimator {\n",
       "  font-family: monospace;\n",
       "  border: 1px dotted var(--sklearn-color-border-box);\n",
       "  border-radius: 0.25em;\n",
       "  box-sizing: border-box;\n",
       "  margin-bottom: 0.5em;\n",
       "  /* unfitted */\n",
       "  background-color: var(--sklearn-color-unfitted-level-0);\n",
       "}\n",
       "\n",
       "#sk-container-id-8 div.sk-estimator.fitted {\n",
       "  /* fitted */\n",
       "  background-color: var(--sklearn-color-fitted-level-0);\n",
       "}\n",
       "\n",
       "/* on hover */\n",
       "#sk-container-id-8 div.sk-estimator:hover {\n",
       "  /* unfitted */\n",
       "  background-color: var(--sklearn-color-unfitted-level-2);\n",
       "}\n",
       "\n",
       "#sk-container-id-8 div.sk-estimator.fitted:hover {\n",
       "  /* fitted */\n",
       "  background-color: var(--sklearn-color-fitted-level-2);\n",
       "}\n",
       "\n",
       "/* Specification for estimator info (e.g. \"i\" and \"?\") */\n",
       "\n",
       "/* Common style for \"i\" and \"?\" */\n",
       "\n",
       ".sk-estimator-doc-link,\n",
       "a:link.sk-estimator-doc-link,\n",
       "a:visited.sk-estimator-doc-link {\n",
       "  float: right;\n",
       "  font-size: smaller;\n",
       "  line-height: 1em;\n",
       "  font-family: monospace;\n",
       "  background-color: var(--sklearn-color-background);\n",
       "  border-radius: 1em;\n",
       "  height: 1em;\n",
       "  width: 1em;\n",
       "  text-decoration: none !important;\n",
       "  margin-left: 1ex;\n",
       "  /* unfitted */\n",
       "  border: var(--sklearn-color-unfitted-level-1) 1pt solid;\n",
       "  color: var(--sklearn-color-unfitted-level-1);\n",
       "}\n",
       "\n",
       ".sk-estimator-doc-link.fitted,\n",
       "a:link.sk-estimator-doc-link.fitted,\n",
       "a:visited.sk-estimator-doc-link.fitted {\n",
       "  /* fitted */\n",
       "  border: var(--sklearn-color-fitted-level-1) 1pt solid;\n",
       "  color: var(--sklearn-color-fitted-level-1);\n",
       "}\n",
       "\n",
       "/* On hover */\n",
       "div.sk-estimator:hover .sk-estimator-doc-link:hover,\n",
       ".sk-estimator-doc-link:hover,\n",
       "div.sk-label-container:hover .sk-estimator-doc-link:hover,\n",
       ".sk-estimator-doc-link:hover {\n",
       "  /* unfitted */\n",
       "  background-color: var(--sklearn-color-unfitted-level-3);\n",
       "  color: var(--sklearn-color-background);\n",
       "  text-decoration: none;\n",
       "}\n",
       "\n",
       "div.sk-estimator.fitted:hover .sk-estimator-doc-link.fitted:hover,\n",
       ".sk-estimator-doc-link.fitted:hover,\n",
       "div.sk-label-container:hover .sk-estimator-doc-link.fitted:hover,\n",
       ".sk-estimator-doc-link.fitted:hover {\n",
       "  /* fitted */\n",
       "  background-color: var(--sklearn-color-fitted-level-3);\n",
       "  color: var(--sklearn-color-background);\n",
       "  text-decoration: none;\n",
       "}\n",
       "\n",
       "/* Span, style for the box shown on hovering the info icon */\n",
       ".sk-estimator-doc-link span {\n",
       "  display: none;\n",
       "  z-index: 9999;\n",
       "  position: relative;\n",
       "  font-weight: normal;\n",
       "  right: .2ex;\n",
       "  padding: .5ex;\n",
       "  margin: .5ex;\n",
       "  width: min-content;\n",
       "  min-width: 20ex;\n",
       "  max-width: 50ex;\n",
       "  color: var(--sklearn-color-text);\n",
       "  box-shadow: 2pt 2pt 4pt #999;\n",
       "  /* unfitted */\n",
       "  background: var(--sklearn-color-unfitted-level-0);\n",
       "  border: .5pt solid var(--sklearn-color-unfitted-level-3);\n",
       "}\n",
       "\n",
       ".sk-estimator-doc-link.fitted span {\n",
       "  /* fitted */\n",
       "  background: var(--sklearn-color-fitted-level-0);\n",
       "  border: var(--sklearn-color-fitted-level-3);\n",
       "}\n",
       "\n",
       ".sk-estimator-doc-link:hover span {\n",
       "  display: block;\n",
       "}\n",
       "\n",
       "/* \"?\"-specific style due to the `<a>` HTML tag */\n",
       "\n",
       "#sk-container-id-8 a.estimator_doc_link {\n",
       "  float: right;\n",
       "  font-size: 1rem;\n",
       "  line-height: 1em;\n",
       "  font-family: monospace;\n",
       "  background-color: var(--sklearn-color-background);\n",
       "  border-radius: 1rem;\n",
       "  height: 1rem;\n",
       "  width: 1rem;\n",
       "  text-decoration: none;\n",
       "  /* unfitted */\n",
       "  color: var(--sklearn-color-unfitted-level-1);\n",
       "  border: var(--sklearn-color-unfitted-level-1) 1pt solid;\n",
       "}\n",
       "\n",
       "#sk-container-id-8 a.estimator_doc_link.fitted {\n",
       "  /* fitted */\n",
       "  border: var(--sklearn-color-fitted-level-1) 1pt solid;\n",
       "  color: var(--sklearn-color-fitted-level-1);\n",
       "}\n",
       "\n",
       "/* On hover */\n",
       "#sk-container-id-8 a.estimator_doc_link:hover {\n",
       "  /* unfitted */\n",
       "  background-color: var(--sklearn-color-unfitted-level-3);\n",
       "  color: var(--sklearn-color-background);\n",
       "  text-decoration: none;\n",
       "}\n",
       "\n",
       "#sk-container-id-8 a.estimator_doc_link.fitted:hover {\n",
       "  /* fitted */\n",
       "  background-color: var(--sklearn-color-fitted-level-3);\n",
       "}\n",
       "</style><div id=\"sk-container-id-8\" class=\"sk-top-container\"><div class=\"sk-text-repr-fallback\"><pre>ElasticNetCV(cv=5, l1_ratio=[0.1, 0.5, 0.7, 0.9], max_iter=10000)</pre><b>In a Jupyter environment, please rerun this cell to show the HTML representation or trust the notebook. <br />On GitHub, the HTML representation is unable to render, please try loading this page with nbviewer.org.</b></div><div class=\"sk-container\" hidden><div class=\"sk-item\"><div class=\"sk-estimator fitted sk-toggleable\"><input class=\"sk-toggleable__control sk-hidden--visually\" id=\"sk-estimator-id-8\" type=\"checkbox\" checked><label for=\"sk-estimator-id-8\" class=\"sk-toggleable__label fitted sk-toggleable__label-arrow fitted\">&nbsp;&nbsp;ElasticNetCV<a class=\"sk-estimator-doc-link fitted\" rel=\"noreferrer\" target=\"_blank\" href=\"https://scikit-learn.org/1.4/modules/generated/sklearn.linear_model.ElasticNetCV.html\">?<span>Documentation for ElasticNetCV</span></a><span class=\"sk-estimator-doc-link fitted\">i<span>Fitted</span></span></label><div class=\"sk-toggleable__content fitted\"><pre>ElasticNetCV(cv=5, l1_ratio=[0.1, 0.5, 0.7, 0.9], max_iter=10000)</pre></div> </div></div></div></div>"
      ],
      "text/plain": [
       "ElasticNetCV(cv=5, l1_ratio=[0.1, 0.5, 0.7, 0.9], max_iter=10000)"
      ]
     },
     "execution_count": 118,
     "metadata": {},
     "output_type": "execute_result"
    }
   ],
   "source": [
    "from sklearn.linear_model import ElasticNetCV\n",
    "model = ElasticNetCV(cv=5,l1_ratio=[0.1, 0.5, 0.7, 0.9], max_iter=10000)\n",
    "model.fit(X_train, y_train)\n",
    "np.mean(model.mse_path_, axis=-1).min()"
   ]
  },
  {
   "cell_type": "code",
   "execution_count": 122,
   "metadata": {},
   "outputs": [
    {
     "data": {
      "text/plain": [
       "259.2471195818597"
      ]
     },
     "execution_count": 122,
     "metadata": {},
     "output_type": "execute_result"
    }
   ],
   "source": [
    "np.mean(model.mse_path_, axis=-1).min()"
   ]
  },
  {
   "cell_type": "code",
   "execution_count": 29,
   "metadata": {},
   "outputs": [
    {
     "name": "stdout",
     "output_type": "stream",
     "text": [
      "0.9670329670329669\n"
     ]
    }
   ],
   "source": [
    "model =LogisticRegressionCV(penalty='l1', solver = 'saga', cv=5, max_iter=10000)\n",
    "model.fit(X_train, y_train)\n",
    "print(np.mean(model.scores_[1], axis=0).max())"
   ]
  },
  {
   "cell_type": "code",
   "execution_count": 33,
   "metadata": {},
   "outputs": [
    {
     "data": {
      "text/plain": [
       "array([[0.62637363, 0.62637363, 0.62637363, 0.94505495, 0.94505495,\n",
       "        0.95604396, 0.93406593, 0.93406593, 0.93406593, 0.93406593],\n",
       "       [0.62637363, 0.62637363, 0.62637363, 0.92307692, 0.92307692,\n",
       "        0.94505495, 0.93406593, 0.92307692, 0.92307692, 0.92307692],\n",
       "       [0.62637363, 0.62637363, 0.62637363, 0.97802198, 1.        ,\n",
       "        0.98901099, 0.98901099, 0.98901099, 0.98901099, 0.98901099],\n",
       "       [0.62637363, 0.62637363, 0.62637363, 0.93406593, 0.96703297,\n",
       "        0.97802198, 0.96703297, 0.96703297, 0.96703297, 0.96703297],\n",
       "       [0.62637363, 0.62637363, 0.62637363, 0.96703297, 0.98901099,\n",
       "        0.96703297, 0.96703297, 0.96703297, 0.96703297, 0.96703297]])"
      ]
     },
     "execution_count": 33,
     "metadata": {},
     "output_type": "execute_result"
    }
   ],
   "source": [
    "model.scores_[1]"
   ]
  },
  {
   "cell_type": "code",
   "execution_count": 30,
   "metadata": {},
   "outputs": [
    {
     "name": "stdout",
     "output_type": "stream",
     "text": [
      "Training Accuracy: 0.989010989010989\n"
     ]
    }
   ],
   "source": [
    "# compute accuracy on the training set\n",
    "y_train_pred = model.predict(X_train)\n",
    "accuracy_train = np.mean(y_train == y_train_pred)\n",
    "print('Training Accuracy:', accuracy_train)"
   ]
  },
  {
   "cell_type": "code",
   "execution_count": 27,
   "metadata": {},
   "outputs": [
    {
     "name": "stdout",
     "output_type": "stream",
     "text": [
      "0.9736263736263737\n"
     ]
    }
   ],
   "source": [
    "model =LogisticRegressionCV(penalty='l2', cv=5, max_iter=10000)\n",
    "model.fit(X_train, y_train)\n",
    "print(np.mean(model.scores_[1], axis=0).max())"
   ]
  },
  {
   "cell_type": "code",
   "execution_count": 28,
   "metadata": {},
   "outputs": [
    {
     "name": "stdout",
     "output_type": "stream",
     "text": [
      "0.9758241758241759\n"
     ]
    }
   ],
   "source": [
    "model =LogisticRegressionCV(penalty='elasticnet',l1_ratios=[0.1, 0.5, 0.7, 0.9], solver = 'saga', cv=5, max_iter=10000)\n",
    "model.fit(X_train, y_train)\n",
    "print(np.mean(model.scores_[1], axis=0).max())"
   ]
  },
  {
   "cell_type": "code",
   "execution_count": null,
   "metadata": {},
   "outputs": [],
   "source": []
  },
  {
   "cell_type": "code",
   "execution_count": null,
   "metadata": {},
   "outputs": [],
   "source": []
  },
  {
   "cell_type": "code",
   "execution_count": null,
   "metadata": {},
   "outputs": [],
   "source": []
  },
  {
   "cell_type": "code",
   "execution_count": 79,
   "metadata": {},
   "outputs": [
    {
     "data": {
      "text/plain": [
       "0.8625"
      ]
     },
     "execution_count": 79,
     "metadata": {},
     "output_type": "execute_result"
    }
   ],
   "source": [
    "np.mean(model.scores_[1], axis=0).max()"
   ]
  },
  {
   "cell_type": "code",
   "execution_count": 80,
   "metadata": {},
   "outputs": [
    {
     "data": {
      "text/plain": [
       "array([[0.843125, 0.843125, 0.843125, 0.843125],\n",
       "       [0.843125, 0.843125, 0.843125, 0.843125],\n",
       "       [0.853125, 0.84625 , 0.843125, 0.843125],\n",
       "       [0.8625  , 0.856875, 0.855625, 0.855625],\n",
       "       [0.85875 , 0.86    , 0.859375, 0.859375],\n",
       "       [0.854375, 0.854375, 0.85375 , 0.853125],\n",
       "       [0.851875, 0.851875, 0.851875, 0.851875],\n",
       "       [0.851875, 0.851875, 0.851875, 0.851875],\n",
       "       [0.851875, 0.851875, 0.851875, 0.851875],\n",
       "       [0.851875, 0.851875, 0.851875, 0.851875]])"
      ]
     },
     "execution_count": 80,
     "metadata": {},
     "output_type": "execute_result"
    }
   ],
   "source": [
    "np.mean(model.scores_[1], axis=0)"
   ]
  },
  {
   "cell_type": "code",
   "execution_count": 81,
   "metadata": {},
   "outputs": [
    {
     "data": {
      "text/plain": [
       "array([1.00000000e-04, 7.74263683e-04, 5.99484250e-03, 4.64158883e-02,\n",
       "       3.59381366e-01, 2.78255940e+00, 2.15443469e+01, 1.66810054e+02,\n",
       "       1.29154967e+03, 1.00000000e+04])"
      ]
     },
     "execution_count": 81,
     "metadata": {},
     "output_type": "execute_result"
    }
   ],
   "source": [
    "model.Cs_"
   ]
  },
  {
   "cell_type": "code",
   "execution_count": 82,
   "metadata": {},
   "outputs": [
    {
     "data": {
      "text/plain": [
       "array([0.04641589])"
      ]
     },
     "execution_count": 82,
     "metadata": {},
     "output_type": "execute_result"
    }
   ],
   "source": [
    "model.C_"
   ]
  },
  {
   "cell_type": "code",
   "execution_count": 58,
   "metadata": {},
   "outputs": [
    {
     "ename": "IndexError",
     "evalue": "index 3 is out of bounds for axis 1 with size 3",
     "output_type": "error",
     "traceback": [
      "\u001b[0;31m---------------------------------------------------------------------------\u001b[0m",
      "\u001b[0;31mIndexError\u001b[0m                                Traceback (most recent call last)",
      "Cell \u001b[0;32mIn[58], line 5\u001b[0m\n\u001b[1;32m      2\u001b[0m optimal_l1_index \u001b[39m=\u001b[39m np\u001b[39m.\u001b[39margmax([score\u001b[39m.\u001b[39mmean() \u001b[39mfor\u001b[39;00m score \u001b[39min\u001b[39;00m model\u001b[39m.\u001b[39mscores_[\u001b[39m1\u001b[39m]])  \u001b[39m# Optimal l1_ratio index\u001b[39;00m\n\u001b[1;32m      4\u001b[0m \u001b[39m# Compute the mean cross-validated score for the optimal C and l1_ratio\u001b[39;00m\n\u001b[0;32m----> 5\u001b[0m mean_cv_score_optimal \u001b[39m=\u001b[39m model\u001b[39m.\u001b[39;49mscores_[\u001b[39m1\u001b[39;49m][optimal_l1_index][:, optimal_c_index]\u001b[39m.\u001b[39mmean()\n\u001b[1;32m      7\u001b[0m \u001b[39m# Print results\u001b[39;00m\n\u001b[1;32m      8\u001b[0m \u001b[39mprint\u001b[39m(\u001b[39mf\u001b[39m\u001b[39m\"\u001b[39m\u001b[39mMean cross-validated score (optimal): \u001b[39m\u001b[39m{\u001b[39;00mmean_cv_score_optimal\u001b[39m}\u001b[39;00m\u001b[39m\"\u001b[39m)\n",
      "\u001b[0;31mIndexError\u001b[0m: index 3 is out of bounds for axis 1 with size 3"
     ]
    }
   ],
   "source": [
    "optimal_c_index = np.where(model.Cs_ == model.C_[0])[0][0]  # Optimal C value index\n",
    "optimal_l1_index = np.argmax([score.mean() for score in model.scores_[1]])  # Optimal l1_ratio index\n",
    "\n",
    "# Compute the mean cross-validated score for the optimal C and l1_ratio\n",
    "mean_cv_score_optimal = model.scores_[1][optimal_l1_index][:, optimal_c_index].mean()\n",
    "\n",
    "# Print results\n",
    "print(f\"Mean cross-validated score (optimal): {mean_cv_score_optimal}\")\n",
    "print(f\"Test set score: {model.score(X_test, y_test)}\")"
   ]
  },
  {
   "cell_type": "code",
   "execution_count": 57,
   "metadata": {},
   "outputs": [
    {
     "ename": "NameError",
     "evalue": "name 'optimal_l1_index' is not defined",
     "output_type": "error",
     "traceback": [
      "\u001b[0;31m---------------------------------------------------------------------------\u001b[0m",
      "\u001b[0;31mNameError\u001b[0m                                 Traceback (most recent call last)",
      "Cell \u001b[0;32mIn[57], line 1\u001b[0m\n\u001b[0;32m----> 1\u001b[0m optimal_l1_index\n",
      "\u001b[0;31mNameError\u001b[0m: name 'optimal_l1_index' is not defined"
     ]
    }
   ],
   "source": [
    "optimal_l1_index"
   ]
  },
  {
   "cell_type": "code",
   "execution_count": 53,
   "metadata": {},
   "outputs": [
    {
     "data": {
      "text/plain": [
       "array([1.00000000e-04, 7.74263683e-04, 5.99484250e-03, 4.64158883e-02,\n",
       "       3.59381366e-01, 2.78255940e+00, 2.15443469e+01, 1.66810054e+02,\n",
       "       1.29154967e+03, 1.00000000e+04])"
      ]
     },
     "execution_count": 53,
     "metadata": {},
     "output_type": "execute_result"
    }
   ],
   "source": [
    "model.Cs_"
   ]
  },
  {
   "cell_type": "code",
   "execution_count": 54,
   "metadata": {},
   "outputs": [
    {
     "data": {
      "text/plain": [
       "array([0.04641589])"
      ]
     },
     "execution_count": 54,
     "metadata": {},
     "output_type": "execute_result"
    }
   ],
   "source": [
    "model.C_"
   ]
  },
  {
   "cell_type": "code",
   "execution_count": 51,
   "metadata": {},
   "outputs": [
    {
     "data": {
      "text/plain": [
       "array([[[0.840625, 0.840625, 0.840625],\n",
       "        [0.840625, 0.840625, 0.840625],\n",
       "        [0.85625 , 0.846875, 0.840625],\n",
       "        [0.859375, 0.859375, 0.859375],\n",
       "        [0.853125, 0.853125, 0.853125],\n",
       "        [0.85    , 0.85    , 0.846875],\n",
       "        [0.84375 , 0.84375 , 0.84375 ],\n",
       "        [0.84375 , 0.84375 , 0.84375 ],\n",
       "        [0.84375 , 0.84375 , 0.84375 ],\n",
       "        [0.84375 , 0.84375 , 0.84375 ]],\n",
       "\n",
       "       [[0.84375 , 0.84375 , 0.84375 ],\n",
       "        [0.84375 , 0.84375 , 0.84375 ],\n",
       "        [0.84375 , 0.84375 , 0.84375 ],\n",
       "        [0.8625  , 0.846875, 0.84375 ],\n",
       "        [0.853125, 0.85625 , 0.859375],\n",
       "        [0.85    , 0.85    , 0.85    ],\n",
       "        [0.85    , 0.85    , 0.85    ],\n",
       "        [0.85    , 0.85    , 0.85    ],\n",
       "        [0.85    , 0.85    , 0.85    ],\n",
       "        [0.85    , 0.85    , 0.85    ]],\n",
       "\n",
       "       [[0.84375 , 0.84375 , 0.84375 ],\n",
       "        [0.84375 , 0.84375 , 0.84375 ],\n",
       "        [0.840625, 0.846875, 0.84375 ],\n",
       "        [0.85625 , 0.84375 , 0.846875],\n",
       "        [0.85625 , 0.85625 , 0.85625 ],\n",
       "        [0.859375, 0.859375, 0.859375],\n",
       "        [0.853125, 0.853125, 0.853125],\n",
       "        [0.853125, 0.853125, 0.853125],\n",
       "        [0.853125, 0.853125, 0.853125],\n",
       "        [0.853125, 0.853125, 0.853125]],\n",
       "\n",
       "       [[0.84375 , 0.84375 , 0.84375 ],\n",
       "        [0.84375 , 0.84375 , 0.84375 ],\n",
       "        [0.865625, 0.846875, 0.84375 ],\n",
       "        [0.871875, 0.86875 , 0.86875 ],\n",
       "        [0.86875 , 0.871875, 0.865625],\n",
       "        [0.85625 , 0.853125, 0.85    ],\n",
       "        [0.853125, 0.853125, 0.853125],\n",
       "        [0.853125, 0.853125, 0.853125],\n",
       "        [0.853125, 0.853125, 0.853125],\n",
       "        [0.853125, 0.853125, 0.853125]],\n",
       "\n",
       "       [[0.84375 , 0.84375 , 0.84375 ],\n",
       "        [0.84375 , 0.84375 , 0.84375 ],\n",
       "        [0.859375, 0.846875, 0.84375 ],\n",
       "        [0.8625  , 0.865625, 0.859375],\n",
       "        [0.8625  , 0.8625  , 0.8625  ],\n",
       "        [0.85625 , 0.859375, 0.859375],\n",
       "        [0.859375, 0.859375, 0.859375],\n",
       "        [0.859375, 0.859375, 0.859375],\n",
       "        [0.859375, 0.859375, 0.859375],\n",
       "        [0.859375, 0.859375, 0.859375]]])"
      ]
     },
     "execution_count": 51,
     "metadata": {},
     "output_type": "execute_result"
    }
   ],
   "source": [
    "model.scores_[1]"
   ]
  },
  {
   "cell_type": "code",
   "execution_count": null,
   "metadata": {},
   "outputs": [],
   "source": []
  },
  {
   "cell_type": "code",
   "execution_count": null,
   "metadata": {},
   "outputs": [],
   "source": [
    "model =LogisticRegressionCV(penalty='l1', solver = 'saga', cv=5, max_iter=10000)\n",
    "model.fit(X, y)\n",
    "optimal_c_index = np.where(model.Cs_ == model.C_[0])[0][0]\n",
    "mean_cv_score_optimal = model.scores_[1][:, optimal_c_index].mean()\n",
    "print(mean_cv_score_optimal)"
   ]
  },
  {
   "cell_type": "code",
   "execution_count": null,
   "metadata": {},
   "outputs": [],
   "source": []
  },
  {
   "cell_type": "code",
   "execution_count": 20,
   "metadata": {},
   "outputs": [
    {
     "name": "stdout",
     "output_type": "stream",
     "text": [
      "Mean CV score for the optimal C: 0.8585\n"
     ]
    }
   ],
   "source": [
    "optimal_c_index = np.where(model.Cs_ == model.C_[0])[0][0]\n",
    "mean_cv_score_optimal = model.scores_[1][:, optimal_c_index].mean()"
   ]
  },
  {
   "cell_type": "code",
   "execution_count": null,
   "metadata": {},
   "outputs": [],
   "source": [
    "model.Cs_"
   ]
  },
  {
   "cell_type": "code",
   "execution_count": 18,
   "metadata": {},
   "outputs": [
    {
     "name": "stdout",
     "output_type": "stream",
     "text": [
      "Mean CV scores for each fold: [0.85725 0.8535  0.84325 0.85375 0.85475]\n"
     ]
    }
   ],
   "source": [
    "# 'scores_' is a dictionary where keys are the classes and values are arrays of cross-validation scores\n",
    "cv_scores = model.scores_\n",
    "\n",
    "# For binary classification, get scores for the positive class (assumes classes are 0 and 1)\n",
    "positive_class_scores = cv_scores[1]  # Replace '1' with the appropriate class if needed\n",
    "\n",
    "# Compute mean cross-validation score for each fold\n",
    "mean_cv_scores = positive_class_scores.mean(axis=0)\n",
    "print(\"Mean CV scores for each fold:\", mean_cv_scores)"
   ]
  },
  {
   "cell_type": "code",
   "execution_count": 16,
   "metadata": {},
   "outputs": [
    {
     "data": {
      "text/plain": [
       "{1.0: array([[[ 0.        ,  0.        ,  0.        , ...,  0.        ,\n",
       "           0.        , -0.59743822],\n",
       "         [ 0.        ,  0.        ,  0.        , ...,  0.        ,\n",
       "           0.        , -0.87520469],\n",
       "         [ 0.        ,  0.        ,  0.        , ...,  0.        ,\n",
       "           0.        , -1.71796625],\n",
       "         ...,\n",
       "         [-0.53351644, -2.25940196, -0.1795186 , ...,  0.79067552,\n",
       "           0.82586326, -2.19200146],\n",
       "         [-0.5372369 , -2.27201086, -0.17950076, ...,  0.79415234,\n",
       "           0.83763395, -2.19219036],\n",
       "         [-0.53777537, -2.273832  , -0.17949235, ...,  0.79465248,\n",
       "           0.83933726, -2.19221569]],\n",
       " \n",
       "        [[ 0.        ,  0.        ,  0.        , ...,  0.        ,\n",
       "           0.        , -0.56040027],\n",
       "         [ 0.        ,  0.        ,  0.        , ...,  0.        ,\n",
       "           0.        , -0.82944166],\n",
       "         [ 0.        ,  0.        ,  0.        , ...,  0.        ,\n",
       "           0.        , -1.7196825 ],\n",
       "         ...,\n",
       "         [ 0.8874702 , -0.41862437, -0.13549787, ...,  0.36657965,\n",
       "          -0.91003475, -2.16197694],\n",
       "         [ 0.89227544, -0.41849195, -0.13549737, ...,  0.36912068,\n",
       "          -0.9113024 , -2.16209278],\n",
       "         [ 0.89289891, -0.41847264, -0.13549486, ...,  0.36944999,\n",
       "          -0.91146527, -2.16210699]],\n",
       " \n",
       "        [[ 0.        ,  0.        ,  0.        , ...,  0.        ,\n",
       "           0.        , -0.58409192],\n",
       "         [ 0.        ,  0.        ,  0.        , ...,  0.        ,\n",
       "           0.        , -0.86322149],\n",
       "         [ 0.        ,  0.        ,  0.        , ...,  0.        ,\n",
       "           0.        , -1.72661797],\n",
       "         ...,\n",
       "         [ 1.29960258, -2.08672596, -0.14085432, ...,  0.98258794,\n",
       "           0.70998146, -2.1694511 ],\n",
       "         [ 1.30576744, -2.10075272, -0.14092813, ...,  0.98804727,\n",
       "           0.72264314, -2.16967736],\n",
       "         [ 1.30651306, -2.1024633 , -0.14093383, ...,  0.98871096,\n",
       "           0.72418969, -2.16970229]],\n",
       " \n",
       "        [[ 0.        ,  0.        ,  0.        , ...,  0.        ,\n",
       "           0.        , -0.59221052],\n",
       "         [ 0.        ,  0.        ,  0.        , ...,  0.        ,\n",
       "           0.        , -0.87054536],\n",
       "         [ 0.        ,  0.        ,  0.        , ...,  0.        ,\n",
       "           0.        , -1.72088744],\n",
       "         ...,\n",
       "         [ 1.18791137, -2.42580417, -0.18317256, ...,  0.23729554,\n",
       "           1.18207966, -2.1668999 ],\n",
       "         [ 1.19170425, -2.43883072, -0.18331454, ...,  0.2394454 ,\n",
       "           1.19441244, -2.16705153],\n",
       "         [ 1.19227049, -2.44078493, -0.18333045, ...,  0.23977001,\n",
       "           1.1962649 , -2.16707228]],\n",
       " \n",
       "        [[ 0.        ,  0.        ,  0.        , ...,  0.        ,\n",
       "           0.        , -0.55271819],\n",
       "         [ 0.        ,  0.        ,  0.        , ...,  0.        ,\n",
       "           0.        , -0.841539  ],\n",
       "         [ 0.        ,  0.        ,  0.        , ...,  0.        ,\n",
       "           0.        , -1.71396493],\n",
       "         ...,\n",
       "         [ 1.01532975, -1.17192213, -0.23805102, ...,  0.77131597,\n",
       "           0.18404203, -2.16689917],\n",
       "         [ 1.02532731, -1.18289912, -0.23808144, ...,  0.78065171,\n",
       "           0.19303113, -2.16727257],\n",
       "         [ 1.02661048, -1.18432086, -0.23808057, ...,  0.78186212,\n",
       "           0.19420149, -2.16731935]]])}"
      ]
     },
     "execution_count": 16,
     "metadata": {},
     "output_type": "execute_result"
    }
   ],
   "source": [
    "model.coefs_paths_"
   ]
  },
  {
   "cell_type": "code",
   "execution_count": 13,
   "metadata": {},
   "outputs": [
    {
     "data": {
      "text/plain": [
       "array([[1.94314928, 1.90211883, 1.54589127],\n",
       "       [1.17325286, 1.18581533, 1.2852184 ],\n",
       "       [1.89360901, 1.84943164, 1.53011218],\n",
       "       ...,\n",
       "       [2.01460368, 2.01930823, 2.03673588],\n",
       "       [6.60199672, 6.59819412, 6.62457306],\n",
       "       [0.06044319, 0.07083127, 0.20115005]])"
      ]
     },
     "execution_count": 13,
     "metadata": {},
     "output_type": "execute_result"
    }
   ],
   "source": [
    "ridge.cv_values_"
   ]
  },
  {
   "cell_type": "code",
   "execution_count": 14,
   "metadata": {},
   "outputs": [
    {
     "data": {
      "text/plain": [
       "0.1"
      ]
     },
     "execution_count": 14,
     "metadata": {},
     "output_type": "execute_result"
    }
   ],
   "source": [
    "ridge.alpha_"
   ]
  },
  {
   "cell_type": "code",
   "execution_count": null,
   "metadata": {},
   "outputs": [],
   "source": [
    "assert False"
   ]
  },
  {
   "cell_type": "code",
   "execution_count": null,
   "metadata": {},
   "outputs": [],
   "source": []
  },
  {
   "cell_type": "code",
   "execution_count": null,
   "metadata": {},
   "outputs": [],
   "source": [
    "y[15]"
   ]
  },
  {
   "cell_type": "code",
   "execution_count": null,
   "metadata": {},
   "outputs": [],
   "source": [
    "0.242974+0.33677068-1.2268368+2"
   ]
  },
  {
   "cell_type": "code",
   "execution_count": null,
   "metadata": {},
   "outputs": [],
   "source": [
    "support"
   ]
  },
  {
   "cell_type": "code",
   "execution_count": null,
   "metadata": {},
   "outputs": [],
   "source": [
    "X[0]"
   ]
  },
  {
   "cell_type": "code",
   "execution_count": null,
   "metadata": {},
   "outputs": [],
   "source": [
    "0.5324-0.404-0.5635"
   ]
  },
  {
   "cell_type": "code",
   "execution_count": null,
   "metadata": {},
   "outputs": [],
   "source": [
    "y[0]"
   ]
  },
  {
   "cell_type": "code",
   "execution_count": null,
   "metadata": {},
   "outputs": [],
   "source": [
    "from sklearn.linear_model import LassoCV\n",
    "X_train, X_test, y_train, y_test = train_test_split(X, y, test_size=0.33, random_state=42)\n",
    "rf = RandomForestRegressor(n_estimators=100, min_samples_leaf=5, max_features=0.33, random_state=42)\n",
    "rf.fit(X_train, y_train)\n",
    "rf_plus_base_lasso = RandomForestPlusRegressor(rf_model=rf, prediction_model=LassoCV(cv=5, max_iter=8000))\n",
    "rf_plus_base_lasso.fit(X_train, y_train)"
   ]
  },
  {
   "cell_type": "code",
   "execution_count": null,
   "metadata": {},
   "outputs": [],
   "source": [
    "rf_plus_alo_mdi = RFPlusMDI(rf_plus_base_lasso, mode = 'only_k', evaluate_on=\"all\")\n",
    "local_fi_score_train = rf_plus_alo_mdi.explain_linear_partial(X=X_train, y=y_train, ranking = True)\n",
    "local_fi_score_bootstrap_train = rf_plus_alo_mdi.explain_linear_partial(X=X_train, y=y_train, ranking = True, bootstrap=True)"
   ]
  },
  {
   "cell_type": "code",
   "execution_count": null,
   "metadata": {},
   "outputs": [],
   "source": [
    "local_fi_score_train[4]"
   ]
  },
  {
   "cell_type": "code",
   "execution_count": null,
   "metadata": {},
   "outputs": [],
   "source": [
    "roc_auc_score(support, local_fi_score_train[4])"
   ]
  },
  {
   "cell_type": "code",
   "execution_count": null,
   "metadata": {},
   "outputs": [],
   "source": [
    "local_fi_score_bootstrap_train.shape"
   ]
  },
  {
   "cell_type": "code",
   "execution_count": null,
   "metadata": {},
   "outputs": [],
   "source": [
    "local_fi_score_bootstrap_train[150, :,:].shape"
   ]
  },
  {
   "cell_type": "code",
   "execution_count": null,
   "metadata": {},
   "outputs": [],
   "source": [
    "roc_auc_score(support, np.mean(np.argsort(np.argsort(np.abs(local_fi_score_bootstrap_train[10, :,:]), axis=0), axis=0), axis=1))"
   ]
  },
  {
   "cell_type": "code",
   "execution_count": null,
   "metadata": {},
   "outputs": [],
   "source": [
    "np.argsort(np.argsort(np.abs(local_fi_score_bootstrap_train[150, :,:])))"
   ]
  },
  {
   "cell_type": "code",
   "execution_count": null,
   "metadata": {},
   "outputs": [],
   "source": [
    "X.shape"
   ]
  },
  {
   "cell_type": "code",
   "execution_count": null,
   "metadata": {},
   "outputs": [],
   "source": [
    "np.mean(local_fi_score_bootstrap_train[2, :,:], axis=-1)"
   ]
  },
  {
   "cell_type": "code",
   "execution_count": null,
   "metadata": {},
   "outputs": [],
   "source": [
    "treeshap_train, _ = tree_shap_evaluation_RF_retrain(X_train, y_train, X_test, fit=rf, mode=\"absolute\")"
   ]
  },
  {
   "cell_type": "code",
   "execution_count": null,
   "metadata": {},
   "outputs": [],
   "source": [
    "auroc = []\n",
    "for i in range(local_fi_score_train.shape[0]):\n",
    "    fi_data_i = local_fi_score_train[i]    \n",
    "    auroc.append(roc_auc_score(support, fi_data_i))\n",
    "print(np.mean(auroc))"
   ]
  },
  {
   "cell_type": "code",
   "execution_count": null,
   "metadata": {},
   "outputs": [],
   "source": [
    "auroc_shap = []\n",
    "for i in range(treeshap_train.shape[0]):\n",
    "    fi_data_i = treeshap_train[i]   \n",
    "    auroc_shap.append(roc_auc_score(support, fi_data_i))\n",
    "print(np.mean(auroc_shap))"
   ]
  },
  {
   "cell_type": "code",
   "execution_count": null,
   "metadata": {},
   "outputs": [],
   "source": [
    "auroc_bootstrap = []\n",
    "for i in range(local_fi_score_bootstrap_train.shape[0]):\n",
    "    fi_data_i = local_fi_score_bootstrap_train[i]    \n",
    "    auroc_bootstrap.append(roc_auc_score(support, fi_data_i))\n",
    "print(np.mean(auroc_bootstrap))"
   ]
  },
  {
   "cell_type": "code",
   "execution_count": null,
   "metadata": {},
   "outputs": [],
   "source": [
    "auroc_bootstrap[4]"
   ]
  },
  {
   "cell_type": "code",
   "execution_count": null,
   "metadata": {},
   "outputs": [],
   "source": [
    "auroc[4]"
   ]
  },
  {
   "cell_type": "code",
   "execution_count": null,
   "metadata": {},
   "outputs": [],
   "source": [
    "auroc_bootstrap = np.array(auroc_bootstrap)\n",
    "auroc = np.array(auroc)\n",
    "\n",
    "indices = auroc_bootstrap > auroc\n",
    "gains = auroc_bootstrap[indices] - auroc[indices]\n",
    "print(\"Gains:\", sum(gains))\n",
    "print(\"Number of gains:\", sum(indices))"
   ]
  },
  {
   "cell_type": "code",
   "execution_count": null,
   "metadata": {},
   "outputs": [],
   "source": [
    "indices = auroc_bootstrap < auroc\n",
    "gains = auroc_bootstrap[indices] - auroc[indices]\n",
    "print(\"Gains:\", sum(gains))\n",
    "print(\"Number of gains:\", sum(indices))"
   ]
  },
  {
   "cell_type": "code",
   "execution_count": null,
   "metadata": {},
   "outputs": [],
   "source": [
    "gains[4]"
   ]
  },
  {
   "cell_type": "code",
   "execution_count": null,
   "metadata": {},
   "outputs": [],
   "source": [
    "auroc_bootstrap[4]"
   ]
  },
  {
   "cell_type": "code",
   "execution_count": null,
   "metadata": {},
   "outputs": [],
   "source": [
    "auroc[4]"
   ]
  },
  {
   "cell_type": "code",
   "execution_count": null,
   "metadata": {},
   "outputs": [],
   "source": [
    "np.argsort(-1*support)"
   ]
  },
  {
   "cell_type": "code",
   "execution_count": null,
   "metadata": {},
   "outputs": [],
   "source": [
    "np.argsort(-1*local_fi_score_train[4])"
   ]
  },
  {
   "cell_type": "code",
   "execution_count": null,
   "metadata": {},
   "outputs": [],
   "source": [
    "np.argsort(-1*local_fi_score_bootstrap_train[4])"
   ]
  },
  {
   "cell_type": "code",
   "execution_count": null,
   "metadata": {},
   "outputs": [],
   "source": []
  },
  {
   "cell_type": "code",
   "execution_count": null,
   "metadata": {},
   "outputs": [],
   "source": []
  },
  {
   "cell_type": "code",
   "execution_count": null,
   "metadata": {},
   "outputs": [],
   "source": []
  },
  {
   "cell_type": "code",
   "execution_count": null,
   "metadata": {},
   "outputs": [],
   "source": [
    "indices = auroc_bootstrap ==  auroc\n",
    "gains = auroc_bootstrap[indices] - auroc[indices]\n",
    "print(\"Gains:\", sum(gains))\n",
    "print(\"Number of gains:\", sum(indices))"
   ]
  },
  {
   "cell_type": "code",
   "execution_count": null,
   "metadata": {},
   "outputs": [],
   "source": [
    "sum(auroc)"
   ]
  },
  {
   "cell_type": "code",
   "execution_count": null,
   "metadata": {},
   "outputs": [],
   "source": [
    "sum(auroc_bootstrap)"
   ]
  },
  {
   "cell_type": "code",
   "execution_count": null,
   "metadata": {},
   "outputs": [],
   "source": []
  },
  {
   "cell_type": "code",
   "execution_count": null,
   "metadata": {},
   "outputs": [],
   "source": [
    "print(sum(np.array(auroc_bootstrap) < np.array(auroc)))"
   ]
  },
  {
   "cell_type": "code",
   "execution_count": null,
   "metadata": {},
   "outputs": [],
   "source": [
    "for i in range(local_fi_score_train.shape[0]):\n",
    "    if auroc_bootstrap[i] > auroc[i]:\n",
    "        print(i)\n",
    "        print(auroc_bootstrap[i] - auroc[i])"
   ]
  },
  {
   "cell_type": "code",
   "execution_count": null,
   "metadata": {},
   "outputs": [],
   "source": []
  },
  {
   "cell_type": "code",
   "execution_count": null,
   "metadata": {},
   "outputs": [],
   "source": []
  },
  {
   "cell_type": "code",
   "execution_count": null,
   "metadata": {},
   "outputs": [],
   "source": []
  },
  {
   "cell_type": "code",
   "execution_count": null,
   "metadata": {},
   "outputs": [],
   "source": []
  },
  {
   "cell_type": "code",
   "execution_count": null,
   "metadata": {},
   "outputs": [],
   "source": []
  },
  {
   "cell_type": "code",
   "execution_count": null,
   "metadata": {},
   "outputs": [],
   "source": [
    "assert False"
   ]
  },
  {
   "cell_type": "code",
   "execution_count": null,
   "metadata": {},
   "outputs": [],
   "source": []
  },
  {
   "cell_type": "code",
   "execution_count": null,
   "metadata": {},
   "outputs": [],
   "source": []
  },
  {
   "cell_type": "code",
   "execution_count": null,
   "metadata": {},
   "outputs": [],
   "source": [
    "np.abs(rf_plus.estimators_[0].coef_)[:20]"
   ]
  },
  {
   "cell_type": "code",
   "execution_count": null,
   "metadata": {},
   "outputs": [],
   "source": [
    "rf_plus.estimators_[0].loo_coefficients_[:, :-1][0][:20]"
   ]
  },
  {
   "cell_type": "code",
   "execution_count": null,
   "metadata": {},
   "outputs": [],
   "source": [
    "np.argsort(-1*np.argsort(np.argsort(np.abs(rf_plus.estimators_[0].coef_))))"
   ]
  },
  {
   "cell_type": "code",
   "execution_count": null,
   "metadata": {},
   "outputs": [],
   "source": [
    "np.argsort(-1*np.argsort(np.argsort(np.abs(rf_plus.estimators_[0].loo_coefficients_[:, :-1][2]))))"
   ]
  },
  {
   "cell_type": "code",
   "execution_count": null,
   "metadata": {},
   "outputs": [],
   "source": [
    "sum = 0\n",
    "for i in range(X_train.shape[0]):\n",
    "    sort_coef = np.argsort(-1 * np.argsort(np.argsort(np.abs(rf_plus.estimators_[0].coef_))))\n",
    "    sort_loo_coefficients = np.argsort(-1 * np.argsort(np.argsort(np.abs(rf_plus.estimators_[0].loo_coefficients_[:, :-1][i]))))\n",
    "    if np.array_equal(sort_coef[:5], sort_loo_coefficients[:5]):\n",
    "        sum += 1\n",
    "print(sum)\n"
   ]
  },
  {
   "cell_type": "code",
   "execution_count": null,
   "metadata": {},
   "outputs": [],
   "source": []
  },
  {
   "cell_type": "code",
   "execution_count": null,
   "metadata": {},
   "outputs": [],
   "source": []
  },
  {
   "cell_type": "code",
   "execution_count": null,
   "metadata": {},
   "outputs": [],
   "source": [
    "assert False"
   ]
  },
  {
   "cell_type": "code",
   "execution_count": null,
   "metadata": {},
   "outputs": [],
   "source": [
    "rf_plus.estimators_[0].loo_coefficients_[:, :-1][0]"
   ]
  },
  {
   "cell_type": "code",
   "execution_count": null,
   "metadata": {},
   "outputs": [],
   "source": [
    "np.argsort(np.abs(rf_plus.estimators_[0].coef_[:, :-1][0]))"
   ]
  },
  {
   "cell_type": "code",
   "execution_count": null,
   "metadata": {},
   "outputs": [],
   "source": [
    "np.argsort(np.abs(rf_plus.estimators_[0].loo_coefficients_[:, :-1][0]))"
   ]
  },
  {
   "cell_type": "code",
   "execution_count": null,
   "metadata": {},
   "outputs": [],
   "source": [
    "rf_plus_alo_mdi = AloRFPlusMDI(rf_plus, mode = 'only_k', evaluate_on=\"all\")\n",
    "local_fi_score_train = rf_plus_alo_mdi.explain_linear_partial(X=X_train, y=y_train, ranking = True)"
   ]
  },
  {
   "cell_type": "code",
   "execution_count": null,
   "metadata": {},
   "outputs": [],
   "source": [
    "rf_plus_mdi = RFPlusMDI(rf_plus, mode = 'only_k', evaluate_on=\"all\")\n",
    "local_fi_score_train = rf_plus_mdi.explain_linear_partial(X=X_train, y=y_train, ranking = True)"
   ]
  },
  {
   "cell_type": "code",
   "execution_count": null,
   "metadata": {},
   "outputs": [],
   "source": [
    "rf_plus_mdi.explain_linear_partial(X=X_train, y=y_train, ranking = True, bootstrap=True)"
   ]
  },
  {
   "cell_type": "code",
   "execution_count": null,
   "metadata": {},
   "outputs": [],
   "source": [
    "rf_plus_mdi.explain_linear_partial(X=X_train, y=y_train, ranking = True, bootstrap=False)"
   ]
  },
  {
   "cell_type": "code",
   "execution_count": null,
   "metadata": {},
   "outputs": [],
   "source": []
  },
  {
   "cell_type": "code",
   "execution_count": null,
   "metadata": {},
   "outputs": [],
   "source": []
  },
  {
   "cell_type": "code",
   "execution_count": null,
   "metadata": {},
   "outputs": [],
   "source": [
    "local_fi_score_train"
   ]
  },
  {
   "cell_type": "code",
   "execution_count": null,
   "metadata": {},
   "outputs": [],
   "source": []
  },
  {
   "cell_type": "code",
   "execution_count": null,
   "metadata": {},
   "outputs": [],
   "source": []
  },
  {
   "cell_type": "code",
   "execution_count": null,
   "metadata": {},
   "outputs": [],
   "source": [
    "#plot y\n",
    "plt.hist(y)\n",
    "plt.show()"
   ]
  },
  {
   "cell_type": "code",
   "execution_count": null,
   "metadata": {},
   "outputs": [],
   "source": [
    "y = sample_real_data_y(source=\"openml\", task_id = 361247)"
   ]
  },
  {
   "cell_type": "code",
   "execution_count": null,
   "metadata": {},
   "outputs": [],
   "source": [
    "y"
   ]
  },
  {
   "cell_type": "code",
   "execution_count": null,
   "metadata": {},
   "outputs": [],
   "source": [
    "\"openml_361242\" #\"openml_361243\" #\"openml_361247\" #\"openml_361251\" \"openml_361253\" \"openml_361254\" \"openml_361256\" \"openml_361259\" \"openml_361260\"\"openml_361622\"\n",
    "for task_id in [361242, 361243, 361247, 361251, 361253, 361254, 361256, 361259, 361260, 361622]:\n",
    "    task = openml.tasks.get_task(task_id)\n",
    "    dataset = task.get_dataset()\n",
    "    X, y, _, attribute_names = dataset.get_data(target=dataset.default_target_attribute)\n",
    "    X = pd.DataFrame(X, columns=attribute_names[:-1])\n",
    "    print(task_id)\n",
    "    if X.shape[0] > 2000:\n",
    "        print(int(2000 * 0.66))\n",
    "    else:\n",
    "        print(int(X.shape[0]*0.66))"
   ]
  },
  {
   "cell_type": "code",
   "execution_count": null,
   "metadata": {},
   "outputs": [],
   "source": [
    "# for task_id in [361236, 361237, 361235, 361234, 361247, 361243, 361242, 361241, 361244, 361252, 361251, 361249, 361250, 361255, 361253, 361260, \n",
    "#                 361259, 361256, 361257, 361261, 361254, 361258, 361264, 361617, 361618, 361269, 361267, 361266, 361268, 361272,\n",
    "#                 361616, 361619, 361621, 361623, 361622]:\n",
    "#     task = openml.tasks.get_task(task_id)\n",
    "#     dataset = task.get_dataset()\n",
    "#     X, y, _, attribute_names = dataset.get_data(target=dataset.default_target_attribute)\n",
    "#     X = pd.DataFrame(X, columns=attribute_names[:-1])\n",
    "#     if X.shape[1] > 10:\n",
    "#         print(task_id)\n",
    "#         print(X.shape[0]*0.66)"
   ]
  },
  {
   "cell_type": "code",
   "execution_count": null,
   "metadata": {},
   "outputs": [],
   "source": [
    "# id with more than 10 features\n",
    "# selected_id = [361247, 361243, 361242, 361252, 361251, 361253, 361260, 361259, 361256, 361254, 361618, 161266, 361268,\n",
    "#                361272, 361616, 361619, 361622]\n",
    "# print(len(selected_id))"
   ]
  },
  {
   "cell_type": "code",
   "execution_count": null,
   "metadata": {},
   "outputs": [],
   "source": [
    "# def check_columns_with_few_distinct_values(df):\n",
    "#     \"\"\"\n",
    "#     Check if any column in the DataFrame has fewer than 10 distinct values.\n",
    "\n",
    "#     Parameters:\n",
    "#     df (pd.DataFrame): The input DataFrame.\n",
    "\n",
    "#     Returns:\n",
    "#     dict: A dictionary with column names as keys and the count of distinct values as values for columns with fewer than 10 distinct values.\n",
    "#     \"\"\"\n",
    "#     result = {col: df[col].nunique() for col in df.columns if df[col].nunique() < 10}\n",
    "#     return result\n",
    "\n",
    "# for t_id in selected_id:\n",
    "#     task = openml.tasks.get_task(t_id)\n",
    "#     dataset = task.get_dataset()\n",
    "#     X, y, _, attribute_names = dataset.get_data(target=dataset.default_target_attribute)\n",
    "#     X = pd.DataFrame(X, columns=attribute_names[:-1])\n",
    "#     print(t_id)\n",
    "#     print(check_columns_with_few_distinct_values(X))"
   ]
  },
  {
   "cell_type": "code",
   "execution_count": null,
   "metadata": {},
   "outputs": [],
   "source": [
    "# id with no categorical features\n",
    "selected_id = [361247, 361243, 361242, 361251, 361253, 361260, 361259, 361256, 361254, 361622]\n",
    "print(len(selected_id))"
   ]
  },
  {
   "cell_type": "code",
   "execution_count": null,
   "metadata": {},
   "outputs": [],
   "source": [
    "# check if there are any missing values\n",
    "for t_id in selected_id:\n",
    "    task = openml.tasks.get_task(t_id)\n",
    "    dataset = task.get_dataset()\n",
    "    X, y, _, attribute_names = dataset.get_data(target=dataset.default_target_attribute)\n",
    "    X = pd.DataFrame(X, columns=attribute_names[:-1])\n",
    "    print(t_id)\n",
    "    print(X.isnull().sum().sum())\n",
    "\n",
    "# task = openml.tasks.get_task(t_id)\n",
    "# dataset = task.get_dataset()\n",
    "# X, y, _, attribute_names = dataset.get_data(target=dataset.default_target_attribute,dataset_format=\"array\")\n",
    "# # X = pd.DataFrame(X, columns=attribute_names[:-1])\n",
    "# X"
   ]
  },
  {
   "cell_type": "code",
   "execution_count": null,
   "metadata": {},
   "outputs": [],
   "source": [
    "task = openml.tasks.get_task(361622)\n",
    "dataset = task.get_dataset()\n",
    "X, y, _, attribute_names = dataset.get_data(target=dataset.default_target_attribute,dataset_format=\"array\")\n",
    "# X = pd.DataFrame(X, columns=attribute_names[:-1])\n",
    "y"
   ]
  },
  {
   "cell_type": "code",
   "execution_count": null,
   "metadata": {},
   "outputs": [],
   "source": [
    "np.random.seed(4307)\n",
    "np.random.choice(X.shape[0], 20, replace=False)"
   ]
  },
  {
   "cell_type": "code",
   "execution_count": null,
   "metadata": {},
   "outputs": [],
   "source": [
    "np.random.seed(4307)\n",
    "np.random.choice(X.shape[0], 20, replace=False)"
   ]
  },
  {
   "cell_type": "code",
   "execution_count": null,
   "metadata": {},
   "outputs": [],
   "source": [
    "np.random.seed(4307)\n",
    "np.random.choice(X.shape[0], 20, replace=False)"
   ]
  },
  {
   "cell_type": "code",
   "execution_count": null,
   "metadata": {},
   "outputs": [],
   "source": [
    "y.shape[0]"
   ]
  },
  {
   "cell_type": "code",
   "execution_count": null,
   "metadata": {},
   "outputs": [],
   "source": [
    "np.log(y)"
   ]
  },
  {
   "cell_type": "code",
   "execution_count": null,
   "metadata": {},
   "outputs": [],
   "source": [
    "# Plot y distribution\n",
    "plt.hist(y)\n",
    "plt.show()"
   ]
  },
  {
   "cell_type": "code",
   "execution_count": null,
   "metadata": {},
   "outputs": [],
   "source": [
    "y = np.log(y)\n",
    "plt.hist(y)\n",
    "plt.show()"
   ]
  },
  {
   "cell_type": "code",
   "execution_count": null,
   "metadata": {},
   "outputs": [],
   "source": [
    "y"
   ]
  },
  {
   "cell_type": "code",
   "execution_count": null,
   "metadata": {},
   "outputs": [],
   "source": [
    "# Turn y into a dataframe\n",
    "y = pd.DataFrame(y, columns=['target'])"
   ]
  },
  {
   "cell_type": "code",
   "execution_count": null,
   "metadata": {},
   "outputs": [],
   "source": [
    "y"
   ]
  },
  {
   "cell_type": "code",
   "execution_count": null,
   "metadata": {},
   "outputs": [],
   "source": [
    "X_train, X_test, y_train, y_test = train_test_split(X, y, test_size=0.2, random_state=42)\n",
    "rf_no_standardize = RandomForestRegressor(n_estimators=100, min_samples_leaf=5, max_features=0.33, random_state=42)\n",
    "rf_no_standardize.fit(X_train, y_train)\n",
    "rf_plus_base_no_standardize = RandomForestPlusRegressor(rf_model=rf_no_standardize)\n",
    "rf_plus_base_no_standardize.fit(X_train, y_train)"
   ]
  },
  {
   "cell_type": "code",
   "execution_count": null,
   "metadata": {},
   "outputs": [],
   "source": []
  },
  {
   "cell_type": "code",
   "execution_count": null,
   "metadata": {},
   "outputs": [],
   "source": [
    "assert False"
   ]
  },
  {
   "cell_type": "code",
   "execution_count": null,
   "metadata": {},
   "outputs": [],
   "source": []
  },
  {
   "cell_type": "code",
   "execution_count": null,
   "metadata": {},
   "outputs": [],
   "source": []
  },
  {
   "cell_type": "code",
   "execution_count": null,
   "metadata": {},
   "outputs": [],
   "source": [
    "def preprocessing_data_X(X):\n",
    "    categorical_cols = X.select_dtypes(include=[\"object\", \"category\"]).columns\n",
    "    numerical_cols = X.select_dtypes(include=[\"number\"]).columns\n",
    "    if X[numerical_cols].isnull().any().any():\n",
    "        num_imputer = SimpleImputer(strategy=\"mean\")\n",
    "        X[numerical_cols] = num_imputer.fit_transform(X[numerical_cols])\n",
    "    if len(categorical_cols) > 0 and X[categorical_cols].isnull().any().any():\n",
    "        # Convert categorical columns to string to ensure consistent types\n",
    "        X[categorical_cols] = X[categorical_cols].astype(str)\n",
    "        cat_imputer = SimpleImputer(strategy=\"most_frequent\")\n",
    "        X[categorical_cols] = cat_imputer.fit_transform(X[categorical_cols])\n",
    "    if len(categorical_cols) > 0:\n",
    "        encoder = OneHotEncoder(handle_unknown=\"ignore\", sparse_output=False)\n",
    "        X_categorical = encoder.fit_transform(X[categorical_cols])\n",
    "        X_categorical_df = pd.DataFrame(\n",
    "            X_categorical,\n",
    "            columns=encoder.get_feature_names_out(categorical_cols),\n",
    "            index=X.index\n",
    "        )\n",
    "        X = pd.concat([X[numerical_cols], X_categorical_df], axis=1)\n",
    "    else:\n",
    "        X = X[numerical_cols]\n",
    "    X = X.to_numpy()\n",
    "    if X.shape[0]>2000:\n",
    "        X = X[:2000,:]\n",
    "    return X"
   ]
  },
  {
   "cell_type": "code",
   "execution_count": null,
   "metadata": {},
   "outputs": [],
   "source": [
    "# Temperature 925\n",
    "dataset = fetch_ucirepo(id=857)\n",
    "X = dataset.data.features\n",
    "X"
   ]
  },
  {
   "cell_type": "code",
   "execution_count": null,
   "metadata": {},
   "outputs": [],
   "source": [
    "X.select_dtypes(include=[\"object\", \"category\"]).nunique()"
   ]
  },
  {
   "cell_type": "code",
   "execution_count": null,
   "metadata": {},
   "outputs": [],
   "source": [
    "# Parkinsons 189\n",
    "dataset = fetch_ucirepo(id=189)\n",
    "X = dataset.data.features\n",
    "X"
   ]
  },
  {
   "cell_type": "code",
   "execution_count": null,
   "metadata": {},
   "outputs": [],
   "source": [
    "X.select_dtypes(include=[\"object\", \"category\"]).nunique()"
   ]
  },
  {
   "cell_type": "code",
   "execution_count": null,
   "metadata": {},
   "outputs": [],
   "source": [
    "X = sample_real_data_X(source=\"openml\", data_id=1245)\n",
    "y = sample_real_data_y(source=\"openml\", data_id=1245, return_support=False)"
   ]
  },
  {
   "cell_type": "code",
   "execution_count": null,
   "metadata": {},
   "outputs": [],
   "source": []
  },
  {
   "cell_type": "code",
   "execution_count": null,
   "metadata": {},
   "outputs": [],
   "source": []
  },
  {
   "cell_type": "code",
   "execution_count": null,
   "metadata": {},
   "outputs": [],
   "source": [
    "X = sample_real_data_X(source=\"openml\", data_id=1245)\n",
    "y = sample_real_data_y(source=\"openml\", data_id=1245, return_support=False)"
   ]
  },
  {
   "cell_type": "code",
   "execution_count": null,
   "metadata": {},
   "outputs": [],
   "source": [
    "dataset = openml.datasets.get_dataset(1245)\n",
    "X, _, _, attribute_names = dataset.get_data(target=dataset.default_target_attribute)\n",
    "X = pd.DataFrame(X, columns=attribute_names[:-1])"
   ]
  },
  {
   "cell_type": "code",
   "execution_count": null,
   "metadata": {},
   "outputs": [],
   "source": [
    "X"
   ]
  },
  {
   "cell_type": "code",
   "execution_count": null,
   "metadata": {},
   "outputs": [],
   "source": [
    "X[\"histology\"].value_counts()"
   ]
  },
  {
   "cell_type": "code",
   "execution_count": null,
   "metadata": {},
   "outputs": [],
   "source": [
    "X.select_dtypes(include=[\"object\", \"category\"]).columns"
   ]
  },
  {
   "cell_type": "code",
   "execution_count": null,
   "metadata": {},
   "outputs": [],
   "source": [
    "from sklearn.preprocessing import OneHotEncoder\n",
    "from sklearn.impute import SimpleImputer\n",
    "from sklearn.preprocessing import LabelEncoder\n",
    "\n",
    "categorical_cols = X.select_dtypes(include=[\"object\", \"category\"]).columns\n",
    "numerical_cols = X.select_dtypes(include=[\"number\"]).columns\n",
    "if X[numerical_cols].isnull().any().any():\n",
    "    num_imputer = SimpleImputer(strategy=\"mean\")\n",
    "    X[numerical_cols] = num_imputer.fit_transform(X[numerical_cols])\n",
    "if len(categorical_cols) > 0 and X[categorical_cols].isnull().any().any():\n",
    "    X[categorical_cols] = X[categorical_cols].astype(str)\n",
    "    cat_imputer = SimpleImputer(strategy=\"most_frequent\")\n",
    "    X[categorical_cols] = cat_imputer.fit_transform(X[categorical_cols])\n",
    "if len(categorical_cols) > 0:\n",
    "    encoder = OneHotEncoder(handle_unknown=\"ignore\", sparse_output=False)\n",
    "    X_categorical = encoder.fit_transform(X[categorical_cols])\n",
    "    X_categorical_df = pd.DataFrame(\n",
    "        X_categorical,\n",
    "        columns=encoder.get_feature_names_out(categorical_cols),\n",
    "        index=X.index\n",
    "    )"
   ]
  },
  {
   "cell_type": "code",
   "execution_count": null,
   "metadata": {},
   "outputs": [],
   "source": [
    "X_categorical_df"
   ]
  },
  {
   "cell_type": "code",
   "execution_count": null,
   "metadata": {},
   "outputs": [],
   "source": [
    "from sklearn.preprocessing import OneHotEncoder\n",
    "from sklearn.impute import SimpleImputer\n",
    "from sklearn.preprocessing import LabelEncoder\n",
    "\n",
    "def preprocessing_data_X(X):\n",
    "    categorical_cols = X.select_dtypes(include=[\"object\", \"category\"]).columns\n",
    "    numerical_cols = X.select_dtypes(include=[\"number\"]).columns\n",
    "    if X[numerical_cols].isnull().any().any():\n",
    "        num_imputer = SimpleImputer(strategy=\"mean\")\n",
    "        X[numerical_cols] = num_imputer.fit_transform(X[numerical_cols])\n",
    "    if len(categorical_cols) > 0 and X[categorical_cols].isnull().any().any():\n",
    "        X[categorical_cols] = X[categorical_cols].astype(str)\n",
    "        cat_imputer = SimpleImputer(strategy=\"most_frequent\")\n",
    "        X[categorical_cols] = cat_imputer.fit_transform(X[categorical_cols])\n",
    "    if len(categorical_cols) > 0:\n",
    "        encoder = OneHotEncoder(handle_unknown=\"ignore\", sparse_output=False)\n",
    "        X_categorical = encoder.fit_transform(X[categorical_cols])\n",
    "        X_categorical_df = pd.DataFrame(\n",
    "            X_categorical,\n",
    "            columns=encoder.get_feature_names_out(categorical_cols),\n",
    "            index=X.index\n",
    "        )\n",
    "        X = pd.concat([X[numerical_cols], X_categorical_df], axis=1)\n",
    "    else:\n",
    "        X = X[numerical_cols]\n",
    "    X = X.to_numpy()\n",
    "    if X.shape[0]>2000:\n",
    "        X = X[:2000,:]\n",
    "    return X\n"
   ]
  },
  {
   "cell_type": "code",
   "execution_count": null,
   "metadata": {},
   "outputs": [],
   "source": [
    "X.shape"
   ]
  },
  {
   "cell_type": "code",
   "execution_count": null,
   "metadata": {},
   "outputs": [],
   "source": [
    "X_train, X_test, y_train, y_test = train_test_split(X, y, test_size=0.2, random_state=42)\n",
    "rf_no_standardize = RandomForestRegressor(n_estimators=100, min_samples_leaf=5, max_features=0.33, random_state=42)\n",
    "rf_no_standardize.fit(X_train, y_train)\n",
    "rf_plus_base_no_standardize = RandomForestPlusRegressor(rf_model=rf_no_standardize)\n",
    "rf_plus_base_no_standardize.fit(X_train, y_train)"
   ]
  },
  {
   "cell_type": "code",
   "execution_count": null,
   "metadata": {},
   "outputs": [],
   "source": [
    "# print accuracy\n",
    "print(\"RF+ accuracy: \", r2_score(y_test, rf_plus_base_no_standardize.predict(X_test)))\n",
    "print(\"RF accuracy: \", r2_score(y_test, rf_no_standardize.predict(X_test)))"
   ]
  },
  {
   "cell_type": "code",
   "execution_count": null,
   "metadata": {},
   "outputs": [],
   "source": [
    "shap_score_no_standardize = np.argsort(-1*tree_shap_evaluation_RF_retrain(X_train, y_train, X_test, fit=rf_no_standardize, mode=\"absolute\")[0])\n",
    "shap_score_no_standardize "
   ]
  },
  {
   "cell_type": "code",
   "execution_count": null,
   "metadata": {},
   "outputs": [],
   "source": [
    "lmdi_no_standardize = np.argsort(-1*LFI_evaluation_AloRFPlus_all_ranking_retrain(X_train, y_train, X_test, fit=rf_plus_base_no_standardize, mode=\"absolute\")[0])\n",
    "lmdi_no_standardize"
   ]
  },
  {
   "cell_type": "code",
   "execution_count": null,
   "metadata": {},
   "outputs": [],
   "source": []
  },
  {
   "cell_type": "code",
   "execution_count": null,
   "metadata": {},
   "outputs": [],
   "source": [
    "# standardize data\n",
    "scaler = StandardScaler()\n",
    "X = scaler.fit_transform(X)\n",
    "X_train, X_test, y_train, y_test = train_test_split(X, y, test_size=0.2, random_state=42)\n",
    "rf = RandomForestRegressor(n_estimators=100, min_samples_leaf=5, max_features=0.33, random_state=42)\n",
    "rf.fit(X_train, y_train)\n",
    "rf_plus_base = RandomForestPlusRegressor(rf_model=rf)\n",
    "rf_plus_base.fit(X_train, y_train)\n",
    "# print accuracy\n",
    "print(\"RF+ accuracy: \", r2_score(y_test, rf_plus_base.predict(X_test)))\n",
    "print(\"RF accuracy: \", r2_score(y_test, rf.predict(X_test)))"
   ]
  },
  {
   "cell_type": "code",
   "execution_count": null,
   "metadata": {},
   "outputs": [],
   "source": [
    "shap_score = np.argsort(-1*tree_shap_evaluation_RF_retrain(X_train, y_train, X_test, fit=rf, mode=\"absolute\")[0])\n",
    "shap_score"
   ]
  },
  {
   "cell_type": "code",
   "execution_count": null,
   "metadata": {},
   "outputs": [],
   "source": [
    "lmdi = np.argsort(-1*LFI_evaluation_AloRFPlus_all_ranking_retrain(X_train, y_train, X_test, fit=rf_plus_base, mode=\"absolute\")[0])\n",
    "lmdi"
   ]
  },
  {
   "cell_type": "code",
   "execution_count": null,
   "metadata": {},
   "outputs": [],
   "source": [
    "# assert "
   ]
  },
  {
   "cell_type": "code",
   "execution_count": null,
   "metadata": {},
   "outputs": [],
   "source": [
    "np.array_equal(lmdi, lmdi_no_standardize)"
   ]
  },
  {
   "cell_type": "code",
   "execution_count": null,
   "metadata": {},
   "outputs": [],
   "source": [
    "difference_mask = lmdi != lmdi_no_standardize\n",
    "print(\"Indices of differing elements:\", np.argwhere(difference_mask))"
   ]
  },
  {
   "cell_type": "code",
   "execution_count": null,
   "metadata": {},
   "outputs": [],
   "source": [
    "np.array_equal(shap_score, shap_score_no_standardize)"
   ]
  },
  {
   "cell_type": "code",
   "execution_count": null,
   "metadata": {},
   "outputs": [],
   "source": [
    "difference_mask = shap_score != shap_score_no_standardize\n",
    "print(\"Indices of differing elements:\", np.argwhere(difference_mask))"
   ]
  },
  {
   "cell_type": "code",
   "execution_count": null,
   "metadata": {},
   "outputs": [],
   "source": []
  },
  {
   "cell_type": "code",
   "execution_count": null,
   "metadata": {},
   "outputs": [],
   "source": [
    "shap_score[5]"
   ]
  },
  {
   "cell_type": "code",
   "execution_count": null,
   "metadata": {},
   "outputs": [],
   "source": [
    "shap_score_no_standardize[5]"
   ]
  },
  {
   "cell_type": "code",
   "execution_count": null,
   "metadata": {},
   "outputs": [],
   "source": [
    "tree_shap_evaluation_RF_retrain(X_train, y_train, X_test, fit=rf, mode=\"absolute\")[0]"
   ]
  },
  {
   "cell_type": "code",
   "execution_count": null,
   "metadata": {},
   "outputs": [],
   "source": [
    "tree_shap_evaluation_RF_retrain(X_train, y_train, X_test, fit=rf_no_standardize, mode=\"absolute\")[0]"
   ]
  },
  {
   "cell_type": "code",
   "execution_count": null,
   "metadata": {},
   "outputs": [],
   "source": []
  },
  {
   "cell_type": "code",
   "execution_count": null,
   "metadata": {},
   "outputs": [],
   "source": [
    "# Create heatmap\n",
    "plt.figure(figsize=(8, 6))\n",
    "plt.imshow(shap_score_no_standardize, cmap='viridis', aspect='auto')  # Choose colormap as needed\n",
    "plt.colorbar(label='Values')  # Add a colorbar\n",
    "plt.title('Matrix Heatmap')  # Add title\n",
    "plt.xlabel('Columns')  # Add x-axis label\n",
    "plt.ylabel('Rows')  # Add y-axis label\n",
    "plt.show()"
   ]
  },
  {
   "cell_type": "code",
   "execution_count": null,
   "metadata": {},
   "outputs": [],
   "source": [
    "# row_tuples = [tuple(row) for row in shap_score]\n",
    "# row_counts = Counter(row_tuples)\n",
    "# for row, count in row_counts.items():\n",
    "#     print(f\"Row: {row}, Count: {count}\")"
   ]
  },
  {
   "cell_type": "code",
   "execution_count": null,
   "metadata": {},
   "outputs": [],
   "source": [
    "# Create heatmap\n",
    "plt.figure(figsize=(8, 6))\n",
    "plt.imshow(lmdi, cmap='viridis', aspect='auto')  # Choose colormap as needed\n",
    "plt.colorbar(label='Values')  # Add a colorbar\n",
    "plt.title('Matrix Heatmap')  # Add title\n",
    "plt.xlabel('Columns')  # Add x-axis label\n",
    "plt.ylabel('Rows')  # Add y-axis label\n",
    "plt.show()"
   ]
  },
  {
   "cell_type": "code",
   "execution_count": null,
   "metadata": {},
   "outputs": [],
   "source": [
    "row_tuples = [tuple(row) for row in lmdi]\n",
    "row_counts = Counter(row_tuples)\n",
    "for row, count in row_counts.items():\n",
    "    print(f\"Row: {row}, Count: {count}\")"
   ]
  },
  {
   "cell_type": "code",
   "execution_count": null,
   "metadata": {},
   "outputs": [],
   "source": []
  },
  {
   "cell_type": "code",
   "execution_count": null,
   "metadata": {},
   "outputs": [],
   "source": []
  },
  {
   "cell_type": "code",
   "execution_count": null,
   "metadata": {},
   "outputs": [],
   "source": [
    "from ucimlrepo import fetch_ucirepo\n",
    "dataset = fetch_ucirepo(id=10)\n",
    "dataset.data.targets"
   ]
  },
  {
   "cell_type": "code",
   "execution_count": null,
   "metadata": {},
   "outputs": [],
   "source": [
    "# apply train test split\n",
    "X_train, X_test, y_train, y_test = train_test_split(X, y, test_size=0.2, random_state=42)"
   ]
  },
  {
   "cell_type": "code",
   "execution_count": null,
   "metadata": {},
   "outputs": [],
   "source": []
  },
  {
   "cell_type": "code",
   "execution_count": null,
   "metadata": {},
   "outputs": [],
   "source": []
  },
  {
   "cell_type": "code",
   "execution_count": null,
   "metadata": {},
   "outputs": [],
   "source": [
    "rf = RandomForestRegressor(n_estimators=100, min_samples_leaf=5, max_features=0.33, random_state=42)\n",
    "rf.fit(X_train, y_train)\n",
    "rf_plus_base = RandomForestPlusRegressor(rf_model=rf)\n",
    "rf_plus_base.fit(X_train, y_train)"
   ]
  },
  {
   "cell_type": "code",
   "execution_count": null,
   "metadata": {},
   "outputs": [],
   "source": [
    "train_data, test_data = LFI_evaluation_RFPlus_all_ranking_retrain(X_train, y_train, X_test, fit=rf_plus_base, mode=\"absolute\")"
   ]
  },
  {
   "cell_type": "code",
   "execution_count": null,
   "metadata": {},
   "outputs": [],
   "source": [
    "train_data[0]"
   ]
  },
  {
   "cell_type": "code",
   "execution_count": null,
   "metadata": {},
   "outputs": [],
   "source": [
    "np.argsort(-1*train_data[0])[:3].tolist()"
   ]
  },
  {
   "cell_type": "code",
   "execution_count": null,
   "metadata": {},
   "outputs": [],
   "source": []
  },
  {
   "cell_type": "code",
   "execution_count": null,
   "metadata": {},
   "outputs": [],
   "source": [
    "assert False"
   ]
  },
  {
   "cell_type": "code",
   "execution_count": null,
   "metadata": {},
   "outputs": [],
   "source": [
    "import numpy as np\n",
    "import matplotlib.pyplot as plt\n",
    "\n",
    "# Example NumPy array\n",
    "data = LFI_evaluation_RFPlus_all_ranking_retrain(X_train, y_train, fit=rf_plus_base, mode=\"absolute\")\n",
    "data = np.argsort(data, axis=1)  # Sort the indices of the features\n",
    "\n",
    "# Adjust the figure size\n",
    "plt.figure(figsize=(12, 6))  # Width = 12 inches, Height = 6 inches\n",
    "plt.imshow(data, cmap='viridis', interpolation='nearest', aspect='auto')\n",
    "plt.colorbar()  # Add a color bar to show the scale\n",
    "plt.title(\"Heatmap of NumPy Array\")\n",
    "plt.show()\n",
    "\n"
   ]
  },
  {
   "cell_type": "code",
   "execution_count": null,
   "metadata": {},
   "outputs": [],
   "source": [
    "LFI_evaluation_RFPlus_all_l2_norm_ranking_retrain(X_train, y_train, fit=rf_plus_base, mode=\"absolute\")"
   ]
  },
  {
   "cell_type": "code",
   "execution_count": null,
   "metadata": {},
   "outputs": [],
   "source": []
  },
  {
   "cell_type": "code",
   "execution_count": null,
   "metadata": {},
   "outputs": [],
   "source": []
  },
  {
   "cell_type": "code",
   "execution_count": null,
   "metadata": {},
   "outputs": [],
   "source": [
    "rf_plus_mdi = RFPlusMDI(rf_plus_base, evaluate_on=\"all\")\n",
    "temp1 = rf_plus_mdi.explain_linear_partial(X=X_train, y=y_train)\n",
    "temp_10 = rf_plus_mdi.explain_linear_partial(X=X_train, y=y_train, leaf_average=True)\n",
    "temp2 = rf_plus_mdi.explain_linear_partial_error_metric(X=X_train, y=y_train)\n",
    "temp3 = rf_plus_mdi.explain_linear_partial_error_metric(X=X_train, y=y_train, leaf_average=True)\n",
    "temp4 = rf_plus_mdi.explain_linear_partial_error_metric(X=X_train, y=y_train, ranking=True)\n"
   ]
  },
  {
   "cell_type": "code",
   "execution_count": null,
   "metadata": {},
   "outputs": [],
   "source": [
    "from collections import defaultdict\n",
    "leaf_indices = rf.apply(X_train).flatten()\n",
    "leaf_mapping = defaultdict(list)\n",
    "for sample_idx, leaf_idx in enumerate(leaf_indices):\n",
    "    leaf_mapping[leaf_idx].append(sample_idx)\n",
    "leaf_mapping[20]"
   ]
  },
  {
   "cell_type": "code",
   "execution_count": null,
   "metadata": {},
   "outputs": [],
   "source": [
    "temp3[148]"
   ]
  },
  {
   "cell_type": "code",
   "execution_count": null,
   "metadata": {},
   "outputs": [],
   "source": [
    "temp3[82]"
   ]
  },
  {
   "cell_type": "code",
   "execution_count": null,
   "metadata": {},
   "outputs": [],
   "source": []
  },
  {
   "cell_type": "code",
   "execution_count": null,
   "metadata": {},
   "outputs": [],
   "source": []
  },
  {
   "cell_type": "code",
   "execution_count": null,
   "metadata": {},
   "outputs": [],
   "source": []
  },
  {
   "cell_type": "code",
   "execution_count": null,
   "metadata": {},
   "outputs": [],
   "source": []
  },
  {
   "cell_type": "code",
   "execution_count": null,
   "metadata": {},
   "outputs": [],
   "source": [
    "temp1[0]"
   ]
  },
  {
   "cell_type": "code",
   "execution_count": null,
   "metadata": {},
   "outputs": [],
   "source": [
    "(y_train[0] - rf_plus_base.predict(X_train[0].reshape(1, -1)) + temp1[0])**2"
   ]
  },
  {
   "cell_type": "code",
   "execution_count": null,
   "metadata": {},
   "outputs": [],
   "source": [
    "temp2[0]"
   ]
  },
  {
   "cell_type": "code",
   "execution_count": null,
   "metadata": {},
   "outputs": [],
   "source": []
  },
  {
   "cell_type": "code",
   "execution_count": null,
   "metadata": {},
   "outputs": [],
   "source": [
    "temp.shape"
   ]
  },
  {
   "cell_type": "code",
   "execution_count": null,
   "metadata": {},
   "outputs": [],
   "source": [
    "y_train.shape"
   ]
  },
  {
   "cell_type": "code",
   "execution_count": null,
   "metadata": {},
   "outputs": [],
   "source": [
    "result = (temp - y_train[:, np.newaxis, np.newaxis])**2"
   ]
  },
  {
   "cell_type": "code",
   "execution_count": null,
   "metadata": {},
   "outputs": [],
   "source": [
    "y_train[:, np.newaxis, np.newaxis].shape"
   ]
  },
  {
   "cell_type": "code",
   "execution_count": null,
   "metadata": {},
   "outputs": [],
   "source": [
    "y_train[20]"
   ]
  },
  {
   "cell_type": "code",
   "execution_count": null,
   "metadata": {},
   "outputs": [],
   "source": [
    "(0.1676066)**2"
   ]
  },
  {
   "cell_type": "code",
   "execution_count": null,
   "metadata": {},
   "outputs": [],
   "source": [
    "temp[20]"
   ]
  },
  {
   "cell_type": "code",
   "execution_count": null,
   "metadata": {},
   "outputs": [],
   "source": [
    "result[20]"
   ]
  },
  {
   "cell_type": "code",
   "execution_count": null,
   "metadata": {},
   "outputs": [],
   "source": [
    "rf_plus_base = RandomForestPlusRegressor(rf_model=rf)\n",
    "rf_plus_base.fit(X_train, y_train)\n",
    "rf_plus_base.score(X_test, y_test)"
   ]
  },
  {
   "cell_type": "code",
   "execution_count": null,
   "metadata": {},
   "outputs": [],
   "source": []
  },
  {
   "cell_type": "code",
   "execution_count": null,
   "metadata": {},
   "outputs": [],
   "source": []
  },
  {
   "cell_type": "code",
   "execution_count": null,
   "metadata": {},
   "outputs": [],
   "source": [
    "from ucimlrepo import fetch_ucirepo \n",
    "  \n",
    "# fetch dataset \n",
    "parkinsons_telemonitoring = fetch_ucirepo(id=189) \n",
    "  \n",
    "# data (as pandas dataframes) \n",
    "X = parkinsons_telemonitoring.data.features \n",
    "y = parkinsons_telemonitoring.data.targets \n"
   ]
  },
  {
   "cell_type": "code",
   "execution_count": null,
   "metadata": {},
   "outputs": [],
   "source": []
  },
  {
   "cell_type": "code",
   "execution_count": null,
   "metadata": {},
   "outputs": [],
   "source": []
  },
  {
   "cell_type": "code",
   "execution_count": null,
   "metadata": {},
   "outputs": [],
   "source": []
  },
  {
   "cell_type": "code",
   "execution_count": null,
   "metadata": {},
   "outputs": [],
   "source": [
    "from sklearn.preprocessing import OneHotEncoder\n",
    "from sklearn.impute import SimpleImputer\n",
    "\n",
    "categorical_cols = X.select_dtypes(include=[\"object\", \"category\"]).columns\n",
    "numerical_cols = X.select_dtypes(include=[\"number\"]).columns\n",
    "\n",
    "# Step 2: Handle missing values (if any)\n",
    "# Check if there are missing values in the numerical columns\n",
    "if X[numerical_cols].isnull().any().any():\n",
    "    # Impute missing values in numerical columns with the mean\n",
    "    num_imputer = SimpleImputer(strategy=\"mean\")\n",
    "    X[numerical_cols] = num_imputer.fit_transform(X[numerical_cols])\n",
    "\n",
    "# Check if there are missing values in the categorical columns\n",
    "if len(categorical_cols) > 0 and X[categorical_cols].isnull().any().any():\n",
    "    # Convert categorical columns to string to ensure consistent types\n",
    "    X[categorical_cols] = X[categorical_cols].astype(str)\n",
    "\n",
    "    # Impute missing values in categorical columns with the most frequent value\n",
    "    cat_imputer = SimpleImputer(strategy=\"most_frequent\")\n",
    "    X[categorical_cols] = cat_imputer.fit_transform(X[categorical_cols])\n",
    "\n",
    "# Step 3: Encode categorical variables using OneHotEncoder (if any categorical columns)\n",
    "if len(categorical_cols) > 0:\n",
    "    encoder = OneHotEncoder(handle_unknown=\"ignore\", sparse_output=False)\n",
    "    X_categorical = encoder.fit_transform(X[categorical_cols])\n",
    "\n",
    "    # Convert encoded categorical data back to DataFrame\n",
    "    X_categorical_df = pd.DataFrame(\n",
    "        X_categorical,\n",
    "        columns=encoder.get_feature_names_out(categorical_cols),\n",
    "        index=X.index\n",
    "    )\n",
    "\n",
    "    # Step 4: Concatenate numerical columns and the encoded categorical DataFrame\n",
    "    X = pd.concat([X[numerical_cols], X_categorical_df], axis=1)\n",
    "else:\n",
    "    # If no categorical columns, we just use the numerical columns\n",
    "    X = X[numerical_cols]\n",
    "X = X.to_numpy()"
   ]
  },
  {
   "cell_type": "code",
   "execution_count": null,
   "metadata": {},
   "outputs": [],
   "source": [
    "X"
   ]
  },
  {
   "cell_type": "code",
   "execution_count": null,
   "metadata": {},
   "outputs": [],
   "source": [
    "if y.to_numpy().shape[1] > 1:\n",
    "    y = y.iloc[:, 0].to_numpy().flatten()\n",
    "else:\n",
    "    y = y.to_numpy().flatten()"
   ]
  },
  {
   "cell_type": "code",
   "execution_count": null,
   "metadata": {},
   "outputs": [],
   "source": [
    "# Fit a random forest model\n",
    "rf = RandomForestRegressor(n_estimators=100, max_depth=5)\n",
    "rf.fit(X, y)\n",
    "rf.score(X, y)"
   ]
  },
  {
   "cell_type": "code",
   "execution_count": null,
   "metadata": {},
   "outputs": [],
   "source": [
    "rf_plus_base = RandomForestPlusRegressor(rf_model=rf)\n",
    "rf_plus_base.fit(X, y)\n",
    "rf_plus_base.score(X, y)"
   ]
  },
  {
   "cell_type": "code",
   "execution_count": null,
   "metadata": {},
   "outputs": [],
   "source": []
  },
  {
   "cell_type": "code",
   "execution_count": null,
   "metadata": {},
   "outputs": [],
   "source": []
  },
  {
   "cell_type": "code",
   "execution_count": null,
   "metadata": {},
   "outputs": [],
   "source": [
    "# X, y, _ = imodels.get_clean_dataset(\"diabetes\")\n",
    "X, y, _ = imodels.get_clean_dataset(\"diabetes_regr\")"
   ]
  },
  {
   "cell_type": "code",
   "execution_count": null,
   "metadata": {},
   "outputs": [],
   "source": [
    "# split the data\n",
    "X_train, X_test, y_train, y_test = train_test_split(X, y, test_size=0.2, random_state=42)"
   ]
  },
  {
   "cell_type": "code",
   "execution_count": null,
   "metadata": {},
   "outputs": [],
   "source": [
    "## Debug\n",
    "# RF Regressor\n",
    "est = RandomForestRegressor(n_estimators=100, min_samples_leaf=5, max_features=0.33, random_state=42)\n",
    "est.fit(X_train, y_train)\n",
    "\n",
    "# RFplus default(fit on all)\n",
    "rf_plus_base = RandomForestPlusRegressor(rf_model=est)\n",
    "rf_plus_base.fit(X_train, y_train)\n",
    "\n",
    "rf_plus_mdi = AloRFPlusMDI(rf_plus_base, evaluate_on=\"all\")\n",
    "rf_plus_mdi.explain_linear_partial(X=X_train, y=y_train)"
   ]
  },
  {
   "cell_type": "code",
   "execution_count": null,
   "metadata": {},
   "outputs": [],
   "source": [
    "rf_plus_mdi = AloRFPlusMDI(rf_plus_base, evaluate_on=\"all\")\n",
    "temp = rf_plus_mdi.explain_linear_partial(X=X_train, y=y_train)"
   ]
  },
  {
   "cell_type": "code",
   "execution_count": null,
   "metadata": {},
   "outputs": [],
   "source": [
    "temp.shape"
   ]
  },
  {
   "cell_type": "code",
   "execution_count": null,
   "metadata": {},
   "outputs": [],
   "source": [
    "temp[0,0,:].shape"
   ]
  },
  {
   "cell_type": "code",
   "execution_count": null,
   "metadata": {},
   "outputs": [],
   "source": [
    "r2_score([y_train[0]]*100, temp[1,1,:])"
   ]
  },
  {
   "cell_type": "code",
   "execution_count": null,
   "metadata": {},
   "outputs": [],
   "source": []
  },
  {
   "cell_type": "code",
   "execution_count": null,
   "metadata": {},
   "outputs": [],
   "source": []
  },
  {
   "cell_type": "code",
   "execution_count": null,
   "metadata": {},
   "outputs": [],
   "source": [
    "# # RF Regressor\n",
    "# est = RandomForestRegressor(n_estimators=100, min_samples_leaf=5, max_features=0.33, random_state=42)\n",
    "# est.fit(X_train, y_train)\n",
    "\n",
    "# # RFplus default(fit on all)\n",
    "# rf_plus_base = RandomForestPlusRegressor(rf_model=est)\n",
    "# rf_plus_base.fit(X_train, y_train)\n",
    "\n",
    "# # RFplus oob \n",
    "# rf_plus_base_oob = RandomForestPlusRegressor(rf_model=est, fit_on=\"oob\")\n",
    "# rf_plus_base_oob.fit(X_train, y_train)\n",
    "\n",
    "# #RFplus inbag RF\n",
    "# rf_plus_base_inbag = RandomForestPlusRegressor(rf_model=est, include_raw=False, fit_on=\"inbag\", prediction_model=LinearRegression())\n",
    "# rf_plus_base_inbag.fit(X_train, y_train)"
   ]
  },
  {
   "cell_type": "code",
   "execution_count": null,
   "metadata": {},
   "outputs": [],
   "source": [
    "# RF Classifier\n",
    "est = RandomForestClassifier(n_estimators=100, min_samples_leaf=3, max_features='sqrt', random_state=42)\n",
    "est.fit(X_train, y_train)\n",
    "\n",
    "# RFplus default(fit on all)\n",
    "rf_plus_base = RandomForestPlusClassifier(rf_model=est)\n",
    "rf_plus_base.fit(X_train, y_train)\n",
    "\n",
    "# RFplus oob \n",
    "rf_plus_base_oob = RandomForestPlusClassifier(rf_model=est, fit_on=\"oob\")\n",
    "rf_plus_base_oob.fit(X_train, y_train)\n",
    "\n",
    "rf_plus_base_inbag = RandomForestPlusClassifier(rf_model=est, include_raw=False, fit_on=\"inbag\")\n",
    "rf_plus_base_inbag.fit(X_train, y_train)\n",
    "\n",
    "# #RFplus inbag RF\n",
    "# est_regressor = RandomForestRegressor(n_estimators=100, min_samples_leaf=3, max_features='sqrt', random_state=42)\n",
    "# est_regressor.fit(X_train, y_train)\n",
    "# rf_plus_base_inbag = RandomForestPlusRegressor(rf_model=est_regressor, include_raw=False, fit_on=\"inbag\", prediction_model=LinearRegression())\n",
    "# rf_plus_base_inbag.fit(X_train, y_train)"
   ]
  },
  {
   "cell_type": "code",
   "execution_count": null,
   "metadata": {},
   "outputs": [],
   "source": [
    "# Inbag LMDI+\n",
    "rf_plus_mdi = RFPlusMDI(rf_plus_base_inbag, evaluate_on=\"inbag\")\n",
    "rf_plus_mdi.explain_linear_partial(X=X_train, y=y_train)\n",
    "\n",
    "# OOB LMDI+\n",
    "rf_plus_mdi = AloRFPlusMDI(rf_plus_base_oob, evaluate_on=\"oob\")\n",
    "rf_plus_mdi.explain_linear_partial(X=X_train, y=y_train)\n",
    "\n",
    "# ALL LMDI+\n",
    "rf_plus_mdi = AloRFPlusMDI(rf_plus_base, evaluate_on=\"all\")\n",
    "rf_plus_mdi.explain_linear_partial(X=X_train, y=y_train)\n",
    "\n",
    "# Inbag LMDI+ l2 norm with sign\n",
    "rf_plus_mdi = RFPlusMDI(rf_plus_base_inbag, evaluate_on=\"inbag\")\n",
    "rf_plus_mdi.explain_linear_partial(X=X_train, y=y_train, l2norm=True, sign=True)\n",
    "\n",
    "# OOB LMDI+ l2 norm with sign\n",
    "rf_plus_mdi = AloRFPlusMDI(rf_plus_base_oob, evaluate_on=\"oob\")\n",
    "rf_plus_mdi.explain_linear_partial(X=X_train, y=y_train, l2norm=True, sign=True)\n",
    "\n",
    "# ALL LMDI+ l2 norm with sign\n",
    "rf_plus_mdi = AloRFPlusMDI(rf_plus_base, evaluate_on=\"all\")\n",
    "rf_plus_mdi.explain_linear_partial(X=X_train, y=y_train, l2norm=True, sign=True)\n",
    "\n",
    "# Inbag LMDI+ l2 norm without sign\n",
    "rf_plus_mdi = RFPlusMDI(rf_plus_base_inbag, evaluate_on=\"inbag\")\n",
    "rf_plus_mdi.explain_linear_partial(X=X_train, y=y_train, l2norm=True, sign=False)\n",
    "\n",
    "# OOB LMDI+ l2 norm without sign\n",
    "rf_plus_mdi = AloRFPlusMDI(rf_plus_base_oob, evaluate_on=\"oob\")\n",
    "rf_plus_mdi.explain_linear_partial(X=X_train, y=y_train, l2norm=True, sign=False)\n",
    "\n",
    "# ALL LMDI+ l2 norm without sign\n",
    "rf_plus_mdi = AloRFPlusMDI(rf_plus_base, evaluate_on=\"all\")\n",
    "rf_plus_mdi.explain_linear_partial(X=X_train, y=y_train, l2norm=True, sign=False)\n",
    "\n",
    "# Inbag LMDI+ with ranking then average\n",
    "rf_plus_mdi = RFPlusMDI(rf_plus_base_inbag, evaluate_on=\"inbag\")\n",
    "rf_plus_mdi.explain_linear_partial(X=X_train, y=y_train, ranking = True)\n",
    "\n",
    "# OOB LMDI+ with ranking then average\n",
    "rf_plus_mdi = AloRFPlusMDI(rf_plus_base_oob, evaluate_on=\"oob\")\n",
    "rf_plus_mdi.explain_linear_partial(X=X_train, y=y_train, ranking = True)\n",
    "\n",
    "# ALL LMDI+ with ranking then average\n",
    "rf_plus_mdi = AloRFPlusMDI(rf_plus_base, evaluate_on=\"all\")\n",
    "rf_plus_mdi.explain_linear_partial(X=X_train, y=y_train, ranking = True)"
   ]
  },
  {
   "cell_type": "code",
   "execution_count": null,
   "metadata": {},
   "outputs": [],
   "source": [
    "# Inbag LMDI+ l2 norm with sign\n",
    "rf_plus_mdi = RFPlusMDI(rf_plus_base_inbag, evaluate_on=\"inbag\")\n",
    "rf_plus_mdi.explain_linear_partial(X=X_train, y=y_train, l2norm=True, sign=True)\n",
    "\n",
    "# OOB LMDI+ l2 norm with sign\n",
    "rf_plus_mdi = AloRFPlusMDI(rf_plus_base_oob, evaluate_on=\"oob\")\n",
    "rf_plus_mdi.explain_linear_partial(X=X_train, y=y_train, l2norm=True, sign=True)\n",
    "\n",
    "# ALL LMDI+ l2 norm with sign\n",
    "rf_plus_mdi = AloRFPlusMDI(rf_plus_base, evaluate_on=\"all\")\n",
    "rf_plus_mdi.explain_linear_partial(X=X_train, y=y_train, l2norm=True, sign=True)"
   ]
  },
  {
   "cell_type": "code",
   "execution_count": null,
   "metadata": {},
   "outputs": [],
   "source": [
    "# Inbag LMDI+ l2 norm without sign\n",
    "rf_plus_mdi = RFPlusMDI(rf_plus_base_inbag, evaluate_on=\"inbag\")\n",
    "rf_plus_mdi.explain_linear_partial(X=X_train, y=y_train, l2norm=True, sign=False)\n",
    "\n",
    "# OOB LMDI+ l2 norm without sign\n",
    "rf_plus_mdi = AloRFPlusMDI(rf_plus_base_oob, evaluate_on=\"oob\")\n",
    "rf_plus_mdi.explain_linear_partial(X=X_train, y=y_train, l2norm=True, sign=False)\n",
    "\n",
    "# ALL LMDI+ l2 norm without sign\n",
    "rf_plus_mdi = AloRFPlusMDI(rf_plus_base, evaluate_on=\"all\")\n",
    "rf_plus_mdi.explain_linear_partial(X=X_train, y=y_train, l2norm=True, sign=False)"
   ]
  },
  {
   "cell_type": "code",
   "execution_count": null,
   "metadata": {},
   "outputs": [],
   "source": [
    "# Inbag LMDI+ with ranking then average\n",
    "rf_plus_mdi = RFPlusMDI(rf_plus_base_inbag, evaluate_on=\"inbag\")\n",
    "rf_plus_mdi.explain_linear_partial(X=X_train, y=y_train, ranking = True)\n",
    "\n",
    "# OOB LMDI+ with ranking then average\n",
    "rf_plus_mdi = AloRFPlusMDI(rf_plus_base_oob, evaluate_on=\"oob\")\n",
    "rf_plus_mdi.explain_linear_partial(X=X_train, y=y_train, ranking = True)\n",
    "\n",
    "# ALL LMDI+ with ranking then average\n",
    "rf_plus_mdi = AloRFPlusMDI(rf_plus_base, evaluate_on=\"all\")\n",
    "rf_plus_mdi.explain_linear_partial(X=X_train, y=y_train, ranking = True)"
   ]
  },
  {
   "cell_type": "code",
   "execution_count": null,
   "metadata": {},
   "outputs": [],
   "source": []
  },
  {
   "cell_type": "code",
   "execution_count": null,
   "metadata": {},
   "outputs": [],
   "source": [
    "rf_plus_mdi = AloRFPlusMDI(rf_plus_base_oob, evaluate_on=\"oob\")\n",
    "rf_plus_mdi.explain_linear_partial(X=X_train, y=y_train, l2norm=True, sign=True)"
   ]
  },
  {
   "cell_type": "code",
   "execution_count": null,
   "metadata": {},
   "outputs": [],
   "source": [
    "rf_plus_mdi = AloRFPlusMDI(rf_plus_base, evaluate_on=\"all\")\n",
    "rf_plus_mdi.explain_linear_partial(X=X_train, y=y_train, l2norm=True, sign=True)"
   ]
  },
  {
   "cell_type": "code",
   "execution_count": null,
   "metadata": {},
   "outputs": [],
   "source": [
    "# RF Classifier\n",
    "est = RandomForestClassifier(n_estimators=100, min_samples_leaf=3, max_features='sqrt', random_state=42)\n",
    "est.fit(X_train, y_train)\n",
    "\n",
    "# RFplus default(fit on all)\n",
    "rf_plus_base = RandomForestPlusClassifier(rf_model=est)\n",
    "rf_plus_base.fit(X_train, y_train)\n",
    "\n",
    "# RFplus oob \n",
    "rf_plus_base_oob = RandomForestPlusClassifier(rf_model=est, fit_on=\"oob\")\n",
    "rf_plus_base_oob.fit(X_train, y_train)\n",
    "\n",
    "#RFplus inbag RF\n",
    "est_regressor = RandomForestRegressor(n_estimators=100, min_samples_leaf=3, max_features='sqrt', random_state=42)\n",
    "est_regressor.fit(X_train, y_train)\n",
    "rf_plus_base_inbag = RandomForestPlusRegressor(rf_model=est_regressor, include_raw=False, fit_on=\"inbag\", prediction_model=LinearRegression())\n",
    "rf_plus_base_inbag.fit(X_train, y_train)"
   ]
  },
  {
   "cell_type": "code",
   "execution_count": null,
   "metadata": {},
   "outputs": [],
   "source": []
  },
  {
   "cell_type": "code",
   "execution_count": null,
   "metadata": {},
   "outputs": [],
   "source": []
  },
  {
   "cell_type": "code",
   "execution_count": null,
   "metadata": {},
   "outputs": [],
   "source": []
  },
  {
   "cell_type": "code",
   "execution_count": null,
   "metadata": {},
   "outputs": [],
   "source": [
    "X_test_pred = est.predict(X_test)\n",
    "print(\"R2 score of RF: \", r2_score(y_test, X_test_pred))"
   ]
  },
  {
   "cell_type": "code",
   "execution_count": null,
   "metadata": {},
   "outputs": [],
   "source": [
    "X_test_pred = rf_plus_base.predict(X_test)\n",
    "print(\"R2 score of RF+: \", r2_score(y_test, X_test_pred))"
   ]
  },
  {
   "cell_type": "code",
   "execution_count": null,
   "metadata": {},
   "outputs": [],
   "source": [
    "if X_train.shape[0] > 100:\n",
    "    indices_train = np.random.choice(X_train.shape[0], 100, replace=False)\n",
    "    X_train_subset = X_train[indices_train]\n",
    "    y_train_subset = y_train[indices_train]\n",
    "else:\n",
    "    indices_train = np.arange(X_train.shape[0])\n",
    "    X_train_subset = X_train\n",
    "    y_train_subset = y_train\n",
    "\n",
    "if X_test.shape[0] > 100:\n",
    "    indices_test = np.random.choice(X_test.shape[0], 100, replace=False)\n",
    "    X_test_subset = X_test[indices_test]\n",
    "    y_test_subset = y_test[indices_test]\n",
    "else:\n",
    "    indices_test = np.arange(X_test.shape[0])\n",
    "    X_test_subset = X_test\n",
    "    y_test_subset = y_test"
   ]
  },
  {
   "cell_type": "code",
   "execution_count": null,
   "metadata": {},
   "outputs": [],
   "source": [
    "rf_plus_mdi = AloRFPlusMDI(rf_plus_base, evaluate_on=\"oob\")"
   ]
  },
  {
   "cell_type": "code",
   "execution_count": null,
   "metadata": {},
   "outputs": [],
   "source": [
    "rf_plus_mdi.explain(X=X_train, y=y_train)"
   ]
  },
  {
   "cell_type": "code",
   "execution_count": null,
   "metadata": {},
   "outputs": [],
   "source": [
    "temp = rf_plus_mdi.explain(X=X_train, y=y_train)[0][:5]"
   ]
  },
  {
   "cell_type": "code",
   "execution_count": null,
   "metadata": {},
   "outputs": [],
   "source": [
    "temp = np.abs(temp)\n",
    "temp"
   ]
  },
  {
   "cell_type": "code",
   "execution_count": null,
   "metadata": {},
   "outputs": [],
   "source": [
    "np.argsort(-1*temp)"
   ]
  },
  {
   "cell_type": "code",
   "execution_count": null,
   "metadata": {},
   "outputs": [],
   "source": [
    "np.mean(np.argsort(-1*temp), axis=0)"
   ]
  },
  {
   "cell_type": "code",
   "execution_count": null,
   "metadata": {},
   "outputs": [],
   "source": [
    "rf_plus_mdi.explain(X=X_train, y=y_train)[1][0]"
   ]
  },
  {
   "cell_type": "code",
   "execution_count": null,
   "metadata": {},
   "outputs": [],
   "source": [
    "rf_plus_base.estimators_"
   ]
  },
  {
   "cell_type": "code",
   "execution_count": null,
   "metadata": {},
   "outputs": [],
   "source": [
    "y_train[0]"
   ]
  },
  {
   "cell_type": "code",
   "execution_count": null,
   "metadata": {},
   "outputs": [],
   "source": [
    "treeshap_fi, _, _, _ = tree_shap_evaluation_RF(X_train, y_train, X_train_subset, y_train_subset, X_test, y_test, X_test_subset, y_test_subset, fit=est, mode=\"absolute\", train_only=True)"
   ]
  },
  {
   "cell_type": "code",
   "execution_count": null,
   "metadata": {},
   "outputs": [],
   "source": [
    "lmdi_fi, _, _, _ = LFI_evaluation_RFPlus_oob_l2_norm_sign(X_train, y_train, X_train_subset, y_train_subset, X_test, y_test, X_test_subset, y_test_subset,  fit=rf_plus_base, mode=\"absolute\", train_only=True)"
   ]
  },
  {
   "cell_type": "code",
   "execution_count": null,
   "metadata": {},
   "outputs": [],
   "source": [
    "def select_top_features(array, sorted_indices, percentage):\n",
    "    array = copy.deepcopy(array)\n",
    "    num_features = array.shape[1]\n",
    "    num_selected = int(np.ceil(num_features * percentage))\n",
    "    selected_indices = sorted_indices[:num_selected]\n",
    "    selected_array = array[:, selected_indices]\n",
    "    return num_selected, selected_array"
   ]
  },
  {
   "cell_type": "code",
   "execution_count": null,
   "metadata": {},
   "outputs": [],
   "source": [
    "mask_ratio = [0.05, 0.1, 0.25, 0.5, 0.9]\n",
    "metric_results_shap_mse = []\n",
    "metric_results_shap_r2 = []\n",
    "train_fi_mean = np.mean(treeshap_fi, axis=0)\n",
    "sorted_feature = np.argsort(-train_fi_mean)\n",
    "for mask in mask_ratio:\n",
    "    print(X_train.shape)\n",
    "    num_features_masked, X_train_masked = select_top_features(X_train, sorted_feature, mask)\n",
    "    print(X_train_masked.shape)\n",
    "    num_features_masked, X_test_masked = select_top_features(X_test, sorted_feature, mask)\n",
    "    print(X_test_masked.shape)\n",
    "    ablation_models = {\"RF_Regressor\": RandomForestRegressor(n_estimators=100,min_samples_leaf=5,max_features=0.33,random_state=42)}\n",
    "                    #\"Linear\": LinearRegression(),\n",
    "                    #\"XGB_Regressor\": xgb.XGBRegressor(random_state=42),\n",
    "                    # 'Kernel_Ridge': KernelRidge(),\n",
    "                    #\"RF_Plus_Regressor\": RandomForestPlusRegressor(rf_model=RandomForestRegressor(n_estimators=100,min_samples_leaf=5,max_features=0.33,random_state=42))}\n",
    "    # for a_model in ablation_models:\n",
    "    #     ablation_models[a_model].fit(X_train_masked, y_train)\n",
    "    rf = LinearRegression()# RandomForestRegressor(n_estimators=100,min_samples_leaf=5,max_features=0.33,random_state=42)\n",
    "    rf.fit(X_train_masked, y_train)\n",
    "    y_pred = rf.predict(X_test_masked)\n",
    "    metric_results_shap_mse.append(mean_squared_error(y_test, y_pred))\n",
    "    metric_results_shap_r2.append(r2_score(y_test, y_pred))"
   ]
  },
  {
   "cell_type": "code",
   "execution_count": null,
   "metadata": {},
   "outputs": [],
   "source": [
    "select_top_features(X_train, sorted_feature, 0.01)[1][0]"
   ]
  },
  {
   "cell_type": "code",
   "execution_count": null,
   "metadata": {},
   "outputs": [],
   "source": [
    "select_top_features(X_test, sorted_feature, 0.01)[1][0]"
   ]
  },
  {
   "cell_type": "code",
   "execution_count": null,
   "metadata": {},
   "outputs": [],
   "source": [
    "indices = np.nonzero(np.isin(X_train[0], select_top_features(X_train, sorted_feature, 0.01)[1][0]))[0]\n",
    "\n",
    "print(indices)"
   ]
  },
  {
   "cell_type": "code",
   "execution_count": null,
   "metadata": {},
   "outputs": [],
   "source": [
    "indices = np.nonzero(np.isin(X_test[0], select_top_features(X_test, sorted_feature, 0.01)[1][0]))[0]\n",
    "\n",
    "print(indices)"
   ]
  },
  {
   "cell_type": "code",
   "execution_count": null,
   "metadata": {},
   "outputs": [],
   "source": [
    "X_train[0]"
   ]
  },
  {
   "cell_type": "code",
   "execution_count": null,
   "metadata": {},
   "outputs": [],
   "source": []
  },
  {
   "cell_type": "code",
   "execution_count": null,
   "metadata": {},
   "outputs": [],
   "source": [
    "metric_results_shap_mse"
   ]
  },
  {
   "cell_type": "code",
   "execution_count": null,
   "metadata": {},
   "outputs": [],
   "source": [
    "# plot metric_results_shap_r2\n",
    "metric_results_shap_r2 = np.array(metric_results_shap_r2).reshape(len(mask_ratio), -1)\n",
    "plt.figure()\n",
    "plt.plot(mask_ratio, metric_results_shap_r2[:, 0], label=\"RF_Regressor\")\n",
    "plt.xlabel(\"Feature Ratio\")\n",
    "plt.ylabel(\"R2\")\n",
    "plt.legend()\n",
    "plt.show()"
   ]
  },
  {
   "cell_type": "code",
   "execution_count": null,
   "metadata": {},
   "outputs": [],
   "source": [
    "mask_ratio = [0.05, 0.1, 0.25, 0.5, 0.9]\n",
    "metric_results_lmdi_mse = []\n",
    "metric_results_lmdi_r2 = []\n",
    "train_fi_mean = np.mean(local_fi_score_train, axis=0)\n",
    "sorted_feature = np.argsort(-train_fi_mean)\n",
    "for mask in mask_ratio:\n",
    "    print(X_train.shape)\n",
    "    num_features_masked, X_train_masked = select_top_features(X_train, sorted_feature, mask)\n",
    "    print(X_train_masked.shape)\n",
    "    num_features_masked, X_test_masked = select_top_features(X_test, sorted_feature, mask)\n",
    "    print(X_test_masked.shape)\n",
    "    ablation_models = {\"RF_Regressor\": RandomForestRegressor(n_estimators=100,min_samples_leaf=5,max_features=0.33,random_state=42),\n",
    "                    \"Linear\": LinearRegression(),\n",
    "                    \"XGB_Regressor\": xgb.XGBRegressor(random_state=42),\n",
    "                    # 'Kernel_Ridge': KernelRidge(),\n",
    "                    \"RF_Plus_Regressor\": RandomForestPlusRegressor(rf_model=RandomForestRegressor(n_estimators=100,min_samples_leaf=5,max_features=0.33,random_state=42))}\n",
    "    for a_model in ablation_models:\n",
    "        ablation_models[a_model].fit(X_train_masked, y_train)\n",
    "        y_pred = ablation_models[a_model].predict(X_test_masked)\n",
    "        metric_results_lmdi_mse.append(mean_squared_error(y_test, y_pred))\n",
    "        metric_results_lmdi_r2.append(r2_score(y_test, y_pred))"
   ]
  }
 ],
 "metadata": {
  "kernelspec": {
   "display_name": "mdi",
   "language": "python",
   "name": "python3"
  },
  "language_info": {
   "codemirror_mode": {
    "name": "ipython",
    "version": 3
   },
   "file_extension": ".py",
   "mimetype": "text/x-python",
   "name": "python",
   "nbconvert_exporter": "python",
   "pygments_lexer": "ipython3",
   "version": "3.10.14"
  },
  "orig_nbformat": 4
 },
 "nbformat": 4,
 "nbformat_minor": 2
}
