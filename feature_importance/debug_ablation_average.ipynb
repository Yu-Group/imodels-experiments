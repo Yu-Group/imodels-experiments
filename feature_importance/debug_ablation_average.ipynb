{
 "cells": [
  {
   "cell_type": "code",
   "execution_count": 9,
   "metadata": {},
   "outputs": [],
   "source": [
    "import imodels\n",
    "import pandas as pd\n",
    "import numpy as np\n",
    "from sklearn.model_selection import train_test_split\n",
    "from sklearn.ensemble import RandomForestRegressor\n",
    "from imodels.tree.rf_plus.rf_plus.rf_plus_models import RandomForestPlusRegressor\n",
    "from sklearn.linear_model import LinearRegression\n",
    "from sklearn.metrics import roc_auc_score, f1_score, recall_score, precision_score, mean_squared_error, r2_score\n",
    "from imodels.tree.rf_plus.feature_importance.rfplus_explainer import *\n",
    "from sklearn.preprocessing import StandardScaler\n",
    "import copy\n",
    "import matplotlib.pyplot as plt\n",
    "import openml\n",
    "import sys\n",
    "sys.path.append('..')\n",
    "sys.path.append('../..')\n",
    "sys.path.append('.')\n",
    "sys.path.append('./scripts')\n",
    "from competing_methods_local import *\n",
    "from simulations_util import *\n",
    "from collections import Counter\n",
    "from ucimlrepo import fetch_ucirepo"
   ]
  },
  {
   "cell_type": "code",
   "execution_count": 10,
   "metadata": {},
   "outputs": [],
   "source": [
    "# selected_id = []\n",
    "# for task_id in [31, 10101, 3913, 3, 3917, 9957, 9946, 3918, 3903, 37, 9971, 9952, 3902,\n",
    "#                 49, 43, 9978, 10093, 219, 9976, 14965, 6, 9977, 53, 11, 15, 16, 14,\n",
    "#                 32, 3549, 12, 9981, 18, 28, 2074, 29, 45, 125922, 9960, 9964, 22, 2079,\n",
    "#                 14969, 3560, 14952, 125920, 23, 3904, 3022, 9985, 9910, 14970, 3021, \n",
    "#                 3481, 7592, 3573, 146824, 146820, 146822, 146195, 146800, 146817, 146819,\n",
    "#                 146821, 167119, 14954, 167141, 167140, 167120, 167125, 146825, 167124, 167121]:\n",
    "#     task = openml.tasks.get_task(task_id)\n",
    "#     dataset = task.get_dataset()\n",
    "#     X, y, _, attribute_names = dataset.get_data(target=dataset.default_target_attribute)\n",
    "#     X = pd.DataFrame(X, columns=attribute_names[:-1])\n",
    "#     if X.shape[1] > 10 and y.nunique() == 2:\n",
    "#         selected_id.append(task_id)"
   ]
  },
  {
   "cell_type": "code",
   "execution_count": 11,
   "metadata": {},
   "outputs": [],
   "source": [
    "# [31,\n",
    "#  3913,\n",
    "#  3,\n",
    "#  3917,\n",
    "#  9957,\n",
    "#  9946,\n",
    "#  3918,\n",
    "#  3903,\n",
    "#  3902,\n",
    "#  43,\n",
    "#  9978,\n",
    "#  9976,\n",
    "#  14965,\n",
    "#  9977,\n",
    "#  29,\n",
    "#  14952,\n",
    "#  125920,\n",
    "#  3904,\n",
    "#  9910,\n",
    "#  3021,\n",
    "#  7592,\n",
    "#  146819,\n",
    "#  14954,\n",
    "#  167141,\n",
    "#  167120,\n",
    "#  167125]"
   ]
  },
  {
   "cell_type": "code",
   "execution_count": 12,
   "metadata": {},
   "outputs": [],
   "source": [
    "# def check_columns_with_few_distinct_values(df):\n",
    "#     \"\"\"\n",
    "#     Check if any column in the DataFrame has fewer than 10 distinct values.\n",
    "\n",
    "#     Parameters:\n",
    "#     df (pd.DataFrame): The input DataFrame.\n",
    "\n",
    "#     Returns:\n",
    "#     dict: A dictionary with column names as keys and the count of distinct values as values for columns with fewer than 10 distinct values.\n",
    "#     \"\"\"\n",
    "#     result = {col: df[col].nunique() for col in df.columns if df[col].nunique() < 10}\n",
    "#     return result\n",
    "\n",
    "# for t_id in selected_id:\n",
    "#     task = openml.tasks.get_task(t_id)\n",
    "#     dataset = task.get_dataset()\n",
    "#     X, y, _, attribute_names = dataset.get_data(target=dataset.default_target_attribute)\n",
    "#     X = pd.DataFrame(X, columns=attribute_names[:-1])\n",
    "#     print(t_id)\n",
    "#     print(check_columns_with_few_distinct_values(X))"
   ]
  },
  {
   "cell_type": "code",
   "execution_count": 13,
   "metadata": {},
   "outputs": [],
   "source": [
    "# task = openml.tasks.get_task(9946)\n",
    "# dataset = task.get_dataset()\n",
    "# X, y, _, attribute_names = dataset.get_data(target=dataset.default_target_attribute)"
   ]
  },
  {
   "cell_type": "code",
   "execution_count": 14,
   "metadata": {},
   "outputs": [],
   "source": [
    "#Final selected ids\n",
    "# task_ids = [3917, 9946, 43, 9978, 146819, 167120]\n",
    "\n",
    "#3904 has missing"
   ]
  },
  {
   "cell_type": "code",
   "execution_count": 23,
   "metadata": {},
   "outputs": [
    {
     "name": "stderr",
     "output_type": "stream",
     "text": [
      "/tmp/ipykernel_2365353/965025377.py:1: FutureWarning: Starting from Version 0.15.0 `download_splits` will default to ``False`` instead of ``True`` and be independent from `download_data`. To disable this message until version 0.15 explicitly set `download_splits` to a bool.\n",
      "  X = sample_real_data_X(source=\"openml\", task_id = 9946, normalize=True) #361243\n",
      "/scratch/users/zhongyuan_liang/conda/envs/mdi/lib/python3.10/site-packages/openml/tasks/functions.py:442: FutureWarning: Starting from Version 0.15 `download_data`, `download_qualities`, and `download_features_meta_data` will all be ``False`` instead of ``True`` by default to enable lazy loading. To disable this message until version 0.15 explicitly set `download_data`, `download_qualities`, and `download_features_meta_data` to a bool while calling `get_dataset`.\n",
      "  dataset = get_dataset(task.dataset_id, *dataset_args, **get_dataset_kwargs)\n",
      "/scratch/users/zhongyuan_liang/conda/envs/mdi/lib/python3.10/site-packages/openml/tasks/task.py:150: FutureWarning: Starting from Version 0.15 `download_data`, `download_qualities`, and `download_features_meta_data` will all be ``False`` instead of ``True`` by default to enable lazy loading. To disable this message until version 0.15 explicitly set `download_data`, `download_qualities`, and `download_features_meta_data` to a bool while calling `get_dataset`.\n",
      "  return datasets.get_dataset(self.dataset_id)\n",
      "/accounts/projects/binyu/zhongyuan_liang/local_MDI+/imodels-experiments/feature_importance/./scripts/simulations_util.py:62: FutureWarning: Support for `dataset_format='array'` will be removed in 0.15,start using `dataset_format='dataframe' to ensure your code will continue to work. You can use the dataframe's `to_numpy` function to continue using numpy arrays.\n",
      "  X, _, _, _ = dataset.get_data(target=dataset.default_target_attribute,dataset_format=\"array\")\n",
      "/tmp/ipykernel_2365353/965025377.py:2: FutureWarning: Starting from Version 0.15.0 `download_splits` will default to ``False`` instead of ``True`` and be independent from `download_data`. To disable this message until version 0.15 explicitly set `download_splits` to a bool.\n",
      "  y = sample_real_data_y(source=\"openml\", task_id = 9946)[0] #361243\n",
      "/scratch/users/zhongyuan_liang/conda/envs/mdi/lib/python3.10/site-packages/openml/tasks/functions.py:442: FutureWarning: Starting from Version 0.15 `download_data`, `download_qualities`, and `download_features_meta_data` will all be ``False`` instead of ``True`` by default to enable lazy loading. To disable this message until version 0.15 explicitly set `download_data`, `download_qualities`, and `download_features_meta_data` to a bool while calling `get_dataset`.\n",
      "  dataset = get_dataset(task.dataset_id, *dataset_args, **get_dataset_kwargs)\n",
      "/scratch/users/zhongyuan_liang/conda/envs/mdi/lib/python3.10/site-packages/openml/tasks/task.py:150: FutureWarning: Starting from Version 0.15 `download_data`, `download_qualities`, and `download_features_meta_data` will all be ``False`` instead of ``True`` by default to enable lazy loading. To disable this message until version 0.15 explicitly set `download_data`, `download_qualities`, and `download_features_meta_data` to a bool while calling `get_dataset`.\n",
      "  return datasets.get_dataset(self.dataset_id)\n",
      "/accounts/projects/binyu/zhongyuan_liang/local_MDI+/imodels-experiments/feature_importance/./scripts/simulations_util.py:88: FutureWarning: Support for `dataset_format='array'` will be removed in 0.15,start using `dataset_format='dataframe' to ensure your code will continue to work. You can use the dataframe's `to_numpy` function to continue using numpy arrays.\n",
      "  _, y, _, _ = dataset.get_data(target=dataset.default_target_attribute,dataset_format=\"array\")\n"
     ]
    }
   ],
   "source": [
    "X = sample_real_data_X(source=\"openml\", task_id = 9946, normalize=True) #361243\n",
    "y = sample_real_data_y(source=\"openml\", task_id = 9946)[0] #361243\n",
    "\n",
    "\n",
    "# partial_linear_lss_model_random_feature(X, beta=1, heritability=0.4, sigma=None, s=5, error_seed=1, feature_seed=1, return_support=True)"
   ]
  },
  {
   "cell_type": "code",
   "execution_count": 25,
   "metadata": {},
   "outputs": [],
   "source": [
    "# split X and y into training and testing sets\n",
    "X_train, X_test, y_train, y_test = train_test_split(X, y, test_size=0.2, random_state=1)"
   ]
  },
  {
   "cell_type": "code",
   "execution_count": 19,
   "metadata": {},
   "outputs": [
    {
     "data": {
      "text/html": [
       "<style>#sk-container-id-1 {\n",
       "  /* Definition of color scheme common for light and dark mode */\n",
       "  --sklearn-color-text: black;\n",
       "  --sklearn-color-line: gray;\n",
       "  /* Definition of color scheme for unfitted estimators */\n",
       "  --sklearn-color-unfitted-level-0: #fff5e6;\n",
       "  --sklearn-color-unfitted-level-1: #f6e4d2;\n",
       "  --sklearn-color-unfitted-level-2: #ffe0b3;\n",
       "  --sklearn-color-unfitted-level-3: chocolate;\n",
       "  /* Definition of color scheme for fitted estimators */\n",
       "  --sklearn-color-fitted-level-0: #f0f8ff;\n",
       "  --sklearn-color-fitted-level-1: #d4ebff;\n",
       "  --sklearn-color-fitted-level-2: #b3dbfd;\n",
       "  --sklearn-color-fitted-level-3: cornflowerblue;\n",
       "\n",
       "  /* Specific color for light theme */\n",
       "  --sklearn-color-text-on-default-background: var(--sg-text-color, var(--theme-code-foreground, var(--jp-content-font-color1, black)));\n",
       "  --sklearn-color-background: var(--sg-background-color, var(--theme-background, var(--jp-layout-color0, white)));\n",
       "  --sklearn-color-border-box: var(--sg-text-color, var(--theme-code-foreground, var(--jp-content-font-color1, black)));\n",
       "  --sklearn-color-icon: #696969;\n",
       "\n",
       "  @media (prefers-color-scheme: dark) {\n",
       "    /* Redefinition of color scheme for dark theme */\n",
       "    --sklearn-color-text-on-default-background: var(--sg-text-color, var(--theme-code-foreground, var(--jp-content-font-color1, white)));\n",
       "    --sklearn-color-background: var(--sg-background-color, var(--theme-background, var(--jp-layout-color0, #111)));\n",
       "    --sklearn-color-border-box: var(--sg-text-color, var(--theme-code-foreground, var(--jp-content-font-color1, white)));\n",
       "    --sklearn-color-icon: #878787;\n",
       "  }\n",
       "}\n",
       "\n",
       "#sk-container-id-1 {\n",
       "  color: var(--sklearn-color-text);\n",
       "}\n",
       "\n",
       "#sk-container-id-1 pre {\n",
       "  padding: 0;\n",
       "}\n",
       "\n",
       "#sk-container-id-1 input.sk-hidden--visually {\n",
       "  border: 0;\n",
       "  clip: rect(1px 1px 1px 1px);\n",
       "  clip: rect(1px, 1px, 1px, 1px);\n",
       "  height: 1px;\n",
       "  margin: -1px;\n",
       "  overflow: hidden;\n",
       "  padding: 0;\n",
       "  position: absolute;\n",
       "  width: 1px;\n",
       "}\n",
       "\n",
       "#sk-container-id-1 div.sk-dashed-wrapped {\n",
       "  border: 1px dashed var(--sklearn-color-line);\n",
       "  margin: 0 0.4em 0.5em 0.4em;\n",
       "  box-sizing: border-box;\n",
       "  padding-bottom: 0.4em;\n",
       "  background-color: var(--sklearn-color-background);\n",
       "}\n",
       "\n",
       "#sk-container-id-1 div.sk-container {\n",
       "  /* jupyter's `normalize.less` sets `[hidden] { display: none; }`\n",
       "     but bootstrap.min.css set `[hidden] { display: none !important; }`\n",
       "     so we also need the `!important` here to be able to override the\n",
       "     default hidden behavior on the sphinx rendered scikit-learn.org.\n",
       "     See: https://github.com/scikit-learn/scikit-learn/issues/21755 */\n",
       "  display: inline-block !important;\n",
       "  position: relative;\n",
       "}\n",
       "\n",
       "#sk-container-id-1 div.sk-text-repr-fallback {\n",
       "  display: none;\n",
       "}\n",
       "\n",
       "div.sk-parallel-item,\n",
       "div.sk-serial,\n",
       "div.sk-item {\n",
       "  /* draw centered vertical line to link estimators */\n",
       "  background-image: linear-gradient(var(--sklearn-color-text-on-default-background), var(--sklearn-color-text-on-default-background));\n",
       "  background-size: 2px 100%;\n",
       "  background-repeat: no-repeat;\n",
       "  background-position: center center;\n",
       "}\n",
       "\n",
       "/* Parallel-specific style estimator block */\n",
       "\n",
       "#sk-container-id-1 div.sk-parallel-item::after {\n",
       "  content: \"\";\n",
       "  width: 100%;\n",
       "  border-bottom: 2px solid var(--sklearn-color-text-on-default-background);\n",
       "  flex-grow: 1;\n",
       "}\n",
       "\n",
       "#sk-container-id-1 div.sk-parallel {\n",
       "  display: flex;\n",
       "  align-items: stretch;\n",
       "  justify-content: center;\n",
       "  background-color: var(--sklearn-color-background);\n",
       "  position: relative;\n",
       "}\n",
       "\n",
       "#sk-container-id-1 div.sk-parallel-item {\n",
       "  display: flex;\n",
       "  flex-direction: column;\n",
       "}\n",
       "\n",
       "#sk-container-id-1 div.sk-parallel-item:first-child::after {\n",
       "  align-self: flex-end;\n",
       "  width: 50%;\n",
       "}\n",
       "\n",
       "#sk-container-id-1 div.sk-parallel-item:last-child::after {\n",
       "  align-self: flex-start;\n",
       "  width: 50%;\n",
       "}\n",
       "\n",
       "#sk-container-id-1 div.sk-parallel-item:only-child::after {\n",
       "  width: 0;\n",
       "}\n",
       "\n",
       "/* Serial-specific style estimator block */\n",
       "\n",
       "#sk-container-id-1 div.sk-serial {\n",
       "  display: flex;\n",
       "  flex-direction: column;\n",
       "  align-items: center;\n",
       "  background-color: var(--sklearn-color-background);\n",
       "  padding-right: 1em;\n",
       "  padding-left: 1em;\n",
       "}\n",
       "\n",
       "\n",
       "/* Toggleable style: style used for estimator/Pipeline/ColumnTransformer box that is\n",
       "clickable and can be expanded/collapsed.\n",
       "- Pipeline and ColumnTransformer use this feature and define the default style\n",
       "- Estimators will overwrite some part of the style using the `sk-estimator` class\n",
       "*/\n",
       "\n",
       "/* Pipeline and ColumnTransformer style (default) */\n",
       "\n",
       "#sk-container-id-1 div.sk-toggleable {\n",
       "  /* Default theme specific background. It is overwritten whether we have a\n",
       "  specific estimator or a Pipeline/ColumnTransformer */\n",
       "  background-color: var(--sklearn-color-background);\n",
       "}\n",
       "\n",
       "/* Toggleable label */\n",
       "#sk-container-id-1 label.sk-toggleable__label {\n",
       "  cursor: pointer;\n",
       "  display: block;\n",
       "  width: 100%;\n",
       "  margin-bottom: 0;\n",
       "  padding: 0.5em;\n",
       "  box-sizing: border-box;\n",
       "  text-align: center;\n",
       "}\n",
       "\n",
       "#sk-container-id-1 label.sk-toggleable__label-arrow:before {\n",
       "  /* Arrow on the left of the label */\n",
       "  content: \"▸\";\n",
       "  float: left;\n",
       "  margin-right: 0.25em;\n",
       "  color: var(--sklearn-color-icon);\n",
       "}\n",
       "\n",
       "#sk-container-id-1 label.sk-toggleable__label-arrow:hover:before {\n",
       "  color: var(--sklearn-color-text);\n",
       "}\n",
       "\n",
       "/* Toggleable content - dropdown */\n",
       "\n",
       "#sk-container-id-1 div.sk-toggleable__content {\n",
       "  max-height: 0;\n",
       "  max-width: 0;\n",
       "  overflow: hidden;\n",
       "  text-align: left;\n",
       "  /* unfitted */\n",
       "  background-color: var(--sklearn-color-unfitted-level-0);\n",
       "}\n",
       "\n",
       "#sk-container-id-1 div.sk-toggleable__content.fitted {\n",
       "  /* fitted */\n",
       "  background-color: var(--sklearn-color-fitted-level-0);\n",
       "}\n",
       "\n",
       "#sk-container-id-1 div.sk-toggleable__content pre {\n",
       "  margin: 0.2em;\n",
       "  border-radius: 0.25em;\n",
       "  color: var(--sklearn-color-text);\n",
       "  /* unfitted */\n",
       "  background-color: var(--sklearn-color-unfitted-level-0);\n",
       "}\n",
       "\n",
       "#sk-container-id-1 div.sk-toggleable__content.fitted pre {\n",
       "  /* unfitted */\n",
       "  background-color: var(--sklearn-color-fitted-level-0);\n",
       "}\n",
       "\n",
       "#sk-container-id-1 input.sk-toggleable__control:checked~div.sk-toggleable__content {\n",
       "  /* Expand drop-down */\n",
       "  max-height: 200px;\n",
       "  max-width: 100%;\n",
       "  overflow: auto;\n",
       "}\n",
       "\n",
       "#sk-container-id-1 input.sk-toggleable__control:checked~label.sk-toggleable__label-arrow:before {\n",
       "  content: \"▾\";\n",
       "}\n",
       "\n",
       "/* Pipeline/ColumnTransformer-specific style */\n",
       "\n",
       "#sk-container-id-1 div.sk-label input.sk-toggleable__control:checked~label.sk-toggleable__label {\n",
       "  color: var(--sklearn-color-text);\n",
       "  background-color: var(--sklearn-color-unfitted-level-2);\n",
       "}\n",
       "\n",
       "#sk-container-id-1 div.sk-label.fitted input.sk-toggleable__control:checked~label.sk-toggleable__label {\n",
       "  background-color: var(--sklearn-color-fitted-level-2);\n",
       "}\n",
       "\n",
       "/* Estimator-specific style */\n",
       "\n",
       "/* Colorize estimator box */\n",
       "#sk-container-id-1 div.sk-estimator input.sk-toggleable__control:checked~label.sk-toggleable__label {\n",
       "  /* unfitted */\n",
       "  background-color: var(--sklearn-color-unfitted-level-2);\n",
       "}\n",
       "\n",
       "#sk-container-id-1 div.sk-estimator.fitted input.sk-toggleable__control:checked~label.sk-toggleable__label {\n",
       "  /* fitted */\n",
       "  background-color: var(--sklearn-color-fitted-level-2);\n",
       "}\n",
       "\n",
       "#sk-container-id-1 div.sk-label label.sk-toggleable__label,\n",
       "#sk-container-id-1 div.sk-label label {\n",
       "  /* The background is the default theme color */\n",
       "  color: var(--sklearn-color-text-on-default-background);\n",
       "}\n",
       "\n",
       "/* On hover, darken the color of the background */\n",
       "#sk-container-id-1 div.sk-label:hover label.sk-toggleable__label {\n",
       "  color: var(--sklearn-color-text);\n",
       "  background-color: var(--sklearn-color-unfitted-level-2);\n",
       "}\n",
       "\n",
       "/* Label box, darken color on hover, fitted */\n",
       "#sk-container-id-1 div.sk-label.fitted:hover label.sk-toggleable__label.fitted {\n",
       "  color: var(--sklearn-color-text);\n",
       "  background-color: var(--sklearn-color-fitted-level-2);\n",
       "}\n",
       "\n",
       "/* Estimator label */\n",
       "\n",
       "#sk-container-id-1 div.sk-label label {\n",
       "  font-family: monospace;\n",
       "  font-weight: bold;\n",
       "  display: inline-block;\n",
       "  line-height: 1.2em;\n",
       "}\n",
       "\n",
       "#sk-container-id-1 div.sk-label-container {\n",
       "  text-align: center;\n",
       "}\n",
       "\n",
       "/* Estimator-specific */\n",
       "#sk-container-id-1 div.sk-estimator {\n",
       "  font-family: monospace;\n",
       "  border: 1px dotted var(--sklearn-color-border-box);\n",
       "  border-radius: 0.25em;\n",
       "  box-sizing: border-box;\n",
       "  margin-bottom: 0.5em;\n",
       "  /* unfitted */\n",
       "  background-color: var(--sklearn-color-unfitted-level-0);\n",
       "}\n",
       "\n",
       "#sk-container-id-1 div.sk-estimator.fitted {\n",
       "  /* fitted */\n",
       "  background-color: var(--sklearn-color-fitted-level-0);\n",
       "}\n",
       "\n",
       "/* on hover */\n",
       "#sk-container-id-1 div.sk-estimator:hover {\n",
       "  /* unfitted */\n",
       "  background-color: var(--sklearn-color-unfitted-level-2);\n",
       "}\n",
       "\n",
       "#sk-container-id-1 div.sk-estimator.fitted:hover {\n",
       "  /* fitted */\n",
       "  background-color: var(--sklearn-color-fitted-level-2);\n",
       "}\n",
       "\n",
       "/* Specification for estimator info (e.g. \"i\" and \"?\") */\n",
       "\n",
       "/* Common style for \"i\" and \"?\" */\n",
       "\n",
       ".sk-estimator-doc-link,\n",
       "a:link.sk-estimator-doc-link,\n",
       "a:visited.sk-estimator-doc-link {\n",
       "  float: right;\n",
       "  font-size: smaller;\n",
       "  line-height: 1em;\n",
       "  font-family: monospace;\n",
       "  background-color: var(--sklearn-color-background);\n",
       "  border-radius: 1em;\n",
       "  height: 1em;\n",
       "  width: 1em;\n",
       "  text-decoration: none !important;\n",
       "  margin-left: 1ex;\n",
       "  /* unfitted */\n",
       "  border: var(--sklearn-color-unfitted-level-1) 1pt solid;\n",
       "  color: var(--sklearn-color-unfitted-level-1);\n",
       "}\n",
       "\n",
       ".sk-estimator-doc-link.fitted,\n",
       "a:link.sk-estimator-doc-link.fitted,\n",
       "a:visited.sk-estimator-doc-link.fitted {\n",
       "  /* fitted */\n",
       "  border: var(--sklearn-color-fitted-level-1) 1pt solid;\n",
       "  color: var(--sklearn-color-fitted-level-1);\n",
       "}\n",
       "\n",
       "/* On hover */\n",
       "div.sk-estimator:hover .sk-estimator-doc-link:hover,\n",
       ".sk-estimator-doc-link:hover,\n",
       "div.sk-label-container:hover .sk-estimator-doc-link:hover,\n",
       ".sk-estimator-doc-link:hover {\n",
       "  /* unfitted */\n",
       "  background-color: var(--sklearn-color-unfitted-level-3);\n",
       "  color: var(--sklearn-color-background);\n",
       "  text-decoration: none;\n",
       "}\n",
       "\n",
       "div.sk-estimator.fitted:hover .sk-estimator-doc-link.fitted:hover,\n",
       ".sk-estimator-doc-link.fitted:hover,\n",
       "div.sk-label-container:hover .sk-estimator-doc-link.fitted:hover,\n",
       ".sk-estimator-doc-link.fitted:hover {\n",
       "  /* fitted */\n",
       "  background-color: var(--sklearn-color-fitted-level-3);\n",
       "  color: var(--sklearn-color-background);\n",
       "  text-decoration: none;\n",
       "}\n",
       "\n",
       "/* Span, style for the box shown on hovering the info icon */\n",
       ".sk-estimator-doc-link span {\n",
       "  display: none;\n",
       "  z-index: 9999;\n",
       "  position: relative;\n",
       "  font-weight: normal;\n",
       "  right: .2ex;\n",
       "  padding: .5ex;\n",
       "  margin: .5ex;\n",
       "  width: min-content;\n",
       "  min-width: 20ex;\n",
       "  max-width: 50ex;\n",
       "  color: var(--sklearn-color-text);\n",
       "  box-shadow: 2pt 2pt 4pt #999;\n",
       "  /* unfitted */\n",
       "  background: var(--sklearn-color-unfitted-level-0);\n",
       "  border: .5pt solid var(--sklearn-color-unfitted-level-3);\n",
       "}\n",
       "\n",
       ".sk-estimator-doc-link.fitted span {\n",
       "  /* fitted */\n",
       "  background: var(--sklearn-color-fitted-level-0);\n",
       "  border: var(--sklearn-color-fitted-level-3);\n",
       "}\n",
       "\n",
       ".sk-estimator-doc-link:hover span {\n",
       "  display: block;\n",
       "}\n",
       "\n",
       "/* \"?\"-specific style due to the `<a>` HTML tag */\n",
       "\n",
       "#sk-container-id-1 a.estimator_doc_link {\n",
       "  float: right;\n",
       "  font-size: 1rem;\n",
       "  line-height: 1em;\n",
       "  font-family: monospace;\n",
       "  background-color: var(--sklearn-color-background);\n",
       "  border-radius: 1rem;\n",
       "  height: 1rem;\n",
       "  width: 1rem;\n",
       "  text-decoration: none;\n",
       "  /* unfitted */\n",
       "  color: var(--sklearn-color-unfitted-level-1);\n",
       "  border: var(--sklearn-color-unfitted-level-1) 1pt solid;\n",
       "}\n",
       "\n",
       "#sk-container-id-1 a.estimator_doc_link.fitted {\n",
       "  /* fitted */\n",
       "  border: var(--sklearn-color-fitted-level-1) 1pt solid;\n",
       "  color: var(--sklearn-color-fitted-level-1);\n",
       "}\n",
       "\n",
       "/* On hover */\n",
       "#sk-container-id-1 a.estimator_doc_link:hover {\n",
       "  /* unfitted */\n",
       "  background-color: var(--sklearn-color-unfitted-level-3);\n",
       "  color: var(--sklearn-color-background);\n",
       "  text-decoration: none;\n",
       "}\n",
       "\n",
       "#sk-container-id-1 a.estimator_doc_link.fitted:hover {\n",
       "  /* fitted */\n",
       "  background-color: var(--sklearn-color-fitted-level-3);\n",
       "}\n",
       "</style><div id=\"sk-container-id-1\" class=\"sk-top-container\"><div class=\"sk-text-repr-fallback\"><pre>ElasticNetCV(cv=5)</pre><b>In a Jupyter environment, please rerun this cell to show the HTML representation or trust the notebook. <br />On GitHub, the HTML representation is unable to render, please try loading this page with nbviewer.org.</b></div><div class=\"sk-container\" hidden><div class=\"sk-item\"><div class=\"sk-estimator fitted sk-toggleable\"><input class=\"sk-toggleable__control sk-hidden--visually\" id=\"sk-estimator-id-1\" type=\"checkbox\" checked><label for=\"sk-estimator-id-1\" class=\"sk-toggleable__label fitted sk-toggleable__label-arrow fitted\">&nbsp;&nbsp;ElasticNetCV<a class=\"sk-estimator-doc-link fitted\" rel=\"noreferrer\" target=\"_blank\" href=\"https://scikit-learn.org/1.4/modules/generated/sklearn.linear_model.ElasticNetCV.html\">?<span>Documentation for ElasticNetCV</span></a><span class=\"sk-estimator-doc-link fitted\">i<span>Fitted</span></span></label><div class=\"sk-toggleable__content fitted\"><pre>ElasticNetCV(cv=5)</pre></div> </div></div></div></div>"
      ],
      "text/plain": [
       "ElasticNetCV(cv=5)"
      ]
     },
     "execution_count": 19,
     "metadata": {},
     "output_type": "execute_result"
    }
   ],
   "source": [
    "from sklearn.linear_model import LassoCV, RidgeCV, ElasticNetCV\n",
    "prediction_model_ridge=RidgeCV(cv=5)\n",
    "prediction_model_lasso=LassoCV(cv=5)\n",
    "prediction_model_en=ElasticNetCV(cv=5)\n",
    "prediction_model_ridge.fit(X_train, y_train)\n",
    "prediction_model_lasso.fit(X_train, y_train)\n",
    "prediction_model_en.fit(X_train, y_train)"
   ]
  },
  {
   "cell_type": "code",
   "execution_count": null,
   "metadata": {},
   "outputs": [],
   "source": []
  },
  {
   "cell_type": "code",
   "execution_count": null,
   "metadata": {},
   "outputs": [],
   "source": []
  },
  {
   "cell_type": "code",
   "execution_count": null,
   "metadata": {},
   "outputs": [],
   "source": []
  },
  {
   "cell_type": "code",
   "execution_count": 116,
   "metadata": {},
   "outputs": [
    {
     "name": "stdout",
     "output_type": "stream",
     "text": [
      "Cross-validation errors: {'Ridge': 0.010654942277324744, 'Lasso': 0.051026930270252416, 'ElasticNet': 0.051026930270252416}\n",
      "Best model: Ridge\n"
     ]
    }
   ],
   "source": [
    "import numpy as np\n",
    "from sklearn.linear_model import RidgeCV, ElasticNetCV, LassoCV\n",
    "from sklearn.model_selection import train_test_split\n",
    "from sklearn.metrics import mean_squared_error\n",
    "\n",
    "# Generate synthetic data for demonstration\n",
    "from sklearn.datasets import make_regression\n",
    "X, y = make_regression(n_samples=1000, n_features=10, noise=0.1, random_state=0)\n",
    "X_train, X_test, y_train, y_test = train_test_split(X, y, test_size=0.2, random_state=42)\n",
    "\n",
    "\n",
    "# Fit RidgeCV\n",
    "ridge = RidgeCV(cv=5, scoring='neg_mean_squared_error')\n",
    "ridge.fit(X_train, y_train)\n",
    "ridge_cv_error = -1*ridge.best_score_\n",
    "\n",
    "# Fit LassoCV\n",
    "lasso = LassoCV(cv=5, random_state=42)\n",
    "lasso.fit(X_train, y_train)\n",
    "lasso_cv_error = np.mean(lasso.mse_path_, axis=1).min()\n",
    "\n",
    "# Fit ElasticNetCV\n",
    "elasticnet = ElasticNetCV(cv=5,l1_ratio=[0.1,0.5,0.7,0.9,0.95,0.99,1], random_state=0) #1.0 mean Lasso\n",
    "elasticnet.fit(X_train, y_train)\n",
    "elasticnet_cv_error = np.mean(elasticnet.mse_path_, axis=-1).min()\n",
    "\n",
    "# Select the best model\n",
    "errors = {\n",
    "    'Ridge': ridge_cv_error,\n",
    "    'Lasso': lasso_cv_error,\n",
    "    'ElasticNet': elasticnet_cv_error\n",
    "}\n",
    "best_model_name = min(errors, key=errors.get)\n",
    "best_model = {'Ridge': ridge, 'Lasso': lasso, 'ElasticNet': elasticnet}[best_model_name]\n",
    "\n",
    "# Output results\n",
    "print(f\"Cross-validation errors: {errors}\")\n",
    "print(f\"Best model: {best_model_name}\")\n"
   ]
  },
  {
   "cell_type": "code",
   "execution_count": 112,
   "metadata": {},
   "outputs": [
    {
     "name": "stdout",
     "output_type": "stream",
     "text": [
      "Ridge MSE on training: 0.010030112843297695\n"
     ]
    }
   ],
   "source": [
    "# compute ridge mse on training\n",
    "y_pred_ridge = ridge.predict(X_train)\n",
    "ridge_mse = mean_squared_error(y_train, y_pred_ridge)\n",
    "print(f\"Ridge MSE on training: {ridge_mse}\")"
   ]
  },
  {
   "cell_type": "code",
   "execution_count": 103,
   "metadata": {},
   "outputs": [
    {
     "data": {
      "text/plain": [
       "0.1"
      ]
     },
     "execution_count": 103,
     "metadata": {},
     "output_type": "execute_result"
    }
   ],
   "source": [
    "ridge.alpha_"
   ]
  },
  {
   "cell_type": "code",
   "execution_count": 96,
   "metadata": {},
   "outputs": [
    {
     "name": "stdout",
     "output_type": "stream",
     "text": [
      "Test MSE of the best model (Ridge): 0.011753256598425667\n"
     ]
    }
   ],
   "source": [
    "y_pred = ridge.predict(X_test)\n",
    "test_mse = mean_squared_error(y_test, y_pred)\n",
    "print(f\"Test MSE of the best model ({best_model_name}): {test_mse}\")\n"
   ]
  },
  {
   "cell_type": "code",
   "execution_count": 97,
   "metadata": {},
   "outputs": [
    {
     "name": "stdout",
     "output_type": "stream",
     "text": [
      "Test MSE of the best model (Ridge): 0.04924854632962474\n"
     ]
    }
   ],
   "source": [
    "y_pred = lasso.predict(X_test)\n",
    "test_mse = mean_squared_error(y_test, y_pred)\n",
    "print(f\"Test MSE of the best model ({best_model_name}): {test_mse}\")"
   ]
  },
  {
   "cell_type": "code",
   "execution_count": 98,
   "metadata": {},
   "outputs": [
    {
     "name": "stdout",
     "output_type": "stream",
     "text": [
      "Test MSE of the best model (Ridge): 0.04924854632962474\n"
     ]
    }
   ],
   "source": [
    "y_pred = elasticnet.predict(X_test)\n",
    "test_mse = mean_squared_error(y_test, y_pred)\n",
    "print(f\"Test MSE of the best model ({best_model_name}): {test_mse}\")\n"
   ]
  },
  {
   "cell_type": "code",
   "execution_count": null,
   "metadata": {},
   "outputs": [],
   "source": []
  },
  {
   "cell_type": "code",
   "execution_count": 59,
   "metadata": {},
   "outputs": [
    {
     "data": {
      "text/plain": [
       "array([[27659.92820947, 55476.76399669, 19610.87993246, 18128.58587661,\n",
       "        34250.42098335],\n",
       "       [27649.45447736, 55476.76399669, 19600.60305206, 18122.65835464,\n",
       "        34238.77341336],\n",
       "       [27638.25352671, 55476.76399669, 19589.61434195, 18116.325546  ,\n",
       "        34226.31452032],\n",
       "       [27626.2771315 , 55476.76399669, 19572.21877633, 18109.56151447,\n",
       "        34212.99010942],\n",
       "       [27608.78457058, 55476.11423712, 19551.97931941, 18102.33892804,\n",
       "        34189.48562027],\n",
       "       [27577.560285  , 55462.62941741, 19530.34377017, 18077.28936643,\n",
       "        34163.0913197 ],\n",
       "       [27542.24668077, 55448.21074146, 19507.22088418, 18045.81482274,\n",
       "        34133.04929463],\n",
       "       [27500.76777154, 55417.95457116, 19481.30314451, 18012.88527788,\n",
       "        34091.4185811 ],\n",
       "       [27456.44847862, 55365.94172476, 19445.30213641, 17977.70787523,\n",
       "        34046.92442804],\n",
       "       [27409.10612396, 55310.3219057 , 19403.87300231, 17940.13913054,\n",
       "        33999.3808548 ],\n",
       "       [27356.65765012, 55239.73638945, 19359.6324071 , 17900.02785376,\n",
       "        33937.00344226],\n",
       "       [27293.87118053, 55162.42725486, 19312.40325302, 17857.41169318,\n",
       "        33868.63573786],\n",
       "       [27226.83856111, 55076.19599895, 19261.21606562, 17812.09215484,\n",
       "        33795.03135363],\n",
       "       [27155.29440463, 54962.06128101, 19205.78952684, 17763.77688209,\n",
       "        33708.96597369],\n",
       "       [27076.64328245, 54824.61048699, 19146.69261415, 17712.28870912,\n",
       "        33607.1428697 ],\n",
       "       [26990.07815718, 54675.21311144, 19083.70712041, 17653.88253493,\n",
       "        33497.35465918],\n",
       "       [26897.77885039, 54511.90488576, 19016.6054227 , 17589.16296959,\n",
       "        33380.28828349],\n",
       "       [26800.93438498, 54337.62616309, 18938.59486523, 17520.22453443,\n",
       "        33255.50979973],\n",
       "       [26698.70470413, 54151.70217518, 18853.49143968, 17446.82587235,\n",
       "        33122.56632911],\n",
       "       [26589.87735372, 53953.42563537, 18762.91863195, 17368.76445311,\n",
       "        32980.98625853],\n",
       "       [26474.08373008, 53742.05651012, 18668.04178121, 17285.81374471,\n",
       "        32830.27963215],\n",
       "       [26350.9426263 , 53516.82202583, 18570.32236054, 17197.67715564,\n",
       "        32669.93876077],\n",
       "       [26220.06097676, 53280.00437998, 18466.51714866, 17104.08800514,\n",
       "        32499.1994528 ],\n",
       "       [26081.03481522, 53029.94646261, 18356.31617829, 17004.77380091,\n",
       "        32315.28781938],\n",
       "       [25933.4504706 , 52763.85870652, 18239.40312334, 16899.45728903,\n",
       "        32120.04008521],\n",
       "       [25776.88602451, 52480.86244125, 18115.45658064, 16787.85769776,\n",
       "        31912.89584566],\n",
       "       [25610.91305483, 52180.05184308, 17984.15157184, 16669.69218963,\n",
       "        31693.28594078],\n",
       "       [25435.09868868, 51860.4962646 , 17845.16129023, 16544.67753523,\n",
       "        31460.63519374],\n",
       "       [25247.89542732, 51521.24314986, 17698.15910787, 16412.53202031,\n",
       "        31214.36559853],\n",
       "       [25034.16254478, 51161.32159735, 17542.82085634, 16272.97759538,\n",
       "        30953.89998657],\n",
       "       [24808.40622416, 50779.7466351 , 17378.82739203, 16125.74227361,\n",
       "        30678.66619796],\n",
       "       [24570.15013197, 50375.52427219, 17205.86745292, 15970.5627793 ,\n",
       "        30388.10177826],\n",
       "       [24318.74750483, 49947.65738912, 17023.64081001, 15807.18744389,\n",
       "        30081.65921514],\n",
       "       [24053.19755777, 49495.152526  , 16831.7722081 , 15635.37934093,\n",
       "        29758.81172135],\n",
       "       [23772.97978297, 49017.02762195, 16628.79863082, 15454.91964494,\n",
       "        29419.05956033],\n",
       "       [23478.67565497, 48512.32075034, 16415.72570612, 15265.26910838,\n",
       "        29061.93689915],\n",
       "       [23169.96922775, 47980.09988351, 16192.33928367, 15065.02229097,\n",
       "        28687.01915983],\n",
       "       [22846.58709523, 47419.47370574, 15958.45702937, 14855.57274494,\n",
       "        28293.93082438],\n",
       "       [22508.30491205, 46829.60347487, 15713.93310337, 14636.81641556,\n",
       "        27882.35363201],\n",
       "       [22154.95408919, 46207.13629082, 15458.66295502, 14408.68704557,\n",
       "        27452.03508789],\n",
       "       [21786.42857392, 45553.16652874, 15192.58816296, 14171.16008127,\n",
       "        27002.7971835 ],\n",
       "       [21402.69160923, 44867.82533904, 14915.70124503, 13924.25644618,\n",
       "        26534.54520772],\n",
       "       [21003.78235336, 44150.63566107, 14628.05035307, 13668.04609853,\n",
       "        26047.27650789],\n",
       "       [20589.82782644, 43401.248105  , 14329.74375816, 13402.65128357,\n",
       "        25541.0890399 ],\n",
       "       [20161.02767045, 42619.45759219, 14020.9540251 , 13128.24938819,\n",
       "        25016.18952846],\n",
       "       [19717.689654  , 41805.22015863, 13701.92176838, 12844.7311201 ,\n",
       "        24472.9010431 ],\n",
       "       [19260.2151693 , 40958.66963112, 13372.95887914, 12550.23802144,\n",
       "        23911.66978278],\n",
       "       [18789.10755593, 40080.13384123, 13034.45111132, 12247.58420981,\n",
       "        23333.07085493],\n",
       "       [18304.97481558, 39170.14999927, 12686.85991761, 11937.19434856,\n",
       "        22737.81283177],\n",
       "       [17808.531143  , 38229.47881288, 12330.7329564 , 11619.55409529,\n",
       "        22125.72658176],\n",
       "       [17300.59714127, 37259.11690334, 11966.66887759, 11295.20886678,\n",
       "        21496.63759536],\n",
       "       [16782.09860895, 36260.30705167, 11595.36564543, 10964.76161233,\n",
       "        20853.87116746],\n",
       "       [16254.06381096, 35234.54579715, 11217.58758626, 10628.88056708,\n",
       "        20198.69873231],\n",
       "       [15717.61917354, 34183.58791655, 10834.16941853, 10288.25418658,\n",
       "        19532.15364117],\n",
       "       [15173.9833765 , 33109.44733523, 10446.01183639,  9943.64483722,\n",
       "        18852.37644254],\n",
       "       [14624.45985132, 32014.39406316, 10054.07591851,  9595.84608336,\n",
       "        18164.71366616],\n",
       "       [14070.42773061, 30900.93042257,  9659.37638636,  9245.68534546,\n",
       "        17470.92273529],\n",
       "       [13513.3313328 , 29771.84076933,  9262.97376374,  8894.01713247,\n",
       "        16772.85304149],\n",
       "       [12954.66830267, 28630.08728027,  8865.96551743,  8541.71584953,\n",
       "        16072.43060231],\n",
       "       [12395.97656417, 27478.84386121,  8469.4762866 ,  8189.6683151 ,\n",
       "        15371.64089588],\n",
       "       [11838.82027478, 26321.45679555,  8074.64733602,  7838.76612557,\n",
       "        14672.51012431],\n",
       "       [11284.77499931, 25161.41415232,  7682.62539333,  7489.89800385,\n",
       "        13977.08520625],\n",
       "       [10735.41234571, 24002.31116188,  7294.55105361,  7143.94226172,\n",
       "        13287.41284448],\n",
       "       [10192.28432451, 22847.81211012,  6911.54695385,  6801.75949411,\n",
       "        12605.51805259],\n",
       "       [ 9656.9077067 , 21701.60944522,  6534.70593562,  6464.18560922,\n",
       "        11933.38255216],\n",
       "       [ 9130.74866214, 20567.38091904,  6165.0794236 ,  6132.02528079,\n",
       "        11272.92346866],\n",
       "       [ 8615.20796079, 19448.74564459,  5803.66625253,  5806.0458915 ,\n",
       "        10625.97275825],\n",
       "       [ 8111.60701312, 18357.81478625,  5451.40217223,  5486.97201858,\n",
       "         9994.25778883],\n",
       "       [ 7621.17501233, 17289.2181788 ,  5109.15025108,  5175.48049727,\n",
       "         9379.38347694],\n",
       "       [ 7145.0374211 , 16245.50784228,  4777.69238146,  4872.19608416,\n",
       "         8782.81634734],\n",
       "       [ 6684.20812613, 15229.57097005,  4457.72206696,  4577.68773247,\n",
       "         8205.87083617],\n",
       "       [ 6239.56958163, 14244.049008  ,  4149.83864022,  4292.46548435,\n",
       "         7649.6981015 ],\n",
       "       [ 5811.88788118, 13291.30994149,  3854.6009451 ,  4016.97798099,\n",
       "         7115.27754043],\n",
       "       [ 5401.79207297, 12373.42548662,  3572.3000575 ,  3751.61059026,\n",
       "         6603.40780629],\n",
       "       [ 5009.77636159, 11492.15382931,  3303.28482048,  3496.68415109,\n",
       "         6114.71704487],\n",
       "       [ 4636.19983961, 10648.92821005,  3049.76077627,  3252.45433482,\n",
       "         5651.86496645],\n",
       "       [ 4281.28820469,  9844.85146951,  2813.01268316,  3019.16857396,\n",
       "         5213.64615468],\n",
       "       [ 3945.13736492,  9080.69648682,  2588.18651916,  2796.84509637,\n",
       "         4797.25094171],\n",
       "       [ 3627.71879084,  8356.9122672 ,  2372.57843536,  2592.23680345,\n",
       "         4403.70131798],\n",
       "       [ 3328.88643324,  7673.63527633,  2170.31010098,  2401.78326089,\n",
       "         4033.80716584],\n",
       "       [ 3048.3849938 ,  7030.70548196,  1981.12999639,  2211.42408258,\n",
       "         3687.20811818],\n",
       "       [ 2785.8593112 ,  6427.68645415,  1804.72264458,  2031.97269541,\n",
       "         3363.4136957 ],\n",
       "       [ 2540.86461   ,  5863.76280844,  1640.7108296 ,  1863.31457008,\n",
       "         3061.81799121],\n",
       "       [ 2312.87735316,  5338.26269989,  1488.6643352 ,  1705.23639183,\n",
       "         2781.71461084],\n",
       "       [ 2101.3064413 ,  4849.95286964,  1348.10880333,  1557.47944687,\n",
       "         2522.3119741 ],\n",
       "       [ 1905.50451238,  4397.54739509,  1218.53451569,  1419.74439903,\n",
       "         2282.74863326],\n",
       "       [ 1724.7791128 ,  3979.61893277,  1099.40492232,  1291.69632883,\n",
       "         2062.10830156],\n",
       "       [ 1582.12167958,  3594.62733651,   990.16476534,  1172.9699451 ,\n",
       "         1859.43431576],\n",
       "       [ 1432.00294166,  3240.94731861,   890.2476727 ,  1063.1748738 ,\n",
       "         1673.74330042],\n",
       "       [ 1289.75093099,  2916.89464117,   799.08312463,   961.90092956,\n",
       "         1504.03784556],\n",
       "       [ 1159.71291338,  2620.7504426 ,   716.10272339,   868.72327861,\n",
       "         1349.31805525],\n",
       "       [ 1041.12187738,  2350.78340309,   640.74572333,   783.20740883,\n",
       "         1208.5918691 ],\n",
       "       [  933.2157539 ,  2105.26954866,   572.46380264,   704.91383215,\n",
       "         1080.8841014 ],\n",
       "       [  835.24757865,  1882.50958291,   510.72507999,   633.40245571,\n",
       "          965.24418072],\n",
       "       [  746.49091187,  1680.8437154 ,   455.01739757,   568.23657118,\n",
       "          860.75260722],\n",
       "       [  666.24432796,  1498.66402514,   404.85090716,   508.98642501,\n",
       "          766.52617336],\n",
       "       [  593.8350194 ,  1334.42445501,   359.76000733,   455.23234605,\n",
       "          681.72201696],\n",
       "       [  528.62156821,  1186.64857799,   319.30468845,   406.56741983,\n",
       "          605.54059328],\n",
       "       [  469.99594938,  1053.93530997,   283.07134711,   362.59971071,\n",
       "          537.22766513],\n",
       "       [  417.38483834,   934.96276622,   250.6110982 ,   322.95404379,\n",
       "          476.07541775]])"
      ]
     },
     "execution_count": 59,
     "metadata": {},
     "output_type": "execute_result"
    }
   ],
   "source": [
    "elasticnet.mse_path_"
   ]
  },
  {
   "cell_type": "code",
   "execution_count": 56,
   "metadata": {},
   "outputs": [
    {
     "data": {
      "text/html": [
       "<style>#sk-container-id-2 {\n",
       "  /* Definition of color scheme common for light and dark mode */\n",
       "  --sklearn-color-text: black;\n",
       "  --sklearn-color-line: gray;\n",
       "  /* Definition of color scheme for unfitted estimators */\n",
       "  --sklearn-color-unfitted-level-0: #fff5e6;\n",
       "  --sklearn-color-unfitted-level-1: #f6e4d2;\n",
       "  --sklearn-color-unfitted-level-2: #ffe0b3;\n",
       "  --sklearn-color-unfitted-level-3: chocolate;\n",
       "  /* Definition of color scheme for fitted estimators */\n",
       "  --sklearn-color-fitted-level-0: #f0f8ff;\n",
       "  --sklearn-color-fitted-level-1: #d4ebff;\n",
       "  --sklearn-color-fitted-level-2: #b3dbfd;\n",
       "  --sklearn-color-fitted-level-3: cornflowerblue;\n",
       "\n",
       "  /* Specific color for light theme */\n",
       "  --sklearn-color-text-on-default-background: var(--sg-text-color, var(--theme-code-foreground, var(--jp-content-font-color1, black)));\n",
       "  --sklearn-color-background: var(--sg-background-color, var(--theme-background, var(--jp-layout-color0, white)));\n",
       "  --sklearn-color-border-box: var(--sg-text-color, var(--theme-code-foreground, var(--jp-content-font-color1, black)));\n",
       "  --sklearn-color-icon: #696969;\n",
       "\n",
       "  @media (prefers-color-scheme: dark) {\n",
       "    /* Redefinition of color scheme for dark theme */\n",
       "    --sklearn-color-text-on-default-background: var(--sg-text-color, var(--theme-code-foreground, var(--jp-content-font-color1, white)));\n",
       "    --sklearn-color-background: var(--sg-background-color, var(--theme-background, var(--jp-layout-color0, #111)));\n",
       "    --sklearn-color-border-box: var(--sg-text-color, var(--theme-code-foreground, var(--jp-content-font-color1, white)));\n",
       "    --sklearn-color-icon: #878787;\n",
       "  }\n",
       "}\n",
       "\n",
       "#sk-container-id-2 {\n",
       "  color: var(--sklearn-color-text);\n",
       "}\n",
       "\n",
       "#sk-container-id-2 pre {\n",
       "  padding: 0;\n",
       "}\n",
       "\n",
       "#sk-container-id-2 input.sk-hidden--visually {\n",
       "  border: 0;\n",
       "  clip: rect(1px 1px 1px 1px);\n",
       "  clip: rect(1px, 1px, 1px, 1px);\n",
       "  height: 1px;\n",
       "  margin: -1px;\n",
       "  overflow: hidden;\n",
       "  padding: 0;\n",
       "  position: absolute;\n",
       "  width: 1px;\n",
       "}\n",
       "\n",
       "#sk-container-id-2 div.sk-dashed-wrapped {\n",
       "  border: 1px dashed var(--sklearn-color-line);\n",
       "  margin: 0 0.4em 0.5em 0.4em;\n",
       "  box-sizing: border-box;\n",
       "  padding-bottom: 0.4em;\n",
       "  background-color: var(--sklearn-color-background);\n",
       "}\n",
       "\n",
       "#sk-container-id-2 div.sk-container {\n",
       "  /* jupyter's `normalize.less` sets `[hidden] { display: none; }`\n",
       "     but bootstrap.min.css set `[hidden] { display: none !important; }`\n",
       "     so we also need the `!important` here to be able to override the\n",
       "     default hidden behavior on the sphinx rendered scikit-learn.org.\n",
       "     See: https://github.com/scikit-learn/scikit-learn/issues/21755 */\n",
       "  display: inline-block !important;\n",
       "  position: relative;\n",
       "}\n",
       "\n",
       "#sk-container-id-2 div.sk-text-repr-fallback {\n",
       "  display: none;\n",
       "}\n",
       "\n",
       "div.sk-parallel-item,\n",
       "div.sk-serial,\n",
       "div.sk-item {\n",
       "  /* draw centered vertical line to link estimators */\n",
       "  background-image: linear-gradient(var(--sklearn-color-text-on-default-background), var(--sklearn-color-text-on-default-background));\n",
       "  background-size: 2px 100%;\n",
       "  background-repeat: no-repeat;\n",
       "  background-position: center center;\n",
       "}\n",
       "\n",
       "/* Parallel-specific style estimator block */\n",
       "\n",
       "#sk-container-id-2 div.sk-parallel-item::after {\n",
       "  content: \"\";\n",
       "  width: 100%;\n",
       "  border-bottom: 2px solid var(--sklearn-color-text-on-default-background);\n",
       "  flex-grow: 1;\n",
       "}\n",
       "\n",
       "#sk-container-id-2 div.sk-parallel {\n",
       "  display: flex;\n",
       "  align-items: stretch;\n",
       "  justify-content: center;\n",
       "  background-color: var(--sklearn-color-background);\n",
       "  position: relative;\n",
       "}\n",
       "\n",
       "#sk-container-id-2 div.sk-parallel-item {\n",
       "  display: flex;\n",
       "  flex-direction: column;\n",
       "}\n",
       "\n",
       "#sk-container-id-2 div.sk-parallel-item:first-child::after {\n",
       "  align-self: flex-end;\n",
       "  width: 50%;\n",
       "}\n",
       "\n",
       "#sk-container-id-2 div.sk-parallel-item:last-child::after {\n",
       "  align-self: flex-start;\n",
       "  width: 50%;\n",
       "}\n",
       "\n",
       "#sk-container-id-2 div.sk-parallel-item:only-child::after {\n",
       "  width: 0;\n",
       "}\n",
       "\n",
       "/* Serial-specific style estimator block */\n",
       "\n",
       "#sk-container-id-2 div.sk-serial {\n",
       "  display: flex;\n",
       "  flex-direction: column;\n",
       "  align-items: center;\n",
       "  background-color: var(--sklearn-color-background);\n",
       "  padding-right: 1em;\n",
       "  padding-left: 1em;\n",
       "}\n",
       "\n",
       "\n",
       "/* Toggleable style: style used for estimator/Pipeline/ColumnTransformer box that is\n",
       "clickable and can be expanded/collapsed.\n",
       "- Pipeline and ColumnTransformer use this feature and define the default style\n",
       "- Estimators will overwrite some part of the style using the `sk-estimator` class\n",
       "*/\n",
       "\n",
       "/* Pipeline and ColumnTransformer style (default) */\n",
       "\n",
       "#sk-container-id-2 div.sk-toggleable {\n",
       "  /* Default theme specific background. It is overwritten whether we have a\n",
       "  specific estimator or a Pipeline/ColumnTransformer */\n",
       "  background-color: var(--sklearn-color-background);\n",
       "}\n",
       "\n",
       "/* Toggleable label */\n",
       "#sk-container-id-2 label.sk-toggleable__label {\n",
       "  cursor: pointer;\n",
       "  display: block;\n",
       "  width: 100%;\n",
       "  margin-bottom: 0;\n",
       "  padding: 0.5em;\n",
       "  box-sizing: border-box;\n",
       "  text-align: center;\n",
       "}\n",
       "\n",
       "#sk-container-id-2 label.sk-toggleable__label-arrow:before {\n",
       "  /* Arrow on the left of the label */\n",
       "  content: \"▸\";\n",
       "  float: left;\n",
       "  margin-right: 0.25em;\n",
       "  color: var(--sklearn-color-icon);\n",
       "}\n",
       "\n",
       "#sk-container-id-2 label.sk-toggleable__label-arrow:hover:before {\n",
       "  color: var(--sklearn-color-text);\n",
       "}\n",
       "\n",
       "/* Toggleable content - dropdown */\n",
       "\n",
       "#sk-container-id-2 div.sk-toggleable__content {\n",
       "  max-height: 0;\n",
       "  max-width: 0;\n",
       "  overflow: hidden;\n",
       "  text-align: left;\n",
       "  /* unfitted */\n",
       "  background-color: var(--sklearn-color-unfitted-level-0);\n",
       "}\n",
       "\n",
       "#sk-container-id-2 div.sk-toggleable__content.fitted {\n",
       "  /* fitted */\n",
       "  background-color: var(--sklearn-color-fitted-level-0);\n",
       "}\n",
       "\n",
       "#sk-container-id-2 div.sk-toggleable__content pre {\n",
       "  margin: 0.2em;\n",
       "  border-radius: 0.25em;\n",
       "  color: var(--sklearn-color-text);\n",
       "  /* unfitted */\n",
       "  background-color: var(--sklearn-color-unfitted-level-0);\n",
       "}\n",
       "\n",
       "#sk-container-id-2 div.sk-toggleable__content.fitted pre {\n",
       "  /* unfitted */\n",
       "  background-color: var(--sklearn-color-fitted-level-0);\n",
       "}\n",
       "\n",
       "#sk-container-id-2 input.sk-toggleable__control:checked~div.sk-toggleable__content {\n",
       "  /* Expand drop-down */\n",
       "  max-height: 200px;\n",
       "  max-width: 100%;\n",
       "  overflow: auto;\n",
       "}\n",
       "\n",
       "#sk-container-id-2 input.sk-toggleable__control:checked~label.sk-toggleable__label-arrow:before {\n",
       "  content: \"▾\";\n",
       "}\n",
       "\n",
       "/* Pipeline/ColumnTransformer-specific style */\n",
       "\n",
       "#sk-container-id-2 div.sk-label input.sk-toggleable__control:checked~label.sk-toggleable__label {\n",
       "  color: var(--sklearn-color-text);\n",
       "  background-color: var(--sklearn-color-unfitted-level-2);\n",
       "}\n",
       "\n",
       "#sk-container-id-2 div.sk-label.fitted input.sk-toggleable__control:checked~label.sk-toggleable__label {\n",
       "  background-color: var(--sklearn-color-fitted-level-2);\n",
       "}\n",
       "\n",
       "/* Estimator-specific style */\n",
       "\n",
       "/* Colorize estimator box */\n",
       "#sk-container-id-2 div.sk-estimator input.sk-toggleable__control:checked~label.sk-toggleable__label {\n",
       "  /* unfitted */\n",
       "  background-color: var(--sklearn-color-unfitted-level-2);\n",
       "}\n",
       "\n",
       "#sk-container-id-2 div.sk-estimator.fitted input.sk-toggleable__control:checked~label.sk-toggleable__label {\n",
       "  /* fitted */\n",
       "  background-color: var(--sklearn-color-fitted-level-2);\n",
       "}\n",
       "\n",
       "#sk-container-id-2 div.sk-label label.sk-toggleable__label,\n",
       "#sk-container-id-2 div.sk-label label {\n",
       "  /* The background is the default theme color */\n",
       "  color: var(--sklearn-color-text-on-default-background);\n",
       "}\n",
       "\n",
       "/* On hover, darken the color of the background */\n",
       "#sk-container-id-2 div.sk-label:hover label.sk-toggleable__label {\n",
       "  color: var(--sklearn-color-text);\n",
       "  background-color: var(--sklearn-color-unfitted-level-2);\n",
       "}\n",
       "\n",
       "/* Label box, darken color on hover, fitted */\n",
       "#sk-container-id-2 div.sk-label.fitted:hover label.sk-toggleable__label.fitted {\n",
       "  color: var(--sklearn-color-text);\n",
       "  background-color: var(--sklearn-color-fitted-level-2);\n",
       "}\n",
       "\n",
       "/* Estimator label */\n",
       "\n",
       "#sk-container-id-2 div.sk-label label {\n",
       "  font-family: monospace;\n",
       "  font-weight: bold;\n",
       "  display: inline-block;\n",
       "  line-height: 1.2em;\n",
       "}\n",
       "\n",
       "#sk-container-id-2 div.sk-label-container {\n",
       "  text-align: center;\n",
       "}\n",
       "\n",
       "/* Estimator-specific */\n",
       "#sk-container-id-2 div.sk-estimator {\n",
       "  font-family: monospace;\n",
       "  border: 1px dotted var(--sklearn-color-border-box);\n",
       "  border-radius: 0.25em;\n",
       "  box-sizing: border-box;\n",
       "  margin-bottom: 0.5em;\n",
       "  /* unfitted */\n",
       "  background-color: var(--sklearn-color-unfitted-level-0);\n",
       "}\n",
       "\n",
       "#sk-container-id-2 div.sk-estimator.fitted {\n",
       "  /* fitted */\n",
       "  background-color: var(--sklearn-color-fitted-level-0);\n",
       "}\n",
       "\n",
       "/* on hover */\n",
       "#sk-container-id-2 div.sk-estimator:hover {\n",
       "  /* unfitted */\n",
       "  background-color: var(--sklearn-color-unfitted-level-2);\n",
       "}\n",
       "\n",
       "#sk-container-id-2 div.sk-estimator.fitted:hover {\n",
       "  /* fitted */\n",
       "  background-color: var(--sklearn-color-fitted-level-2);\n",
       "}\n",
       "\n",
       "/* Specification for estimator info (e.g. \"i\" and \"?\") */\n",
       "\n",
       "/* Common style for \"i\" and \"?\" */\n",
       "\n",
       ".sk-estimator-doc-link,\n",
       "a:link.sk-estimator-doc-link,\n",
       "a:visited.sk-estimator-doc-link {\n",
       "  float: right;\n",
       "  font-size: smaller;\n",
       "  line-height: 1em;\n",
       "  font-family: monospace;\n",
       "  background-color: var(--sklearn-color-background);\n",
       "  border-radius: 1em;\n",
       "  height: 1em;\n",
       "  width: 1em;\n",
       "  text-decoration: none !important;\n",
       "  margin-left: 1ex;\n",
       "  /* unfitted */\n",
       "  border: var(--sklearn-color-unfitted-level-1) 1pt solid;\n",
       "  color: var(--sklearn-color-unfitted-level-1);\n",
       "}\n",
       "\n",
       ".sk-estimator-doc-link.fitted,\n",
       "a:link.sk-estimator-doc-link.fitted,\n",
       "a:visited.sk-estimator-doc-link.fitted {\n",
       "  /* fitted */\n",
       "  border: var(--sklearn-color-fitted-level-1) 1pt solid;\n",
       "  color: var(--sklearn-color-fitted-level-1);\n",
       "}\n",
       "\n",
       "/* On hover */\n",
       "div.sk-estimator:hover .sk-estimator-doc-link:hover,\n",
       ".sk-estimator-doc-link:hover,\n",
       "div.sk-label-container:hover .sk-estimator-doc-link:hover,\n",
       ".sk-estimator-doc-link:hover {\n",
       "  /* unfitted */\n",
       "  background-color: var(--sklearn-color-unfitted-level-3);\n",
       "  color: var(--sklearn-color-background);\n",
       "  text-decoration: none;\n",
       "}\n",
       "\n",
       "div.sk-estimator.fitted:hover .sk-estimator-doc-link.fitted:hover,\n",
       ".sk-estimator-doc-link.fitted:hover,\n",
       "div.sk-label-container:hover .sk-estimator-doc-link.fitted:hover,\n",
       ".sk-estimator-doc-link.fitted:hover {\n",
       "  /* fitted */\n",
       "  background-color: var(--sklearn-color-fitted-level-3);\n",
       "  color: var(--sklearn-color-background);\n",
       "  text-decoration: none;\n",
       "}\n",
       "\n",
       "/* Span, style for the box shown on hovering the info icon */\n",
       ".sk-estimator-doc-link span {\n",
       "  display: none;\n",
       "  z-index: 9999;\n",
       "  position: relative;\n",
       "  font-weight: normal;\n",
       "  right: .2ex;\n",
       "  padding: .5ex;\n",
       "  margin: .5ex;\n",
       "  width: min-content;\n",
       "  min-width: 20ex;\n",
       "  max-width: 50ex;\n",
       "  color: var(--sklearn-color-text);\n",
       "  box-shadow: 2pt 2pt 4pt #999;\n",
       "  /* unfitted */\n",
       "  background: var(--sklearn-color-unfitted-level-0);\n",
       "  border: .5pt solid var(--sklearn-color-unfitted-level-3);\n",
       "}\n",
       "\n",
       ".sk-estimator-doc-link.fitted span {\n",
       "  /* fitted */\n",
       "  background: var(--sklearn-color-fitted-level-0);\n",
       "  border: var(--sklearn-color-fitted-level-3);\n",
       "}\n",
       "\n",
       ".sk-estimator-doc-link:hover span {\n",
       "  display: block;\n",
       "}\n",
       "\n",
       "/* \"?\"-specific style due to the `<a>` HTML tag */\n",
       "\n",
       "#sk-container-id-2 a.estimator_doc_link {\n",
       "  float: right;\n",
       "  font-size: 1rem;\n",
       "  line-height: 1em;\n",
       "  font-family: monospace;\n",
       "  background-color: var(--sklearn-color-background);\n",
       "  border-radius: 1rem;\n",
       "  height: 1rem;\n",
       "  width: 1rem;\n",
       "  text-decoration: none;\n",
       "  /* unfitted */\n",
       "  color: var(--sklearn-color-unfitted-level-1);\n",
       "  border: var(--sklearn-color-unfitted-level-1) 1pt solid;\n",
       "}\n",
       "\n",
       "#sk-container-id-2 a.estimator_doc_link.fitted {\n",
       "  /* fitted */\n",
       "  border: var(--sklearn-color-fitted-level-1) 1pt solid;\n",
       "  color: var(--sklearn-color-fitted-level-1);\n",
       "}\n",
       "\n",
       "/* On hover */\n",
       "#sk-container-id-2 a.estimator_doc_link:hover {\n",
       "  /* unfitted */\n",
       "  background-color: var(--sklearn-color-unfitted-level-3);\n",
       "  color: var(--sklearn-color-background);\n",
       "  text-decoration: none;\n",
       "}\n",
       "\n",
       "#sk-container-id-2 a.estimator_doc_link.fitted:hover {\n",
       "  /* fitted */\n",
       "  background-color: var(--sklearn-color-fitted-level-3);\n",
       "}\n",
       "</style><div id=\"sk-container-id-2\" class=\"sk-top-container\"><div class=\"sk-text-repr-fallback\"><pre>RidgeCV(alphas=array([1.00000000e-03, 1.32571137e-03, 1.75751062e-03, 2.32995181e-03,\n",
       "       3.08884360e-03, 4.09491506e-03, 5.42867544e-03, 7.19685673e-03,\n",
       "       9.54095476e-03, 1.26485522e-02, 1.67683294e-02, 2.22299648e-02,\n",
       "       2.94705170e-02, 3.90693994e-02, 5.17947468e-02, 6.86648845e-02,\n",
       "       9.10298178e-02, 1.20679264e-01, 1.59985872e-01, 2.12095089e-01,\n",
       "       2.81176870e-01, 3.72759372e-0...\n",
       "       8.68511374e-01, 1.15139540e+00, 1.52641797e+00, 2.02358965e+00,\n",
       "       2.68269580e+00, 3.55648031e+00, 4.71486636e+00, 6.25055193e+00,\n",
       "       8.28642773e+00, 1.09854114e+01, 1.45634848e+01, 1.93069773e+01,\n",
       "       2.55954792e+01, 3.39322177e+01, 4.49843267e+01, 5.96362332e+01,\n",
       "       7.90604321e+01, 1.04811313e+02, 1.38949549e+02, 1.84206997e+02,\n",
       "       2.44205309e+02, 3.23745754e+02, 4.29193426e+02, 5.68986603e+02,\n",
       "       7.54312006e+02, 1.00000000e+03]),\n",
       "        cv=5)</pre><b>In a Jupyter environment, please rerun this cell to show the HTML representation or trust the notebook. <br />On GitHub, the HTML representation is unable to render, please try loading this page with nbviewer.org.</b></div><div class=\"sk-container\" hidden><div class=\"sk-item\"><div class=\"sk-estimator fitted sk-toggleable\"><input class=\"sk-toggleable__control sk-hidden--visually\" id=\"sk-estimator-id-2\" type=\"checkbox\" checked><label for=\"sk-estimator-id-2\" class=\"sk-toggleable__label fitted sk-toggleable__label-arrow fitted\">&nbsp;&nbsp;RidgeCV<a class=\"sk-estimator-doc-link fitted\" rel=\"noreferrer\" target=\"_blank\" href=\"https://scikit-learn.org/1.4/modules/generated/sklearn.linear_model.RidgeCV.html\">?<span>Documentation for RidgeCV</span></a><span class=\"sk-estimator-doc-link fitted\">i<span>Fitted</span></span></label><div class=\"sk-toggleable__content fitted\"><pre>RidgeCV(alphas=array([1.00000000e-03, 1.32571137e-03, 1.75751062e-03, 2.32995181e-03,\n",
       "       3.08884360e-03, 4.09491506e-03, 5.42867544e-03, 7.19685673e-03,\n",
       "       9.54095476e-03, 1.26485522e-02, 1.67683294e-02, 2.22299648e-02,\n",
       "       2.94705170e-02, 3.90693994e-02, 5.17947468e-02, 6.86648845e-02,\n",
       "       9.10298178e-02, 1.20679264e-01, 1.59985872e-01, 2.12095089e-01,\n",
       "       2.81176870e-01, 3.72759372e-0...\n",
       "       8.68511374e-01, 1.15139540e+00, 1.52641797e+00, 2.02358965e+00,\n",
       "       2.68269580e+00, 3.55648031e+00, 4.71486636e+00, 6.25055193e+00,\n",
       "       8.28642773e+00, 1.09854114e+01, 1.45634848e+01, 1.93069773e+01,\n",
       "       2.55954792e+01, 3.39322177e+01, 4.49843267e+01, 5.96362332e+01,\n",
       "       7.90604321e+01, 1.04811313e+02, 1.38949549e+02, 1.84206997e+02,\n",
       "       2.44205309e+02, 3.23745754e+02, 4.29193426e+02, 5.68986603e+02,\n",
       "       7.54312006e+02, 1.00000000e+03]),\n",
       "        cv=5)</pre></div> </div></div></div></div>"
      ],
      "text/plain": [
       "RidgeCV(alphas=array([1.00000000e-03, 1.32571137e-03, 1.75751062e-03, 2.32995181e-03,\n",
       "       3.08884360e-03, 4.09491506e-03, 5.42867544e-03, 7.19685673e-03,\n",
       "       9.54095476e-03, 1.26485522e-02, 1.67683294e-02, 2.22299648e-02,\n",
       "       2.94705170e-02, 3.90693994e-02, 5.17947468e-02, 6.86648845e-02,\n",
       "       9.10298178e-02, 1.20679264e-01, 1.59985872e-01, 2.12095089e-01,\n",
       "       2.81176870e-01, 3.72759372e-0...\n",
       "       8.68511374e-01, 1.15139540e+00, 1.52641797e+00, 2.02358965e+00,\n",
       "       2.68269580e+00, 3.55648031e+00, 4.71486636e+00, 6.25055193e+00,\n",
       "       8.28642773e+00, 1.09854114e+01, 1.45634848e+01, 1.93069773e+01,\n",
       "       2.55954792e+01, 3.39322177e+01, 4.49843267e+01, 5.96362332e+01,\n",
       "       7.90604321e+01, 1.04811313e+02, 1.38949549e+02, 1.84206997e+02,\n",
       "       2.44205309e+02, 3.23745754e+02, 4.29193426e+02, 5.68986603e+02,\n",
       "       7.54312006e+02, 1.00000000e+03]),\n",
       "        cv=5)"
      ]
     },
     "execution_count": 56,
     "metadata": {},
     "output_type": "execute_result"
    }
   ],
   "source": [
    "ridge"
   ]
  },
  {
   "cell_type": "code",
   "execution_count": 37,
   "metadata": {},
   "outputs": [
    {
     "data": {
      "text/plain": [
       "(50, 5)"
      ]
     },
     "execution_count": 37,
     "metadata": {},
     "output_type": "execute_result"
    }
   ],
   "source": [
    "elasticnet.mse_path_.shape"
   ]
  },
  {
   "cell_type": "code",
   "execution_count": 40,
   "metadata": {},
   "outputs": [
    {
     "data": {
      "text/plain": [
       "array([-3.10333666e+04, -3.10333666e+04, -3.10333666e+04, -3.10333666e+04,\n",
       "       -3.10333666e+04, -3.10333666e+04, -3.10180564e+04, -3.09624488e+04,\n",
       "       -3.08111232e+04, -3.05533421e+04, -3.01579596e+04, -2.96391496e+04,\n",
       "       -2.89794054e+04, -2.81382460e+04, -2.70748168e+04, -2.57626316e+04,\n",
       "       -2.41777229e+04, -2.23125076e+04, -2.01792954e+04, -1.78217808e+04,\n",
       "       -1.53156291e+04, -1.27671919e+04, -1.02949589e+04, -8.01976058e+03,\n",
       "       -6.02582118e+03, -4.37056910e+03, -3.06011553e+03, -2.07160753e+03,\n",
       "       -1.36524652e+03, -8.73354547e+02, -5.45990427e+02, -3.34790877e+02,\n",
       "       -2.02039879e+02, -1.20376935e+02, -7.09810175e+01, -4.15219904e+01,\n",
       "       -2.41399926e+01, -1.39673575e+01, -8.05579856e+00, -4.63658290e+00,\n",
       "       -2.66602450e+00, -1.53352287e+00, -8.83550198e-01, -5.11890751e-01,\n",
       "       -2.98865021e-01, -1.76986637e-01, -1.07245665e-01, -6.74702087e-02,\n",
       "       -4.46181271e-02, -3.14488829e-02])"
      ]
     },
     "execution_count": 40,
     "metadata": {},
     "output_type": "execute_result"
    }
   ],
   "source": [
    "np.mean(-elasticnet.mse_path_, axis=1)"
   ]
  },
  {
   "cell_type": "code",
   "execution_count": 21,
   "metadata": {},
   "outputs": [
    {
     "ename": "AttributeError",
     "evalue": "'RidgeCV' object has no attribute 'mse_path_'",
     "output_type": "error",
     "traceback": [
      "\u001b[0;31m---------------------------------------------------------------------------\u001b[0m",
      "\u001b[0;31mAttributeError\u001b[0m                            Traceback (most recent call last)",
      "Cell \u001b[0;32mIn[21], line 1\u001b[0m\n\u001b[0;32m----> 1\u001b[0m prediction_model_ridge\u001b[39m.\u001b[39;49mmse_path_\n",
      "\u001b[0;31mAttributeError\u001b[0m: 'RidgeCV' object has no attribute 'mse_path_'"
     ]
    }
   ],
   "source": [
    "prediction_model_ridge.mse_path_"
   ]
  },
  {
   "cell_type": "code",
   "execution_count": 20,
   "metadata": {},
   "outputs": [
    {
     "data": {
      "text/plain": [
       "0.1345599900143149"
      ]
     },
     "execution_count": 20,
     "metadata": {},
     "output_type": "execute_result"
    }
   ],
   "source": [
    "prediction_model_ridge.best_score_"
   ]
  },
  {
   "cell_type": "code",
   "execution_count": 104,
   "metadata": {},
   "outputs": [
    {
     "name": "stdout",
     "output_type": "stream",
     "text": [
      "Mean CV Error for the Best Alpha: 259.1724995334133\n"
     ]
    }
   ],
   "source": [
    "from sklearn.linear_model import LassoCV\n",
    "model = LassoCV(cv=5, max_iter=10000)\n",
    "model.fit(X_train, y_train)\n",
    "\n",
    "best_alpha_idx = np.where(model.alphas_ == model.alpha_)[0][0]\n",
    "\n",
    "cv_errors = model.mse_path_\n",
    "# Get the cross-validation errors for the best alpha\n",
    "errors_for_best_alpha = cv_errors[best_alpha_idx, :]\n",
    "\n",
    "# Compute the mean cross-validation error for the best alpha\n",
    "mean_error_for_best_alpha = errors_for_best_alpha.mean()\n",
    "\n",
    "print(\"Mean CV Error for the Best Alpha:\", mean_error_for_best_alpha)\n",
    "print(np.mean(model.mse_path_, axis=1).min())"
   ]
  },
  {
   "cell_type": "code",
   "execution_count": 118,
   "metadata": {},
   "outputs": [
    {
     "data": {
      "text/html": [
       "<style>#sk-container-id-8 {\n",
       "  /* Definition of color scheme common for light and dark mode */\n",
       "  --sklearn-color-text: black;\n",
       "  --sklearn-color-line: gray;\n",
       "  /* Definition of color scheme for unfitted estimators */\n",
       "  --sklearn-color-unfitted-level-0: #fff5e6;\n",
       "  --sklearn-color-unfitted-level-1: #f6e4d2;\n",
       "  --sklearn-color-unfitted-level-2: #ffe0b3;\n",
       "  --sklearn-color-unfitted-level-3: chocolate;\n",
       "  /* Definition of color scheme for fitted estimators */\n",
       "  --sklearn-color-fitted-level-0: #f0f8ff;\n",
       "  --sklearn-color-fitted-level-1: #d4ebff;\n",
       "  --sklearn-color-fitted-level-2: #b3dbfd;\n",
       "  --sklearn-color-fitted-level-3: cornflowerblue;\n",
       "\n",
       "  /* Specific color for light theme */\n",
       "  --sklearn-color-text-on-default-background: var(--sg-text-color, var(--theme-code-foreground, var(--jp-content-font-color1, black)));\n",
       "  --sklearn-color-background: var(--sg-background-color, var(--theme-background, var(--jp-layout-color0, white)));\n",
       "  --sklearn-color-border-box: var(--sg-text-color, var(--theme-code-foreground, var(--jp-content-font-color1, black)));\n",
       "  --sklearn-color-icon: #696969;\n",
       "\n",
       "  @media (prefers-color-scheme: dark) {\n",
       "    /* Redefinition of color scheme for dark theme */\n",
       "    --sklearn-color-text-on-default-background: var(--sg-text-color, var(--theme-code-foreground, var(--jp-content-font-color1, white)));\n",
       "    --sklearn-color-background: var(--sg-background-color, var(--theme-background, var(--jp-layout-color0, #111)));\n",
       "    --sklearn-color-border-box: var(--sg-text-color, var(--theme-code-foreground, var(--jp-content-font-color1, white)));\n",
       "    --sklearn-color-icon: #878787;\n",
       "  }\n",
       "}\n",
       "\n",
       "#sk-container-id-8 {\n",
       "  color: var(--sklearn-color-text);\n",
       "}\n",
       "\n",
       "#sk-container-id-8 pre {\n",
       "  padding: 0;\n",
       "}\n",
       "\n",
       "#sk-container-id-8 input.sk-hidden--visually {\n",
       "  border: 0;\n",
       "  clip: rect(1px 1px 1px 1px);\n",
       "  clip: rect(1px, 1px, 1px, 1px);\n",
       "  height: 1px;\n",
       "  margin: -1px;\n",
       "  overflow: hidden;\n",
       "  padding: 0;\n",
       "  position: absolute;\n",
       "  width: 1px;\n",
       "}\n",
       "\n",
       "#sk-container-id-8 div.sk-dashed-wrapped {\n",
       "  border: 1px dashed var(--sklearn-color-line);\n",
       "  margin: 0 0.4em 0.5em 0.4em;\n",
       "  box-sizing: border-box;\n",
       "  padding-bottom: 0.4em;\n",
       "  background-color: var(--sklearn-color-background);\n",
       "}\n",
       "\n",
       "#sk-container-id-8 div.sk-container {\n",
       "  /* jupyter's `normalize.less` sets `[hidden] { display: none; }`\n",
       "     but bootstrap.min.css set `[hidden] { display: none !important; }`\n",
       "     so we also need the `!important` here to be able to override the\n",
       "     default hidden behavior on the sphinx rendered scikit-learn.org.\n",
       "     See: https://github.com/scikit-learn/scikit-learn/issues/21755 */\n",
       "  display: inline-block !important;\n",
       "  position: relative;\n",
       "}\n",
       "\n",
       "#sk-container-id-8 div.sk-text-repr-fallback {\n",
       "  display: none;\n",
       "}\n",
       "\n",
       "div.sk-parallel-item,\n",
       "div.sk-serial,\n",
       "div.sk-item {\n",
       "  /* draw centered vertical line to link estimators */\n",
       "  background-image: linear-gradient(var(--sklearn-color-text-on-default-background), var(--sklearn-color-text-on-default-background));\n",
       "  background-size: 2px 100%;\n",
       "  background-repeat: no-repeat;\n",
       "  background-position: center center;\n",
       "}\n",
       "\n",
       "/* Parallel-specific style estimator block */\n",
       "\n",
       "#sk-container-id-8 div.sk-parallel-item::after {\n",
       "  content: \"\";\n",
       "  width: 100%;\n",
       "  border-bottom: 2px solid var(--sklearn-color-text-on-default-background);\n",
       "  flex-grow: 1;\n",
       "}\n",
       "\n",
       "#sk-container-id-8 div.sk-parallel {\n",
       "  display: flex;\n",
       "  align-items: stretch;\n",
       "  justify-content: center;\n",
       "  background-color: var(--sklearn-color-background);\n",
       "  position: relative;\n",
       "}\n",
       "\n",
       "#sk-container-id-8 div.sk-parallel-item {\n",
       "  display: flex;\n",
       "  flex-direction: column;\n",
       "}\n",
       "\n",
       "#sk-container-id-8 div.sk-parallel-item:first-child::after {\n",
       "  align-self: flex-end;\n",
       "  width: 50%;\n",
       "}\n",
       "\n",
       "#sk-container-id-8 div.sk-parallel-item:last-child::after {\n",
       "  align-self: flex-start;\n",
       "  width: 50%;\n",
       "}\n",
       "\n",
       "#sk-container-id-8 div.sk-parallel-item:only-child::after {\n",
       "  width: 0;\n",
       "}\n",
       "\n",
       "/* Serial-specific style estimator block */\n",
       "\n",
       "#sk-container-id-8 div.sk-serial {\n",
       "  display: flex;\n",
       "  flex-direction: column;\n",
       "  align-items: center;\n",
       "  background-color: var(--sklearn-color-background);\n",
       "  padding-right: 1em;\n",
       "  padding-left: 1em;\n",
       "}\n",
       "\n",
       "\n",
       "/* Toggleable style: style used for estimator/Pipeline/ColumnTransformer box that is\n",
       "clickable and can be expanded/collapsed.\n",
       "- Pipeline and ColumnTransformer use this feature and define the default style\n",
       "- Estimators will overwrite some part of the style using the `sk-estimator` class\n",
       "*/\n",
       "\n",
       "/* Pipeline and ColumnTransformer style (default) */\n",
       "\n",
       "#sk-container-id-8 div.sk-toggleable {\n",
       "  /* Default theme specific background. It is overwritten whether we have a\n",
       "  specific estimator or a Pipeline/ColumnTransformer */\n",
       "  background-color: var(--sklearn-color-background);\n",
       "}\n",
       "\n",
       "/* Toggleable label */\n",
       "#sk-container-id-8 label.sk-toggleable__label {\n",
       "  cursor: pointer;\n",
       "  display: block;\n",
       "  width: 100%;\n",
       "  margin-bottom: 0;\n",
       "  padding: 0.5em;\n",
       "  box-sizing: border-box;\n",
       "  text-align: center;\n",
       "}\n",
       "\n",
       "#sk-container-id-8 label.sk-toggleable__label-arrow:before {\n",
       "  /* Arrow on the left of the label */\n",
       "  content: \"▸\";\n",
       "  float: left;\n",
       "  margin-right: 0.25em;\n",
       "  color: var(--sklearn-color-icon);\n",
       "}\n",
       "\n",
       "#sk-container-id-8 label.sk-toggleable__label-arrow:hover:before {\n",
       "  color: var(--sklearn-color-text);\n",
       "}\n",
       "\n",
       "/* Toggleable content - dropdown */\n",
       "\n",
       "#sk-container-id-8 div.sk-toggleable__content {\n",
       "  max-height: 0;\n",
       "  max-width: 0;\n",
       "  overflow: hidden;\n",
       "  text-align: left;\n",
       "  /* unfitted */\n",
       "  background-color: var(--sklearn-color-unfitted-level-0);\n",
       "}\n",
       "\n",
       "#sk-container-id-8 div.sk-toggleable__content.fitted {\n",
       "  /* fitted */\n",
       "  background-color: var(--sklearn-color-fitted-level-0);\n",
       "}\n",
       "\n",
       "#sk-container-id-8 div.sk-toggleable__content pre {\n",
       "  margin: 0.2em;\n",
       "  border-radius: 0.25em;\n",
       "  color: var(--sklearn-color-text);\n",
       "  /* unfitted */\n",
       "  background-color: var(--sklearn-color-unfitted-level-0);\n",
       "}\n",
       "\n",
       "#sk-container-id-8 div.sk-toggleable__content.fitted pre {\n",
       "  /* unfitted */\n",
       "  background-color: var(--sklearn-color-fitted-level-0);\n",
       "}\n",
       "\n",
       "#sk-container-id-8 input.sk-toggleable__control:checked~div.sk-toggleable__content {\n",
       "  /* Expand drop-down */\n",
       "  max-height: 200px;\n",
       "  max-width: 100%;\n",
       "  overflow: auto;\n",
       "}\n",
       "\n",
       "#sk-container-id-8 input.sk-toggleable__control:checked~label.sk-toggleable__label-arrow:before {\n",
       "  content: \"▾\";\n",
       "}\n",
       "\n",
       "/* Pipeline/ColumnTransformer-specific style */\n",
       "\n",
       "#sk-container-id-8 div.sk-label input.sk-toggleable__control:checked~label.sk-toggleable__label {\n",
       "  color: var(--sklearn-color-text);\n",
       "  background-color: var(--sklearn-color-unfitted-level-2);\n",
       "}\n",
       "\n",
       "#sk-container-id-8 div.sk-label.fitted input.sk-toggleable__control:checked~label.sk-toggleable__label {\n",
       "  background-color: var(--sklearn-color-fitted-level-2);\n",
       "}\n",
       "\n",
       "/* Estimator-specific style */\n",
       "\n",
       "/* Colorize estimator box */\n",
       "#sk-container-id-8 div.sk-estimator input.sk-toggleable__control:checked~label.sk-toggleable__label {\n",
       "  /* unfitted */\n",
       "  background-color: var(--sklearn-color-unfitted-level-2);\n",
       "}\n",
       "\n",
       "#sk-container-id-8 div.sk-estimator.fitted input.sk-toggleable__control:checked~label.sk-toggleable__label {\n",
       "  /* fitted */\n",
       "  background-color: var(--sklearn-color-fitted-level-2);\n",
       "}\n",
       "\n",
       "#sk-container-id-8 div.sk-label label.sk-toggleable__label,\n",
       "#sk-container-id-8 div.sk-label label {\n",
       "  /* The background is the default theme color */\n",
       "  color: var(--sklearn-color-text-on-default-background);\n",
       "}\n",
       "\n",
       "/* On hover, darken the color of the background */\n",
       "#sk-container-id-8 div.sk-label:hover label.sk-toggleable__label {\n",
       "  color: var(--sklearn-color-text);\n",
       "  background-color: var(--sklearn-color-unfitted-level-2);\n",
       "}\n",
       "\n",
       "/* Label box, darken color on hover, fitted */\n",
       "#sk-container-id-8 div.sk-label.fitted:hover label.sk-toggleable__label.fitted {\n",
       "  color: var(--sklearn-color-text);\n",
       "  background-color: var(--sklearn-color-fitted-level-2);\n",
       "}\n",
       "\n",
       "/* Estimator label */\n",
       "\n",
       "#sk-container-id-8 div.sk-label label {\n",
       "  font-family: monospace;\n",
       "  font-weight: bold;\n",
       "  display: inline-block;\n",
       "  line-height: 1.2em;\n",
       "}\n",
       "\n",
       "#sk-container-id-8 div.sk-label-container {\n",
       "  text-align: center;\n",
       "}\n",
       "\n",
       "/* Estimator-specific */\n",
       "#sk-container-id-8 div.sk-estimator {\n",
       "  font-family: monospace;\n",
       "  border: 1px dotted var(--sklearn-color-border-box);\n",
       "  border-radius: 0.25em;\n",
       "  box-sizing: border-box;\n",
       "  margin-bottom: 0.5em;\n",
       "  /* unfitted */\n",
       "  background-color: var(--sklearn-color-unfitted-level-0);\n",
       "}\n",
       "\n",
       "#sk-container-id-8 div.sk-estimator.fitted {\n",
       "  /* fitted */\n",
       "  background-color: var(--sklearn-color-fitted-level-0);\n",
       "}\n",
       "\n",
       "/* on hover */\n",
       "#sk-container-id-8 div.sk-estimator:hover {\n",
       "  /* unfitted */\n",
       "  background-color: var(--sklearn-color-unfitted-level-2);\n",
       "}\n",
       "\n",
       "#sk-container-id-8 div.sk-estimator.fitted:hover {\n",
       "  /* fitted */\n",
       "  background-color: var(--sklearn-color-fitted-level-2);\n",
       "}\n",
       "\n",
       "/* Specification for estimator info (e.g. \"i\" and \"?\") */\n",
       "\n",
       "/* Common style for \"i\" and \"?\" */\n",
       "\n",
       ".sk-estimator-doc-link,\n",
       "a:link.sk-estimator-doc-link,\n",
       "a:visited.sk-estimator-doc-link {\n",
       "  float: right;\n",
       "  font-size: smaller;\n",
       "  line-height: 1em;\n",
       "  font-family: monospace;\n",
       "  background-color: var(--sklearn-color-background);\n",
       "  border-radius: 1em;\n",
       "  height: 1em;\n",
       "  width: 1em;\n",
       "  text-decoration: none !important;\n",
       "  margin-left: 1ex;\n",
       "  /* unfitted */\n",
       "  border: var(--sklearn-color-unfitted-level-1) 1pt solid;\n",
       "  color: var(--sklearn-color-unfitted-level-1);\n",
       "}\n",
       "\n",
       ".sk-estimator-doc-link.fitted,\n",
       "a:link.sk-estimator-doc-link.fitted,\n",
       "a:visited.sk-estimator-doc-link.fitted {\n",
       "  /* fitted */\n",
       "  border: var(--sklearn-color-fitted-level-1) 1pt solid;\n",
       "  color: var(--sklearn-color-fitted-level-1);\n",
       "}\n",
       "\n",
       "/* On hover */\n",
       "div.sk-estimator:hover .sk-estimator-doc-link:hover,\n",
       ".sk-estimator-doc-link:hover,\n",
       "div.sk-label-container:hover .sk-estimator-doc-link:hover,\n",
       ".sk-estimator-doc-link:hover {\n",
       "  /* unfitted */\n",
       "  background-color: var(--sklearn-color-unfitted-level-3);\n",
       "  color: var(--sklearn-color-background);\n",
       "  text-decoration: none;\n",
       "}\n",
       "\n",
       "div.sk-estimator.fitted:hover .sk-estimator-doc-link.fitted:hover,\n",
       ".sk-estimator-doc-link.fitted:hover,\n",
       "div.sk-label-container:hover .sk-estimator-doc-link.fitted:hover,\n",
       ".sk-estimator-doc-link.fitted:hover {\n",
       "  /* fitted */\n",
       "  background-color: var(--sklearn-color-fitted-level-3);\n",
       "  color: var(--sklearn-color-background);\n",
       "  text-decoration: none;\n",
       "}\n",
       "\n",
       "/* Span, style for the box shown on hovering the info icon */\n",
       ".sk-estimator-doc-link span {\n",
       "  display: none;\n",
       "  z-index: 9999;\n",
       "  position: relative;\n",
       "  font-weight: normal;\n",
       "  right: .2ex;\n",
       "  padding: .5ex;\n",
       "  margin: .5ex;\n",
       "  width: min-content;\n",
       "  min-width: 20ex;\n",
       "  max-width: 50ex;\n",
       "  color: var(--sklearn-color-text);\n",
       "  box-shadow: 2pt 2pt 4pt #999;\n",
       "  /* unfitted */\n",
       "  background: var(--sklearn-color-unfitted-level-0);\n",
       "  border: .5pt solid var(--sklearn-color-unfitted-level-3);\n",
       "}\n",
       "\n",
       ".sk-estimator-doc-link.fitted span {\n",
       "  /* fitted */\n",
       "  background: var(--sklearn-color-fitted-level-0);\n",
       "  border: var(--sklearn-color-fitted-level-3);\n",
       "}\n",
       "\n",
       ".sk-estimator-doc-link:hover span {\n",
       "  display: block;\n",
       "}\n",
       "\n",
       "/* \"?\"-specific style due to the `<a>` HTML tag */\n",
       "\n",
       "#sk-container-id-8 a.estimator_doc_link {\n",
       "  float: right;\n",
       "  font-size: 1rem;\n",
       "  line-height: 1em;\n",
       "  font-family: monospace;\n",
       "  background-color: var(--sklearn-color-background);\n",
       "  border-radius: 1rem;\n",
       "  height: 1rem;\n",
       "  width: 1rem;\n",
       "  text-decoration: none;\n",
       "  /* unfitted */\n",
       "  color: var(--sklearn-color-unfitted-level-1);\n",
       "  border: var(--sklearn-color-unfitted-level-1) 1pt solid;\n",
       "}\n",
       "\n",
       "#sk-container-id-8 a.estimator_doc_link.fitted {\n",
       "  /* fitted */\n",
       "  border: var(--sklearn-color-fitted-level-1) 1pt solid;\n",
       "  color: var(--sklearn-color-fitted-level-1);\n",
       "}\n",
       "\n",
       "/* On hover */\n",
       "#sk-container-id-8 a.estimator_doc_link:hover {\n",
       "  /* unfitted */\n",
       "  background-color: var(--sklearn-color-unfitted-level-3);\n",
       "  color: var(--sklearn-color-background);\n",
       "  text-decoration: none;\n",
       "}\n",
       "\n",
       "#sk-container-id-8 a.estimator_doc_link.fitted:hover {\n",
       "  /* fitted */\n",
       "  background-color: var(--sklearn-color-fitted-level-3);\n",
       "}\n",
       "</style><div id=\"sk-container-id-8\" class=\"sk-top-container\"><div class=\"sk-text-repr-fallback\"><pre>ElasticNetCV(cv=5, l1_ratio=[0.1, 0.5, 0.7, 0.9], max_iter=10000)</pre><b>In a Jupyter environment, please rerun this cell to show the HTML representation or trust the notebook. <br />On GitHub, the HTML representation is unable to render, please try loading this page with nbviewer.org.</b></div><div class=\"sk-container\" hidden><div class=\"sk-item\"><div class=\"sk-estimator fitted sk-toggleable\"><input class=\"sk-toggleable__control sk-hidden--visually\" id=\"sk-estimator-id-8\" type=\"checkbox\" checked><label for=\"sk-estimator-id-8\" class=\"sk-toggleable__label fitted sk-toggleable__label-arrow fitted\">&nbsp;&nbsp;ElasticNetCV<a class=\"sk-estimator-doc-link fitted\" rel=\"noreferrer\" target=\"_blank\" href=\"https://scikit-learn.org/1.4/modules/generated/sklearn.linear_model.ElasticNetCV.html\">?<span>Documentation for ElasticNetCV</span></a><span class=\"sk-estimator-doc-link fitted\">i<span>Fitted</span></span></label><div class=\"sk-toggleable__content fitted\"><pre>ElasticNetCV(cv=5, l1_ratio=[0.1, 0.5, 0.7, 0.9], max_iter=10000)</pre></div> </div></div></div></div>"
      ],
      "text/plain": [
       "ElasticNetCV(cv=5, l1_ratio=[0.1, 0.5, 0.7, 0.9], max_iter=10000)"
      ]
     },
     "execution_count": 118,
     "metadata": {},
     "output_type": "execute_result"
    }
   ],
   "source": [
    "from sklearn.linear_model import ElasticNetCV\n",
    "model = ElasticNetCV(cv=5,l1_ratio=[0.1, 0.5, 0.7, 0.9], max_iter=10000)\n",
    "model.fit(X_train, y_train)\n",
    "np.mean(model.mse_path_, axis=-1).min()"
   ]
  },
  {
   "cell_type": "code",
   "execution_count": 122,
   "metadata": {},
   "outputs": [
    {
     "data": {
      "text/plain": [
       "259.2471195818597"
      ]
     },
     "execution_count": 122,
     "metadata": {},
     "output_type": "execute_result"
    }
   ],
   "source": [
    "np.mean(model.mse_path_, axis=-1).min()"
   ]
  },
  {
   "cell_type": "code",
   "execution_count": 29,
   "metadata": {},
   "outputs": [
    {
     "name": "stdout",
     "output_type": "stream",
     "text": [
      "0.9670329670329669\n"
     ]
    }
   ],
   "source": [
    "model =LogisticRegressionCV(penalty='l1', solver = 'saga', cv=5, max_iter=10000)\n",
    "model.fit(X_train, y_train)\n",
    "print(np.mean(model.scores_[1], axis=0).max())"
   ]
  },
  {
   "cell_type": "code",
   "execution_count": 33,
   "metadata": {},
   "outputs": [
    {
     "data": {
      "text/plain": [
       "array([[0.62637363, 0.62637363, 0.62637363, 0.94505495, 0.94505495,\n",
       "        0.95604396, 0.93406593, 0.93406593, 0.93406593, 0.93406593],\n",
       "       [0.62637363, 0.62637363, 0.62637363, 0.92307692, 0.92307692,\n",
       "        0.94505495, 0.93406593, 0.92307692, 0.92307692, 0.92307692],\n",
       "       [0.62637363, 0.62637363, 0.62637363, 0.97802198, 1.        ,\n",
       "        0.98901099, 0.98901099, 0.98901099, 0.98901099, 0.98901099],\n",
       "       [0.62637363, 0.62637363, 0.62637363, 0.93406593, 0.96703297,\n",
       "        0.97802198, 0.96703297, 0.96703297, 0.96703297, 0.96703297],\n",
       "       [0.62637363, 0.62637363, 0.62637363, 0.96703297, 0.98901099,\n",
       "        0.96703297, 0.96703297, 0.96703297, 0.96703297, 0.96703297]])"
      ]
     },
     "execution_count": 33,
     "metadata": {},
     "output_type": "execute_result"
    }
   ],
   "source": [
    "model.scores_[1]"
   ]
  },
  {
   "cell_type": "code",
   "execution_count": 30,
   "metadata": {},
   "outputs": [
    {
     "name": "stdout",
     "output_type": "stream",
     "text": [
      "Training Accuracy: 0.989010989010989\n"
     ]
    }
   ],
   "source": [
    "# compute accuracy on the training set\n",
    "y_train_pred = model.predict(X_train)\n",
    "accuracy_train = np.mean(y_train == y_train_pred)\n",
    "print('Training Accuracy:', accuracy_train)"
   ]
  },
  {
   "cell_type": "code",
   "execution_count": 27,
   "metadata": {},
   "outputs": [
    {
     "name": "stdout",
     "output_type": "stream",
     "text": [
      "0.9736263736263737\n"
     ]
    }
   ],
   "source": [
    "model =LogisticRegressionCV(penalty='l2', cv=5, max_iter=10000)\n",
    "model.fit(X_train, y_train)\n",
    "print(np.mean(model.scores_[1], axis=0).max())"
   ]
  },
  {
   "cell_type": "code",
   "execution_count": 28,
   "metadata": {},
   "outputs": [
    {
     "name": "stdout",
     "output_type": "stream",
     "text": [
      "0.9758241758241759\n"
     ]
    }
   ],
   "source": [
    "model =LogisticRegressionCV(penalty='elasticnet',l1_ratios=[0.1, 0.5, 0.7, 0.9], solver = 'saga', cv=5, max_iter=10000)\n",
    "model.fit(X_train, y_train)\n",
    "print(np.mean(model.scores_[1], axis=0).max())"
   ]
  },
  {
   "cell_type": "code",
   "execution_count": null,
   "metadata": {},
   "outputs": [],
   "source": []
  },
  {
   "cell_type": "code",
   "execution_count": null,
   "metadata": {},
   "outputs": [],
   "source": []
  },
  {
   "cell_type": "code",
   "execution_count": null,
   "metadata": {},
   "outputs": [],
   "source": []
  },
  {
   "cell_type": "code",
   "execution_count": 79,
   "metadata": {},
   "outputs": [
    {
     "data": {
      "text/plain": [
       "0.8625"
      ]
     },
     "execution_count": 79,
     "metadata": {},
     "output_type": "execute_result"
    }
   ],
   "source": [
    "np.mean(model.scores_[1], axis=0).max()"
   ]
  },
  {
   "cell_type": "code",
   "execution_count": 80,
   "metadata": {},
   "outputs": [
    {
     "data": {
      "text/plain": [
       "array([[0.843125, 0.843125, 0.843125, 0.843125],\n",
       "       [0.843125, 0.843125, 0.843125, 0.843125],\n",
       "       [0.853125, 0.84625 , 0.843125, 0.843125],\n",
       "       [0.8625  , 0.856875, 0.855625, 0.855625],\n",
       "       [0.85875 , 0.86    , 0.859375, 0.859375],\n",
       "       [0.854375, 0.854375, 0.85375 , 0.853125],\n",
       "       [0.851875, 0.851875, 0.851875, 0.851875],\n",
       "       [0.851875, 0.851875, 0.851875, 0.851875],\n",
       "       [0.851875, 0.851875, 0.851875, 0.851875],\n",
       "       [0.851875, 0.851875, 0.851875, 0.851875]])"
      ]
     },
     "execution_count": 80,
     "metadata": {},
     "output_type": "execute_result"
    }
   ],
   "source": [
    "np.mean(model.scores_[1], axis=0)"
   ]
  },
  {
   "cell_type": "code",
   "execution_count": 81,
   "metadata": {},
   "outputs": [
    {
     "data": {
      "text/plain": [
       "array([1.00000000e-04, 7.74263683e-04, 5.99484250e-03, 4.64158883e-02,\n",
       "       3.59381366e-01, 2.78255940e+00, 2.15443469e+01, 1.66810054e+02,\n",
       "       1.29154967e+03, 1.00000000e+04])"
      ]
     },
     "execution_count": 81,
     "metadata": {},
     "output_type": "execute_result"
    }
   ],
   "source": [
    "model.Cs_"
   ]
  },
  {
   "cell_type": "code",
   "execution_count": 82,
   "metadata": {},
   "outputs": [
    {
     "data": {
      "text/plain": [
       "array([0.04641589])"
      ]
     },
     "execution_count": 82,
     "metadata": {},
     "output_type": "execute_result"
    }
   ],
   "source": [
    "model.C_"
   ]
  },
  {
   "cell_type": "code",
   "execution_count": 58,
   "metadata": {},
   "outputs": [
    {
     "ename": "IndexError",
     "evalue": "index 3 is out of bounds for axis 1 with size 3",
     "output_type": "error",
     "traceback": [
      "\u001b[0;31m---------------------------------------------------------------------------\u001b[0m",
      "\u001b[0;31mIndexError\u001b[0m                                Traceback (most recent call last)",
      "Cell \u001b[0;32mIn[58], line 5\u001b[0m\n\u001b[1;32m      2\u001b[0m optimal_l1_index \u001b[39m=\u001b[39m np\u001b[39m.\u001b[39margmax([score\u001b[39m.\u001b[39mmean() \u001b[39mfor\u001b[39;00m score \u001b[39min\u001b[39;00m model\u001b[39m.\u001b[39mscores_[\u001b[39m1\u001b[39m]])  \u001b[39m# Optimal l1_ratio index\u001b[39;00m\n\u001b[1;32m      4\u001b[0m \u001b[39m# Compute the mean cross-validated score for the optimal C and l1_ratio\u001b[39;00m\n\u001b[0;32m----> 5\u001b[0m mean_cv_score_optimal \u001b[39m=\u001b[39m model\u001b[39m.\u001b[39;49mscores_[\u001b[39m1\u001b[39;49m][optimal_l1_index][:, optimal_c_index]\u001b[39m.\u001b[39mmean()\n\u001b[1;32m      7\u001b[0m \u001b[39m# Print results\u001b[39;00m\n\u001b[1;32m      8\u001b[0m \u001b[39mprint\u001b[39m(\u001b[39mf\u001b[39m\u001b[39m\"\u001b[39m\u001b[39mMean cross-validated score (optimal): \u001b[39m\u001b[39m{\u001b[39;00mmean_cv_score_optimal\u001b[39m}\u001b[39;00m\u001b[39m\"\u001b[39m)\n",
      "\u001b[0;31mIndexError\u001b[0m: index 3 is out of bounds for axis 1 with size 3"
     ]
    }
   ],
   "source": [
    "optimal_c_index = np.where(model.Cs_ == model.C_[0])[0][0]  # Optimal C value index\n",
    "optimal_l1_index = np.argmax([score.mean() for score in model.scores_[1]])  # Optimal l1_ratio index\n",
    "\n",
    "# Compute the mean cross-validated score for the optimal C and l1_ratio\n",
    "mean_cv_score_optimal = model.scores_[1][optimal_l1_index][:, optimal_c_index].mean()\n",
    "\n",
    "# Print results\n",
    "print(f\"Mean cross-validated score (optimal): {mean_cv_score_optimal}\")\n",
    "print(f\"Test set score: {model.score(X_test, y_test)}\")"
   ]
  },
  {
   "cell_type": "code",
   "execution_count": 57,
   "metadata": {},
   "outputs": [
    {
     "ename": "NameError",
     "evalue": "name 'optimal_l1_index' is not defined",
     "output_type": "error",
     "traceback": [
      "\u001b[0;31m---------------------------------------------------------------------------\u001b[0m",
      "\u001b[0;31mNameError\u001b[0m                                 Traceback (most recent call last)",
      "Cell \u001b[0;32mIn[57], line 1\u001b[0m\n\u001b[0;32m----> 1\u001b[0m optimal_l1_index\n",
      "\u001b[0;31mNameError\u001b[0m: name 'optimal_l1_index' is not defined"
     ]
    }
   ],
   "source": [
    "optimal_l1_index"
   ]
  },
  {
   "cell_type": "code",
   "execution_count": 53,
   "metadata": {},
   "outputs": [
    {
     "data": {
      "text/plain": [
       "array([1.00000000e-04, 7.74263683e-04, 5.99484250e-03, 4.64158883e-02,\n",
       "       3.59381366e-01, 2.78255940e+00, 2.15443469e+01, 1.66810054e+02,\n",
       "       1.29154967e+03, 1.00000000e+04])"
      ]
     },
     "execution_count": 53,
     "metadata": {},
     "output_type": "execute_result"
    }
   ],
   "source": [
    "model.Cs_"
   ]
  },
  {
   "cell_type": "code",
   "execution_count": 54,
   "metadata": {},
   "outputs": [
    {
     "data": {
      "text/plain": [
       "array([0.04641589])"
      ]
     },
     "execution_count": 54,
     "metadata": {},
     "output_type": "execute_result"
    }
   ],
   "source": [
    "model.C_"
   ]
  },
  {
   "cell_type": "code",
   "execution_count": 51,
   "metadata": {},
   "outputs": [
    {
     "data": {
      "text/plain": [
       "array([[[0.840625, 0.840625, 0.840625],\n",
       "        [0.840625, 0.840625, 0.840625],\n",
       "        [0.85625 , 0.846875, 0.840625],\n",
       "        [0.859375, 0.859375, 0.859375],\n",
       "        [0.853125, 0.853125, 0.853125],\n",
       "        [0.85    , 0.85    , 0.846875],\n",
       "        [0.84375 , 0.84375 , 0.84375 ],\n",
       "        [0.84375 , 0.84375 , 0.84375 ],\n",
       "        [0.84375 , 0.84375 , 0.84375 ],\n",
       "        [0.84375 , 0.84375 , 0.84375 ]],\n",
       "\n",
       "       [[0.84375 , 0.84375 , 0.84375 ],\n",
       "        [0.84375 , 0.84375 , 0.84375 ],\n",
       "        [0.84375 , 0.84375 , 0.84375 ],\n",
       "        [0.8625  , 0.846875, 0.84375 ],\n",
       "        [0.853125, 0.85625 , 0.859375],\n",
       "        [0.85    , 0.85    , 0.85    ],\n",
       "        [0.85    , 0.85    , 0.85    ],\n",
       "        [0.85    , 0.85    , 0.85    ],\n",
       "        [0.85    , 0.85    , 0.85    ],\n",
       "        [0.85    , 0.85    , 0.85    ]],\n",
       "\n",
       "       [[0.84375 , 0.84375 , 0.84375 ],\n",
       "        [0.84375 , 0.84375 , 0.84375 ],\n",
       "        [0.840625, 0.846875, 0.84375 ],\n",
       "        [0.85625 , 0.84375 , 0.846875],\n",
       "        [0.85625 , 0.85625 , 0.85625 ],\n",
       "        [0.859375, 0.859375, 0.859375],\n",
       "        [0.853125, 0.853125, 0.853125],\n",
       "        [0.853125, 0.853125, 0.853125],\n",
       "        [0.853125, 0.853125, 0.853125],\n",
       "        [0.853125, 0.853125, 0.853125]],\n",
       "\n",
       "       [[0.84375 , 0.84375 , 0.84375 ],\n",
       "        [0.84375 , 0.84375 , 0.84375 ],\n",
       "        [0.865625, 0.846875, 0.84375 ],\n",
       "        [0.871875, 0.86875 , 0.86875 ],\n",
       "        [0.86875 , 0.871875, 0.865625],\n",
       "        [0.85625 , 0.853125, 0.85    ],\n",
       "        [0.853125, 0.853125, 0.853125],\n",
       "        [0.853125, 0.853125, 0.853125],\n",
       "        [0.853125, 0.853125, 0.853125],\n",
       "        [0.853125, 0.853125, 0.853125]],\n",
       "\n",
       "       [[0.84375 , 0.84375 , 0.84375 ],\n",
       "        [0.84375 , 0.84375 , 0.84375 ],\n",
       "        [0.859375, 0.846875, 0.84375 ],\n",
       "        [0.8625  , 0.865625, 0.859375],\n",
       "        [0.8625  , 0.8625  , 0.8625  ],\n",
       "        [0.85625 , 0.859375, 0.859375],\n",
       "        [0.859375, 0.859375, 0.859375],\n",
       "        [0.859375, 0.859375, 0.859375],\n",
       "        [0.859375, 0.859375, 0.859375],\n",
       "        [0.859375, 0.859375, 0.859375]]])"
      ]
     },
     "execution_count": 51,
     "metadata": {},
     "output_type": "execute_result"
    }
   ],
   "source": [
    "model.scores_[1]"
   ]
  },
  {
   "cell_type": "code",
   "execution_count": null,
   "metadata": {},
   "outputs": [],
   "source": []
  },
  {
   "cell_type": "code",
   "execution_count": null,
   "metadata": {},
   "outputs": [],
   "source": [
    "model =LogisticRegressionCV(penalty='l1', solver = 'saga', cv=5, max_iter=10000)\n",
    "model.fit(X, y)\n",
    "optimal_c_index = np.where(model.Cs_ == model.C_[0])[0][0]\n",
    "mean_cv_score_optimal = model.scores_[1][:, optimal_c_index].mean()\n",
    "print(mean_cv_score_optimal)"
   ]
  },
  {
   "cell_type": "code",
   "execution_count": null,
   "metadata": {},
   "outputs": [],
   "source": []
  },
  {
   "cell_type": "code",
   "execution_count": 20,
   "metadata": {},
   "outputs": [
    {
     "name": "stdout",
     "output_type": "stream",
     "text": [
      "Mean CV score for the optimal C: 0.8585\n"
     ]
    }
   ],
   "source": [
    "optimal_c_index = np.where(model.Cs_ == model.C_[0])[0][0]\n",
    "mean_cv_score_optimal = model.scores_[1][:, optimal_c_index].mean()"
   ]
  },
  {
   "cell_type": "code",
   "execution_count": null,
   "metadata": {},
   "outputs": [],
   "source": [
    "model.Cs_"
   ]
  },
  {
   "cell_type": "code",
   "execution_count": 18,
   "metadata": {},
   "outputs": [
    {
     "name": "stdout",
     "output_type": "stream",
     "text": [
      "Mean CV scores for each fold: [0.85725 0.8535  0.84325 0.85375 0.85475]\n"
     ]
    }
   ],
   "source": [
    "# 'scores_' is a dictionary where keys are the classes and values are arrays of cross-validation scores\n",
    "cv_scores = model.scores_\n",
    "\n",
    "# For binary classification, get scores for the positive class (assumes classes are 0 and 1)\n",
    "positive_class_scores = cv_scores[1]  # Replace '1' with the appropriate class if needed\n",
    "\n",
    "# Compute mean cross-validation score for each fold\n",
    "mean_cv_scores = positive_class_scores.mean(axis=0)\n",
    "print(\"Mean CV scores for each fold:\", mean_cv_scores)"
   ]
  },
  {
   "cell_type": "code",
   "execution_count": 16,
   "metadata": {},
   "outputs": [
    {
     "data": {
      "text/plain": [
       "{1.0: array([[[ 0.        ,  0.        ,  0.        , ...,  0.        ,\n",
       "           0.        , -0.59743822],\n",
       "         [ 0.        ,  0.        ,  0.        , ...,  0.        ,\n",
       "           0.        , -0.87520469],\n",
       "         [ 0.        ,  0.        ,  0.        , ...,  0.        ,\n",
       "           0.        , -1.71796625],\n",
       "         ...,\n",
       "         [-0.53351644, -2.25940196, -0.1795186 , ...,  0.79067552,\n",
       "           0.82586326, -2.19200146],\n",
       "         [-0.5372369 , -2.27201086, -0.17950076, ...,  0.79415234,\n",
       "           0.83763395, -2.19219036],\n",
       "         [-0.53777537, -2.273832  , -0.17949235, ...,  0.79465248,\n",
       "           0.83933726, -2.19221569]],\n",
       " \n",
       "        [[ 0.        ,  0.        ,  0.        , ...,  0.        ,\n",
       "           0.        , -0.56040027],\n",
       "         [ 0.        ,  0.        ,  0.        , ...,  0.        ,\n",
       "           0.        , -0.82944166],\n",
       "         [ 0.        ,  0.        ,  0.        , ...,  0.        ,\n",
       "           0.        , -1.7196825 ],\n",
       "         ...,\n",
       "         [ 0.8874702 , -0.41862437, -0.13549787, ...,  0.36657965,\n",
       "          -0.91003475, -2.16197694],\n",
       "         [ 0.89227544, -0.41849195, -0.13549737, ...,  0.36912068,\n",
       "          -0.9113024 , -2.16209278],\n",
       "         [ 0.89289891, -0.41847264, -0.13549486, ...,  0.36944999,\n",
       "          -0.91146527, -2.16210699]],\n",
       " \n",
       "        [[ 0.        ,  0.        ,  0.        , ...,  0.        ,\n",
       "           0.        , -0.58409192],\n",
       "         [ 0.        ,  0.        ,  0.        , ...,  0.        ,\n",
       "           0.        , -0.86322149],\n",
       "         [ 0.        ,  0.        ,  0.        , ...,  0.        ,\n",
       "           0.        , -1.72661797],\n",
       "         ...,\n",
       "         [ 1.29960258, -2.08672596, -0.14085432, ...,  0.98258794,\n",
       "           0.70998146, -2.1694511 ],\n",
       "         [ 1.30576744, -2.10075272, -0.14092813, ...,  0.98804727,\n",
       "           0.72264314, -2.16967736],\n",
       "         [ 1.30651306, -2.1024633 , -0.14093383, ...,  0.98871096,\n",
       "           0.72418969, -2.16970229]],\n",
       " \n",
       "        [[ 0.        ,  0.        ,  0.        , ...,  0.        ,\n",
       "           0.        , -0.59221052],\n",
       "         [ 0.        ,  0.        ,  0.        , ...,  0.        ,\n",
       "           0.        , -0.87054536],\n",
       "         [ 0.        ,  0.        ,  0.        , ...,  0.        ,\n",
       "           0.        , -1.72088744],\n",
       "         ...,\n",
       "         [ 1.18791137, -2.42580417, -0.18317256, ...,  0.23729554,\n",
       "           1.18207966, -2.1668999 ],\n",
       "         [ 1.19170425, -2.43883072, -0.18331454, ...,  0.2394454 ,\n",
       "           1.19441244, -2.16705153],\n",
       "         [ 1.19227049, -2.44078493, -0.18333045, ...,  0.23977001,\n",
       "           1.1962649 , -2.16707228]],\n",
       " \n",
       "        [[ 0.        ,  0.        ,  0.        , ...,  0.        ,\n",
       "           0.        , -0.55271819],\n",
       "         [ 0.        ,  0.        ,  0.        , ...,  0.        ,\n",
       "           0.        , -0.841539  ],\n",
       "         [ 0.        ,  0.        ,  0.        , ...,  0.        ,\n",
       "           0.        , -1.71396493],\n",
       "         ...,\n",
       "         [ 1.01532975, -1.17192213, -0.23805102, ...,  0.77131597,\n",
       "           0.18404203, -2.16689917],\n",
       "         [ 1.02532731, -1.18289912, -0.23808144, ...,  0.78065171,\n",
       "           0.19303113, -2.16727257],\n",
       "         [ 1.02661048, -1.18432086, -0.23808057, ...,  0.78186212,\n",
       "           0.19420149, -2.16731935]]])}"
      ]
     },
     "execution_count": 16,
     "metadata": {},
     "output_type": "execute_result"
    }
   ],
   "source": [
    "model.coefs_paths_"
   ]
  },
  {
   "cell_type": "code",
   "execution_count": 13,
   "metadata": {},
   "outputs": [
    {
     "data": {
      "text/plain": [
       "array([[1.94314928, 1.90211883, 1.54589127],\n",
       "       [1.17325286, 1.18581533, 1.2852184 ],\n",
       "       [1.89360901, 1.84943164, 1.53011218],\n",
       "       ...,\n",
       "       [2.01460368, 2.01930823, 2.03673588],\n",
       "       [6.60199672, 6.59819412, 6.62457306],\n",
       "       [0.06044319, 0.07083127, 0.20115005]])"
      ]
     },
     "execution_count": 13,
     "metadata": {},
     "output_type": "execute_result"
    }
   ],
   "source": [
    "ridge.cv_values_"
   ]
  },
  {
   "cell_type": "code",
   "execution_count": 14,
   "metadata": {},
   "outputs": [
    {
     "data": {
      "text/plain": [
       "0.1"
      ]
     },
     "execution_count": 14,
     "metadata": {},
     "output_type": "execute_result"
    }
   ],
   "source": [
    "ridge.alpha_"
   ]
  },
  {
   "cell_type": "code",
   "execution_count": null,
   "metadata": {},
   "outputs": [],
   "source": [
    "assert False"
   ]
  },
  {
   "cell_type": "code",
   "execution_count": null,
   "metadata": {},
   "outputs": [],
   "source": []
  },
  {
   "cell_type": "code",
   "execution_count": null,
   "metadata": {},
   "outputs": [],
   "source": [
    "y[15]"
   ]
  },
  {
   "cell_type": "code",
   "execution_count": null,
   "metadata": {},
   "outputs": [],
   "source": [
    "0.242974+0.33677068-1.2268368+2"
   ]
  },
  {
   "cell_type": "code",
   "execution_count": null,
   "metadata": {},
   "outputs": [],
   "source": [
    "support"
   ]
  },
  {
   "cell_type": "code",
   "execution_count": null,
   "metadata": {},
   "outputs": [],
   "source": [
    "X[0]"
   ]
  },
  {
   "cell_type": "code",
   "execution_count": null,
   "metadata": {},
   "outputs": [],
   "source": [
    "0.5324-0.404-0.5635"
   ]
  },
  {
   "cell_type": "code",
   "execution_count": null,
   "metadata": {},
   "outputs": [],
   "source": [
    "y[0]"
   ]
  },
  {
   "cell_type": "code",
   "execution_count": null,
   "metadata": {},
   "outputs": [],
   "source": [
    "from sklearn.linear_model import LassoCV\n",
    "X_train, X_test, y_train, y_test = train_test_split(X, y, test_size=0.33, random_state=42)\n",
    "rf = RandomForestRegressor(n_estimators=100, min_samples_leaf=5, max_features=0.33, random_state=42)\n",
    "rf.fit(X_train, y_train)\n",
    "rf_plus_base_lasso = RandomForestPlusRegressor(rf_model=rf, prediction_model=LassoCV(cv=5, max_iter=8000))\n",
    "rf_plus_base_lasso.fit(X_train, y_train)"
   ]
  },
  {
   "cell_type": "code",
   "execution_count": null,
   "metadata": {},
   "outputs": [],
   "source": [
    "rf_plus_alo_mdi = RFPlusMDI(rf_plus_base_lasso, mode = 'only_k', evaluate_on=\"all\")\n",
    "local_fi_score_train = rf_plus_alo_mdi.explain_linear_partial(X=X_train, y=y_train, ranking = True)\n",
    "local_fi_score_bootstrap_train = rf_plus_alo_mdi.explain_linear_partial(X=X_train, y=y_train, ranking = True, bootstrap=True)"
   ]
  },
  {
   "cell_type": "code",
   "execution_count": null,
   "metadata": {},
   "outputs": [],
   "source": [
    "local_fi_score_train[4]"
   ]
  },
  {
   "cell_type": "code",
   "execution_count": null,
   "metadata": {},
   "outputs": [],
   "source": [
    "roc_auc_score(support, local_fi_score_train[4])"
   ]
  },
  {
   "cell_type": "code",
   "execution_count": null,
   "metadata": {},
   "outputs": [],
   "source": [
    "local_fi_score_bootstrap_train.shape"
   ]
  },
  {
   "cell_type": "code",
   "execution_count": null,
   "metadata": {},
   "outputs": [],
   "source": [
    "local_fi_score_bootstrap_train[150, :,:].shape"
   ]
  },
  {
   "cell_type": "code",
   "execution_count": null,
   "metadata": {},
   "outputs": [],
   "source": [
    "roc_auc_score(support, np.mean(np.argsort(np.argsort(np.abs(local_fi_score_bootstrap_train[10, :,:]), axis=0), axis=0), axis=1))"
   ]
  },
  {
   "cell_type": "code",
   "execution_count": null,
   "metadata": {},
   "outputs": [],
   "source": [
    "np.argsort(np.argsort(np.abs(local_fi_score_bootstrap_train[150, :,:])))"
   ]
  },
  {
   "cell_type": "code",
   "execution_count": null,
   "metadata": {},
   "outputs": [],
   "source": [
    "X.shape"
   ]
  },
  {
   "cell_type": "code",
   "execution_count": null,
   "metadata": {},
   "outputs": [],
   "source": [
    "np.mean(local_fi_score_bootstrap_train[2, :,:], axis=-1)"
   ]
  },
  {
   "cell_type": "code",
   "execution_count": null,
   "metadata": {},
   "outputs": [],
   "source": [
    "treeshap_train, _ = tree_shap_evaluation_RF_retrain(X_train, y_train, X_test, fit=rf, mode=\"absolute\")"
   ]
  },
  {
   "cell_type": "code",
   "execution_count": null,
   "metadata": {},
   "outputs": [],
   "source": [
    "auroc = []\n",
    "for i in range(local_fi_score_train.shape[0]):\n",
    "    fi_data_i = local_fi_score_train[i]    \n",
    "    auroc.append(roc_auc_score(support, fi_data_i))\n",
    "print(np.mean(auroc))"
   ]
  },
  {
   "cell_type": "code",
   "execution_count": null,
   "metadata": {},
   "outputs": [],
   "source": [
    "auroc_shap = []\n",
    "for i in range(treeshap_train.shape[0]):\n",
    "    fi_data_i = treeshap_train[i]   \n",
    "    auroc_shap.append(roc_auc_score(support, fi_data_i))\n",
    "print(np.mean(auroc_shap))"
   ]
  },
  {
   "cell_type": "code",
   "execution_count": null,
   "metadata": {},
   "outputs": [],
   "source": [
    "auroc_bootstrap = []\n",
    "for i in range(local_fi_score_bootstrap_train.shape[0]):\n",
    "    fi_data_i = local_fi_score_bootstrap_train[i]    \n",
    "    auroc_bootstrap.append(roc_auc_score(support, fi_data_i))\n",
    "print(np.mean(auroc_bootstrap))"
   ]
  },
  {
   "cell_type": "code",
   "execution_count": null,
   "metadata": {},
   "outputs": [],
   "source": [
    "auroc_bootstrap[4]"
   ]
  },
  {
   "cell_type": "code",
   "execution_count": null,
   "metadata": {},
   "outputs": [],
   "source": [
    "auroc[4]"
   ]
  },
  {
   "cell_type": "code",
   "execution_count": null,
   "metadata": {},
   "outputs": [],
   "source": [
    "auroc_bootstrap = np.array(auroc_bootstrap)\n",
    "auroc = np.array(auroc)\n",
    "\n",
    "indices = auroc_bootstrap > auroc\n",
    "gains = auroc_bootstrap[indices] - auroc[indices]\n",
    "print(\"Gains:\", sum(gains))\n",
    "print(\"Number of gains:\", sum(indices))"
   ]
  },
  {
   "cell_type": "code",
   "execution_count": null,
   "metadata": {},
   "outputs": [],
   "source": [
    "indices = auroc_bootstrap < auroc\n",
    "gains = auroc_bootstrap[indices] - auroc[indices]\n",
    "print(\"Gains:\", sum(gains))\n",
    "print(\"Number of gains:\", sum(indices))"
   ]
  },
  {
   "cell_type": "code",
   "execution_count": null,
   "metadata": {},
   "outputs": [],
   "source": [
    "gains[4]"
   ]
  },
  {
   "cell_type": "code",
   "execution_count": null,
   "metadata": {},
   "outputs": [],
   "source": [
    "auroc_bootstrap[4]"
   ]
  },
  {
   "cell_type": "code",
   "execution_count": null,
   "metadata": {},
   "outputs": [],
   "source": [
    "auroc[4]"
   ]
  },
  {
   "cell_type": "code",
   "execution_count": null,
   "metadata": {},
   "outputs": [],
   "source": [
    "np.argsort(-1*support)"
   ]
  },
  {
   "cell_type": "code",
   "execution_count": null,
   "metadata": {},
   "outputs": [],
   "source": [
    "np.argsort(-1*local_fi_score_train[4])"
   ]
  },
  {
   "cell_type": "code",
   "execution_count": null,
   "metadata": {},
   "outputs": [],
   "source": [
    "np.argsort(-1*local_fi_score_bootstrap_train[4])"
   ]
  },
  {
   "cell_type": "code",
   "execution_count": null,
   "metadata": {},
   "outputs": [],
   "source": []
  },
  {
   "cell_type": "code",
   "execution_count": null,
   "metadata": {},
   "outputs": [],
   "source": []
  },
  {
   "cell_type": "code",
   "execution_count": null,
   "metadata": {},
   "outputs": [],
   "source": []
  },
  {
   "cell_type": "code",
   "execution_count": null,
   "metadata": {},
   "outputs": [],
   "source": [
    "indices = auroc_bootstrap ==  auroc\n",
    "gains = auroc_bootstrap[indices] - auroc[indices]\n",
    "print(\"Gains:\", sum(gains))\n",
    "print(\"Number of gains:\", sum(indices))"
   ]
  },
  {
   "cell_type": "code",
   "execution_count": null,
   "metadata": {},
   "outputs": [],
   "source": [
    "sum(auroc)"
   ]
  },
  {
   "cell_type": "code",
   "execution_count": null,
   "metadata": {},
   "outputs": [],
   "source": [
    "sum(auroc_bootstrap)"
   ]
  },
  {
   "cell_type": "code",
   "execution_count": null,
   "metadata": {},
   "outputs": [],
   "source": []
  },
  {
   "cell_type": "code",
   "execution_count": null,
   "metadata": {},
   "outputs": [],
   "source": [
    "print(sum(np.array(auroc_bootstrap) < np.array(auroc)))"
   ]
  },
  {
   "cell_type": "code",
   "execution_count": null,
   "metadata": {},
   "outputs": [],
   "source": [
    "for i in range(local_fi_score_train.shape[0]):\n",
    "    if auroc_bootstrap[i] > auroc[i]:\n",
    "        print(i)\n",
    "        print(auroc_bootstrap[i] - auroc[i])"
   ]
  },
  {
   "cell_type": "code",
   "execution_count": null,
   "metadata": {},
   "outputs": [],
   "source": []
  },
  {
   "cell_type": "code",
   "execution_count": null,
   "metadata": {},
   "outputs": [],
   "source": []
  },
  {
   "cell_type": "code",
   "execution_count": null,
   "metadata": {},
   "outputs": [],
   "source": []
  },
  {
   "cell_type": "code",
   "execution_count": null,
   "metadata": {},
   "outputs": [],
   "source": []
  },
  {
   "cell_type": "code",
   "execution_count": null,
   "metadata": {},
   "outputs": [],
   "source": []
  },
  {
   "cell_type": "code",
   "execution_count": null,
   "metadata": {},
   "outputs": [],
   "source": [
    "assert False"
   ]
  },
  {
   "cell_type": "code",
   "execution_count": null,
   "metadata": {},
   "outputs": [],
   "source": []
  },
  {
   "cell_type": "code",
   "execution_count": null,
   "metadata": {},
   "outputs": [],
   "source": []
  },
  {
   "cell_type": "code",
   "execution_count": null,
   "metadata": {},
   "outputs": [],
   "source": [
    "np.abs(rf_plus.estimators_[0].coef_)[:20]"
   ]
  },
  {
   "cell_type": "code",
   "execution_count": null,
   "metadata": {},
   "outputs": [],
   "source": [
    "rf_plus.estimators_[0].loo_coefficients_[:, :-1][0][:20]"
   ]
  },
  {
   "cell_type": "code",
   "execution_count": null,
   "metadata": {},
   "outputs": [],
   "source": [
    "np.argsort(-1*np.argsort(np.argsort(np.abs(rf_plus.estimators_[0].coef_))))"
   ]
  },
  {
   "cell_type": "code",
   "execution_count": null,
   "metadata": {},
   "outputs": [],
   "source": [
    "np.argsort(-1*np.argsort(np.argsort(np.abs(rf_plus.estimators_[0].loo_coefficients_[:, :-1][2]))))"
   ]
  },
  {
   "cell_type": "code",
   "execution_count": null,
   "metadata": {},
   "outputs": [],
   "source": [
    "sum = 0\n",
    "for i in range(X_train.shape[0]):\n",
    "    sort_coef = np.argsort(-1 * np.argsort(np.argsort(np.abs(rf_plus.estimators_[0].coef_))))\n",
    "    sort_loo_coefficients = np.argsort(-1 * np.argsort(np.argsort(np.abs(rf_plus.estimators_[0].loo_coefficients_[:, :-1][i]))))\n",
    "    if np.array_equal(sort_coef[:5], sort_loo_coefficients[:5]):\n",
    "        sum += 1\n",
    "print(sum)\n"
   ]
  },
  {
   "cell_type": "code",
   "execution_count": null,
   "metadata": {},
   "outputs": [],
   "source": []
  },
  {
   "cell_type": "code",
   "execution_count": null,
   "metadata": {},
   "outputs": [],
   "source": []
  },
  {
   "cell_type": "code",
   "execution_count": null,
   "metadata": {},
   "outputs": [],
   "source": [
    "assert False"
   ]
  },
  {
   "cell_type": "code",
   "execution_count": null,
   "metadata": {},
   "outputs": [],
   "source": [
    "rf_plus.estimators_[0].loo_coefficients_[:, :-1][0]"
   ]
  },
  {
   "cell_type": "code",
   "execution_count": null,
   "metadata": {},
   "outputs": [],
   "source": [
    "np.argsort(np.abs(rf_plus.estimators_[0].coef_[:, :-1][0]))"
   ]
  },
  {
   "cell_type": "code",
   "execution_count": null,
   "metadata": {},
   "outputs": [],
   "source": [
    "np.argsort(np.abs(rf_plus.estimators_[0].loo_coefficients_[:, :-1][0]))"
   ]
  },
  {
   "cell_type": "code",
   "execution_count": null,
   "metadata": {},
   "outputs": [],
   "source": [
    "rf_plus_alo_mdi = AloRFPlusMDI(rf_plus, mode = 'only_k', evaluate_on=\"all\")\n",
    "local_fi_score_train = rf_plus_alo_mdi.explain_linear_partial(X=X_train, y=y_train, ranking = True)"
   ]
  },
  {
   "cell_type": "code",
   "execution_count": null,
   "metadata": {},
   "outputs": [],
   "source": [
    "rf_plus_mdi = RFPlusMDI(rf_plus, mode = 'only_k', evaluate_on=\"all\")\n",
    "local_fi_score_train = rf_plus_mdi.explain_linear_partial(X=X_train, y=y_train, ranking = True)"
   ]
  },
  {
   "cell_type": "code",
   "execution_count": null,
   "metadata": {},
   "outputs": [],
   "source": [
    "rf_plus_mdi.explain_linear_partial(X=X_train, y=y_train, ranking = True, bootstrap=True)"
   ]
  },
  {
   "cell_type": "code",
   "execution_count": null,
   "metadata": {},
   "outputs": [],
   "source": [
    "rf_plus_mdi.explain_linear_partial(X=X_train, y=y_train, ranking = True, bootstrap=False)"
   ]
  },
  {
   "cell_type": "code",
   "execution_count": null,
   "metadata": {},
   "outputs": [],
   "source": []
  },
  {
   "cell_type": "code",
   "execution_count": null,
   "metadata": {},
   "outputs": [],
   "source": []
  },
  {
   "cell_type": "code",
   "execution_count": null,
   "metadata": {},
   "outputs": [],
   "source": [
    "local_fi_score_train"
   ]
  },
  {
   "cell_type": "code",
   "execution_count": null,
   "metadata": {},
   "outputs": [],
   "source": []
  },
  {
   "cell_type": "code",
   "execution_count": null,
   "metadata": {},
   "outputs": [],
   "source": []
  },
  {
   "cell_type": "code",
   "execution_count": null,
   "metadata": {},
   "outputs": [],
   "source": [
    "#plot y\n",
    "plt.hist(y)\n",
    "plt.show()"
   ]
  },
  {
   "cell_type": "code",
   "execution_count": null,
   "metadata": {},
   "outputs": [],
   "source": [
    "y = sample_real_data_y(source=\"openml\", task_id = 361247)"
   ]
  },
  {
   "cell_type": "code",
   "execution_count": null,
   "metadata": {},
   "outputs": [],
   "source": [
    "y"
   ]
  },
  {
   "cell_type": "code",
   "execution_count": null,
   "metadata": {},
   "outputs": [],
   "source": [
    "\"openml_361242\" #\"openml_361243\" #\"openml_361247\" #\"openml_361251\" \"openml_361253\" \"openml_361254\" \"openml_361256\" \"openml_361259\" \"openml_361260\"\"openml_361622\"\n",
    "for task_id in [361242, 361243, 361247, 361251, 361253, 361254, 361256, 361259, 361260, 361622]:\n",
    "    task = openml.tasks.get_task(task_id)\n",
    "    dataset = task.get_dataset()\n",
    "    X, y, _, attribute_names = dataset.get_data(target=dataset.default_target_attribute)\n",
    "    X = pd.DataFrame(X, columns=attribute_names[:-1])\n",
    "    print(task_id)\n",
    "    if X.shape[0] > 2000:\n",
    "        print(int(2000 * 0.66))\n",
    "    else:\n",
    "        print(int(X.shape[0]*0.66))"
   ]
  },
  {
   "cell_type": "code",
   "execution_count": null,
   "metadata": {},
   "outputs": [],
   "source": [
    "# for task_id in [361236, 361237, 361235, 361234, 361247, 361243, 361242, 361241, 361244, 361252, 361251, 361249, 361250, 361255, 361253, 361260, \n",
    "#                 361259, 361256, 361257, 361261, 361254, 361258, 361264, 361617, 361618, 361269, 361267, 361266, 361268, 361272,\n",
    "#                 361616, 361619, 361621, 361623, 361622]:\n",
    "#     task = openml.tasks.get_task(task_id)\n",
    "#     dataset = task.get_dataset()\n",
    "#     X, y, _, attribute_names = dataset.get_data(target=dataset.default_target_attribute)\n",
    "#     X = pd.DataFrame(X, columns=attribute_names[:-1])\n",
    "#     if X.shape[1] > 10:\n",
    "#         print(task_id)\n",
    "#         print(X.shape[0]*0.66)"
   ]
  },
  {
   "cell_type": "code",
   "execution_count": null,
   "metadata": {},
   "outputs": [],
   "source": [
    "# id with more than 10 features\n",
    "# selected_id = [361247, 361243, 361242, 361252, 361251, 361253, 361260, 361259, 361256, 361254, 361618, 161266, 361268,\n",
    "#                361272, 361616, 361619, 361622]\n",
    "# print(len(selected_id))"
   ]
  },
  {
   "cell_type": "code",
   "execution_count": null,
   "metadata": {},
   "outputs": [],
   "source": [
    "# def check_columns_with_few_distinct_values(df):\n",
    "#     \"\"\"\n",
    "#     Check if any column in the DataFrame has fewer than 10 distinct values.\n",
    "\n",
    "#     Parameters:\n",
    "#     df (pd.DataFrame): The input DataFrame.\n",
    "\n",
    "#     Returns:\n",
    "#     dict: A dictionary with column names as keys and the count of distinct values as values for columns with fewer than 10 distinct values.\n",
    "#     \"\"\"\n",
    "#     result = {col: df[col].nunique() for col in df.columns if df[col].nunique() < 10}\n",
    "#     return result\n",
    "\n",
    "# for t_id in selected_id:\n",
    "#     task = openml.tasks.get_task(t_id)\n",
    "#     dataset = task.get_dataset()\n",
    "#     X, y, _, attribute_names = dataset.get_data(target=dataset.default_target_attribute)\n",
    "#     X = pd.DataFrame(X, columns=attribute_names[:-1])\n",
    "#     print(t_id)\n",
    "#     print(check_columns_with_few_distinct_values(X))"
   ]
  },
  {
   "cell_type": "code",
   "execution_count": null,
   "metadata": {},
   "outputs": [],
   "source": [
    "# id with no categorical features\n",
    "selected_id = [361247, 361243, 361242, 361251, 361253, 361260, 361259, 361256, 361254, 361622]\n",
    "print(len(selected_id))"
   ]
  },
  {
   "cell_type": "code",
   "execution_count": null,
   "metadata": {},
   "outputs": [],
   "source": [
    "# check if there are any missing values\n",
    "for t_id in selected_id:\n",
    "    task = openml.tasks.get_task(t_id)\n",
    "    dataset = task.get_dataset()\n",
    "    X, y, _, attribute_names = dataset.get_data(target=dataset.default_target_attribute)\n",
    "    X = pd.DataFrame(X, columns=attribute_names[:-1])\n",
    "    print(t_id)\n",
    "    print(X.isnull().sum().sum())\n",
    "\n",
    "# task = openml.tasks.get_task(t_id)\n",
    "# dataset = task.get_dataset()\n",
    "# X, y, _, attribute_names = dataset.get_data(target=dataset.default_target_attribute,dataset_format=\"array\")\n",
    "# # X = pd.DataFrame(X, columns=attribute_names[:-1])\n",
    "# X"
   ]
  },
  {
   "cell_type": "code",
   "execution_count": null,
   "metadata": {},
   "outputs": [],
   "source": [
    "task = openml.tasks.get_task(361622)\n",
    "dataset = task.get_dataset()\n",
    "X, y, _, attribute_names = dataset.get_data(target=dataset.default_target_attribute,dataset_format=\"array\")\n",
    "# X = pd.DataFrame(X, columns=attribute_names[:-1])\n",
    "y"
   ]
  },
  {
   "cell_type": "code",
   "execution_count": null,
   "metadata": {},
   "outputs": [],
   "source": [
    "np.random.seed(4307)\n",
    "np.random.choice(X.shape[0], 20, replace=False)"
   ]
  },
  {
   "cell_type": "code",
   "execution_count": null,
   "metadata": {},
   "outputs": [],
   "source": [
    "np.random.seed(4307)\n",
    "np.random.choice(X.shape[0], 20, replace=False)"
   ]
  },
  {
   "cell_type": "code",
   "execution_count": null,
   "metadata": {},
   "outputs": [],
   "source": [
    "np.random.seed(4307)\n",
    "np.random.choice(X.shape[0], 20, replace=False)"
   ]
  },
  {
   "cell_type": "code",
   "execution_count": null,
   "metadata": {},
   "outputs": [],
   "source": [
    "y.shape[0]"
   ]
  },
  {
   "cell_type": "code",
   "execution_count": null,
   "metadata": {},
   "outputs": [],
   "source": [
    "np.log(y)"
   ]
  },
  {
   "cell_type": "code",
   "execution_count": null,
   "metadata": {},
   "outputs": [],
   "source": [
    "# Plot y distribution\n",
    "plt.hist(y)\n",
    "plt.show()"
   ]
  },
  {
   "cell_type": "code",
   "execution_count": null,
   "metadata": {},
   "outputs": [],
   "source": [
    "y = np.log(y)\n",
    "plt.hist(y)\n",
    "plt.show()"
   ]
  },
  {
   "cell_type": "code",
   "execution_count": null,
   "metadata": {},
   "outputs": [],
   "source": [
    "y"
   ]
  },
  {
   "cell_type": "code",
   "execution_count": null,
   "metadata": {},
   "outputs": [],
   "source": [
    "# Turn y into a dataframe\n",
    "y = pd.DataFrame(y, columns=['target'])"
   ]
  },
  {
   "cell_type": "code",
   "execution_count": null,
   "metadata": {},
   "outputs": [],
   "source": [
    "y"
   ]
  },
  {
   "cell_type": "code",
   "execution_count": null,
   "metadata": {},
   "outputs": [],
   "source": [
    "X_train, X_test, y_train, y_test = train_test_split(X, y, test_size=0.2, random_state=42)\n",
    "rf_no_standardize = RandomForestRegressor(n_estimators=100, min_samples_leaf=5, max_features=0.33, random_state=42)\n",
    "rf_no_standardize.fit(X_train, y_train)\n",
    "rf_plus_base_no_standardize = RandomForestPlusRegressor(rf_model=rf_no_standardize)\n",
    "rf_plus_base_no_standardize.fit(X_train, y_train)"
   ]
  },
  {
   "cell_type": "code",
   "execution_count": null,
   "metadata": {},
   "outputs": [],
   "source": []
  },
  {
   "cell_type": "code",
   "execution_count": null,
   "metadata": {},
   "outputs": [],
   "source": [
    "assert False"
   ]
  },
  {
   "cell_type": "code",
   "execution_count": null,
   "metadata": {},
   "outputs": [],
   "source": []
  },
  {
   "cell_type": "code",
   "execution_count": null,
   "metadata": {},
   "outputs": [],
   "source": []
  },
  {
   "cell_type": "code",
   "execution_count": null,
   "metadata": {},
   "outputs": [],
   "source": [
    "def preprocessing_data_X(X):\n",
    "    categorical_cols = X.select_dtypes(include=[\"object\", \"category\"]).columns\n",
    "    numerical_cols = X.select_dtypes(include=[\"number\"]).columns\n",
    "    if X[numerical_cols].isnull().any().any():\n",
    "        num_imputer = SimpleImputer(strategy=\"mean\")\n",
    "        X[numerical_cols] = num_imputer.fit_transform(X[numerical_cols])\n",
    "    if len(categorical_cols) > 0 and X[categorical_cols].isnull().any().any():\n",
    "        # Convert categorical columns to string to ensure consistent types\n",
    "        X[categorical_cols] = X[categorical_cols].astype(str)\n",
    "        cat_imputer = SimpleImputer(strategy=\"most_frequent\")\n",
    "        X[categorical_cols] = cat_imputer.fit_transform(X[categorical_cols])\n",
    "    if len(categorical_cols) > 0:\n",
    "        encoder = OneHotEncoder(handle_unknown=\"ignore\", sparse_output=False)\n",
    "        X_categorical = encoder.fit_transform(X[categorical_cols])\n",
    "        X_categorical_df = pd.DataFrame(\n",
    "            X_categorical,\n",
    "            columns=encoder.get_feature_names_out(categorical_cols),\n",
    "            index=X.index\n",
    "        )\n",
    "        X = pd.concat([X[numerical_cols], X_categorical_df], axis=1)\n",
    "    else:\n",
    "        X = X[numerical_cols]\n",
    "    X = X.to_numpy()\n",
    "    if X.shape[0]>2000:\n",
    "        X = X[:2000,:]\n",
    "    return X"
   ]
  },
  {
   "cell_type": "code",
   "execution_count": null,
   "metadata": {},
   "outputs": [],
   "source": [
    "# Temperature 925\n",
    "dataset = fetch_ucirepo(id=857)\n",
    "X = dataset.data.features\n",
    "X"
   ]
  },
  {
   "cell_type": "code",
   "execution_count": null,
   "metadata": {},
   "outputs": [],
   "source": [
    "X.select_dtypes(include=[\"object\", \"category\"]).nunique()"
   ]
  },
  {
   "cell_type": "code",
   "execution_count": null,
   "metadata": {},
   "outputs": [],
   "source": [
    "# Parkinsons 189\n",
    "dataset = fetch_ucirepo(id=189)\n",
    "X = dataset.data.features\n",
    "X"
   ]
  },
  {
   "cell_type": "code",
   "execution_count": null,
   "metadata": {},
   "outputs": [],
   "source": [
    "X.select_dtypes(include=[\"object\", \"category\"]).nunique()"
   ]
  },
  {
   "cell_type": "code",
   "execution_count": null,
   "metadata": {},
   "outputs": [],
   "source": [
    "X = sample_real_data_X(source=\"openml\", data_id=1245)\n",
    "y = sample_real_data_y(source=\"openml\", data_id=1245, return_support=False)"
   ]
  },
  {
   "cell_type": "code",
   "execution_count": null,
   "metadata": {},
   "outputs": [],
   "source": []
  },
  {
   "cell_type": "code",
   "execution_count": null,
   "metadata": {},
   "outputs": [],
   "source": []
  },
  {
   "cell_type": "code",
   "execution_count": null,
   "metadata": {},
   "outputs": [],
   "source": [
    "X = sample_real_data_X(source=\"openml\", data_id=1245)\n",
    "y = sample_real_data_y(source=\"openml\", data_id=1245, return_support=False)"
   ]
  },
  {
   "cell_type": "code",
   "execution_count": null,
   "metadata": {},
   "outputs": [],
   "source": [
    "dataset = openml.datasets.get_dataset(1245)\n",
    "X, _, _, attribute_names = dataset.get_data(target=dataset.default_target_attribute)\n",
    "X = pd.DataFrame(X, columns=attribute_names[:-1])"
   ]
  },
  {
   "cell_type": "code",
   "execution_count": null,
   "metadata": {},
   "outputs": [],
   "source": [
    "X"
   ]
  },
  {
   "cell_type": "code",
   "execution_count": null,
   "metadata": {},
   "outputs": [],
   "source": [
    "X[\"histology\"].value_counts()"
   ]
  },
  {
   "cell_type": "code",
   "execution_count": null,
   "metadata": {},
   "outputs": [],
   "source": [
    "X.select_dtypes(include=[\"object\", \"category\"]).columns"
   ]
  },
  {
   "cell_type": "code",
   "execution_count": null,
   "metadata": {},
   "outputs": [],
   "source": [
    "from sklearn.preprocessing import OneHotEncoder\n",
    "from sklearn.impute import SimpleImputer\n",
    "from sklearn.preprocessing import LabelEncoder\n",
    "\n",
    "categorical_cols = X.select_dtypes(include=[\"object\", \"category\"]).columns\n",
    "numerical_cols = X.select_dtypes(include=[\"number\"]).columns\n",
    "if X[numerical_cols].isnull().any().any():\n",
    "    num_imputer = SimpleImputer(strategy=\"mean\")\n",
    "    X[numerical_cols] = num_imputer.fit_transform(X[numerical_cols])\n",
    "if len(categorical_cols) > 0 and X[categorical_cols].isnull().any().any():\n",
    "    X[categorical_cols] = X[categorical_cols].astype(str)\n",
    "    cat_imputer = SimpleImputer(strategy=\"most_frequent\")\n",
    "    X[categorical_cols] = cat_imputer.fit_transform(X[categorical_cols])\n",
    "if len(categorical_cols) > 0:\n",
    "    encoder = OneHotEncoder(handle_unknown=\"ignore\", sparse_output=False)\n",
    "    X_categorical = encoder.fit_transform(X[categorical_cols])\n",
    "    X_categorical_df = pd.DataFrame(\n",
    "        X_categorical,\n",
    "        columns=encoder.get_feature_names_out(categorical_cols),\n",
    "        index=X.index\n",
    "    )"
   ]
  },
  {
   "cell_type": "code",
   "execution_count": null,
   "metadata": {},
   "outputs": [],
   "source": [
    "X_categorical_df"
   ]
  },
  {
   "cell_type": "code",
   "execution_count": null,
   "metadata": {},
   "outputs": [],
   "source": [
    "from sklearn.preprocessing import OneHotEncoder\n",
    "from sklearn.impute import SimpleImputer\n",
    "from sklearn.preprocessing import LabelEncoder\n",
    "\n",
    "def preprocessing_data_X(X):\n",
    "    categorical_cols = X.select_dtypes(include=[\"object\", \"category\"]).columns\n",
    "    numerical_cols = X.select_dtypes(include=[\"number\"]).columns\n",
    "    if X[numerical_cols].isnull().any().any():\n",
    "        num_imputer = SimpleImputer(strategy=\"mean\")\n",
    "        X[numerical_cols] = num_imputer.fit_transform(X[numerical_cols])\n",
    "    if len(categorical_cols) > 0 and X[categorical_cols].isnull().any().any():\n",
    "        X[categorical_cols] = X[categorical_cols].astype(str)\n",
    "        cat_imputer = SimpleImputer(strategy=\"most_frequent\")\n",
    "        X[categorical_cols] = cat_imputer.fit_transform(X[categorical_cols])\n",
    "    if len(categorical_cols) > 0:\n",
    "        encoder = OneHotEncoder(handle_unknown=\"ignore\", sparse_output=False)\n",
    "        X_categorical = encoder.fit_transform(X[categorical_cols])\n",
    "        X_categorical_df = pd.DataFrame(\n",
    "            X_categorical,\n",
    "            columns=encoder.get_feature_names_out(categorical_cols),\n",
    "            index=X.index\n",
    "        )\n",
    "        X = pd.concat([X[numerical_cols], X_categorical_df], axis=1)\n",
    "    else:\n",
    "        X = X[numerical_cols]\n",
    "    X = X.to_numpy()\n",
    "    if X.shape[0]>2000:\n",
    "        X = X[:2000,:]\n",
    "    return X\n"
   ]
  },
  {
   "cell_type": "code",
   "execution_count": null,
   "metadata": {},
   "outputs": [],
   "source": [
    "X.shape"
   ]
  },
  {
   "cell_type": "code",
   "execution_count": null,
   "metadata": {},
   "outputs": [],
   "source": [
    "X_train, X_test, y_train, y_test = train_test_split(X, y, test_size=0.2, random_state=42)\n",
    "rf_no_standardize = RandomForestRegressor(n_estimators=100, min_samples_leaf=5, max_features=0.33, random_state=42)\n",
    "rf_no_standardize.fit(X_train, y_train)\n",
    "rf_plus_base_no_standardize = RandomForestPlusRegressor(rf_model=rf_no_standardize)\n",
    "rf_plus_base_no_standardize.fit(X_train, y_train)"
   ]
  },
  {
   "cell_type": "code",
   "execution_count": null,
   "metadata": {},
   "outputs": [],
   "source": [
    "# print accuracy\n",
    "print(\"RF+ accuracy: \", r2_score(y_test, rf_plus_base_no_standardize.predict(X_test)))\n",
    "print(\"RF accuracy: \", r2_score(y_test, rf_no_standardize.predict(X_test)))"
   ]
  },
  {
   "cell_type": "code",
   "execution_count": null,
   "metadata": {},
   "outputs": [],
   "source": [
    "shap_score_no_standardize = np.argsort(-1*tree_shap_evaluation_RF_retrain(X_train, y_train, X_test, fit=rf_no_standardize, mode=\"absolute\")[0])\n",
    "shap_score_no_standardize "
   ]
  },
  {
   "cell_type": "code",
   "execution_count": null,
   "metadata": {},
   "outputs": [],
   "source": [
    "lmdi_no_standardize = np.argsort(-1*LFI_evaluation_AloRFPlus_all_ranking_retrain(X_train, y_train, X_test, fit=rf_plus_base_no_standardize, mode=\"absolute\")[0])\n",
    "lmdi_no_standardize"
   ]
  },
  {
   "cell_type": "code",
   "execution_count": null,
   "metadata": {},
   "outputs": [],
   "source": []
  },
  {
   "cell_type": "code",
   "execution_count": null,
   "metadata": {},
   "outputs": [],
   "source": [
    "# standardize data\n",
    "scaler = StandardScaler()\n",
    "X = scaler.fit_transform(X)\n",
    "X_train, X_test, y_train, y_test = train_test_split(X, y, test_size=0.2, random_state=42)\n",
    "rf = RandomForestRegressor(n_estimators=100, min_samples_leaf=5, max_features=0.33, random_state=42)\n",
    "rf.fit(X_train, y_train)\n",
    "rf_plus_base = RandomForestPlusRegressor(rf_model=rf)\n",
    "rf_plus_base.fit(X_train, y_train)\n",
    "# print accuracy\n",
    "print(\"RF+ accuracy: \", r2_score(y_test, rf_plus_base.predict(X_test)))\n",
    "print(\"RF accuracy: \", r2_score(y_test, rf.predict(X_test)))"
   ]
  },
  {
   "cell_type": "code",
   "execution_count": null,
   "metadata": {},
   "outputs": [],
   "source": [
    "shap_score = np.argsort(-1*tree_shap_evaluation_RF_retrain(X_train, y_train, X_test, fit=rf, mode=\"absolute\")[0])\n",
    "shap_score"
   ]
  },
  {
   "cell_type": "code",
   "execution_count": null,
   "metadata": {},
   "outputs": [],
   "source": [
    "lmdi = np.argsort(-1*LFI_evaluation_AloRFPlus_all_ranking_retrain(X_train, y_train, X_test, fit=rf_plus_base, mode=\"absolute\")[0])\n",
    "lmdi"
   ]
  },
  {
   "cell_type": "code",
   "execution_count": null,
   "metadata": {},
   "outputs": [],
   "source": [
    "# assert "
   ]
  },
  {
   "cell_type": "code",
   "execution_count": null,
   "metadata": {},
   "outputs": [],
   "source": [
    "np.array_equal(lmdi, lmdi_no_standardize)"
   ]
  },
  {
   "cell_type": "code",
   "execution_count": null,
   "metadata": {},
   "outputs": [],
   "source": [
    "difference_mask = lmdi != lmdi_no_standardize\n",
    "print(\"Indices of differing elements:\", np.argwhere(difference_mask))"
   ]
  },
  {
   "cell_type": "code",
   "execution_count": null,
   "metadata": {},
   "outputs": [],
   "source": [
    "np.array_equal(shap_score, shap_score_no_standardize)"
   ]
  },
  {
   "cell_type": "code",
   "execution_count": null,
   "metadata": {},
   "outputs": [],
   "source": [
    "difference_mask = shap_score != shap_score_no_standardize\n",
    "print(\"Indices of differing elements:\", np.argwhere(difference_mask))"
   ]
  },
  {
   "cell_type": "code",
   "execution_count": null,
   "metadata": {},
   "outputs": [],
   "source": []
  },
  {
   "cell_type": "code",
   "execution_count": null,
   "metadata": {},
   "outputs": [],
   "source": [
    "shap_score[5]"
   ]
  },
  {
   "cell_type": "code",
   "execution_count": null,
   "metadata": {},
   "outputs": [],
   "source": [
    "shap_score_no_standardize[5]"
   ]
  },
  {
   "cell_type": "code",
   "execution_count": null,
   "metadata": {},
   "outputs": [],
   "source": [
    "tree_shap_evaluation_RF_retrain(X_train, y_train, X_test, fit=rf, mode=\"absolute\")[0]"
   ]
  },
  {
   "cell_type": "code",
   "execution_count": null,
   "metadata": {},
   "outputs": [],
   "source": [
    "tree_shap_evaluation_RF_retrain(X_train, y_train, X_test, fit=rf_no_standardize, mode=\"absolute\")[0]"
   ]
  },
  {
   "cell_type": "code",
   "execution_count": null,
   "metadata": {},
   "outputs": [],
   "source": []
  },
  {
   "cell_type": "code",
   "execution_count": null,
   "metadata": {},
   "outputs": [],
   "source": [
    "# Create heatmap\n",
    "plt.figure(figsize=(8, 6))\n",
    "plt.imshow(shap_score_no_standardize, cmap='viridis', aspect='auto')  # Choose colormap as needed\n",
    "plt.colorbar(label='Values')  # Add a colorbar\n",
    "plt.title('Matrix Heatmap')  # Add title\n",
    "plt.xlabel('Columns')  # Add x-axis label\n",
    "plt.ylabel('Rows')  # Add y-axis label\n",
    "plt.show()"
   ]
  },
  {
   "cell_type": "code",
   "execution_count": null,
   "metadata": {},
   "outputs": [],
   "source": [
    "# row_tuples = [tuple(row) for row in shap_score]\n",
    "# row_counts = Counter(row_tuples)\n",
    "# for row, count in row_counts.items():\n",
    "#     print(f\"Row: {row}, Count: {count}\")"
   ]
  },
  {
   "cell_type": "code",
   "execution_count": null,
   "metadata": {},
   "outputs": [],
   "source": [
    "# Create heatmap\n",
    "plt.figure(figsize=(8, 6))\n",
    "plt.imshow(lmdi, cmap='viridis', aspect='auto')  # Choose colormap as needed\n",
    "plt.colorbar(label='Values')  # Add a colorbar\n",
    "plt.title('Matrix Heatmap')  # Add title\n",
    "plt.xlabel('Columns')  # Add x-axis label\n",
    "plt.ylabel('Rows')  # Add y-axis label\n",
    "plt.show()"
   ]
  },
  {
   "cell_type": "code",
   "execution_count": null,
   "metadata": {},
   "outputs": [],
   "source": [
    "row_tuples = [tuple(row) for row in lmdi]\n",
    "row_counts = Counter(row_tuples)\n",
    "for row, count in row_counts.items():\n",
    "    print(f\"Row: {row}, Count: {count}\")"
   ]
  },
  {
   "cell_type": "code",
   "execution_count": null,
   "metadata": {},
   "outputs": [],
   "source": []
  },
  {
   "cell_type": "code",
   "execution_count": null,
   "metadata": {},
   "outputs": [],
   "source": []
  },
  {
   "cell_type": "code",
   "execution_count": null,
   "metadata": {},
   "outputs": [],
   "source": [
    "from ucimlrepo import fetch_ucirepo\n",
    "dataset = fetch_ucirepo(id=10)\n",
    "dataset.data.targets"
   ]
  },
  {
   "cell_type": "code",
   "execution_count": null,
   "metadata": {},
   "outputs": [],
   "source": [
    "# apply train test split\n",
    "X_train, X_test, y_train, y_test = train_test_split(X, y, test_size=0.2, random_state=42)"
   ]
  },
  {
   "cell_type": "code",
   "execution_count": null,
   "metadata": {},
   "outputs": [],
   "source": []
  },
  {
   "cell_type": "code",
   "execution_count": null,
   "metadata": {},
   "outputs": [],
   "source": []
  },
  {
   "cell_type": "code",
   "execution_count": null,
   "metadata": {},
   "outputs": [],
   "source": [
    "rf = RandomForestRegressor(n_estimators=100, min_samples_leaf=5, max_features=0.33, random_state=42)\n",
    "rf.fit(X_train, y_train)\n",
    "rf_plus_base = RandomForestPlusRegressor(rf_model=rf)\n",
    "rf_plus_base.fit(X_train, y_train)"
   ]
  },
  {
   "cell_type": "code",
   "execution_count": null,
   "metadata": {},
   "outputs": [],
   "source": [
    "train_data, test_data = LFI_evaluation_RFPlus_all_ranking_retrain(X_train, y_train, X_test, fit=rf_plus_base, mode=\"absolute\")"
   ]
  },
  {
   "cell_type": "code",
   "execution_count": null,
   "metadata": {},
   "outputs": [],
   "source": [
    "train_data[0]"
   ]
  },
  {
   "cell_type": "code",
   "execution_count": null,
   "metadata": {},
   "outputs": [],
   "source": [
    "np.argsort(-1*train_data[0])[:3].tolist()"
   ]
  },
  {
   "cell_type": "code",
   "execution_count": null,
   "metadata": {},
   "outputs": [],
   "source": []
  },
  {
   "cell_type": "code",
   "execution_count": null,
   "metadata": {},
   "outputs": [],
   "source": [
    "assert False"
   ]
  },
  {
   "cell_type": "code",
   "execution_count": null,
   "metadata": {},
   "outputs": [],
   "source": [
    "import numpy as np\n",
    "import matplotlib.pyplot as plt\n",
    "\n",
    "# Example NumPy array\n",
    "data = LFI_evaluation_RFPlus_all_ranking_retrain(X_train, y_train, fit=rf_plus_base, mode=\"absolute\")\n",
    "data = np.argsort(data, axis=1)  # Sort the indices of the features\n",
    "\n",
    "# Adjust the figure size\n",
    "plt.figure(figsize=(12, 6))  # Width = 12 inches, Height = 6 inches\n",
    "plt.imshow(data, cmap='viridis', interpolation='nearest', aspect='auto')\n",
    "plt.colorbar()  # Add a color bar to show the scale\n",
    "plt.title(\"Heatmap of NumPy Array\")\n",
    "plt.show()\n",
    "\n"
   ]
  },
  {
   "cell_type": "code",
   "execution_count": null,
   "metadata": {},
   "outputs": [],
   "source": [
    "LFI_evaluation_RFPlus_all_l2_norm_ranking_retrain(X_train, y_train, fit=rf_plus_base, mode=\"absolute\")"
   ]
  },
  {
   "cell_type": "code",
   "execution_count": null,
   "metadata": {},
   "outputs": [],
   "source": []
  },
  {
   "cell_type": "code",
   "execution_count": null,
   "metadata": {},
   "outputs": [],
   "source": []
  },
  {
   "cell_type": "code",
   "execution_count": null,
   "metadata": {},
   "outputs": [],
   "source": [
    "rf_plus_mdi = RFPlusMDI(rf_plus_base, evaluate_on=\"all\")\n",
    "temp1 = rf_plus_mdi.explain_linear_partial(X=X_train, y=y_train)\n",
    "temp_10 = rf_plus_mdi.explain_linear_partial(X=X_train, y=y_train, leaf_average=True)\n",
    "temp2 = rf_plus_mdi.explain_linear_partial_error_metric(X=X_train, y=y_train)\n",
    "temp3 = rf_plus_mdi.explain_linear_partial_error_metric(X=X_train, y=y_train, leaf_average=True)\n",
    "temp4 = rf_plus_mdi.explain_linear_partial_error_metric(X=X_train, y=y_train, ranking=True)\n"
   ]
  },
  {
   "cell_type": "code",
   "execution_count": null,
   "metadata": {},
   "outputs": [],
   "source": [
    "from collections import defaultdict\n",
    "leaf_indices = rf.apply(X_train).flatten()\n",
    "leaf_mapping = defaultdict(list)\n",
    "for sample_idx, leaf_idx in enumerate(leaf_indices):\n",
    "    leaf_mapping[leaf_idx].append(sample_idx)\n",
    "leaf_mapping[20]"
   ]
  },
  {
   "cell_type": "code",
   "execution_count": null,
   "metadata": {},
   "outputs": [],
   "source": [
    "temp3[148]"
   ]
  },
  {
   "cell_type": "code",
   "execution_count": null,
   "metadata": {},
   "outputs": [],
   "source": [
    "temp3[82]"
   ]
  },
  {
   "cell_type": "code",
   "execution_count": null,
   "metadata": {},
   "outputs": [],
   "source": []
  },
  {
   "cell_type": "code",
   "execution_count": null,
   "metadata": {},
   "outputs": [],
   "source": []
  },
  {
   "cell_type": "code",
   "execution_count": null,
   "metadata": {},
   "outputs": [],
   "source": []
  },
  {
   "cell_type": "code",
   "execution_count": null,
   "metadata": {},
   "outputs": [],
   "source": []
  },
  {
   "cell_type": "code",
   "execution_count": null,
   "metadata": {},
   "outputs": [],
   "source": [
    "temp1[0]"
   ]
  },
  {
   "cell_type": "code",
   "execution_count": null,
   "metadata": {},
   "outputs": [],
   "source": [
    "(y_train[0] - rf_plus_base.predict(X_train[0].reshape(1, -1)) + temp1[0])**2"
   ]
  },
  {
   "cell_type": "code",
   "execution_count": null,
   "metadata": {},
   "outputs": [],
   "source": [
    "temp2[0]"
   ]
  },
  {
   "cell_type": "code",
   "execution_count": null,
   "metadata": {},
   "outputs": [],
   "source": []
  },
  {
   "cell_type": "code",
   "execution_count": null,
   "metadata": {},
   "outputs": [],
   "source": [
    "temp.shape"
   ]
  },
  {
   "cell_type": "code",
   "execution_count": null,
   "metadata": {},
   "outputs": [],
   "source": [
    "y_train.shape"
   ]
  },
  {
   "cell_type": "code",
   "execution_count": null,
   "metadata": {},
   "outputs": [],
   "source": [
    "result = (temp - y_train[:, np.newaxis, np.newaxis])**2"
   ]
  },
  {
   "cell_type": "code",
   "execution_count": null,
   "metadata": {},
   "outputs": [],
   "source": [
    "y_train[:, np.newaxis, np.newaxis].shape"
   ]
  },
  {
   "cell_type": "code",
   "execution_count": null,
   "metadata": {},
   "outputs": [],
   "source": [
    "y_train[20]"
   ]
  },
  {
   "cell_type": "code",
   "execution_count": null,
   "metadata": {},
   "outputs": [],
   "source": [
    "(0.1676066)**2"
   ]
  },
  {
   "cell_type": "code",
   "execution_count": null,
   "metadata": {},
   "outputs": [],
   "source": [
    "temp[20]"
   ]
  },
  {
   "cell_type": "code",
   "execution_count": null,
   "metadata": {},
   "outputs": [],
   "source": [
    "result[20]"
   ]
  },
  {
   "cell_type": "code",
   "execution_count": null,
   "metadata": {},
   "outputs": [],
   "source": [
    "rf_plus_base = RandomForestPlusRegressor(rf_model=rf)\n",
    "rf_plus_base.fit(X_train, y_train)\n",
    "rf_plus_base.score(X_test, y_test)"
   ]
  },
  {
   "cell_type": "code",
   "execution_count": null,
   "metadata": {},
   "outputs": [],
   "source": []
  },
  {
   "cell_type": "code",
   "execution_count": null,
   "metadata": {},
   "outputs": [],
   "source": []
  },
  {
   "cell_type": "code",
   "execution_count": null,
   "metadata": {},
   "outputs": [],
   "source": [
    "from ucimlrepo import fetch_ucirepo \n",
    "  \n",
    "# fetch dataset \n",
    "parkinsons_telemonitoring = fetch_ucirepo(id=189) \n",
    "  \n",
    "# data (as pandas dataframes) \n",
    "X = parkinsons_telemonitoring.data.features \n",
    "y = parkinsons_telemonitoring.data.targets \n"
   ]
  },
  {
   "cell_type": "code",
   "execution_count": null,
   "metadata": {},
   "outputs": [],
   "source": []
  },
  {
   "cell_type": "code",
   "execution_count": null,
   "metadata": {},
   "outputs": [],
   "source": []
  },
  {
   "cell_type": "code",
   "execution_count": null,
   "metadata": {},
   "outputs": [],
   "source": []
  },
  {
   "cell_type": "code",
   "execution_count": null,
   "metadata": {},
   "outputs": [],
   "source": [
    "from sklearn.preprocessing import OneHotEncoder\n",
    "from sklearn.impute import SimpleImputer\n",
    "\n",
    "categorical_cols = X.select_dtypes(include=[\"object\", \"category\"]).columns\n",
    "numerical_cols = X.select_dtypes(include=[\"number\"]).columns\n",
    "\n",
    "# Step 2: Handle missing values (if any)\n",
    "# Check if there are missing values in the numerical columns\n",
    "if X[numerical_cols].isnull().any().any():\n",
    "    # Impute missing values in numerical columns with the mean\n",
    "    num_imputer = SimpleImputer(strategy=\"mean\")\n",
    "    X[numerical_cols] = num_imputer.fit_transform(X[numerical_cols])\n",
    "\n",
    "# Check if there are missing values in the categorical columns\n",
    "if len(categorical_cols) > 0 and X[categorical_cols].isnull().any().any():\n",
    "    # Convert categorical columns to string to ensure consistent types\n",
    "    X[categorical_cols] = X[categorical_cols].astype(str)\n",
    "\n",
    "    # Impute missing values in categorical columns with the most frequent value\n",
    "    cat_imputer = SimpleImputer(strategy=\"most_frequent\")\n",
    "    X[categorical_cols] = cat_imputer.fit_transform(X[categorical_cols])\n",
    "\n",
    "# Step 3: Encode categorical variables using OneHotEncoder (if any categorical columns)\n",
    "if len(categorical_cols) > 0:\n",
    "    encoder = OneHotEncoder(handle_unknown=\"ignore\", sparse_output=False)\n",
    "    X_categorical = encoder.fit_transform(X[categorical_cols])\n",
    "\n",
    "    # Convert encoded categorical data back to DataFrame\n",
    "    X_categorical_df = pd.DataFrame(\n",
    "        X_categorical,\n",
    "        columns=encoder.get_feature_names_out(categorical_cols),\n",
    "        index=X.index\n",
    "    )\n",
    "\n",
    "    # Step 4: Concatenate numerical columns and the encoded categorical DataFrame\n",
    "    X = pd.concat([X[numerical_cols], X_categorical_df], axis=1)\n",
    "else:\n",
    "    # If no categorical columns, we just use the numerical columns\n",
    "    X = X[numerical_cols]\n",
    "X = X.to_numpy()"
   ]
  },
  {
   "cell_type": "code",
   "execution_count": null,
   "metadata": {},
   "outputs": [],
   "source": [
    "X"
   ]
  },
  {
   "cell_type": "code",
   "execution_count": null,
   "metadata": {},
   "outputs": [],
   "source": [
    "if y.to_numpy().shape[1] > 1:\n",
    "    y = y.iloc[:, 0].to_numpy().flatten()\n",
    "else:\n",
    "    y = y.to_numpy().flatten()"
   ]
  },
  {
   "cell_type": "code",
   "execution_count": null,
   "metadata": {},
   "outputs": [],
   "source": [
    "# Fit a random forest model\n",
    "rf = RandomForestRegressor(n_estimators=100, max_depth=5)\n",
    "rf.fit(X, y)\n",
    "rf.score(X, y)"
   ]
  },
  {
   "cell_type": "code",
   "execution_count": null,
   "metadata": {},
   "outputs": [],
   "source": [
    "rf_plus_base = RandomForestPlusRegressor(rf_model=rf)\n",
    "rf_plus_base.fit(X, y)\n",
    "rf_plus_base.score(X, y)"
   ]
  },
  {
   "cell_type": "code",
   "execution_count": null,
   "metadata": {},
   "outputs": [],
   "source": []
  },
  {
   "cell_type": "code",
   "execution_count": null,
   "metadata": {},
   "outputs": [],
   "source": []
  },
  {
   "cell_type": "code",
   "execution_count": null,
   "metadata": {},
   "outputs": [],
   "source": [
    "# X, y, _ = imodels.get_clean_dataset(\"diabetes\")\n",
    "X, y, _ = imodels.get_clean_dataset(\"diabetes_regr\")"
   ]
  },
  {
   "cell_type": "code",
   "execution_count": null,
   "metadata": {},
   "outputs": [],
   "source": [
    "# split the data\n",
    "X_train, X_test, y_train, y_test = train_test_split(X, y, test_size=0.2, random_state=42)"
   ]
  },
  {
   "cell_type": "code",
   "execution_count": null,
   "metadata": {},
   "outputs": [],
   "source": [
    "## Debug\n",
    "# RF Regressor\n",
    "est = RandomForestRegressor(n_estimators=100, min_samples_leaf=5, max_features=0.33, random_state=42)\n",
    "est.fit(X_train, y_train)\n",
    "\n",
    "# RFplus default(fit on all)\n",
    "rf_plus_base = RandomForestPlusRegressor(rf_model=est)\n",
    "rf_plus_base.fit(X_train, y_train)\n",
    "\n",
    "rf_plus_mdi = AloRFPlusMDI(rf_plus_base, evaluate_on=\"all\")\n",
    "rf_plus_mdi.explain_linear_partial(X=X_train, y=y_train)"
   ]
  },
  {
   "cell_type": "code",
   "execution_count": null,
   "metadata": {},
   "outputs": [],
   "source": [
    "rf_plus_mdi = AloRFPlusMDI(rf_plus_base, evaluate_on=\"all\")\n",
    "temp = rf_plus_mdi.explain_linear_partial(X=X_train, y=y_train)"
   ]
  },
  {
   "cell_type": "code",
   "execution_count": null,
   "metadata": {},
   "outputs": [],
   "source": [
    "temp.shape"
   ]
  },
  {
   "cell_type": "code",
   "execution_count": null,
   "metadata": {},
   "outputs": [],
   "source": [
    "temp[0,0,:].shape"
   ]
  },
  {
   "cell_type": "code",
   "execution_count": null,
   "metadata": {},
   "outputs": [],
   "source": [
    "r2_score([y_train[0]]*100, temp[1,1,:])"
   ]
  },
  {
   "cell_type": "code",
   "execution_count": null,
   "metadata": {},
   "outputs": [],
   "source": []
  },
  {
   "cell_type": "code",
   "execution_count": null,
   "metadata": {},
   "outputs": [],
   "source": []
  },
  {
   "cell_type": "code",
   "execution_count": null,
   "metadata": {},
   "outputs": [],
   "source": [
    "# # RF Regressor\n",
    "# est = RandomForestRegressor(n_estimators=100, min_samples_leaf=5, max_features=0.33, random_state=42)\n",
    "# est.fit(X_train, y_train)\n",
    "\n",
    "# # RFplus default(fit on all)\n",
    "# rf_plus_base = RandomForestPlusRegressor(rf_model=est)\n",
    "# rf_plus_base.fit(X_train, y_train)\n",
    "\n",
    "# # RFplus oob \n",
    "# rf_plus_base_oob = RandomForestPlusRegressor(rf_model=est, fit_on=\"oob\")\n",
    "# rf_plus_base_oob.fit(X_train, y_train)\n",
    "\n",
    "# #RFplus inbag RF\n",
    "# rf_plus_base_inbag = RandomForestPlusRegressor(rf_model=est, include_raw=False, fit_on=\"inbag\", prediction_model=LinearRegression())\n",
    "# rf_plus_base_inbag.fit(X_train, y_train)"
   ]
  },
  {
   "cell_type": "code",
   "execution_count": null,
   "metadata": {},
   "outputs": [],
   "source": [
    "# RF Classifier\n",
    "est = RandomForestClassifier(n_estimators=100, min_samples_leaf=3, max_features='sqrt', random_state=42)\n",
    "est.fit(X_train, y_train)\n",
    "\n",
    "# RFplus default(fit on all)\n",
    "rf_plus_base = RandomForestPlusClassifier(rf_model=est)\n",
    "rf_plus_base.fit(X_train, y_train)\n",
    "\n",
    "# RFplus oob \n",
    "rf_plus_base_oob = RandomForestPlusClassifier(rf_model=est, fit_on=\"oob\")\n",
    "rf_plus_base_oob.fit(X_train, y_train)\n",
    "\n",
    "rf_plus_base_inbag = RandomForestPlusClassifier(rf_model=est, include_raw=False, fit_on=\"inbag\")\n",
    "rf_plus_base_inbag.fit(X_train, y_train)\n",
    "\n",
    "# #RFplus inbag RF\n",
    "# est_regressor = RandomForestRegressor(n_estimators=100, min_samples_leaf=3, max_features='sqrt', random_state=42)\n",
    "# est_regressor.fit(X_train, y_train)\n",
    "# rf_plus_base_inbag = RandomForestPlusRegressor(rf_model=est_regressor, include_raw=False, fit_on=\"inbag\", prediction_model=LinearRegression())\n",
    "# rf_plus_base_inbag.fit(X_train, y_train)"
   ]
  },
  {
   "cell_type": "code",
   "execution_count": null,
   "metadata": {},
   "outputs": [],
   "source": [
    "# Inbag LMDI+\n",
    "rf_plus_mdi = RFPlusMDI(rf_plus_base_inbag, evaluate_on=\"inbag\")\n",
    "rf_plus_mdi.explain_linear_partial(X=X_train, y=y_train)\n",
    "\n",
    "# OOB LMDI+\n",
    "rf_plus_mdi = AloRFPlusMDI(rf_plus_base_oob, evaluate_on=\"oob\")\n",
    "rf_plus_mdi.explain_linear_partial(X=X_train, y=y_train)\n",
    "\n",
    "# ALL LMDI+\n",
    "rf_plus_mdi = AloRFPlusMDI(rf_plus_base, evaluate_on=\"all\")\n",
    "rf_plus_mdi.explain_linear_partial(X=X_train, y=y_train)\n",
    "\n",
    "# Inbag LMDI+ l2 norm with sign\n",
    "rf_plus_mdi = RFPlusMDI(rf_plus_base_inbag, evaluate_on=\"inbag\")\n",
    "rf_plus_mdi.explain_linear_partial(X=X_train, y=y_train, l2norm=True, sign=True)\n",
    "\n",
    "# OOB LMDI+ l2 norm with sign\n",
    "rf_plus_mdi = AloRFPlusMDI(rf_plus_base_oob, evaluate_on=\"oob\")\n",
    "rf_plus_mdi.explain_linear_partial(X=X_train, y=y_train, l2norm=True, sign=True)\n",
    "\n",
    "# ALL LMDI+ l2 norm with sign\n",
    "rf_plus_mdi = AloRFPlusMDI(rf_plus_base, evaluate_on=\"all\")\n",
    "rf_plus_mdi.explain_linear_partial(X=X_train, y=y_train, l2norm=True, sign=True)\n",
    "\n",
    "# Inbag LMDI+ l2 norm without sign\n",
    "rf_plus_mdi = RFPlusMDI(rf_plus_base_inbag, evaluate_on=\"inbag\")\n",
    "rf_plus_mdi.explain_linear_partial(X=X_train, y=y_train, l2norm=True, sign=False)\n",
    "\n",
    "# OOB LMDI+ l2 norm without sign\n",
    "rf_plus_mdi = AloRFPlusMDI(rf_plus_base_oob, evaluate_on=\"oob\")\n",
    "rf_plus_mdi.explain_linear_partial(X=X_train, y=y_train, l2norm=True, sign=False)\n",
    "\n",
    "# ALL LMDI+ l2 norm without sign\n",
    "rf_plus_mdi = AloRFPlusMDI(rf_plus_base, evaluate_on=\"all\")\n",
    "rf_plus_mdi.explain_linear_partial(X=X_train, y=y_train, l2norm=True, sign=False)\n",
    "\n",
    "# Inbag LMDI+ with ranking then average\n",
    "rf_plus_mdi = RFPlusMDI(rf_plus_base_inbag, evaluate_on=\"inbag\")\n",
    "rf_plus_mdi.explain_linear_partial(X=X_train, y=y_train, ranking = True)\n",
    "\n",
    "# OOB LMDI+ with ranking then average\n",
    "rf_plus_mdi = AloRFPlusMDI(rf_plus_base_oob, evaluate_on=\"oob\")\n",
    "rf_plus_mdi.explain_linear_partial(X=X_train, y=y_train, ranking = True)\n",
    "\n",
    "# ALL LMDI+ with ranking then average\n",
    "rf_plus_mdi = AloRFPlusMDI(rf_plus_base, evaluate_on=\"all\")\n",
    "rf_plus_mdi.explain_linear_partial(X=X_train, y=y_train, ranking = True)"
   ]
  },
  {
   "cell_type": "code",
   "execution_count": null,
   "metadata": {},
   "outputs": [],
   "source": [
    "# Inbag LMDI+ l2 norm with sign\n",
    "rf_plus_mdi = RFPlusMDI(rf_plus_base_inbag, evaluate_on=\"inbag\")\n",
    "rf_plus_mdi.explain_linear_partial(X=X_train, y=y_train, l2norm=True, sign=True)\n",
    "\n",
    "# OOB LMDI+ l2 norm with sign\n",
    "rf_plus_mdi = AloRFPlusMDI(rf_plus_base_oob, evaluate_on=\"oob\")\n",
    "rf_plus_mdi.explain_linear_partial(X=X_train, y=y_train, l2norm=True, sign=True)\n",
    "\n",
    "# ALL LMDI+ l2 norm with sign\n",
    "rf_plus_mdi = AloRFPlusMDI(rf_plus_base, evaluate_on=\"all\")\n",
    "rf_plus_mdi.explain_linear_partial(X=X_train, y=y_train, l2norm=True, sign=True)"
   ]
  },
  {
   "cell_type": "code",
   "execution_count": null,
   "metadata": {},
   "outputs": [],
   "source": [
    "# Inbag LMDI+ l2 norm without sign\n",
    "rf_plus_mdi = RFPlusMDI(rf_plus_base_inbag, evaluate_on=\"inbag\")\n",
    "rf_plus_mdi.explain_linear_partial(X=X_train, y=y_train, l2norm=True, sign=False)\n",
    "\n",
    "# OOB LMDI+ l2 norm without sign\n",
    "rf_plus_mdi = AloRFPlusMDI(rf_plus_base_oob, evaluate_on=\"oob\")\n",
    "rf_plus_mdi.explain_linear_partial(X=X_train, y=y_train, l2norm=True, sign=False)\n",
    "\n",
    "# ALL LMDI+ l2 norm without sign\n",
    "rf_plus_mdi = AloRFPlusMDI(rf_plus_base, evaluate_on=\"all\")\n",
    "rf_plus_mdi.explain_linear_partial(X=X_train, y=y_train, l2norm=True, sign=False)"
   ]
  },
  {
   "cell_type": "code",
   "execution_count": null,
   "metadata": {},
   "outputs": [],
   "source": [
    "# Inbag LMDI+ with ranking then average\n",
    "rf_plus_mdi = RFPlusMDI(rf_plus_base_inbag, evaluate_on=\"inbag\")\n",
    "rf_plus_mdi.explain_linear_partial(X=X_train, y=y_train, ranking = True)\n",
    "\n",
    "# OOB LMDI+ with ranking then average\n",
    "rf_plus_mdi = AloRFPlusMDI(rf_plus_base_oob, evaluate_on=\"oob\")\n",
    "rf_plus_mdi.explain_linear_partial(X=X_train, y=y_train, ranking = True)\n",
    "\n",
    "# ALL LMDI+ with ranking then average\n",
    "rf_plus_mdi = AloRFPlusMDI(rf_plus_base, evaluate_on=\"all\")\n",
    "rf_plus_mdi.explain_linear_partial(X=X_train, y=y_train, ranking = True)"
   ]
  },
  {
   "cell_type": "code",
   "execution_count": null,
   "metadata": {},
   "outputs": [],
   "source": []
  },
  {
   "cell_type": "code",
   "execution_count": null,
   "metadata": {},
   "outputs": [],
   "source": [
    "rf_plus_mdi = AloRFPlusMDI(rf_plus_base_oob, evaluate_on=\"oob\")\n",
    "rf_plus_mdi.explain_linear_partial(X=X_train, y=y_train, l2norm=True, sign=True)"
   ]
  },
  {
   "cell_type": "code",
   "execution_count": null,
   "metadata": {},
   "outputs": [],
   "source": [
    "rf_plus_mdi = AloRFPlusMDI(rf_plus_base, evaluate_on=\"all\")\n",
    "rf_plus_mdi.explain_linear_partial(X=X_train, y=y_train, l2norm=True, sign=True)"
   ]
  },
  {
   "cell_type": "code",
   "execution_count": null,
   "metadata": {},
   "outputs": [],
   "source": [
    "# RF Classifier\n",
    "est = RandomForestClassifier(n_estimators=100, min_samples_leaf=3, max_features='sqrt', random_state=42)\n",
    "est.fit(X_train, y_train)\n",
    "\n",
    "# RFplus default(fit on all)\n",
    "rf_plus_base = RandomForestPlusClassifier(rf_model=est)\n",
    "rf_plus_base.fit(X_train, y_train)\n",
    "\n",
    "# RFplus oob \n",
    "rf_plus_base_oob = RandomForestPlusClassifier(rf_model=est, fit_on=\"oob\")\n",
    "rf_plus_base_oob.fit(X_train, y_train)\n",
    "\n",
    "#RFplus inbag RF\n",
    "est_regressor = RandomForestRegressor(n_estimators=100, min_samples_leaf=3, max_features='sqrt', random_state=42)\n",
    "est_regressor.fit(X_train, y_train)\n",
    "rf_plus_base_inbag = RandomForestPlusRegressor(rf_model=est_regressor, include_raw=False, fit_on=\"inbag\", prediction_model=LinearRegression())\n",
    "rf_plus_base_inbag.fit(X_train, y_train)"
   ]
  },
  {
   "cell_type": "code",
   "execution_count": null,
   "metadata": {},
   "outputs": [],
   "source": []
  },
  {
   "cell_type": "code",
   "execution_count": null,
   "metadata": {},
   "outputs": [],
   "source": []
  },
  {
   "cell_type": "code",
   "execution_count": null,
   "metadata": {},
   "outputs": [],
   "source": []
  },
  {
   "cell_type": "code",
   "execution_count": null,
   "metadata": {},
   "outputs": [],
   "source": [
    "X_test_pred = est.predict(X_test)\n",
    "print(\"R2 score of RF: \", r2_score(y_test, X_test_pred))"
   ]
  },
  {
   "cell_type": "code",
   "execution_count": null,
   "metadata": {},
   "outputs": [],
   "source": [
    "X_test_pred = rf_plus_base.predict(X_test)\n",
    "print(\"R2 score of RF+: \", r2_score(y_test, X_test_pred))"
   ]
  },
  {
   "cell_type": "code",
   "execution_count": null,
   "metadata": {},
   "outputs": [],
   "source": [
    "if X_train.shape[0] > 100:\n",
    "    indices_train = np.random.choice(X_train.shape[0], 100, replace=False)\n",
    "    X_train_subset = X_train[indices_train]\n",
    "    y_train_subset = y_train[indices_train]\n",
    "else:\n",
    "    indices_train = np.arange(X_train.shape[0])\n",
    "    X_train_subset = X_train\n",
    "    y_train_subset = y_train\n",
    "\n",
    "if X_test.shape[0] > 100:\n",
    "    indices_test = np.random.choice(X_test.shape[0], 100, replace=False)\n",
    "    X_test_subset = X_test[indices_test]\n",
    "    y_test_subset = y_test[indices_test]\n",
    "else:\n",
    "    indices_test = np.arange(X_test.shape[0])\n",
    "    X_test_subset = X_test\n",
    "    y_test_subset = y_test"
   ]
  },
  {
   "cell_type": "code",
   "execution_count": null,
   "metadata": {},
   "outputs": [],
   "source": [
    "rf_plus_mdi = AloRFPlusMDI(rf_plus_base, evaluate_on=\"oob\")"
   ]
  },
  {
   "cell_type": "code",
   "execution_count": null,
   "metadata": {},
   "outputs": [],
   "source": [
    "rf_plus_mdi.explain(X=X_train, y=y_train)"
   ]
  },
  {
   "cell_type": "code",
   "execution_count": null,
   "metadata": {},
   "outputs": [],
   "source": [
    "temp = rf_plus_mdi.explain(X=X_train, y=y_train)[0][:5]"
   ]
  },
  {
   "cell_type": "code",
   "execution_count": null,
   "metadata": {},
   "outputs": [],
   "source": [
    "temp = np.abs(temp)\n",
    "temp"
   ]
  },
  {
   "cell_type": "code",
   "execution_count": null,
   "metadata": {},
   "outputs": [],
   "source": [
    "np.argsort(-1*temp)"
   ]
  },
  {
   "cell_type": "code",
   "execution_count": null,
   "metadata": {},
   "outputs": [],
   "source": [
    "np.mean(np.argsort(-1*temp), axis=0)"
   ]
  },
  {
   "cell_type": "code",
   "execution_count": null,
   "metadata": {},
   "outputs": [],
   "source": [
    "rf_plus_mdi.explain(X=X_train, y=y_train)[1][0]"
   ]
  },
  {
   "cell_type": "code",
   "execution_count": null,
   "metadata": {},
   "outputs": [],
   "source": [
    "rf_plus_base.estimators_"
   ]
  },
  {
   "cell_type": "code",
   "execution_count": null,
   "metadata": {},
   "outputs": [],
   "source": [
    "y_train[0]"
   ]
  },
  {
   "cell_type": "code",
   "execution_count": null,
   "metadata": {},
   "outputs": [],
   "source": [
    "treeshap_fi, _, _, _ = tree_shap_evaluation_RF(X_train, y_train, X_train_subset, y_train_subset, X_test, y_test, X_test_subset, y_test_subset, fit=est, mode=\"absolute\", train_only=True)"
   ]
  },
  {
   "cell_type": "code",
   "execution_count": null,
   "metadata": {},
   "outputs": [],
   "source": [
    "lmdi_fi, _, _, _ = LFI_evaluation_RFPlus_oob_l2_norm_sign(X_train, y_train, X_train_subset, y_train_subset, X_test, y_test, X_test_subset, y_test_subset,  fit=rf_plus_base, mode=\"absolute\", train_only=True)"
   ]
  },
  {
   "cell_type": "code",
   "execution_count": null,
   "metadata": {},
   "outputs": [],
   "source": [
    "def select_top_features(array, sorted_indices, percentage):\n",
    "    array = copy.deepcopy(array)\n",
    "    num_features = array.shape[1]\n",
    "    num_selected = int(np.ceil(num_features * percentage))\n",
    "    selected_indices = sorted_indices[:num_selected]\n",
    "    selected_array = array[:, selected_indices]\n",
    "    return num_selected, selected_array"
   ]
  },
  {
   "cell_type": "code",
   "execution_count": null,
   "metadata": {},
   "outputs": [],
   "source": [
    "mask_ratio = [0.05, 0.1, 0.25, 0.5, 0.9]\n",
    "metric_results_shap_mse = []\n",
    "metric_results_shap_r2 = []\n",
    "train_fi_mean = np.mean(treeshap_fi, axis=0)\n",
    "sorted_feature = np.argsort(-train_fi_mean)\n",
    "for mask in mask_ratio:\n",
    "    print(X_train.shape)\n",
    "    num_features_masked, X_train_masked = select_top_features(X_train, sorted_feature, mask)\n",
    "    print(X_train_masked.shape)\n",
    "    num_features_masked, X_test_masked = select_top_features(X_test, sorted_feature, mask)\n",
    "    print(X_test_masked.shape)\n",
    "    ablation_models = {\"RF_Regressor\": RandomForestRegressor(n_estimators=100,min_samples_leaf=5,max_features=0.33,random_state=42)}\n",
    "                    #\"Linear\": LinearRegression(),\n",
    "                    #\"XGB_Regressor\": xgb.XGBRegressor(random_state=42),\n",
    "                    # 'Kernel_Ridge': KernelRidge(),\n",
    "                    #\"RF_Plus_Regressor\": RandomForestPlusRegressor(rf_model=RandomForestRegressor(n_estimators=100,min_samples_leaf=5,max_features=0.33,random_state=42))}\n",
    "    # for a_model in ablation_models:\n",
    "    #     ablation_models[a_model].fit(X_train_masked, y_train)\n",
    "    rf = LinearRegression()# RandomForestRegressor(n_estimators=100,min_samples_leaf=5,max_features=0.33,random_state=42)\n",
    "    rf.fit(X_train_masked, y_train)\n",
    "    y_pred = rf.predict(X_test_masked)\n",
    "    metric_results_shap_mse.append(mean_squared_error(y_test, y_pred))\n",
    "    metric_results_shap_r2.append(r2_score(y_test, y_pred))"
   ]
  },
  {
   "cell_type": "code",
   "execution_count": null,
   "metadata": {},
   "outputs": [],
   "source": [
    "select_top_features(X_train, sorted_feature, 0.01)[1][0]"
   ]
  },
  {
   "cell_type": "code",
   "execution_count": null,
   "metadata": {},
   "outputs": [],
   "source": [
    "select_top_features(X_test, sorted_feature, 0.01)[1][0]"
   ]
  },
  {
   "cell_type": "code",
   "execution_count": null,
   "metadata": {},
   "outputs": [],
   "source": [
    "indices = np.nonzero(np.isin(X_train[0], select_top_features(X_train, sorted_feature, 0.01)[1][0]))[0]\n",
    "\n",
    "print(indices)"
   ]
  },
  {
   "cell_type": "code",
   "execution_count": null,
   "metadata": {},
   "outputs": [],
   "source": [
    "indices = np.nonzero(np.isin(X_test[0], select_top_features(X_test, sorted_feature, 0.01)[1][0]))[0]\n",
    "\n",
    "print(indices)"
   ]
  },
  {
   "cell_type": "code",
   "execution_count": null,
   "metadata": {},
   "outputs": [],
   "source": [
    "X_train[0]"
   ]
  },
  {
   "cell_type": "code",
   "execution_count": null,
   "metadata": {},
   "outputs": [],
   "source": []
  },
  {
   "cell_type": "code",
   "execution_count": null,
   "metadata": {},
   "outputs": [],
   "source": [
    "metric_results_shap_mse"
   ]
  },
  {
   "cell_type": "code",
   "execution_count": null,
   "metadata": {},
   "outputs": [],
   "source": [
    "# plot metric_results_shap_r2\n",
    "metric_results_shap_r2 = np.array(metric_results_shap_r2).reshape(len(mask_ratio), -1)\n",
    "plt.figure()\n",
    "plt.plot(mask_ratio, metric_results_shap_r2[:, 0], label=\"RF_Regressor\")\n",
    "plt.xlabel(\"Feature Ratio\")\n",
    "plt.ylabel(\"R2\")\n",
    "plt.legend()\n",
    "plt.show()"
   ]
  },
  {
   "cell_type": "code",
   "execution_count": null,
   "metadata": {},
   "outputs": [],
   "source": [
    "mask_ratio = [0.05, 0.1, 0.25, 0.5, 0.9]\n",
    "metric_results_lmdi_mse = []\n",
    "metric_results_lmdi_r2 = []\n",
    "train_fi_mean = np.mean(local_fi_score_train, axis=0)\n",
    "sorted_feature = np.argsort(-train_fi_mean)\n",
    "for mask in mask_ratio:\n",
    "    print(X_train.shape)\n",
    "    num_features_masked, X_train_masked = select_top_features(X_train, sorted_feature, mask)\n",
    "    print(X_train_masked.shape)\n",
    "    num_features_masked, X_test_masked = select_top_features(X_test, sorted_feature, mask)\n",
    "    print(X_test_masked.shape)\n",
    "    ablation_models = {\"RF_Regressor\": RandomForestRegressor(n_estimators=100,min_samples_leaf=5,max_features=0.33,random_state=42),\n",
    "                    \"Linear\": LinearRegression(),\n",
    "                    \"XGB_Regressor\": xgb.XGBRegressor(random_state=42),\n",
    "                    # 'Kernel_Ridge': KernelRidge(),\n",
    "                    \"RF_Plus_Regressor\": RandomForestPlusRegressor(rf_model=RandomForestRegressor(n_estimators=100,min_samples_leaf=5,max_features=0.33,random_state=42))}\n",
    "    for a_model in ablation_models:\n",
    "        ablation_models[a_model].fit(X_train_masked, y_train)\n",
    "        y_pred = ablation_models[a_model].predict(X_test_masked)\n",
    "        metric_results_lmdi_mse.append(mean_squared_error(y_test, y_pred))\n",
    "        metric_results_lmdi_r2.append(r2_score(y_test, y_pred))"
   ]
  }
 ],
 "metadata": {
  "kernelspec": {
   "display_name": "mdi",
   "language": "python",
   "name": "python3"
  },
  "language_info": {
   "codemirror_mode": {
    "name": "ipython",
    "version": 3
   },
   "file_extension": ".py",
   "mimetype": "text/x-python",
   "name": "python",
   "nbconvert_exporter": "python",
   "pygments_lexer": "ipython3",
   "version": "3.10.14"
  },
  "orig_nbformat": 4
 },
 "nbformat": 4,
 "nbformat_minor": 2
}
