{
 "cells": [
  {
   "cell_type": "code",
   "execution_count": 6,
   "metadata": {},
   "outputs": [
    {
     "name": "stdout",
     "output_type": "stream",
     "text": [
      "The autoreload extension is already loaded. To reload it, use:\n",
      "  %reload_ext autoreload\n"
     ]
    }
   ],
   "source": [
    "# so kernel doesn't have to be restarted\n",
    "%load_ext autoreload\n",
    "%autoreload 2\n",
    "\n",
    "# data science imports\n",
    "import numpy as np\n",
    "import matplotlib.pyplot as plt\n",
    "\n",
    "# helper scripts\n",
    "from knn_helper import *"
   ]
  },
  {
   "cell_type": "code",
   "execution_count": 7,
   "metadata": {},
   "outputs": [],
   "source": [
    "over_shap = []\n",
    "over_lime = []\n",
    "means_lst = []\n",
    "medians_lst = []\n",
    "labels = \"preds\"\n",
    "k = 1\n",
    "nbr_dist = \"l1\"\n",
    "cfact_dist = \"l1\"\n",
    "names = ['Spam', 'Ozone', 'Pol', 'House 16H', 'Higgs', 'Jannis']\n",
    "counter = 0\n",
    "for data_id in [43, 9978, 361062, 361063, 361069, 361071]:\n",
    "    shap_distances = np.loadtxt(f\"results/openml_{data_id}/shap/{labels}/k{k}/nbr-dist-{nbr_dist}_cfact-dist-{cfact_dist}.csv\", delimiter=\",\")\n",
    "    lime_distances = np.loadtxt(f\"results/openml_{data_id}/lime/{labels}/k{k}/nbr-dist-{nbr_dist}_cfact-dist-{cfact_dist}.csv\", delimiter=\",\")\n",
    "    lmdi_plus_distances = np.loadtxt(f\"results/openml_{data_id}/lmdi/{labels}/k{k}/nbr-dist-{nbr_dist}_cfact-dist-{cfact_dist}.csv\", delimiter=\",\")\n",
    "    lmdi_distances = np.loadtxt(f\"results/openml_{data_id}/lmdi_noraw/{labels}/k{k}/nbr-dist-{nbr_dist}_cfact-dist-{cfact_dist}.csv\", delimiter=\",\")\n",
    "    # get means and medians of each:\n",
    "    means = {\n",
    "        \"shap\": np.mean(shap_distances),\n",
    "        \"lime\": np.mean(lime_distances),\n",
    "        \"lmdi+\": np.mean(lmdi_plus_distances),\n",
    "        \"lmdi\": np.mean(lmdi_distances)\n",
    "    }\n",
    "    medians = {\n",
    "        \"shap\": np.median(shap_distances),\n",
    "        \"lime\": np.median(lime_distances),\n",
    "        \"lmdi+\": np.median(lmdi_plus_distances),\n",
    "        \"lmdi\": np.median(lmdi_distances)\n",
    "    }\n",
    "    \n",
    "    means_lst.append({names[counter]: means})\n",
    "    medians_lst.append({names[counter]: medians})\n",
    "    counter += 1\n",
    "    \n",
    "    over_shap.append(means[\"shap\"]-means[\"lmdi+\"])\n",
    "    over_lime.append(means[\"lime\"]-means[\"lmdi+\"])\n"
   ]
  },
  {
   "cell_type": "code",
   "execution_count": 8,
   "metadata": {},
   "outputs": [
    {
     "data": {
      "text/plain": [
       "[{'Spam': {'shap': 14.095641520689242,\n",
       "   'lime': 18.93522367812693,\n",
       "   'lmdi+': 12.903445068746805,\n",
       "   'lmdi': 16.17865463963244}},\n",
       " {'Ozone': {'shap': 41.43169355671853,\n",
       "   'lime': 34.663581142437266,\n",
       "   'lmdi+': 31.617565882392228,\n",
       "   'lmdi': 40.065009186044335}},\n",
       " {'Pol': {'shap': 8.824478497263044,\n",
       "   'lime': 9.363537311553955,\n",
       "   'lmdi+': 7.796628339681774,\n",
       "   'lmdi': 8.43773639947176}},\n",
       " {'House 16H': {'shap': 8.844985862262547,\n",
       "   'lime': 8.017016543075442,\n",
       "   'lmdi+': 6.556180695770308,\n",
       "   'lmdi': 8.826509679667652}},\n",
       " {'Higgs': {'shap': 19.297919404809363,\n",
       "   'lime': 18.740224375389516,\n",
       "   'lmdi+': 17.57850780058652,\n",
       "   'lmdi': 19.14587843324989}},\n",
       " {'Jannis': {'shap': 44.39347366214497,\n",
       "   'lime': 44.46839039865881,\n",
       "   'lmdi+': 40.47846425639,\n",
       "   'lmdi': 43.84705500549171}}]"
      ]
     },
     "execution_count": 8,
     "metadata": {},
     "output_type": "execute_result"
    }
   ],
   "source": [
    "medians_lst"
   ]
  },
  {
   "cell_type": "code",
   "execution_count": 9,
   "metadata": {},
   "outputs": [
    {
     "data": {
      "text/plain": [
       "[{'Spam': {'shap': 16.451852499117223,\n",
       "   'lime': 21.273396536113978,\n",
       "   'lmdi+': 15.33868534874064,\n",
       "   'lmdi': 19.253898773378555}},\n",
       " {'Ozone': {'shap': 41.65536896216589,\n",
       "   'lime': 36.79503709232512,\n",
       "   'lmdi+': 33.937575564695344,\n",
       "   'lmdi': 40.315043209628975}},\n",
       " {'Pol': {'shap': 10.312594563630991,\n",
       "   'lime': 11.311634252030752,\n",
       "   'lmdi+': 9.037451228886027,\n",
       "   'lmdi': 9.880664103537914}},\n",
       " {'House 16H': {'shap': 10.131022769714852,\n",
       "   'lime': 9.411110924812215,\n",
       "   'lmdi+': 7.777033024256983,\n",
       "   'lmdi': 10.348635885299117}},\n",
       " {'Higgs': {'shap': 20.00606810154217,\n",
       "   'lime': 19.797955055459987,\n",
       "   'lmdi+': 18.08724017255261,\n",
       "   'lmdi': 19.886439765965388}},\n",
       " {'Jannis': {'shap': 44.78525204881058,\n",
       "   'lime': 44.726430741337815,\n",
       "   'lmdi+': 40.78991326022387,\n",
       "   'lmdi': 44.437355195645246}}]"
      ]
     },
     "execution_count": 9,
     "metadata": {},
     "output_type": "execute_result"
    }
   ],
   "source": [
    "means_lst"
   ]
  }
 ],
 "metadata": {
  "kernelspec": {
   "display_name": "mdi",
   "language": "python",
   "name": "python3"
  },
  "language_info": {
   "codemirror_mode": {
    "name": "ipython",
    "version": 3
   },
   "file_extension": ".py",
   "mimetype": "text/x-python",
   "name": "python",
   "nbconvert_exporter": "python",
   "pygments_lexer": "ipython3",
   "version": "3.10.14"
  }
 },
 "nbformat": 4,
 "nbformat_minor": 4
}
