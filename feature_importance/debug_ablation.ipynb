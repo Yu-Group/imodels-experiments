{
 "cells": [
  {
   "cell_type": "code",
   "execution_count": 1,
   "metadata": {},
   "outputs": [
    {
     "name": "stderr",
     "output_type": "stream",
     "text": [
      "/accounts/projects/binyu/zhongyuan_liang/.local/lib/python3.10/site-packages/tqdm/auto.py:21: TqdmWarning: IProgress not found. Please update jupyter and ipywidgets. See https://ipywidgets.readthedocs.io/en/stable/user_install.html\n",
      "  from .autonotebook import tqdm as notebook_tqdm\n"
     ]
    }
   ],
   "source": [
    "import imodels\n",
    "import pandas as pd\n",
    "import numpy as np\n",
    "from sklearn.model_selection import train_test_split\n",
    "from sklearn.ensemble import RandomForestRegressor\n",
    "from imodels.tree.rf_plus.rf_plus.rf_plus_models import RandomForestPlusRegressor\n",
    "from sklearn.linear_model import LinearRegression\n",
    "from sklearn.metrics import roc_auc_score, f1_score, recall_score, precision_score, mean_squared_error, r2_score\n",
    "from imodels.tree.rf_plus.feature_importance.rfplus_explainer import *\n",
    "from sklearn.preprocessing import StandardScaler\n",
    "import copy\n",
    "import matplotlib.pyplot as plt\n",
    "import openml\n"
   ]
  },
  {
   "cell_type": "code",
   "execution_count": 2,
   "metadata": {},
   "outputs": [
    {
     "name": "stdout",
     "output_type": "stream",
     "text": [
      "fetching diabetes from pmlb\n"
     ]
    }
   ],
   "source": [
    "X, y, _ = imodels.get_clean_dataset(\"diabetes\")\n",
    "# X = np.delete(X, 4,1)\n",
    "# dataset = openml.datasets.get_dataset(588)\n",
    "# X, y, _, _ = dataset.get_data(target=dataset.default_target_attribute, dataset_format=\"array\")"
   ]
  },
  {
   "cell_type": "code",
   "execution_count": 3,
   "metadata": {},
   "outputs": [],
   "source": [
    "# np.random.seed(42) \n",
    "# data = np.random.randn(1000, 10)\n",
    "# n_groups = 2\n",
    "# group_indicator = np.random.choice(n_groups, size=1000)\n",
    "# y = np.zeros(1000)\n",
    "# coefficients = np.random.randn(n_groups, data.shape[1])\n",
    "# for group in range(n_groups):\n",
    "#     group_mask = group_indicator == group\n",
    "#     selected_features = data[group_mask]\n",
    "#     y[group_mask] = np.dot(selected_features, coefficients[group])\n",
    "# X = np.column_stack((data, group_indicator))"
   ]
  },
  {
   "cell_type": "code",
   "execution_count": 4,
   "metadata": {},
   "outputs": [
    {
     "name": "stdout",
     "output_type": "stream",
     "text": [
      "(514, 8) (254, 8)\n"
     ]
    }
   ],
   "source": [
    "# X, y, _ = imodels.get_clean_dataset(\"diabetes_regr\")\n",
    "X_train, X_test, y_train, y_test = train_test_split(X, y, test_size=0.33, random_state=1)\n",
    "print(X_train.shape, X_test.shape)\n",
    "# standardize the data using sklearn's StandardScaler\n",
    "# scaler = StandardScaler()\n",
    "# X_train = scaler.fit_transform(X_train)\n",
    "# X_test = scaler.transform(X_test)"
   ]
  },
  {
   "cell_type": "code",
   "execution_count": 5,
   "metadata": {},
   "outputs": [
    {
     "name": "stderr",
     "output_type": "stream",
     "text": [
      "[Parallel(n_jobs=-1)]: Using backend LokyBackend with 16 concurrent workers.\n",
      "[Parallel(n_jobs=-1)]: Done  18 tasks      | elapsed:    5.5s\n",
      "[Parallel(n_jobs=-1)]: Done 100 out of 100 | elapsed:    9.7s finished\n"
     ]
    }
   ],
   "source": [
    "rf = RandomForestClassifier(n_estimators=100, min_samples_leaf= 3, max_features= 'sqrt', random_state= 42)\n",
    "rf.fit(X_train, y_train)\n",
    "rf_plus_base = RandomForestPlusClassifier(rf_model=rf)\n",
    "rf_plus_base.fit(X_train, y_train)"
   ]
  },
  {
   "cell_type": "code",
   "execution_count": 6,
   "metadata": {},
   "outputs": [
    {
     "ename": "AttributeError",
     "evalue": "'AloMDIPlusPartialPredictionModelClassifier' object has no attribute 'predict_partial_k_subtract_intercept'",
     "output_type": "error",
     "traceback": [
      "\u001b[0;31m---------------------------------------------------------------------------\u001b[0m",
      "\u001b[0;31mAttributeError\u001b[0m                            Traceback (most recent call last)",
      "Cell \u001b[0;32mIn[6], line 2\u001b[0m\n\u001b[1;32m      1\u001b[0m rf_plus_mdi \u001b[39m=\u001b[39m AloRFPlusMDI(rf_plus_base, evaluate_on\u001b[39m=\u001b[39m\u001b[39m\"\u001b[39m\u001b[39mall\u001b[39m\u001b[39m\"\u001b[39m)\n\u001b[0;32m----> 2\u001b[0m partial_preds_subtract_intercept \u001b[39m=\u001b[39m rf_plus_mdi\u001b[39m.\u001b[39;49mexplain_subtract_intercept(X\u001b[39m=\u001b[39;49mX_test)\n",
      "File \u001b[0;32m~/local_MDI+/imodels/imodels/tree/rf_plus/feature_importance/rfplus_explainer.py:282\u001b[0m, in \u001b[0;36mAloRFPlusMDI.explain_subtract_intercept\u001b[0;34m(self, X, y)\u001b[0m\n\u001b[1;32m    281\u001b[0m \u001b[39mdef\u001b[39;00m \u001b[39mexplain_subtract_intercept\u001b[39m(\u001b[39mself\u001b[39m, X,y \u001b[39m=\u001b[39m \u001b[39mNone\u001b[39;00m):\n\u001b[0;32m--> 282\u001b[0m     \u001b[39mreturn\u001b[39;00m \u001b[39msuper\u001b[39;49m()\u001b[39m.\u001b[39;49mexplain_subtract_intercept(X,y)\n",
      "File \u001b[0;32m~/local_MDI+/imodels/imodels/tree/rf_plus/feature_importance/rfplus_explainer.py:214\u001b[0m, in \u001b[0;36mRFPlusMDI.explain_subtract_intercept\u001b[0;34m(self, X, y)\u001b[0m\n\u001b[1;32m    211\u001b[0m local_feature_importances[local_feature_importances \u001b[39m==\u001b[39m \u001b[39m0\u001b[39m] \u001b[39m=\u001b[39m np\u001b[39m.\u001b[39mnan\n\u001b[1;32m    213\u001b[0m \u001b[39m# all_tree_LFI_scores has shape X.shape[0], X.shape[1], num_trees \u001b[39;00m\n\u001b[0;32m--> 214\u001b[0m all_tree_LFI_scores \u001b[39m=\u001b[39m \u001b[39mself\u001b[39;49m\u001b[39m.\u001b[39;49m_get_LFI_subtract_intercept(X,y)\n\u001b[1;32m    216\u001b[0m \u001b[39mif\u001b[39;00m y \u001b[39mis\u001b[39;00m \u001b[39mNone\u001b[39;00m:\n\u001b[1;32m    217\u001b[0m     evaluate_on \u001b[39m=\u001b[39m \u001b[39mNone\u001b[39;00m\n",
      "File \u001b[0;32m~/local_MDI+/imodels/imodels/tree/rf_plus/feature_importance/rfplus_explainer.py:305\u001b[0m, in \u001b[0;36mAloRFPlusMDI._get_LFI_subtract_intercept\u001b[0;34m(self, X, y)\u001b[0m\n\u001b[1;32m    303\u001b[0m blocked_data_ith_tree \u001b[39m=\u001b[39m \u001b[39mself\u001b[39m\u001b[39m.\u001b[39mrf_plus_model\u001b[39m.\u001b[39mtransformers_[i]\u001b[39m.\u001b[39mtransform(X)\n\u001b[1;32m    304\u001b[0m \u001b[39mif\u001b[39;00m y \u001b[39mis\u001b[39;00m \u001b[39mNone\u001b[39;00m:\n\u001b[0;32m--> 305\u001b[0m     ith_partial_preds \u001b[39m=\u001b[39m tree_explainer\u001b[39m.\u001b[39;49mpredict_partial_subtract_intercept(blocked_data_ith_tree, mode\u001b[39m=\u001b[39;49m\u001b[39mself\u001b[39;49m\u001b[39m.\u001b[39;49mmode)\n\u001b[1;32m    306\u001b[0m \u001b[39melse\u001b[39;00m:\n\u001b[1;32m    307\u001b[0m     ith_partial_preds \u001b[39m=\u001b[39m tree_explainer\u001b[39m.\u001b[39mpredict_partial_loo_subtract_intercept(blocked_data_ith_tree, mode\u001b[39m=\u001b[39m\u001b[39mself\u001b[39m\u001b[39m.\u001b[39mmode)\n",
      "File \u001b[0;32m~/local_MDI+/imodels/imodels/tree/rf_plus/feature_importance/ppms/ppms.py:130\u001b[0m, in \u001b[0;36m_MDIPlusGenericPPM.predict_partial_subtract_intercept\u001b[0;34m(self, blocked_data, mode, zero_values)\u001b[0m\n\u001b[1;32m    128\u001b[0m         partial_preds[k] \u001b[39m=\u001b[39m \u001b[39mself\u001b[39m\u001b[39m.\u001b[39mpredict_partial_k_subtract_intercept(blocked_data, k, mode, zero_value\u001b[39m=\u001b[39mzero_values[k])\n\u001b[1;32m    129\u001b[0m     \u001b[39melse\u001b[39;00m:\n\u001b[0;32m--> 130\u001b[0m         partial_preds[k] \u001b[39m=\u001b[39m \u001b[39mself\u001b[39;49m\u001b[39m.\u001b[39;49mpredict_partial_k_subtract_intercept(blocked_data, k, mode)\n\u001b[1;32m    131\u001b[0m \u001b[39mreturn\u001b[39;00m partial_preds\n",
      "\u001b[0;31mAttributeError\u001b[0m: 'AloMDIPlusPartialPredictionModelClassifier' object has no attribute 'predict_partial_k_subtract_intercept'"
     ]
    }
   ],
   "source": [
    "rf_plus_mdi = AloRFPlusMDI(rf_plus_base, evaluate_on=\"all\")\n",
    "partial_preds_subtract_intercept = rf_plus_mdi.explain_subtract_intercept(X=X_test)"
   ]
  },
  {
   "cell_type": "code",
   "execution_count": null,
   "metadata": {},
   "outputs": [],
   "source": [
    "partial_preds_subtract_intercept[0]"
   ]
  },
  {
   "cell_type": "code",
   "execution_count": null,
   "metadata": {},
   "outputs": [],
   "source": [
    "partial_preds_subtract_intercept[0]"
   ]
  },
  {
   "cell_type": "code",
   "execution_count": null,
   "metadata": {},
   "outputs": [],
   "source": [
    "rf_plus_base.predict_proba(X_test)"
   ]
  },
  {
   "cell_type": "code",
   "execution_count": null,
   "metadata": {},
   "outputs": [],
   "source": [
    "temp = rf_plus_mdi.explain(X=X_test, y=y_test)"
   ]
  },
  {
   "cell_type": "code",
   "execution_count": null,
   "metadata": {},
   "outputs": [],
   "source": [
    "temp[0][0]"
   ]
  },
  {
   "cell_type": "code",
   "execution_count": null,
   "metadata": {},
   "outputs": [],
   "source": [
    "rf = RandomForestRegressor(n_estimators=100, random_state=41, min_samples_leaf=5, max_features=0.33)\n",
    "rf.fit(X_train, y_train)\n",
    "rf_plus_base = RandomForestPlusRegressor(rf_model=copy.deepcopy(rf))\n",
    "rf_plus_base.fit(X_train, y_train)\n",
    "test_all_mse_rf = mean_squared_error(y_test, rf.predict(X_test))\n",
    "test_all_r2_rf = r2_score(y_test, rf.predict(X_test))\n",
    "test_all_mse_rf_plus = mean_squared_error(y_test, rf_plus_base.predict(X_test))\n",
    "test_all_r2_rf_plus = r2_score(y_test, rf_plus_base.predict(X_test))\n",
    "print(\"Test MSE RF: \", test_all_mse_rf)\n",
    "print(\"Test R2 RF: \", test_all_r2_rf)\n",
    "print(\"Test MSE RF+: \", test_all_mse_rf_plus)\n",
    "print(\"Test R2 RF+: \", test_all_r2_rf_plus)"
   ]
  },
  {
   "cell_type": "code",
   "execution_count": null,
   "metadata": {},
   "outputs": [],
   "source": [
    "# Get shap values\n",
    "import shap\n",
    "explainer = shap.TreeExplainer(rf)\n",
    "shap_values_train = explainer.shap_values(X_train, check_additivity=True)\n",
    "# shap_values_train = np.abs(shap_values_train)\n",
    "shap_values_test = explainer.shap_values(X_test, check_additivity=True)\n",
    "# shap_values_test = np.abs(shap_values_test)"
   ]
  },
  {
   "cell_type": "code",
   "execution_count": null,
   "metadata": {},
   "outputs": [],
   "source": [
    "def ablation_removal(train_mean, data, feature_importance_rank, feature_index):\n",
    "    data_copy = data.copy()\n",
    "    indices = feature_importance_rank[:, feature_index]\n",
    "    data_copy[np.arange(data.shape[0]), indices] = train_mean[indices]\n",
    "    return data_copy\n",
    "def ablation_removal_positive(train_mean, data, feature_importance_rank, feature_importance, feature_index):\n",
    "    data_copy = data.copy()\n",
    "    indices = feature_importance_rank[:, feature_index]\n",
    "    sum = 0\n",
    "    for i in range(data.shape[0]):\n",
    "        if feature_importance[i, indices[i]] > 0:\n",
    "            sum += 1\n",
    "            data_copy[i, indices[i]] = train_mean[indices[i]]\n",
    "    print(\"Remove sum: \", sum)\n",
    "    return data_copy\n",
    "def ablation_removal_negative(train_mean, data, feature_importance_rank, feature_importance, feature_index):\n",
    "    data_copy = data.copy()\n",
    "    indices = feature_importance_rank[:, feature_index]\n",
    "    sum = 0\n",
    "    for i in range(data.shape[0]):\n",
    "        if feature_importance[i, indices[i]] < 0:\n",
    "            sum += 1\n",
    "            data_copy[i, indices[i]] = train_mean[indices[i]]\n",
    "    print(\"Remove sum: \", sum)\n",
    "    return data_copy"
   ]
  },
  {
   "cell_type": "code",
   "execution_count": null,
   "metadata": {},
   "outputs": [],
   "source": [
    "ablation_models = {\"RF_Regressor\": rf,\n",
    "                    \"Linear\": LinearRegression(),\n",
    "                    \"RF_Plus_Regressor\": rf_plus_base}\n",
    "X_data = X_test\n",
    "y_data = y_test\n",
    "ablation_data=\"test\"\n",
    "ablation_models[\"Linear\"].fit(X_train, y_train)"
   ]
  },
  {
   "cell_type": "markdown",
   "metadata": {},
   "source": [
    "### Shap"
   ]
  },
  {
   "cell_type": "code",
   "execution_count": null,
   "metadata": {},
   "outputs": [],
   "source": [
    "a_model = \"Linear\"\n",
    "ablation_est = ablation_models[a_model]\n",
    "metric_results = {}\n",
    "local_fi_score_data =shap_values_test\n",
    "local_fi_score_data_rank = np.argsort(shap_values_test)\n",
    "num_ablate_features = X_train.shape[1]\n",
    "train_mean = np.mean(X_train, axis=0)\n",
    "y_pred = ablation_est.predict(X_data)\n",
    "metric_results[a_model + f'_{ablation_data}_MSE_before_ablation'] = mean_squared_error(y_data, y_pred)\n",
    "metric_results[a_model + f'_{ablation_data}_R_2_before_ablation'] = r2_score(y_data, y_pred)\n",
    "ablation_results_list = [0] * num_ablate_features\n",
    "ablation_results_list_r2 = [0] * num_ablate_features\n",
    "X_temp = X_data.copy()\n",
    "for i in range(num_ablate_features):\n",
    "    print(f\"enter i: {i}\")\n",
    "    ablation_X_data = ablation_removal_negative(train_mean, X_temp, local_fi_score_data_rank, local_fi_score_data, i)\n",
    "    ablation_results_list[i] = mean_squared_error(y_data, ablation_est.predict(ablation_X_data))\n",
    "    ablation_results_list_r2[i] = r2_score(y_data, ablation_est.predict(ablation_X_data))\n",
    "    X_temp = ablation_X_data\n",
    "for i in range(num_ablate_features):\n",
    "    metric_results[f'{a_model}_{ablation_data}_MSE_after_ablation_{i+1}'] = ablation_results_list[i]\n",
    "    metric_results[f'{a_model}_{ablation_data}_R_2_after_ablation_{i+1}'] = ablation_results_list_r2[i]\n",
    "\n",
    "mse_before = metric_results[a_model + f'_{ablation_data}_MSE_before_ablation']\n",
    "r2_before = metric_results[a_model + f'_{ablation_data}_R_2_before_ablation']\n",
    "\n",
    "mse_after = [metric_results[f'{a_model}_{ablation_data}_MSE_after_ablation_{i}'] for i in range(1, num_ablate_features)]\n",
    "r2_after = [metric_results[f'{a_model}_{ablation_data}_R_2_after_ablation_{i}'] for i in range(1, num_ablate_features)]\n",
    "\n",
    "# Plotting MSE\n",
    "plt.figure(figsize=(12, 6))\n",
    "plt.plot(['Before'] + [f'After {i}' for i in range(1, num_ablate_features)], [mse_before] + mse_after, color='tab:red', marker='o')\n",
    "plt.xlabel('Ablation Step')\n",
    "plt.ylabel('MSE')\n",
    "plt.title(f'{a_model} MSE Before and After Ablation')\n",
    "plt.show()\n",
    "\n",
    "# Plotting R^2\n",
    "plt.figure(figsize=(12, 6))\n",
    "plt.plot(['Before'] + [f'After {i}' for i in range(1, num_ablate_features)], [r2_before] + r2_after, color='tab:blue', marker='o')\n",
    "plt.xlabel('Ablation Step')\n",
    "plt.ylabel('R^2')\n",
    "plt.title(f'{a_model} R^2 Before and After Ablation')\n",
    "plt.show()"
   ]
  },
  {
   "cell_type": "code",
   "execution_count": null,
   "metadata": {},
   "outputs": [],
   "source": [
    "a_model = \"Linear\"\n",
    "ablation_est = ablation_models[a_model]\n",
    "metric_results = {}\n",
    "local_fi_score_data =shap_values_test\n",
    "local_fi_score_data_rank = np.argsort(-1*shap_values_test)\n",
    "num_ablate_features = X_train.shape[1]\n",
    "train_mean = np.mean(X_train, axis=0)\n",
    "y_pred = ablation_est.predict(X_data)\n",
    "metric_results[a_model + f'_{ablation_data}_MSE_before_ablation'] = mean_squared_error(y_data, y_pred)\n",
    "metric_results[a_model + f'_{ablation_data}_R_2_before_ablation'] = r2_score(y_data, y_pred)\n",
    "ablation_results_list = [0] * num_ablate_features\n",
    "ablation_results_list_r2 = [0] * num_ablate_features\n",
    "X_temp = X_data.copy()\n",
    "for i in range(num_ablate_features):\n",
    "    ablation_X_data = ablation_removal_positive(train_mean, X_temp, local_fi_score_data_rank, local_fi_score_data, i)\n",
    "    ablation_results_list[i] = mean_squared_error(y_data, ablation_est.predict(ablation_X_data))\n",
    "    ablation_results_list_r2[i] = r2_score(y_data, ablation_est.predict(ablation_X_data))\n",
    "    X_temp = ablation_X_data\n",
    "for i in range(num_ablate_features):\n",
    "    metric_results[f'{a_model}_{ablation_data}_MSE_after_ablation_{i+1}'] = ablation_results_list[i]\n",
    "    metric_results[f'{a_model}_{ablation_data}_R_2_after_ablation_{i+1}'] = ablation_results_list_r2[i]\n",
    "\n",
    "mse_before = metric_results[a_model + f'_{ablation_data}_MSE_before_ablation']\n",
    "r2_before = metric_results[a_model + f'_{ablation_data}_R_2_before_ablation']\n",
    "\n",
    "mse_after = [metric_results[f'{a_model}_{ablation_data}_MSE_after_ablation_{i}'] for i in range(1, num_ablate_features)]\n",
    "r2_after = [metric_results[f'{a_model}_{ablation_data}_R_2_after_ablation_{i}'] for i in range(1, num_ablate_features)]\n",
    "\n",
    "# Plotting MSE\n",
    "plt.figure(figsize=(12, 6))\n",
    "plt.plot(['Before'] + [f'After {i}' for i in range(1, num_ablate_features)], [mse_before] + mse_after, color='tab:red', marker='o')\n",
    "plt.xlabel('Ablation Step')\n",
    "plt.ylabel('MSE')\n",
    "plt.title(f'{a_model} MSE Before and After Ablation')\n",
    "plt.show()\n",
    "\n",
    "# Plotting R^2\n",
    "plt.figure(figsize=(12, 6))\n",
    "plt.plot(['Before'] + [f'After {i}' for i in range(1, num_ablate_features)], [r2_before] + r2_after, color='tab:blue', marker='o')\n",
    "plt.xlabel('Ablation Step')\n",
    "plt.ylabel('R^2')\n",
    "plt.title(f'{a_model} R^2 Before and After Ablation')\n",
    "plt.show()"
   ]
  },
  {
   "cell_type": "code",
   "execution_count": null,
   "metadata": {},
   "outputs": [],
   "source": [
    "a_model = \"Linear\"\n",
    "ablation_est = ablation_models[a_model]\n",
    "metric_results = {}\n",
    "local_fi_score_data_rank = np.argsort(-1*np.abs(shap_values_test))#np.argsort(-1*local_feature_importances_train) #np.argsort(-1*shap_values_train) #np.argsort(-1*np.random.rand(X_train.shape[0], 10))\n",
    "num_ablate_features = X_train.shape[1]\n",
    "train_mean = np.mean(X_train, axis=0)\n",
    "\n",
    "y_pred = ablation_est.predict(X_data)\n",
    "metric_results[a_model + f'_{ablation_data}_MSE_before_ablation'] = mean_squared_error(y_data, y_pred)\n",
    "metric_results[a_model + f'_{ablation_data}_R_2_before_ablation'] = r2_score(y_data, y_pred)\n",
    "ablation_results_list = [0] * num_ablate_features\n",
    "ablation_results_list_r2 = [0] * num_ablate_features\n",
    "X_temp = X_data.copy()\n",
    "for i in range(num_ablate_features):\n",
    "    ablation_X_data = ablation_removal(train_mean, X_temp, local_fi_score_data_rank, i)\n",
    "    ablation_results_list[i] = mean_squared_error(y_data, ablation_est.predict(ablation_X_data))\n",
    "    ablation_results_list_r2[i] = r2_score(y_data, ablation_est.predict(ablation_X_data))\n",
    "    X_temp = ablation_X_data\n",
    "for i in range(num_ablate_features):\n",
    "    metric_results[f'{a_model}_{ablation_data}_MSE_after_ablation_{i+1}'] = ablation_results_list[i]\n",
    "    metric_results[f'{a_model}_{ablation_data}_R_2_after_ablation_{i+1}'] = ablation_results_list_r2[i]\n",
    "\n",
    "mse_before = metric_results[a_model + f'_{ablation_data}_MSE_before_ablation']\n",
    "r2_before = metric_results[a_model + f'_{ablation_data}_R_2_before_ablation']\n",
    "\n",
    "mse_after = [metric_results[f'{a_model}_{ablation_data}_MSE_after_ablation_{i}'] for i in range(1, num_ablate_features)]\n",
    "r2_after = [metric_results[f'{a_model}_{ablation_data}_R_2_after_ablation_{i}'] for i in range(1, num_ablate_features)]\n",
    "\n",
    "# Plotting MSE\n",
    "plt.figure(figsize=(12, 6))\n",
    "plt.plot(['Before'] + [f'After {i}' for i in range(1, num_ablate_features)], [mse_before] + mse_after, color='tab:red', marker='o')\n",
    "plt.xlabel('Ablation Step')\n",
    "plt.ylabel('MSE')\n",
    "plt.title(f'{a_model} MSE Before and After Ablation')\n",
    "plt.show()\n",
    "\n",
    "# Plotting R^2\n",
    "plt.figure(figsize=(12, 6))\n",
    "plt.plot(['Before'] + [f'After {i}' for i in range(1, num_ablate_features)], [r2_before] + r2_after, color='tab:blue', marker='o')\n",
    "plt.xlabel('Ablation Step')\n",
    "plt.ylabel('R^2')\n",
    "plt.title(f'{a_model} R^2 Before and After Ablation')\n",
    "plt.show()"
   ]
  },
  {
   "cell_type": "code",
   "execution_count": null,
   "metadata": {},
   "outputs": [],
   "source": [
    "a_model = \"RF_Regressor\"\n",
    "ablation_est = ablation_models[a_model]\n",
    "metric_results = {}\n",
    "local_fi_score_data =shap_values_test\n",
    "local_fi_score_data_rank = np.argsort(shap_values_test)\n",
    "num_ablate_features = X_train.shape[1]\n",
    "train_mean = np.mean(X_train, axis=0)\n",
    "y_pred = ablation_est.predict(X_data)\n",
    "metric_results[a_model + f'_{ablation_data}_MSE_before_ablation'] = mean_squared_error(y_data, y_pred)\n",
    "metric_results[a_model + f'_{ablation_data}_R_2_before_ablation'] = r2_score(y_data, y_pred)\n",
    "ablation_results_list = [0] * num_ablate_features\n",
    "ablation_results_list_r2 = [0] * num_ablate_features\n",
    "X_temp = X_data.copy()\n",
    "for i in range(num_ablate_features):\n",
    "    print(f\"enter i: {i}\")\n",
    "    ablation_X_data = ablation_removal_negative(train_mean, X_temp, local_fi_score_data_rank, local_fi_score_data, i)\n",
    "    ablation_results_list[i] = mean_squared_error(y_data, ablation_est.predict(ablation_X_data))\n",
    "    ablation_results_list_r2[i] = r2_score(y_data, ablation_est.predict(ablation_X_data))\n",
    "    X_temp = ablation_X_data\n",
    "for i in range(num_ablate_features):\n",
    "    metric_results[f'{a_model}_{ablation_data}_MSE_after_ablation_{i+1}'] = ablation_results_list[i]\n",
    "    metric_results[f'{a_model}_{ablation_data}_R_2_after_ablation_{i+1}'] = ablation_results_list_r2[i]\n",
    "\n",
    "mse_before = metric_results[a_model + f'_{ablation_data}_MSE_before_ablation']\n",
    "r2_before = metric_results[a_model + f'_{ablation_data}_R_2_before_ablation']\n",
    "\n",
    "mse_after = [metric_results[f'{a_model}_{ablation_data}_MSE_after_ablation_{i}'] for i in range(1, num_ablate_features)]\n",
    "r2_after = [metric_results[f'{a_model}_{ablation_data}_R_2_after_ablation_{i}'] for i in range(1, num_ablate_features)]\n",
    "\n",
    "# Plotting MSE\n",
    "plt.figure(figsize=(12, 6))\n",
    "plt.plot(['Before'] + [f'After {i}' for i in range(1, num_ablate_features)], [mse_before] + mse_after, color='tab:red', marker='o')\n",
    "plt.xlabel('Ablation Step')\n",
    "plt.ylabel('MSE')\n",
    "plt.title(f'{a_model} MSE Before and After Ablation')\n",
    "plt.show()\n",
    "\n",
    "# Plotting R^2\n",
    "plt.figure(figsize=(12, 6))\n",
    "plt.plot(['Before'] + [f'After {i}' for i in range(1, num_ablate_features)], [r2_before] + r2_after, color='tab:blue', marker='o')\n",
    "plt.xlabel('Ablation Step')\n",
    "plt.ylabel('R^2')\n",
    "plt.title(f'{a_model} R^2 Before and After Ablation')\n",
    "plt.show()"
   ]
  },
  {
   "cell_type": "code",
   "execution_count": null,
   "metadata": {},
   "outputs": [],
   "source": [
    "a_model = \"RF_Regressor\"\n",
    "ablation_est = ablation_models[a_model]\n",
    "metric_results = {}\n",
    "local_fi_score_data =shap_values_test\n",
    "local_fi_score_data_rank = np.argsort(-1*shap_values_test)\n",
    "num_ablate_features = X_train.shape[1]\n",
    "train_mean = np.mean(X_train, axis=0)\n",
    "y_pred = ablation_est.predict(X_data)\n",
    "metric_results[a_model + f'_{ablation_data}_MSE_before_ablation'] = mean_squared_error(y_data, y_pred)\n",
    "metric_results[a_model + f'_{ablation_data}_R_2_before_ablation'] = r2_score(y_data, y_pred)\n",
    "ablation_results_list = [0] * num_ablate_features\n",
    "ablation_results_list_r2 = [0] * num_ablate_features\n",
    "X_temp = X_data.copy()\n",
    "for i in range(num_ablate_features):\n",
    "    ablation_X_data = ablation_removal_positive(train_mean, X_temp, local_fi_score_data_rank, local_fi_score_data, i)\n",
    "    ablation_results_list[i] = mean_squared_error(y_data, ablation_est.predict(ablation_X_data))\n",
    "    ablation_results_list_r2[i] = r2_score(y_data, ablation_est.predict(ablation_X_data))\n",
    "    X_temp = ablation_X_data\n",
    "for i in range(num_ablate_features):\n",
    "    metric_results[f'{a_model}_{ablation_data}_MSE_after_ablation_{i+1}'] = ablation_results_list[i]\n",
    "    metric_results[f'{a_model}_{ablation_data}_R_2_after_ablation_{i+1}'] = ablation_results_list_r2[i]\n",
    "\n",
    "mse_before = metric_results[a_model + f'_{ablation_data}_MSE_before_ablation']\n",
    "r2_before = metric_results[a_model + f'_{ablation_data}_R_2_before_ablation']\n",
    "\n",
    "mse_after = [metric_results[f'{a_model}_{ablation_data}_MSE_after_ablation_{i}'] for i in range(1, num_ablate_features)]\n",
    "r2_after = [metric_results[f'{a_model}_{ablation_data}_R_2_after_ablation_{i}'] for i in range(1, num_ablate_features)]\n",
    "\n",
    "# Plotting MSE\n",
    "plt.figure(figsize=(12, 6))\n",
    "plt.plot(['Before'] + [f'After {i}' for i in range(1, num_ablate_features)], [mse_before] + mse_after, color='tab:red', marker='o')\n",
    "plt.xlabel('Ablation Step')\n",
    "plt.ylabel('MSE')\n",
    "plt.title(f'{a_model} MSE Before and After Ablation')\n",
    "plt.show()\n",
    "\n",
    "# Plotting R^2\n",
    "plt.figure(figsize=(12, 6))\n",
    "plt.plot(['Before'] + [f'After {i}' for i in range(1, num_ablate_features)], [r2_before] + r2_after, color='tab:blue', marker='o')\n",
    "plt.xlabel('Ablation Step')\n",
    "plt.ylabel('R^2')\n",
    "plt.title(f'{a_model} R^2 Before and After Ablation')\n",
    "plt.show()"
   ]
  },
  {
   "cell_type": "code",
   "execution_count": null,
   "metadata": {},
   "outputs": [],
   "source": [
    "a_model = \"RF_Regressor\"\n",
    "ablation_est = ablation_models[a_model]\n",
    "metric_results = {}\n",
    "local_fi_score_data_rank = np.argsort(-1*np.abs(shap_values_test))#np.argsort(-1*local_feature_importances_train) #np.argsort(-1*shap_values_train) #np.argsort(-1*np.random.rand(X_train.shape[0], 10))\n",
    "num_ablate_features = X_train.shape[1]\n",
    "train_mean = np.mean(X_train, axis=0)\n",
    "\n",
    "y_pred = ablation_est.predict(X_data)\n",
    "metric_results[a_model + f'_{ablation_data}_MSE_before_ablation'] = mean_squared_error(y_data, y_pred)\n",
    "metric_results[a_model + f'_{ablation_data}_R_2_before_ablation'] = r2_score(y_data, y_pred)\n",
    "ablation_results_list = [0] * num_ablate_features\n",
    "ablation_results_list_r2 = [0] * num_ablate_features\n",
    "X_temp = X_data.copy()\n",
    "for i in range(num_ablate_features):\n",
    "    ablation_X_data = ablation_removal(train_mean, X_temp, local_fi_score_data_rank, i)\n",
    "    ablation_results_list[i] = mean_squared_error(y_data, ablation_est.predict(ablation_X_data))\n",
    "    ablation_results_list_r2[i] = r2_score(y_data, ablation_est.predict(ablation_X_data))\n",
    "    X_temp = ablation_X_data\n",
    "for i in range(num_ablate_features):\n",
    "    metric_results[f'{a_model}_{ablation_data}_MSE_after_ablation_{i+1}'] = ablation_results_list[i]\n",
    "    metric_results[f'{a_model}_{ablation_data}_R_2_after_ablation_{i+1}'] = ablation_results_list_r2[i]\n",
    "\n",
    "mse_before = metric_results[a_model + f'_{ablation_data}_MSE_before_ablation']\n",
    "r2_before = metric_results[a_model + f'_{ablation_data}_R_2_before_ablation']\n",
    "\n",
    "mse_after = [metric_results[f'{a_model}_{ablation_data}_MSE_after_ablation_{i}'] for i in range(1, num_ablate_features)]\n",
    "r2_after = [metric_results[f'{a_model}_{ablation_data}_R_2_after_ablation_{i}'] for i in range(1, num_ablate_features)]\n",
    "\n",
    "# Plotting MSE\n",
    "plt.figure(figsize=(12, 6))\n",
    "plt.plot(['Before'] + [f'After {i}' for i in range(1, num_ablate_features)], [mse_before] + mse_after, color='tab:red', marker='o')\n",
    "plt.xlabel('Ablation Step')\n",
    "plt.ylabel('MSE')\n",
    "plt.title(f'{a_model} MSE Before and After Ablation')\n",
    "plt.show()\n",
    "\n",
    "# Plotting R^2\n",
    "plt.figure(figsize=(12, 6))\n",
    "plt.plot(['Before'] + [f'After {i}' for i in range(1, num_ablate_features)], [r2_before] + r2_after, color='tab:blue', marker='o')\n",
    "plt.xlabel('Ablation Step')\n",
    "plt.ylabel('R^2')\n",
    "plt.title(f'{a_model} R^2 Before and After Ablation')\n",
    "plt.show()"
   ]
  },
  {
   "cell_type": "code",
   "execution_count": null,
   "metadata": {},
   "outputs": [],
   "source": [
    "a_model = \"RF_Plus_Regressor\"\n",
    "ablation_est = ablation_models[a_model]\n",
    "metric_results = {}\n",
    "local_fi_score_data =shap_values_test\n",
    "local_fi_score_data_rank = np.argsort(shap_values_test)\n",
    "num_ablate_features = X_train.shape[1]\n",
    "train_mean = np.mean(X_train, axis=0)\n",
    "y_pred = ablation_est.predict(X_data)\n",
    "metric_results[a_model + f'_{ablation_data}_MSE_before_ablation'] = mean_squared_error(y_data, y_pred)\n",
    "metric_results[a_model + f'_{ablation_data}_R_2_before_ablation'] = r2_score(y_data, y_pred)\n",
    "ablation_results_list = [0] * num_ablate_features\n",
    "ablation_results_list_r2 = [0] * num_ablate_features\n",
    "X_temp = X_data.copy()\n",
    "for i in range(num_ablate_features):\n",
    "    print(f\"enter i: {i}\")\n",
    "    ablation_X_data = ablation_removal_negative(train_mean, X_temp, local_fi_score_data_rank, local_fi_score_data, i)\n",
    "    ablation_results_list[i] = mean_squared_error(y_data, ablation_est.predict(ablation_X_data))\n",
    "    ablation_results_list_r2[i] = r2_score(y_data, ablation_est.predict(ablation_X_data))\n",
    "    X_temp = ablation_X_data\n",
    "for i in range(num_ablate_features):\n",
    "    metric_results[f'{a_model}_{ablation_data}_MSE_after_ablation_{i+1}'] = ablation_results_list[i]\n",
    "    metric_results[f'{a_model}_{ablation_data}_R_2_after_ablation_{i+1}'] = ablation_results_list_r2[i]\n",
    "\n",
    "mse_before = metric_results[a_model + f'_{ablation_data}_MSE_before_ablation']\n",
    "r2_before = metric_results[a_model + f'_{ablation_data}_R_2_before_ablation']\n",
    "\n",
    "mse_after = [metric_results[f'{a_model}_{ablation_data}_MSE_after_ablation_{i}'] for i in range(1, num_ablate_features)]\n",
    "r2_after = [metric_results[f'{a_model}_{ablation_data}_R_2_after_ablation_{i}'] for i in range(1, num_ablate_features)]\n",
    "\n",
    "# Plotting MSE\n",
    "plt.figure(figsize=(12, 6))\n",
    "plt.plot(['Before'] + [f'After {i}' for i in range(1, num_ablate_features)], [mse_before] + mse_after, color='tab:red', marker='o')\n",
    "plt.xlabel('Ablation Step')\n",
    "plt.ylabel('MSE')\n",
    "plt.title(f'{a_model} MSE Before and After Ablation')\n",
    "plt.show()\n",
    "\n",
    "# Plotting R^2\n",
    "plt.figure(figsize=(12, 6))\n",
    "plt.plot(['Before'] + [f'After {i}' for i in range(1, num_ablate_features)], [r2_before] + r2_after, color='tab:blue', marker='o')\n",
    "plt.xlabel('Ablation Step')\n",
    "plt.ylabel('R^2')\n",
    "plt.title(f'{a_model} R^2 Before and After Ablation')\n",
    "plt.show()"
   ]
  },
  {
   "cell_type": "code",
   "execution_count": null,
   "metadata": {},
   "outputs": [],
   "source": [
    "a_model = \"RF_Plus_Regressor\"\n",
    "ablation_est = ablation_models[a_model]\n",
    "metric_results = {}\n",
    "local_fi_score_data =shap_values_test\n",
    "local_fi_score_data_rank = np.argsort(-1*shap_values_test)\n",
    "num_ablate_features = X_train.shape[1]\n",
    "train_mean = np.mean(X_train, axis=0)\n",
    "y_pred = ablation_est.predict(X_data)\n",
    "metric_results[a_model + f'_{ablation_data}_MSE_before_ablation'] = mean_squared_error(y_data, y_pred)\n",
    "metric_results[a_model + f'_{ablation_data}_R_2_before_ablation'] = r2_score(y_data, y_pred)\n",
    "ablation_results_list = [0] * num_ablate_features\n",
    "ablation_results_list_r2 = [0] * num_ablate_features\n",
    "X_temp = X_data.copy()\n",
    "for i in range(num_ablate_features):\n",
    "    ablation_X_data = ablation_removal_positive(train_mean, X_temp, local_fi_score_data_rank, local_fi_score_data, i)\n",
    "    ablation_results_list[i] = mean_squared_error(y_data, ablation_est.predict(ablation_X_data))\n",
    "    ablation_results_list_r2[i] = r2_score(y_data, ablation_est.predict(ablation_X_data))\n",
    "    X_temp = ablation_X_data\n",
    "for i in range(num_ablate_features):\n",
    "    metric_results[f'{a_model}_{ablation_data}_MSE_after_ablation_{i+1}'] = ablation_results_list[i]\n",
    "    metric_results[f'{a_model}_{ablation_data}_R_2_after_ablation_{i+1}'] = ablation_results_list_r2[i]\n",
    "\n",
    "mse_before = metric_results[a_model + f'_{ablation_data}_MSE_before_ablation']\n",
    "r2_before = metric_results[a_model + f'_{ablation_data}_R_2_before_ablation']\n",
    "\n",
    "mse_after = [metric_results[f'{a_model}_{ablation_data}_MSE_after_ablation_{i}'] for i in range(1, num_ablate_features)]\n",
    "r2_after = [metric_results[f'{a_model}_{ablation_data}_R_2_after_ablation_{i}'] for i in range(1, num_ablate_features)]\n",
    "\n",
    "# Plotting MSE\n",
    "plt.figure(figsize=(12, 6))\n",
    "plt.plot(['Before'] + [f'After {i}' for i in range(1, num_ablate_features)], [mse_before] + mse_after, color='tab:red', marker='o')\n",
    "plt.xlabel('Ablation Step')\n",
    "plt.ylabel('MSE')\n",
    "plt.title(f'{a_model} MSE Before and After Ablation')\n",
    "plt.show()\n",
    "\n",
    "# Plotting R^2\n",
    "plt.figure(figsize=(12, 6))\n",
    "plt.plot(['Before'] + [f'After {i}' for i in range(1, num_ablate_features)], [r2_before] + r2_after, color='tab:blue', marker='o')\n",
    "plt.xlabel('Ablation Step')\n",
    "plt.ylabel('R^2')\n",
    "plt.title(f'{a_model} R^2 Before and After Ablation')\n",
    "plt.show()"
   ]
  },
  {
   "cell_type": "code",
   "execution_count": null,
   "metadata": {},
   "outputs": [],
   "source": [
    "a_model = \"RF_Plus_Regressor\"\n",
    "ablation_est = ablation_models[a_model]\n",
    "metric_results = {}\n",
    "local_fi_score_data_rank = np.argsort(-1*np.abs(shap_values_test))#np.argsort(-1*local_feature_importances_train) #np.argsort(-1*shap_values_train) #np.argsort(-1*np.random.rand(X_train.shape[0], 10))\n",
    "num_ablate_features = X_train.shape[1]\n",
    "train_mean = np.mean(X_train, axis=0)\n",
    "\n",
    "y_pred = ablation_est.predict(X_data)\n",
    "metric_results[a_model + f'_{ablation_data}_MSE_before_ablation'] = mean_squared_error(y_data, y_pred)\n",
    "metric_results[a_model + f'_{ablation_data}_R_2_before_ablation'] = r2_score(y_data, y_pred)\n",
    "ablation_results_list = [0] * num_ablate_features\n",
    "ablation_results_list_r2 = [0] * num_ablate_features\n",
    "X_temp = X_data.copy()\n",
    "for i in range(num_ablate_features):\n",
    "    ablation_X_data = ablation_removal(train_mean, X_temp, local_fi_score_data_rank, i)\n",
    "    ablation_results_list[i] = mean_squared_error(y_data, ablation_est.predict(ablation_X_data))\n",
    "    ablation_results_list_r2[i] = r2_score(y_data, ablation_est.predict(ablation_X_data))\n",
    "    X_temp = ablation_X_data\n",
    "for i in range(num_ablate_features):\n",
    "    metric_results[f'{a_model}_{ablation_data}_MSE_after_ablation_{i+1}'] = ablation_results_list[i]\n",
    "    metric_results[f'{a_model}_{ablation_data}_R_2_after_ablation_{i+1}'] = ablation_results_list_r2[i]\n",
    "\n",
    "mse_before = metric_results[a_model + f'_{ablation_data}_MSE_before_ablation']\n",
    "r2_before = metric_results[a_model + f'_{ablation_data}_R_2_before_ablation']\n",
    "\n",
    "mse_after = [metric_results[f'{a_model}_{ablation_data}_MSE_after_ablation_{i}'] for i in range(1, num_ablate_features)]\n",
    "r2_after = [metric_results[f'{a_model}_{ablation_data}_R_2_after_ablation_{i}'] for i in range(1, num_ablate_features)]\n",
    "\n",
    "# Plotting MSE\n",
    "plt.figure(figsize=(12, 6))\n",
    "plt.plot(['Before'] + [f'After {i}' for i in range(1, num_ablate_features)], [mse_before] + mse_after, color='tab:red', marker='o')\n",
    "plt.xlabel('Ablation Step')\n",
    "plt.ylabel('MSE')\n",
    "plt.title(f'{a_model} MSE Before and After Ablation')\n",
    "plt.show()\n",
    "\n",
    "# Plotting R^2\n",
    "plt.figure(figsize=(12, 6))\n",
    "plt.plot(['Before'] + [f'After {i}' for i in range(1, num_ablate_features)], [r2_before] + r2_after, color='tab:blue', marker='o')\n",
    "plt.xlabel('Ablation Step')\n",
    "plt.ylabel('R^2')\n",
    "plt.title(f'{a_model} R^2 Before and After Ablation')\n",
    "plt.show()"
   ]
  },
  {
   "cell_type": "markdown",
   "metadata": {},
   "source": [
    "### Check whether sum to hat_y"
   ]
  },
  {
   "cell_type": "code",
   "execution_count": null,
   "metadata": {},
   "outputs": [],
   "source": [
    "assert np.all(rf.predict(X_test)) == np.all(np.sum(shap_values_test, axis=1) + explainer.expected_value)"
   ]
  },
  {
   "cell_type": "code",
   "execution_count": null,
   "metadata": {},
   "outputs": [],
   "source": [
    "explainer.expected_value"
   ]
  },
  {
   "cell_type": "code",
   "execution_count": null,
   "metadata": {},
   "outputs": [],
   "source": [
    "# get localMDI+\n",
    "rf_plus_mdi = AloRFPlusMDI(rf_plus_base, evaluate_on=\"all\")\n",
    "local_feature_importances_train, a = rf_plus_mdi.explain(X=X_train, y=y_train)\n",
    "local_feature_importances_train[0]"
   ]
  },
  {
   "cell_type": "code",
   "execution_count": null,
   "metadata": {},
   "outputs": [],
   "source": [
    "from sklearn.linear_model import Ridge\n",
    "rf_plus_base = RandomForestPlusRegressor(rf_model=copy.deepcopy(rf), include_raw=False, fit_on=\"inbag\", prediction_model=Ridge(alpha=1e-6))\n",
    "rf_plus_base.fit(X_train, y_train)\n",
    "rf_plus_mdi = RFPlusMDI(rf_plus_base, evaluate_on=\"inbag\")\n",
    "local_feature_importances_train, _ = rf_plus_mdi.explain(X=X_train, y=y_train)\n",
    "local_feature_importances_train[0]"
   ]
  },
  {
   "cell_type": "markdown",
   "metadata": {},
   "source": [
    "### LMDI+"
   ]
  },
  {
   "cell_type": "code",
   "execution_count": null,
   "metadata": {},
   "outputs": [],
   "source": [
    "a_model = \"Linear\"\n",
    "ablation_est = ablation_models[a_model]\n",
    "X_data = X_train\n",
    "y_data = y_train\n",
    "ablation_data=\"test\"\n",
    "metric_results = {}\n",
    "local_fi_score_data =local_feature_importances_train\n",
    "local_fi_score_data_rank = np.argsort(local_feature_importances_train)\n",
    "num_ablate_features = X_train.shape[1]\n",
    "train_mean = np.mean(X_train, axis=0)\n",
    "y_pred = ablation_est.predict(X_data)\n",
    "metric_results[a_model + f'_{ablation_data}_MSE_before_ablation'] = mean_squared_error(y_data, y_pred)\n",
    "metric_results[a_model + f'_{ablation_data}_R_2_before_ablation'] = r2_score(y_data, y_pred)\n",
    "ablation_results_list = [0] * num_ablate_features\n",
    "ablation_results_list_r2 = [0] * num_ablate_features\n",
    "X_temp = X_data.copy()\n",
    "for i in range(num_ablate_features):\n",
    "    ablation_X_data = ablation_removal_negative(train_mean, X_temp, local_fi_score_data_rank, local_fi_score_data, i)\n",
    "    ablation_results_list[i] = mean_squared_error(y_data, ablation_est.predict(ablation_X_data))\n",
    "    ablation_results_list_r2[i] = r2_score(y_data, ablation_est.predict(ablation_X_data))\n",
    "    X_temp = ablation_X_data\n",
    "for i in range(num_ablate_features):\n",
    "    metric_results[f'{a_model}_{ablation_data}_MSE_after_ablation_{i+1}'] = ablation_results_list[i]\n",
    "    metric_results[f'{a_model}_{ablation_data}_R_2_after_ablation_{i+1}'] = ablation_results_list_r2[i]\n",
    "\n",
    "mse_before = metric_results[a_model + f'_{ablation_data}_MSE_before_ablation']\n",
    "r2_before = metric_results[a_model + f'_{ablation_data}_R_2_before_ablation']\n",
    "\n",
    "mse_after = [metric_results[f'{a_model}_{ablation_data}_MSE_after_ablation_{i}'] for i in range(1, num_ablate_features)]\n",
    "r2_after = [metric_results[f'{a_model}_{ablation_data}_R_2_after_ablation_{i}'] for i in range(1, num_ablate_features)]\n",
    "\n",
    "# Plotting MSE\n",
    "plt.figure(figsize=(12, 6))\n",
    "plt.plot(['Before'] + [f'After {i}' for i in range(1, num_ablate_features)], [mse_before] + mse_after, color='tab:red', marker='o')\n",
    "plt.xlabel('Ablation Step')\n",
    "plt.ylabel('MSE')\n",
    "plt.title(f'{a_model} MSE Before and After Ablation')\n",
    "plt.show()\n",
    "\n",
    "# Plotting R^2\n",
    "plt.figure(figsize=(12, 6))\n",
    "plt.plot(['Before'] + [f'After {i}' for i in range(1, num_ablate_features)], [r2_before] + r2_after, color='tab:blue', marker='o')\n",
    "plt.xlabel('Ablation Step')\n",
    "plt.ylabel('R^2')\n",
    "plt.title(f'{a_model} R^2 Before and After Ablation')\n",
    "plt.show()"
   ]
  },
  {
   "cell_type": "code",
   "execution_count": null,
   "metadata": {},
   "outputs": [],
   "source": [
    "a_model = \"Linear\"\n",
    "ablation_est = ablation_models[a_model]\n",
    "X_data = X_train\n",
    "y_data = y_train\n",
    "ablation_data=\"test\"\n",
    "metric_results = {}\n",
    "local_fi_score_data =local_feature_importances_train\n",
    "local_fi_score_data_rank = np.argsort(-1*local_feature_importances_train)\n",
    "num_ablate_features = X_train.shape[1]\n",
    "train_mean = np.mean(X_train, axis=0)\n",
    "y_pred = ablation_est.predict(X_data)\n",
    "metric_results[a_model + f'_{ablation_data}_MSE_before_ablation'] = mean_squared_error(y_data, y_pred)\n",
    "metric_results[a_model + f'_{ablation_data}_R_2_before_ablation'] = r2_score(y_data, y_pred)\n",
    "ablation_results_list = [0] * num_ablate_features\n",
    "ablation_results_list_r2 = [0] * num_ablate_features\n",
    "X_temp = X_data.copy()\n",
    "for i in range(num_ablate_features):\n",
    "    ablation_X_data = ablation_removal_positive(train_mean, X_temp, local_fi_score_data_rank, local_fi_score_data, i)\n",
    "    ablation_results_list[i] = mean_squared_error(y_data, ablation_est.predict(ablation_X_data))\n",
    "    ablation_results_list_r2[i] = r2_score(y_data, ablation_est.predict(ablation_X_data))\n",
    "    X_temp = ablation_X_data\n",
    "for i in range(num_ablate_features):\n",
    "    metric_results[f'{a_model}_{ablation_data}_MSE_after_ablation_{i+1}'] = ablation_results_list[i]\n",
    "    metric_results[f'{a_model}_{ablation_data}_R_2_after_ablation_{i+1}'] = ablation_results_list_r2[i]\n",
    "\n",
    "mse_before = metric_results[a_model + f'_{ablation_data}_MSE_before_ablation']\n",
    "r2_before = metric_results[a_model + f'_{ablation_data}_R_2_before_ablation']\n",
    "\n",
    "mse_after = [metric_results[f'{a_model}_{ablation_data}_MSE_after_ablation_{i}'] for i in range(1, num_ablate_features)]\n",
    "r2_after = [metric_results[f'{a_model}_{ablation_data}_R_2_after_ablation_{i}'] for i in range(1, num_ablate_features)]\n",
    "\n",
    "# Plotting MSE\n",
    "plt.figure(figsize=(12, 6))\n",
    "plt.plot(['Before'] + [f'After {i}' for i in range(1, num_ablate_features)], [mse_before] + mse_after, color='tab:red', marker='o')\n",
    "plt.xlabel('Ablation Step')\n",
    "plt.ylabel('MSE')\n",
    "plt.title(f'{a_model} MSE Before and After Ablation')\n",
    "plt.show()\n",
    "\n",
    "# Plotting R^2\n",
    "plt.figure(figsize=(12, 6))\n",
    "plt.plot(['Before'] + [f'After {i}' for i in range(1, num_ablate_features)], [r2_before] + r2_after, color='tab:blue', marker='o')\n",
    "plt.xlabel('Ablation Step')\n",
    "plt.ylabel('R^2')\n",
    "plt.title(f'{a_model} R^2 Before and After Ablation')\n",
    "plt.show()"
   ]
  },
  {
   "cell_type": "code",
   "execution_count": null,
   "metadata": {},
   "outputs": [],
   "source": [
    "a_model = \"Linear\"\n",
    "ablation_est = ablation_models[a_model]\n",
    "X_data = X_train\n",
    "y_data = y_train\n",
    "ablation_data=\"test\"\n",
    "metric_results = {}\n",
    "local_fi_score_data_rank = np.argsort(-1*np.abs(local_feature_importances_train))#np.argsort(-1*local_feature_importances_train) #np.argsort(-1*shap_values_train) #np.argsort(-1*np.random.rand(X_train.shape[0], 10))\n",
    "num_ablate_features = X_train.shape[1]\n",
    "train_mean = np.mean(X_train, axis=0)\n",
    "\n",
    "y_pred = ablation_est.predict(X_data)\n",
    "metric_results[a_model + f'_{ablation_data}_MSE_before_ablation'] = mean_squared_error(y_data, y_pred)\n",
    "metric_results[a_model + f'_{ablation_data}_R_2_before_ablation'] = r2_score(y_data, y_pred)\n",
    "ablation_results_list = [0] * num_ablate_features\n",
    "ablation_results_list_r2 = [0] * num_ablate_features\n",
    "X_temp = X_data.copy()\n",
    "for i in range(num_ablate_features):\n",
    "    ablation_X_data = ablation_removal(train_mean, X_temp, local_fi_score_data_rank, i)\n",
    "    ablation_results_list[i] = mean_squared_error(y_data, ablation_est.predict(ablation_X_data))\n",
    "    ablation_results_list_r2[i] = r2_score(y_data, ablation_est.predict(ablation_X_data))\n",
    "    X_temp = ablation_X_data\n",
    "for i in range(num_ablate_features):\n",
    "    metric_results[f'{a_model}_{ablation_data}_MSE_after_ablation_{i+1}'] = ablation_results_list[i]\n",
    "    metric_results[f'{a_model}_{ablation_data}_R_2_after_ablation_{i+1}'] = ablation_results_list_r2[i]\n",
    "\n",
    "mse_before = metric_results[a_model + f'_{ablation_data}_MSE_before_ablation']\n",
    "r2_before = metric_results[a_model + f'_{ablation_data}_R_2_before_ablation']\n",
    "\n",
    "mse_after = [metric_results[f'{a_model}_{ablation_data}_MSE_after_ablation_{i}'] for i in range(1, num_ablate_features)]\n",
    "r2_after = [metric_results[f'{a_model}_{ablation_data}_R_2_after_ablation_{i}'] for i in range(1, num_ablate_features)]\n",
    "\n",
    "# Plotting MSE\n",
    "plt.figure(figsize=(12, 6))\n",
    "plt.plot(['Before'] + [f'After {i}' for i in range(1, num_ablate_features)], [mse_before] + mse_after, color='tab:red', marker='o')\n",
    "plt.xlabel('Ablation Step')\n",
    "plt.ylabel('MSE')\n",
    "plt.title(f'{a_model} MSE Before and After Ablation')\n",
    "plt.show()\n",
    "\n",
    "# Plotting R^2\n",
    "plt.figure(figsize=(12, 6))\n",
    "plt.plot(['Before'] + [f'After {i}' for i in range(1, num_ablate_features)], [r2_before] + r2_after, color='tab:blue', marker='o')\n",
    "plt.xlabel('Ablation Step')\n",
    "plt.ylabel('R^2')\n",
    "plt.title(f'{a_model} R^2 Before and After Ablation')\n",
    "plt.show()"
   ]
  },
  {
   "cell_type": "code",
   "execution_count": null,
   "metadata": {},
   "outputs": [],
   "source": []
  },
  {
   "cell_type": "code",
   "execution_count": null,
   "metadata": {},
   "outputs": [],
   "source": []
  },
  {
   "cell_type": "code",
   "execution_count": null,
   "metadata": {},
   "outputs": [],
   "source": []
  },
  {
   "cell_type": "code",
   "execution_count": null,
   "metadata": {},
   "outputs": [],
   "source": []
  },
  {
   "cell_type": "markdown",
   "metadata": {},
   "source": [
    "#### Analysis 1"
   ]
  },
  {
   "cell_type": "code",
   "execution_count": null,
   "metadata": {},
   "outputs": [],
   "source": [
    "pd.DataFrame(X_train).corr()"
   ]
  },
  {
   "cell_type": "code",
   "execution_count": null,
   "metadata": {},
   "outputs": [],
   "source": [
    "local_fi_score_data = np.argsort(-1*local_feature_importances_train)#np.argsort(-1*local_feature_importances_train) #np.argsort(-1*shap_values_train) #np.argsort(-1*np.random.rand(X_train.shape[0], 10))\n",
    "\n",
    "y_pred = ablation_est.predict(X_data)\n",
    "metric_results[a_model + f'_{ablation_data}_MSE_before_ablation'] = mean_squared_error(y_data, y_pred)\n",
    "metric_results[a_model + f'_{ablation_data}_R_2_before_ablation'] = r2_score(y_data, y_pred)\n",
    "imp_vals = copy.deepcopy(local_fi_score_data)\n",
    "ablation_results_list = [0] * num_ablate_features\n",
    "ablation_results_list_r2 = [0] * num_ablate_features\n",
    "X_temp = X_data.copy()\n",
    "for i in range(num_ablate_features):\n",
    "    ablation_X_data = ablation_removal_positive(train_mean, X_temp, imp_vals, i)\n",
    "    ablation_results_list[i] = mean_squared_error(y_data, ablation_est.predict(ablation_X_data))\n",
    "    ablation_results_list_r2[i] = r2_score(y_data, ablation_est.predict(ablation_X_data))\n",
    "    X_temp = ablation_X_data\n",
    "    differences = X_temp != X_train\n",
    "    differences_per_col = np.sum(differences, axis=0)\n",
    "    print(differences_per_col)\n",
    "    lm = LinearRegression()\n",
    "    lm.fit(X_temp, y_train)\n",
    "    print(r2_score(y_train, lm.predict(X_temp)))\n",
    "for i in range(num_ablate_features):\n",
    "    metric_results[f'{a_model}_{ablation_data}_MSE_after_ablation_{i+1}'] = ablation_results_list[i]\n",
    "    metric_results[f'{a_model}_{ablation_data}_R_2_after_ablation_{i+1}'] = ablation_results_list_r2[i]"
   ]
  },
  {
   "cell_type": "code",
   "execution_count": null,
   "metadata": {},
   "outputs": [],
   "source": [
    "local_fi_score_data = np.argsort(-1*np.random.rand(X_train.shape[0], 10))#np.argsort(-1*local_feature_importances_train) #np.argsort(-1*shap_values_train) #np.argsort(-1*np.random.rand(X_train.shape[0], 10))\n",
    "\n",
    "y_pred = ablation_est.predict(X_data)\n",
    "metric_results[a_model + f'_{ablation_data}_MSE_before_ablation'] = mean_squared_error(y_data, y_pred)\n",
    "metric_results[a_model + f'_{ablation_data}_R_2_before_ablation'] = r2_score(y_data, y_pred)\n",
    "imp_vals = copy.deepcopy(local_fi_score_data)\n",
    "ablation_results_list = [0] * num_ablate_features\n",
    "ablation_results_list_r2 = [0] * num_ablate_features\n",
    "X_temp = X_data.copy()\n",
    "for i in range(num_ablate_features):\n",
    "    ablation_X_data = ablation_removal_positive(train_mean, X_temp, imp_vals, i)\n",
    "    ablation_results_list[i] = mean_squared_error(y_data, ablation_est.predict(ablation_X_data))\n",
    "    ablation_results_list_r2[i] = r2_score(y_data, ablation_est.predict(ablation_X_data))\n",
    "    X_temp = ablation_X_data\n",
    "    differences = X_temp != X_train\n",
    "    differences_per_col = np.sum(differences, axis=0)\n",
    "    print(differences_per_col)\n",
    "    lm = LinearRegression()\n",
    "    lm.fit(X_temp, y_train)\n",
    "    print(r2_score(y_train, lm.predict(X_temp)))\n",
    "for i in range(num_ablate_features):\n",
    "    metric_results[f'{a_model}_{ablation_data}_MSE_after_ablation_{i+1}'] = ablation_results_list[i]\n",
    "    metric_results[f'{a_model}_{ablation_data}_R_2_after_ablation_{i+1}'] = ablation_results_list_r2[i]"
   ]
  },
  {
   "cell_type": "code",
   "execution_count": null,
   "metadata": {},
   "outputs": [],
   "source": [
    "mse_before = metric_results['Linear_train_MSE_before_ablation']\n",
    "r2_before = metric_results['Linear_train_R_2_before_ablation']\n",
    "\n",
    "mse_after = [metric_results[f'Linear_train_MSE_after_ablation_{i}'] for i in range(1, 10)]\n",
    "r2_after = [metric_results[f'Linear_train_R_2_after_ablation_{i}'] for i in range(1, 10)]\n",
    "\n",
    "# Plotting MSE\n",
    "plt.figure(figsize=(12, 6))\n",
    "plt.plot(['Before'] + [f'After {i}' for i in range(1, 10)], [mse_before] + mse_after, color='tab:red', marker='o')\n",
    "plt.xlabel('Ablation Step')\n",
    "plt.ylabel('MSE')\n",
    "plt.title(f'{a_model} MSE Before and After Ablation')\n",
    "plt.show()\n",
    "\n",
    "# Plotting R^2\n",
    "plt.figure(figsize=(12, 6))\n",
    "plt.plot(['Before'] + [f'After {i}' for i in range(1, 10)], [r2_before] + r2_after, color='tab:blue', marker='o')\n",
    "plt.xlabel('Ablation Step')\n",
    "plt.ylabel('R^2')\n",
    "plt.title(f'{a_model} R^2 Before and After Ablation')\n",
    "plt.show()"
   ]
  },
  {
   "cell_type": "code",
   "execution_count": null,
   "metadata": {},
   "outputs": [],
   "source": [
    "local_fi_score_data = np.argsort(-1*shap_values_train)#np.argsort(-1*local_feature_importances_train) #np.argsort(-1*shap_values_train) #np.argsort(-1*np.random.rand(X_train.shape[0], 10))\n",
    "\n",
    "y_pred = ablation_est.predict(X_data)\n",
    "metric_results[a_model + f'_{ablation_data}_MSE_before_ablation'] = mean_squared_error(y_data, y_pred)\n",
    "metric_results[a_model + f'_{ablation_data}_R_2_before_ablation'] = r2_score(y_data, y_pred)\n",
    "imp_vals = copy.deepcopy(local_fi_score_data)\n",
    "ablation_results_list = [0] * num_ablate_features\n",
    "ablation_results_list_r2 = [0] * num_ablate_features\n",
    "X_temp = X_data.copy()\n",
    "for i in range(num_ablate_features):\n",
    "    ablation_X_data = ablation_removal_positive(train_mean, X_temp, imp_vals, i)\n",
    "    ablation_results_list[i] = mean_squared_error(y_data, ablation_est.predict(ablation_X_data))\n",
    "    ablation_results_list_r2[i] = r2_score(y_data, ablation_est.predict(ablation_X_data))\n",
    "    X_temp = ablation_X_data\n",
    "    differences = X_temp != X_train\n",
    "    differences_per_col = np.sum(differences, axis=0)\n",
    "    print(differences_per_col)\n",
    "    lm = LinearRegression()\n",
    "    lm.fit(X_temp, y_train)\n",
    "    print(r2_score(y_train, lm.predict(X_temp)))\n",
    "for i in range(num_ablate_features):\n",
    "    metric_results[f'{a_model}_{ablation_data}_MSE_after_ablation_{i+1}'] = ablation_results_list[i]\n",
    "    metric_results[f'{a_model}_{ablation_data}_R_2_after_ablation_{i+1}'] = ablation_results_list_r2[i]"
   ]
  },
  {
   "cell_type": "code",
   "execution_count": null,
   "metadata": {},
   "outputs": [],
   "source": [
    "mse_before = metric_results['Linear_train_MSE_before_ablation']\n",
    "r2_before = metric_results['Linear_train_R_2_before_ablation']\n",
    "\n",
    "mse_after = [metric_results[f'Linear_train_MSE_after_ablation_{i}'] for i in range(1, 10)]\n",
    "r2_after = [metric_results[f'Linear_train_R_2_after_ablation_{i}'] for i in range(1, 10)]\n",
    "\n",
    "# Plotting MSE\n",
    "plt.figure(figsize=(12, 6))\n",
    "plt.plot(['Before'] + [f'After {i}' for i in range(1, 10)], [mse_before] + mse_after, color='tab:red', marker='o')\n",
    "plt.xlabel('Ablation Step')\n",
    "plt.ylabel('MSE')\n",
    "plt.title(f'{a_model} MSE Before and After Ablation')\n",
    "plt.show()\n",
    "\n",
    "# Plotting R^2\n",
    "plt.figure(figsize=(12, 6))\n",
    "plt.plot(['Before'] + [f'After {i}' for i in range(1, num_ablate_features)], [r2_before] + r2_after, color='tab:blue', marker='o')\n",
    "plt.xlabel('Ablation Step')\n",
    "plt.ylabel('R^2')\n",
    "plt.title(f'{a_model} R^2 Before and After Ablation')\n",
    "plt.show()"
   ]
  },
  {
   "cell_type": "code",
   "execution_count": null,
   "metadata": {},
   "outputs": [],
   "source": []
  },
  {
   "cell_type": "code",
   "execution_count": null,
   "metadata": {},
   "outputs": [],
   "source": []
  },
  {
   "cell_type": "code",
   "execution_count": null,
   "metadata": {},
   "outputs": [],
   "source": []
  },
  {
   "cell_type": "code",
   "execution_count": null,
   "metadata": {},
   "outputs": [],
   "source": [
    "y_pred = ablation_est.predict(X_data)\n",
    "metric_results[a_model + f'_{ablation_data}_MSE_before_ablation'] = mean_squared_error(y_data, y_pred)\n",
    "metric_results[a_model + f'_{ablation_data}_R_2_before_ablation'] = r2_score(y_data, y_pred)\n",
    "imp_vals = copy.deepcopy(local_fi_score_data)\n",
    "ablation_results_list = [0] * num_ablate_features\n",
    "ablation_results_list_r2 = [0] * num_ablate_features\n",
    "X_temp = X_data.copy()\n",
    "var = []\n",
    "for i in range(num_ablate_features):\n",
    "    ablation_X_data = ablation_removal_positive(train_mean, X_temp, imp_vals, i)\n",
    "    ablation_results_list[i] = mean_squared_error(y_data, ablation_est.predict(ablation_X_data))\n",
    "    ablation_results_list_r2[i] = r2_score(y_data, ablation_est.predict(ablation_X_data))\n",
    "    X_temp = ablation_X_data\n",
    "    differences = X_temp != X_train\n",
    "    differences_per_col = np.sum(differences, axis=0)\n",
    "    # print(differences_per_col)\n",
    "    # print(np.array(differences_per_col).var())\n",
    "    var.append(np.array(differences_per_col).var())"
   ]
  },
  {
   "cell_type": "code",
   "execution_count": null,
   "metadata": {},
   "outputs": [],
   "source": [
    "ablation_results_list"
   ]
  },
  {
   "cell_type": "code",
   "execution_count": null,
   "metadata": {},
   "outputs": [],
   "source": [
    "ablation_results_list_r2"
   ]
  },
  {
   "cell_type": "code",
   "execution_count": null,
   "metadata": {},
   "outputs": [],
   "source": [
    "differences = X_temp != X_train\n",
    "differences_per_row = np.sum(differences, axis=1)\n",
    "print(differences_per_row)"
   ]
  },
  {
   "cell_type": "code",
   "execution_count": null,
   "metadata": {},
   "outputs": [],
   "source": [
    "X_train.shape"
   ]
  },
  {
   "cell_type": "code",
   "execution_count": null,
   "metadata": {},
   "outputs": [],
   "source": [
    "differences = X_temp != X_train\n",
    "differences_per_col = np.sum(differences, axis=0)\n",
    "print(differences_per_col)\n",
    "print(np.array(differences_per_col).var())"
   ]
  },
  {
   "cell_type": "code",
   "execution_count": null,
   "metadata": {},
   "outputs": [],
   "source": [
    "train_mean"
   ]
  },
  {
   "cell_type": "code",
   "execution_count": null,
   "metadata": {},
   "outputs": [],
   "source": [
    "ablation_est.coef_"
   ]
  },
  {
   "cell_type": "code",
   "execution_count": null,
   "metadata": {},
   "outputs": [],
   "source": [
    "ablation_est.intercept_"
   ]
  },
  {
   "cell_type": "code",
   "execution_count": null,
   "metadata": {},
   "outputs": [],
   "source": [
    "y_train.mean()"
   ]
  },
  {
   "cell_type": "code",
   "execution_count": null,
   "metadata": {},
   "outputs": [],
   "source": [
    "((y_train - y_train.mean())**2).sum()"
   ]
  },
  {
   "cell_type": "code",
   "execution_count": null,
   "metadata": {},
   "outputs": [],
   "source": [
    "((y_train - ablation_est.predict(X_train))**2).sum()"
   ]
  },
  {
   "cell_type": "code",
   "execution_count": null,
   "metadata": {},
   "outputs": [],
   "source": [
    "((y_train - ablation_est.predict(X_temp))**2).sum()"
   ]
  },
  {
   "cell_type": "markdown",
   "metadata": {},
   "source": [
    "### Analysis 2"
   ]
  },
  {
   "cell_type": "code",
   "execution_count": null,
   "metadata": {},
   "outputs": [],
   "source": [
    "lm = LinearRegression()\n",
    "lm.fit(X_temp, y_train)\n",
    "r2_score(y_train, lm.predict(X_temp))"
   ]
  },
  {
   "cell_type": "code",
   "execution_count": null,
   "metadata": {},
   "outputs": [],
   "source": [
    "lm.coef_"
   ]
  },
  {
   "cell_type": "code",
   "execution_count": null,
   "metadata": {},
   "outputs": [],
   "source": [
    "ablation_est.coef_"
   ]
  },
  {
   "cell_type": "code",
   "execution_count": null,
   "metadata": {},
   "outputs": [],
   "source": [
    "lm.coef_-ablation_est.coef_"
   ]
  }
 ],
 "metadata": {
  "kernelspec": {
   "display_name": "mdi",
   "language": "python",
   "name": "python3"
  },
  "language_info": {
   "codemirror_mode": {
    "name": "ipython",
    "version": 3
   },
   "file_extension": ".py",
   "mimetype": "text/x-python",
   "name": "python",
   "nbconvert_exporter": "python",
   "pygments_lexer": "ipython3",
   "version": "3.10.14"
  },
  "orig_nbformat": 4
 },
 "nbformat": 4,
 "nbformat_minor": 2
}
