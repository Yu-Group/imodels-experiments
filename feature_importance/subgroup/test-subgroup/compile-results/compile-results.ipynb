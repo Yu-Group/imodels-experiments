{
 "cells": [
  {
   "cell_type": "code",
   "execution_count": 1,
   "metadata": {},
   "outputs": [],
   "source": [
    "# standard data science packages\n",
    "import pandas as pd\n",
    "import numpy as np\n",
    "import math\n",
    "\n",
    "# data viz imports\n",
    "import matplotlib.pyplot as plt\n",
    "import folium\n",
    "import branca\n",
    "\n",
    "# file system imports\n",
    "import os\n",
    "\n",
    "# sklearn imports\n",
    "from sklearn.model_selection import train_test_split\n",
    "\n",
    "# data getters\n",
    "import openml"
   ]
  },
  {
   "cell_type": "code",
   "execution_count": 2,
   "metadata": {},
   "outputs": [],
   "source": [
    "# read in the miami housing dataset\n",
    "X_miami = np.loadtxt(\"../data_openml/X_361260.csv\", delimiter=\",\")[1:,:]\n",
    "y_miami = np.loadtxt(\"../data_openml/y_361260.csv\", delimiter=\",\")[1:]\n",
    "cols_miami = ['LATITUDE', 'LONGITUDE', 'LND_SQFOOT', 'TOT_LVG_AREA',\n",
    "              'SPEC_FEAT_VAL', 'RAIL_DIST', 'OCEAN_DIST', 'WATER_DIST',\n",
    "              'CNTR_DIST', 'SUBCNTR_DI', 'HWY_DIST', 'age', 'avno60plus',\n",
    "              'month_sold', 'structure_quality']\n",
    "\n",
    "# read in shap values\n",
    "shap_miami = np.loadtxt(\"../lfi-values/fulldata/rf/seed0/361260/shap.csv\",\n",
    "                        delimiter=\",\")\n",
    "\n",
    "# read in lotla values\n",
    "lotla_miami = np.loadtxt(\"../lfi-values/fulldata/rf/seed0/361260/\" + \\\n",
    "    \"elastic_nonnormed_nosquared_norank.csv\", delimiter=\",\")\n",
    "\n",
    "# split into train and test 50/50 with seed 0\n",
    "_, X_miami, _, y_miami = train_test_split(X_miami, y_miami,\n",
    "                                          test_size = 0.5, random_state = 0)\n",
    "\n",
    "# read in cluster labels\n",
    "base = \"../cluster-results/rf/kmeans/linear/361260/seed0/\"\n",
    "labels_shap = np.loadtxt(base + \"k4_shap_labels.csv\", delimiter=\",\")\n",
    "labels_lotla = np.loadtxt(base + \\\n",
    "    \"k4_elastic_nonnormed_nosquared_norank_labels.csv\", delimiter=\",\")"
   ]
  },
  {
   "cell_type": "code",
   "execution_count": null,
   "metadata": {},
   "outputs": [],
   "source": [
    "# split X_miami and y_miami into train and test (50/50)\n",
    "X_train, X_test, y_train, y_test = train_test_split(X_miami, y_miami,\n",
    "                                                    test_size = 0.5,\n",
    "                                                    random_state = 0)\n",
    "# fit linear model on train and calculate mse on test\n",
    "from sklearn.linear_model import LinearRegression\n",
    "lm = LinearRegression()\n",
    "lm.fit(X_train, y_train)\n",
    "lm_pred = lm.predict(X_test)\n",
    "lm_mse = np.mean((lm_pred - y_test)**2)\n",
    "lm_mse"
   ]
  },
  {
   "cell_type": "code",
   "execution_count": null,
   "metadata": {},
   "outputs": [],
   "source": [
    "shap_rankings = np.argsort(np.abs(shap_miami), axis=1)\n",
    "shap_rankings.mean(axis=0)"
   ]
  },
  {
   "cell_type": "code",
   "execution_count": null,
   "metadata": {},
   "outputs": [],
   "source": [
    "# get most important features according to lotla\n",
    "lotla_rankings = np.abs(lotla_miami)\n",
    "lotla_rankings = np.argsort(lotla_rankings, axis = 1)   \n",
    "lotla_rankings.mean(axis = 0)"
   ]
  },
  {
   "cell_type": "code",
   "execution_count": null,
   "metadata": {},
   "outputs": [],
   "source": [
    "# get average feature values per cluster for lotla\n",
    "lotla_clusters = pd.DataFrame(X_miami, columns = cols_miami)\n",
    "lotla_clusters['cluster'] = labels_lotla\n",
    "lotla_means = lotla_clusters.groupby('cluster').mean()\n",
    "lotla_means"
   ]
  },
  {
   "cell_type": "code",
   "execution_count": 6,
   "metadata": {},
   "outputs": [],
   "source": [
    "lotla_sds = lotla_clusters.groupby('cluster').std()\n",
    "lotla_ses = lotla_sds/(lotla_clusters.groupby('cluster').count()**0.5)"
   ]
  },
  {
   "cell_type": "code",
   "execution_count": null,
   "metadata": {},
   "outputs": [],
   "source": [
    "# for each feature, plot a boxplot of the feature values for each cluster\n",
    "for col in cols_miami:\n",
    "    fig, ax = plt.subplots()\n",
    "    lotla_clusters.boxplot(column = col, by = 'cluster', ax = ax)\n",
    "    ax.set_title(col)\n",
    "    ax.set_ylabel(\"Feature Value\")\n",
    "    ax.set_xlabel(\"Cluster\")\n",
    "    plt.suptitle(\"\")\n",
    "    plt.show()"
   ]
  },
  {
   "cell_type": "code",
   "execution_count": 8,
   "metadata": {},
   "outputs": [],
   "source": [
    "# convert lat/long to meters\n",
    "def coords_to_meters(lat, lon):\n",
    "    earth_radius = 6378.137 # radius of earth in km\n",
    "    dist_lat = lat * math.pi / 180\n",
    "    dist_lon = lon * math.pi / 180\n",
    "    a = math.sin(dist_lat / 2) * math.sin(dist_lat / 2) + \\\n",
    "        math.cos(lat * math.pi / 180) * math.sin(dist_lon / 2) * \\\n",
    "            math.sin(dist_lon / 2)\n",
    "    c = 2 * math.atan2(math.sqrt(a), math.sqrt(1-a))\n",
    "    d = earth_radius * c\n",
    "    return d * 1000 # convert to meters"
   ]
  },
  {
   "cell_type": "code",
   "execution_count": null,
   "metadata": {},
   "outputs": [],
   "source": [
    "coords_to_meters(lotla_ses.iloc[0, 0], lotla_ses.iloc[0, 1])"
   ]
  },
  {
   "cell_type": "code",
   "execution_count": 10,
   "metadata": {},
   "outputs": [],
   "source": [
    "# color_map = {0: 'red', 1: 'orange', 2: 'yellow', 3: 'green', 4: 'blue',\n",
    "#              5: 'purple', 6: 'pink', 7: 'brown', 8: 'black',\n",
    "#              9: 'white'}\n",
    "color_map = {0: 'red', 1: 'green', 2: 'blue', 3: 'purple'}"
   ]
  },
  {
   "cell_type": "code",
   "execution_count": null,
   "metadata": {},
   "outputs": [],
   "source": [
    "lotla_means"
   ]
  },
  {
   "cell_type": "code",
   "execution_count": null,
   "metadata": {},
   "outputs": [],
   "source": [
    "# plot the average feature values for each cluster\n",
    "# on a map of miami\n",
    "miami_coords = (25.7617, -80.1918)\n",
    "m = folium.Map(location = miami_coords, zoom_start = 10)\n",
    "for i in range(4):\n",
    "    folium.Circle(\n",
    "        location = [lotla_means.iloc[i, 0], lotla_means.iloc[i, 1]],\n",
    "        # radius = coords_to_meters(lotla_ses.iloc[i, 0], lotla_ses.iloc[i, 1]),\n",
    "        radius = lotla_means.loc[i, 'TOT_LVG_AREA'],\n",
    "        color = color_map[i],\n",
    "        fill = True,\n",
    "        fill_color = color_map[i],\n",
    "    ).add_to(m)\n",
    "m"
   ]
  },
  {
   "cell_type": "code",
   "execution_count": null,
   "metadata": {},
   "outputs": [],
   "source": [
    "lotla_clusters"
   ]
  },
  {
   "cell_type": "code",
   "execution_count": null,
   "metadata": {},
   "outputs": [],
   "source": [
    "m = folium.Map(location=[25.7, -80.3], zoom_start=10)\n",
    "for lat, lon, cluster in zip(lotla_clusters.iloc[:, 0], lotla_clusters.iloc[:, 1], lotla_clusters.loc[:, 'cluster']):\n",
    "    folium.CircleMarker(\n",
    "        [lat, lon],\n",
    "        radius=1,\n",
    "        color=color_map[cluster],\n",
    "        fill=True,\n",
    "        fill_color=color_map[cluster],\n",
    "        fill_opacity=0.6\n",
    "    ).add_to(m)\n",
    "m"
   ]
  },
  {
   "cell_type": "code",
   "execution_count": null,
   "metadata": {},
   "outputs": [],
   "source": [
    "# get average y values for each cluster\n",
    "y_means = pd.Series(y_miami).groupby(lotla_clusters['cluster']).mean()\n",
    "np.exp(y_means)"
   ]
  },
  {
   "cell_type": "code",
   "execution_count": null,
   "metadata": {},
   "outputs": [],
   "source": [
    "color_map"
   ]
  },
  {
   "cell_type": "code",
   "execution_count": null,
   "metadata": {},
   "outputs": [],
   "source": [
    "shap_clusters = pd.DataFrame(X_miami, columns = cols_miami)\n",
    "shap_clusters['cluster'] = labels_shap\n",
    "shap_means = shap_clusters.groupby('cluster').mean()\n",
    "shap_means"
   ]
  },
  {
   "cell_type": "code",
   "execution_count": 23,
   "metadata": {},
   "outputs": [],
   "source": [
    "# color map\n",
    "color_map = {0: 'red', 1: 'green', 2: 'purple', 3: 'blue'}"
   ]
  },
  {
   "cell_type": "code",
   "execution_count": null,
   "metadata": {},
   "outputs": [],
   "source": [
    "m = folium.Map(location=[25.7, -80.3], zoom_start=10)\n",
    "for lat, lon, cluster in zip(shap_clusters.iloc[:, 0], shap_clusters.iloc[:, 1], shap_clusters.loc[:, 'cluster']):\n",
    "    folium.CircleMarker(\n",
    "        [lat, lon],\n",
    "        radius=1,\n",
    "        color=color_map[cluster],\n",
    "        fill=True,\n",
    "        fill_color=color_map[cluster],\n",
    "        fill_opacity=0.6\n",
    "    ).add_to(m)\n",
    "m"
   ]
  },
  {
   "cell_type": "code",
   "execution_count": 25,
   "metadata": {},
   "outputs": [],
   "source": [
    "# shap label 0 = lotla label 0\n",
    "# shap label 1 = lotla label 1\n",
    "# shap label 2 = lotla label 3\n",
    "# shap label 3 = lotla label 2\n",
    "# switch shap labels to reflect this\n",
    "shap_clusters['cluster'] = shap_clusters['cluster'].map({0: 0, 1: 1, 2: 3, 3: 2})"
   ]
  },
  {
   "cell_type": "code",
   "execution_count": null,
   "metadata": {},
   "outputs": [],
   "source": [
    "# calculate jaccard similarity between shap and lotla labels\n",
    "def jaccard(m1, m2):\n",
    "\n",
    "    k1min = min(m1)\n",
    "    k1max = max(m1)\n",
    "    k2min = min(m2)\n",
    "    k2max = max(m2)\n",
    "\n",
    "    k1 = k1max - k1min + 1\n",
    "    k2 = k2max - k2min + 1\n",
    "    tab = np.zeros((k1,k2), dtype=np.uint32)\n",
    "\n",
    "    for i in range(len(m1)):\n",
    "        tab[(m1[i]-k1min),(m2[i]-k2min)] += 1\n",
    "    dotp0 = np.sum(tab*(tab-1))\n",
    "    tab1 = np.sum(tab, axis=1)\n",
    "    tab2 = np.sum(tab, axis=0)\n",
    "    dotp1 = np.sum(tab1*(tab1-1))\n",
    "    dotp2 = np.sum(tab2*(tab2-1))\n",
    "\n",
    "    return dotp0/(dotp1+dotp2-dotp0)\n",
    "jaccard(shap_clusters['cluster'], lotla_clusters['cluster'].astype(int))"
   ]
  },
  {
   "cell_type": "code",
   "execution_count": null,
   "metadata": {},
   "outputs": [],
   "source": [
    "np.mean(lotla_clusters['cluster'] == shap_clusters['cluster'])"
   ]
  },
  {
   "cell_type": "code",
   "execution_count": null,
   "metadata": {},
   "outputs": [],
   "source": [
    "lotla_values = pd.DataFrame(lotla_miami, columns = cols_miami)\n",
    "lotla_means_values = lotla_values.groupby(labels_lotla).mean()\n",
    "pd.DataFrame(np.argsort(np.abs(lotla_means_values)), columns = cols_miami)"
   ]
  },
  {
   "cell_type": "code",
   "execution_count": null,
   "metadata": {},
   "outputs": [],
   "source": [
    "lotla_values = pd.DataFrame(np.argsort(np.abs(lotla_miami)), columns = cols_miami)\n",
    "lotla_values['cluster'] = labels_lotla\n",
    "lotla_means_values = lotla_values.groupby('cluster').mean()\n",
    "lotla_means_values"
   ]
  },
  {
   "cell_type": "code",
   "execution_count": null,
   "metadata": {},
   "outputs": [],
   "source": [
    "shap_values = pd.DataFrame(np.argsort(np.abs(shap_miami)), columns = cols_miami)\n",
    "shap_values['cluster'] = labels_shap\n",
    "shap_means_values = shap_values.groupby('cluster').mean()\n",
    "shap_means_values"
   ]
  },
  {
   "cell_type": "code",
   "execution_count": null,
   "metadata": {},
   "outputs": [],
   "source": [
    "# get average lotla values per cluster\n",
    "lotla_values = np.argsort(pd.DataFrame(lotla_miami, columns = cols_miami).abs())\n",
    "lotla_values['cluster'] = labels_lotla\n",
    "lotla_means_values = lotla_values.groupby('cluster').mean()\n",
    "lotla_means_values"
   ]
  },
  {
   "cell_type": "code",
   "execution_count": null,
   "metadata": {},
   "outputs": [],
   "source": [
    "lotla_ses_values = lotla_values.groupby('cluster').std()/(lotla_values.groupby('cluster').count()**0.5)\n",
    "lotla_ses_values"
   ]
  },
  {
   "cell_type": "code",
   "execution_count": null,
   "metadata": {},
   "outputs": [],
   "source": [
    "# "
   ]
  },
  {
   "cell_type": "code",
   "execution_count": 3,
   "metadata": {},
   "outputs": [],
   "source": [
    "lotla_means = np.full((10, X_miami.shape[1]), np.nan)\n",
    "shap_means = np.full((10, X_miami.shape[1]), np.nan)\n",
    "lotla_sds = np.full((10, X_miami.shape[1]), np.nan)\n",
    "shap_sds = np.full((10, X_miami.shape[1]), np.nan)\n",
    "for clust in range(10):\n",
    "    lotla_means[clust] = np.mean(X_miami[labels_lotla == clust], axis = 0)\n",
    "    shap_means[clust] = np.mean(X_miami[labels_shap == clust], axis = 0)\n",
    "    lotla_sds[clust] = np.std(X_miami[labels_lotla == clust], axis = 0)\n",
    "    shap_sds[clust] = np.std(X_miami[labels_shap == clust], axis = 0)"
   ]
  },
  {
   "cell_type": "code",
   "execution_count": null,
   "metadata": {},
   "outputs": [],
   "source": [
    "pd.DataFrame(lotla_means, columns=cols_miami)"
   ]
  },
  {
   "cell_type": "code",
   "execution_count": null,
   "metadata": {},
   "outputs": [],
   "source": [
    "pd.DataFrame(lotla_sds)"
   ]
  },
  {
   "cell_type": "code",
   "execution_count": null,
   "metadata": {},
   "outputs": [],
   "source": [
    "# plot the means and sds, where the means are a dot and the sds are a line\n",
    "# the lines should not overlap with one another\n",
    "plt.figure(figsize = (10, 10))\n",
    "for clust in range(10):\n",
    "    plt.errorbar(range(X_miami.shape[1]), lotla_means[clust], yerr = lotla_sds[clust],\n",
    "                 fmt = \"o\", label = \"Lotla Cluster \" + str(clust))\n",
    "    plt.errorbar(range(X_miami.shape[1]), shap_means[clust], yerr = shap_sds[clust],\n",
    "                 fmt = \"o\", label = \"SHAP Cluster \" + str(clust))"
   ]
  },
  {
   "cell_type": "code",
   "execution_count": null,
   "metadata": {},
   "outputs": [],
   "source": [
    "# for each cluster in labels_lotla, get the average X_miami and y_miami values for that cluster\n",
    "cluster_data = []\n",
    "for cluster in np.unique(labels_lotla):\n",
    "    cluster_data.append((np.mean(X_miami[labels_lotla == cluster], axis = 0),\n",
    "                         np.mean(y_miami[labels_lotla == cluster], axis = 0)))\n",
    "cluster_data"
   ]
  },
  {
   "cell_type": "code",
   "execution_count": 3,
   "metadata": {},
   "outputs": [],
   "source": [
    "colormap = branca.colormap.linear.YlOrRd_09.scale(min(cluster_labels_lotla[:, 3]), max(cluster_labels_lotla[:, 3]))\n"
   ]
  },
  {
   "cell_type": "code",
   "execution_count": null,
   "metadata": {},
   "outputs": [],
   "source": [
    "colormap"
   ]
  },
  {
   "cell_type": "code",
   "execution_count": null,
   "metadata": {},
   "outputs": [],
   "source": [
    "m = folium.Map(location=[25.7, -80.3], zoom_start=10)\n",
    "for lat, lon, y_val in zip(cluster_labels_shap[:, 0], cluster_labels_shap[:, 1], cluster_labels_shap[:, 3]):\n",
    "    folium.CircleMarker(\n",
    "        [lat, lon],\n",
    "        radius=1,\n",
    "        color=colormap(y_val),\n",
    "        fill=True,\n",
    "        fill_color=colormap(y_val),\n",
    "        fill_opacity=0.6\n",
    "    ).add_to(m)\n",
    "m"
   ]
  },
  {
   "cell_type": "code",
   "execution_count": 21,
   "metadata": {},
   "outputs": [],
   "source": [
    "color_map = {0: 'red', 1: 'blue', 2: 'green', 3: 'purple', 4: 'orange', 5: 'darkred', 6: 'lightred', 7: 'beige', 8: 'darkblue', 9: 'darkgreen'}"
   ]
  },
  {
   "cell_type": "code",
   "execution_count": null,
   "metadata": {},
   "outputs": [],
   "source": [
    "m = folium.Map(location=[25.7, -80.3], zoom_start=10)\n",
    "for lat, lon, cluster in zip(cluster_labels_shap[:, 0], cluster_labels_shap[:, 1], cluster_labels_shap[:, 2]):\n",
    "    folium.CircleMarker(\n",
    "        [lat, lon],\n",
    "        radius=1,\n",
    "        color=color_map[cluster],\n",
    "        fill=True,\n",
    "        fill_color=color_map[cluster],\n",
    "        fill_opacity=0.6\n",
    "    ).add_to(m)\n",
    "m"
   ]
  },
  {
   "cell_type": "code",
   "execution_count": null,
   "metadata": {},
   "outputs": [],
   "source": [
    "m = folium.Map(location=[25.7, -80.3], zoom_start=10)\n",
    "for lat, lon, cluster in zip(cluster_labels_lotla[:, 0], cluster_labels_lotla[:, 1], cluster_labels_lotla[:, 2]):\n",
    "    folium.CircleMarker(\n",
    "        [lat, lon],\n",
    "        radius=1,\n",
    "        color=color_map[cluster],\n",
    "        fill=True,\n",
    "        fill_color=color_map[cluster],\n",
    "        fill_opacity=0.6\n",
    "    ).add_to(m)\n",
    "m"
   ]
  },
  {
   "cell_type": "code",
   "execution_count": null,
   "metadata": {},
   "outputs": [],
   "source": [
    "m = folium.Map(location=[25.7, -80.3], zoom_start=10)\n",
    "for lat, lon, cluster in zip(cluster_labels_lotla[:, 0], cluster_labels_lotla[:, 1], cluster_labels_lotla[:, 2]):\n",
    "    folium.CircleMarker(\n",
    "        [lat, lon],\n",
    "        radius=1,\n",
    "        color=color_map[cluster],\n",
    "        fill=True,\n",
    "        fill_color=color_map[cluster],\n",
    "        fill_opacity=0.6\n",
    "    ).add_to(m)\n",
    "m"
   ]
  },
  {
   "cell_type": "code",
   "execution_count": 10,
   "metadata": {},
   "outputs": [],
   "source": [
    "cluster_labels_shap = np.loadtxt(\"../cluster-results/rf/kmeans/linear/361260/seed0/k5_shap_labels.csv\", delimiter=\",\")"
   ]
  },
  {
   "cell_type": "code",
   "execution_count": null,
   "metadata": {},
   "outputs": [],
   "source": [
    "# make scatterplot of data with first col being x, second col being y, third col being color\n",
    "plt.scatter(cluster_labels_shap[:, 0], cluster_labels_shap[:, 1], c=cluster_labels_shap[:, 2])\n",
    "plt.show()\n",
    "\n"
   ]
  },
  {
   "cell_type": "code",
   "execution_count": null,
   "metadata": {},
   "outputs": [],
   "source": [
    "# plot histogram of y\n",
    "plt.hist(y_miami, bins=50)\n",
    "plt.xlabel(\"Price\")\n",
    "plt.ylabel(\"Frequency\")\n",
    "plt.title(\"Histogram of Price in Miami Housing Dataset\")\n",
    "plt.show()"
   ]
  },
  {
   "cell_type": "code",
   "execution_count": null,
   "metadata": {},
   "outputs": [],
   "source": [
    "# get the number of ideal clusters\n",
    "from sklearn.cluster import KMeans\n",
    "from sklearn.metrics import silhouette_score\n",
    "\n",
    "# create a list to store the silhouette scores\n",
    "silhouette_scores = []\n",
    "\n",
    "# create a list to store the number of clusters\n",
    "num_clusters = list(range(2, 11))\n",
    "\n",
    "# loop through the number of clusters\n",
    "for i in num_clusters:\n",
    "    # create a kmeans model\n",
    "    kmeans = KMeans(n_clusters=i, random_state=42)\n",
    "    \n",
    "    # fit the model\n",
    "    kmeans.fit(X_miami)\n",
    "    \n",
    "    # get the labels\n",
    "    labels = kmeans.labels_\n",
    "    \n",
    "    # get the silhouette score\n",
    "    silhouette_scores.append(silhouette_score(X_miami, labels))\n",
    "\n",
    "# plot the silhouette scores\n",
    "plt.plot(num_clusters, silhouette_scores)\n",
    "plt.xlabel(\"Number of Clusters\")\n",
    "plt.ylabel(\"Silhouette Score\")\n",
    "plt.title(\"Silhouette Score vs Number of Clusters\")\n",
    "plt.show()\n"
   ]
  },
  {
   "cell_type": "code",
   "execution_count": null,
   "metadata": {},
   "outputs": [],
   "source": [
    "# List to store the sum of squared distances (inertia)\n",
    "inertia = []\n",
    "\n",
    "# Try different values of k (e.g., 1 to 10 clusters)\n",
    "for k in range(1, 11):\n",
    "    kmeans = KMeans(n_clusters=k, random_state=42)\n",
    "    kmeans.fit(X_miami)\n",
    "    inertia.append(kmeans.inertia_)\n",
    "\n",
    "# Plot the elbow graph\n",
    "plt.plot(range(1, 11), inertia, marker='o')\n",
    "plt.xlabel('Number of Clusters (k)')\n",
    "plt.ylabel('Inertia')\n",
    "plt.title('Elbow Method for Optimal k')\n",
    "plt.show()"
   ]
  },
  {
   "cell_type": "code",
   "execution_count": 2,
   "metadata": {},
   "outputs": [],
   "source": [
    "dataset = \"361260\"\n",
    "seeds = range(5)\n",
    "datafolder = \"fulldata\"\n",
    "treemethod = \"rf\"\n",
    "clustertype = \"kmeans\""
   ]
  },
  {
   "cell_type": "code",
   "execution_count": 6,
   "metadata": {},
   "outputs": [],
   "source": [
    "base_path = f'../cluster-results/{treemethod}/{clustertype}/linear'\n",
    "color_map = {\n",
    "    'elastic_nonnormed_nosquared_norank': 'black',\n",
    "    'lime': '#71BEB7',\n",
    "    'shap': 'orange',\n",
    "    'lmdi_baseline': '#9B5DFF',\n",
    "    'random': 'gray',\n",
    "    'global_elastic_nonnormed_nosquared_norank': 'red'\n",
    "}\n",
    "methods_name = {\n",
    "    'elastic_nonnormed_nosquared_norank': 'LoTLA+',\n",
    "    'lmdi_baseline': 'LoTLA',\n",
    "    'lime': 'LIME',\n",
    "    'shap': 'TreeSHAP',\n",
    "    'random': 'Random',\n",
    "    'global_elastic_nonnormed_nosquared_norank': 'Global'\n",
    "}\n",
    "\n",
    "seed_means = []\n",
    "seed_sds = []\n",
    "\n",
    "# go through each of the subdirectories and read data\n",
    "for seed in seeds:\n",
    "    \n",
    "    # check that the directory exists\n",
    "    if not os.path.exists(base_path + f'/{dataset}/seed{seed}'):\n",
    "        print(f\"Directory {base_path}/{dataset}/seed{seed} does not exist\")\n",
    "        continue\n",
    "\n",
    "    # get the data (removing the 'unnamed' column)\n",
    "    mse_means = pd.read_csv(base_path + f'/{dataset}/seed{seed}/cluster_mse_mean.csv').iloc[:,1:]\n",
    "    mse_sds = pd.read_csv(base_path + f'/{dataset}/seed{seed}/cluster_mse_sd.csv').iloc[:,1:]\n",
    "    \n",
    "    # convert sds to ses by dividing by sqrt(n)\n",
    "    mse_sds = mse_sds / np.sqrt(100)\n",
    "    \n",
    "    # get the methods we care about\n",
    "    methods = [\"elastic_nonnormed_nosquared_norank\",\n",
    "               \"global_elastic_nonnormed_nosquared_norank\",\n",
    "               'lmdi_baseline', 'lime', 'shap', \"random\"]\n",
    "    all_methods = []\n",
    "    for method in methods:\n",
    "        all_methods.append(method)\n",
    "        \n",
    "    # get the data for the methods we care about\n",
    "    mse_means = mse_means[all_methods]\n",
    "    mse_sds = mse_sds[all_methods]\n",
    "    \n",
    "    # append the data to the list\n",
    "    seed_means.append(mse_means)\n",
    "    seed_sds.append(mse_sds)\n",
    "# take the average of the dataframes in the list\n",
    "mean_df = pd.concat(seed_means).groupby(level=0).mean()\n",
    "sd_df = pd.concat(seed_sds).groupby(level=0).mean()"
   ]
  },
  {
   "cell_type": "code",
   "execution_count": 7,
   "metadata": {},
   "outputs": [
    {
     "data": {
      "text/html": [
       "<div>\n",
       "<style scoped>\n",
       "    .dataframe tbody tr th:only-of-type {\n",
       "        vertical-align: middle;\n",
       "    }\n",
       "\n",
       "    .dataframe tbody tr th {\n",
       "        vertical-align: top;\n",
       "    }\n",
       "\n",
       "    .dataframe thead th {\n",
       "        text-align: right;\n",
       "    }\n",
       "</style>\n",
       "<table border=\"1\" class=\"dataframe\">\n",
       "  <thead>\n",
       "    <tr style=\"text-align: right;\">\n",
       "      <th></th>\n",
       "      <th>elastic_nonnormed_nosquared_norank</th>\n",
       "      <th>global_elastic_nonnormed_nosquared_norank</th>\n",
       "      <th>lmdi_baseline</th>\n",
       "      <th>lime</th>\n",
       "      <th>shap</th>\n",
       "      <th>random</th>\n",
       "    </tr>\n",
       "  </thead>\n",
       "  <tbody>\n",
       "    <tr>\n",
       "      <th>0</th>\n",
       "      <td>0.065231</td>\n",
       "      <td>0.074378</td>\n",
       "      <td>0.066814</td>\n",
       "      <td>0.065378</td>\n",
       "      <td>0.064822</td>\n",
       "      <td>0.074952</td>\n",
       "    </tr>\n",
       "    <tr>\n",
       "      <th>1</th>\n",
       "      <td>0.057564</td>\n",
       "      <td>0.074349</td>\n",
       "      <td>0.061375</td>\n",
       "      <td>0.060903</td>\n",
       "      <td>0.052917</td>\n",
       "      <td>0.075486</td>\n",
       "    </tr>\n",
       "    <tr>\n",
       "      <th>2</th>\n",
       "      <td>0.046725</td>\n",
       "      <td>0.074121</td>\n",
       "      <td>0.059436</td>\n",
       "      <td>0.057495</td>\n",
       "      <td>0.049136</td>\n",
       "      <td>0.076042</td>\n",
       "    </tr>\n",
       "    <tr>\n",
       "      <th>3</th>\n",
       "      <td>0.045006</td>\n",
       "      <td>0.074273</td>\n",
       "      <td>0.053651</td>\n",
       "      <td>0.055893</td>\n",
       "      <td>0.047269</td>\n",
       "      <td>0.076415</td>\n",
       "    </tr>\n",
       "    <tr>\n",
       "      <th>4</th>\n",
       "      <td>0.044239</td>\n",
       "      <td>0.074336</td>\n",
       "      <td>0.051517</td>\n",
       "      <td>0.055091</td>\n",
       "      <td>0.047117</td>\n",
       "      <td>0.076647</td>\n",
       "    </tr>\n",
       "    <tr>\n",
       "      <th>5</th>\n",
       "      <td>0.044124</td>\n",
       "      <td>0.074523</td>\n",
       "      <td>0.048780</td>\n",
       "      <td>0.054246</td>\n",
       "      <td>0.045436</td>\n",
       "      <td>0.077113</td>\n",
       "    </tr>\n",
       "    <tr>\n",
       "      <th>6</th>\n",
       "      <td>0.042939</td>\n",
       "      <td>0.074460</td>\n",
       "      <td>0.048539</td>\n",
       "      <td>0.052051</td>\n",
       "      <td>0.047813</td>\n",
       "      <td>0.077818</td>\n",
       "    </tr>\n",
       "    <tr>\n",
       "      <th>7</th>\n",
       "      <td>0.042953</td>\n",
       "      <td>0.074528</td>\n",
       "      <td>0.046868</td>\n",
       "      <td>0.051768</td>\n",
       "      <td>0.047534</td>\n",
       "      <td>0.078233</td>\n",
       "    </tr>\n",
       "    <tr>\n",
       "      <th>8</th>\n",
       "      <td>0.042145</td>\n",
       "      <td>0.074323</td>\n",
       "      <td>0.281519</td>\n",
       "      <td>0.050420</td>\n",
       "      <td>0.047236</td>\n",
       "      <td>0.078490</td>\n",
       "    </tr>\n",
       "  </tbody>\n",
       "</table>\n",
       "</div>"
      ],
      "text/plain": [
       "   elastic_nonnormed_nosquared_norank  \\\n",
       "0                            0.065231   \n",
       "1                            0.057564   \n",
       "2                            0.046725   \n",
       "3                            0.045006   \n",
       "4                            0.044239   \n",
       "5                            0.044124   \n",
       "6                            0.042939   \n",
       "7                            0.042953   \n",
       "8                            0.042145   \n",
       "\n",
       "   global_elastic_nonnormed_nosquared_norank  lmdi_baseline      lime  \\\n",
       "0                                   0.074378       0.066814  0.065378   \n",
       "1                                   0.074349       0.061375  0.060903   \n",
       "2                                   0.074121       0.059436  0.057495   \n",
       "3                                   0.074273       0.053651  0.055893   \n",
       "4                                   0.074336       0.051517  0.055091   \n",
       "5                                   0.074523       0.048780  0.054246   \n",
       "6                                   0.074460       0.048539  0.052051   \n",
       "7                                   0.074528       0.046868  0.051768   \n",
       "8                                   0.074323       0.281519  0.050420   \n",
       "\n",
       "       shap    random  \n",
       "0  0.064822  0.074952  \n",
       "1  0.052917  0.075486  \n",
       "2  0.049136  0.076042  \n",
       "3  0.047269  0.076415  \n",
       "4  0.047117  0.076647  \n",
       "5  0.045436  0.077113  \n",
       "6  0.047813  0.077818  \n",
       "7  0.047534  0.078233  \n",
       "8  0.047236  0.078490  "
      ]
     },
     "execution_count": 7,
     "metadata": {},
     "output_type": "execute_result"
    }
   ],
   "source": [
    "mean_df"
   ]
  },
  {
   "cell_type": "code",
   "execution_count": 8,
   "metadata": {},
   "outputs": [
    {
     "data": {
      "image/png": "[encoded data removed]",
      "text/plain": [
       "<Figure size 1000x600 with 1 Axes>"
      ]
     },
     "metadata": {},
     "output_type": "display_data"
    }
   ],
   "source": [
    "# plot the data\n",
    "# The x-axis values\n",
    "x_values = np.array(range(2, mean_df.shape[0]+2), dtype = int)\n",
    "\n",
    "# Create the plot\n",
    "plt.figure(figsize=(10, 6))\n",
    "\n",
    "# Plot each column as a separate line with error bars\n",
    "for col in mean_df.columns:\n",
    "    if methods_name[col] == 'LoTLA':\n",
    "        continue\n",
    "    plt.errorbar(x_values, mean_df[col], yerr=sd_df[col],\n",
    "                 label=methods_name[col], color=color_map[col],\n",
    "                 fmt='-o', capsize=5)\n",
    "\n",
    "# Adding labels and title\n",
    "plt.xlabel(\"# of Clusters\")\n",
    "plt.ylabel(\"Mean Squared Error\")\n",
    "plt.title(f\"MSE for Miami Housing Dataset: {treemethod.upper()} Model\")\n",
    "# only put x-axis ticks on integers\n",
    "plt.xticks(x_values)\n",
    "# move the legend to the side of the plot\n",
    "plt.legend(title=\"Methods\", bbox_to_anchor=(1.05, 1), loc='upper left')\n",
    "\n",
    "# Show the plot\n",
    "plt.grid(True)\n",
    "plt.show()"
   ]
  },
  {
   "cell_type": "code",
   "execution_count": null,
   "metadata": {},
   "outputs": [],
   "source": [
    "# read in coefs for seed 0\n",
    "methods = [\"elastic_nonnormed_nosquared_norank\", 'shap', 'random', 'lime']\n",
    "coef_dict = {}\n",
    "for method in methods:\n",
    "    method_coefs = []\n",
    "    coefs = np.loadtxt(f\"../cluster-results/rf/kmeans/linear/361260/seed0/5clusters_clust{4}_{method}_coefs.csv\", delimiter=\",\")\n",
    "    coef_dict[method] = coefs\n",
    "print(\"Maximum Difference Between LIME and LoTLA Coefficients:\", np.max(np.abs(coef_dict['elastic_nonnormed_nosquared_norank'] - coef_dict['lime'])))\n",
    "print(\"Maximum Difference Between SHAP and LoTLA Coefficients:\", np.max(np.abs(coef_dict['elastic_nonnormed_nosquared_norank'] - coef_dict['shap'])))\n",
    "print(\"Maximum Difference Between Random and LoTLA Coefficients:\", np.max(np.abs(coef_dict['elastic_nonnormed_nosquared_norank'] - coef_dict['random'])))"
   ]
  },
  {
   "cell_type": "code",
   "execution_count": null,
   "metadata": {},
   "outputs": [],
   "source": [
    "print(\"Difference Between LIME and LoTLA Coefficients:\")\n",
    "pd.DataFrame(coef_dict['elastic_nonnormed_nosquared_norank'] - coef_dict['lime'])"
   ]
  },
  {
   "cell_type": "code",
   "execution_count": null,
   "metadata": {},
   "outputs": [],
   "source": [
    "print(\"Difference Between SHAP and LoTLA Coefficients:\")\n",
    "pd.DataFrame(coef_dict['elastic_nonnormed_nosquared_norank'] - coef_dict['shap'])"
   ]
  },
  {
   "cell_type": "code",
   "execution_count": null,
   "metadata": {},
   "outputs": [],
   "source": [
    "print(\"Difference Between Random and LoTLA Coefficients:\")\n",
    "pd.DataFrame(coef_dict['elastic_nonnormed_nosquared_norank'] - coef_dict['random'])"
   ]
  },
  {
   "cell_type": "code",
   "execution_count": null,
   "metadata": {},
   "outputs": [],
   "source": [
    "pd.DataFrame(coef_dict['elastic_nonnormed_nosquared_norank'])"
   ]
  },
  {
   "cell_type": "code",
   "execution_count": null,
   "metadata": {},
   "outputs": [],
   "source": [
    "coef_dict['elastic_nonnormed_nosquared_norank'].std(axis=0)[:2]"
   ]
  },
  {
   "cell_type": "code",
   "execution_count": null,
   "metadata": {},
   "outputs": [],
   "source": [
    "coef_dict['shap'].std(axis=0)[:2]"
   ]
  },
  {
   "cell_type": "code",
   "execution_count": null,
   "metadata": {},
   "outputs": [],
   "source": [
    "pd.DataFrame(coef_dict['shap'])"
   ]
  }
 ],
 "metadata": {
  "anaconda-cloud": {},
  "kernelspec": {
   "display_name": "mdi",
   "language": "python",
   "name": "python3"
  },
  "language_info": {
   "codemirror_mode": {
    "name": "ipython",
    "version": 3
   },
   "file_extension": ".py",
   "mimetype": "text/x-python",
   "name": "python",
   "nbconvert_exporter": "python",
   "pygments_lexer": "ipython3",
   "version": "3.10.14"
  }
 },
 "nbformat": 4,
 "nbformat_minor": 1
}
