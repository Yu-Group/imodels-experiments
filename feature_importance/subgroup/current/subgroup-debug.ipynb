{
 "cells": [
  {
   "cell_type": "code",
   "execution_count": 2,
   "metadata": {},
   "outputs": [],
   "source": [
    "# standard data science packages\n",
    "import numpy as np\n",
    "import pandas as pd\n",
    "\n",
    "# imodels imports\n",
    "from imodels.tree.rf_plus.rf_plus.rf_plus_models import \\\n",
    "    RandomForestPlusRegressor, RandomForestPlusClassifier\n",
    "from imodels.tree.rf_plus.feature_importance.rfplus_explainer import \\\n",
    "    RFPlusMDI, AloRFPlusMDI\n",
    "\n",
    "# functions for subgroup experiments\n",
    "from subgroup_detection import *\n",
    "from subgroup_experiment import *\n",
    "import shap\n",
    "\n",
    "# sklearn imports\n",
    "from sklearn.model_selection import train_test_split\n",
    "from sklearn.linear_model import LogisticRegression, LinearRegression\n",
    "from sklearn.metrics import roc_auc_score, average_precision_score, f1_score, \\\n",
    "    accuracy_score, r2_score, f1_score, log_loss, root_mean_squared_error\n",
    "\n",
    "# pipeline imports\n",
    "from subgroup import *"
   ]
  },
  {
   "cell_type": "code",
   "execution_count": 3,
   "metadata": {},
   "outputs": [],
   "source": [
    "# set inputs\n",
    "seed = 1\n",
    "dataids = [361247, 361243, 361242, 361251, 361253, 361260, 361259, 361256, 361254, 361622]\n",
    "dataid = 361616\n",
    "clustertype = \"kmeans\""
   ]
  },
  {
   "cell_type": "code",
   "execution_count": 4,
   "metadata": {},
   "outputs": [
    {
     "name": "stderr",
     "output_type": "stream",
     "text": [
      "/tmp/ipykernel_407309/2136635497.py:2: FutureWarning: Starting from Version 0.15.0 `download_splits` will default to ``False`` instead of ``True`` and be independent from `download_data`. To disable this message until version 0.15 explicitly set `download_splits` to a bool.\n",
      "  X, y = get_openml_data(dataid)\n"
     ]
    },
    {
     "name": "stdout",
     "output_type": "stream",
     "text": [
      "Step 1\n"
     ]
    },
    {
     "name": "stderr",
     "output_type": "stream",
     "text": [
      "[Parallel(n_jobs=-1)]: Using backend LokyBackend with 8 concurrent workers.\n",
      "[Parallel(n_jobs=-1)]: Done  34 tasks      | elapsed:    7.7s\n",
      "[Parallel(n_jobs=-1)]: Done 100 out of 100 | elapsed:   10.2s finished\n",
      "[Parallel(n_jobs=-1)]: Using backend LokyBackend with 8 concurrent workers.\n",
      "[Parallel(n_jobs=-1)]: Done  34 tasks      | elapsed:    3.2s\n",
      "[Parallel(n_jobs=-1)]: Done 100 out of 100 | elapsed:    8.6s finished\n",
      "[Parallel(n_jobs=-1)]: Using backend LokyBackend with 8 concurrent workers.\n",
      "[Parallel(n_jobs=-1)]: Done  52 tasks      | elapsed:    1.5s\n",
      "[Parallel(n_jobs=-1)]: Done 100 out of 100 | elapsed:    2.5s finished\n",
      "[Parallel(n_jobs=-1)]: Using backend LokyBackend with 8 concurrent workers.\n",
      "[Parallel(n_jobs=-1)]: Done  34 tasks      | elapsed:    1.6s\n",
      "[Parallel(n_jobs=-1)]: Done 100 out of 100 | elapsed:    4.4s finished\n"
     ]
    },
    {
     "name": "stdout",
     "output_type": "stream",
     "text": [
      "Step 2\n",
      "Step 3\n",
      "Step 4\n",
      "Step 5\n",
      "Step 6\n"
     ]
    },
    {
     "name": "stderr",
     "output_type": "stream",
     "text": [
      "/scratch/users/zachrewolinski/conda/envs/mdi/lib/python3.10/site-packages/sklearn/metrics/_regression.py:1187: UndefinedMetricWarning: R^2 score is not well-defined with less than two samples.\n",
      "  warnings.warn(msg, UndefinedMetricWarning)\n",
      "/scratch/users/zachrewolinski/conda/envs/mdi/lib/python3.10/site-packages/sklearn/metrics/_regression.py:1187: UndefinedMetricWarning: R^2 score is not well-defined with less than two samples.\n",
      "  warnings.warn(msg, UndefinedMetricWarning)\n",
      "/scratch/users/zachrewolinski/conda/envs/mdi/lib/python3.10/site-packages/sklearn/metrics/_regression.py:1187: UndefinedMetricWarning: R^2 score is not well-defined with less than two samples.\n",
      "  warnings.warn(msg, UndefinedMetricWarning)\n",
      "/scratch/users/zachrewolinski/conda/envs/mdi/lib/python3.10/site-packages/sklearn/metrics/_regression.py:1187: UndefinedMetricWarning: R^2 score is not well-defined with less than two samples.\n",
      "  warnings.warn(msg, UndefinedMetricWarning)\n",
      "/scratch/users/zachrewolinski/conda/envs/mdi/lib/python3.10/site-packages/sklearn/metrics/_regression.py:1187: UndefinedMetricWarning: R^2 score is not well-defined with less than two samples.\n",
      "  warnings.warn(msg, UndefinedMetricWarning)\n",
      "/scratch/users/zachrewolinski/conda/envs/mdi/lib/python3.10/site-packages/sklearn/metrics/_regression.py:1187: UndefinedMetricWarning: R^2 score is not well-defined with less than two samples.\n",
      "  warnings.warn(msg, UndefinedMetricWarning)\n",
      "/scratch/users/zachrewolinski/conda/envs/mdi/lib/python3.10/site-packages/sklearn/metrics/_regression.py:1187: UndefinedMetricWarning: R^2 score is not well-defined with less than two samples.\n",
      "  warnings.warn(msg, UndefinedMetricWarning)\n",
      "/scratch/users/zachrewolinski/conda/envs/mdi/lib/python3.10/site-packages/sklearn/metrics/_regression.py:1187: UndefinedMetricWarning: R^2 score is not well-defined with less than two samples.\n",
      "  warnings.warn(msg, UndefinedMetricWarning)\n",
      "/scratch/users/zachrewolinski/conda/envs/mdi/lib/python3.10/site-packages/sklearn/metrics/_regression.py:1187: UndefinedMetricWarning: R^2 score is not well-defined with less than two samples.\n",
      "  warnings.warn(msg, UndefinedMetricWarning)\n",
      "/scratch/users/zachrewolinski/conda/envs/mdi/lib/python3.10/site-packages/sklearn/metrics/_regression.py:1187: UndefinedMetricWarning: R^2 score is not well-defined with less than two samples.\n",
      "  warnings.warn(msg, UndefinedMetricWarning)\n",
      "/scratch/users/zachrewolinski/conda/envs/mdi/lib/python3.10/site-packages/sklearn/metrics/_regression.py:1187: UndefinedMetricWarning: R^2 score is not well-defined with less than two samples.\n",
      "  warnings.warn(msg, UndefinedMetricWarning)\n",
      "/scratch/users/zachrewolinski/conda/envs/mdi/lib/python3.10/site-packages/sklearn/metrics/_regression.py:1187: UndefinedMetricWarning: R^2 score is not well-defined with less than two samples.\n",
      "  warnings.warn(msg, UndefinedMetricWarning)\n",
      "/scratch/users/zachrewolinski/conda/envs/mdi/lib/python3.10/site-packages/sklearn/metrics/_regression.py:1187: UndefinedMetricWarning: R^2 score is not well-defined with less than two samples.\n",
      "  warnings.warn(msg, UndefinedMetricWarning)\n",
      "/scratch/users/zachrewolinski/conda/envs/mdi/lib/python3.10/site-packages/sklearn/metrics/_regression.py:1187: UndefinedMetricWarning: R^2 score is not well-defined with less than two samples.\n",
      "  warnings.warn(msg, UndefinedMetricWarning)\n"
     ]
    },
    {
     "name": "stdout",
     "output_type": "stream",
     "text": [
      "Step 7\n"
     ]
    }
   ],
   "source": [
    "# get data\n",
    "X, y = get_openml_data(dataid)\n",
    "\n",
    "# split data\n",
    "X_train, X_test, y_train, y_test = train_test_split(X, y, test_size = 0.2,\n",
    "                                                    random_state=seed)\n",
    "X_train, X_val, y_train, y_val = train_test_split(X_train, y_train,\n",
    "                                                    test_size = 0.5,\n",
    "                                                    random_state=seed)\n",
    "\n",
    "# check if task is regression or classification\n",
    "if len(np.unique(y)) == 2:\n",
    "    task = 'classification'\n",
    "else:\n",
    "    task = 'regression'\n",
    "    \n",
    "print(\"Step 1\")\n",
    "    \n",
    "# fit the prediction models\n",
    "rf, rf_plus_baseline, rf_plus = fit_models(X_train, y_train, task)\n",
    "\n",
    "rf_plus_ridge = RandomForestPlusRegressor(rf_model=rf,\n",
    "                                            prediction_model=RidgeCV(cv=5))\n",
    "rf_plus_ridge.fit(X_train, y_train)\n",
    "\n",
    "rf_plus_lasso = RandomForestPlusRegressor(rf_model=rf,\n",
    "                                            prediction_model=LassoCV(cv=5,\n",
    "                                            max_iter=10000, random_state=0))\n",
    "rf_plus_lasso.fit(X_train, y_train)\n",
    "\n",
    "print(\"Step 2\")\n",
    "\n",
    "# obtain shap feature importances\n",
    "shap_explainer = shap.TreeExplainer(rf)\n",
    "shap_train_values, shap_train_rankings = get_shap(X_val, shap_explainer,\n",
    "                                                    task)\n",
    "shap_test_values, shap_test_rankings = get_shap(X_test, shap_explainer,\n",
    "                                                task)\n",
    "\n",
    "print(\"Step 3\")\n",
    "\n",
    "# get lime feature importances\n",
    "lime_train_values, lime_train_rankings = get_lime(X_val, rf, task)\n",
    "lime_test_values, lime_test_rankings = get_lime(X_test, rf, task)\n",
    "\n",
    "print(\"Step 4\")\n",
    "\n",
    "# create list of lmdi variants\n",
    "lmdi_variants = create_lmdi_variant_map()\n",
    "\n",
    "# obtain lmdi feature importances\n",
    "lmdi_explainers = get_lmdi_explainers(rf_plus, lmdi_variants,\n",
    "                                        rf_plus_baseline = rf_plus_baseline,\n",
    "                                        rf_plus_lasso = rf_plus_lasso,\n",
    "                                        rf_plus_ridge = rf_plus_ridge)\n",
    "lfi_train_values, lfi_train_rankings = get_lmdi(X_train, y_train,\n",
    "                                                lmdi_variants,\n",
    "                                                lmdi_explainers)\n",
    "lfi_train_values, lfi_train_rankings = get_lmdi(X_val, None,\n",
    "                                                lmdi_variants,\n",
    "                                                lmdi_explainers)\n",
    "lfi_test_values, lfi_test_rankings = get_lmdi(X_test, None,\n",
    "                                                lmdi_variants,\n",
    "                                                lmdi_explainers)\n",
    "\n",
    "print(\"Step 5\")\n",
    "\n",
    "# add shap to the dictionaries\n",
    "lfi_train_values[\"shap\"] = shap_train_values\n",
    "lfi_train_rankings[\"shap\"] = shap_train_rankings\n",
    "lfi_test_values[\"shap\"] = shap_test_values\n",
    "lfi_test_rankings[\"shap\"] = shap_test_rankings\n",
    "\n",
    "# add the raw data to the dictionaries as a baseline of comparison\n",
    "lfi_train_values[\"rawdata\"] = X_val\n",
    "lfi_test_values[\"rawdata\"] = X_test\n",
    "\n",
    "# add lime to the dictionaries\n",
    "lfi_train_values[\"lime\"] = lime_train_values\n",
    "lfi_test_values[\"lime\"] = lime_test_values\n",
    "    \n",
    "# get the clusterings\n",
    "# method_to_labels, method_to_indices = get_train_clusters(lfi_train_values, clustertype)\n",
    "train_clusters = get_train_clusters(lfi_train_values, clustertype)\n",
    "cluster_centroids = get_cluster_centroids(lfi_train_values, train_clusters)\n",
    "test_clusters = get_test_clusters(lfi_test_values, cluster_centroids)\n",
    "\n",
    "print(\"Step 6\")\n",
    "\n",
    "# compute the performance\n",
    "metrics_to_scores = compute_performance(X_val, X_test, y_val, y_test,\n",
    "                                        train_clusters, test_clusters, task)\n",
    "\n",
    "print(\"Step 7\")\n"
   ]
  }
 ],
 "metadata": {
  "kernelspec": {
   "display_name": "mdi",
   "language": "python",
   "name": "python3"
  },
  "language_info": {
   "codemirror_mode": {
    "name": "ipython",
    "version": 3
   },
   "file_extension": ".py",
   "mimetype": "text/x-python",
   "name": "python",
   "nbconvert_exporter": "python",
   "pygments_lexer": "ipython3",
   "version": "3.10.14"
  }
 },
 "nbformat": 4,
 "nbformat_minor": 2
}
