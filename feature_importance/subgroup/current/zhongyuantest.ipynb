{
 "cells": [
  {
   "cell_type": "code",
   "execution_count": 1,
   "metadata": {},
   "outputs": [],
   "source": [
    "import numpy as np\n",
    "import pandas as pd"
   ]
  },
  {
   "cell_type": "code",
   "execution_count": 3,
   "metadata": {},
   "outputs": [],
   "source": [
    "# read in high and jsteinhardt\n",
    "high = pd.read_csv('high.csv')\n",
    "jsteinhardt = pd.read_csv('jsteinhardt.csv')"
   ]
  },
  {
   "cell_type": "code",
   "execution_count": 5,
   "metadata": {},
   "outputs": [
    {
     "name": "stdout",
     "output_type": "stream",
     "text": [
      "   1.369702060783211106e-01  8.858936148136197231e-01  \\\n",
      "0                 -0.399793                  0.378943   \n",
      "1                 -0.163806                 -1.224553   \n",
      "2                 -0.089647                  3.050560   \n",
      "3                  0.774879                  0.149840   \n",
      "4                 -0.023527                 -0.978549   \n",
      "\n",
      "   3.409721555441915224e-03  6.156011231326030675e-02  \\\n",
      "0                  0.022459                 -0.248008   \n",
      "1                  0.591355                  0.032410   \n",
      "2                  0.077645                 -0.125348   \n",
      "3                  0.224451                 -0.015595   \n",
      "4                 -0.023032                 -0.161613   \n",
      "\n",
      "   5.168440001786407667e-02  5.355900173205756509e-01  \\\n",
      "0                 -0.144811                 -1.255055   \n",
      "1                  0.329950                  0.897343   \n",
      "2                  0.229544                  0.354802   \n",
      "3                  0.152280                  0.554202   \n",
      "4                 -0.091760                 -1.373303   \n",
      "\n",
      "   1.704812300647481349e-01  9.579768287402210536e-01  \n",
      "0                 -0.085366                 -0.694693  \n",
      "1                 -0.112202                 -0.177988  \n",
      "2                  0.076241                  0.063554  \n",
      "3                  1.147613                  0.443428  \n",
      "4                 -0.210875                 -0.563080  \n",
      "-------\n",
      "   1.369702060783211106e-01  8.858936148136197231e-01  \\\n",
      "0                 -0.399793                  0.378943   \n",
      "1                 -0.163806                 -1.224553   \n",
      "2                 -0.089647                  3.050560   \n",
      "3                  0.774879                  0.149840   \n",
      "4                 -0.023527                 -0.978549   \n",
      "\n",
      "   3.409721555441915224e-03  6.156011231326030675e-02  \\\n",
      "0                  0.022459                 -0.248008   \n",
      "1                  0.591355                  0.032410   \n",
      "2                  0.077645                 -0.125348   \n",
      "3                  0.224451                 -0.015595   \n",
      "4                 -0.023032                 -0.161613   \n",
      "\n",
      "   5.168440001786407667e-02  5.355900173205756509e-01  \\\n",
      "0                 -0.144811                 -1.255055   \n",
      "1                  0.329950                  0.897343   \n",
      "2                  0.229544                  0.354802   \n",
      "3                  0.152280                  0.554202   \n",
      "4                 -0.091760                 -1.373303   \n",
      "\n",
      "   1.704812300647481349e-01  9.579768287402210536e-01  \n",
      "0                 -0.085366                 -0.694693  \n",
      "1                 -0.112202                 -0.177988  \n",
      "2                  0.076241                  0.063554  \n",
      "3                  1.147613                  0.443428  \n",
      "4                 -0.210875                 -0.563080  \n"
     ]
    }
   ],
   "source": [
    "# print their heads\n",
    "print(high.head())\n",
    "print('-------')\n",
    "print(jsteinhardt.head())"
   ]
  },
  {
   "cell_type": "code",
   "execution_count": 6,
   "metadata": {},
   "outputs": [
    {
     "name": "stdout",
     "output_type": "stream",
     "text": [
      "True\n"
     ]
    }
   ],
   "source": [
    "# check if they are equal\n",
    "print(high.equals(jsteinhardt))"
   ]
  }
 ],
 "metadata": {
  "kernelspec": {
   "display_name": "mdi",
   "language": "python",
   "name": "python3"
  },
  "language_info": {
   "codemirror_mode": {
    "name": "ipython",
    "version": 3
   },
   "file_extension": ".py",
   "mimetype": "text/x-python",
   "name": "python",
   "nbconvert_exporter": "python",
   "pygments_lexer": "ipython3",
   "version": "3.10.14"
  }
 },
 "nbformat": 4,
 "nbformat_minor": 2
}
