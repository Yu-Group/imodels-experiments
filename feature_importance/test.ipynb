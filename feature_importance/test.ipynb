{
 "cells": [
  {
   "cell_type": "code",
   "execution_count": 1,
   "metadata": {},
   "outputs": [],
   "source": [
    "import numpy as np\n",
    "import pandas as pd\n",
    "from imodels.tree.rf_plus.rf_plus.rf_plus_models import RandomForestPlusClassifier, RandomForestPlusRegressor\n",
    "from imodels.tree.rf_plus.feature_importance.rfplus_explainer import  AloRFPlusMDI, RFPlusMDI\n",
    "from sklearn.model_selection import train_test_split\n",
    "from sklearn.ensemble import RandomForestClassifier, RandomForestRegressor\n",
    "from sklearn.linear_model import SGDRegressor\n",
    "from imodels import get_clean_dataset"
   ]
  },
  {
   "cell_type": "code",
   "execution_count": null,
   "metadata": {},
   "outputs": [
    {
     "name": "stdout",
     "output_type": "stream",
     "text": [
      "fetching diabetes from sklearn\n",
      "X_train shape:  (309, 10)\n"
     ]
    }
   ],
   "source": [
    "# X = np.load('X.npy')\n",
    "# y = np.load('y.npy')\n",
    "# sample train and test data from diabetes dataset\n",
    "X, y, feature_names = get_clean_dataset('diabetes_regr')\n",
    "# train-test split\n",
    "X_train, X_test, y_train, y_test = train_test_split(X, y, test_size=0.3, random_state=42)\n",
    "# print shape of X_train\n",
    "print(\"X_train shape: \", X_train.shape)"
   ]
  },
  {
   "cell_type": "code",
   "execution_count": 3,
   "metadata": {},
   "outputs": [
    {
     "name": "stderr",
     "output_type": "stream",
     "text": [
      "[Parallel(n_jobs=-1)]: Using backend LokyBackend with 8 concurrent workers.\n",
      "[Parallel(n_jobs=-1)]: Done  34 tasks      | elapsed:    7.1s\n",
      "[Parallel(n_jobs=-1)]: Done 100 out of 100 | elapsed:    9.0s finished\n"
     ]
    }
   ],
   "source": [
    "# initialize RF model\n",
    "rf = RandomForestRegressor(n_estimators = 100, min_samples_leaf = 5,\n",
    "                           max_depth = 5, max_features = 0.33,\n",
    "                           random_state = 42)\n",
    "\n",
    "# fit RF+ model\n",
    "rf_plus = RandomForestPlusRegressor(rf_model=rf,\n",
    "                                    prediction_model=SGDRegressor(alpha=0.001))\n",
    "rf_plus.fit(X_train, y_train)"
   ]
  },
  {
   "cell_type": "code",
   "execution_count": 4,
   "metadata": {},
   "outputs": [
    {
     "data": {
      "text/plain": [
       "3.886222839355469e-05"
      ]
     },
     "execution_count": 4,
     "metadata": {},
     "output_type": "execute_result"
    }
   ],
   "source": [
    "rf_plus.check_data_time"
   ]
  },
  {
   "cell_type": "code",
   "execution_count": 5,
   "metadata": {},
   "outputs": [
    {
     "data": {
      "text/plain": [
       "0.19572162628173828"
      ]
     },
     "execution_count": 5,
     "metadata": {},
     "output_type": "execute_result"
    }
   ],
   "source": [
    "rf_plus.fit_rf_time"
   ]
  },
  {
   "cell_type": "code",
   "execution_count": 6,
   "metadata": {},
   "outputs": [
    {
     "data": {
      "text/plain": [
       "9.045751571655273"
      ]
     },
     "execution_count": 6,
     "metadata": {},
     "output_type": "execute_result"
    }
   ],
   "source": [
    "rf_plus.fit_forest_time"
   ]
  },
  {
   "cell_type": "code",
   "execution_count": 7,
   "metadata": {},
   "outputs": [],
   "source": [
    "lst = []"
   ]
  },
  {
   "cell_type": "code",
   "execution_count": 8,
   "metadata": {},
   "outputs": [
    {
     "data": {
      "text/plain": [
       "init_transformer        0.000505\n",
       "get_transformed_data    0.014320\n",
       "fit_prediction_model    0.004274\n",
       "total_ith_tree          0.020401\n",
       "dtype: float64"
      ]
     },
     "execution_count": 8,
     "metadata": {},
     "output_type": "execute_result"
    }
   ],
   "source": [
    "rf_plus.fit_trees_time.mean()"
   ]
  },
  {
   "cell_type": "code",
   "execution_count": 9,
   "metadata": {},
   "outputs": [],
   "source": [
    "# get feature importances\n",
    "mdi_explainer = RFPlusMDI(rf_plus)"
   ]
  },
  {
   "cell_type": "code",
   "execution_count": 10,
   "metadata": {},
   "outputs": [
    {
     "data": {
      "text/plain": [
       "0.015544652938842773"
      ]
     },
     "execution_count": 10,
     "metadata": {},
     "output_type": "execute_result"
    }
   ],
   "source": [
    "mdi_explainer.init_ppm_time"
   ]
  },
  {
   "cell_type": "code",
   "execution_count": 11,
   "metadata": {},
   "outputs": [],
   "source": [
    "# train_lmdi = mdi_explainer.explain_r2(X_train, y_train, l2norm=True)\n",
    "test_lmdi = mdi_explainer.explain_linear_partial(X_train, y_train, leaf_average=True, l2norm=True, njobs = 1)"
   ]
  },
  {
   "cell_type": "code",
   "execution_count": 17,
   "metadata": {},
   "outputs": [
    {
     "name": "stdout",
     "output_type": "stream",
     "text": [
      "Total partial preds time:  0.0034155869483947754\n",
      "Partial preds time:  0.0003127286434173584\n"
     ]
    }
   ],
   "source": [
    "lst = list()\n",
    "lst2 = list()\n",
    "for explainer in mdi_explainer.tree_explainers:\n",
    "    lst.append(explainer._total_partial_preds_time)\n",
    "    lst2.append(explainer._partial_preds_time)\n",
    "print(\"Total partial preds time: \", np.array(lst).mean())\n",
    "print(\"Partial preds time: \", np.array(lst2).mean())"
   ]
  },
  {
   "cell_type": "code",
   "execution_count": 13,
   "metadata": {},
   "outputs": [
    {
     "data": {
      "text/plain": [
       "4.76837158203125e-06"
      ]
     },
     "execution_count": 13,
     "metadata": {},
     "output_type": "execute_result"
    }
   ],
   "source": [
    "mdi_explainer.get_leafs_in_test_samples_time"
   ]
  },
  {
   "cell_type": "code",
   "execution_count": 14,
   "metadata": {},
   "outputs": [
    {
     "data": {
      "text/plain": [
       "12.056845903396606"
      ]
     },
     "execution_count": 14,
     "metadata": {},
     "output_type": "execute_result"
    }
   ],
   "source": [
    "mdi_explainer.partial_predictions_time"
   ]
  },
  {
   "cell_type": "code",
   "execution_count": 15,
   "metadata": {},
   "outputs": [
    {
     "data": {
      "text/plain": [
       "0.1785750389099121"
      ]
     },
     "execution_count": 15,
     "metadata": {},
     "output_type": "execute_result"
    }
   ],
   "source": [
    "mdi_explainer.leaf_average_time"
   ]
  },
  {
   "cell_type": "code",
   "execution_count": 16,
   "metadata": {},
   "outputs": [
    {
     "data": {
      "text/plain": [
       "12.23560905456543"
      ]
     },
     "execution_count": 16,
     "metadata": {},
     "output_type": "execute_result"
    }
   ],
   "source": [
    "mdi_explainer.get_lfi_time"
   ]
  },
  {
   "cell_type": "code",
   "execution_count": 12,
   "metadata": {},
   "outputs": [
    {
     "ename": "AttributeError",
     "evalue": "'RFPlusMDI' object has no attribute '_partial_preds_time'",
     "output_type": "error",
     "traceback": [
      "\u001b[0;31m---------------------------------------------------------------------------\u001b[0m",
      "\u001b[0;31mAttributeError\u001b[0m                            Traceback (most recent call last)",
      "Cell \u001b[0;32mIn[12], line 1\u001b[0m\n\u001b[0;32m----> 1\u001b[0m \u001b[43mmdi_explainer\u001b[49m\u001b[38;5;241;43m.\u001b[39;49m\u001b[43m_partial_preds_time\u001b[49m\n",
      "\u001b[0;31mAttributeError\u001b[0m: 'RFPlusMDI' object has no attribute '_partial_preds_time'"
     ]
    }
   ],
   "source": [
    "mdi_explainer.rf_plus_model."
   ]
  },
  {
   "cell_type": "code",
   "execution_count": null,
   "metadata": {},
   "outputs": [],
   "source": []
  },
  {
   "cell_type": "code",
   "execution_count": 16,
   "metadata": {},
   "outputs": [],
   "source": [
    "data = np.load(\"X.npy\")\n",
    "data.shape\n",
    "n_samples = 100\n",
    "n_features = 5"
   ]
  },
  {
   "cell_type": "code",
   "execution_count": 17,
   "metadata": {},
   "outputs": [],
   "source": [
    "# randomly sample n_samples and n_features from X and y\n",
    "sampled_rows = np.random.choice(X.shape[0], n_samples, replace=False)\n",
    "\n",
    "# Randomly sample m columns\n",
    "sampled_cols = np.random.choice(X.shape[1], n_features, replace=False)\n",
    "\n",
    "# Create the sampled array\n",
    "X_train = X[sampled_rows][:, sampled_cols]"
   ]
  },
  {
   "cell_type": "code",
   "execution_count": 20,
   "metadata": {},
   "outputs": [
    {
     "data": {
      "text/plain": [
       "(174368, 367)"
      ]
     },
     "execution_count": 20,
     "metadata": {},
     "output_type": "execute_result"
    }
   ],
   "source": [
    "data.shape"
   ]
  },
  {
   "cell_type": "code",
   "execution_count": 1,
   "metadata": {},
   "outputs": [
    {
     "name": "stdout",
     "output_type": "stream",
     "text": [
      "fetching diabetes from sklearn\n"
     ]
    },
    {
     "name": "stderr",
     "output_type": "stream",
     "text": [
      "[Parallel(n_jobs=-1)]: Using backend LokyBackend with 8 concurrent workers.\n",
      "[Parallel(n_jobs=-1)]: Done  34 tasks      | elapsed:   10.2s\n",
      "[Parallel(n_jobs=-1)]: Done 100 out of 100 | elapsed:   15.4s finished\n"
     ]
    }
   ],
   "source": [
    "from scripts.simulations_util import *\n",
    "from sklearn.ensemble import RandomForestRegressor\n",
    "from util import apply_splitting_strategy\n",
    "from imodels.tree.rf_plus.rf_plus.rf_plus_models import RandomForestPlusRegressor\n",
    "from imodels.tree.rf_plus.feature_importance.rfplus_explainer import AloRFPlusMDI\n",
    "\n",
    "# get data\n",
    "X = sample_real_data_X(source = \"imodels\", data_name = \"diabetes_regr\", sample_row_n = 400)\n",
    "y = linear_model(X, beta = 1, sigma = None, heritability = 0.8, s = 5)\n",
    "X_train, X_tune, X_test, y_train, y_tune, y_test = apply_splitting_strategy(X, y, \"train-test\", 1)\n",
    "\n",
    "# initialize RF model\n",
    "rf = RandomForestRegressor(n_estimators = 100, min_samples_leaf = 5, max_features = 0.33, random_state = 42)\n",
    "\n",
    "# fit RF+ model\n",
    "rf_plus = RandomForestPlusRegressor(rf_model=rf)\n",
    "rf_plus.fit(X_train, y_train)"
   ]
  },
  {
   "cell_type": "code",
   "execution_count": 2,
   "metadata": {},
   "outputs": [],
   "source": [
    "# get feature importances\n",
    "mdi_explainer = AloRFPlusMDI(rf_plus, evaluate_on='oob')\n",
    "mdi, partial_preds = mdi_explainer.explain(np.asarray(X_train), y_train, leaf_average=True)\n",
    "# mdi_rankings = mdi_explainer.get_rankings(mdi)"
   ]
  },
  {
   "cell_type": "code",
   "execution_count": 3,
   "metadata": {},
   "outputs": [
    {
     "data": {
      "text/plain": [
       "array([[-0.15401222, -0.12353409, -0.09846435, ..., -0.1649551 ,\n",
       "        -0.16848943, -0.16695095],\n",
       "       [-0.04393247, -0.08856134, -0.01087691, ..., -0.02182093,\n",
       "        -0.03546607, -0.03541808],\n",
       "       [-0.04454344, -0.01119317, -0.05182914, ..., -0.06075052,\n",
       "        -0.05162437, -0.04708101],\n",
       "       ...,\n",
       "       [-0.12245341, -0.05899384, -0.06858969, ..., -0.09567499,\n",
       "        -0.11051321, -0.10448243],\n",
       "       [-0.06144286, -0.06667639, -0.01863273, ..., -0.02394332,\n",
       "        -0.0196163 , -0.0212131 ],\n",
       "       [-0.0227569 , -0.01432783, -0.01247537, ..., -0.06030641,\n",
       "        -0.06521143, -0.06407156]])"
      ]
     },
     "execution_count": 3,
     "metadata": {},
     "output_type": "execute_result"
    }
   ],
   "source": [
    "mdi"
   ]
  },
  {
   "cell_type": "code",
   "execution_count": null,
   "metadata": {},
   "outputs": [],
   "source": [
    "X = sample_real_data_X(source = \"imodels\", data_name = \"diabetes_regr\", sample_row_n = 400)\n",
    "y = linear_model(X, beta = 1, sigma = None, heritability = 0.8, s = 5)\n",
    "X_train, X_tune, X_test, y_train, y_tune, y_test = apply_splitting_strategy(X, y, \"train-test\", 1)\n",
    "np.random.seed(42)\n",
    "indices_train = np.random.choice(X_train.shape[0], int(X_train.shape[0]*.25), replace=False)\n",
    "indices_test = np.random.choice(X_test.shape[0], int(X_test.shape[0]*.25), replace=False)\n",
    "X_train_subset = X_train[indices_train]\n",
    "y_train_subset = y_train[indices_train]\n",
    "X_test_subset = X_test[indices_test]\n",
    "y_test_subset = y_test[indices_test]\n",
    "# fit RF model\n",
    "est = RandomForestRegressor(n_estimators = 100, min_samples_leaf = 5, max_features = 0.33, random_state = 42)\n",
    "\n",
    "est.fit(X_train, y_train)\n",
    "\n",
    "# fit RF_plus model\n",
    "rf_plus_base = RandomForestPlusRegressor(rf_model=est)\n",
    "rf_plus_base.fit(X_train, y_train)\n"
   ]
  },
  {
   "cell_type": "code",
   "execution_count": 13,
   "metadata": {},
   "outputs": [],
   "source": [
    "local_fi_score_train, local_parital_pred_train, local_fi_score_test, local_partial_pred_test, local_fi_score_test_subset, local_partial_pred_test_subset = LFI_evaluation_RF_plus(X_train=X_train, y_train=y_train,\n",
    "                       X_train_subset = X_train_subset, y_train_subset=y_train_subset,\n",
    "                       X_test_subset=X_test_subset, X_test=X_test,\n",
    "                       fit=rf_plus_base)\n",
    "local_fi_score_train_subset = local_fi_score_train[indices_train]\n",
    "local_partial_pred_train_subset = local_parital_pred_train[indices_train]"
   ]
  },
  {
   "cell_type": "code",
   "execution_count": 14,
   "metadata": {},
   "outputs": [
    {
     "name": "stdout",
     "output_type": "stream",
     "text": [
      "[0.6399999999999999, 1.0, 0.44000000000000006, 0.76, 0.8400000000000001, 0.4, 0.7600000000000001, 0.6399999999999999, 0.88, 0.92, 1.0, 0.28, 0.24000000000000002, 0.6400000000000001, 0.72, 0.8400000000000001, 1.0, 0.8, 0.6799999999999999, 0.4, 0.6, 0.6799999999999999, 0.7600000000000001, 1.0, 0.88, 0.52, 0.7200000000000002, 0.6799999999999999, 0.7600000000000001, 0.92, 0.28, 0.8, 0.48]\n",
      "[0.8, 1.0, 0.6746031746031746, 0.8211111111111111, 0.911111111111111, 0.5088888888888888, 0.8599999999999999, 0.8, 0.925, 0.9428571428571428, 1.0, 0.45460317460317456, 0.5305555555555554, 0.7642857142857142, 0.8333333333333333, 0.911111111111111, 1.0, 0.8999999999999999, 0.8111111111111111, 0.6638888888888889, 0.7888888888888888, 0.7833333333333332, 0.8599999999999999, 1.0, 0.925, 0.7088888888888889, 0.81, 0.8111111111111111, 0.8599999999999999, 0.9428571428571428, 0.5412698412698412, 0.8999999999999999, 0.6888888888888889]\n",
      "[0.0, 0.0, 0.0, 0.0, 0.0, 0.0, 0.0, 0.0, 0.0, 0.0, 0.0, 0.0, 0.0, 0.0, 0.0, 0.0, 0.0, 0.0, 0.0, 0.0, 0.0, 0.0, 0.0, 0.0, 0.0, 0.0, 0.0, 0.0, 0.0, 0.0, 0.0, 0.0, 0.0]\n",
      "0.6957575757575759\n",
      "0.8100817700817701\n",
      "0.0\n"
     ]
    }
   ],
   "source": [
    "local_fi_score_test_subset = pd.DataFrame(local_fi_score_test_subset)\n",
    "auroc = []\n",
    "auprc = []\n",
    "f1 = []\n",
    "support = [1,1,1,1,1,0,0,0,0,0]\n",
    "for rownum in range(local_fi_score_test_subset.shape[0]):\n",
    "    auroc.append(roc_auc_score(support, local_fi_score_test_subset.iloc[rownum,:]))\n",
    "    auprc.append(average_precision_score(support, local_fi_score_test_subset.iloc[rownum,:]))\n",
    "    f1.append(f1_score(support, local_fi_score_test_subset.iloc[rownum,:] > 0.5))\n",
    "print(auroc)\n",
    "print(auprc)\n",
    "print(f1)\n",
    "print(np.array(auroc).mean())\n",
    "print(np.array(auprc).mean())\n",
    "print(np.array(f1).mean())\n",
    "                    "
   ]
  }
 ],
 "metadata": {
  "kernelspec": {
   "display_name": "mdi",
   "language": "python",
   "name": "python3"
  },
  "language_info": {
   "codemirror_mode": {
    "name": "ipython",
    "version": 3
   },
   "file_extension": ".py",
   "mimetype": "text/x-python",
   "name": "python",
   "nbconvert_exporter": "python",
   "pygments_lexer": "ipython3",
   "version": "3.10.14"
  }
 },
 "nbformat": 4,
 "nbformat_minor": 2
}
