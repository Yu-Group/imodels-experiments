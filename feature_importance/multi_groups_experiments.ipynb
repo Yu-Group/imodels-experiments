{
 "cells": [
  {
   "cell_type": "code",
   "execution_count": 62,
   "metadata": {},
   "outputs": [],
   "source": [
    "import os\n",
    "import sys\n",
    "sys.path.append(\".\")\n",
    "sys.path.append(\"..\")\n",
    "from feature_importance.scripts.simulations_util import *\n",
    "from imodels.tree.rf_plus.rf_plus.rf_plus_models import RandomForestPlusRegressor\n",
    "from sklearn.metrics import roc_auc_score, average_precision_score, f1_score\n",
    "from sklearn.ensemble import RandomForestRegressor\n",
    "from sklearn.linear_model import LinearRegression\n",
    "import pickle\n",
    "import numpy as np\n",
    "import pandas as pd\n",
    "import sys\n",
    "import shap\n",
    "from sklearn.model_selection import train_test_split"
   ]
  },
  {
   "cell_type": "code",
   "execution_count": 63,
   "metadata": {},
   "outputs": [],
   "source": [
    "np.random.seed(0)"
   ]
  },
  {
   "cell_type": "code",
   "execution_count": 64,
   "metadata": {},
   "outputs": [],
   "source": [
    "X = sample_normal_X(500,300,10,seed=42)"
   ]
  },
  {
   "cell_type": "code",
   "execution_count": 65,
   "metadata": {},
   "outputs": [],
   "source": [
    "# Do linear model where the first 5 features are important for the first subgroup and the last 5 features are important for the second subgroup\n",
    "y = linear_model_two_groups(X, s=5, beta=1, sigma=None, heritability=0.4,seed=8, group_intercept=0.5)"
   ]
  },
  {
   "cell_type": "code",
   "execution_count": 66,
   "metadata": {},
   "outputs": [],
   "source": [
    "X_train_subgroup1, X_test_subgroup1, y_train_subgroup1, y_test_subgroup1 = train_test_split(X[:X.shape[0]//2], y[:y.shape[0]//2], test_size=0.3, random_state=0)"
   ]
  },
  {
   "cell_type": "code",
   "execution_count": 67,
   "metadata": {},
   "outputs": [
    {
     "name": "stdout",
     "output_type": "stream",
     "text": [
      "MSE: 0.08147459091310877, R2: 0.3078690573523587\n"
     ]
    }
   ],
   "source": [
    "rf = RandomForestRegressor(n_estimators=100, min_samples_leaf=5, max_features=0.33, random_state=42)\n",
    "rf.fit(X_train_subgroup1, y_train_subgroup1)\n",
    "# Measure the performance of the model\n",
    "y_pred = rf.predict(X_test_subgroup1)\n",
    "#MSE\n",
    "mse = np.mean((y_test_subgroup1 - y_pred)**2)\n",
    "#R2\n",
    "r2 = rf.score(X_test_subgroup1, y_test_subgroup1)\n",
    "print(f\"MSE: {mse}, R2: {r2}\")"
   ]
  },
  {
   "cell_type": "code",
   "execution_count": 68,
   "metadata": {},
   "outputs": [],
   "source": [
    "X_train_subgroup2, X_test_subgroup2, y_train_subgroup2, y_test_subgroup2 = train_test_split(X[X.shape[0]//2:], y[y.shape[0]//2:], test_size=0.3, random_state=0)"
   ]
  },
  {
   "cell_type": "code",
   "execution_count": 69,
   "metadata": {},
   "outputs": [
    {
     "name": "stdout",
     "output_type": "stream",
     "text": [
      "MSE: 0.0895600097001882, R2: 0.20958625064562153\n"
     ]
    }
   ],
   "source": [
    "rf = RandomForestRegressor(n_estimators=100, min_samples_leaf=5, max_features=0.33, random_state=42)\n",
    "rf.fit(X_train_subgroup2, y_train_subgroup2)\n",
    "# Measure the performance of the model\n",
    "y_pred = rf.predict(X_test_subgroup2)\n",
    "#MSE\n",
    "mse = np.mean((y_test_subgroup2 - y_pred)**2)\n",
    "#R2\n",
    "r2 = rf.score(X_test_subgroup2, y_test_subgroup2)\n",
    "print(f\"MSE: {mse}, R2: {r2}\")"
   ]
  },
  {
   "cell_type": "code",
   "execution_count": 70,
   "metadata": {},
   "outputs": [],
   "source": [
    "# X_train, X_test, y_train, y_test = train_test_split(X, y, test_size=0.3, random_state=0)"
   ]
  },
  {
   "cell_type": "code",
   "execution_count": 71,
   "metadata": {},
   "outputs": [],
   "source": [
    "# rf = RandomForestRegressor(n_estimators=100, min_samples_leaf=5, max_features=0.33, random_state=42)\n",
    "# rf.fit(X_train, y_train)\n",
    "# # Measure the performance of the model\n",
    "# y_pred = rf.predict(X_test)\n",
    "# #MSE\n",
    "# mse = np.mean((y_test - y_pred)**2)\n",
    "# #R2\n",
    "# r2 = rf.score(X_test, y_test)\n",
    "# print(f\"MSE: {mse}, R2: {r2}\")"
   ]
  },
  {
   "cell_type": "code",
   "execution_count": 72,
   "metadata": {},
   "outputs": [],
   "source": [
    "num_rows = X.shape[0]\n",
    "\n",
    "# Create the new column\n",
    "new_column = np.zeros(num_rows)\n",
    "new_column[num_rows // 2:] = 1\n",
    "\n",
    "# Reshape the new column to be a column vector\n",
    "new_column = new_column.reshape(-1, 1)\n",
    "new_X = np.hstack((X, new_column))"
   ]
  },
  {
   "cell_type": "code",
   "execution_count": 73,
   "metadata": {},
   "outputs": [],
   "source": [
    "X_train, X_test, y_train, y_test = train_test_split(new_X, y, test_size=300, random_state=0)"
   ]
  },
  {
   "cell_type": "code",
   "execution_count": 74,
   "metadata": {},
   "outputs": [
    {
     "name": "stdout",
     "output_type": "stream",
     "text": [
      "MSE: 0.12103227948790433, R2: 0.6834610363577607\n"
     ]
    }
   ],
   "source": [
    "rf = RandomForestRegressor(n_estimators=100, min_samples_leaf=5, max_features=0.33, random_state=42)\n",
    "rf.fit(X_train, y_train)\n",
    "# Measure the performance of the model\n",
    "y_pred = rf.predict(X_test)\n",
    "#MSE\n",
    "mse = np.mean((y_test - y_pred)**2)\n",
    "#R2\n",
    "r2 = rf.score(X_test, y_test)\n",
    "print(f\"MSE: {mse}, R2: {r2}\")"
   ]
  },
  {
   "cell_type": "code",
   "execution_count": 75,
   "metadata": {},
   "outputs": [
    {
     "data": {
      "text/plain": [
       "0.6834610363577607"
      ]
     },
     "execution_count": 75,
     "metadata": {},
     "output_type": "execute_result"
    }
   ],
   "source": [
    "from sklearn.metrics import r2_score\n",
    "r2_score(y_test, rf.predict(X_test))"
   ]
  },
  {
   "cell_type": "code",
   "execution_count": 50,
   "metadata": {},
   "outputs": [
    {
     "name": "stdout",
     "output_type": "stream",
     "text": [
      "[6, 4, 14, 6, 11, 6, 12, 2, 4, 1, 34]\n"
     ]
    }
   ],
   "source": [
    "features = [0,0,0,0,0,0,0,0,0,0,0]\n",
    "for i, tree in enumerate(rf.estimators_):\n",
    "    root_feature_index = tree.tree_.feature[0]\n",
    "    features[root_feature_index] += 1\n",
    "print(features)"
   ]
  },
  {
   "cell_type": "code",
   "execution_count": 51,
   "metadata": {},
   "outputs": [],
   "source": [
    "# rf = RandomForestRegressor(n_estimators=100, min_samples_leaf=5, max_features=1.0, random_state=42)\n",
    "# rf.fit(X_train, y_train)\n",
    "# # Measure the performance of the model\n",
    "# y_pred = rf.predict(X_test)\n",
    "# #MSE\n",
    "# mse = np.mean((y_test - y_pred)**2)\n",
    "# #R2\n",
    "# r2 = rf.score(X_test, y_test)\n",
    "# print(f\"MSE: {mse}, R2: {r2}\")"
   ]
  },
  {
   "cell_type": "code",
   "execution_count": 52,
   "metadata": {},
   "outputs": [],
   "source": [
    "# features = [0,0,0,0,0,0,0,0,0,0,0]\n",
    "# for i, tree in enumerate(rf.estimators_):\n",
    "#     root_feature_index = tree.tree_.feature[0]\n",
    "#     features[root_feature_index] += 1\n",
    "# print(features)"
   ]
  },
  {
   "cell_type": "code",
   "execution_count": 53,
   "metadata": {},
   "outputs": [
    {
     "name": "stderr",
     "output_type": "stream",
     "text": [
      "[Parallel(n_jobs=-1)]: Using backend LokyBackend with 16 concurrent workers.\n",
      "[Parallel(n_jobs=-1)]: Done  18 tasks      | elapsed:    1.0s\n",
      "[Parallel(n_jobs=-1)]: Done 100 out of 100 | elapsed:    3.8s finished\n"
     ]
    }
   ],
   "source": [
    "rf_plus_base = RandomForestPlusRegressor(rf_model=rf)\n",
    "rf_plus_base.fit(X_train, y_train)"
   ]
  },
  {
   "cell_type": "code",
   "execution_count": 54,
   "metadata": {},
   "outputs": [
    {
     "name": "stdout",
     "output_type": "stream",
     "text": [
      "MSE: 0.10835801043701464, R2: 0.7166083918175286\n"
     ]
    }
   ],
   "source": [
    "y_pred = rf_plus_base.predict(X_test)\n",
    "#MSE\n",
    "mse = np.mean((y_test - y_pred)**2)\n",
    "#R2\n",
    "r2 = rf_plus_base.score(X_test, y_test)\n",
    "print(f\"MSE: {mse}, R2: {r2}\")"
   ]
  },
  {
   "cell_type": "code",
   "execution_count": 55,
   "metadata": {},
   "outputs": [
    {
     "name": "stdout",
     "output_type": "stream",
     "text": [
      "MSE subgroup1: 0.11207020363569249, R2 subgroup1: 0.15049926518456913\n",
      "MSE subgroup2: 0.13011465166028005, R2 subgroup2: 0.019038616725601032\n"
     ]
    }
   ],
   "source": [
    "X_test_subgroup1 = X_test[X_test[:,-1] == 0]\n",
    "y_test_subgroup1 = y_test[X_test[:,-1] == 0]\n",
    "X_test_subgroup2 = X_test[X_test[:,-1] == 1]\n",
    "y_test_subgroup2 = y_test[X_test[:,-1] == 1]\n",
    "\n",
    "y_pred_subgroup1 = rf.predict(X_test_subgroup1)\n",
    "y_pred_subgroup2 = rf.predict(X_test_subgroup2)\n",
    "\n",
    "#MSE\n",
    "mse_subgroup1 = np.mean((y_test_subgroup1 - y_pred_subgroup1)**2)\n",
    "\n",
    "#R2\n",
    "r2_subgroup1 = rf.score(X_test_subgroup1, y_test_subgroup1)\n",
    "\n",
    "#MSE\n",
    "mse_subgroup2 = np.mean((y_test_subgroup2 - y_pred_subgroup2)**2)\n",
    "\n",
    "#R2\n",
    "r2_subgroup2 = rf.score(X_test_subgroup2, y_test_subgroup2)\n",
    "\n",
    "print(f\"MSE subgroup1: {mse_subgroup1}, R2 subgroup1: {r2_subgroup1}\")\n",
    "print(f\"MSE subgroup2: {mse_subgroup2}, R2 subgroup2: {r2_subgroup2}\")"
   ]
  },
  {
   "cell_type": "code",
   "execution_count": 56,
   "metadata": {},
   "outputs": [],
   "source": [
    "from sklearn.metrics import r2_score"
   ]
  },
  {
   "cell_type": "code",
   "execution_count": 57,
   "metadata": {},
   "outputs": [
    {
     "data": {
      "text/plain": [
       "(0.15049926518456913, 0.019038616725601032)"
      ]
     },
     "execution_count": 57,
     "metadata": {},
     "output_type": "execute_result"
    }
   ],
   "source": [
    "r2_score(y_test_subgroup1, y_pred_subgroup1), r2_score(y_test_subgroup2, y_pred_subgroup2)"
   ]
  },
  {
   "cell_type": "code",
   "execution_count": 58,
   "metadata": {},
   "outputs": [
    {
     "name": "stderr",
     "output_type": "stream",
     "text": [
      "/scratch/users/zhongyuan_liang/conda/envs/mdi/lib/python3.10/site-packages/IPython/core/pylabtools.py:77: DeprecationWarning: backend2gui is deprecated since IPython 8.24, backends are managed in matplotlib and can be externally registered.\n",
      "  warnings.warn(\n",
      "/scratch/users/zhongyuan_liang/conda/envs/mdi/lib/python3.10/site-packages/IPython/core/pylabtools.py:77: DeprecationWarning: backend2gui is deprecated since IPython 8.24, backends are managed in matplotlib and can be externally registered.\n",
      "  warnings.warn(\n",
      "/scratch/users/zhongyuan_liang/conda/envs/mdi/lib/python3.10/site-packages/IPython/core/pylabtools.py:77: DeprecationWarning: backend2gui is deprecated since IPython 8.24, backends are managed in matplotlib and can be externally registered.\n",
      "  warnings.warn(\n"
     ]
    },
    {
     "data": {
      "image/png": "[encoded data removed]",
      "text/plain": [
       "<Figure size 640x480 with 1 Axes>"
      ]
     },
     "metadata": {},
     "output_type": "display_data"
    }
   ],
   "source": [
    "import matplotlib.pyplot as plt\n",
    "plt.plot(y_test_subgroup1, y_pred_subgroup1, 'o')\n",
    "plt.plot(y_test_subgroup2, y_pred_subgroup2, 'o')\n",
    "#axis labels\n",
    "plt.xlabel('True Values')\n",
    "plt.ylabel('Predictions')\n",
    "plt.show()"
   ]
  },
  {
   "cell_type": "code",
   "execution_count": 59,
   "metadata": {},
   "outputs": [
    {
     "name": "stdout",
     "output_type": "stream",
     "text": [
      "MSE subgroup1: 0.099505377830681, R2 subgroup1: 0.24574160800106526\n",
      "MSE subgroup2: 0.11732947032665475, R2 subgroup2: 0.1154287542421103\n"
     ]
    }
   ],
   "source": [
    "X_test_subgroup1 = X_test[X_test[:,-1] == 0]\n",
    "y_test_subgroup1 = y_test[X_test[:,-1] == 0]\n",
    "X_test_subgroup2 = X_test[X_test[:,-1] == 1]\n",
    "y_test_subgroup2 = y_test[X_test[:,-1] == 1]\n",
    "\n",
    "y_pred_subgroup1 = rf_plus_base.predict(X_test_subgroup1)\n",
    "y_pred_subgroup2 = rf_plus_base.predict(X_test_subgroup2)\n",
    "\n",
    "#MSE\n",
    "mse_subgroup1 = np.mean((y_test_subgroup1 - y_pred_subgroup1)**2)\n",
    "\n",
    "#R2\n",
    "r2_subgroup1 = rf_plus_base.score(X_test_subgroup1, y_test_subgroup1)\n",
    "\n",
    "#MSE\n",
    "mse_subgroup2 = np.mean((y_test_subgroup2 - y_pred_subgroup2)**2)\n",
    "\n",
    "#R2\n",
    "r2_subgroup2 = rf_plus_base.score(X_test_subgroup2, y_test_subgroup2)\n",
    "\n",
    "print(f\"MSE subgroup1: {mse_subgroup1}, R2 subgroup1: {r2_subgroup1}\")\n",
    "print(f\"MSE subgroup2: {mse_subgroup2}, R2 subgroup2: {r2_subgroup2}\")"
   ]
  }
 ],
 "metadata": {
  "kernelspec": {
   "display_name": "mdi",
   "language": "python",
   "name": "python3"
  },
  "language_info": {
   "codemirror_mode": {
    "name": "ipython",
    "version": 3
   },
   "file_extension": ".py",
   "mimetype": "text/x-python",
   "name": "python",
   "nbconvert_exporter": "python",
   "pygments_lexer": "ipython3",
   "version": "3.10.14"
  },
  "orig_nbformat": 4
 },
 "nbformat": 4,
 "nbformat_minor": 2
}
