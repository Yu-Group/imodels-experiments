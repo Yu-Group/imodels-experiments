{
 "cells": [
  {
   "cell_type": "code",
   "execution_count": 1,
   "metadata": {},
   "outputs": [
    {
     "name": "stderr",
     "output_type": "stream",
     "text": [
      "/accounts/projects/binyu/zhongyuan_liang/.local/lib/python3.10/site-packages/tqdm/auto.py:21: TqdmWarning: IProgress not found. Please update jupyter and ipywidgets. See https://ipywidgets.readthedocs.io/en/stable/user_install.html\n",
      "  from .autonotebook import tqdm as notebook_tqdm\n"
     ]
    }
   ],
   "source": [
    "import os\n",
    "import sys\n",
    "sys.path.append(\".\")\n",
    "sys.path.append(\"..\")\n",
    "from feature_importance.scripts.simulations_util import *\n",
    "from imodels.tree.rf_plus.rf_plus.rf_plus_models import RandomForestPlusRegressor\n",
    "from sklearn.metrics import roc_auc_score, average_precision_score, f1_score\n",
    "from sklearn.ensemble import RandomForestRegressor\n",
    "from sklearn.linear_model import LinearRegression\n",
    "import pickle\n",
    "import numpy as np\n",
    "import pandas as pd\n",
    "import sys\n",
    "import shap\n",
    "from sklearn.model_selection import train_test_split"
   ]
  },
  {
   "cell_type": "code",
   "execution_count": 2,
   "metadata": {},
   "outputs": [],
   "source": [
    "X = sample_normal_X_subgroups(n = 1000, d=10, mean= [[0]*10,[0]*10], scale =[[1]*10,[1]*10], seed=0)"
   ]
  },
  {
   "cell_type": "code",
   "execution_count": 3,
   "metadata": {},
   "outputs": [],
   "source": [
    "# Do linear model where the first 5 features are important for the first subgroup and the last 5 features are important for the second subgroup\n",
    "y = linear_model_two_groups(X, s=5, beta=0.1, sigma=None, heritability=0.1, seed=42)"
   ]
  },
  {
   "cell_type": "code",
   "execution_count": 4,
   "metadata": {},
   "outputs": [],
   "source": [
    "X_train_subgroup1, X_test_subgroup1, y_train_subgroup1, y_test_subgroup1 = train_test_split(X[:X.shape[0]//2], y[:y.shape[0]//2], test_size=0.3, random_state=0)"
   ]
  },
  {
   "cell_type": "code",
   "execution_count": 5,
   "metadata": {},
   "outputs": [
    {
     "name": "stdout",
     "output_type": "stream",
     "text": [
      "MSE: 0.45552590312290675, R2: 0.06548185977605592\n"
     ]
    }
   ],
   "source": [
    "rf = RandomForestRegressor(n_estimators=100, min_samples_leaf=5, max_features=0.33, random_state=42)\n",
    "rf.fit(X_train_subgroup1, y_train_subgroup1)\n",
    "# Measure the performance of the model\n",
    "y_pred = rf.predict(X_test_subgroup1)\n",
    "#MSE\n",
    "mse = np.mean((y_test_subgroup1 - y_pred)**2)\n",
    "#R2\n",
    "r2 = rf.score(X_test_subgroup1, y_test_subgroup1)\n",
    "print(f\"MSE: {mse}, R2: {r2}\")"
   ]
  },
  {
   "cell_type": "code",
   "execution_count": 6,
   "metadata": {},
   "outputs": [],
   "source": [
    "# # Apply linear regression\n",
    "# lr = LinearRegression()\n",
    "# lr.fit(X_train_subgroup1, y_train_subgroup1)\n",
    "# # Measure the performance of the model\n",
    "# y_pred = lr.predict(X_test_subgroup1)\n",
    "# #MSE\n",
    "# mse = np.mean((y_test_subgroup1 - y_pred)**2)\n",
    "# #R2\n",
    "# r2 = lr.score(X_test_subgroup1, y_test_subgroup1)\n",
    "# print(f\"MSE: {mse}, R2: {r2}\")"
   ]
  },
  {
   "cell_type": "code",
   "execution_count": 7,
   "metadata": {},
   "outputs": [],
   "source": [
    "X_train_subgroup2, X_test_subgroup2, y_train_subgroup2, y_test_subgroup2 = train_test_split(X[X.shape[0]//2:], y[y.shape[0]//2:], test_size=0.3, random_state=0)"
   ]
  },
  {
   "cell_type": "code",
   "execution_count": 8,
   "metadata": {},
   "outputs": [],
   "source": [
    "# # Apply linear regression to the second subgroup\n",
    "# lr = LinearRegression()\n",
    "# lr.fit(X_train_subgroup2, y_train_subgroup2)\n",
    "# # Measure the performance of the model\n",
    "# y_pred = lr.predict(X_test_subgroup2)\n",
    "# #MSE\n",
    "# mse = np.mean((y_test_subgroup2 - y_pred)**2)\n",
    "# #R2\n",
    "# r2 = lr.score(X_test_subgroup2, y_test_subgroup2)\n",
    "# print(f\"MSE: {mse}, R2: {r2}\")"
   ]
  },
  {
   "cell_type": "code",
   "execution_count": 9,
   "metadata": {},
   "outputs": [
    {
     "name": "stdout",
     "output_type": "stream",
     "text": [
      "MSE: 0.4585503012185869, R2: 0.07011637027100603\n"
     ]
    }
   ],
   "source": [
    "rf = RandomForestRegressor(n_estimators=100, min_samples_leaf=5, max_features=0.33, random_state=42)\n",
    "rf.fit(X_train_subgroup2, y_train_subgroup2)\n",
    "# Measure the performance of the model\n",
    "y_pred = rf.predict(X_test_subgroup2)\n",
    "#MSE\n",
    "mse = np.mean((y_test_subgroup2 - y_pred)**2)\n",
    "#R2\n",
    "r2 = rf.score(X_test_subgroup2, y_test_subgroup2)\n",
    "print(f\"MSE: {mse}, R2: {r2}\")"
   ]
  },
  {
   "cell_type": "code",
   "execution_count": 10,
   "metadata": {},
   "outputs": [],
   "source": [
    "X_train, X_test, y_train, y_test = train_test_split(X, y, test_size=0.3, random_state=0)"
   ]
  },
  {
   "cell_type": "code",
   "execution_count": 11,
   "metadata": {},
   "outputs": [
    {
     "name": "stdout",
     "output_type": "stream",
     "text": [
      "MSE: 0.5075291359214373, R2: 0.049766287051053126\n"
     ]
    }
   ],
   "source": [
    "rf = RandomForestRegressor(n_estimators=100, min_samples_leaf=5, max_features=0.33, random_state=42)\n",
    "rf.fit(X_train, y_train)\n",
    "# Measure the performance of the model\n",
    "y_pred = rf.predict(X_test)\n",
    "#MSE\n",
    "mse = np.mean((y_test - y_pred)**2)\n",
    "#R2\n",
    "r2 = rf.score(X_test, y_test)\n",
    "print(f\"MSE: {mse}, R2: {r2}\")"
   ]
  },
  {
   "cell_type": "code",
   "execution_count": 12,
   "metadata": {},
   "outputs": [],
   "source": [
    "num_rows = X.shape[0]\n",
    "\n",
    "# Create the new column\n",
    "new_column = np.zeros(num_rows)\n",
    "new_column[num_rows // 2:] = 1\n",
    "\n",
    "# Reshape the new column to be a column vector\n",
    "new_column = new_column.reshape(-1, 1)\n",
    "new_X = np.hstack((X, new_column))"
   ]
  },
  {
   "cell_type": "code",
   "execution_count": 13,
   "metadata": {},
   "outputs": [],
   "source": [
    "X_train, X_test, y_train, y_test = train_test_split(new_X, y, test_size=0.3, random_state=0)"
   ]
  },
  {
   "cell_type": "code",
   "execution_count": 14,
   "metadata": {},
   "outputs": [
    {
     "name": "stdout",
     "output_type": "stream",
     "text": [
      "MSE: 0.5114842332375094, R2: 0.04236126034080878\n"
     ]
    }
   ],
   "source": [
    "rf = RandomForestRegressor(n_estimators=100, min_samples_leaf=5, max_features=0.33, random_state=42)\n",
    "rf.fit(X_train, y_train)\n",
    "# Measure the performance of the model\n",
    "y_pred = rf.predict(X_test)\n",
    "#MSE\n",
    "mse = np.mean((y_test - y_pred)**2)\n",
    "#R2\n",
    "r2 = rf.score(X_test, y_test)\n",
    "print(f\"MSE: {mse}, R2: {r2}\")"
   ]
  }
 ],
 "metadata": {
  "kernelspec": {
   "display_name": "mdi",
   "language": "python",
   "name": "python3"
  },
  "language_info": {
   "codemirror_mode": {
    "name": "ipython",
    "version": 3
   },
   "file_extension": ".py",
   "mimetype": "text/x-python",
   "name": "python",
   "nbconvert_exporter": "python",
   "pygments_lexer": "ipython3",
   "version": "3.10.14"
  },
  "orig_nbformat": 4
 },
 "nbformat": 4,
 "nbformat_minor": 2
}
