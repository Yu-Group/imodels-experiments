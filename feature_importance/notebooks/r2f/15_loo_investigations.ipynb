{
 "cells": [
  {
   "cell_type": "markdown",
   "source": [
    "# Investigating GMDI scores calculated using LOO and non-LOO, but with the base linear features (instead of any stump features)"
   ],
   "metadata": {
    "collapsed": false,
    "pycharm": {
     "name": "#%% md\n"
    }
   }
  },
  {
   "cell_type": "code",
   "execution_count": 125,
   "metadata": {
    "collapsed": true
   },
   "outputs": [],
   "source": [
    "import numpy as np\n",
    "import pandas as pd\n",
    "from sklearn.linear_model import LinearRegression, Ridge\n",
    "from sklearn.metrics import r2_score, mean_squared_error\n",
    "from tqdm import tqdm\n",
    "\n",
    "from imodels.importance.representation_cleaned import IdentityTransformer\n",
    "from imodels.importance.r2f_exp_cleaned import GenericLOOPPM, GenericPPM, GMDI, RidgePPM, RidgeLOOPPM"
   ]
  },
  {
   "cell_type": "code",
   "execution_count": 128,
   "outputs": [],
   "source": [
    "def one_iter(n, p, beta, eps, mode=\"keep_k\"):\n",
    "    X = np.random.randn(n, p)\n",
    "    y = X @ beta + np.random.randn(n) * eps\n",
    "    loo_ppm = GenericLOOPPM(estimator=LinearRegression(), alpha_grid=[0])\n",
    "    ppm = GenericPPM(estimator=LinearRegression())\n",
    "    gmdi_loo = GMDI(IdentityTransformer(n_features=p), loo_ppm, mean_squared_error, mode=mode)\n",
    "    gmdi = GMDI(IdentityTransformer(n_features=p), ppm, mean_squared_error, mode=mode)\n",
    "    loo_scores = gmdi_loo.get_scores(X, y)\n",
    "    nonloo_scores = gmdi.get_scores(X, y)\n",
    "\n",
    "    X = X - X.mean(axis=0)\n",
    "    X = np.hstack([np.ones((X.shape[0], 1)), X])\n",
    "    M = X.T @ X\n",
    "    M_inv = np.linalg.inv(M)\n",
    "    P = np.diag([1, 1] + [0] * (p-1))\n",
    "    I = np.eye(n)\n",
    "    H = X @ P @ M_inv @ X.T\n",
    "    x_only_score = np.trace((I - H) @ (I - H).T) * (eps**2) / n + 2\n",
    "\n",
    "    return loo_scores, nonloo_scores, x_only_score\n",
    "\n",
    "def one_iter_ridge(n, p, beta, eps, mode=\"keep_k\"):\n",
    "    X = np.random.randn(n, p)\n",
    "    y = X @ beta + np.random.randn(n) * eps\n",
    "    loo_ppm = RidgeLOOPPM()\n",
    "    ppm = RidgePPM(alphas=np.logspace(-5, 5, 100))\n",
    "    gmdi_loo = GMDI(IdentityTransformer(n_features=p), loo_ppm, mean_squared_error, mode=mode)\n",
    "    gmdi = GMDI(IdentityTransformer(n_features=p), ppm, mean_squared_error, mode=mode)\n",
    "    loo_scores = gmdi_loo.get_scores(X, y)\n",
    "    nonloo_scores = gmdi.get_scores(X, y)\n",
    "    return loo_scores, nonloo_scores\n",
    "\n",
    "def full_scores_one_iter(n, p, beta, eps):\n",
    "    X = np.random.randn(n, p)\n",
    "    y = X @ beta + np.random.randn(n) * eps\n",
    "    loo_ppm = GenericLOOPPM(estimator=LinearRegression(), alpha_grid=[0])\n",
    "    ppm = GenericPPM(estimator=LinearRegression())\n",
    "    gmdi_loo = GMDI(IdentityTransformer(n_features=p), loo_ppm, mean_squared_error, mode=\"keep_rest\")\n",
    "    gmdi = GMDI(IdentityTransformer(n_features=p), ppm, mean_squared_error, mode=\"keep_rest\")\n",
    "    gmdi_loo.get_scores(X, y)\n",
    "    gmdi_loo_full_scores = gmdi_loo.scoring_fn(y, gmdi_loo.partial_prediction_model.get_full_predictions())\n",
    "    gmdi.get_scores(X, y)\n",
    "    gmdi_full_scores = gmdi.scoring_fn(y, gmdi.partial_prediction_model.get_full_predictions())\n",
    "\n",
    "    return gmdi_loo_full_scores, gmdi_full_scores\n",
    "\n",
    "def linear_reg_partial_pred(n, p, beta, eps):\n",
    "    X = np.random.randn(n, p)\n",
    "    y = X @ beta + np.random.randn(n) * eps\n",
    "    scores = []\n",
    "    for i in range(n):\n",
    "        train_indices = [j != i for j in range(n)]\n",
    "        X_partial = X[train_indices, :]\n",
    "        y_partial = y[train_indices]\n",
    "        lr = LinearRegression()\n",
    "        lr.fit(X_partial, y_partial)\n",
    "        coef = lr.coef_[0]\n",
    "        partial_pred = coef * X[i, 0]\n",
    "        score = (partial_pred - y[i]) ** 2\n",
    "        scores.append(score)\n",
    "    return np.mean(scores)\n"
   ],
   "metadata": {
    "collapsed": false,
    "pycharm": {
     "name": "#%%\n"
    }
   }
  },
  {
   "cell_type": "code",
   "execution_count": 132,
   "outputs": [],
   "source": [
    "def _get_loo_fitted_parameters(X, y, coef_):\n",
    "    orig_preds = X @ coef_\n",
    "    J = X.T @ X\n",
    "    normal_eqn_mat = np.linalg.inv(J) @ X.T\n",
    "    h_vals = np.sum(X.T * normal_eqn_mat, axis=0)\n",
    "    loo_fitted_parameters = coef_[:, np.newaxis] + normal_eqn_mat * (orig_preds - y) / (1 - h_vals)\n",
    "    return loo_fitted_parameters"
   ],
   "metadata": {
    "collapsed": false,
    "pycharm": {
     "name": "#%%\n"
    }
   }
  },
  {
   "cell_type": "code",
   "execution_count": 147,
   "outputs": [],
   "source": [
    "def compare_fitted_coefs(n, p, beta, eps):\n",
    "    X = np.random.randn(n, p)\n",
    "    y = X @ beta + np.random.randn(n) * eps\n",
    "    coefs = []\n",
    "\n",
    "    for i in range(n):\n",
    "        train_indices = [j != i for j in range(n)]\n",
    "        X_partial = X[train_indices, :]\n",
    "        y_partial = y[train_indices]\n",
    "        lr = LinearRegression()\n",
    "        lr.fit(X_partial, y_partial)\n",
    "        coefs.append(lr.coef_)\n",
    "    X_aug = np.hstack([X, np.ones((X.shape[0], 1))])\n",
    "    full_lr = LinearRegression()\n",
    "    full_lr.fit(X, y)\n",
    "    coef_aug = np.array(list(full_lr.coef_) + [full_lr.intercept_])\n",
    "    alt_coefs = _get_loo_fitted_parameters(X_aug, y, coef_aug)\n",
    "\n",
    "    return np.array(coefs), alt_coefs"
   ],
   "metadata": {
    "collapsed": false,
    "pycharm": {
     "name": "#%%\n"
    }
   }
  },
  {
   "cell_type": "markdown",
   "source": [
    "## Results using linear regression"
   ],
   "metadata": {
    "collapsed": false,
    "pycharm": {
     "name": "#%% md\n"
    }
   }
  },
  {
   "cell_type": "code",
   "execution_count": 121,
   "outputs": [],
   "source": [
    "n = 20\n",
    "p = 10\n",
    "q = 3\n",
    "beta = np.array([1] * q + [0] * (p - q))\n",
    "eps = 1\n",
    "n_iter = 1000"
   ],
   "metadata": {
    "collapsed": false,
    "pycharm": {
     "name": "#%%\n"
    }
   }
  },
  {
   "cell_type": "code",
   "execution_count": 122,
   "outputs": [
    {
     "name": "stderr",
     "output_type": "stream",
     "text": [
      "100%|██████████| 5000/5000 [00:45<00:00, 110.90it/s]\n"
     ]
    }
   ],
   "source": [
    "all_loo_scores = []\n",
    "all_nonloo_scores = []\n",
    "x_only_scores = []\n",
    "for i in tqdm(range(5000)):\n",
    "    loo_score, nonloo_score, x_only_score = one_iter(n, p, beta, eps, mode=\"keep_k\")\n",
    "    all_loo_scores.append(loo_score)\n",
    "    all_nonloo_scores.append(nonloo_score)\n",
    "    x_only_scores.append(x_only_score)"
   ],
   "metadata": {
    "collapsed": false,
    "pycharm": {
     "name": "#%%\n"
    }
   }
  },
  {
   "cell_type": "code",
   "execution_count": 123,
   "outputs": [],
   "source": [
    "loo_x1 = np.array(all_loo_scores)[:,0]\n",
    "nonloo_x1 = np.array(all_nonloo_scores)[:,0]"
   ],
   "metadata": {
    "collapsed": false,
    "pycharm": {
     "name": "#%%\n"
    }
   }
  },
  {
   "cell_type": "code",
   "execution_count": 124,
   "outputs": [
    {
     "data": {
      "text/plain": "(3.1238364383412973,\n 0.9932067612610507,\n 2.875062052576607,\n 0.9482758676057708,\n 2.9553844274511394,\n 0.045730854072444385)"
     },
     "execution_count": 124,
     "metadata": {},
     "output_type": "execute_result"
    }
   ],
   "source": [
    "np.mean(loo_x1), np.std(loo_x1), np.mean(nonloo_x1), np.std(nonloo_x1), np.mean(x_only_scores), np.std(x_only_scores)"
   ],
   "metadata": {
    "collapsed": false,
    "pycharm": {
     "name": "#%%\n"
    }
   }
  },
  {
   "cell_type": "markdown",
   "source": [
    "True value = 3, can see that both LOO and non-LOO values are off by 0.12, but in opposite directions.\n",
    "\n",
    "The third mean value is an estimate of the expected non-LOO value calculated using theory to remove some of the randomness. It is off by a little from the fully empirical non-LOO value and I'm not sure yet why at the moment."
   ],
   "metadata": {
    "collapsed": false,
    "pycharm": {
     "name": "#%% md\n"
    }
   }
  },
  {
   "cell_type": "markdown",
   "source": [
    "## Results using ridge regression"
   ],
   "metadata": {
    "collapsed": false
   }
  },
  {
   "cell_type": "code",
   "execution_count": 129,
   "outputs": [
    {
     "name": "stderr",
     "output_type": "stream",
     "text": [
      "100%|██████████| 5000/5000 [02:23<00:00, 34.82it/s]\n"
     ]
    }
   ],
   "source": [
    "all_loo_scores = []\n",
    "all_nonloo_scores = []\n",
    "for i in tqdm(range(5000)):\n",
    "    loo_score, nonloo_score = one_iter_ridge(n, p, beta, eps, mode=\"keep_k\")\n",
    "    all_loo_scores.append(loo_score)\n",
    "    all_nonloo_scores.append(nonloo_score)"
   ],
   "metadata": {
    "collapsed": false,
    "pycharm": {
     "name": "#%%\n"
    }
   }
  },
  {
   "cell_type": "code",
   "execution_count": 132,
   "outputs": [],
   "source": [
    "loo_x1 = np.array(all_loo_scores)[:,0]\n",
    "nonloo_x1 = np.array(all_nonloo_scores)[:,0]"
   ],
   "metadata": {
    "collapsed": false,
    "pycharm": {
     "name": "#%%\n"
    }
   }
  },
  {
   "cell_type": "code",
   "execution_count": 133,
   "outputs": [
    {
     "data": {
      "text/plain": "(3.1234855295273833,\n 0.9701086850873901,\n 2.8493847263311354,\n 0.9174822806138582)"
     },
     "execution_count": 133,
     "metadata": {},
     "output_type": "execute_result"
    }
   ],
   "source": [
    "np.mean(loo_x1), np.std(loo_x1), np.mean(nonloo_x1), np.std(nonloo_x1)"
   ],
   "metadata": {
    "collapsed": false,
    "pycharm": {
     "name": "#%%\n"
    }
   }
  },
  {
   "cell_type": "markdown",
   "source": [
    "True value = 3. This time LOO is off by 0.12, non-LOO is off by 0.15."
   ],
   "metadata": {
    "collapsed": false,
    "pycharm": {
     "name": "#%% md\n"
    }
   }
  }
 ],
 "metadata": {
  "kernelspec": {
   "display_name": "Python 3",
   "language": "python",
   "name": "python3"
  },
  "language_info": {
   "codemirror_mode": {
    "name": "ipython",
    "version": 2
   },
   "file_extension": ".py",
   "mimetype": "text/x-python",
   "name": "python",
   "nbconvert_exporter": "python",
   "pygments_lexer": "ipython2",
   "version": "2.7.6"
  }
 },
 "nbformat": 4,
 "nbformat_minor": 0
}