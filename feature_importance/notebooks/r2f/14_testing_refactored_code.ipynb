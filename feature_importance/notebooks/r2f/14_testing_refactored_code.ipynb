{
 "cells": [
  {
   "cell_type": "code",
   "execution_count": 1,
   "metadata": {
    "collapsed": true
   },
   "outputs": [],
   "source": [
    "import copy\n",
    "\n",
    "import numpy as np\n",
    "import scipy as sp\n",
    "import random\n",
    "import os\n",
    "from sklearn.tree import DecisionTreeRegressor\n",
    "from sklearn.ensemble import RandomForestRegressor, GradientBoostingClassifier, RandomForestClassifier\n",
    "from sklearn.metrics import r2_score, mean_squared_error, zero_one_loss, roc_auc_score\n",
    "from sklearn.linear_model import LassoCV, LogisticRegressionCV, RidgeCV\n",
    "from sklearn.preprocessing import OneHotEncoder\n",
    "\n",
    "from imodels.importance.representation_cleaned import *\n",
    "from imodels.importance.r2f_exp_cleaned import *"
   ]
  },
  {
   "cell_type": "markdown",
   "source": [
    "## 6. Testing full pipeline"
   ],
   "metadata": {
    "collapsed": false
   }
  },
  {
   "cell_type": "code",
   "execution_count": 2,
   "outputs": [],
   "source": [
    "n = 100\n",
    "p1 = 5\n",
    "p2 = 7\n",
    "p3 = 1\n",
    "# data_block1 = np.random.randn(n, p1)\n",
    "# data_block2 = np.random.randn(n, p2)\n",
    "data_block1 = np.ones((n, p1)) + np.random.randn(n, p1)\n",
    "y = data_block1 @ np.array([1] + list(np.zeros(p1-1))) + np.random.randn(n) * 0.1\n",
    "y_binary = np.random.binomial(1, p=sp.special.expit(y))"
   ],
   "metadata": {
    "collapsed": false,
    "pycharm": {
     "name": "#%%\n"
    }
   }
  },
  {
   "cell_type": "code",
   "execution_count": 3,
   "outputs": [
    {
     "name": "stdout",
     "output_type": "stream",
     "text": [
      "CPU times: user 4.08 s, sys: 629 ms, total: 4.71 s\n",
      "Wall time: 1.27 s\n"
     ]
    },
    {
     "data": {
      "text/plain": "array([9.89361603e-01, 2.61160970e-04, 4.82535570e-03, 2.06601549e-03,\n       4.47958125e-03])"
     },
     "execution_count": 3,
     "metadata": {},
     "output_type": "execute_result"
    }
   ],
   "source": [
    "%%time\n",
    "\n",
    "default_gmdi_pipeline(data_block1, y)"
   ],
   "metadata": {
    "collapsed": false,
    "pycharm": {
     "name": "#%%\n"
    }
   }
  },
  {
   "cell_type": "code",
   "execution_count": 4,
   "outputs": [
    {
     "data": {
      "text/plain": "array([0.10233117, 0.07341724, 0.02314726, 0.03320427, 0.02083937])"
     },
     "execution_count": 4,
     "metadata": {},
     "output_type": "execute_result"
    }
   ],
   "source": [
    "default_gmdi_pipeline(data_block1, y_binary)"
   ],
   "metadata": {
    "collapsed": false,
    "pycharm": {
     "name": "#%%\n"
    }
   }
  },
  {
   "cell_type": "code",
   "execution_count": 5,
   "outputs": [
    {
     "name": "stdout",
     "output_type": "stream",
     "text": [
      "CPU times: user 1min 57s, sys: 11 s, total: 2min 8s\n",
      "Wall time: 1min 17s\n"
     ]
    },
    {
     "data": {
      "text/plain": "array([0.71662202, 0.71683036, 0.63837798, 0.6680506 , 0.62279266])"
     },
     "execution_count": 5,
     "metadata": {},
     "output_type": "execute_result"
    }
   ],
   "source": [
    "%%time\n",
    "\n",
    "default_gmdi_pipeline(data_block1, y_binary, regression=False)"
   ],
   "metadata": {
    "collapsed": false,
    "pycharm": {
     "name": "#%%\n"
    }
   }
  },
  {
   "cell_type": "markdown",
   "source": [
    "## 5. Testing LOO PPM"
   ],
   "metadata": {
    "collapsed": false
   }
  },
  {
   "cell_type": "code",
   "execution_count": 6,
   "outputs": [],
   "source": [
    "n = 100\n",
    "p1 = 5\n",
    "p2 = 7\n",
    "p3 = 1\n",
    "# data_block1 = np.random.randn(n, p1)\n",
    "# data_block2 = np.random.randn(n, p2)\n",
    "data_block1 = np.ones((n, p1)) + np.random.randn(n, p1)\n",
    "data_block2 = np.ones((n, p2)) * 2 + np.random.randn(n, p2)\n",
    "data_block3 = np.ones((n, p3)) * 3 + np.random.randn(n, p3)\n",
    "data_blocks = [data_block1, data_block2, data_block3]\n",
    "y = data_block1 @ np.array([1] + list(np.zeros(p1-1))) + np.random.randn(n) * 0.1\n",
    "y_binary = np.random.binomial(1, p=sp.special.expit(y))\n",
    "blocked_data = BlockPartitionedData(data_blocks)\n",
    "y_categorical = np.random.randint(0, 4, n)\n",
    "y_cat_one_hot = OneHotEncoder().fit_transform(y_categorical.reshape(-1,1)).toarray()"
   ],
   "metadata": {
    "collapsed": false,
    "pycharm": {
     "name": "#%%\n"
    }
   }
  },
  {
   "cell_type": "code",
   "execution_count": 3,
   "outputs": [],
   "source": [
    "ridge_loo_ppm = RidgeLOOPPM()\n",
    "ridge_loo_ppm.set_alphas(\"default\", blocked_data, y)\n",
    "ridge_loo_ppm.fit(blocked_data, y)"
   ],
   "metadata": {
    "collapsed": false,
    "pycharm": {
     "name": "#%%\n"
    }
   }
  },
  {
   "cell_type": "code",
   "execution_count": 4,
   "outputs": [
    {
     "data": {
      "text/plain": "array([ 1.64159262e-01,  1.13092253e-01,  3.11919586e-02,  5.91449024e-02,\n       -6.77110512e-03,  1.01240239e-01,  4.09762127e-03,  1.02724876e-01,\n       -1.39348998e-01,  1.04552254e-01,  1.05493442e-01, -1.63402142e-01,\n        7.40111807e-02, -8.35236501e-03, -1.67806445e-01,  4.37035095e-02,\n       -2.28352122e-02, -1.23238323e-01,  4.67318160e-02,  8.28646062e-02,\n        1.48120981e-01, -4.78181988e-02,  3.35747005e-02,  1.14964878e-01,\n       -7.02472571e-03, -2.34309576e-04, -2.38834183e-02,  8.37500460e-02,\n        1.41024569e-02, -9.43841046e-02, -1.77685062e-01, -1.07661991e-01,\n        1.42442568e-01,  1.13622423e-01, -1.11707279e-02, -8.18267998e-02,\n        9.74013401e-02, -7.24673868e-02, -6.51006365e-02, -2.43611884e-02,\n       -1.47803018e-01,  1.58630523e-02, -1.33474066e-01, -4.50560505e-02,\n        7.63171063e-02, -2.02448002e-02,  1.06411867e-01,  7.45418098e-02,\n        1.49438716e-02, -1.31255021e-01, -1.30701125e-01, -1.57935467e-01,\n       -9.65887296e-02,  7.02864097e-04, -8.42302172e-02,  3.90910320e-02,\n        3.07783923e-02,  6.65003303e-02, -1.39977150e-01,  1.72326376e-01,\n        1.68682728e-01, -1.04048201e-01,  2.71115752e-02, -3.46378895e-02,\n        7.05283753e-02, -4.23387151e-02,  1.55160578e-01,  1.61665148e-01,\n       -1.65780787e-01, -1.01268277e-01, -8.31173969e-03, -4.10527093e-03,\n       -3.18758006e-02, -6.46333784e-03, -1.74336154e-01,  1.36326792e-01,\n       -4.69131108e-02,  2.59858538e-01,  5.54228131e-02, -4.72783182e-02,\n       -1.36181984e-02, -1.23590505e-01,  1.86402705e-02, -9.36921778e-02,\n       -4.93770075e-02,  2.64883634e-02, -1.36041867e-02,  7.94043525e-02,\n       -1.55150775e-01, -1.55301031e-01,  1.68133787e-02,  2.45486285e-02,\n        1.77476919e-01, -1.93694208e-03,  1.79244742e-02, -1.26152786e-01,\n        1.53311605e-01, -1.63674176e-01,  6.85805597e-02,  1.02509965e-01])"
     },
     "execution_count": 4,
     "metadata": {},
     "output_type": "execute_result"
    }
   ],
   "source": [
    "ridge_loo_ppm.get_partial_predictions(0) - y"
   ],
   "metadata": {
    "collapsed": false,
    "pycharm": {
     "name": "#%%\n"
    }
   }
  },
  {
   "cell_type": "code",
   "execution_count": 7,
   "outputs": [],
   "source": [
    "log_loo_ppm = LogisticLOOPPM()\n",
    "log_loo_ppm.fit(blocked_data, y_binary)"
   ],
   "metadata": {
    "collapsed": false,
    "pycharm": {
     "name": "#%%\n"
    }
   }
  },
  {
   "cell_type": "code",
   "execution_count": 8,
   "outputs": [
    {
     "name": "stdout",
     "output_type": "stream",
     "text": [
      "0.8588125292192614\n",
      "0.6362786348761104\n",
      "0.6035530621785882\n"
     ]
    }
   ],
   "source": [
    "for i in range(3):\n",
    "    print(roc_auc_score(y_binary, log_loo_ppm.get_partial_predictions(i)))"
   ],
   "metadata": {
    "collapsed": false,
    "pycharm": {
     "name": "#%%\n"
    }
   }
  },
  {
   "cell_type": "code",
   "execution_count": 9,
   "outputs": [],
   "source": [
    "log_loo_ppm = LogisticLOOPPM()\n",
    "log_loo_ppm.fit(blocked_data, y_cat_one_hot)"
   ],
   "metadata": {
    "collapsed": false,
    "pycharm": {
     "name": "#%%\n"
    }
   }
  },
  {
   "cell_type": "code",
   "execution_count": 11,
   "outputs": [
    {
     "name": "stdout",
     "output_type": "stream",
     "text": [
      "0.8580465013839702\n",
      "0.7894869265780848\n",
      "0.9087200284517106\n"
     ]
    }
   ],
   "source": [
    "for i in range(3):\n",
    "    print(roc_auc_score(y_cat_one_hot, log_loo_ppm.get_partial_predictions(i)))"
   ],
   "metadata": {
    "collapsed": false,
    "pycharm": {
     "name": "#%%\n"
    }
   }
  },
  {
   "cell_type": "code",
   "execution_count": 10,
   "outputs": [
    {
     "data": {
      "text/plain": "array([27., 15., 29., 29.])"
     },
     "execution_count": 10,
     "metadata": {},
     "output_type": "execute_result"
    }
   ],
   "source": [
    "np.array(y_cat_one_hot.todense()).sum(axis=0)"
   ],
   "metadata": {
    "collapsed": false,
    "pycharm": {
     "name": "#%%\n"
    }
   }
  },
  {
   "cell_type": "markdown",
   "source": [
    "## 4. Testing PPM"
   ],
   "metadata": {
    "collapsed": false
   }
  },
  {
   "cell_type": "code",
   "execution_count": 7,
   "outputs": [],
   "source": [
    "n = 100\n",
    "p1 = 5\n",
    "p2 = 7\n",
    "p3 = 1\n",
    "# data_block1 = np.random.randn(n, p1)\n",
    "# data_block2 = np.random.randn(n, p2)\n",
    "data_block1 = np.ones((n, p1)) + np.random.randn(n, p1)\n",
    "data_block2 = np.ones((n, p2)) * 2 + np.random.randn(n, p2)\n",
    "data_block3 = np.ones((n, p3)) * 3 + np.random.randn(n, p3)\n",
    "data_blocks = [data_block1, data_block2, data_block3]\n",
    "y = data_block1 @ np.array([1] + list(np.zeros(p1-1))) + np.random.randn(n) * 0.1\n",
    "y_binary = np.random.binomial(1, p=sp.special.expit(y))\n",
    "blocked_data = BlockPartitionedData(data_blocks)"
   ],
   "metadata": {
    "collapsed": false,
    "pycharm": {
     "name": "#%%\n"
    }
   }
  },
  {
   "cell_type": "code",
   "execution_count": 10,
   "outputs": [],
   "source": [
    "ridge_ppm = RidgePPM()\n",
    "ridge_ppm.set_alphas(\"default\", blocked_data, y)\n",
    "ridge_ppm.fit(blocked_data, y, mode=\"keep_rest\")"
   ],
   "metadata": {
    "collapsed": false,
    "pycharm": {
     "name": "#%%\n"
    }
   }
  },
  {
   "cell_type": "code",
   "execution_count": 13,
   "outputs": [
    {
     "data": {
      "text/plain": "array([ 0.08492051, -0.0349213 , -0.06792441,  0.08407434, -0.07620152,\n       -0.0004732 ,  0.05422286, -0.04613619,  0.00037839, -0.01384697,\n        0.08827928,  0.06944406, -0.00322979, -0.01649656, -0.0015974 ,\n       -0.14507789,  0.04960882,  0.0381334 , -0.04473916,  0.06861695,\n        0.00911737, -0.0473678 , -0.18176052,  0.11773713, -0.08485342,\n        0.04029759,  0.07034176,  0.05821912, -0.03303226, -0.0178732 ,\n       -0.02955732, -0.03761804,  0.01260764,  0.00749997,  0.04575837,\n        0.07281188, -0.05025104,  0.09746286,  0.09943579,  0.03628978,\n        0.0654146 , -0.05898608,  0.09908187, -0.02896701, -0.07364056,\n        0.17138064, -0.06298987, -0.02333959, -0.05114554, -0.05958105,\n       -0.04476297, -0.11882374,  0.15732295,  0.00582565,  0.05843596,\n       -0.00483641,  0.00345955, -0.06417568, -0.18592493, -0.07238636,\n        0.08430831, -0.10502395, -0.06111078,  0.06695921,  0.01078021,\n        0.04535849,  0.02325094,  0.00470122,  0.04858282, -0.11097714,\n       -0.14459004, -0.02588475,  0.06951322,  0.02771731,  0.00097642,\n       -0.12893395, -0.11132839,  0.02723099,  0.08277755, -0.00177471,\n        0.04593731,  0.04019797,  0.02384726, -0.06517031,  0.02500605,\n       -0.05833995,  0.09844567, -0.14427294, -0.08595034,  0.1431663 ,\n        0.00265475,  0.11456143, -0.01021923,  0.08123084,  0.0843568 ,\n       -0.25372676,  0.09076811,  0.09498239,  0.03059755, -0.04426717])"
     },
     "execution_count": 13,
     "metadata": {},
     "output_type": "execute_result"
    }
   ],
   "source": [
    "ridge_ppm.get_partial_predictions(2) - y"
   ],
   "metadata": {
    "collapsed": false,
    "pycharm": {
     "name": "#%%\n"
    }
   }
  },
  {
   "cell_type": "code",
   "execution_count": 15,
   "outputs": [
    {
     "name": "stdout",
     "output_type": "stream",
     "text": [
      "0.007890359106514915 0.8119756854858856\n"
     ]
    }
   ],
   "source": [
    "lasso_ppm = GenericPPM(estimator=LassoCV())\n",
    "lasso_ppm.fit(blocked_data, y)\n",
    "print(mean_squared_error(y, lasso_ppm.get_partial_predictions(0)), mean_squared_error(y, lasso_ppm.get_partial_predictions(1)))"
   ],
   "metadata": {
    "collapsed": false,
    "pycharm": {
     "name": "#%%\n"
    }
   }
  },
  {
   "cell_type": "code",
   "execution_count": 24,
   "outputs": [
    {
     "name": "stdout",
     "output_type": "stream",
     "text": [
      "0.7221978021978022\n",
      "0.6865934065934065\n",
      "0.5507692307692307\n"
     ]
    }
   ],
   "source": [
    "logistic_ppm = GenericPPM(estimator=LogisticRegressionCV())\n",
    "logistic_ppm.fit(blocked_data, y_binary)\n",
    "logistic_ppm.get_partial_predictions(0)\n",
    "for i in range(3):\n",
    "    print(roc_auc_score(y_binary, logistic_ppm.get_partial_predictions(i)[:,1]))"
   ],
   "metadata": {
    "collapsed": false,
    "pycharm": {
     "name": "#%%\n"
    }
   }
  },
  {
   "cell_type": "markdown",
   "source": [
    "## 3. Testing tree transformer"
   ],
   "metadata": {
    "collapsed": false
   }
  },
  {
   "cell_type": "code",
   "execution_count": 2,
   "outputs": [
    {
     "data": {
      "text/plain": "DecisionTreeRegressor()"
     },
     "execution_count": 2,
     "metadata": {},
     "output_type": "execute_result"
    }
   ],
   "source": [
    "n = 100\n",
    "p1 = 5\n",
    "p2 = 7\n",
    "p3 = 1\n",
    "# data_block1 = np.random.randn(n, p1)\n",
    "# data_block2 = np.random.randn(n, p2)\n",
    "data_block1 = np.ones((n, p1)) + np.random.randn(n, p1)\n",
    "y = data_block1 @ np.array([1] + list(np.zeros(p1-1))) + np.random.randn(n) * 0.1\n",
    "tree_model = DecisionTreeRegressor()\n",
    "tree_model.fit(data_block1, y)"
   ],
   "metadata": {
    "collapsed": false,
    "pycharm": {
     "name": "#%%\n"
    }
   }
  },
  {
   "cell_type": "code",
   "execution_count": 3,
   "outputs": [],
   "source": [
    "tree_transformer = TreeTransformer(p1, tree_model)"
   ],
   "metadata": {
    "collapsed": false,
    "pycharm": {
     "name": "#%%\n"
    }
   }
  },
  {
   "cell_type": "code",
   "execution_count": 4,
   "outputs": [],
   "source": [
    "tree_block = tree_transformer.transform_one_feature(data_block1, 0)"
   ],
   "metadata": {
    "collapsed": false,
    "pycharm": {
     "name": "#%%\n"
    }
   }
  },
  {
   "cell_type": "code",
   "execution_count": 5,
   "outputs": [
    {
     "data": {
      "text/plain": "array([100.,  54.,  13.,   7.,   2.,   3.,   2.,   3.,  41.,  14.,   7.,\n        27.,   2.,  18.,   3.,  46.,  30.,  19.,   8.,  11.,   6.,   2.,\n        16.,  11.,   2.,   4.,   2.])"
     },
     "execution_count": 5,
     "metadata": {},
     "output_type": "execute_result"
    }
   ],
   "source": [
    "np.linalg.norm(tree_block, axis=0) ** 2"
   ],
   "metadata": {
    "collapsed": false,
    "pycharm": {
     "name": "#%%\n"
    }
   }
  },
  {
   "cell_type": "code",
   "execution_count": 3,
   "outputs": [],
   "source": [
    "rf_model = RandomForestRegressor()\n",
    "rf_model.fit(data_block1, y)\n",
    "tree_transformer = TreeTransformer(p1, rf_model, data=data_block1)\n",
    "tree_block = tree_transformer.transform_one_feature(data_block1, 0)"
   ],
   "metadata": {
    "collapsed": false,
    "pycharm": {
     "name": "#%%\n"
    }
   }
  },
  {
   "cell_type": "code",
   "execution_count": 4,
   "outputs": [
    {
     "data": {
      "text/plain": "array([100.,  53.,  13., ...,   8.,   7.,   6.])"
     },
     "execution_count": 4,
     "metadata": {},
     "output_type": "execute_result"
    }
   ],
   "source": [
    "np.linalg.norm(tree_block, axis=0) ** 2"
   ],
   "metadata": {
    "collapsed": false,
    "pycharm": {
     "name": "#%%\n"
    }
   }
  },
  {
   "cell_type": "code",
   "execution_count": 7,
   "outputs": [],
   "source": [
    "tree = rf_model.estimators_[0].tree_"
   ],
   "metadata": {
    "collapsed": false,
    "pycharm": {
     "name": "#%%\n"
    }
   }
  },
  {
   "cell_type": "code",
   "execution_count": 10,
   "outputs": [],
   "source": [
    "tree.n_node_samples[0] = 5"
   ],
   "metadata": {
    "collapsed": false,
    "pycharm": {
     "name": "#%%\n"
    }
   }
  },
  {
   "cell_type": "code",
   "execution_count": 12,
   "outputs": [
    {
     "ename": "AttributeError",
     "evalue": "attribute 'n_node_samples' of 'sklearn.tree._tree.Tree' objects is not writable",
     "output_type": "error",
     "traceback": [
      "\u001B[0;31m---------------------------------------------------------------------------\u001B[0m",
      "\u001B[0;31mAttributeError\u001B[0m                            Traceback (most recent call last)",
      "\u001B[0;32m<ipython-input-12-b57b95e9f76d>\u001B[0m in \u001B[0;36m<module>\u001B[0;34m\u001B[0m\n\u001B[0;32m----> 1\u001B[0;31m \u001B[0mtree\u001B[0m\u001B[0;34m.\u001B[0m\u001B[0mn_node_samples\u001B[0m \u001B[0;34m=\u001B[0m \u001B[0;36m1\u001B[0m\u001B[0;34m\u001B[0m\u001B[0;34m\u001B[0m\u001B[0m\n\u001B[0m",
      "\u001B[0;31mAttributeError\u001B[0m: attribute 'n_node_samples' of 'sklearn.tree._tree.Tree' objects is not writable"
     ]
    }
   ],
   "source": [
    "tree.n_node_samples = 1"
   ],
   "metadata": {
    "collapsed": false,
    "pycharm": {
     "name": "#%%\n"
    }
   }
  },
  {
   "cell_type": "code",
   "execution_count": 24,
   "outputs": [
    {
     "data": {
      "text/plain": "array([100,  47,  17,   7,   5,   3,   2,   1,   1,   2,  10,   5,   1,\n         4,   5,   3,   2,   1,   2,  30,  10,   4,   2,   2,   1,   1,\n         6,   1,   5,   2,   1,   1,   3,   1,   2,  20,   5,   3,   1,\n         2,   1,   1,   2,   1,   1,  15,  10,   8,   7,   2,   5,   3,\n         2,   1,   2,   5,   4,   3,   1,   2,   1,   1,  53,  38,  18,\n        10,   2,   1,   1,   8,   7,   5,   1,   4,   2,   1,   1,   2,\n         1,   1,   2,   1,   1,   1,   8,   1,   7,   5,   1,   4,   2,\n         1,   1,  20,  12,   2,   1,   1,  10,   6,   3,   1,   2,   1,\n         1,   3,   2,   1,   4,   1,   3,   2,   1,   8,   1,   7,   5,\n         1,   4,   2,  15,  12,   7,   6,   1,   5,   2,   3,   1,   5,\n         2,   3,   3,   1,   2,   1,   1])"
     },
     "execution_count": 24,
     "metadata": {},
     "output_type": "execute_result"
    }
   ],
   "source": [
    "rf_model.estimators_[0].decision_path(data_block1).getnnz(0)"
   ],
   "metadata": {
    "collapsed": false,
    "pycharm": {
     "name": "#%%\n"
    }
   }
  },
  {
   "cell_type": "code",
   "execution_count": null,
   "outputs": [],
   "source": [],
   "metadata": {
    "collapsed": false,
    "pycharm": {
     "name": "#%%\n"
    }
   }
  },
  {
   "cell_type": "code",
   "execution_count": 7,
   "outputs": [
    {
     "data": {
      "text/plain": "array([100.,  47.,  17.,   6.,   5.,   2.,   3.,   1.,   2.,   1.,  11.,\n         4.,   1.,   3.,   7.,   6.,   4.,   2.,   1.,  30.,  13.,   4.,\n         1.,   3.,   1.,   2.,   9.,   2.,   7.,   3.,   2.,   1.,   4.,\n         1.,   3.,  17.,   6.,   4.,   1.,   3.,   1.,   2.,   2.,   1.,\n         1.,  11.,   6.,   5.,   4.,   1.,   3.,   1.,   2.,   1.,   1.,\n         5.,   4.,   2.,   1.,   1.,   2.,   1.,  53.,  39.,  20.,  13.,\n         3.,   2.,   1.,  10.,   9.,   7.,   1.,   6.,   3.,   1.,   2.,\n         3.,   1.,   2.,   2.,   1.,   1.,   1.,   7.,   1.,   6.,   2.,\n         1.,   1.,   4.,   3.,   1.,  19.,  12.,   2.,   1.,   1.,  10.,\n         6.,   4.,   1.,   3.,   1.,   2.,   2.,   1.,   1.,   4.,   2.,\n         2.,   1.,   1.,   7.,   1.,   6.,   4.,   2.,   2.,   2.,  14.,\n        11.,   8.,   6.,   1.,   5.,   1.,   4.,   2.,   3.,   2.,   1.,\n         3.,   1.,   2.,   1.,   1.])"
     },
     "execution_count": 7,
     "metadata": {},
     "output_type": "execute_result"
    }
   ],
   "source": [
    "tree.weighted_n_node_samples"
   ],
   "metadata": {
    "collapsed": false,
    "pycharm": {
     "name": "#%%\n"
    }
   }
  },
  {
   "cell_type": "markdown",
   "source": [
    "## 2. Testing block transformers"
   ],
   "metadata": {
    "collapsed": false
   }
  },
  {
   "cell_type": "code",
   "source": [
    "n = 100\n",
    "p1 = 5\n",
    "p2 = 7\n",
    "p3 = 1\n",
    "# data_block1 = np.random.randn(n, p1)\n",
    "# data_block2 = np.random.randn(n, p2)\n",
    "data_block1 = np.ones((n, p1)) + np.random.randn(n, p1)\n",
    "id_transformer = IdentityTransformer(p1)\n",
    "blocked_data = id_transformer.transform(data_block1)"
   ],
   "metadata": {
    "collapsed": false,
    "pycharm": {
     "name": "#%%\n"
    }
   },
   "execution_count": 2,
   "outputs": []
  },
  {
   "cell_type": "code",
   "execution_count": 6,
   "outputs": [
    {
     "data": {
      "text/plain": "array([[ 1.6219188 ,  0.97284691,  1.14803982,  1.08145469,  0.95946014],\n       [ 2.92452526,  0.97284691,  1.14803982,  1.08145469,  0.95946014],\n       [ 2.81472583,  0.97284691,  1.14803982,  1.08145469,  0.95946014],\n       [ 0.94636508,  0.97284691,  1.14803982,  1.08145469,  0.95946014],\n       [-0.51978534,  0.97284691,  1.14803982,  1.08145469,  0.95946014],\n       [ 0.89233908,  0.97284691,  1.14803982,  1.08145469,  0.95946014],\n       [ 1.76061846,  0.97284691,  1.14803982,  1.08145469,  0.95946014],\n       [ 0.89524016,  0.97284691,  1.14803982,  1.08145469,  0.95946014],\n       [ 1.00120013,  0.97284691,  1.14803982,  1.08145469,  0.95946014],\n       [ 2.21920765,  0.97284691,  1.14803982,  1.08145469,  0.95946014],\n       [ 1.42370828,  0.97284691,  1.14803982,  1.08145469,  0.95946014],\n       [-0.29063623,  0.97284691,  1.14803982,  1.08145469,  0.95946014],\n       [ 1.08470336,  0.97284691,  1.14803982,  1.08145469,  0.95946014],\n       [ 1.54916908,  0.97284691,  1.14803982,  1.08145469,  0.95946014],\n       [-0.63338872,  0.97284691,  1.14803982,  1.08145469,  0.95946014],\n       [ 1.54688771,  0.97284691,  1.14803982,  1.08145469,  0.95946014],\n       [ 0.82296721,  0.97284691,  1.14803982,  1.08145469,  0.95946014],\n       [-0.05723513,  0.97284691,  1.14803982,  1.08145469,  0.95946014],\n       [-0.6199283 ,  0.97284691,  1.14803982,  1.08145469,  0.95946014],\n       [-1.06472005,  0.97284691,  1.14803982,  1.08145469,  0.95946014],\n       [ 0.7727535 ,  0.97284691,  1.14803982,  1.08145469,  0.95946014],\n       [ 2.13192134,  0.97284691,  1.14803982,  1.08145469,  0.95946014],\n       [ 1.29221942,  0.97284691,  1.14803982,  1.08145469,  0.95946014],\n       [ 0.03228572,  0.97284691,  1.14803982,  1.08145469,  0.95946014],\n       [ 1.07126012,  0.97284691,  1.14803982,  1.08145469,  0.95946014],\n       [-0.73478552,  0.97284691,  1.14803982,  1.08145469,  0.95946014],\n       [ 1.94440908,  0.97284691,  1.14803982,  1.08145469,  0.95946014],\n       [ 3.40744699,  0.97284691,  1.14803982,  1.08145469,  0.95946014],\n       [ 2.35265102,  0.97284691,  1.14803982,  1.08145469,  0.95946014],\n       [ 0.88624367,  0.97284691,  1.14803982,  1.08145469,  0.95946014],\n       [ 0.99790128,  0.97284691,  1.14803982,  1.08145469,  0.95946014],\n       [ 0.15371996,  0.97284691,  1.14803982,  1.08145469,  0.95946014],\n       [-0.04780262,  0.97284691,  1.14803982,  1.08145469,  0.95946014],\n       [-0.35252784,  0.97284691,  1.14803982,  1.08145469,  0.95946014],\n       [ 0.32460131,  0.97284691,  1.14803982,  1.08145469,  0.95946014],\n       [ 1.25023431,  0.97284691,  1.14803982,  1.08145469,  0.95946014],\n       [ 1.15983894,  0.97284691,  1.14803982,  1.08145469,  0.95946014],\n       [ 0.54242391,  0.97284691,  1.14803982,  1.08145469,  0.95946014],\n       [ 1.42198285,  0.97284691,  1.14803982,  1.08145469,  0.95946014],\n       [ 2.13147481,  0.97284691,  1.14803982,  1.08145469,  0.95946014],\n       [ 0.87554247,  0.97284691,  1.14803982,  1.08145469,  0.95946014],\n       [ 1.0986142 ,  0.97284691,  1.14803982,  1.08145469,  0.95946014],\n       [-0.81219248,  0.97284691,  1.14803982,  1.08145469,  0.95946014],\n       [ 1.95784996,  0.97284691,  1.14803982,  1.08145469,  0.95946014],\n       [-1.68418502,  0.97284691,  1.14803982,  1.08145469,  0.95946014],\n       [ 2.00412872,  0.97284691,  1.14803982,  1.08145469,  0.95946014],\n       [ 1.928667  ,  0.97284691,  1.14803982,  1.08145469,  0.95946014],\n       [ 2.96392348,  0.97284691,  1.14803982,  1.08145469,  0.95946014],\n       [ 0.68127021,  0.97284691,  1.14803982,  1.08145469,  0.95946014],\n       [-0.767384  ,  0.97284691,  1.14803982,  1.08145469,  0.95946014],\n       [ 0.10123348,  0.97284691,  1.14803982,  1.08145469,  0.95946014],\n       [ 0.64887606,  0.97284691,  1.14803982,  1.08145469,  0.95946014],\n       [ 0.98660209,  0.97284691,  1.14803982,  1.08145469,  0.95946014],\n       [-0.66615387,  0.97284691,  1.14803982,  1.08145469,  0.95946014],\n       [ 0.04201208,  0.97284691,  1.14803982,  1.08145469,  0.95946014],\n       [ 1.86516482,  0.97284691,  1.14803982,  1.08145469,  0.95946014],\n       [ 1.80636273,  0.97284691,  1.14803982,  1.08145469,  0.95946014],\n       [ 2.58041345,  0.97284691,  1.14803982,  1.08145469,  0.95946014],\n       [-0.48112153,  0.97284691,  1.14803982,  1.08145469,  0.95946014],\n       [ 0.25240596,  0.97284691,  1.14803982,  1.08145469,  0.95946014],\n       [ 0.67408199,  0.97284691,  1.14803982,  1.08145469,  0.95946014],\n       [ 0.91395455,  0.97284691,  1.14803982,  1.08145469,  0.95946014],\n       [-0.94243293,  0.97284691,  1.14803982,  1.08145469,  0.95946014],\n       [ 0.7324819 ,  0.97284691,  1.14803982,  1.08145469,  0.95946014],\n       [ 1.78395692,  0.97284691,  1.14803982,  1.08145469,  0.95946014],\n       [ 2.09801491,  0.97284691,  1.14803982,  1.08145469,  0.95946014],\n       [-0.21544887,  0.97284691,  1.14803982,  1.08145469,  0.95946014],\n       [ 1.2196447 ,  0.97284691,  1.14803982,  1.08145469,  0.95946014],\n       [ 2.31552944,  0.97284691,  1.14803982,  1.08145469,  0.95946014],\n       [ 2.16066551,  0.97284691,  1.14803982,  1.08145469,  0.95946014],\n       [ 2.26663173,  0.97284691,  1.14803982,  1.08145469,  0.95946014],\n       [ 0.95798496,  0.97284691,  1.14803982,  1.08145469,  0.95946014],\n       [ 2.14112595,  0.97284691,  1.14803982,  1.08145469,  0.95946014],\n       [ 0.50702476,  0.97284691,  1.14803982,  1.08145469,  0.95946014],\n       [ 1.8223518 ,  0.97284691,  1.14803982,  1.08145469,  0.95946014],\n       [ 1.23762304,  0.97284691,  1.14803982,  1.08145469,  0.95946014],\n       [-0.6903651 ,  0.97284691,  1.14803982,  1.08145469,  0.95946014],\n       [ 1.4842955 ,  0.97284691,  1.14803982,  1.08145469,  0.95946014],\n       [ 0.07854966,  0.97284691,  1.14803982,  1.08145469,  0.95946014],\n       [ 2.20771191,  0.97284691,  1.14803982,  1.08145469,  0.95946014],\n       [ 2.46730461,  0.97284691,  1.14803982,  1.08145469,  0.95946014],\n       [ 2.7761962 ,  0.97284691,  1.14803982,  1.08145469,  0.95946014],\n       [-1.1117181 ,  0.97284691,  1.14803982,  1.08145469,  0.95946014],\n       [ 0.21125217,  0.97284691,  1.14803982,  1.08145469,  0.95946014],\n       [ 1.39567924,  0.97284691,  1.14803982,  1.08145469,  0.95946014],\n       [ 1.93003036,  0.97284691,  1.14803982,  1.08145469,  0.95946014],\n       [ 0.67239795,  0.97284691,  1.14803982,  1.08145469,  0.95946014],\n       [ 0.03634511,  0.97284691,  1.14803982,  1.08145469,  0.95946014],\n       [ 1.08579308,  0.97284691,  1.14803982,  1.08145469,  0.95946014],\n       [ 1.0178182 ,  0.97284691,  1.14803982,  1.08145469,  0.95946014],\n       [ 2.01091498,  0.97284691,  1.14803982,  1.08145469,  0.95946014],\n       [-0.78316797,  0.97284691,  1.14803982,  1.08145469,  0.95946014],\n       [ 0.46342688,  0.97284691,  1.14803982,  1.08145469,  0.95946014],\n       [ 0.48435988,  0.97284691,  1.14803982,  1.08145469,  0.95946014],\n       [ 0.1357135 ,  0.97284691,  1.14803982,  1.08145469,  0.95946014],\n       [ 1.07923804,  0.97284691,  1.14803982,  1.08145469,  0.95946014],\n       [ 1.18645559,  0.97284691,  1.14803982,  1.08145469,  0.95946014],\n       [ 1.27910396,  0.97284691,  1.14803982,  1.08145469,  0.95946014],\n       [ 0.71803167,  0.97284691,  1.14803982,  1.08145469,  0.95946014],\n       [ 0.69122885,  0.97284691,  1.14803982,  1.08145469,  0.95946014]])"
     },
     "execution_count": 6,
     "metadata": {},
     "output_type": "execute_result"
    }
   ],
   "source": [
    "blocked_data.get_modified_data(0)"
   ],
   "metadata": {
    "collapsed": false,
    "pycharm": {
     "name": "#%%\n"
    }
   }
  },
  {
   "cell_type": "code",
   "execution_count": 8,
   "outputs": [
    {
     "data": {
      "text/plain": "True"
     },
     "execution_count": 8,
     "metadata": {},
     "output_type": "execute_result"
    }
   ],
   "source": [
    "np.all(blocked_data.get_all_data() == data_block1)"
   ],
   "metadata": {
    "collapsed": false,
    "pycharm": {
     "name": "#%%\n"
    }
   }
  },
  {
   "cell_type": "code",
   "execution_count": 16,
   "outputs": [
    {
     "data": {
      "text/plain": "array([1., 1., 1., 1., 1.])"
     },
     "execution_count": 16,
     "metadata": {},
     "output_type": "execute_result"
    }
   ],
   "source": [
    "data = id_transformer.transform(data_block1, rescale=True).get_all_data()\n",
    "data.std(axis=0)"
   ],
   "metadata": {
    "collapsed": false,
    "pycharm": {
     "name": "#%%\n"
    }
   }
  },
  {
   "cell_type": "code",
   "execution_count": 23,
   "outputs": [
    {
     "data": {
      "text/plain": "array([[ 0.97145808,  0.97145808],\n       [ 1.05989336,  1.05989336],\n       [-0.13927433, -0.13927433],\n       [ 0.89047901,  0.89047901],\n       [ 1.36384863,  1.36384863],\n       [ 1.81174978,  1.81174978],\n       [-0.10637308, -0.10637308],\n       [ 1.86508573,  1.86508573],\n       [ 1.20759156,  1.20759156],\n       [ 2.28089708,  2.28089708],\n       [ 1.39909675,  1.39909675],\n       [-0.12859915, -0.12859915],\n       [ 1.44098019,  1.44098019],\n       [ 1.85729251,  1.85729251],\n       [ 1.49524595,  1.49524595],\n       [ 0.56307112,  0.56307112],\n       [-1.67644076, -1.67644076],\n       [ 3.21770753,  3.21770753],\n       [ 1.65936503,  1.65936503],\n       [ 2.38086379,  2.38086379],\n       [ 1.13624595,  1.13624595],\n       [ 0.20513627,  0.20513627],\n       [ 1.77113169,  1.77113169],\n       [ 1.14378989,  1.14378989],\n       [ 0.02631339,  0.02631339],\n       [ 0.51020795,  0.51020795],\n       [ 1.41125058,  1.41125058],\n       [ 3.04989549,  3.04989549],\n       [ 2.28281936,  2.28281936],\n       [ 0.70487708,  0.70487708],\n       [ 0.37929327,  0.37929327],\n       [ 3.38762177,  3.38762177],\n       [ 0.3479371 ,  0.3479371 ],\n       [ 2.27021108,  2.27021108],\n       [ 2.32743466,  2.32743466],\n       [ 1.58225223,  1.58225223],\n       [ 1.27737651,  1.27737651],\n       [ 1.18444482,  1.18444482],\n       [ 1.75821244,  1.75821244],\n       [ 1.34535634,  1.34535634],\n       [ 2.41270181,  2.41270181],\n       [-0.21950835, -0.21950835],\n       [ 0.73967916,  0.73967916],\n       [ 0.92204465,  0.92204465],\n       [ 2.65864447,  2.65864447],\n       [-0.03963304, -0.03963304],\n       [ 0.66302029,  0.66302029],\n       [ 1.50615163,  1.50615163],\n       [ 1.36679884,  1.36679884],\n       [ 0.53860327,  0.53860327],\n       [ 1.75297232,  1.75297232],\n       [ 0.94802738,  0.94802738],\n       [ 0.66652533,  0.66652533],\n       [-0.16190941, -0.16190941],\n       [ 1.28714339,  1.28714339],\n       [ 0.18902263,  0.18902263],\n       [ 0.30591612,  0.30591612],\n       [ 2.02875916,  2.02875916],\n       [ 0.90656468,  0.90656468],\n       [-0.24421556, -0.24421556],\n       [ 1.08993094,  1.08993094],\n       [ 2.87218511,  2.87218511],\n       [ 0.49333466,  0.49333466],\n       [ 1.33650731,  1.33650731],\n       [ 1.44957985,  1.44957985],\n       [ 1.54825565,  1.54825565],\n       [ 1.51342608,  1.51342608],\n       [ 0.51231287,  0.51231287],\n       [ 1.19849921,  1.19849921],\n       [ 1.65347917,  1.65347917],\n       [-0.25641836, -0.25641836],\n       [-0.21370855, -0.21370855],\n       [ 1.2083137 ,  1.2083137 ],\n       [ 1.90498391,  1.90498391],\n       [ 2.18108535,  2.18108535],\n       [ 0.69344681,  0.69344681],\n       [-0.40117023, -0.40117023],\n       [-0.25900391, -0.25900391],\n       [ 1.46925214,  1.46925214],\n       [ 2.43037079,  2.43037079],\n       [ 2.48359796,  2.48359796],\n       [ 1.45070081,  1.45070081],\n       [ 2.71087298,  2.71087298],\n       [ 0.75973354,  0.75973354],\n       [ 0.02142547,  0.02142547],\n       [ 1.44376189,  1.44376189],\n       [ 2.5441546 ,  2.5441546 ],\n       [ 3.2164383 ,  3.2164383 ],\n       [ 0.59041577,  0.59041577],\n       [ 1.39293393,  1.39293393],\n       [ 0.35795721,  0.35795721],\n       [-0.89816352, -0.89816352],\n       [ 0.30470873,  0.30470873],\n       [ 1.0325733 ,  1.0325733 ],\n       [ 1.02513428,  1.02513428],\n       [ 0.23362878,  0.23362878],\n       [-0.58604143, -0.58604143],\n       [ 2.18931382,  2.18931382],\n       [ 3.41551514,  3.41551514],\n       [ 0.30693988,  0.30693988]])"
     },
     "execution_count": 23,
     "metadata": {},
     "output_type": "execute_result"
    }
   ],
   "source": [
    "composite = CompositeTransformer([id_transformer, id_transformer], adj_std=\"max\")\n",
    "data = composite.transform(data_block1).get_block(2)\n",
    "data"
   ],
   "metadata": {
    "collapsed": false,
    "pycharm": {
     "name": "#%%\n"
    }
   }
  },
  {
   "cell_type": "markdown",
   "source": [
    "## 1. Testing block partitioned data"
   ],
   "metadata": {
    "collapsed": false,
    "pycharm": {
     "name": "#%% md\n"
    }
   }
  },
  {
   "cell_type": "code",
   "execution_count": 3,
   "outputs": [],
   "source": [
    "n = 100\n",
    "p1 = 5\n",
    "p2 = 7\n",
    "p3 = 1\n",
    "# data_block1 = np.random.randn(n, p1)\n",
    "# data_block2 = np.random.randn(n, p2)\n",
    "data_block1 = np.ones((n, p1)) + np.random.randn(n, p1)\n",
    "data_block2 = np.ones((n, p2)) * 2 + np.random.randn(n, p2)\n",
    "data_block3 = np.ones((n, p3)) * 3 + np.random.randn(n, p3)\n",
    "data_blocks = [data_block1, data_block2, data_block3]\n",
    "blocked_data = BlockPartitionedData(data_blocks)"
   ],
   "metadata": {
    "collapsed": false,
    "pycharm": {
     "name": "#%%\n"
    }
   }
  },
  {
   "cell_type": "code",
   "execution_count": 4,
   "outputs": [
    {
     "data": {
      "text/plain": "array([[ 2.28169397,  1.07445645,  0.34343945, ...,  0.84806761,\n         2.89905064,  1.19476034],\n       [-0.03749265,  2.08981242,  2.22264514, ...,  1.79143923,\n         2.00702395,  3.4788338 ],\n       [-0.51604933, -0.52687196,  0.66962039, ...,  3.48781738,\n         2.93676149,  2.9407791 ],\n       ...,\n       [ 0.04854499,  0.46283128,  0.40500174, ...,  1.29235355,\n         1.90683027,  2.4985751 ],\n       [ 1.27899668,  0.52405581,  0.28625703, ...,  2.40823346,\n         2.87838462,  1.11505443],\n       [ 2.73609826,  0.3404902 ,  1.42146683, ...,  1.98196607,\n         3.15719736,  4.33054791]])"
     },
     "execution_count": 4,
     "metadata": {},
     "output_type": "execute_result"
    }
   ],
   "source": [
    "blocked_data.get_all_data()"
   ],
   "metadata": {
    "collapsed": false,
    "pycharm": {
     "name": "#%%\n"
    }
   }
  },
  {
   "cell_type": "code",
   "execution_count": 7,
   "outputs": [
    {
     "data": {
      "text/plain": "array([[ 2.28169397,  1.07445645,  0.34343945, ...,  2.05453732,\n         1.91600772,  1.19476034],\n       [-0.03749265,  2.08981242,  2.22264514, ...,  2.05453732,\n         1.91600772,  3.4788338 ],\n       [-0.51604933, -0.52687196,  0.66962039, ...,  2.05453732,\n         1.91600772,  2.9407791 ],\n       ...,\n       [ 0.04854499,  0.46283128,  0.40500174, ...,  2.05453732,\n         1.91600772,  2.4985751 ],\n       [ 1.27899668,  0.52405581,  0.28625703, ...,  2.05453732,\n         1.91600772,  1.11505443],\n       [ 2.73609826,  0.3404902 ,  1.42146683, ...,  2.05453732,\n         1.91600772,  4.33054791]])"
     },
     "execution_count": 7,
     "metadata": {},
     "output_type": "execute_result"
    }
   ],
   "source": [
    "blocked_data.get_modified_data(1, mode=\"keep_rest\")"
   ],
   "metadata": {
    "collapsed": false,
    "pycharm": {
     "name": "#%%\n"
    }
   }
  }
 ],
 "metadata": {
  "kernelspec": {
   "display_name": "Python 3",
   "language": "python",
   "name": "python3"
  },
  "language_info": {
   "codemirror_mode": {
    "name": "ipython",
    "version": 2
   },
   "file_extension": ".py",
   "mimetype": "text/x-python",
   "name": "python",
   "nbconvert_exporter": "python",
   "pygments_lexer": "ipython2",
   "version": "2.7.6"
  }
 },
 "nbformat": 4,
 "nbformat_minor": 0
}