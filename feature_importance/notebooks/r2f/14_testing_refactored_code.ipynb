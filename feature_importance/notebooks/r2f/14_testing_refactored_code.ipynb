{
 "cells": [
  {
   "cell_type": "code",
   "execution_count": 1,
   "metadata": {
    "collapsed": true
   },
   "outputs": [],
   "source": [
    "import copy\n",
    "\n",
    "import numpy as np\n",
    "import scipy as sp\n",
    "import random\n",
    "import os\n",
    "from sklearn.tree import DecisionTreeRegressor\n",
    "from sklearn.ensemble import RandomForestRegressor, GradientBoostingClassifier, RandomForestClassifier\n",
    "from sklearn.metrics import r2_score, mean_squared_error, zero_one_loss, roc_auc_score\n",
    "from sklearn.linear_model import LassoCV, LogisticRegressionCV, RidgeCV\n",
    "from sklearn.preprocessing import OneHotEncoder\n",
    "\n",
    "from imodels.importance.representation_cleaned import *\n",
    "from imodels.importance.r2f_exp_cleaned import *"
   ]
  },
  {
   "cell_type": "markdown",
   "source": [
    "## 6. Testing full pipeline"
   ],
   "metadata": {
    "collapsed": false
   }
  },
  {
   "cell_type": "code",
   "execution_count": 14,
   "outputs": [],
   "source": [
    "n = 100\n",
    "p1 = 5\n",
    "p2 = 7\n",
    "p3 = 1\n",
    "# data_block1 = np.random.randn(n, p1)\n",
    "# data_block2 = np.random.randn(n, p2)\n",
    "data_block1 = np.ones((n, p1)) + np.random.randn(n, p1)\n",
    "y = data_block1 @ np.array([1] + list(np.zeros(p1-1))) + np.random.randn(n) * 0.1\n",
    "y_binary = np.random.binomial(1, p=sp.special.expit(y))"
   ],
   "metadata": {
    "collapsed": false,
    "pycharm": {
     "name": "#%%\n"
    }
   }
  },
  {
   "cell_type": "code",
   "execution_count": 28,
   "outputs": [
    {
     "name": "stdout",
     "output_type": "stream",
     "text": [
      "CPU times: user 6.65 s, sys: 1.01 s, total: 7.66 s\n",
      "Wall time: 2.12 s\n"
     ]
    },
    {
     "data": {
      "text/plain": "array([ 9.88115663e-01,  3.59409907e-03, -9.01820213e-04, -6.73031504e-05,\n        3.19628895e-03])"
     },
     "execution_count": 28,
     "metadata": {},
     "output_type": "execute_result"
    }
   ],
   "source": [
    "%%time\n",
    "\n",
    "default_gmdi_pipeline(data_block1, y)"
   ],
   "metadata": {
    "collapsed": false,
    "pycharm": {
     "name": "#%%\n"
    }
   }
  },
  {
   "cell_type": "code",
   "execution_count": 17,
   "outputs": [
    {
     "data": {
      "text/plain": "array([ 0.00542176, -0.01983371, -0.02328567, -0.02018197, -0.01684698])"
     },
     "execution_count": 17,
     "metadata": {},
     "output_type": "execute_result"
    }
   ],
   "source": [
    "default_gmdi_pipeline(data_block1, y_binary)"
   ],
   "metadata": {
    "collapsed": false,
    "pycharm": {
     "name": "#%%\n"
    }
   }
  },
  {
   "cell_type": "code",
   "execution_count": 16,
   "outputs": [
    {
     "name": "stdout",
     "output_type": "stream",
     "text": [
      "CPU times: user 48.5 s, sys: 8.71 s, total: 57.2 s\n",
      "Wall time: 15.1 s\n"
     ]
    },
    {
     "data": {
      "text/plain": "array([0.52201067, 0.28533333, 0.28884267, 0.23638933, 0.322096  ])"
     },
     "execution_count": 16,
     "metadata": {},
     "output_type": "execute_result"
    }
   ],
   "source": [
    "%%time\n",
    "\n",
    "default_gmdi_pipeline(data_block1, y_binary, regression=False)"
   ],
   "metadata": {
    "collapsed": false,
    "pycharm": {
     "name": "#%%\n"
    }
   }
  },
  {
   "cell_type": "markdown",
   "source": [
    "## 5. Testing LOO PPM"
   ],
   "metadata": {
    "collapsed": false
   }
  },
  {
   "cell_type": "code",
   "execution_count": 29,
   "outputs": [],
   "source": [
    "n = 100\n",
    "p1 = 5\n",
    "p2 = 7\n",
    "p3 = 1\n",
    "# data_block1 = np.random.randn(n, p1)\n",
    "# data_block2 = np.random.randn(n, p2)\n",
    "data_block1 = np.ones((n, p1)) + np.random.randn(n, p1)\n",
    "data_block2 = np.ones((n, p2)) * 2 + np.random.randn(n, p2)\n",
    "data_block3 = np.ones((n, p3)) * 3 + np.random.randn(n, p3)\n",
    "data_blocks = [data_block1, data_block2, data_block3]\n",
    "y = data_block1 @ np.array([1] + list(np.zeros(p1-1))) + np.random.randn(n) * 0.1\n",
    "y_binary = np.random.binomial(1, p=sp.special.expit(y))\n",
    "blocked_data = BlockPartitionedData(data_blocks)\n",
    "y_categorical = np.random.randint(0, 4, n)\n",
    "y_cat_one_hot = OneHotEncoder().fit_transform(y_categorical.reshape(-1,1)).toarray()"
   ],
   "metadata": {
    "collapsed": false,
    "pycharm": {
     "name": "#%%\n"
    }
   }
  },
  {
   "cell_type": "code",
   "execution_count": 11,
   "outputs": [
    {
     "data": {
      "text/plain": "RidgeCV(alphas=array([1.00000000e-05, 3.35981829e-05, 1.12883789e-04, 3.79269019e-04,\n       1.27427499e-03, 4.28133240e-03, 1.43844989e-02, 4.83293024e-02,\n       1.62377674e-01, 5.45559478e-01, 1.83298071e+00, 6.15848211e+00,\n       2.06913808e+01, 6.95192796e+01, 2.33572147e+02, 7.84759970e+02,\n       2.63665090e+03, 8.85866790e+03, 2.97635144e+04, 1.00000000e+05]),\n        store_cv_values=True)"
     },
     "execution_count": 11,
     "metadata": {},
     "output_type": "execute_result"
    }
   ],
   "source": [
    "# Check that cv values are the same as that in ridge loo ppm\n",
    "\n",
    "ridge_cv = RidgeCV(alphas=np.logspace(-5, 5, 20), store_cv_values=True)\n",
    "ridge_cv.fit(np.hstack(data_blocks), y)\n",
    "ridge_cv.cv_values_.mean(axis=0)"
   ],
   "metadata": {
    "collapsed": false,
    "pycharm": {
     "name": "#%%\n"
    }
   }
  },
  {
   "cell_type": "code",
   "execution_count": 30,
   "outputs": [],
   "source": [
    "ridge_loo_ppm = RidgeLOOPPM()\n",
    "# ridge_loo_ppm.set_alphas(\"default\", blocked_data, y)\n",
    "ridge_loo_ppm.fit(blocked_data, y)"
   ],
   "metadata": {
    "collapsed": false,
    "pycharm": {
     "name": "#%%\n"
    }
   }
  },
  {
   "cell_type": "code",
   "execution_count": 33,
   "outputs": [
    {
     "name": "stdout",
     "output_type": "stream",
     "text": [
      "0.009740558985122851\n",
      "1.0445627125783774\n",
      "1.038655225654163\n"
     ]
    }
   ],
   "source": [
    "for i in range(3):\n",
    "    print(mean_squared_error(y, ridge_loo_ppm.get_partial_predictions(i)))"
   ],
   "metadata": {
    "collapsed": false,
    "pycharm": {
     "name": "#%%\n"
    }
   }
  },
  {
   "cell_type": "code",
   "execution_count": 34,
   "outputs": [
    {
     "data": {
      "text/plain": "array([ 0.03522215, -0.02731276, -0.05306986, -0.15863974, -0.0135043 ,\n        0.01488684,  0.05252128, -0.00798004,  0.09640539,  0.05875139,\n       -0.02915093, -0.0860761 ,  0.06633575,  0.17918859, -0.16102169,\n        0.1825987 , -0.14722516,  0.09257829, -0.05591041,  0.02347763,\n        0.10264974,  0.13445467,  0.363944  , -0.10472336,  0.04655741,\n       -0.10092641, -0.03921782, -0.14559562, -0.02711224,  0.0472973 ,\n        0.01512068, -0.05505554,  0.08162527,  0.01849988, -0.00962624,\n       -0.01692529,  0.01722482,  0.04679461,  0.07423115, -0.10081393,\n       -0.00691934, -0.0219557 ,  0.0313211 , -0.06756291,  0.07848294,\n       -0.14326682, -0.0804344 , -0.00052118,  0.000466  ,  0.0804554 ,\n        0.13094288,  0.00486731,  0.01995709,  0.01836871,  0.03528491,\n        0.14015391, -0.14077661,  0.11925971, -0.05419787, -0.18064702,\n       -0.06848067, -0.02031649, -0.0202443 ,  0.00307043,  0.00817902,\n        0.01902598, -0.03093485, -0.04772098,  0.06785038,  0.14836689,\n        0.04164201,  0.02099017, -0.12211763,  0.05720257, -0.08739462,\n        0.13043231, -0.1041317 ,  0.05630458,  0.01790217, -0.14042032,\n        0.11367707, -0.16628642, -0.01962464, -0.12393506, -0.12905138,\n       -0.18741861,  0.09723006, -0.02964419,  0.11339514, -0.02146138,\n        0.05223537,  0.01088792,  0.26867042, -0.01997874,  0.05758909,\n        0.048178  , -0.23386096, -0.12024149,  0.0053429 , -0.01680754])"
     },
     "execution_count": 34,
     "metadata": {},
     "output_type": "execute_result"
    }
   ],
   "source": [
    "ridge_loo_ppm.get_partial_predictions(0) - y"
   ],
   "metadata": {
    "collapsed": false,
    "pycharm": {
     "name": "#%%\n"
    }
   }
  },
  {
   "cell_type": "code",
   "execution_count": 32,
   "outputs": [
    {
     "data": {
      "text/plain": "0.1623776739188721"
     },
     "execution_count": 32,
     "metadata": {},
     "output_type": "execute_result"
    }
   ],
   "source": [
    "ridge_loo_ppm.alpha_"
   ],
   "metadata": {
    "collapsed": false,
    "pycharm": {
     "name": "#%%\n"
    }
   }
  },
  {
   "cell_type": "code",
   "execution_count": 35,
   "outputs": [],
   "source": [
    "log_loo_ppm = LogisticLOOPPM()\n",
    "log_loo_ppm.fit(blocked_data, y_binary)"
   ],
   "metadata": {
    "collapsed": false,
    "pycharm": {
     "name": "#%%\n"
    }
   }
  },
  {
   "cell_type": "code",
   "execution_count": 36,
   "outputs": [
    {
     "name": "stdout",
     "output_type": "stream",
     "text": [
      "0.6974259349198639\n",
      "0.4035939776590578\n",
      "0.36765420106847985\n"
     ]
    }
   ],
   "source": [
    "for i in range(3):\n",
    "    print(roc_auc_score(y_binary, log_loo_ppm.get_partial_predictions(i)))"
   ],
   "metadata": {
    "collapsed": false,
    "pycharm": {
     "name": "#%%\n"
    }
   }
  },
  {
   "cell_type": "code",
   "execution_count": 37,
   "outputs": [],
   "source": [
    "log_loo_ppm = LogisticLOOPPM()\n",
    "log_loo_ppm.fit(blocked_data, y_cat_one_hot)"
   ],
   "metadata": {
    "collapsed": false,
    "pycharm": {
     "name": "#%%\n"
    }
   }
  },
  {
   "cell_type": "code",
   "execution_count": 38,
   "outputs": [
    {
     "name": "stdout",
     "output_type": "stream",
     "text": [
      "0.22062523744911805\n",
      "0.2537056535504297\n",
      "0.14837630031659882\n"
     ]
    }
   ],
   "source": [
    "for i in range(3):\n",
    "    print(roc_auc_score(y_cat_one_hot, log_loo_ppm.get_partial_predictions(i)))"
   ],
   "metadata": {
    "collapsed": false,
    "pycharm": {
     "name": "#%%\n"
    }
   }
  },
  {
   "cell_type": "code",
   "execution_count": 41,
   "outputs": [
    {
     "data": {
      "text/plain": "array([6.95192796e+01, 1.00000000e+05, 2.06913808e+01, 1.00000000e+05])"
     },
     "execution_count": 41,
     "metadata": {},
     "output_type": "execute_result"
    }
   ],
   "source": [
    "log_loo_ppm.alpha_"
   ],
   "metadata": {
    "collapsed": false,
    "pycharm": {
     "name": "#%%\n"
    }
   }
  },
  {
   "cell_type": "markdown",
   "source": [
    "## 4. Testing PPM"
   ],
   "metadata": {
    "collapsed": false
   }
  },
  {
   "cell_type": "code",
   "execution_count": 2,
   "outputs": [],
   "source": [
    "n = 100\n",
    "p1 = 5\n",
    "p2 = 7\n",
    "p3 = 1\n",
    "# data_block1 = np.random.randn(n, p1)\n",
    "# data_block2 = np.random.randn(n, p2)\n",
    "data_block1 = np.ones((n, p1)) + np.random.randn(n, p1)\n",
    "data_block2 = np.ones((n, p2)) * 2 + np.random.randn(n, p2)\n",
    "data_block3 = np.ones((n, p3)) * 3 + np.random.randn(n, p3)\n",
    "data_blocks = [data_block1, data_block2, data_block3]\n",
    "y = data_block1 @ np.array([1] + list(np.zeros(p1-1))) + np.random.randn(n) * 0.1\n",
    "y_binary = np.random.binomial(1, p=sp.special.expit(y))\n",
    "blocked_data = BlockPartitionedData(data_blocks)"
   ],
   "metadata": {
    "collapsed": false,
    "pycharm": {
     "name": "#%%\n"
    }
   }
  },
  {
   "cell_type": "code",
   "execution_count": 3,
   "outputs": [],
   "source": [
    "ridge_ppm = RidgePPM()\n",
    "ridge_ppm.set_alphas(\"default\", blocked_data, y)\n",
    "ridge_ppm.fit(blocked_data, y, mode=\"keep_rest\")"
   ],
   "metadata": {
    "collapsed": false,
    "pycharm": {
     "name": "#%%\n"
    }
   }
  },
  {
   "cell_type": "code",
   "execution_count": 13,
   "outputs": [
    {
     "data": {
      "text/plain": "array([ 0.08492051, -0.0349213 , -0.06792441,  0.08407434, -0.07620152,\n       -0.0004732 ,  0.05422286, -0.04613619,  0.00037839, -0.01384697,\n        0.08827928,  0.06944406, -0.00322979, -0.01649656, -0.0015974 ,\n       -0.14507789,  0.04960882,  0.0381334 , -0.04473916,  0.06861695,\n        0.00911737, -0.0473678 , -0.18176052,  0.11773713, -0.08485342,\n        0.04029759,  0.07034176,  0.05821912, -0.03303226, -0.0178732 ,\n       -0.02955732, -0.03761804,  0.01260764,  0.00749997,  0.04575837,\n        0.07281188, -0.05025104,  0.09746286,  0.09943579,  0.03628978,\n        0.0654146 , -0.05898608,  0.09908187, -0.02896701, -0.07364056,\n        0.17138064, -0.06298987, -0.02333959, -0.05114554, -0.05958105,\n       -0.04476297, -0.11882374,  0.15732295,  0.00582565,  0.05843596,\n       -0.00483641,  0.00345955, -0.06417568, -0.18592493, -0.07238636,\n        0.08430831, -0.10502395, -0.06111078,  0.06695921,  0.01078021,\n        0.04535849,  0.02325094,  0.00470122,  0.04858282, -0.11097714,\n       -0.14459004, -0.02588475,  0.06951322,  0.02771731,  0.00097642,\n       -0.12893395, -0.11132839,  0.02723099,  0.08277755, -0.00177471,\n        0.04593731,  0.04019797,  0.02384726, -0.06517031,  0.02500605,\n       -0.05833995,  0.09844567, -0.14427294, -0.08595034,  0.1431663 ,\n        0.00265475,  0.11456143, -0.01021923,  0.08123084,  0.0843568 ,\n       -0.25372676,  0.09076811,  0.09498239,  0.03059755, -0.04426717])"
     },
     "execution_count": 13,
     "metadata": {},
     "output_type": "execute_result"
    }
   ],
   "source": [
    "ridge_ppm.get_partial_predictions(2) - y"
   ],
   "metadata": {
    "collapsed": false,
    "pycharm": {
     "name": "#%%\n"
    }
   }
  },
  {
   "cell_type": "code",
   "execution_count": 15,
   "outputs": [
    {
     "name": "stdout",
     "output_type": "stream",
     "text": [
      "0.007890359106514915 0.8119756854858856\n"
     ]
    }
   ],
   "source": [
    "lasso_ppm = GenericPPM(estimator=LassoCV())\n",
    "lasso_ppm.fit(blocked_data, y)\n",
    "print(mean_squared_error(y, lasso_ppm.get_partial_predictions(0)), mean_squared_error(y, lasso_ppm.get_partial_predictions(1)))"
   ],
   "metadata": {
    "collapsed": false,
    "pycharm": {
     "name": "#%%\n"
    }
   }
  },
  {
   "cell_type": "code",
   "execution_count": 24,
   "outputs": [
    {
     "name": "stdout",
     "output_type": "stream",
     "text": [
      "0.7221978021978022\n",
      "0.6865934065934065\n",
      "0.5507692307692307\n"
     ]
    }
   ],
   "source": [
    "logistic_ppm = GenericPPM(estimator=LogisticRegressionCV())\n",
    "logistic_ppm.fit(blocked_data, y_binary)\n",
    "logistic_ppm.get_partial_predictions(0)\n",
    "for i in range(3):\n",
    "    print(roc_auc_score(y_binary, logistic_ppm.get_partial_predictions(i)[:,1]))"
   ],
   "metadata": {
    "collapsed": false,
    "pycharm": {
     "name": "#%%\n"
    }
   }
  },
  {
   "cell_type": "markdown",
   "source": [
    "## 3. Testing tree transformer"
   ],
   "metadata": {
    "collapsed": false
   }
  },
  {
   "cell_type": "code",
   "execution_count": 2,
   "outputs": [
    {
     "data": {
      "text/plain": "DecisionTreeRegressor()"
     },
     "execution_count": 2,
     "metadata": {},
     "output_type": "execute_result"
    }
   ],
   "source": [
    "n = 100\n",
    "p1 = 5\n",
    "p2 = 7\n",
    "p3 = 1\n",
    "# data_block1 = np.random.randn(n, p1)\n",
    "# data_block2 = np.random.randn(n, p2)\n",
    "data_block1 = np.ones((n, p1)) + np.random.randn(n, p1)\n",
    "y = data_block1 @ np.array([1] + list(np.zeros(p1-1))) + np.random.randn(n) * 0.1\n",
    "tree_model = DecisionTreeRegressor()\n",
    "tree_model.fit(data_block1, y)"
   ],
   "metadata": {
    "collapsed": false,
    "pycharm": {
     "name": "#%%\n"
    }
   }
  },
  {
   "cell_type": "code",
   "execution_count": 3,
   "outputs": [],
   "source": [
    "tree_transformer = TreeTransformer(p1, tree_model)"
   ],
   "metadata": {
    "collapsed": false,
    "pycharm": {
     "name": "#%%\n"
    }
   }
  },
  {
   "cell_type": "code",
   "execution_count": 4,
   "outputs": [],
   "source": [
    "tree_block = tree_transformer.transform_one_feature(data_block1, 0)"
   ],
   "metadata": {
    "collapsed": false,
    "pycharm": {
     "name": "#%%\n"
    }
   }
  },
  {
   "cell_type": "code",
   "execution_count": 5,
   "outputs": [
    {
     "data": {
      "text/plain": "array([100.,  54.,  13.,   7.,   2.,   3.,   2.,   3.,  41.,  14.,   7.,\n        27.,   2.,  18.,   3.,  46.,  30.,  19.,   8.,  11.,   6.,   2.,\n        16.,  11.,   2.,   4.,   2.])"
     },
     "execution_count": 5,
     "metadata": {},
     "output_type": "execute_result"
    }
   ],
   "source": [
    "np.linalg.norm(tree_block, axis=0) ** 2"
   ],
   "metadata": {
    "collapsed": false,
    "pycharm": {
     "name": "#%%\n"
    }
   }
  },
  {
   "cell_type": "code",
   "execution_count": 3,
   "outputs": [],
   "source": [
    "rf_model = RandomForestRegressor()\n",
    "rf_model.fit(data_block1, y)\n",
    "tree_transformer = TreeTransformer(p1, rf_model, data=data_block1)\n",
    "tree_block = tree_transformer.transform_one_feature(data_block1, 0)"
   ],
   "metadata": {
    "collapsed": false,
    "pycharm": {
     "name": "#%%\n"
    }
   }
  },
  {
   "cell_type": "code",
   "execution_count": 4,
   "outputs": [
    {
     "data": {
      "text/plain": "array([100.,  53.,  13., ...,   8.,   7.,   6.])"
     },
     "execution_count": 4,
     "metadata": {},
     "output_type": "execute_result"
    }
   ],
   "source": [
    "np.linalg.norm(tree_block, axis=0) ** 2"
   ],
   "metadata": {
    "collapsed": false,
    "pycharm": {
     "name": "#%%\n"
    }
   }
  },
  {
   "cell_type": "code",
   "execution_count": 7,
   "outputs": [],
   "source": [
    "tree = rf_model.estimators_[0].tree_"
   ],
   "metadata": {
    "collapsed": false,
    "pycharm": {
     "name": "#%%\n"
    }
   }
  },
  {
   "cell_type": "code",
   "execution_count": 10,
   "outputs": [],
   "source": [
    "tree.n_node_samples[0] = 5"
   ],
   "metadata": {
    "collapsed": false,
    "pycharm": {
     "name": "#%%\n"
    }
   }
  },
  {
   "cell_type": "code",
   "execution_count": 12,
   "outputs": [
    {
     "ename": "AttributeError",
     "evalue": "attribute 'n_node_samples' of 'sklearn.tree._tree.Tree' objects is not writable",
     "output_type": "error",
     "traceback": [
      "\u001B[0;31m---------------------------------------------------------------------------\u001B[0m",
      "\u001B[0;31mAttributeError\u001B[0m                            Traceback (most recent call last)",
      "\u001B[0;32m<ipython-input-12-b57b95e9f76d>\u001B[0m in \u001B[0;36m<module>\u001B[0;34m\u001B[0m\n\u001B[0;32m----> 1\u001B[0;31m \u001B[0mtree\u001B[0m\u001B[0;34m.\u001B[0m\u001B[0mn_node_samples\u001B[0m \u001B[0;34m=\u001B[0m \u001B[0;36m1\u001B[0m\u001B[0;34m\u001B[0m\u001B[0;34m\u001B[0m\u001B[0m\n\u001B[0m",
      "\u001B[0;31mAttributeError\u001B[0m: attribute 'n_node_samples' of 'sklearn.tree._tree.Tree' objects is not writable"
     ]
    }
   ],
   "source": [
    "tree.n_node_samples = 1"
   ],
   "metadata": {
    "collapsed": false,
    "pycharm": {
     "name": "#%%\n"
    }
   }
  },
  {
   "cell_type": "code",
   "execution_count": 24,
   "outputs": [
    {
     "data": {
      "text/plain": "array([100,  47,  17,   7,   5,   3,   2,   1,   1,   2,  10,   5,   1,\n         4,   5,   3,   2,   1,   2,  30,  10,   4,   2,   2,   1,   1,\n         6,   1,   5,   2,   1,   1,   3,   1,   2,  20,   5,   3,   1,\n         2,   1,   1,   2,   1,   1,  15,  10,   8,   7,   2,   5,   3,\n         2,   1,   2,   5,   4,   3,   1,   2,   1,   1,  53,  38,  18,\n        10,   2,   1,   1,   8,   7,   5,   1,   4,   2,   1,   1,   2,\n         1,   1,   2,   1,   1,   1,   8,   1,   7,   5,   1,   4,   2,\n         1,   1,  20,  12,   2,   1,   1,  10,   6,   3,   1,   2,   1,\n         1,   3,   2,   1,   4,   1,   3,   2,   1,   8,   1,   7,   5,\n         1,   4,   2,  15,  12,   7,   6,   1,   5,   2,   3,   1,   5,\n         2,   3,   3,   1,   2,   1,   1])"
     },
     "execution_count": 24,
     "metadata": {},
     "output_type": "execute_result"
    }
   ],
   "source": [
    "rf_model.estimators_[0].decision_path(data_block1).getnnz(0)"
   ],
   "metadata": {
    "collapsed": false,
    "pycharm": {
     "name": "#%%\n"
    }
   }
  },
  {
   "cell_type": "code",
   "execution_count": null,
   "outputs": [],
   "source": [],
   "metadata": {
    "collapsed": false,
    "pycharm": {
     "name": "#%%\n"
    }
   }
  },
  {
   "cell_type": "code",
   "execution_count": 7,
   "outputs": [
    {
     "data": {
      "text/plain": "array([100.,  47.,  17.,   6.,   5.,   2.,   3.,   1.,   2.,   1.,  11.,\n         4.,   1.,   3.,   7.,   6.,   4.,   2.,   1.,  30.,  13.,   4.,\n         1.,   3.,   1.,   2.,   9.,   2.,   7.,   3.,   2.,   1.,   4.,\n         1.,   3.,  17.,   6.,   4.,   1.,   3.,   1.,   2.,   2.,   1.,\n         1.,  11.,   6.,   5.,   4.,   1.,   3.,   1.,   2.,   1.,   1.,\n         5.,   4.,   2.,   1.,   1.,   2.,   1.,  53.,  39.,  20.,  13.,\n         3.,   2.,   1.,  10.,   9.,   7.,   1.,   6.,   3.,   1.,   2.,\n         3.,   1.,   2.,   2.,   1.,   1.,   1.,   7.,   1.,   6.,   2.,\n         1.,   1.,   4.,   3.,   1.,  19.,  12.,   2.,   1.,   1.,  10.,\n         6.,   4.,   1.,   3.,   1.,   2.,   2.,   1.,   1.,   4.,   2.,\n         2.,   1.,   1.,   7.,   1.,   6.,   4.,   2.,   2.,   2.,  14.,\n        11.,   8.,   6.,   1.,   5.,   1.,   4.,   2.,   3.,   2.,   1.,\n         3.,   1.,   2.,   1.,   1.])"
     },
     "execution_count": 7,
     "metadata": {},
     "output_type": "execute_result"
    }
   ],
   "source": [
    "tree.weighted_n_node_samples"
   ],
   "metadata": {
    "collapsed": false,
    "pycharm": {
     "name": "#%%\n"
    }
   }
  },
  {
   "cell_type": "markdown",
   "source": [
    "## 2. Testing block transformers"
   ],
   "metadata": {
    "collapsed": false
   }
  },
  {
   "cell_type": "code",
   "source": [
    "n = 100\n",
    "p1 = 5\n",
    "p2 = 7\n",
    "p3 = 1\n",
    "# data_block1 = np.random.randn(n, p1)\n",
    "# data_block2 = np.random.randn(n, p2)\n",
    "data_block1 = np.ones((n, p1)) + np.random.randn(n, p1)\n",
    "id_transformer = IdentityTransformer(p1)\n",
    "blocked_data = id_transformer.transform(data_block1)"
   ],
   "metadata": {
    "collapsed": false,
    "pycharm": {
     "name": "#%%\n"
    }
   },
   "execution_count": 2,
   "outputs": []
  },
  {
   "cell_type": "code",
   "execution_count": 6,
   "outputs": [
    {
     "data": {
      "text/plain": "array([[ 1.6219188 ,  0.97284691,  1.14803982,  1.08145469,  0.95946014],\n       [ 2.92452526,  0.97284691,  1.14803982,  1.08145469,  0.95946014],\n       [ 2.81472583,  0.97284691,  1.14803982,  1.08145469,  0.95946014],\n       [ 0.94636508,  0.97284691,  1.14803982,  1.08145469,  0.95946014],\n       [-0.51978534,  0.97284691,  1.14803982,  1.08145469,  0.95946014],\n       [ 0.89233908,  0.97284691,  1.14803982,  1.08145469,  0.95946014],\n       [ 1.76061846,  0.97284691,  1.14803982,  1.08145469,  0.95946014],\n       [ 0.89524016,  0.97284691,  1.14803982,  1.08145469,  0.95946014],\n       [ 1.00120013,  0.97284691,  1.14803982,  1.08145469,  0.95946014],\n       [ 2.21920765,  0.97284691,  1.14803982,  1.08145469,  0.95946014],\n       [ 1.42370828,  0.97284691,  1.14803982,  1.08145469,  0.95946014],\n       [-0.29063623,  0.97284691,  1.14803982,  1.08145469,  0.95946014],\n       [ 1.08470336,  0.97284691,  1.14803982,  1.08145469,  0.95946014],\n       [ 1.54916908,  0.97284691,  1.14803982,  1.08145469,  0.95946014],\n       [-0.63338872,  0.97284691,  1.14803982,  1.08145469,  0.95946014],\n       [ 1.54688771,  0.97284691,  1.14803982,  1.08145469,  0.95946014],\n       [ 0.82296721,  0.97284691,  1.14803982,  1.08145469,  0.95946014],\n       [-0.05723513,  0.97284691,  1.14803982,  1.08145469,  0.95946014],\n       [-0.6199283 ,  0.97284691,  1.14803982,  1.08145469,  0.95946014],\n       [-1.06472005,  0.97284691,  1.14803982,  1.08145469,  0.95946014],\n       [ 0.7727535 ,  0.97284691,  1.14803982,  1.08145469,  0.95946014],\n       [ 2.13192134,  0.97284691,  1.14803982,  1.08145469,  0.95946014],\n       [ 1.29221942,  0.97284691,  1.14803982,  1.08145469,  0.95946014],\n       [ 0.03228572,  0.97284691,  1.14803982,  1.08145469,  0.95946014],\n       [ 1.07126012,  0.97284691,  1.14803982,  1.08145469,  0.95946014],\n       [-0.73478552,  0.97284691,  1.14803982,  1.08145469,  0.95946014],\n       [ 1.94440908,  0.97284691,  1.14803982,  1.08145469,  0.95946014],\n       [ 3.40744699,  0.97284691,  1.14803982,  1.08145469,  0.95946014],\n       [ 2.35265102,  0.97284691,  1.14803982,  1.08145469,  0.95946014],\n       [ 0.88624367,  0.97284691,  1.14803982,  1.08145469,  0.95946014],\n       [ 0.99790128,  0.97284691,  1.14803982,  1.08145469,  0.95946014],\n       [ 0.15371996,  0.97284691,  1.14803982,  1.08145469,  0.95946014],\n       [-0.04780262,  0.97284691,  1.14803982,  1.08145469,  0.95946014],\n       [-0.35252784,  0.97284691,  1.14803982,  1.08145469,  0.95946014],\n       [ 0.32460131,  0.97284691,  1.14803982,  1.08145469,  0.95946014],\n       [ 1.25023431,  0.97284691,  1.14803982,  1.08145469,  0.95946014],\n       [ 1.15983894,  0.97284691,  1.14803982,  1.08145469,  0.95946014],\n       [ 0.54242391,  0.97284691,  1.14803982,  1.08145469,  0.95946014],\n       [ 1.42198285,  0.97284691,  1.14803982,  1.08145469,  0.95946014],\n       [ 2.13147481,  0.97284691,  1.14803982,  1.08145469,  0.95946014],\n       [ 0.87554247,  0.97284691,  1.14803982,  1.08145469,  0.95946014],\n       [ 1.0986142 ,  0.97284691,  1.14803982,  1.08145469,  0.95946014],\n       [-0.81219248,  0.97284691,  1.14803982,  1.08145469,  0.95946014],\n       [ 1.95784996,  0.97284691,  1.14803982,  1.08145469,  0.95946014],\n       [-1.68418502,  0.97284691,  1.14803982,  1.08145469,  0.95946014],\n       [ 2.00412872,  0.97284691,  1.14803982,  1.08145469,  0.95946014],\n       [ 1.928667  ,  0.97284691,  1.14803982,  1.08145469,  0.95946014],\n       [ 2.96392348,  0.97284691,  1.14803982,  1.08145469,  0.95946014],\n       [ 0.68127021,  0.97284691,  1.14803982,  1.08145469,  0.95946014],\n       [-0.767384  ,  0.97284691,  1.14803982,  1.08145469,  0.95946014],\n       [ 0.10123348,  0.97284691,  1.14803982,  1.08145469,  0.95946014],\n       [ 0.64887606,  0.97284691,  1.14803982,  1.08145469,  0.95946014],\n       [ 0.98660209,  0.97284691,  1.14803982,  1.08145469,  0.95946014],\n       [-0.66615387,  0.97284691,  1.14803982,  1.08145469,  0.95946014],\n       [ 0.04201208,  0.97284691,  1.14803982,  1.08145469,  0.95946014],\n       [ 1.86516482,  0.97284691,  1.14803982,  1.08145469,  0.95946014],\n       [ 1.80636273,  0.97284691,  1.14803982,  1.08145469,  0.95946014],\n       [ 2.58041345,  0.97284691,  1.14803982,  1.08145469,  0.95946014],\n       [-0.48112153,  0.97284691,  1.14803982,  1.08145469,  0.95946014],\n       [ 0.25240596,  0.97284691,  1.14803982,  1.08145469,  0.95946014],\n       [ 0.67408199,  0.97284691,  1.14803982,  1.08145469,  0.95946014],\n       [ 0.91395455,  0.97284691,  1.14803982,  1.08145469,  0.95946014],\n       [-0.94243293,  0.97284691,  1.14803982,  1.08145469,  0.95946014],\n       [ 0.7324819 ,  0.97284691,  1.14803982,  1.08145469,  0.95946014],\n       [ 1.78395692,  0.97284691,  1.14803982,  1.08145469,  0.95946014],\n       [ 2.09801491,  0.97284691,  1.14803982,  1.08145469,  0.95946014],\n       [-0.21544887,  0.97284691,  1.14803982,  1.08145469,  0.95946014],\n       [ 1.2196447 ,  0.97284691,  1.14803982,  1.08145469,  0.95946014],\n       [ 2.31552944,  0.97284691,  1.14803982,  1.08145469,  0.95946014],\n       [ 2.16066551,  0.97284691,  1.14803982,  1.08145469,  0.95946014],\n       [ 2.26663173,  0.97284691,  1.14803982,  1.08145469,  0.95946014],\n       [ 0.95798496,  0.97284691,  1.14803982,  1.08145469,  0.95946014],\n       [ 2.14112595,  0.97284691,  1.14803982,  1.08145469,  0.95946014],\n       [ 0.50702476,  0.97284691,  1.14803982,  1.08145469,  0.95946014],\n       [ 1.8223518 ,  0.97284691,  1.14803982,  1.08145469,  0.95946014],\n       [ 1.23762304,  0.97284691,  1.14803982,  1.08145469,  0.95946014],\n       [-0.6903651 ,  0.97284691,  1.14803982,  1.08145469,  0.95946014],\n       [ 1.4842955 ,  0.97284691,  1.14803982,  1.08145469,  0.95946014],\n       [ 0.07854966,  0.97284691,  1.14803982,  1.08145469,  0.95946014],\n       [ 2.20771191,  0.97284691,  1.14803982,  1.08145469,  0.95946014],\n       [ 2.46730461,  0.97284691,  1.14803982,  1.08145469,  0.95946014],\n       [ 2.7761962 ,  0.97284691,  1.14803982,  1.08145469,  0.95946014],\n       [-1.1117181 ,  0.97284691,  1.14803982,  1.08145469,  0.95946014],\n       [ 0.21125217,  0.97284691,  1.14803982,  1.08145469,  0.95946014],\n       [ 1.39567924,  0.97284691,  1.14803982,  1.08145469,  0.95946014],\n       [ 1.93003036,  0.97284691,  1.14803982,  1.08145469,  0.95946014],\n       [ 0.67239795,  0.97284691,  1.14803982,  1.08145469,  0.95946014],\n       [ 0.03634511,  0.97284691,  1.14803982,  1.08145469,  0.95946014],\n       [ 1.08579308,  0.97284691,  1.14803982,  1.08145469,  0.95946014],\n       [ 1.0178182 ,  0.97284691,  1.14803982,  1.08145469,  0.95946014],\n       [ 2.01091498,  0.97284691,  1.14803982,  1.08145469,  0.95946014],\n       [-0.78316797,  0.97284691,  1.14803982,  1.08145469,  0.95946014],\n       [ 0.46342688,  0.97284691,  1.14803982,  1.08145469,  0.95946014],\n       [ 0.48435988,  0.97284691,  1.14803982,  1.08145469,  0.95946014],\n       [ 0.1357135 ,  0.97284691,  1.14803982,  1.08145469,  0.95946014],\n       [ 1.07923804,  0.97284691,  1.14803982,  1.08145469,  0.95946014],\n       [ 1.18645559,  0.97284691,  1.14803982,  1.08145469,  0.95946014],\n       [ 1.27910396,  0.97284691,  1.14803982,  1.08145469,  0.95946014],\n       [ 0.71803167,  0.97284691,  1.14803982,  1.08145469,  0.95946014],\n       [ 0.69122885,  0.97284691,  1.14803982,  1.08145469,  0.95946014]])"
     },
     "execution_count": 6,
     "metadata": {},
     "output_type": "execute_result"
    }
   ],
   "source": [
    "blocked_data.get_modified_data(0)"
   ],
   "metadata": {
    "collapsed": false,
    "pycharm": {
     "name": "#%%\n"
    }
   }
  },
  {
   "cell_type": "code",
   "execution_count": 8,
   "outputs": [
    {
     "data": {
      "text/plain": "True"
     },
     "execution_count": 8,
     "metadata": {},
     "output_type": "execute_result"
    }
   ],
   "source": [
    "np.all(blocked_data.get_all_data() == data_block1)"
   ],
   "metadata": {
    "collapsed": false,
    "pycharm": {
     "name": "#%%\n"
    }
   }
  },
  {
   "cell_type": "code",
   "execution_count": 16,
   "outputs": [
    {
     "data": {
      "text/plain": "array([1., 1., 1., 1., 1.])"
     },
     "execution_count": 16,
     "metadata": {},
     "output_type": "execute_result"
    }
   ],
   "source": [
    "data = id_transformer.transform(data_block1, rescale=True).get_all_data()\n",
    "data.std(axis=0)"
   ],
   "metadata": {
    "collapsed": false,
    "pycharm": {
     "name": "#%%\n"
    }
   }
  },
  {
   "cell_type": "code",
   "execution_count": 23,
   "outputs": [
    {
     "data": {
      "text/plain": "array([[ 0.97145808,  0.97145808],\n       [ 1.05989336,  1.05989336],\n       [-0.13927433, -0.13927433],\n       [ 0.89047901,  0.89047901],\n       [ 1.36384863,  1.36384863],\n       [ 1.81174978,  1.81174978],\n       [-0.10637308, -0.10637308],\n       [ 1.86508573,  1.86508573],\n       [ 1.20759156,  1.20759156],\n       [ 2.28089708,  2.28089708],\n       [ 1.39909675,  1.39909675],\n       [-0.12859915, -0.12859915],\n       [ 1.44098019,  1.44098019],\n       [ 1.85729251,  1.85729251],\n       [ 1.49524595,  1.49524595],\n       [ 0.56307112,  0.56307112],\n       [-1.67644076, -1.67644076],\n       [ 3.21770753,  3.21770753],\n       [ 1.65936503,  1.65936503],\n       [ 2.38086379,  2.38086379],\n       [ 1.13624595,  1.13624595],\n       [ 0.20513627,  0.20513627],\n       [ 1.77113169,  1.77113169],\n       [ 1.14378989,  1.14378989],\n       [ 0.02631339,  0.02631339],\n       [ 0.51020795,  0.51020795],\n       [ 1.41125058,  1.41125058],\n       [ 3.04989549,  3.04989549],\n       [ 2.28281936,  2.28281936],\n       [ 0.70487708,  0.70487708],\n       [ 0.37929327,  0.37929327],\n       [ 3.38762177,  3.38762177],\n       [ 0.3479371 ,  0.3479371 ],\n       [ 2.27021108,  2.27021108],\n       [ 2.32743466,  2.32743466],\n       [ 1.58225223,  1.58225223],\n       [ 1.27737651,  1.27737651],\n       [ 1.18444482,  1.18444482],\n       [ 1.75821244,  1.75821244],\n       [ 1.34535634,  1.34535634],\n       [ 2.41270181,  2.41270181],\n       [-0.21950835, -0.21950835],\n       [ 0.73967916,  0.73967916],\n       [ 0.92204465,  0.92204465],\n       [ 2.65864447,  2.65864447],\n       [-0.03963304, -0.03963304],\n       [ 0.66302029,  0.66302029],\n       [ 1.50615163,  1.50615163],\n       [ 1.36679884,  1.36679884],\n       [ 0.53860327,  0.53860327],\n       [ 1.75297232,  1.75297232],\n       [ 0.94802738,  0.94802738],\n       [ 0.66652533,  0.66652533],\n       [-0.16190941, -0.16190941],\n       [ 1.28714339,  1.28714339],\n       [ 0.18902263,  0.18902263],\n       [ 0.30591612,  0.30591612],\n       [ 2.02875916,  2.02875916],\n       [ 0.90656468,  0.90656468],\n       [-0.24421556, -0.24421556],\n       [ 1.08993094,  1.08993094],\n       [ 2.87218511,  2.87218511],\n       [ 0.49333466,  0.49333466],\n       [ 1.33650731,  1.33650731],\n       [ 1.44957985,  1.44957985],\n       [ 1.54825565,  1.54825565],\n       [ 1.51342608,  1.51342608],\n       [ 0.51231287,  0.51231287],\n       [ 1.19849921,  1.19849921],\n       [ 1.65347917,  1.65347917],\n       [-0.25641836, -0.25641836],\n       [-0.21370855, -0.21370855],\n       [ 1.2083137 ,  1.2083137 ],\n       [ 1.90498391,  1.90498391],\n       [ 2.18108535,  2.18108535],\n       [ 0.69344681,  0.69344681],\n       [-0.40117023, -0.40117023],\n       [-0.25900391, -0.25900391],\n       [ 1.46925214,  1.46925214],\n       [ 2.43037079,  2.43037079],\n       [ 2.48359796,  2.48359796],\n       [ 1.45070081,  1.45070081],\n       [ 2.71087298,  2.71087298],\n       [ 0.75973354,  0.75973354],\n       [ 0.02142547,  0.02142547],\n       [ 1.44376189,  1.44376189],\n       [ 2.5441546 ,  2.5441546 ],\n       [ 3.2164383 ,  3.2164383 ],\n       [ 0.59041577,  0.59041577],\n       [ 1.39293393,  1.39293393],\n       [ 0.35795721,  0.35795721],\n       [-0.89816352, -0.89816352],\n       [ 0.30470873,  0.30470873],\n       [ 1.0325733 ,  1.0325733 ],\n       [ 1.02513428,  1.02513428],\n       [ 0.23362878,  0.23362878],\n       [-0.58604143, -0.58604143],\n       [ 2.18931382,  2.18931382],\n       [ 3.41551514,  3.41551514],\n       [ 0.30693988,  0.30693988]])"
     },
     "execution_count": 23,
     "metadata": {},
     "output_type": "execute_result"
    }
   ],
   "source": [
    "composite = CompositeTransformer([id_transformer, id_transformer], adj_std=\"max\")\n",
    "data = composite.transform(data_block1).get_block(2)\n",
    "data"
   ],
   "metadata": {
    "collapsed": false,
    "pycharm": {
     "name": "#%%\n"
    }
   }
  },
  {
   "cell_type": "markdown",
   "source": [
    "## 1. Testing block partitioned data"
   ],
   "metadata": {
    "collapsed": false,
    "pycharm": {
     "name": "#%% md\n"
    }
   }
  },
  {
   "cell_type": "code",
   "execution_count": 3,
   "outputs": [],
   "source": [
    "n = 100\n",
    "p1 = 5\n",
    "p2 = 7\n",
    "p3 = 1\n",
    "# data_block1 = np.random.randn(n, p1)\n",
    "# data_block2 = np.random.randn(n, p2)\n",
    "data_block1 = np.ones((n, p1)) + np.random.randn(n, p1)\n",
    "data_block2 = np.ones((n, p2)) * 2 + np.random.randn(n, p2)\n",
    "data_block3 = np.ones((n, p3)) * 3 + np.random.randn(n, p3)\n",
    "data_blocks = [data_block1, data_block2, data_block3]\n",
    "blocked_data = BlockPartitionedData(data_blocks)"
   ],
   "metadata": {
    "collapsed": false,
    "pycharm": {
     "name": "#%%\n"
    }
   }
  },
  {
   "cell_type": "code",
   "execution_count": 4,
   "outputs": [
    {
     "data": {
      "text/plain": "array([[ 2.28169397,  1.07445645,  0.34343945, ...,  0.84806761,\n         2.89905064,  1.19476034],\n       [-0.03749265,  2.08981242,  2.22264514, ...,  1.79143923,\n         2.00702395,  3.4788338 ],\n       [-0.51604933, -0.52687196,  0.66962039, ...,  3.48781738,\n         2.93676149,  2.9407791 ],\n       ...,\n       [ 0.04854499,  0.46283128,  0.40500174, ...,  1.29235355,\n         1.90683027,  2.4985751 ],\n       [ 1.27899668,  0.52405581,  0.28625703, ...,  2.40823346,\n         2.87838462,  1.11505443],\n       [ 2.73609826,  0.3404902 ,  1.42146683, ...,  1.98196607,\n         3.15719736,  4.33054791]])"
     },
     "execution_count": 4,
     "metadata": {},
     "output_type": "execute_result"
    }
   ],
   "source": [
    "blocked_data.get_all_data()"
   ],
   "metadata": {
    "collapsed": false,
    "pycharm": {
     "name": "#%%\n"
    }
   }
  },
  {
   "cell_type": "code",
   "execution_count": 7,
   "outputs": [
    {
     "data": {
      "text/plain": "array([[ 2.28169397,  1.07445645,  0.34343945, ...,  2.05453732,\n         1.91600772,  1.19476034],\n       [-0.03749265,  2.08981242,  2.22264514, ...,  2.05453732,\n         1.91600772,  3.4788338 ],\n       [-0.51604933, -0.52687196,  0.66962039, ...,  2.05453732,\n         1.91600772,  2.9407791 ],\n       ...,\n       [ 0.04854499,  0.46283128,  0.40500174, ...,  2.05453732,\n         1.91600772,  2.4985751 ],\n       [ 1.27899668,  0.52405581,  0.28625703, ...,  2.05453732,\n         1.91600772,  1.11505443],\n       [ 2.73609826,  0.3404902 ,  1.42146683, ...,  2.05453732,\n         1.91600772,  4.33054791]])"
     },
     "execution_count": 7,
     "metadata": {},
     "output_type": "execute_result"
    }
   ],
   "source": [
    "blocked_data.get_modified_data(1, mode=\"keep_rest\")"
   ],
   "metadata": {
    "collapsed": false,
    "pycharm": {
     "name": "#%%\n"
    }
   }
  }
 ],
 "metadata": {
  "kernelspec": {
   "display_name": "Python 3",
   "language": "python",
   "name": "python3"
  },
  "language_info": {
   "codemirror_mode": {
    "name": "ipython",
    "version": 2
   },
   "file_extension": ".py",
   "mimetype": "text/x-python",
   "name": "python",
   "nbconvert_exporter": "python",
   "pygments_lexer": "ipython2",
   "version": "2.7.6"
  }
 },
 "nbformat": 4,
 "nbformat_minor": 0
}